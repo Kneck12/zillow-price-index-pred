{
 "cells": [
  {
   "cell_type": "code",
   "execution_count": 1,
   "id": "4267f8ee",
   "metadata": {},
   "outputs": [],
   "source": [
    "import pandas as pd \n",
    "import numpy as np\n",
    "import matplotlib.pyplot as plt \n",
    "import seaborn as sns\n",
    "pd.set_option('display.max_rows', 50000)\n",
    "pd.set_option('display.max_columns', 500)"
   ]
  },
  {
   "cell_type": "code",
   "execution_count": 2,
   "id": "3fd48cbd",
   "metadata": {},
   "outputs": [
    {
     "ename": "FileNotFoundError",
     "evalue": "[Errno 2] No such file or directory: 'Locations_of_Docked_Bikeshare_Stations_by_System_and_Year.csv'",
     "output_type": "error",
     "traceback": [
      "\u001b[0;31m---------------------------------------------------------------------------\u001b[0m",
      "\u001b[0;31mFileNotFoundError\u001b[0m                         Traceback (most recent call last)",
      "\u001b[0;32m<ipython-input-2-5afccc0c5bc6>\u001b[0m in \u001b[0;36m<module>\u001b[0;34m\u001b[0m\n\u001b[0;32m----> 1\u001b[0;31m \u001b[0mbikes\u001b[0m \u001b[0;34m=\u001b[0m \u001b[0mpd\u001b[0m\u001b[0;34m.\u001b[0m\u001b[0mread_csv\u001b[0m\u001b[0;34m(\u001b[0m\u001b[0;34m'Locations_of_Docked_Bikeshare_Stations_by_System_and_Year.csv'\u001b[0m\u001b[0;34m)\u001b[0m\u001b[0;34m\u001b[0m\u001b[0;34m\u001b[0m\u001b[0m\n\u001b[0m",
      "\u001b[0;32m~/opt/anaconda3/lib/python3.8/site-packages/pandas/io/parsers.py\u001b[0m in \u001b[0;36mread_csv\u001b[0;34m(filepath_or_buffer, sep, delimiter, header, names, index_col, usecols, squeeze, prefix, mangle_dupe_cols, dtype, engine, converters, true_values, false_values, skipinitialspace, skiprows, skipfooter, nrows, na_values, keep_default_na, na_filter, verbose, skip_blank_lines, parse_dates, infer_datetime_format, keep_date_col, date_parser, dayfirst, cache_dates, iterator, chunksize, compression, thousands, decimal, lineterminator, quotechar, quoting, doublequote, escapechar, comment, encoding, dialect, error_bad_lines, warn_bad_lines, delim_whitespace, low_memory, memory_map, float_precision, storage_options)\u001b[0m\n\u001b[1;32m    608\u001b[0m     \u001b[0mkwds\u001b[0m\u001b[0;34m.\u001b[0m\u001b[0mupdate\u001b[0m\u001b[0;34m(\u001b[0m\u001b[0mkwds_defaults\u001b[0m\u001b[0;34m)\u001b[0m\u001b[0;34m\u001b[0m\u001b[0;34m\u001b[0m\u001b[0m\n\u001b[1;32m    609\u001b[0m \u001b[0;34m\u001b[0m\u001b[0m\n\u001b[0;32m--> 610\u001b[0;31m     \u001b[0;32mreturn\u001b[0m \u001b[0m_read\u001b[0m\u001b[0;34m(\u001b[0m\u001b[0mfilepath_or_buffer\u001b[0m\u001b[0;34m,\u001b[0m \u001b[0mkwds\u001b[0m\u001b[0;34m)\u001b[0m\u001b[0;34m\u001b[0m\u001b[0;34m\u001b[0m\u001b[0m\n\u001b[0m\u001b[1;32m    611\u001b[0m \u001b[0;34m\u001b[0m\u001b[0m\n\u001b[1;32m    612\u001b[0m \u001b[0;34m\u001b[0m\u001b[0m\n",
      "\u001b[0;32m~/opt/anaconda3/lib/python3.8/site-packages/pandas/io/parsers.py\u001b[0m in \u001b[0;36m_read\u001b[0;34m(filepath_or_buffer, kwds)\u001b[0m\n\u001b[1;32m    460\u001b[0m \u001b[0;34m\u001b[0m\u001b[0m\n\u001b[1;32m    461\u001b[0m     \u001b[0;31m# Create the parser.\u001b[0m\u001b[0;34m\u001b[0m\u001b[0;34m\u001b[0m\u001b[0;34m\u001b[0m\u001b[0m\n\u001b[0;32m--> 462\u001b[0;31m     \u001b[0mparser\u001b[0m \u001b[0;34m=\u001b[0m \u001b[0mTextFileReader\u001b[0m\u001b[0;34m(\u001b[0m\u001b[0mfilepath_or_buffer\u001b[0m\u001b[0;34m,\u001b[0m \u001b[0;34m**\u001b[0m\u001b[0mkwds\u001b[0m\u001b[0;34m)\u001b[0m\u001b[0;34m\u001b[0m\u001b[0;34m\u001b[0m\u001b[0m\n\u001b[0m\u001b[1;32m    463\u001b[0m \u001b[0;34m\u001b[0m\u001b[0m\n\u001b[1;32m    464\u001b[0m     \u001b[0;32mif\u001b[0m \u001b[0mchunksize\u001b[0m \u001b[0;32mor\u001b[0m \u001b[0miterator\u001b[0m\u001b[0;34m:\u001b[0m\u001b[0;34m\u001b[0m\u001b[0;34m\u001b[0m\u001b[0m\n",
      "\u001b[0;32m~/opt/anaconda3/lib/python3.8/site-packages/pandas/io/parsers.py\u001b[0m in \u001b[0;36m__init__\u001b[0;34m(self, f, engine, **kwds)\u001b[0m\n\u001b[1;32m    817\u001b[0m             \u001b[0mself\u001b[0m\u001b[0;34m.\u001b[0m\u001b[0moptions\u001b[0m\u001b[0;34m[\u001b[0m\u001b[0;34m\"has_index_names\"\u001b[0m\u001b[0;34m]\u001b[0m \u001b[0;34m=\u001b[0m \u001b[0mkwds\u001b[0m\u001b[0;34m[\u001b[0m\u001b[0;34m\"has_index_names\"\u001b[0m\u001b[0;34m]\u001b[0m\u001b[0;34m\u001b[0m\u001b[0;34m\u001b[0m\u001b[0m\n\u001b[1;32m    818\u001b[0m \u001b[0;34m\u001b[0m\u001b[0m\n\u001b[0;32m--> 819\u001b[0;31m         \u001b[0mself\u001b[0m\u001b[0;34m.\u001b[0m\u001b[0m_engine\u001b[0m \u001b[0;34m=\u001b[0m \u001b[0mself\u001b[0m\u001b[0;34m.\u001b[0m\u001b[0m_make_engine\u001b[0m\u001b[0;34m(\u001b[0m\u001b[0mself\u001b[0m\u001b[0;34m.\u001b[0m\u001b[0mengine\u001b[0m\u001b[0;34m)\u001b[0m\u001b[0;34m\u001b[0m\u001b[0;34m\u001b[0m\u001b[0m\n\u001b[0m\u001b[1;32m    820\u001b[0m \u001b[0;34m\u001b[0m\u001b[0m\n\u001b[1;32m    821\u001b[0m     \u001b[0;32mdef\u001b[0m \u001b[0mclose\u001b[0m\u001b[0;34m(\u001b[0m\u001b[0mself\u001b[0m\u001b[0;34m)\u001b[0m\u001b[0;34m:\u001b[0m\u001b[0;34m\u001b[0m\u001b[0;34m\u001b[0m\u001b[0m\n",
      "\u001b[0;32m~/opt/anaconda3/lib/python3.8/site-packages/pandas/io/parsers.py\u001b[0m in \u001b[0;36m_make_engine\u001b[0;34m(self, engine)\u001b[0m\n\u001b[1;32m   1048\u001b[0m             )\n\u001b[1;32m   1049\u001b[0m         \u001b[0;31m# error: Too many arguments for \"ParserBase\"\u001b[0m\u001b[0;34m\u001b[0m\u001b[0;34m\u001b[0m\u001b[0;34m\u001b[0m\u001b[0m\n\u001b[0;32m-> 1050\u001b[0;31m         \u001b[0;32mreturn\u001b[0m \u001b[0mmapping\u001b[0m\u001b[0;34m[\u001b[0m\u001b[0mengine\u001b[0m\u001b[0;34m]\u001b[0m\u001b[0;34m(\u001b[0m\u001b[0mself\u001b[0m\u001b[0;34m.\u001b[0m\u001b[0mf\u001b[0m\u001b[0;34m,\u001b[0m \u001b[0;34m**\u001b[0m\u001b[0mself\u001b[0m\u001b[0;34m.\u001b[0m\u001b[0moptions\u001b[0m\u001b[0;34m)\u001b[0m  \u001b[0;31m# type: ignore[call-arg]\u001b[0m\u001b[0;34m\u001b[0m\u001b[0;34m\u001b[0m\u001b[0m\n\u001b[0m\u001b[1;32m   1051\u001b[0m \u001b[0;34m\u001b[0m\u001b[0m\n\u001b[1;32m   1052\u001b[0m     \u001b[0;32mdef\u001b[0m \u001b[0m_failover_to_python\u001b[0m\u001b[0;34m(\u001b[0m\u001b[0mself\u001b[0m\u001b[0;34m)\u001b[0m\u001b[0;34m:\u001b[0m\u001b[0;34m\u001b[0m\u001b[0;34m\u001b[0m\u001b[0m\n",
      "\u001b[0;32m~/opt/anaconda3/lib/python3.8/site-packages/pandas/io/parsers.py\u001b[0m in \u001b[0;36m__init__\u001b[0;34m(self, src, **kwds)\u001b[0m\n\u001b[1;32m   1865\u001b[0m \u001b[0;34m\u001b[0m\u001b[0m\n\u001b[1;32m   1866\u001b[0m         \u001b[0;31m# open handles\u001b[0m\u001b[0;34m\u001b[0m\u001b[0;34m\u001b[0m\u001b[0;34m\u001b[0m\u001b[0m\n\u001b[0;32m-> 1867\u001b[0;31m         \u001b[0mself\u001b[0m\u001b[0;34m.\u001b[0m\u001b[0m_open_handles\u001b[0m\u001b[0;34m(\u001b[0m\u001b[0msrc\u001b[0m\u001b[0;34m,\u001b[0m \u001b[0mkwds\u001b[0m\u001b[0;34m)\u001b[0m\u001b[0;34m\u001b[0m\u001b[0;34m\u001b[0m\u001b[0m\n\u001b[0m\u001b[1;32m   1868\u001b[0m         \u001b[0;32massert\u001b[0m \u001b[0mself\u001b[0m\u001b[0;34m.\u001b[0m\u001b[0mhandles\u001b[0m \u001b[0;32mis\u001b[0m \u001b[0;32mnot\u001b[0m \u001b[0;32mNone\u001b[0m\u001b[0;34m\u001b[0m\u001b[0;34m\u001b[0m\u001b[0m\n\u001b[1;32m   1869\u001b[0m         \u001b[0;32mfor\u001b[0m \u001b[0mkey\u001b[0m \u001b[0;32min\u001b[0m \u001b[0;34m(\u001b[0m\u001b[0;34m\"storage_options\"\u001b[0m\u001b[0;34m,\u001b[0m \u001b[0;34m\"encoding\"\u001b[0m\u001b[0;34m,\u001b[0m \u001b[0;34m\"memory_map\"\u001b[0m\u001b[0;34m,\u001b[0m \u001b[0;34m\"compression\"\u001b[0m\u001b[0;34m)\u001b[0m\u001b[0;34m:\u001b[0m\u001b[0;34m\u001b[0m\u001b[0;34m\u001b[0m\u001b[0m\n",
      "\u001b[0;32m~/opt/anaconda3/lib/python3.8/site-packages/pandas/io/parsers.py\u001b[0m in \u001b[0;36m_open_handles\u001b[0;34m(self, src, kwds)\u001b[0m\n\u001b[1;32m   1360\u001b[0m         \u001b[0mLet\u001b[0m \u001b[0mthe\u001b[0m \u001b[0mreaders\u001b[0m \u001b[0mopen\u001b[0m \u001b[0mIOHanldes\u001b[0m \u001b[0mafter\u001b[0m \u001b[0mthey\u001b[0m \u001b[0mare\u001b[0m \u001b[0mdone\u001b[0m \u001b[0;32mwith\u001b[0m \u001b[0mtheir\u001b[0m \u001b[0mpotential\u001b[0m \u001b[0mraises\u001b[0m\u001b[0;34m.\u001b[0m\u001b[0;34m\u001b[0m\u001b[0;34m\u001b[0m\u001b[0m\n\u001b[1;32m   1361\u001b[0m         \"\"\"\n\u001b[0;32m-> 1362\u001b[0;31m         self.handles = get_handle(\n\u001b[0m\u001b[1;32m   1363\u001b[0m             \u001b[0msrc\u001b[0m\u001b[0;34m,\u001b[0m\u001b[0;34m\u001b[0m\u001b[0;34m\u001b[0m\u001b[0m\n\u001b[1;32m   1364\u001b[0m             \u001b[0;34m\"r\"\u001b[0m\u001b[0;34m,\u001b[0m\u001b[0;34m\u001b[0m\u001b[0;34m\u001b[0m\u001b[0m\n",
      "\u001b[0;32m~/opt/anaconda3/lib/python3.8/site-packages/pandas/io/common.py\u001b[0m in \u001b[0;36mget_handle\u001b[0;34m(path_or_buf, mode, encoding, compression, memory_map, is_text, errors, storage_options)\u001b[0m\n\u001b[1;32m    640\u001b[0m                 \u001b[0merrors\u001b[0m \u001b[0;34m=\u001b[0m \u001b[0;34m\"replace\"\u001b[0m\u001b[0;34m\u001b[0m\u001b[0;34m\u001b[0m\u001b[0m\n\u001b[1;32m    641\u001b[0m             \u001b[0;31m# Encoding\u001b[0m\u001b[0;34m\u001b[0m\u001b[0;34m\u001b[0m\u001b[0;34m\u001b[0m\u001b[0m\n\u001b[0;32m--> 642\u001b[0;31m             handle = open(\n\u001b[0m\u001b[1;32m    643\u001b[0m                 \u001b[0mhandle\u001b[0m\u001b[0;34m,\u001b[0m\u001b[0;34m\u001b[0m\u001b[0;34m\u001b[0m\u001b[0m\n\u001b[1;32m    644\u001b[0m                 \u001b[0mioargs\u001b[0m\u001b[0;34m.\u001b[0m\u001b[0mmode\u001b[0m\u001b[0;34m,\u001b[0m\u001b[0;34m\u001b[0m\u001b[0;34m\u001b[0m\u001b[0m\n",
      "\u001b[0;31mFileNotFoundError\u001b[0m: [Errno 2] No such file or directory: 'Locations_of_Docked_Bikeshare_Stations_by_System_and_Year.csv'"
     ]
    }
   ],
   "source": [
    "bikes = pd.read_csv('Locations_of_Docked_Bikeshare_Stations_by_System_and_Year.csv')"
   ]
  },
  {
   "cell_type": "code",
   "execution_count": 3,
   "id": "3109d42f",
   "metadata": {},
   "outputs": [],
   "source": [
    "bikes.columns = ['the_geom', 'id', 'fac_id', 'bike_id', 'system_id', 'system_name',\n",
    "       'year', 'asofdate', 'fac_name', 'address', 'city', 'state', 'zipcode',\n",
    "       'cbsa_code', 'longitude', 'latitude']"
   ]
  },
  {
   "cell_type": "code",
   "execution_count": 4,
   "id": "6f2a29f5",
   "metadata": {},
   "outputs": [
    {
     "data": {
      "text/plain": [
       "array([2015, 2016, 2017, 2018, 2019, 2021, 2020])"
      ]
     },
     "execution_count": 4,
     "metadata": {},
     "output_type": "execute_result"
    }
   ],
   "source": [
    "bikes['year'].unique()"
   ]
  },
  {
   "cell_type": "code",
   "execution_count": 5,
   "id": "770b15bd",
   "metadata": {},
   "outputs": [],
   "source": [
    "bikes = bikes[bikes['year']<2020]"
   ]
  },
  {
   "cell_type": "code",
   "execution_count": 6,
   "id": "f065f714",
   "metadata": {},
   "outputs": [
    {
     "data": {
      "text/plain": [
       "array(['NY', 'MN', 'AZ', 'DC', 'IL', 'NJ', 'KS', 'OK', 'WI', 'MD', 'OH',\n",
       "       'FL', 'NE', 'CA', 'OR', 'IN', 'CO', 'TN', 'VA', 'LA', 'GA', 'HI',\n",
       "       'MI', 'TX', 'MA', 'ID', 'NC', 'MO', 'PA', 'IA', 'CT', 'WA', 'VT',\n",
       "       '55411', 'AL', 'SC', 'ND', 'KY', 'NV', 'NM', 'NH', 'UT', 'SD',\n",
       "       '55407', '55416', '55401', 'WY', '55413', '55405', 'AR', '55404',\n",
       "       '55402', '60622', '60201', '60611', '60614', '60612', '60626',\n",
       "       '60621', '60654', '60644', '60637', '60630', '60636', '60609',\n",
       "       '60618', '60647', '60649', '60202', '60617', '60606', '60661',\n",
       "       '60625', '60657'], dtype=object)"
      ]
     },
     "execution_count": 6,
     "metadata": {},
     "output_type": "execute_result"
    }
   ],
   "source": [
    "bikes['state'].unique()"
   ]
  },
  {
   "cell_type": "code",
   "execution_count": 7,
   "id": "f7432fdd",
   "metadata": {},
   "outputs": [
    {
     "data": {
      "text/plain": [
       "array(['NY', 'MN', 'AZ', 'DC', 'IL', 'NJ', 'KS', 'OK', 'WI', 'MD', 'OH',\n",
       "       'FL', 'NE', 'CA', 'OR', 'IN', 'CO', 'TN', 'VA', 'LA', 'HI', 'MI',\n",
       "       'MA', 'ID', 'NC', 'MO', 'PA', 'GA', 'TX', 'IA', 'CT', 'WA', 'VT',\n",
       "       'AL', 'SC', 'ND', 'KY', 'NV', 'NM', 'NH', 'UT', 'SD', 'WY', 'AR'],\n",
       "      dtype=object)"
      ]
     },
     "execution_count": 7,
     "metadata": {},
     "output_type": "execute_result"
    }
   ],
   "source": [
    "bikes[bikes['year']<2019]['state'].unique()"
   ]
  },
  {
   "cell_type": "code",
   "execution_count": 8,
   "id": "0a735425",
   "metadata": {},
   "outputs": [
    {
     "data": {
      "text/plain": [
       "array(['NJ', 'NY', 'FL', 'KS', 'AZ', 'CA', 'GA', 'TN', 'VA', 'DC', 'IL',\n",
       "       'LA', 'TX', 'MN', 'OH', 'MA', 'PA', 'ID', 'MO', 'IN', 'CO', 'WI',\n",
       "       '55411', 'NE', 'NC', 'UT', 'OK', 'MI', 'IA', '55407', 'ND', 'SC',\n",
       "       '55416', '55401', 'MD', '55413', '55405', '55404', '55402', 'HI',\n",
       "       'OR', 'NH', 'KY', 'WY', 'CT', 'NV', '60622', 'AL', 'VT', '60201',\n",
       "       '60611', '60614', '60612', '60626', '60621', 'AR', '60654',\n",
       "       '60644', '60637', '60630', '60636', '60609', '60618', '60647',\n",
       "       '60649', '60202', '60617', '60606', '60661', '60625', '60657'],\n",
       "      dtype=object)"
      ]
     },
     "execution_count": 8,
     "metadata": {},
     "output_type": "execute_result"
    }
   ],
   "source": [
    "bikes[bikes['year']==2019]['state'].unique()"
   ]
  },
  {
   "cell_type": "code",
   "execution_count": 9,
   "id": "ac44c1ed",
   "metadata": {},
   "outputs": [
    {
     "name": "stdout",
     "output_type": "stream",
     "text": [
      "<class 'pandas.core.frame.DataFrame'>\n",
      "Int64Index: 28173 entries, 0 to 41861\n",
      "Data columns (total 16 columns):\n",
      " #   Column       Non-Null Count  Dtype  \n",
      "---  ------       --------------  -----  \n",
      " 0   the_geom     28173 non-null  object \n",
      " 1   id           28173 non-null  int64  \n",
      " 2   fac_id       28173 non-null  object \n",
      " 3   bike_id      28167 non-null  object \n",
      " 4   system_id    28173 non-null  int64  \n",
      " 5   system_name  28077 non-null  object \n",
      " 6   year         28173 non-null  int64  \n",
      " 7   asofdate     28173 non-null  int64  \n",
      " 8   fac_name     22255 non-null  object \n",
      " 9   address      24019 non-null  object \n",
      " 10  city         28173 non-null  object \n",
      " 11  state        28173 non-null  object \n",
      " 12  zipcode      28173 non-null  int64  \n",
      " 13  cbsa_code    28173 non-null  int64  \n",
      " 14  longitude    28173 non-null  float64\n",
      " 15  latitude     28173 non-null  float64\n",
      "dtypes: float64(2), int64(6), object(8)\n",
      "memory usage: 3.7+ MB\n"
     ]
    }
   ],
   "source": [
    "bikes.info()"
   ]
  },
  {
   "cell_type": "code",
   "execution_count": 10,
   "id": "e2f285fa",
   "metadata": {},
   "outputs": [],
   "source": [
    "#bike id --> unique per station\n",
    "#system id --> unique per docked bike sharing system (company)"
   ]
  },
  {
   "cell_type": "code",
   "execution_count": 11,
   "id": "dabca59c",
   "metadata": {},
   "outputs": [
    {
     "data": {
      "text/html": [
       "<div>\n",
       "<style scoped>\n",
       "    .dataframe tbody tr th:only-of-type {\n",
       "        vertical-align: middle;\n",
       "    }\n",
       "\n",
       "    .dataframe tbody tr th {\n",
       "        vertical-align: top;\n",
       "    }\n",
       "\n",
       "    .dataframe thead th {\n",
       "        text-align: right;\n",
       "    }\n",
       "</style>\n",
       "<table border=\"1\" class=\"dataframe\">\n",
       "  <thead>\n",
       "    <tr style=\"text-align: right;\">\n",
       "      <th></th>\n",
       "      <th>the_geom</th>\n",
       "      <th>id</th>\n",
       "      <th>fac_id</th>\n",
       "      <th>bike_id</th>\n",
       "      <th>system_id</th>\n",
       "      <th>system_name</th>\n",
       "      <th>year</th>\n",
       "      <th>asofdate</th>\n",
       "      <th>fac_name</th>\n",
       "      <th>address</th>\n",
       "      <th>city</th>\n",
       "      <th>state</th>\n",
       "      <th>zipcode</th>\n",
       "      <th>cbsa_code</th>\n",
       "      <th>longitude</th>\n",
       "      <th>latitude</th>\n",
       "    </tr>\n",
       "  </thead>\n",
       "  <tbody>\n",
       "    <tr>\n",
       "      <th>324</th>\n",
       "      <td>POINT (-93.2922412 44.9875433)</td>\n",
       "      <td>23596</td>\n",
       "      <td>MN5541116</td>\n",
       "      <td>30232</td>\n",
       "      <td>25</td>\n",
       "      <td>Nice Ride Minnesota (became partially dockless...</td>\n",
       "      <td>2019</td>\n",
       "      <td>201912</td>\n",
       "      <td>Sumner Field Park</td>\n",
       "      <td>Minneapolis</td>\n",
       "      <td>MN</td>\n",
       "      <td>55411</td>\n",
       "      <td>0</td>\n",
       "      <td>33460</td>\n",
       "      <td>-93.292241</td>\n",
       "      <td>44.987543</td>\n",
       "    </tr>\n",
       "    <tr>\n",
       "      <th>1572</th>\n",
       "      <td>POINT (-93.254553 44.941558)</td>\n",
       "      <td>23583</td>\n",
       "      <td>MN5540705</td>\n",
       "      <td>30219</td>\n",
       "      <td>25</td>\n",
       "      <td>Nice Ride Minnesota (became partially dockless...</td>\n",
       "      <td>2019</td>\n",
       "      <td>201912</td>\n",
       "      <td>Powderhorn Park Recreation Center</td>\n",
       "      <td>Minneapolis</td>\n",
       "      <td>MN</td>\n",
       "      <td>55407</td>\n",
       "      <td>0</td>\n",
       "      <td>33460</td>\n",
       "      <td>-93.254553</td>\n",
       "      <td>44.941558</td>\n",
       "    </tr>\n",
       "    <tr>\n",
       "      <th>2953</th>\n",
       "      <td>POINT (-93.3081972 44.9514448)</td>\n",
       "      <td>23579</td>\n",
       "      <td>MN5541604</td>\n",
       "      <td>30215</td>\n",
       "      <td>25</td>\n",
       "      <td>Nice Ride Minnesota (became partially dockless...</td>\n",
       "      <td>2019</td>\n",
       "      <td>201912</td>\n",
       "      <td>Lake of the Isles Park</td>\n",
       "      <td>Minneapolis</td>\n",
       "      <td>MN</td>\n",
       "      <td>55416</td>\n",
       "      <td>0</td>\n",
       "      <td>33460</td>\n",
       "      <td>-93.308197</td>\n",
       "      <td>44.951445</td>\n",
       "    </tr>\n",
       "  </tbody>\n",
       "</table>\n",
       "</div>"
      ],
      "text/plain": [
       "                            the_geom     id     fac_id bike_id  system_id  \\\n",
       "324   POINT (-93.2922412 44.9875433)  23596  MN5541116   30232         25   \n",
       "1572    POINT (-93.254553 44.941558)  23583  MN5540705   30219         25   \n",
       "2953  POINT (-93.3081972 44.9514448)  23579  MN5541604   30215         25   \n",
       "\n",
       "                                            system_name  year  asofdate  \\\n",
       "324   Nice Ride Minnesota (became partially dockless...  2019    201912   \n",
       "1572  Nice Ride Minnesota (became partially dockless...  2019    201912   \n",
       "2953  Nice Ride Minnesota (became partially dockless...  2019    201912   \n",
       "\n",
       "                               fac_name      address city  state  zipcode  \\\n",
       "324                   Sumner Field Park  Minneapolis   MN  55411        0   \n",
       "1572  Powderhorn Park Recreation Center  Minneapolis   MN  55407        0   \n",
       "2953             Lake of the Isles Park  Minneapolis   MN  55416        0   \n",
       "\n",
       "      cbsa_code  longitude   latitude  \n",
       "324       33460 -93.292241  44.987543  \n",
       "1572      33460 -93.254553  44.941558  \n",
       "2953      33460 -93.308197  44.951445  "
      ]
     },
     "execution_count": 11,
     "metadata": {},
     "output_type": "execute_result"
    }
   ],
   "source": [
    "bikes[bikes['state'].map(lambda x: len(x)>2)].head(3)\n"
   ]
  },
  {
   "cell_type": "code",
   "execution_count": 12,
   "id": "cc893791",
   "metadata": {},
   "outputs": [
    {
     "data": {
      "text/plain": [
       "0"
      ]
     },
     "execution_count": 12,
     "metadata": {},
     "output_type": "execute_result"
    }
   ],
   "source": [
    "bikes['zipcode'].isna().sum()"
   ]
  },
  {
   "cell_type": "code",
   "execution_count": 13,
   "id": "a710a0db",
   "metadata": {},
   "outputs": [],
   "source": [
    "bikes1 = bikes[bikes['zipcode']!=0]"
   ]
  },
  {
   "cell_type": "code",
   "execution_count": 14,
   "id": "c30f38e0",
   "metadata": {},
   "outputs": [],
   "source": [
    "bikes2 = bikes[bikes['zipcode']==0]"
   ]
  },
  {
   "cell_type": "code",
   "execution_count": 15,
   "id": "13aed08b",
   "metadata": {},
   "outputs": [],
   "source": [
    "bikes2.columns = ['the_geom', 'id', 'fac_id', 'bike_id', 'system_id', 'system_name',\n",
    "       'year', 'asofdate', 'fac_name', 'city', 'state', 'zipcode','to_delete',\n",
    "       'cbsa_code', 'longitude', 'latitude']"
   ]
  },
  {
   "cell_type": "code",
   "execution_count": 16,
   "id": "ee2fdc04",
   "metadata": {},
   "outputs": [
    {
     "data": {
      "text/html": [
       "<div>\n",
       "<style scoped>\n",
       "    .dataframe tbody tr th:only-of-type {\n",
       "        vertical-align: middle;\n",
       "    }\n",
       "\n",
       "    .dataframe tbody tr th {\n",
       "        vertical-align: top;\n",
       "    }\n",
       "\n",
       "    .dataframe thead th {\n",
       "        text-align: right;\n",
       "    }\n",
       "</style>\n",
       "<table border=\"1\" class=\"dataframe\">\n",
       "  <thead>\n",
       "    <tr style=\"text-align: right;\">\n",
       "      <th></th>\n",
       "      <th>the_geom</th>\n",
       "      <th>id</th>\n",
       "      <th>fac_id</th>\n",
       "      <th>bike_id</th>\n",
       "      <th>system_id</th>\n",
       "      <th>system_name</th>\n",
       "      <th>year</th>\n",
       "      <th>asofdate</th>\n",
       "      <th>fac_name</th>\n",
       "      <th>city</th>\n",
       "      <th>state</th>\n",
       "      <th>zipcode</th>\n",
       "      <th>to_delete</th>\n",
       "      <th>cbsa_code</th>\n",
       "      <th>longitude</th>\n",
       "      <th>latitude</th>\n",
       "    </tr>\n",
       "  </thead>\n",
       "  <tbody>\n",
       "    <tr>\n",
       "      <th>324</th>\n",
       "      <td>POINT (-93.2922412 44.9875433)</td>\n",
       "      <td>23596</td>\n",
       "      <td>MN5541116</td>\n",
       "      <td>30232</td>\n",
       "      <td>25</td>\n",
       "      <td>Nice Ride Minnesota (became partially dockless...</td>\n",
       "      <td>2019</td>\n",
       "      <td>201912</td>\n",
       "      <td>Sumner Field Park</td>\n",
       "      <td>Minneapolis</td>\n",
       "      <td>MN</td>\n",
       "      <td>55411</td>\n",
       "      <td>0</td>\n",
       "      <td>33460</td>\n",
       "      <td>-93.292241</td>\n",
       "      <td>44.987543</td>\n",
       "    </tr>\n",
       "  </tbody>\n",
       "</table>\n",
       "</div>"
      ],
      "text/plain": [
       "                           the_geom     id     fac_id bike_id  system_id  \\\n",
       "324  POINT (-93.2922412 44.9875433)  23596  MN5541116   30232         25   \n",
       "\n",
       "                                           system_name  year  asofdate  \\\n",
       "324  Nice Ride Minnesota (became partially dockless...  2019    201912   \n",
       "\n",
       "              fac_name         city state zipcode  to_delete  cbsa_code  \\\n",
       "324  Sumner Field Park  Minneapolis    MN   55411          0      33460   \n",
       "\n",
       "     longitude   latitude  \n",
       "324 -93.292241  44.987543  "
      ]
     },
     "execution_count": 16,
     "metadata": {},
     "output_type": "execute_result"
    }
   ],
   "source": [
    "bikes2.head(1)"
   ]
  },
  {
   "cell_type": "code",
   "execution_count": 17,
   "id": "41881910",
   "metadata": {},
   "outputs": [
    {
     "data": {
      "text/plain": [
       "(58, 15)"
      ]
     },
     "execution_count": 17,
     "metadata": {},
     "output_type": "execute_result"
    }
   ],
   "source": [
    "bikes2.drop('to_delete',axis=1).shape"
   ]
  },
  {
   "cell_type": "code",
   "execution_count": 18,
   "id": "213bb063",
   "metadata": {},
   "outputs": [
    {
     "data": {
      "text/plain": [
       "(28115, 15)"
      ]
     },
     "execution_count": 18,
     "metadata": {},
     "output_type": "execute_result"
    }
   ],
   "source": [
    "bikes1.drop('address',axis=1).shape"
   ]
  },
  {
   "cell_type": "code",
   "execution_count": 19,
   "id": "3aa76255",
   "metadata": {},
   "outputs": [],
   "source": [
    "bikes2 = bikes2.drop('to_delete',axis=1)\n",
    "bikes1 = bikes1.drop('address',axis=1)"
   ]
  },
  {
   "cell_type": "code",
   "execution_count": 20,
   "id": "70a64f33",
   "metadata": {},
   "outputs": [],
   "source": [
    "bikes_clean = pd.concat([bikes1,bikes2],axis=0)"
   ]
  },
  {
   "cell_type": "code",
   "execution_count": 21,
   "id": "3eecc0ed",
   "metadata": {},
   "outputs": [
    {
     "data": {
      "text/html": [
       "<div>\n",
       "<style scoped>\n",
       "    .dataframe tbody tr th:only-of-type {\n",
       "        vertical-align: middle;\n",
       "    }\n",
       "\n",
       "    .dataframe tbody tr th {\n",
       "        vertical-align: top;\n",
       "    }\n",
       "\n",
       "    .dataframe thead th {\n",
       "        text-align: right;\n",
       "    }\n",
       "</style>\n",
       "<table border=\"1\" class=\"dataframe\">\n",
       "  <thead>\n",
       "    <tr style=\"text-align: right;\">\n",
       "      <th></th>\n",
       "      <th>zipcode</th>\n",
       "    </tr>\n",
       "    <tr>\n",
       "      <th>state</th>\n",
       "      <th></th>\n",
       "    </tr>\n",
       "  </thead>\n",
       "  <tbody>\n",
       "    <tr>\n",
       "      <th>NY</th>\n",
       "      <td>3921</td>\n",
       "    </tr>\n",
       "    <tr>\n",
       "      <th>CA</th>\n",
       "      <td>3030</td>\n",
       "    </tr>\n",
       "    <tr>\n",
       "      <th>IL</th>\n",
       "      <td>2904</td>\n",
       "    </tr>\n",
       "    <tr>\n",
       "      <th>FL</th>\n",
       "      <td>1501</td>\n",
       "    </tr>\n",
       "    <tr>\n",
       "      <th>DC</th>\n",
       "      <td>1313</td>\n",
       "    </tr>\n",
       "    <tr>\n",
       "      <th>TX</th>\n",
       "      <td>1281</td>\n",
       "    </tr>\n",
       "    <tr>\n",
       "      <th>MA</th>\n",
       "      <td>1269</td>\n",
       "    </tr>\n",
       "    <tr>\n",
       "      <th>PA</th>\n",
       "      <td>978</td>\n",
       "    </tr>\n",
       "    <tr>\n",
       "      <th>KS</th>\n",
       "      <td>930</td>\n",
       "    </tr>\n",
       "    <tr>\n",
       "      <th>CO</th>\n",
       "      <td>922</td>\n",
       "    </tr>\n",
       "    <tr>\n",
       "      <th>MN</th>\n",
       "      <td>915</td>\n",
       "    </tr>\n",
       "    <tr>\n",
       "      <th>VA</th>\n",
       "      <td>869</td>\n",
       "    </tr>\n",
       "    <tr>\n",
       "      <th>OH</th>\n",
       "      <td>785</td>\n",
       "    </tr>\n",
       "    <tr>\n",
       "      <th>OR</th>\n",
       "      <td>712</td>\n",
       "    </tr>\n",
       "    <tr>\n",
       "      <th>AZ</th>\n",
       "      <td>603</td>\n",
       "    </tr>\n",
       "    <tr>\n",
       "      <th>ID</th>\n",
       "      <td>552</td>\n",
       "    </tr>\n",
       "    <tr>\n",
       "      <th>WI</th>\n",
       "      <td>546</td>\n",
       "    </tr>\n",
       "    <tr>\n",
       "      <th>MD</th>\n",
       "      <td>540</td>\n",
       "    </tr>\n",
       "    <tr>\n",
       "      <th>NJ</th>\n",
       "      <td>502</td>\n",
       "    </tr>\n",
       "    <tr>\n",
       "      <th>TN</th>\n",
       "      <td>493</td>\n",
       "    </tr>\n",
       "    <tr>\n",
       "      <th>GA</th>\n",
       "      <td>482</td>\n",
       "    </tr>\n",
       "    <tr>\n",
       "      <th>HI</th>\n",
       "      <td>371</td>\n",
       "    </tr>\n",
       "    <tr>\n",
       "      <th>LA</th>\n",
       "      <td>261</td>\n",
       "    </tr>\n",
       "    <tr>\n",
       "      <th>MI</th>\n",
       "      <td>256</td>\n",
       "    </tr>\n",
       "    <tr>\n",
       "      <th>NE</th>\n",
       "      <td>256</td>\n",
       "    </tr>\n",
       "    <tr>\n",
       "      <th>IN</th>\n",
       "      <td>249</td>\n",
       "    </tr>\n",
       "    <tr>\n",
       "      <th>NC</th>\n",
       "      <td>195</td>\n",
       "    </tr>\n",
       "    <tr>\n",
       "      <th>MO</th>\n",
       "      <td>187</td>\n",
       "    </tr>\n",
       "    <tr>\n",
       "      <th>AL</th>\n",
       "      <td>178</td>\n",
       "    </tr>\n",
       "    <tr>\n",
       "      <th>SC</th>\n",
       "      <td>163</td>\n",
       "    </tr>\n",
       "    <tr>\n",
       "      <th>KY</th>\n",
       "      <td>154</td>\n",
       "    </tr>\n",
       "    <tr>\n",
       "      <th>UT</th>\n",
       "      <td>153</td>\n",
       "    </tr>\n",
       "    <tr>\n",
       "      <th>OK</th>\n",
       "      <td>126</td>\n",
       "    </tr>\n",
       "    <tr>\n",
       "      <th>IA</th>\n",
       "      <td>106</td>\n",
       "    </tr>\n",
       "    <tr>\n",
       "      <th>WA</th>\n",
       "      <td>98</td>\n",
       "    </tr>\n",
       "    <tr>\n",
       "      <th>NV</th>\n",
       "      <td>84</td>\n",
       "    </tr>\n",
       "    <tr>\n",
       "      <th>CT</th>\n",
       "      <td>60</td>\n",
       "    </tr>\n",
       "    <tr>\n",
       "      <th>ND</th>\n",
       "      <td>55</td>\n",
       "    </tr>\n",
       "    <tr>\n",
       "      <th>NH</th>\n",
       "      <td>50</td>\n",
       "    </tr>\n",
       "    <tr>\n",
       "      <th>NM</th>\n",
       "      <td>45</td>\n",
       "    </tr>\n",
       "    <tr>\n",
       "      <th>WY</th>\n",
       "      <td>34</td>\n",
       "    </tr>\n",
       "    <tr>\n",
       "      <th>VT</th>\n",
       "      <td>32</td>\n",
       "    </tr>\n",
       "    <tr>\n",
       "      <th>SD</th>\n",
       "      <td>8</td>\n",
       "    </tr>\n",
       "    <tr>\n",
       "      <th>AR</th>\n",
       "      <td>4</td>\n",
       "    </tr>\n",
       "  </tbody>\n",
       "</table>\n",
       "</div>"
      ],
      "text/plain": [
       "       zipcode\n",
       "state         \n",
       "NY        3921\n",
       "CA        3030\n",
       "IL        2904\n",
       "FL        1501\n",
       "DC        1313\n",
       "TX        1281\n",
       "MA        1269\n",
       "PA         978\n",
       "KS         930\n",
       "CO         922\n",
       "MN         915\n",
       "VA         869\n",
       "OH         785\n",
       "OR         712\n",
       "AZ         603\n",
       "ID         552\n",
       "WI         546\n",
       "MD         540\n",
       "NJ         502\n",
       "TN         493\n",
       "GA         482\n",
       "HI         371\n",
       "LA         261\n",
       "MI         256\n",
       "NE         256\n",
       "IN         249\n",
       "NC         195\n",
       "MO         187\n",
       "AL         178\n",
       "SC         163\n",
       "KY         154\n",
       "UT         153\n",
       "OK         126\n",
       "IA         106\n",
       "WA          98\n",
       "NV          84\n",
       "CT          60\n",
       "ND          55\n",
       "NH          50\n",
       "NM          45\n",
       "WY          34\n",
       "VT          32\n",
       "SD           8\n",
       "AR           4"
      ]
     },
     "execution_count": 21,
     "metadata": {},
     "output_type": "execute_result"
    }
   ],
   "source": [
    "bikes_clean.groupby('state').agg({\"zipcode\":\"count\"}).sort_values(by='zipcode',ascending=False)"
   ]
  },
  {
   "cell_type": "code",
   "execution_count": 22,
   "id": "d45b3952",
   "metadata": {},
   "outputs": [
    {
     "data": {
      "text/html": [
       "<div>\n",
       "<style scoped>\n",
       "    .dataframe tbody tr th:only-of-type {\n",
       "        vertical-align: middle;\n",
       "    }\n",
       "\n",
       "    .dataframe tbody tr th {\n",
       "        vertical-align: top;\n",
       "    }\n",
       "\n",
       "    .dataframe thead th {\n",
       "        text-align: right;\n",
       "    }\n",
       "</style>\n",
       "<table border=\"1\" class=\"dataframe\">\n",
       "  <thead>\n",
       "    <tr style=\"text-align: right;\">\n",
       "      <th></th>\n",
       "      <th></th>\n",
       "      <th></th>\n",
       "      <th></th>\n",
       "      <th>bike_id</th>\n",
       "      <th>system_id</th>\n",
       "    </tr>\n",
       "    <tr>\n",
       "      <th>year</th>\n",
       "      <th>state</th>\n",
       "      <th>city</th>\n",
       "      <th>zipcode</th>\n",
       "      <th></th>\n",
       "      <th></th>\n",
       "    </tr>\n",
       "  </thead>\n",
       "  <tbody>\n",
       "    <tr>\n",
       "      <th rowspan=\"5\" valign=\"top\">2015</th>\n",
       "      <th rowspan=\"4\" valign=\"top\">AL</th>\n",
       "      <th rowspan=\"4\" valign=\"top\">Birmingham</th>\n",
       "      <th>35203</th>\n",
       "      <td>1</td>\n",
       "      <td>1</td>\n",
       "    </tr>\n",
       "    <tr>\n",
       "      <th>35205</th>\n",
       "      <td>1</td>\n",
       "      <td>1</td>\n",
       "    </tr>\n",
       "    <tr>\n",
       "      <th>35222</th>\n",
       "      <td>1</td>\n",
       "      <td>1</td>\n",
       "    </tr>\n",
       "    <tr>\n",
       "      <th>35233</th>\n",
       "      <td>1</td>\n",
       "      <td>1</td>\n",
       "    </tr>\n",
       "    <tr>\n",
       "      <th>AZ</th>\n",
       "      <th>Mesa</th>\n",
       "      <th>85201</th>\n",
       "      <td>1</td>\n",
       "      <td>1</td>\n",
       "    </tr>\n",
       "    <tr>\n",
       "      <th>...</th>\n",
       "      <th>...</th>\n",
       "      <th>...</th>\n",
       "      <th>...</th>\n",
       "      <td>...</td>\n",
       "      <td>...</td>\n",
       "    </tr>\n",
       "    <tr>\n",
       "      <th rowspan=\"5\" valign=\"top\">2019</th>\n",
       "      <th rowspan=\"3\" valign=\"top\">WI</th>\n",
       "      <th>Shorewood Hills</th>\n",
       "      <th>53706</th>\n",
       "      <td>2</td>\n",
       "      <td>1</td>\n",
       "    </tr>\n",
       "    <tr>\n",
       "      <th>Superior</th>\n",
       "      <th>54880</th>\n",
       "      <td>1</td>\n",
       "      <td>1</td>\n",
       "    </tr>\n",
       "    <tr>\n",
       "      <th>Wauwatosa</th>\n",
       "      <th>53226</th>\n",
       "      <td>1</td>\n",
       "      <td>1</td>\n",
       "    </tr>\n",
       "    <tr>\n",
       "      <th rowspan=\"2\" valign=\"top\">WY</th>\n",
       "      <th>Jackson</th>\n",
       "      <th>83001</th>\n",
       "      <td>16</td>\n",
       "      <td>1</td>\n",
       "    </tr>\n",
       "    <tr>\n",
       "      <th>Pasture</th>\n",
       "      <th>83001</th>\n",
       "      <td>1</td>\n",
       "      <td>1</td>\n",
       "    </tr>\n",
       "  </tbody>\n",
       "</table>\n",
       "<p>6303 rows × 2 columns</p>\n",
       "</div>"
      ],
      "text/plain": [
       "                                    bike_id  system_id\n",
       "year state city            zipcode                    \n",
       "2015 AL    Birmingham      35203          1          1\n",
       "                           35205          1          1\n",
       "                           35222          1          1\n",
       "                           35233          1          1\n",
       "     AZ    Mesa            85201          1          1\n",
       "...                                     ...        ...\n",
       "2019 WI    Shorewood Hills 53706          2          1\n",
       "           Superior        54880          1          1\n",
       "           Wauwatosa       53226          1          1\n",
       "     WY    Jackson         83001         16          1\n",
       "           Pasture         83001          1          1\n",
       "\n",
       "[6303 rows x 2 columns]"
      ]
     },
     "execution_count": 22,
     "metadata": {},
     "output_type": "execute_result"
    }
   ],
   "source": [
    "bikes_clean.groupby(['year','state','city','zipcode']).agg({\"bike_id\":\"nunique\",\"system_id\":\"nunique\"})"
   ]
  },
  {
   "cell_type": "code",
   "execution_count": 23,
   "id": "51a01aee",
   "metadata": {},
   "outputs": [
    {
     "data": {
      "text/html": [
       "<div>\n",
       "<style scoped>\n",
       "    .dataframe tbody tr th:only-of-type {\n",
       "        vertical-align: middle;\n",
       "    }\n",
       "\n",
       "    .dataframe tbody tr th {\n",
       "        vertical-align: top;\n",
       "    }\n",
       "\n",
       "    .dataframe thead th {\n",
       "        text-align: right;\n",
       "    }\n",
       "</style>\n",
       "<table border=\"1\" class=\"dataframe\">\n",
       "  <thead>\n",
       "    <tr style=\"text-align: right;\">\n",
       "      <th></th>\n",
       "      <th>bike_id</th>\n",
       "      <th>system_id</th>\n",
       "      <th>city</th>\n",
       "      <th>fac_id</th>\n",
       "    </tr>\n",
       "    <tr>\n",
       "      <th>year</th>\n",
       "      <th></th>\n",
       "      <th></th>\n",
       "      <th></th>\n",
       "      <th></th>\n",
       "    </tr>\n",
       "  </thead>\n",
       "  <tbody>\n",
       "    <tr>\n",
       "      <th>2015</th>\n",
       "      <td>1</td>\n",
       "      <td>1</td>\n",
       "      <td>2</td>\n",
       "      <td>313</td>\n",
       "    </tr>\n",
       "    <tr>\n",
       "      <th>2016</th>\n",
       "      <td>293</td>\n",
       "      <td>1</td>\n",
       "      <td>2</td>\n",
       "      <td>293</td>\n",
       "    </tr>\n",
       "    <tr>\n",
       "      <th>2017</th>\n",
       "      <td>277</td>\n",
       "      <td>1</td>\n",
       "      <td>2</td>\n",
       "      <td>277</td>\n",
       "    </tr>\n",
       "    <tr>\n",
       "      <th>2018</th>\n",
       "      <td>266</td>\n",
       "      <td>1</td>\n",
       "      <td>2</td>\n",
       "      <td>266</td>\n",
       "    </tr>\n",
       "    <tr>\n",
       "      <th>2019</th>\n",
       "      <td>266</td>\n",
       "      <td>1</td>\n",
       "      <td>2</td>\n",
       "      <td>266</td>\n",
       "    </tr>\n",
       "  </tbody>\n",
       "</table>\n",
       "</div>"
      ],
      "text/plain": [
       "      bike_id  system_id  city  fac_id\n",
       "year                                  \n",
       "2015        1          1     2     313\n",
       "2016      293          1     2     293\n",
       "2017      277          1     2     277\n",
       "2018      266          1     2     266\n",
       "2019      266          1     2     266"
      ]
     },
     "execution_count": 23,
     "metadata": {},
     "output_type": "execute_result"
    }
   ],
   "source": [
    "bikes_clean[bikes_clean['zipcode']==10007].\\\n",
    "groupby('year').\\\n",
    "agg({\"bike_id\":\"nunique\",\"system_id\":\"nunique\",\"city\":\"nunique\",\"fac_id\":\"nunique\"})"
   ]
  },
  {
   "cell_type": "code",
   "execution_count": 24,
   "id": "0f3d9c82",
   "metadata": {},
   "outputs": [
    {
     "data": {
      "text/html": [
       "<div>\n",
       "<style scoped>\n",
       "    .dataframe tbody tr th:only-of-type {\n",
       "        vertical-align: middle;\n",
       "    }\n",
       "\n",
       "    .dataframe tbody tr th {\n",
       "        vertical-align: top;\n",
       "    }\n",
       "\n",
       "    .dataframe thead th {\n",
       "        text-align: right;\n",
       "    }\n",
       "</style>\n",
       "<table border=\"1\" class=\"dataframe\">\n",
       "  <thead>\n",
       "    <tr style=\"text-align: right;\">\n",
       "      <th></th>\n",
       "      <th>bike_id</th>\n",
       "      <th>system_id</th>\n",
       "      <th>city</th>\n",
       "      <th>fac_id</th>\n",
       "    </tr>\n",
       "    <tr>\n",
       "      <th>year</th>\n",
       "      <th></th>\n",
       "      <th></th>\n",
       "      <th></th>\n",
       "      <th></th>\n",
       "    </tr>\n",
       "  </thead>\n",
       "  <tbody>\n",
       "    <tr>\n",
       "      <th>2015</th>\n",
       "      <td>1</td>\n",
       "      <td>1</td>\n",
       "      <td>1</td>\n",
       "      <td>16</td>\n",
       "    </tr>\n",
       "    <tr>\n",
       "      <th>2016</th>\n",
       "      <td>16</td>\n",
       "      <td>1</td>\n",
       "      <td>1</td>\n",
       "      <td>16</td>\n",
       "    </tr>\n",
       "    <tr>\n",
       "      <th>2017</th>\n",
       "      <td>16</td>\n",
       "      <td>1</td>\n",
       "      <td>1</td>\n",
       "      <td>16</td>\n",
       "    </tr>\n",
       "    <tr>\n",
       "      <th>2018</th>\n",
       "      <td>13</td>\n",
       "      <td>1</td>\n",
       "      <td>1</td>\n",
       "      <td>13</td>\n",
       "    </tr>\n",
       "  </tbody>\n",
       "</table>\n",
       "</div>"
      ],
      "text/plain": [
       "      bike_id  system_id  city  fac_id\n",
       "year                                  \n",
       "2015        1          1     1      16\n",
       "2016       16          1     1      16\n",
       "2017       16          1     1      16\n",
       "2018       13          1     1      13"
      ]
     },
     "execution_count": 24,
     "metadata": {},
     "output_type": "execute_result"
    }
   ],
   "source": [
    "bikes_clean[bikes_clean['zipcode']==35203].\\\n",
    "groupby('year').\\\n",
    "agg({\"bike_id\":\"nunique\",\"system_id\":\"nunique\",\"city\":\"nunique\",\"fac_id\":\"nunique\"})"
   ]
  },
  {
   "cell_type": "code",
   "execution_count": 25,
   "id": "7b7d1e98",
   "metadata": {},
   "outputs": [
    {
     "data": {
      "text/html": [
       "<div>\n",
       "<style scoped>\n",
       "    .dataframe tbody tr th:only-of-type {\n",
       "        vertical-align: middle;\n",
       "    }\n",
       "\n",
       "    .dataframe tbody tr th {\n",
       "        vertical-align: top;\n",
       "    }\n",
       "\n",
       "    .dataframe thead th {\n",
       "        text-align: right;\n",
       "    }\n",
       "</style>\n",
       "<table border=\"1\" class=\"dataframe\">\n",
       "  <thead>\n",
       "    <tr style=\"text-align: right;\">\n",
       "      <th></th>\n",
       "      <th>bike_id</th>\n",
       "      <th>system_id</th>\n",
       "      <th>city</th>\n",
       "      <th>fac_id</th>\n",
       "    </tr>\n",
       "    <tr>\n",
       "      <th>year</th>\n",
       "      <th></th>\n",
       "      <th></th>\n",
       "      <th></th>\n",
       "      <th></th>\n",
       "    </tr>\n",
       "  </thead>\n",
       "  <tbody>\n",
       "    <tr>\n",
       "      <th>2018</th>\n",
       "      <td>17</td>\n",
       "      <td>1</td>\n",
       "      <td>2</td>\n",
       "      <td>17</td>\n",
       "    </tr>\n",
       "    <tr>\n",
       "      <th>2019</th>\n",
       "      <td>17</td>\n",
       "      <td>1</td>\n",
       "      <td>2</td>\n",
       "      <td>17</td>\n",
       "    </tr>\n",
       "  </tbody>\n",
       "</table>\n",
       "</div>"
      ],
      "text/plain": [
       "      bike_id  system_id  city  fac_id\n",
       "year                                  \n",
       "2018       17          1     2      17\n",
       "2019       17          1     2      17"
      ]
     },
     "execution_count": 25,
     "metadata": {},
     "output_type": "execute_result"
    }
   ],
   "source": [
    "bikes_clean[bikes_clean['zipcode']==83001].\\\n",
    "groupby('year').\\\n",
    "agg({\"bike_id\":\"nunique\",\"system_id\":\"nunique\",\"city\":\"nunique\",\"fac_id\":\"nunique\"})"
   ]
  },
  {
   "cell_type": "code",
   "execution_count": 26,
   "id": "392dfcd7",
   "metadata": {},
   "outputs": [
    {
     "data": {
      "text/html": [
       "<div>\n",
       "<style scoped>\n",
       "    .dataframe tbody tr th:only-of-type {\n",
       "        vertical-align: middle;\n",
       "    }\n",
       "\n",
       "    .dataframe tbody tr th {\n",
       "        vertical-align: top;\n",
       "    }\n",
       "\n",
       "    .dataframe thead th {\n",
       "        text-align: right;\n",
       "    }\n",
       "</style>\n",
       "<table border=\"1\" class=\"dataframe\">\n",
       "  <thead>\n",
       "    <tr style=\"text-align: right;\">\n",
       "      <th></th>\n",
       "      <th>bike_id</th>\n",
       "      <th>system_id</th>\n",
       "      <th>city</th>\n",
       "      <th>fac_id</th>\n",
       "    </tr>\n",
       "    <tr>\n",
       "      <th>year</th>\n",
       "      <th></th>\n",
       "      <th></th>\n",
       "      <th></th>\n",
       "      <th></th>\n",
       "    </tr>\n",
       "  </thead>\n",
       "  <tbody>\n",
       "    <tr>\n",
       "      <th>2018</th>\n",
       "      <td>8</td>\n",
       "      <td>1</td>\n",
       "      <td>1</td>\n",
       "      <td>8</td>\n",
       "    </tr>\n",
       "    <tr>\n",
       "      <th>2019</th>\n",
       "      <td>8</td>\n",
       "      <td>1</td>\n",
       "      <td>1</td>\n",
       "      <td>8</td>\n",
       "    </tr>\n",
       "  </tbody>\n",
       "</table>\n",
       "</div>"
      ],
      "text/plain": [
       "      bike_id  system_id  city  fac_id\n",
       "year                                  \n",
       "2018        8          1     1       8\n",
       "2019        8          1     1       8"
      ]
     },
     "execution_count": 26,
     "metadata": {},
     "output_type": "execute_result"
    }
   ],
   "source": [
    "bikes_clean[bikes_clean['zipcode']==1002].\\\n",
    "groupby('year').\\\n",
    "agg({\"bike_id\":\"nunique\",\"system_id\":\"nunique\",\"city\":\"nunique\",\"fac_id\":\"nunique\"})"
   ]
  },
  {
   "cell_type": "code",
   "execution_count": 27,
   "id": "2d52727f",
   "metadata": {},
   "outputs": [],
   "source": [
    "#Use facility id over bike station id "
   ]
  },
  {
   "cell_type": "code",
   "execution_count": 28,
   "id": "7c9382ab",
   "metadata": {
    "scrolled": true
   },
   "outputs": [
    {
     "data": {
      "text/html": [
       "<div>\n",
       "<style scoped>\n",
       "    .dataframe tbody tr th:only-of-type {\n",
       "        vertical-align: middle;\n",
       "    }\n",
       "\n",
       "    .dataframe tbody tr th {\n",
       "        vertical-align: top;\n",
       "    }\n",
       "\n",
       "    .dataframe thead th {\n",
       "        text-align: right;\n",
       "    }\n",
       "</style>\n",
       "<table border=\"1\" class=\"dataframe\">\n",
       "  <thead>\n",
       "    <tr style=\"text-align: right;\">\n",
       "      <th></th>\n",
       "      <th>bike_id</th>\n",
       "      <th>system_id</th>\n",
       "      <th>city</th>\n",
       "      <th>fac_id</th>\n",
       "    </tr>\n",
       "    <tr>\n",
       "      <th>year</th>\n",
       "      <th></th>\n",
       "      <th></th>\n",
       "      <th></th>\n",
       "      <th></th>\n",
       "    </tr>\n",
       "  </thead>\n",
       "  <tbody>\n",
       "    <tr>\n",
       "      <th>2015</th>\n",
       "      <td>1</td>\n",
       "      <td>65</td>\n",
       "      <td>100</td>\n",
       "      <td>3361</td>\n",
       "    </tr>\n",
       "    <tr>\n",
       "      <th>2016</th>\n",
       "      <td>4419</td>\n",
       "      <td>86</td>\n",
       "      <td>149</td>\n",
       "      <td>4882</td>\n",
       "    </tr>\n",
       "    <tr>\n",
       "      <th>2017</th>\n",
       "      <td>5167</td>\n",
       "      <td>112</td>\n",
       "      <td>196</td>\n",
       "      <td>6127</td>\n",
       "    </tr>\n",
       "    <tr>\n",
       "      <th>2018</th>\n",
       "      <td>5688</td>\n",
       "      <td>113</td>\n",
       "      <td>220</td>\n",
       "      <td>7039</td>\n",
       "    </tr>\n",
       "    <tr>\n",
       "      <th>2019</th>\n",
       "      <td>5513</td>\n",
       "      <td>103</td>\n",
       "      <td>214</td>\n",
       "      <td>6752</td>\n",
       "    </tr>\n",
       "  </tbody>\n",
       "</table>\n",
       "</div>"
      ],
      "text/plain": [
       "      bike_id  system_id  city  fac_id\n",
       "year                                  \n",
       "2015        1         65   100    3361\n",
       "2016     4419         86   149    4882\n",
       "2017     5167        112   196    6127\n",
       "2018     5688        113   220    7039\n",
       "2019     5513        103   214    6752"
      ]
     },
     "execution_count": 28,
     "metadata": {},
     "output_type": "execute_result"
    }
   ],
   "source": [
    "bikes_clean.\\\n",
    "groupby('year').\\\n",
    "agg({\"bike_id\":\"nunique\",\"system_id\":\"nunique\",\"city\":\"nunique\",\"fac_id\":\"nunique\"})"
   ]
  },
  {
   "cell_type": "code",
   "execution_count": 51,
   "id": "af36bf88",
   "metadata": {},
   "outputs": [],
   "source": [
    "# zip codes need cleaning - leading zero is not present and should be string"
   ]
  },
  {
   "cell_type": "code",
   "execution_count": 74,
   "id": "a972c593",
   "metadata": {},
   "outputs": [],
   "source": [
    "bikes_clean['zipcode'] = bikes_clean['zipcode'].astype('str')"
   ]
  },
  {
   "cell_type": "code",
   "execution_count": 82,
   "id": "64c57795",
   "metadata": {},
   "outputs": [
    {
     "data": {
      "text/plain": [
       "(28173, 15)"
      ]
     },
     "execution_count": 82,
     "metadata": {},
     "output_type": "execute_result"
    }
   ],
   "source": [
    "bikes_clean.shape"
   ]
  },
  {
   "cell_type": "code",
   "execution_count": 88,
   "id": "77a19b3d",
   "metadata": {},
   "outputs": [],
   "source": [
    "bikes_clean['zipcode'] = [\"0\"+z if len(z)<5 else z for z in bikes_clean['zipcode']]"
   ]
  },
  {
   "cell_type": "code",
   "execution_count": 90,
   "id": "e93fe292",
   "metadata": {},
   "outputs": [
    {
     "data": {
      "text/plain": [
       "0"
      ]
     },
     "execution_count": 90,
     "metadata": {},
     "output_type": "execute_result"
    }
   ],
   "source": [
    "bikes_clean['zipcode'].map(lambda z: len(str(z))<5).sum()"
   ]
  },
  {
   "cell_type": "code",
   "execution_count": 104,
   "id": "be2ece72",
   "metadata": {},
   "outputs": [],
   "source": [
    "#null values"
   ]
  },
  {
   "cell_type": "code",
   "execution_count": 110,
   "id": "d2d04966",
   "metadata": {},
   "outputs": [
    {
     "data": {
      "text/plain": [
       "96"
      ]
     },
     "execution_count": 110,
     "metadata": {},
     "output_type": "execute_result"
    }
   ],
   "source": [
    "bikes_clean['system_name'].isna().sum() #They are all in MA, can replace with mode  "
   ]
  },
  {
   "cell_type": "code",
   "execution_count": 120,
   "id": "76030e8c",
   "metadata": {},
   "outputs": [
    {
     "data": {
      "text/plain": [
       "Hubway (03/2018 re-launched as Blue Bikes)    1003\n",
       "ValleyBike                                     108\n",
       "Salem                                           44\n",
       "City of Marlborough, MA                         18\n",
       "Name: system_name, dtype: int64"
      ]
     },
     "execution_count": 120,
     "metadata": {},
     "output_type": "execute_result"
    }
   ],
   "source": [
    "bikes_clean[bikes_clean['state']=='MA']['system_name'].value_counts()"
   ]
  },
  {
   "cell_type": "code",
   "execution_count": 138,
   "id": "e4bebd4e",
   "metadata": {},
   "outputs": [],
   "source": [
    "bikes_clean['system_name'] = bikes_clean['system_name'].fillna(value='Hubway (03/2018 re-launched as Blue Bikes)')"
   ]
  },
  {
   "cell_type": "code",
   "execution_count": 141,
   "id": "59f33e29",
   "metadata": {},
   "outputs": [
    {
     "data": {
      "text/plain": [
       "0"
      ]
     },
     "execution_count": 141,
     "metadata": {},
     "output_type": "execute_result"
    }
   ],
   "source": [
    "bikes_clean['system_name'].isna().sum()"
   ]
  },
  {
   "cell_type": "code",
   "execution_count": 142,
   "id": "6adab4ab",
   "metadata": {},
   "outputs": [],
   "source": [
    "# bikes_summary = bikes_clean.groupby(['year','zipcode','city','state']).\\\n",
    "#              agg({'system_name':'nunique','fac_id':'nunique'}).\\\n",
    "#              reset_index()"
   ]
  },
  {
   "cell_type": "code",
   "execution_count": 307,
   "id": "2da954bd",
   "metadata": {},
   "outputs": [
    {
     "data": {
      "text/plain": [
       "(6058, 5)"
      ]
     },
     "execution_count": 307,
     "metadata": {},
     "output_type": "execute_result"
    }
   ],
   "source": [
    "bikes_summary = bikes_clean.groupby(['year','zipcode','state']).\\\n",
    "             agg({'system_name':'nunique','fac_id':'nunique'}).\\\n",
    "             reset_index()\n",
    "bikes_summary.shape"
   ]
  },
  {
   "cell_type": "code",
   "execution_count": 306,
   "id": "f5552b90",
   "metadata": {},
   "outputs": [
    {
     "data": {
      "text/plain": [
       "(6028, 4)"
      ]
     },
     "execution_count": 306,
     "metadata": {},
     "output_type": "execute_result"
    }
   ],
   "source": [
    "bikes_clean.groupby(['year','zipcode']).\\\n",
    "             agg({'system_name':'nunique','fac_id':'nunique'}).\\\n",
    "             reset_index().shape"
   ]
  },
  {
   "cell_type": "code",
   "execution_count": null,
   "id": "48e8d34f",
   "metadata": {},
   "outputs": [],
   "source": [
    "#SOME STATES HAVE THE SAME ZIPCODE "
   ]
  },
  {
   "cell_type": "code",
   "execution_count": 304,
   "id": "a3f735b6",
   "metadata": {},
   "outputs": [
    {
     "data": {
      "text/plain": [
       "state\n",
       "1        1505\n",
       "2          13\n",
       "dtype: int64"
      ]
     },
     "execution_count": 304,
     "metadata": {},
     "output_type": "execute_result"
    }
   ],
   "source": [
    "bikes_clean.groupby('zipcode').agg({\"state\":\"nunique\"}).value_counts()"
   ]
  },
  {
   "cell_type": "code",
   "execution_count": 147,
   "id": "5fbfc544",
   "metadata": {},
   "outputs": [
    {
     "data": {
      "text/plain": [
       "1    6261\n",
       "2      17\n",
       "Name: system_name, dtype: int64"
      ]
     },
     "execution_count": 147,
     "metadata": {},
     "output_type": "execute_result"
    }
   ],
   "source": [
    "bikes_summary['system_name'].value_counts()"
   ]
  },
  {
   "cell_type": "code",
   "execution_count": 308,
   "id": "e5f7e300",
   "metadata": {},
   "outputs": [
    {
     "data": {
      "text/html": [
       "<div>\n",
       "<style scoped>\n",
       "    .dataframe tbody tr th:only-of-type {\n",
       "        vertical-align: middle;\n",
       "    }\n",
       "\n",
       "    .dataframe tbody tr th {\n",
       "        vertical-align: top;\n",
       "    }\n",
       "\n",
       "    .dataframe thead th {\n",
       "        text-align: right;\n",
       "    }\n",
       "</style>\n",
       "<table border=\"1\" class=\"dataframe\">\n",
       "  <thead>\n",
       "    <tr style=\"text-align: right;\">\n",
       "      <th></th>\n",
       "      <th>year</th>\n",
       "      <th>zipcode</th>\n",
       "      <th>state</th>\n",
       "      <th>system_name</th>\n",
       "      <th>fac_id</th>\n",
       "    </tr>\n",
       "  </thead>\n",
       "  <tbody>\n",
       "    <tr>\n",
       "      <th>0</th>\n",
       "      <td>2015</td>\n",
       "      <td>02108</td>\n",
       "      <td>MA</td>\n",
       "      <td>1</td>\n",
       "      <td>3</td>\n",
       "    </tr>\n",
       "    <tr>\n",
       "      <th>1</th>\n",
       "      <td>2015</td>\n",
       "      <td>02109</td>\n",
       "      <td>MA</td>\n",
       "      <td>1</td>\n",
       "      <td>2</td>\n",
       "    </tr>\n",
       "    <tr>\n",
       "      <th>2</th>\n",
       "      <td>2015</td>\n",
       "      <td>02110</td>\n",
       "      <td>MA</td>\n",
       "      <td>1</td>\n",
       "      <td>1</td>\n",
       "    </tr>\n",
       "    <tr>\n",
       "      <th>3</th>\n",
       "      <td>2015</td>\n",
       "      <td>02111</td>\n",
       "      <td>MA</td>\n",
       "      <td>1</td>\n",
       "      <td>1</td>\n",
       "    </tr>\n",
       "    <tr>\n",
       "      <th>4</th>\n",
       "      <td>2015</td>\n",
       "      <td>02112</td>\n",
       "      <td>MA</td>\n",
       "      <td>1</td>\n",
       "      <td>1</td>\n",
       "    </tr>\n",
       "    <tr>\n",
       "      <th>...</th>\n",
       "      <td>...</td>\n",
       "      <td>...</td>\n",
       "      <td>...</td>\n",
       "      <td>...</td>\n",
       "      <td>...</td>\n",
       "    </tr>\n",
       "    <tr>\n",
       "      <th>6053</th>\n",
       "      <td>2019</td>\n",
       "      <td>97402</td>\n",
       "      <td>OR</td>\n",
       "      <td>1</td>\n",
       "      <td>5</td>\n",
       "    </tr>\n",
       "    <tr>\n",
       "      <th>6054</th>\n",
       "      <td>2019</td>\n",
       "      <td>97403</td>\n",
       "      <td>OR</td>\n",
       "      <td>1</td>\n",
       "      <td>8</td>\n",
       "    </tr>\n",
       "    <tr>\n",
       "      <th>6055</th>\n",
       "      <td>2019</td>\n",
       "      <td>97405</td>\n",
       "      <td>OR</td>\n",
       "      <td>1</td>\n",
       "      <td>2</td>\n",
       "    </tr>\n",
       "    <tr>\n",
       "      <th>6056</th>\n",
       "      <td>2019</td>\n",
       "      <td>97501</td>\n",
       "      <td>OR</td>\n",
       "      <td>1</td>\n",
       "      <td>1</td>\n",
       "    </tr>\n",
       "    <tr>\n",
       "      <th>6057</th>\n",
       "      <td>2019</td>\n",
       "      <td>97520</td>\n",
       "      <td>OR</td>\n",
       "      <td>1</td>\n",
       "      <td>10</td>\n",
       "    </tr>\n",
       "  </tbody>\n",
       "</table>\n",
       "<p>6058 rows × 5 columns</p>\n",
       "</div>"
      ],
      "text/plain": [
       "      year zipcode state  system_name  fac_id\n",
       "0     2015   02108    MA            1       3\n",
       "1     2015   02109    MA            1       2\n",
       "2     2015   02110    MA            1       1\n",
       "3     2015   02111    MA            1       1\n",
       "4     2015   02112    MA            1       1\n",
       "...    ...     ...   ...          ...     ...\n",
       "6053  2019   97402    OR            1       5\n",
       "6054  2019   97403    OR            1       8\n",
       "6055  2019   97405    OR            1       2\n",
       "6056  2019   97501    OR            1       1\n",
       "6057  2019   97520    OR            1      10\n",
       "\n",
       "[6058 rows x 5 columns]"
      ]
     },
     "execution_count": 308,
     "metadata": {},
     "output_type": "execute_result"
    }
   ],
   "source": [
    "bikes_summary"
   ]
  },
  {
   "cell_type": "code",
   "execution_count": 309,
   "id": "0b54bfe8",
   "metadata": {},
   "outputs": [
    {
     "data": {
      "text/plain": [
       "1518"
      ]
     },
     "execution_count": 309,
     "metadata": {},
     "output_type": "execute_result"
    }
   ],
   "source": [
    "len(set(bikes_summary['zipcode']))"
   ]
  },
  {
   "cell_type": "markdown",
   "id": "a34b9243",
   "metadata": {},
   "source": [
    "# ZRI "
   ]
  },
  {
   "cell_type": "code",
   "execution_count": 310,
   "id": "009fe48a",
   "metadata": {},
   "outputs": [
    {
     "data": {
      "text/plain": [
       "0.3197205803331542"
      ]
     },
     "execution_count": 310,
     "metadata": {},
     "output_type": "execute_result"
    }
   ],
   "source": [
    "import pandas as pd\n",
    "import numpy as np\n",
    "from datetime import datetime\n",
    "\n",
    "pd.set_option('display.max_rows', 5000)\n",
    "\n",
    "zhi_df2=pd.read_csv('Zip_Zri_MultiFamilyResidenceRental.csv')\n",
    "\n",
    "\n",
    "#zri = pd.melt(zhi_df, id_vars = zhi_df.columns[0:6], value_vars = zhi_df.columns[7:], var_name = 'year-month', value_name = 'ZRI').sort_values(['RegionID', 'year-month'])\n",
    "\n",
    "zri = pd.melt(zhi_df2, id_vars = zhi_df2.columns[0:6], value_vars = zhi_df2.columns[7:], var_name = 'year-month', value_name = 'ZRI').sort_values(['RegionID', 'year-month'])\n",
    "\n",
    "\n",
    "zri=zri[(zri['year-month']>'2013-07') & (zri['year-month']<'2020-01')]\n",
    "\n",
    "zri=zri.fillna(0)\n",
    "zri['gapsize']=zri['ZRI'].rolling(5).sum()\n",
    "droplist=list(zri[((zri['gapsize']==0) | zri['gapsize'].isna()) & (zri['year-month']>'2014-02')]['RegionID'].drop_duplicates())\n",
    "zri[(zri['gapsize']==0)].shape[0]/zri.shape[0]\n",
    "len(droplist)/len(zri['RegionID'].drop_duplicates())"
   ]
  },
  {
   "cell_type": "code",
   "execution_count": 311,
   "id": "1a7e458b",
   "metadata": {},
   "outputs": [],
   "source": [
    "zri2 = pd.melt(zhi_df2, id_vars = zhi_df2.columns[0:6], value_vars = zhi_df2.columns[7:], var_name = 'year-month', value_name = 'ZRI').sort_values(['RegionID', 'year-month'])\n",
    "\n",
    "zri2=zri2.groupby('RegionID').apply(lambda group: group.interpolate())\n",
    "#zri2[zri2['ZRI'].isna()]\n",
    "\n",
    "#zri2['ZRI']=(zri2['ZRI']/zri2['ZRI'].shift(1))-1\n",
    "\n",
    "zri2=zri2[(zri2['year-month']>'2014-02') & (zri2['year-month']<'2020-01')]\n",
    "\n",
    "zri3=zri2[~(zri2['RegionID'].isin(droplist))]"
   ]
  },
  {
   "cell_type": "code",
   "execution_count": 312,
   "id": "5095b98f",
   "metadata": {},
   "outputs": [
    {
     "data": {
      "text/html": [
       "<div>\n",
       "<style scoped>\n",
       "    .dataframe tbody tr th:only-of-type {\n",
       "        vertical-align: middle;\n",
       "    }\n",
       "\n",
       "    .dataframe tbody tr th {\n",
       "        vertical-align: top;\n",
       "    }\n",
       "\n",
       "    .dataframe thead th {\n",
       "        text-align: right;\n",
       "    }\n",
       "</style>\n",
       "<table border=\"1\" class=\"dataframe\">\n",
       "  <thead>\n",
       "    <tr style=\"text-align: right;\">\n",
       "      <th></th>\n",
       "      <th>RegionID</th>\n",
       "      <th>RegionName</th>\n",
       "      <th>City</th>\n",
       "      <th>State</th>\n",
       "      <th>Metro</th>\n",
       "      <th>CountyName</th>\n",
       "      <th>year-month</th>\n",
       "      <th>ZRI</th>\n",
       "    </tr>\n",
       "  </thead>\n",
       "  <tbody>\n",
       "    <tr>\n",
       "      <th>79659</th>\n",
       "      <td>58207</td>\n",
       "      <td>1013</td>\n",
       "      <td>Chicopee</td>\n",
       "      <td>MA</td>\n",
       "      <td>Springfield</td>\n",
       "      <td>Hampden County</td>\n",
       "      <td>2014-03</td>\n",
       "      <td>934.0</td>\n",
       "    </tr>\n",
       "    <tr>\n",
       "      <th>81520</th>\n",
       "      <td>58207</td>\n",
       "      <td>1013</td>\n",
       "      <td>Chicopee</td>\n",
       "      <td>MA</td>\n",
       "      <td>Springfield</td>\n",
       "      <td>Hampden County</td>\n",
       "      <td>2014-04</td>\n",
       "      <td>929.0</td>\n",
       "    </tr>\n",
       "    <tr>\n",
       "      <th>83381</th>\n",
       "      <td>58207</td>\n",
       "      <td>1013</td>\n",
       "      <td>Chicopee</td>\n",
       "      <td>MA</td>\n",
       "      <td>Springfield</td>\n",
       "      <td>Hampden County</td>\n",
       "      <td>2014-05</td>\n",
       "      <td>929.0</td>\n",
       "    </tr>\n",
       "    <tr>\n",
       "      <th>85242</th>\n",
       "      <td>58207</td>\n",
       "      <td>1013</td>\n",
       "      <td>Chicopee</td>\n",
       "      <td>MA</td>\n",
       "      <td>Springfield</td>\n",
       "      <td>Hampden County</td>\n",
       "      <td>2014-06</td>\n",
       "      <td>929.0</td>\n",
       "    </tr>\n",
       "    <tr>\n",
       "      <th>87103</th>\n",
       "      <td>58207</td>\n",
       "      <td>1013</td>\n",
       "      <td>Chicopee</td>\n",
       "      <td>MA</td>\n",
       "      <td>Springfield</td>\n",
       "      <td>Hampden County</td>\n",
       "      <td>2014-07</td>\n",
       "      <td>930.0</td>\n",
       "    </tr>\n",
       "    <tr>\n",
       "      <th>...</th>\n",
       "      <td>...</td>\n",
       "      <td>...</td>\n",
       "      <td>...</td>\n",
       "      <td>...</td>\n",
       "      <td>...</td>\n",
       "      <td>...</td>\n",
       "      <td>...</td>\n",
       "      <td>...</td>\n",
       "    </tr>\n",
       "    <tr>\n",
       "      <th>200523</th>\n",
       "      <td>399713</td>\n",
       "      <td>60642</td>\n",
       "      <td>Chicago</td>\n",
       "      <td>IL</td>\n",
       "      <td>Chicago-Naperville-Elgin</td>\n",
       "      <td>Cook County</td>\n",
       "      <td>2019-08</td>\n",
       "      <td>2001.0</td>\n",
       "    </tr>\n",
       "    <tr>\n",
       "      <th>202384</th>\n",
       "      <td>399713</td>\n",
       "      <td>60642</td>\n",
       "      <td>Chicago</td>\n",
       "      <td>IL</td>\n",
       "      <td>Chicago-Naperville-Elgin</td>\n",
       "      <td>Cook County</td>\n",
       "      <td>2019-09</td>\n",
       "      <td>2017.0</td>\n",
       "    </tr>\n",
       "    <tr>\n",
       "      <th>204245</th>\n",
       "      <td>399713</td>\n",
       "      <td>60642</td>\n",
       "      <td>Chicago</td>\n",
       "      <td>IL</td>\n",
       "      <td>Chicago-Naperville-Elgin</td>\n",
       "      <td>Cook County</td>\n",
       "      <td>2019-10</td>\n",
       "      <td>2006.0</td>\n",
       "    </tr>\n",
       "    <tr>\n",
       "      <th>206106</th>\n",
       "      <td>399713</td>\n",
       "      <td>60642</td>\n",
       "      <td>Chicago</td>\n",
       "      <td>IL</td>\n",
       "      <td>Chicago-Naperville-Elgin</td>\n",
       "      <td>Cook County</td>\n",
       "      <td>2019-11</td>\n",
       "      <td>2016.0</td>\n",
       "    </tr>\n",
       "    <tr>\n",
       "      <th>207967</th>\n",
       "      <td>399713</td>\n",
       "      <td>60642</td>\n",
       "      <td>Chicago</td>\n",
       "      <td>IL</td>\n",
       "      <td>Chicago-Naperville-Elgin</td>\n",
       "      <td>Cook County</td>\n",
       "      <td>2019-12</td>\n",
       "      <td>1972.0</td>\n",
       "    </tr>\n",
       "  </tbody>\n",
       "</table>\n",
       "<p>88620 rows × 8 columns</p>\n",
       "</div>"
      ],
      "text/plain": [
       "        RegionID  RegionName      City State                     Metro  \\\n",
       "79659      58207        1013  Chicopee    MA               Springfield   \n",
       "81520      58207        1013  Chicopee    MA               Springfield   \n",
       "83381      58207        1013  Chicopee    MA               Springfield   \n",
       "85242      58207        1013  Chicopee    MA               Springfield   \n",
       "87103      58207        1013  Chicopee    MA               Springfield   \n",
       "...          ...         ...       ...   ...                       ...   \n",
       "200523    399713       60642   Chicago    IL  Chicago-Naperville-Elgin   \n",
       "202384    399713       60642   Chicago    IL  Chicago-Naperville-Elgin   \n",
       "204245    399713       60642   Chicago    IL  Chicago-Naperville-Elgin   \n",
       "206106    399713       60642   Chicago    IL  Chicago-Naperville-Elgin   \n",
       "207967    399713       60642   Chicago    IL  Chicago-Naperville-Elgin   \n",
       "\n",
       "            CountyName year-month     ZRI  \n",
       "79659   Hampden County    2014-03   934.0  \n",
       "81520   Hampden County    2014-04   929.0  \n",
       "83381   Hampden County    2014-05   929.0  \n",
       "85242   Hampden County    2014-06   929.0  \n",
       "87103   Hampden County    2014-07   930.0  \n",
       "...                ...        ...     ...  \n",
       "200523     Cook County    2019-08  2001.0  \n",
       "202384     Cook County    2019-09  2017.0  \n",
       "204245     Cook County    2019-10  2006.0  \n",
       "206106     Cook County    2019-11  2016.0  \n",
       "207967     Cook County    2019-12  1972.0  \n",
       "\n",
       "[88620 rows x 8 columns]"
      ]
     },
     "execution_count": 312,
     "metadata": {},
     "output_type": "execute_result"
    }
   ],
   "source": [
    "#remaining filterd ZRI data:\n",
    "zri3"
   ]
  },
  {
   "cell_type": "code",
   "execution_count": 326,
   "id": "0c9bdff6",
   "metadata": {},
   "outputs": [],
   "source": [
    "zillow = zri3"
   ]
  },
  {
   "cell_type": "code",
   "execution_count": 327,
   "id": "df086b10",
   "metadata": {},
   "outputs": [
    {
     "name": "stderr",
     "output_type": "stream",
     "text": [
      "/Users/nikiagrawal/opt/anaconda3/lib/python3.8/site-packages/pandas/core/indexing.py:1676: SettingWithCopyWarning: \n",
      "A value is trying to be set on a copy of a slice from a DataFrame.\n",
      "Try using .loc[row_indexer,col_indexer] = value instead\n",
      "\n",
      "See the caveats in the documentation: https://pandas.pydata.org/pandas-docs/stable/user_guide/indexing.html#returning-a-view-versus-a-copy\n",
      "  self._setitem_single_column(ilocs[0], value, pi)\n"
     ]
    }
   ],
   "source": [
    "zillow.loc[:,'year-month'] = pd.to_datetime(zillow.loc[:,'year-month'],format = '%Y-%m')\n"
   ]
  },
  {
   "cell_type": "code",
   "execution_count": 328,
   "id": "26e81c8f",
   "metadata": {},
   "outputs": [
    {
     "name": "stdout",
     "output_type": "stream",
     "text": [
      "<class 'pandas.core.frame.DataFrame'>\n",
      "Int64Index: 88620 entries, 79659 to 207967\n",
      "Data columns (total 8 columns):\n",
      " #   Column      Non-Null Count  Dtype         \n",
      "---  ------      --------------  -----         \n",
      " 0   RegionID    88620 non-null  int64         \n",
      " 1   RegionName  88620 non-null  int64         \n",
      " 2   City        88620 non-null  object        \n",
      " 3   State       88620 non-null  object        \n",
      " 4   Metro       88550 non-null  object        \n",
      " 5   CountyName  88620 non-null  object        \n",
      " 6   year-month  88620 non-null  datetime64[ns]\n",
      " 7   ZRI         88620 non-null  float64       \n",
      "dtypes: datetime64[ns](1), float64(1), int64(2), object(4)\n",
      "memory usage: 6.1+ MB\n"
     ]
    }
   ],
   "source": [
    "zillow.info()"
   ]
  },
  {
   "cell_type": "code",
   "execution_count": 329,
   "id": "1f88ec12",
   "metadata": {},
   "outputs": [
    {
     "name": "stderr",
     "output_type": "stream",
     "text": [
      "/Users/nikiagrawal/opt/anaconda3/lib/python3.8/site-packages/pandas/core/indexing.py:1597: SettingWithCopyWarning: \n",
      "A value is trying to be set on a copy of a slice from a DataFrame.\n",
      "Try using .loc[row_indexer,col_indexer] = value instead\n",
      "\n",
      "See the caveats in the documentation: https://pandas.pydata.org/pandas-docs/stable/user_guide/indexing.html#returning-a-view-versus-a-copy\n",
      "  self.obj[key] = value\n"
     ]
    }
   ],
   "source": [
    "zillow.loc[:,'year_zillow'] = zillow.loc[:,'year-month'].dt.year.astype('int')"
   ]
  },
  {
   "cell_type": "code",
   "execution_count": 330,
   "id": "e36501a4",
   "metadata": {},
   "outputs": [
    {
     "name": "stdout",
     "output_type": "stream",
     "text": [
      "<class 'pandas.core.frame.DataFrame'>\n",
      "Int64Index: 88620 entries, 79659 to 207967\n",
      "Data columns (total 9 columns):\n",
      " #   Column       Non-Null Count  Dtype         \n",
      "---  ------       --------------  -----         \n",
      " 0   RegionID     88620 non-null  int64         \n",
      " 1   RegionName   88620 non-null  int64         \n",
      " 2   City         88620 non-null  object        \n",
      " 3   State        88620 non-null  object        \n",
      " 4   Metro        88550 non-null  object        \n",
      " 5   CountyName   88620 non-null  object        \n",
      " 6   year-month   88620 non-null  datetime64[ns]\n",
      " 7   ZRI          88620 non-null  float64       \n",
      " 8   year_zillow  88620 non-null  int64         \n",
      "dtypes: datetime64[ns](1), float64(1), int64(3), object(4)\n",
      "memory usage: 6.8+ MB\n"
     ]
    }
   ],
   "source": [
    "zillow.info()"
   ]
  },
  {
   "cell_type": "code",
   "execution_count": 331,
   "id": "ef92f483",
   "metadata": {},
   "outputs": [],
   "source": [
    "zillow.loc[:,'RegionName'] = zillow['RegionName'].astype('str')"
   ]
  },
  {
   "cell_type": "code",
   "execution_count": 332,
   "id": "be98ca51",
   "metadata": {},
   "outputs": [],
   "source": [
    "zillow.loc[:,'RegionName'] = [\"0\"+z if len(z)<5 else z for z in zillow['RegionName']]"
   ]
  },
  {
   "cell_type": "code",
   "execution_count": 333,
   "id": "22f11b0a",
   "metadata": {},
   "outputs": [
    {
     "data": {
      "text/plain": [
       "88620"
      ]
     },
     "execution_count": 333,
     "metadata": {},
     "output_type": "execute_result"
    }
   ],
   "source": [
    "zillow['RegionName'].map(lambda z: len(str(z))==5).sum()"
   ]
  },
  {
   "cell_type": "code",
   "execution_count": 334,
   "id": "1382a356",
   "metadata": {},
   "outputs": [
    {
     "name": "stdout",
     "output_type": "stream",
     "text": [
      "<class 'pandas.core.frame.DataFrame'>\n",
      "Int64Index: 88620 entries, 79659 to 207967\n",
      "Data columns (total 9 columns):\n",
      " #   Column       Non-Null Count  Dtype         \n",
      "---  ------       --------------  -----         \n",
      " 0   RegionID     88620 non-null  int64         \n",
      " 1   RegionName   88620 non-null  object        \n",
      " 2   City         88620 non-null  object        \n",
      " 3   State        88620 non-null  object        \n",
      " 4   Metro        88550 non-null  object        \n",
      " 5   CountyName   88620 non-null  object        \n",
      " 6   year-month   88620 non-null  datetime64[ns]\n",
      " 7   ZRI          88620 non-null  float64       \n",
      " 8   year_zillow  88620 non-null  int64         \n",
      "dtypes: datetime64[ns](1), float64(1), int64(2), object(5)\n",
      "memory usage: 6.8+ MB\n"
     ]
    }
   ],
   "source": [
    "zillow.info()"
   ]
  },
  {
   "cell_type": "code",
   "execution_count": 335,
   "id": "02916f8b",
   "metadata": {},
   "outputs": [
    {
     "name": "stdout",
     "output_type": "stream",
     "text": [
      "<class 'pandas.core.frame.DataFrame'>\n",
      "RangeIndex: 6058 entries, 0 to 6057\n",
      "Data columns (total 5 columns):\n",
      " #   Column       Non-Null Count  Dtype \n",
      "---  ------       --------------  ----- \n",
      " 0   year         6058 non-null   int64 \n",
      " 1   zipcode      6058 non-null   object\n",
      " 2   state        6058 non-null   object\n",
      " 3   system_name  6058 non-null   int64 \n",
      " 4   fac_id       6058 non-null   int64 \n",
      "dtypes: int64(3), object(2)\n",
      "memory usage: 236.8+ KB\n"
     ]
    }
   ],
   "source": [
    "bikes_summary.info()"
   ]
  },
  {
   "cell_type": "code",
   "execution_count": 336,
   "id": "66b5e480",
   "metadata": {},
   "outputs": [],
   "source": [
    "#Now both zips are strings and both years are ints "
   ]
  },
  {
   "cell_type": "code",
   "execution_count": 337,
   "id": "d7583803",
   "metadata": {
    "scrolled": false
   },
   "outputs": [
    {
     "data": {
      "text/html": [
       "<div>\n",
       "<style scoped>\n",
       "    .dataframe tbody tr th:only-of-type {\n",
       "        vertical-align: middle;\n",
       "    }\n",
       "\n",
       "    .dataframe tbody tr th {\n",
       "        vertical-align: top;\n",
       "    }\n",
       "\n",
       "    .dataframe thead th {\n",
       "        text-align: right;\n",
       "    }\n",
       "</style>\n",
       "<table border=\"1\" class=\"dataframe\">\n",
       "  <thead>\n",
       "    <tr style=\"text-align: right;\">\n",
       "      <th></th>\n",
       "      <th>year</th>\n",
       "      <th>zipcode</th>\n",
       "      <th>state</th>\n",
       "      <th>system_name</th>\n",
       "      <th>fac_id</th>\n",
       "    </tr>\n",
       "  </thead>\n",
       "  <tbody>\n",
       "  </tbody>\n",
       "</table>\n",
       "</div>"
      ],
      "text/plain": [
       "Empty DataFrame\n",
       "Columns: [year, zipcode, state, system_name, fac_id]\n",
       "Index: []"
      ]
     },
     "execution_count": 337,
     "metadata": {},
     "output_type": "execute_result"
    }
   ],
   "source": [
    "bikes_summary[bikes_summary.duplicated(['year','zipcode','state'],keep=False)]"
   ]
  },
  {
   "cell_type": "code",
   "execution_count": null,
   "id": "f9f6a2e7",
   "metadata": {},
   "outputs": [],
   "source": [
    "pd.set_option('dispaly')"
   ]
  },
  {
   "cell_type": "code",
   "execution_count": 339,
   "id": "8a3f572f",
   "metadata": {
    "scrolled": false
   },
   "outputs": [],
   "source": [
    "zillow_bikes = pd.merge(zillow,bikes_summary,how='left',left_on=['RegionName','year_zillow','State'],right_on=['zipcode','year','state'])"
   ]
  },
  {
   "cell_type": "code",
   "execution_count": 345,
   "id": "a847cd16",
   "metadata": {},
   "outputs": [
    {
     "data": {
      "text/plain": [
       "RegionID           0\n",
       "RegionName         0\n",
       "City               0\n",
       "State              0\n",
       "Metro             70\n",
       "CountyName         0\n",
       "year-month         0\n",
       "ZRI                0\n",
       "year_zillow        0\n",
       "system_name    70560\n",
       "fac_id         70560\n",
       "dtype: int64"
      ]
     },
     "execution_count": 345,
     "metadata": {},
     "output_type": "execute_result"
    }
   ],
   "source": [
    "zillow_bikes.drop(['year','zipcode','state'],axis=1).isna().sum()"
   ]
  },
  {
   "cell_type": "code",
   "execution_count": 349,
   "id": "2e3a75d9",
   "metadata": {},
   "outputs": [],
   "source": [
    "zillow_bikes = zillow_bikes.drop(['year','zipcode','state'],axis=1)"
   ]
  },
  {
   "cell_type": "code",
   "execution_count": 352,
   "id": "c63797d3",
   "metadata": {},
   "outputs": [
    {
     "name": "stdout",
     "output_type": "stream",
     "text": [
      "<class 'pandas.core.frame.DataFrame'>\n",
      "Int64Index: 88620 entries, 0 to 88619\n",
      "Data columns (total 11 columns):\n",
      " #   Column       Non-Null Count  Dtype         \n",
      "---  ------       --------------  -----         \n",
      " 0   RegionID     88620 non-null  int64         \n",
      " 1   RegionName   88620 non-null  object        \n",
      " 2   City         88620 non-null  object        \n",
      " 3   State        88620 non-null  object        \n",
      " 4   Metro        88550 non-null  object        \n",
      " 5   CountyName   88620 non-null  object        \n",
      " 6   year-month   88620 non-null  datetime64[ns]\n",
      " 7   ZRI          88620 non-null  float64       \n",
      " 8   year_zillow  88620 non-null  int64         \n",
      " 9   system_name  18060 non-null  float64       \n",
      " 10  fac_id       18060 non-null  float64       \n",
      "dtypes: datetime64[ns](1), float64(3), int64(2), object(5)\n",
      "memory usage: 10.1+ MB\n"
     ]
    }
   ],
   "source": [
    "zillow_bikes.info()"
   ]
  },
  {
   "cell_type": "code",
   "execution_count": 353,
   "id": "eebdbb4a",
   "metadata": {},
   "outputs": [],
   "source": [
    "#18,060 year-zip rows have bike info, 70560 do not - fill those with 0 "
   ]
  },
  {
   "cell_type": "code",
   "execution_count": 365,
   "id": "e6f2df8b",
   "metadata": {},
   "outputs": [],
   "source": [
    "zillow_bikes['system_name'] = zillow_bikes['system_name'].fillna(0)"
   ]
  },
  {
   "cell_type": "code",
   "execution_count": 364,
   "id": "afd89872",
   "metadata": {},
   "outputs": [],
   "source": [
    "zillow_bikes['fac_id'] = zillow_bikes['fac_id'].fillna(0)"
   ]
  },
  {
   "cell_type": "code",
   "execution_count": 366,
   "id": "ee8fa562",
   "metadata": {},
   "outputs": [
    {
     "name": "stdout",
     "output_type": "stream",
     "text": [
      "<class 'pandas.core.frame.DataFrame'>\n",
      "Int64Index: 88620 entries, 0 to 88619\n",
      "Data columns (total 11 columns):\n",
      " #   Column       Non-Null Count  Dtype         \n",
      "---  ------       --------------  -----         \n",
      " 0   RegionID     88620 non-null  int64         \n",
      " 1   RegionName   88620 non-null  object        \n",
      " 2   City         88620 non-null  object        \n",
      " 3   State        88620 non-null  object        \n",
      " 4   Metro        88550 non-null  object        \n",
      " 5   CountyName   88620 non-null  object        \n",
      " 6   year-month   88620 non-null  datetime64[ns]\n",
      " 7   ZRI          88620 non-null  float64       \n",
      " 8   year_zillow  88620 non-null  int64         \n",
      " 9   system_name  88620 non-null  float64       \n",
      " 10  fac_id       88620 non-null  float64       \n",
      "dtypes: datetime64[ns](1), float64(3), int64(2), object(5)\n",
      "memory usage: 10.1+ MB\n"
     ]
    }
   ],
   "source": [
    "zillow_bikes.info()"
   ]
  },
  {
   "cell_type": "code",
   "execution_count": 367,
   "id": "53abf162",
   "metadata": {},
   "outputs": [
    {
     "data": {
      "text/html": [
       "<div>\n",
       "<style scoped>\n",
       "    .dataframe tbody tr th:only-of-type {\n",
       "        vertical-align: middle;\n",
       "    }\n",
       "\n",
       "    .dataframe tbody tr th {\n",
       "        vertical-align: top;\n",
       "    }\n",
       "\n",
       "    .dataframe thead th {\n",
       "        text-align: right;\n",
       "    }\n",
       "</style>\n",
       "<table border=\"1\" class=\"dataframe\">\n",
       "  <thead>\n",
       "    <tr style=\"text-align: right;\">\n",
       "      <th></th>\n",
       "      <th>RegionID</th>\n",
       "      <th>RegionName</th>\n",
       "      <th>City</th>\n",
       "      <th>State</th>\n",
       "      <th>Metro</th>\n",
       "      <th>CountyName</th>\n",
       "      <th>year-month</th>\n",
       "      <th>ZRI</th>\n",
       "      <th>year_zillow</th>\n",
       "      <th>system_name</th>\n",
       "      <th>fac_id</th>\n",
       "    </tr>\n",
       "  </thead>\n",
       "  <tbody>\n",
       "    <tr>\n",
       "      <th>0</th>\n",
       "      <td>58207</td>\n",
       "      <td>01013</td>\n",
       "      <td>Chicopee</td>\n",
       "      <td>MA</td>\n",
       "      <td>Springfield</td>\n",
       "      <td>Hampden County</td>\n",
       "      <td>2014-03-01</td>\n",
       "      <td>934.0</td>\n",
       "      <td>2014</td>\n",
       "      <td>0.0</td>\n",
       "      <td>0.0</td>\n",
       "    </tr>\n",
       "    <tr>\n",
       "      <th>1</th>\n",
       "      <td>58207</td>\n",
       "      <td>01013</td>\n",
       "      <td>Chicopee</td>\n",
       "      <td>MA</td>\n",
       "      <td>Springfield</td>\n",
       "      <td>Hampden County</td>\n",
       "      <td>2014-04-01</td>\n",
       "      <td>929.0</td>\n",
       "      <td>2014</td>\n",
       "      <td>0.0</td>\n",
       "      <td>0.0</td>\n",
       "    </tr>\n",
       "    <tr>\n",
       "      <th>2</th>\n",
       "      <td>58207</td>\n",
       "      <td>01013</td>\n",
       "      <td>Chicopee</td>\n",
       "      <td>MA</td>\n",
       "      <td>Springfield</td>\n",
       "      <td>Hampden County</td>\n",
       "      <td>2014-05-01</td>\n",
       "      <td>929.0</td>\n",
       "      <td>2014</td>\n",
       "      <td>0.0</td>\n",
       "      <td>0.0</td>\n",
       "    </tr>\n",
       "    <tr>\n",
       "      <th>3</th>\n",
       "      <td>58207</td>\n",
       "      <td>01013</td>\n",
       "      <td>Chicopee</td>\n",
       "      <td>MA</td>\n",
       "      <td>Springfield</td>\n",
       "      <td>Hampden County</td>\n",
       "      <td>2014-06-01</td>\n",
       "      <td>929.0</td>\n",
       "      <td>2014</td>\n",
       "      <td>0.0</td>\n",
       "      <td>0.0</td>\n",
       "    </tr>\n",
       "    <tr>\n",
       "      <th>4</th>\n",
       "      <td>58207</td>\n",
       "      <td>01013</td>\n",
       "      <td>Chicopee</td>\n",
       "      <td>MA</td>\n",
       "      <td>Springfield</td>\n",
       "      <td>Hampden County</td>\n",
       "      <td>2014-07-01</td>\n",
       "      <td>930.0</td>\n",
       "      <td>2014</td>\n",
       "      <td>0.0</td>\n",
       "      <td>0.0</td>\n",
       "    </tr>\n",
       "    <tr>\n",
       "      <th>...</th>\n",
       "      <td>...</td>\n",
       "      <td>...</td>\n",
       "      <td>...</td>\n",
       "      <td>...</td>\n",
       "      <td>...</td>\n",
       "      <td>...</td>\n",
       "      <td>...</td>\n",
       "      <td>...</td>\n",
       "      <td>...</td>\n",
       "      <td>...</td>\n",
       "      <td>...</td>\n",
       "    </tr>\n",
       "    <tr>\n",
       "      <th>88615</th>\n",
       "      <td>399713</td>\n",
       "      <td>60642</td>\n",
       "      <td>Chicago</td>\n",
       "      <td>IL</td>\n",
       "      <td>Chicago-Naperville-Elgin</td>\n",
       "      <td>Cook County</td>\n",
       "      <td>2019-08-01</td>\n",
       "      <td>2001.0</td>\n",
       "      <td>2019</td>\n",
       "      <td>0.0</td>\n",
       "      <td>0.0</td>\n",
       "    </tr>\n",
       "    <tr>\n",
       "      <th>88616</th>\n",
       "      <td>399713</td>\n",
       "      <td>60642</td>\n",
       "      <td>Chicago</td>\n",
       "      <td>IL</td>\n",
       "      <td>Chicago-Naperville-Elgin</td>\n",
       "      <td>Cook County</td>\n",
       "      <td>2019-09-01</td>\n",
       "      <td>2017.0</td>\n",
       "      <td>2019</td>\n",
       "      <td>0.0</td>\n",
       "      <td>0.0</td>\n",
       "    </tr>\n",
       "    <tr>\n",
       "      <th>88617</th>\n",
       "      <td>399713</td>\n",
       "      <td>60642</td>\n",
       "      <td>Chicago</td>\n",
       "      <td>IL</td>\n",
       "      <td>Chicago-Naperville-Elgin</td>\n",
       "      <td>Cook County</td>\n",
       "      <td>2019-10-01</td>\n",
       "      <td>2006.0</td>\n",
       "      <td>2019</td>\n",
       "      <td>0.0</td>\n",
       "      <td>0.0</td>\n",
       "    </tr>\n",
       "    <tr>\n",
       "      <th>88618</th>\n",
       "      <td>399713</td>\n",
       "      <td>60642</td>\n",
       "      <td>Chicago</td>\n",
       "      <td>IL</td>\n",
       "      <td>Chicago-Naperville-Elgin</td>\n",
       "      <td>Cook County</td>\n",
       "      <td>2019-11-01</td>\n",
       "      <td>2016.0</td>\n",
       "      <td>2019</td>\n",
       "      <td>0.0</td>\n",
       "      <td>0.0</td>\n",
       "    </tr>\n",
       "    <tr>\n",
       "      <th>88619</th>\n",
       "      <td>399713</td>\n",
       "      <td>60642</td>\n",
       "      <td>Chicago</td>\n",
       "      <td>IL</td>\n",
       "      <td>Chicago-Naperville-Elgin</td>\n",
       "      <td>Cook County</td>\n",
       "      <td>2019-12-01</td>\n",
       "      <td>1972.0</td>\n",
       "      <td>2019</td>\n",
       "      <td>0.0</td>\n",
       "      <td>0.0</td>\n",
       "    </tr>\n",
       "  </tbody>\n",
       "</table>\n",
       "<p>88620 rows × 11 columns</p>\n",
       "</div>"
      ],
      "text/plain": [
       "       RegionID RegionName      City State                     Metro  \\\n",
       "0         58207      01013  Chicopee    MA               Springfield   \n",
       "1         58207      01013  Chicopee    MA               Springfield   \n",
       "2         58207      01013  Chicopee    MA               Springfield   \n",
       "3         58207      01013  Chicopee    MA               Springfield   \n",
       "4         58207      01013  Chicopee    MA               Springfield   \n",
       "...         ...        ...       ...   ...                       ...   \n",
       "88615    399713      60642   Chicago    IL  Chicago-Naperville-Elgin   \n",
       "88616    399713      60642   Chicago    IL  Chicago-Naperville-Elgin   \n",
       "88617    399713      60642   Chicago    IL  Chicago-Naperville-Elgin   \n",
       "88618    399713      60642   Chicago    IL  Chicago-Naperville-Elgin   \n",
       "88619    399713      60642   Chicago    IL  Chicago-Naperville-Elgin   \n",
       "\n",
       "           CountyName year-month     ZRI  year_zillow  system_name  fac_id  \n",
       "0      Hampden County 2014-03-01   934.0         2014          0.0     0.0  \n",
       "1      Hampden County 2014-04-01   929.0         2014          0.0     0.0  \n",
       "2      Hampden County 2014-05-01   929.0         2014          0.0     0.0  \n",
       "3      Hampden County 2014-06-01   929.0         2014          0.0     0.0  \n",
       "4      Hampden County 2014-07-01   930.0         2014          0.0     0.0  \n",
       "...               ...        ...     ...          ...          ...     ...  \n",
       "88615     Cook County 2019-08-01  2001.0         2019          0.0     0.0  \n",
       "88616     Cook County 2019-09-01  2017.0         2019          0.0     0.0  \n",
       "88617     Cook County 2019-10-01  2006.0         2019          0.0     0.0  \n",
       "88618     Cook County 2019-11-01  2016.0         2019          0.0     0.0  \n",
       "88619     Cook County 2019-12-01  1972.0         2019          0.0     0.0  \n",
       "\n",
       "[88620 rows x 11 columns]"
      ]
     },
     "execution_count": 367,
     "metadata": {},
     "output_type": "execute_result"
    }
   ],
   "source": [
    "zillow_bikes"
   ]
  },
  {
   "cell_type": "code",
   "execution_count": 384,
   "id": "6df8241f",
   "metadata": {},
   "outputs": [],
   "source": [
    "MA = zillow_bikes[zillow_bikes['State']=='MA']\n",
    "MA = MA[MA['year_zillow']==2017]\n",
    "MA = MA[MA['fac_id']!=0]"
   ]
  },
  {
   "cell_type": "code",
   "execution_count": 385,
   "id": "fc3aa3b6",
   "metadata": {},
   "outputs": [
    {
     "data": {
      "text/plain": [
       "<AxesSubplot:xlabel='RegionID', ylabel='fac_id'>"
      ]
     },
     "execution_count": 385,
     "metadata": {},
     "output_type": "execute_result"
    },
    {
     "data": {
      "image/png": "[encoded data removed]",
      "text/plain": [
       "<Figure size 432x288 with 1 Axes>"
      ]
     },
     "metadata": {
      "needs_background": "light"
     },
     "output_type": "display_data"
    }
   ],
   "source": [
    "sns.barplot(x=MA['RegionID'],y=MA['fac_id'])"
   ]
  }
 ],
 "metadata": {
  "kernelspec": {
   "display_name": "Python 3",
   "language": "python",
   "name": "python3"
  },
  "language_info": {
   "codemirror_mode": {
    "name": "ipython",
    "version": 3
   },
   "file_extension": ".py",
   "mimetype": "text/x-python",
   "name": "python",
   "nbconvert_exporter": "python",
   "pygments_lexer": "ipython3",
   "version": "3.8.8"
  }
 },
 "nbformat": 4,
 "nbformat_minor": 5
}
