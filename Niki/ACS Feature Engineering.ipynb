{
 "cells": [
  {
   "cell_type": "code",
   "execution_count": 2,
   "id": "6e6f68f5",
   "metadata": {},
   "outputs": [],
   "source": [
    "import pandas as pd\n",
    "import numpy as np \n",
    "import seaborn as sns"
   ]
  },
  {
   "cell_type": "markdown",
   "id": "c51a6882",
   "metadata": {},
   "source": [
    "# Load and prepare data "
   ]
  },
  {
   "cell_type": "code",
   "execution_count": 15,
   "id": "f5390a67",
   "metadata": {},
   "outputs": [],
   "source": [
    "zri = pd.read_csv('../data/zri_multifamily_v2.csv')\n",
    "zri['zip'] = zri['zip'].astype('string')\n",
    "zri['zip'] = [\"0\"+z if len(z)<5 else z for z in zri['zip']]\n",
    "zri['year'] = pd.to_datetime(zri['year-month'],format=\"%Y-%m\").dt.year\n",
    "\n",
    "\n",
    "acs = pd.read_csv('../../../zillow_orientation/acs_5yr_merged_v3.csv')\n",
    "acs['zip'] = acs['zip'].astype('string')\n",
    "acs['zip'] = [\"0\"+z if len(z)<5 else z for z in acs['zip']]\n",
    "acs['year_used']= acs['year']+2\n",
    "\n",
    "zri_acs = pd.merge(zri,acs,how='left',left_on=[\"zip\",\"year\"],right_on=[\"zip\",\"year_used\"])\n",
    "zri_acs = zri_acs.drop(index=zri_acs[zri_acs['zip']==\"11249\"].index)"
   ]
  },
  {
   "cell_type": "code",
   "execution_count": 34,
   "id": "9a833ef7",
   "metadata": {},
   "outputs": [],
   "source": [
    "#zri.shape[0]==zri_acs.shape[0]"
   ]
  },
  {
   "cell_type": "code",
   "execution_count": 33,
   "id": "4feab471",
   "metadata": {},
   "outputs": [],
   "source": [
    "#len(zri_acs['zip'].unique())"
   ]
  },
  {
   "cell_type": "code",
   "execution_count": 32,
   "id": "89f19dc0",
   "metadata": {},
   "outputs": [],
   "source": [
    "#zri_acs.shape"
   ]
  },
  {
   "cell_type": "code",
   "execution_count": 29,
   "id": "11039a0c",
   "metadata": {},
   "outputs": [],
   "source": [
    "#There are 72 rows where year_used (from ACS data) are NANs...\n",
    "#meaning that zip is not in the ACS but is in the ZRI. Drop it. "
   ]
  },
  {
   "cell_type": "code",
   "execution_count": 30,
   "id": "b22cad81",
   "metadata": {},
   "outputs": [],
   "source": [
    "#zri_acs = zri_acs.drop(index=zri_acs[zri_acs['zip']==\"11249\"].index)"
   ]
  },
  {
   "cell_type": "code",
   "execution_count": 113,
   "id": "3bcde3ae",
   "metadata": {},
   "outputs": [
    {
     "data": {
      "text/plain": [
       "14304    12720.0\n",
       "14305    12720.0\n",
       "14306    12720.0\n",
       "14307    12720.0\n",
       "14308    12720.0\n",
       "14309    12720.0\n",
       "14310    12720.0\n",
       "14311    12720.0\n",
       "14312    12720.0\n",
       "14313    12720.0\n",
       "14314    12720.0\n",
       "14315    12720.0\n",
       "Name: bachelors_degree_2, dtype: float64"
      ]
     },
     "execution_count": 113,
     "metadata": {},
     "output_type": "execute_result"
    }
   ],
   "source": [
    "jc = zri_acs[(zri_acs['zip']==\"07302\") & (zri_acs['year_x']==2018)]\n",
    "jc['bachelors_degree_2']"
   ]
  },
  {
   "cell_type": "code",
   "execution_count": 114,
   "id": "6919711f",
   "metadata": {},
   "outputs": [
    {
     "data": {
      "text/plain": [
       "14304    41026.0\n",
       "14305    41026.0\n",
       "14306    41026.0\n",
       "14307    41026.0\n",
       "14308    41026.0\n",
       "14309    41026.0\n",
       "14310    41026.0\n",
       "14311    41026.0\n",
       "14312    41026.0\n",
       "14313    41026.0\n",
       "14314    41026.0\n",
       "14315    41026.0\n",
       "Name: total_pop, dtype: float64"
      ]
     },
     "execution_count": 114,
     "metadata": {},
     "output_type": "execute_result"
    }
   ],
   "source": [
    "jc['total_pop']"
   ]
  },
  {
   "cell_type": "code",
   "execution_count": null,
   "id": "03618ffc",
   "metadata": {},
   "outputs": [],
   "source": [
    "jc['po']"
   ]
  },
  {
   "cell_type": "code",
   "execution_count": 115,
   "id": "d5e35fed",
   "metadata": {},
   "outputs": [
    {
     "data": {
      "text/plain": [
       "14304    3551.0\n",
       "14305    3551.0\n",
       "14306    3551.0\n",
       "14307    3551.0\n",
       "14308    3551.0\n",
       "14309    3551.0\n",
       "14310    3551.0\n",
       "14311    3551.0\n",
       "14312    3551.0\n",
       "14313    3551.0\n",
       "14314    3551.0\n",
       "14315    3551.0\n",
       "Name: some_college_and_associates_degree, dtype: float64"
      ]
     },
     "execution_count": 115,
     "metadata": {},
     "output_type": "execute_result"
    }
   ],
   "source": [
    "jc['some_college_and_associates_degree']"
   ]
  },
  {
   "cell_type": "code",
   "execution_count": 184,
   "id": "ecc0ad4f",
   "metadata": {},
   "outputs": [],
   "source": [
    "zri_acs['derived_pop_over_25']= zri_acs[['male_25_to_29',\n",
    " 'male_30_to_34',\n",
    " 'male_35_to_39',\n",
    " 'male_40_to_44',\n",
    " 'male_45_to_49',\n",
    " 'male_50_to_54',\n",
    " 'male_55_to_59',\n",
    " 'male_60_61',\n",
    " 'male_62_64',\n",
    " 'male_65_to_66',\n",
    " 'male_67_to_69',\n",
    " 'male_70_to_74',\n",
    " 'male_75_to_79',\n",
    " 'male_80_to_84',\n",
    " 'male_85_and_over',\n",
    " 'female_25_to_29',\n",
    " 'female_30_to_34',\n",
    " 'female_35_to_39',\n",
    " 'female_40_to_44',\n",
    " 'female_45_to_49',\n",
    " 'female_50_to_54',\n",
    " 'female_55_to_59',\n",
    " 'female_60_to_61',\n",
    " 'female_62_to_64',\n",
    " 'female_65_to_66',\n",
    " 'female_67_to_69',\n",
    " 'female_70_to_74',\n",
    " 'female_75_to_79',\n",
    " 'female_80_to_84',\n",
    " 'female_85_and_over']].sum(axis='columns')"
   ]
  },
  {
   "cell_type": "code",
   "execution_count": 185,
   "id": "3d4f81b9",
   "metadata": {},
   "outputs": [
    {
     "data": {
      "text/plain": [
       "0        11112.0\n",
       "1        11112.0\n",
       "2        11112.0\n",
       "3        11112.0\n",
       "4        11112.0\n",
       "          ...   \n",
       "93739    32424.0\n",
       "93740    32424.0\n",
       "93741    32424.0\n",
       "93742    32424.0\n",
       "93743    32424.0\n",
       "Name: pop_25_64, Length: 93672, dtype: float64"
      ]
     },
     "execution_count": 185,
     "metadata": {},
     "output_type": "execute_result"
    }
   ],
   "source": [
    "zri_acs['pop_25_64']"
   ]
  },
  {
   "cell_type": "code",
   "execution_count": 186,
   "id": "4b4db86f",
   "metadata": {},
   "outputs": [
    {
     "data": {
      "text/plain": [
       "<AxesSubplot:>"
      ]
     },
     "execution_count": 186,
     "metadata": {},
     "output_type": "execute_result"
    },
    {
     "data": {
      "image/png": "[encoded data removed]",
      "text/plain": [
       "<Figure size 432x288 with 1 Axes>"
      ]
     },
     "metadata": {
      "needs_background": "light"
     },
     "output_type": "display_data"
    }
   ],
   "source": [
    "(zri_acs['derived_pop_over_25']-zri_acs['pop_25_64']).hist(bins=100)"
   ]
  },
  {
   "cell_type": "code",
   "execution_count": 187,
   "id": "943c33f0",
   "metadata": {},
   "outputs": [
    {
     "data": {
      "text/plain": [
       "<AxesSubplot:>"
      ]
     },
     "execution_count": 187,
     "metadata": {},
     "output_type": "execute_result"
    },
    {
     "data": {
      "image/png": "[encoded data removed]",
      "text/plain": [
       "<Figure size 432x288 with 1 Axes>"
      ]
     },
     "metadata": {
      "needs_background": "light"
     },
     "output_type": "display_data"
    }
   ],
   "source": [
    "zri_acs['derived_pop_over_25'].hist()"
   ]
  },
  {
   "cell_type": "code",
   "execution_count": 188,
   "id": "748450e4",
   "metadata": {},
   "outputs": [
    {
     "data": {
      "text/plain": [
       "<AxesSubplot:>"
      ]
     },
     "execution_count": 188,
     "metadata": {},
     "output_type": "execute_result"
    },
    {
     "data": {
      "image/png": "[encoded data removed]",
      "text/plain": [
       "<Figure size 432x288 with 1 Axes>"
      ]
     },
     "metadata": {
      "needs_background": "light"
     },
     "output_type": "display_data"
    }
   ],
   "source": [
    "zri_acs['pop_25_64'].hist()"
   ]
  },
  {
   "cell_type": "code",
   "execution_count": 189,
   "id": "182c0342",
   "metadata": {},
   "outputs": [
    {
     "data": {
      "text/plain": [
       "1596.0"
      ]
     },
     "execution_count": 189,
     "metadata": {},
     "output_type": "execute_result"
    }
   ],
   "source": [
    "zri_acs['derived_pop_over_25'].min()"
   ]
  },
  {
   "cell_type": "markdown",
   "id": "0bdf6753",
   "metadata": {},
   "source": [
    "# Education"
   ]
  },
  {
   "cell_type": "code",
   "execution_count": 190,
   "id": "b60a4feb",
   "metadata": {},
   "outputs": [],
   "source": [
    "_percent_graduate = zri_acs['graduate_professional_degree']/zri_acs['total_pop'] #population \n",
    "_percent_bachelors = zri_acs['bachelors_degree_2']/zri_acs['total_pop'] #population \n",
    "_percent_associates = zri_acs['some_college_and_associates_degree']/zri_acs['derived_pop_over_25'] #25 and over \n",
    "_percent_highschool = zri_acs['high_school_including_ged']/zri_acs['derived_pop_over_25']  #25 and over \n",
    "_percent_less_highschool = zri_acs['less_than_high_school_graduate']/zri_acs['derived_pop_over_25']  #25 and over \n"
   ]
  },
  {
   "cell_type": "markdown",
   "id": "c5f7f87c",
   "metadata": {},
   "source": [
    "# Commute "
   ]
  },
  {
   "cell_type": "code",
   "execution_count": 206,
   "id": "ec691290",
   "metadata": {},
   "outputs": [],
   "source": [
    "_percent_commute_public_transport = zri_acs['commuters_by_public_transportation']/zri_acs['commuters_16_over'] "
   ]
  },
  {
   "cell_type": "code",
   "execution_count": 216,
   "id": "ab95db28",
   "metadata": {},
   "outputs": [],
   "source": [
    "_percent_commute_less_30 = (zri_acs[['commute_5_9_mins',\n",
    "                                   'commute_10_14_mins',\n",
    "                                   'commute_15_19_mins',\n",
    "                                   'commute_20_24_mins',\n",
    "                                   'commute_25_29_mins']].sum(axis='columns'))/zri_acs['commuters_16_over']\n",
    "\n",
    "_percent_commute_30_to_59 = (zri_acs[['commute_30_34_mins',\n",
    "                                     'commute_35_44_mins',\n",
    "                                     'commute_35_39_mins',\n",
    "                                     'commute_40_44_mins',\n",
    "                                     'commute_45_59_mins']].sum(axis='columns'))/zri_acs['commuters_16_over']\n",
    "\n",
    "_percent_commute_60_to_89 = zri_acs['commute_60_89_mins']/zri_acs['commuters_16_over']\n",
    "\n",
    "_percent_commute_90_more = zri_acs['commute_90_more_mins']/zri_acs['commuters_16_over']"
   ]
  },
  {
   "cell_type": "markdown",
   "id": "5c21c976",
   "metadata": {},
   "source": [
    "# Movers"
   ]
  },
  {
   "cell_type": "code",
   "execution_count": 217,
   "id": "cec673ad",
   "metadata": {},
   "outputs": [],
   "source": [
    "#moved to this city from another city \n",
    "_percent_new_city = zri_acs['different_house_year_ago_different_city']/zri_acs['total_pop']"
   ]
  },
  {
   "cell_type": "code",
   "execution_count": null,
   "id": "43a82e42",
   "metadata": {},
   "outputs": [],
   "source": [
    "#moved to a new unit in this same city\n",
    "_percent_new_unit = zri_acs['different_house_year_ago_same_city']/zri_acs['total_pop']"
   ]
  },
  {
   "cell_type": "markdown",
   "id": "8bdd7e39",
   "metadata": {},
   "source": [
    "# Renter occupied "
   ]
  },
  {
   "cell_type": "code",
   "execution_count": 220,
   "id": "5c1f994f",
   "metadata": {},
   "outputs": [],
   "source": [
    "#Renter occupied housing units. All occupied units which are not owner occupied, whether they \n",
    "#are rented for cash rent or occupied without payment of cash rent, are classified as renter-occupied.\n",
    "_percent_renter_occupied = zri_acs['housing_units_renter_occupied']/zri_acs['housing_units']"
   ]
  },
  {
   "cell_type": "code",
   "execution_count": 222,
   "id": "630050f1",
   "metadata": {},
   "outputs": [],
   "source": [
    "_percent_owner_occupied = zri_acs['owner_occupied_housing_units']/zri_acs['housing_units']"
   ]
  },
  {
   "cell_type": "code",
   "execution_count": null,
   "id": "eaef4ec8",
   "metadata": {},
   "outputs": [],
   "source": [
    "_percent_for_rent = zri_acs['vacant_housing_units_for_rent']/zri_acs['housing_units']"
   ]
  },
  {
   "cell_type": "code",
   "execution_count": null,
   "id": "04e49f56",
   "metadata": {},
   "outputs": [],
   "source": [
    "_median_age = zri_acs['median_age']"
   ]
  },
  {
   "cell_type": "code",
   "execution_count": null,
   "id": "0bbc08ca",
   "metadata": {},
   "outputs": [],
   "source": [
    "pre_working_cols = [\n",
    "    'male_under_5',\n",
    "    'male_5_to_9',\n",
    "    'male_10_to_14',\n",
    "    'male_15_to_17',\n",
    "    'female_under_5',\n",
    "    'female_5_to_9',\n",
    "    'female_10_to_14',\n",
    "    'female_15_to_17'\n",
    "]\n",
    "adult_cols = [\n",
    "    'male_18_to_19',\n",
    "    'male_20',\n",
    "    'male_21',\n",
    "    'male_22_to_24',\n",
    "    'male_25_to_29',\n",
    "    'male_30_to_34',\n",
    "    'male_35_to_39',\n",
    "    'female_18_to_19',\n",
    "    'female_20',\n",
    "    'female_21',\n",
    "    'female_22_to_24',\n",
    "    'female_25_to_29',\n",
    "    'female_30_to_34',\n",
    "    'female_35_to_39'\n",
    "]\n",
    "older_adult_cols = [\n",
    "    'female_40_to_44',\n",
    "    'female_45_to_49',\n",
    "    'female_50_to_54',\n",
    "    'female_55_to_59',\n",
    "    'female_60_to_61',\n",
    "    'female_62_to_64',\n",
    "    'male_40_to_44',\n",
    "    'male_45_to_49',\n",
    "    'male_50_to_54',\n",
    "    'male_55_to_59',\n",
    "    'male_60_61',\n",
    "    'male_62_64'\n",
    "]\n",
    "senior_cols = [\n",
    "    'female_65_to_66',\n",
    "    'female_67_to_69',\n",
    "    'female_70_to_74',\n",
    "    'female_75_to_79',\n",
    "    'female_80_to_84',\n",
    "    'female_85_and_over',\n",
    "    'male_65_to_66',\n",
    "    'male_67_to_69',\n",
    "    'male_70_to_74',\n",
    "    'male_75_to_79',\n",
    "    'male_80_to_84',\n",
    "    'male_85_and_over'\n",
    "]\n",
    "df['white_pct'] = df['white_pop']/df['total_pop']\n",
    "df['black_pct'] = df['black_pop']/df['total_pop']\n",
    "df['asian_pct'] = df['asian_pop']/df['total_pop']\n",
    "df['hispanic_pct'] = df['hispanic_pop']/df['total_pop']\n",
    "df['hispanic_pct'] = df['hispanic_pop']/df['total_pop']\n",
    "df['native_pct'] = df['amerindian_pop']/df['total_pop']\n",
    "df['other_pct'] = df['other_race_pop']/df['total_pop']\n",
    "df['pre_working_pct'] = df.loc[:,pre_working_cols].sum(axis = 1)/df['total_pop']\n",
    "df['18_39_pct'] = df.loc[:,adult_cols].sum(axis = 1)/df['total_pop']\n",
    "df['40_64_pct'] = df.loc[:,older_adult_cols].sum(axis = 1)/df['total_pop']\n",
    "df['65+_pct'] = df.loc[:,senior_cols].sum(axis = 1)/df['total_pop']\n",
    "# trying to measure demand of rental units\n",
    "df['rental_unit_vacancy_ratio'] = df['vacant_housing_units_for_rent']/df['housing_units_renter_occupied']"
   ]
  },
  {
   "cell_type": "code",
   "execution_count": null,
   "id": "bd9cc17d",
   "metadata": {},
   "outputs": [],
   "source": []
  },
  {
   "cell_type": "code",
   "execution_count": null,
   "id": "73287a3b",
   "metadata": {},
   "outputs": [],
   "source": []
  },
  {
   "cell_type": "code",
   "execution_count": null,
   "id": "2a7758f2",
   "metadata": {},
   "outputs": [],
   "source": []
  },
  {
   "cell_type": "code",
   "execution_count": null,
   "id": "b4fe1e63",
   "metadata": {},
   "outputs": [],
   "source": [
    "#dwellings 50 and more\n",
    "#year built  "
   ]
  },
  {
   "cell_type": "code",
   "execution_count": null,
   "id": "a4daca24",
   "metadata": {},
   "outputs": [],
   "source": [
    "# percent_commute_\n",
    "# 'commute_5_9_mins',\n",
    "# 'commute_10_14_mins',\n",
    "#  'commute_15_19_mins',\n",
    "#  'commute_20_24_mins',\n",
    "#  'commute_25_29_mins',\n",
    "#  'commute_30_34_mins',\n",
    "# 'commute_35_44_mins',\n",
    "#  'commute_35_39_mins',\n",
    "# 'commute_40_44_mins',\n",
    "#  'commute_45_59_mins',\n",
    "#  'commute_60_89_mins',\n",
    "#  'commute_90_more_mins',\n",
    "#  'commute_60_more_mins',\n",
    "#  'commute_less_10_mins',\n",
    "#  'commuters_16_over',"
   ]
  }
 ],
 "metadata": {
  "kernelspec": {
   "display_name": "Python 3",
   "language": "python",
   "name": "python3"
  },
  "language_info": {
   "codemirror_mode": {
    "name": "ipython",
    "version": 3
   },
   "file_extension": ".py",
   "mimetype": "text/x-python",
   "name": "python",
   "nbconvert_exporter": "python",
   "pygments_lexer": "ipython3",
   "version": "3.8.8"
  }
 },
 "nbformat": 4,
 "nbformat_minor": 5
}
