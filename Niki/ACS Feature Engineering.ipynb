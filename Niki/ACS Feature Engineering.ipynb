{
 "cells": [
  {
   "cell_type": "code",
   "execution_count": 89,
   "id": "6e6f68f5",
   "metadata": {},
   "outputs": [],
   "source": [
    "import pandas as pd\n",
    "import numpy as np \n",
    "import seaborn as sns"
   ]
  },
  {
   "cell_type": "code",
   "execution_count": 2,
   "id": "5f3b1d58",
   "metadata": {},
   "outputs": [],
   "source": [
    "zri = pd.read_csv('../data/zri_multifamily_v2.csv')"
   ]
  },
  {
   "cell_type": "code",
   "execution_count": 31,
   "id": "c983f5f0",
   "metadata": {},
   "outputs": [
    {
     "data": {
      "text/plain": [
       "(93744,)"
      ]
     },
     "execution_count": 31,
     "metadata": {},
     "output_type": "execute_result"
    }
   ],
   "source": [
    "zri['zip'].shape"
   ]
  },
  {
   "cell_type": "code",
   "execution_count": null,
   "id": "3bb17f48",
   "metadata": {},
   "outputs": [],
   "source": [
    "#Make zip a string and add leading 0 "
   ]
  },
  {
   "cell_type": "code",
   "execution_count": 24,
   "id": "47d23bec",
   "metadata": {},
   "outputs": [],
   "source": [
    "zri['zip'] = zri['zip'].astype('string')"
   ]
  },
  {
   "cell_type": "code",
   "execution_count": 32,
   "id": "b67d61d6",
   "metadata": {},
   "outputs": [],
   "source": [
    "zri['zip'] = [\"0\"+z if len(z)<5 else z for z in zri['zip']]"
   ]
  },
  {
   "cell_type": "code",
   "execution_count": 40,
   "id": "78586f88",
   "metadata": {},
   "outputs": [],
   "source": [
    "#Add year "
   ]
  },
  {
   "cell_type": "code",
   "execution_count": 41,
   "id": "b66c207e",
   "metadata": {},
   "outputs": [],
   "source": [
    "zri['year'] = pd.to_datetime(zri['year-month'],format=\"%Y-%m\").dt.year"
   ]
  },
  {
   "cell_type": "code",
   "execution_count": 73,
   "id": "939f540b",
   "metadata": {},
   "outputs": [],
   "source": [
    "acs = pd.read_csv('../../../zillow_orientation/acs_5yr_merged_v3.csv')"
   ]
  },
  {
   "cell_type": "code",
   "execution_count": 74,
   "id": "90fe73cb",
   "metadata": {},
   "outputs": [],
   "source": [
    "acs['zip'] = acs['zip'].astype('string')"
   ]
  },
  {
   "cell_type": "code",
   "execution_count": 75,
   "id": "e79164a3",
   "metadata": {},
   "outputs": [],
   "source": [
    "acs['zip'] = [\"0\"+z if len(z)<5 else z for z in acs['zip']]"
   ]
  },
  {
   "cell_type": "code",
   "execution_count": 76,
   "id": "35bbbfbf",
   "metadata": {},
   "outputs": [
    {
     "data": {
      "text/plain": [
       "array([2011, 2012, 2013, 2014, 2015, 2016, 2017])"
      ]
     },
     "execution_count": 76,
     "metadata": {},
     "output_type": "execute_result"
    }
   ],
   "source": [
    "acs['year'].unique()"
   ]
  },
  {
   "cell_type": "code",
   "execution_count": 77,
   "id": "25fc2501",
   "metadata": {},
   "outputs": [],
   "source": [
    "acs['year_used']=acs['year']"
   ]
  },
  {
   "cell_type": "code",
   "execution_count": 78,
   "id": "917b5011",
   "metadata": {},
   "outputs": [],
   "source": [
    "acs['year_used']= acs['year_used']+2"
   ]
  },
  {
   "cell_type": "code",
   "execution_count": 81,
   "id": "c6dea786",
   "metadata": {},
   "outputs": [],
   "source": [
    "zri_acs = pd.merge(zri,acs,how='left',left_on=[\"zip\",\"year\"],right_on=[\"zip\",\"year_used\"])"
   ]
  },
  {
   "cell_type": "code",
   "execution_count": 87,
   "id": "f3ea4b94",
   "metadata": {},
   "outputs": [
    {
     "data": {
      "text/plain": [
       "True"
      ]
     },
     "execution_count": 87,
     "metadata": {},
     "output_type": "execute_result"
    }
   ],
   "source": [
    "zri.shape[0]==zri_acs.shape[0]"
   ]
  },
  {
   "cell_type": "code",
   "execution_count": 85,
   "id": "0b743fba",
   "metadata": {},
   "outputs": [
    {
     "data": {
      "text/plain": [
       "1302"
      ]
     },
     "execution_count": 85,
     "metadata": {},
     "output_type": "execute_result"
    }
   ],
   "source": [
    "len(zri_acs['zip'].unique())"
   ]
  },
  {
   "cell_type": "code",
   "execution_count": 96,
   "id": "43a10cab",
   "metadata": {},
   "outputs": [
    {
     "data": {
      "text/plain": [
       "['zri',\n",
       " 'year_x',\n",
       " 'do_date',\n",
       " 'nonfamily_households',\n",
       " 'family_households',\n",
       " 'median_year_structure_built',\n",
       " 'rent_burden_not_computed',\n",
       " 'rent_over_50_percent',\n",
       " 'rent_40_to_50_percent',\n",
       " 'rent_35_to_40_percent',\n",
       " 'rent_30_to_35_percent',\n",
       " 'rent_25_to_30_percent',\n",
       " 'rent_20_to_25_percent',\n",
       " 'rent_15_to_20_percent',\n",
       " 'rent_10_to_15_percent',\n",
       " 'rent_under_10_percent',\n",
       " 'total_pop',\n",
       " 'male_pop',\n",
       " 'female_pop',\n",
       " 'median_age',\n",
       " 'white_pop',\n",
       " 'black_pop',\n",
       " 'asian_pop',\n",
       " 'hispanic_pop',\n",
       " 'amerindian_pop',\n",
       " 'other_race_pop',\n",
       " 'two_or_more_races_pop',\n",
       " 'not_hispanic_pop',\n",
       " 'commuters_by_public_transportation',\n",
       " 'households',\n",
       " 'income_per_capita',\n",
       " 'housing_units',\n",
       " 'vacant_housing_units',\n",
       " 'vacant_housing_units_for_rent',\n",
       " 'vacant_housing_units_for_sale',\n",
       " 'owner_occupied_housing_units',\n",
       " 'million_dollar_housing_units',\n",
       " 'mortgaged_housing_units',\n",
       " 'families_with_young_children',\n",
       " 'two_parent_families_with_young_children',\n",
       " 'two_parents_in_labor_force_families_with_young_children',\n",
       " 'two_parents_father_in_labor_force_families_with_young_children',\n",
       " 'two_parents_mother_in_labor_force_families_with_young_children',\n",
       " 'two_parents_not_in_labor_force_families_with_young_children',\n",
       " 'one_parent_families_with_young_children',\n",
       " 'father_one_parent_families_with_young_children',\n",
       " 'father_in_labor_force_one_parent_families_with_young_children',\n",
       " 'commute_10_14_mins',\n",
       " 'commute_15_19_mins',\n",
       " 'commute_20_24_mins',\n",
       " 'commute_25_29_mins',\n",
       " 'commute_30_34_mins',\n",
       " 'commute_45_59_mins',\n",
       " 'income_less_10000',\n",
       " 'income_10000_14999',\n",
       " 'income_15000_19999',\n",
       " 'income_20000_24999',\n",
       " 'income_25000_29999',\n",
       " 'income_30000_34999',\n",
       " 'income_35000_39999',\n",
       " 'income_40000_44999',\n",
       " 'income_45000_49999',\n",
       " 'income_50000_59999',\n",
       " 'income_60000_74999',\n",
       " 'income_75000_99999',\n",
       " 'income_100000_124999',\n",
       " 'income_125000_149999',\n",
       " 'income_150000_199999',\n",
       " 'income_200000_or_more',\n",
       " 'owner_occupied_housing_units_median_value',\n",
       " 'married_households',\n",
       " 'occupied_housing_units',\n",
       " 'housing_units_renter_occupied',\n",
       " 'dwellings_1_units_detached',\n",
       " 'dwellings_1_units_attached',\n",
       " 'dwellings_2_units',\n",
       " 'dwellings_3_to_4_units',\n",
       " 'dwellings_5_to_9_units',\n",
       " 'dwellings_10_to_19_units',\n",
       " 'dwellings_20_to_49_units',\n",
       " 'dwellings_50_or_more_units',\n",
       " 'mobile_homes',\n",
       " 'housing_built_2005_or_later',\n",
       " 'housing_built_2000_to_2004',\n",
       " 'housing_built_1939_or_earlier',\n",
       " 'male_under_5',\n",
       " 'male_5_to_9',\n",
       " 'male_10_to_14',\n",
       " 'male_15_to_17',\n",
       " 'male_18_to_19',\n",
       " 'male_20',\n",
       " 'male_21',\n",
       " 'male_22_to_24',\n",
       " 'male_25_to_29',\n",
       " 'male_30_to_34',\n",
       " 'male_35_to_39',\n",
       " 'male_40_to_44',\n",
       " 'male_45_to_49',\n",
       " 'male_50_to_54',\n",
       " 'male_55_to_59',\n",
       " 'male_60_61',\n",
       " 'male_62_64',\n",
       " 'male_65_to_66',\n",
       " 'male_67_to_69',\n",
       " 'male_70_to_74',\n",
       " 'male_75_to_79',\n",
       " 'male_80_to_84',\n",
       " 'male_85_and_over',\n",
       " 'female_under_5',\n",
       " 'female_5_to_9',\n",
       " 'female_10_to_14',\n",
       " 'female_15_to_17',\n",
       " 'female_18_to_19',\n",
       " 'female_20',\n",
       " 'female_21',\n",
       " 'female_22_to_24',\n",
       " 'female_25_to_29',\n",
       " 'female_30_to_34',\n",
       " 'female_35_to_39',\n",
       " 'female_40_to_44',\n",
       " 'female_45_to_49',\n",
       " 'female_50_to_54',\n",
       " 'female_55_to_59',\n",
       " 'female_60_to_61',\n",
       " 'female_62_to_64',\n",
       " 'female_65_to_66',\n",
       " 'female_67_to_69',\n",
       " 'female_70_to_74',\n",
       " 'female_75_to_79',\n",
       " 'female_80_to_84',\n",
       " 'female_85_and_over',\n",
       " 'white_including_hispanic',\n",
       " 'black_including_hispanic',\n",
       " 'amerindian_including_hispanic',\n",
       " 'asian_including_hispanic',\n",
       " 'commute_5_9_mins',\n",
       " 'commute_35_39_mins',\n",
       " 'commute_40_44_mins',\n",
       " 'commute_60_89_mins',\n",
       " 'commute_90_more_mins',\n",
       " 'households_retirement_income',\n",
       " 'armed_forces',\n",
       " 'civilian_labor_force',\n",
       " 'employed_pop',\n",
       " 'unemployed_pop',\n",
       " 'not_in_labor_force',\n",
       " 'pop_16_over',\n",
       " 'pop_in_labor_force',\n",
       " 'asian_male_45_54',\n",
       " 'asian_male_55_64',\n",
       " 'black_male_45_54',\n",
       " 'black_male_55_64',\n",
       " 'hispanic_male_45_54',\n",
       " 'hispanic_male_55_64',\n",
       " 'white_male_45_54',\n",
       " 'white_male_55_64',\n",
       " 'bachelors_degree_2',\n",
       " 'bachelors_degree_or_higher_25_64',\n",
       " 'children',\n",
       " 'children_in_single_female_hh',\n",
       " 'commuters_by_bus',\n",
       " 'commuters_by_car_truck_van',\n",
       " 'commuters_by_carpool',\n",
       " 'commuters_by_subway_or_elevated',\n",
       " 'commuters_drove_alone',\n",
       " 'different_house_year_ago_different_city',\n",
       " 'different_house_year_ago_same_city',\n",
       " 'employed_agriculture_forestry_fishing_hunting_mining',\n",
       " 'employed_arts_entertainment_recreation_accommodation_food',\n",
       " 'employed_construction',\n",
       " 'employed_education_health_social',\n",
       " 'employed_finance_insurance_real_estate',\n",
       " 'employed_information',\n",
       " 'employed_manufacturing',\n",
       " 'employed_other_services_not_public_admin',\n",
       " 'employed_public_administration',\n",
       " 'employed_retail_trade',\n",
       " 'employed_science_management_admin_waste',\n",
       " 'employed_transportation_warehousing_utilities',\n",
       " 'employed_wholesale_trade',\n",
       " 'female_female_households',\n",
       " 'four_more_cars',\n",
       " 'gini_index',\n",
       " 'graduate_professional_degree',\n",
       " 'group_quarters',\n",
       " 'high_school_including_ged',\n",
       " 'households_public_asst_or_food_stamps',\n",
       " 'in_grades_1_to_4',\n",
       " 'in_grades_5_to_8',\n",
       " 'in_grades_9_to_12',\n",
       " 'in_school',\n",
       " 'in_undergrad_college',\n",
       " 'less_than_high_school_graduate',\n",
       " 'male_45_64_associates_degree',\n",
       " 'male_45_64_bachelors_degree',\n",
       " 'male_45_64_graduate_degree',\n",
       " 'male_45_64_less_than_9_grade',\n",
       " 'male_45_64_grade_9_12',\n",
       " 'male_45_64_high_school',\n",
       " 'male_45_64_some_college',\n",
       " 'male_45_to_64',\n",
       " 'male_male_households',\n",
       " 'management_business_sci_arts_employed',\n",
       " 'no_car',\n",
       " 'no_cars',\n",
       " 'not_us_citizen_pop',\n",
       " 'occupation_management_arts',\n",
       " 'occupation_natural_resources_construction_maintenance',\n",
       " 'occupation_production_transportation_material',\n",
       " 'occupation_sales_office',\n",
       " 'occupation_services',\n",
       " 'one_car',\n",
       " 'two_cars',\n",
       " 'three_cars',\n",
       " 'pop_25_64',\n",
       " 'pop_determined_poverty_status',\n",
       " 'population_1_year_and_over',\n",
       " 'population_3_years_over',\n",
       " 'poverty',\n",
       " 'sales_office_employed',\n",
       " 'some_college_and_associates_degree',\n",
       " 'walked_to_work',\n",
       " 'worked_at_home',\n",
       " 'workers_16_and_over',\n",
       " 'commute_35_44_mins',\n",
       " 'commute_60_more_mins',\n",
       " 'commute_less_10_mins',\n",
       " 'commuters_16_over',\n",
       " 'hispanic_any_race',\n",
       " 'year_y',\n",
       " 'year_used']"
      ]
     },
     "execution_count": 96,
     "metadata": {},
     "output_type": "execute_result"
    }
   ],
   "source": [
    "zri_acs.select_dtypes(['int','float']).columns.to_list()"
   ]
  },
  {
   "cell_type": "code",
   "execution_count": 113,
   "id": "cc62ae50",
   "metadata": {},
   "outputs": [
    {
     "data": {
      "text/plain": [
       "14304    12720.0\n",
       "14305    12720.0\n",
       "14306    12720.0\n",
       "14307    12720.0\n",
       "14308    12720.0\n",
       "14309    12720.0\n",
       "14310    12720.0\n",
       "14311    12720.0\n",
       "14312    12720.0\n",
       "14313    12720.0\n",
       "14314    12720.0\n",
       "14315    12720.0\n",
       "Name: bachelors_degree_2, dtype: float64"
      ]
     },
     "execution_count": 113,
     "metadata": {},
     "output_type": "execute_result"
    }
   ],
   "source": [
    "jc = zri_acs[(zri_acs['zip']==\"07302\") & (zri_acs['year_x']==2018)]\n",
    "jc['bachelors_degree_2']"
   ]
  },
  {
   "cell_type": "code",
   "execution_count": 114,
   "id": "cec1400b",
   "metadata": {},
   "outputs": [
    {
     "data": {
      "text/plain": [
       "14304    41026.0\n",
       "14305    41026.0\n",
       "14306    41026.0\n",
       "14307    41026.0\n",
       "14308    41026.0\n",
       "14309    41026.0\n",
       "14310    41026.0\n",
       "14311    41026.0\n",
       "14312    41026.0\n",
       "14313    41026.0\n",
       "14314    41026.0\n",
       "14315    41026.0\n",
       "Name: total_pop, dtype: float64"
      ]
     },
     "execution_count": 114,
     "metadata": {},
     "output_type": "execute_result"
    }
   ],
   "source": [
    "jc['total_pop']"
   ]
  },
  {
   "cell_type": "code",
   "execution_count": null,
   "id": "5ff3151a",
   "metadata": {},
   "outputs": [],
   "source": [
    "jc['po']"
   ]
  },
  {
   "cell_type": "code",
   "execution_count": 115,
   "id": "f6243b37",
   "metadata": {},
   "outputs": [
    {
     "data": {
      "text/plain": [
       "14304    3551.0\n",
       "14305    3551.0\n",
       "14306    3551.0\n",
       "14307    3551.0\n",
       "14308    3551.0\n",
       "14309    3551.0\n",
       "14310    3551.0\n",
       "14311    3551.0\n",
       "14312    3551.0\n",
       "14313    3551.0\n",
       "14314    3551.0\n",
       "14315    3551.0\n",
       "Name: some_college_and_associates_degree, dtype: float64"
      ]
     },
     "execution_count": 115,
     "metadata": {},
     "output_type": "execute_result"
    }
   ],
   "source": [
    "jc['some_college_and_associates_degree']"
   ]
  },
  {
   "cell_type": "code",
   "execution_count": 181,
   "id": "fcf324c3",
   "metadata": {},
   "outputs": [],
   "source": [
    "#DROP zipcode 11249 as it is not in ACS data "
   ]
  },
  {
   "cell_type": "code",
   "execution_count": 182,
   "id": "5b8475bc",
   "metadata": {},
   "outputs": [
    {
     "data": {
      "text/html": [
       "<div>\n",
       "<style scoped>\n",
       "    .dataframe tbody tr th:only-of-type {\n",
       "        vertical-align: middle;\n",
       "    }\n",
       "\n",
       "    .dataframe tbody tr th {\n",
       "        vertical-align: top;\n",
       "    }\n",
       "\n",
       "    .dataframe thead th {\n",
       "        text-align: right;\n",
       "    }\n",
       "</style>\n",
       "<table border=\"1\" class=\"dataframe\">\n",
       "  <thead>\n",
       "    <tr style=\"text-align: right;\">\n",
       "      <th></th>\n",
       "      <th>zip</th>\n",
       "      <th>City</th>\n",
       "      <th>State</th>\n",
       "      <th>Metro</th>\n",
       "      <th>CountyName</th>\n",
       "      <th>year-month</th>\n",
       "      <th>zri</th>\n",
       "      <th>year_x</th>\n",
       "      <th>do_date</th>\n",
       "      <th>nonfamily_households</th>\n",
       "      <th>...</th>\n",
       "      <th>worked_at_home</th>\n",
       "      <th>workers_16_and_over</th>\n",
       "      <th>commute_35_44_mins</th>\n",
       "      <th>commute_60_more_mins</th>\n",
       "      <th>commute_less_10_mins</th>\n",
       "      <th>commuters_16_over</th>\n",
       "      <th>hispanic_any_race</th>\n",
       "      <th>year_y</th>\n",
       "      <th>year_used</th>\n",
       "      <th>derived_pop_over_25</th>\n",
       "    </tr>\n",
       "  </thead>\n",
       "  <tbody>\n",
       "    <tr>\n",
       "      <th>0</th>\n",
       "      <td>01013</td>\n",
       "      <td>Chicopee</td>\n",
       "      <td>MA</td>\n",
       "      <td>Springfield</td>\n",
       "      <td>Hampden County</td>\n",
       "      <td>2014-01</td>\n",
       "      <td>928.0</td>\n",
       "      <td>2014</td>\n",
       "      <td>20082012.0</td>\n",
       "      <td>3688.0</td>\n",
       "      <td>...</td>\n",
       "      <td>159.0</td>\n",
       "      <td>9514.0</td>\n",
       "      <td>322.0</td>\n",
       "      <td>359.0</td>\n",
       "      <td>1506.0</td>\n",
       "      <td>9355.0</td>\n",
       "      <td>5046.0</td>\n",
       "      <td>2012.0</td>\n",
       "      <td>2014.0</td>\n",
       "      <td>14277.0</td>\n",
       "    </tr>\n",
       "    <tr>\n",
       "      <th>1</th>\n",
       "      <td>01013</td>\n",
       "      <td>Chicopee</td>\n",
       "      <td>MA</td>\n",
       "      <td>Springfield</td>\n",
       "      <td>Hampden County</td>\n",
       "      <td>2014-02</td>\n",
       "      <td>931.0</td>\n",
       "      <td>2014</td>\n",
       "      <td>20082012.0</td>\n",
       "      <td>3688.0</td>\n",
       "      <td>...</td>\n",
       "      <td>159.0</td>\n",
       "      <td>9514.0</td>\n",
       "      <td>322.0</td>\n",
       "      <td>359.0</td>\n",
       "      <td>1506.0</td>\n",
       "      <td>9355.0</td>\n",
       "      <td>5046.0</td>\n",
       "      <td>2012.0</td>\n",
       "      <td>2014.0</td>\n",
       "      <td>14277.0</td>\n",
       "    </tr>\n",
       "    <tr>\n",
       "      <th>2</th>\n",
       "      <td>01013</td>\n",
       "      <td>Chicopee</td>\n",
       "      <td>MA</td>\n",
       "      <td>Springfield</td>\n",
       "      <td>Hampden County</td>\n",
       "      <td>2014-03</td>\n",
       "      <td>934.0</td>\n",
       "      <td>2014</td>\n",
       "      <td>20082012.0</td>\n",
       "      <td>3688.0</td>\n",
       "      <td>...</td>\n",
       "      <td>159.0</td>\n",
       "      <td>9514.0</td>\n",
       "      <td>322.0</td>\n",
       "      <td>359.0</td>\n",
       "      <td>1506.0</td>\n",
       "      <td>9355.0</td>\n",
       "      <td>5046.0</td>\n",
       "      <td>2012.0</td>\n",
       "      <td>2014.0</td>\n",
       "      <td>14277.0</td>\n",
       "    </tr>\n",
       "    <tr>\n",
       "      <th>3</th>\n",
       "      <td>01013</td>\n",
       "      <td>Chicopee</td>\n",
       "      <td>MA</td>\n",
       "      <td>Springfield</td>\n",
       "      <td>Hampden County</td>\n",
       "      <td>2014-04</td>\n",
       "      <td>929.0</td>\n",
       "      <td>2014</td>\n",
       "      <td>20082012.0</td>\n",
       "      <td>3688.0</td>\n",
       "      <td>...</td>\n",
       "      <td>159.0</td>\n",
       "      <td>9514.0</td>\n",
       "      <td>322.0</td>\n",
       "      <td>359.0</td>\n",
       "      <td>1506.0</td>\n",
       "      <td>9355.0</td>\n",
       "      <td>5046.0</td>\n",
       "      <td>2012.0</td>\n",
       "      <td>2014.0</td>\n",
       "      <td>14277.0</td>\n",
       "    </tr>\n",
       "    <tr>\n",
       "      <th>4</th>\n",
       "      <td>01013</td>\n",
       "      <td>Chicopee</td>\n",
       "      <td>MA</td>\n",
       "      <td>Springfield</td>\n",
       "      <td>Hampden County</td>\n",
       "      <td>2014-05</td>\n",
       "      <td>929.0</td>\n",
       "      <td>2014</td>\n",
       "      <td>20082012.0</td>\n",
       "      <td>3688.0</td>\n",
       "      <td>...</td>\n",
       "      <td>159.0</td>\n",
       "      <td>9514.0</td>\n",
       "      <td>322.0</td>\n",
       "      <td>359.0</td>\n",
       "      <td>1506.0</td>\n",
       "      <td>9355.0</td>\n",
       "      <td>5046.0</td>\n",
       "      <td>2012.0</td>\n",
       "      <td>2014.0</td>\n",
       "      <td>14277.0</td>\n",
       "    </tr>\n",
       "    <tr>\n",
       "      <th>...</th>\n",
       "      <td>...</td>\n",
       "      <td>...</td>\n",
       "      <td>...</td>\n",
       "      <td>...</td>\n",
       "      <td>...</td>\n",
       "      <td>...</td>\n",
       "      <td>...</td>\n",
       "      <td>...</td>\n",
       "      <td>...</td>\n",
       "      <td>...</td>\n",
       "      <td>...</td>\n",
       "      <td>...</td>\n",
       "      <td>...</td>\n",
       "      <td>...</td>\n",
       "      <td>...</td>\n",
       "      <td>...</td>\n",
       "      <td>...</td>\n",
       "      <td>...</td>\n",
       "      <td>...</td>\n",
       "      <td>...</td>\n",
       "      <td>...</td>\n",
       "    </tr>\n",
       "    <tr>\n",
       "      <th>93739</th>\n",
       "      <td>99654</td>\n",
       "      <td>Wasilla</td>\n",
       "      <td>AK</td>\n",
       "      <td>Anchorage</td>\n",
       "      <td>Matanuska Susitna Borough</td>\n",
       "      <td>2019-08</td>\n",
       "      <td>1277.0</td>\n",
       "      <td>2019</td>\n",
       "      <td>20132017.0</td>\n",
       "      <td>5160.0</td>\n",
       "      <td>...</td>\n",
       "      <td>1416.0</td>\n",
       "      <td>24847.0</td>\n",
       "      <td>795.0</td>\n",
       "      <td>5480.0</td>\n",
       "      <td>2822.0</td>\n",
       "      <td>23431.0</td>\n",
       "      <td>3067.0</td>\n",
       "      <td>2017.0</td>\n",
       "      <td>2019.0</td>\n",
       "      <td>38001.0</td>\n",
       "    </tr>\n",
       "    <tr>\n",
       "      <th>93740</th>\n",
       "      <td>99654</td>\n",
       "      <td>Wasilla</td>\n",
       "      <td>AK</td>\n",
       "      <td>Anchorage</td>\n",
       "      <td>Matanuska Susitna Borough</td>\n",
       "      <td>2019-09</td>\n",
       "      <td>1271.0</td>\n",
       "      <td>2019</td>\n",
       "      <td>20132017.0</td>\n",
       "      <td>5160.0</td>\n",
       "      <td>...</td>\n",
       "      <td>1416.0</td>\n",
       "      <td>24847.0</td>\n",
       "      <td>795.0</td>\n",
       "      <td>5480.0</td>\n",
       "      <td>2822.0</td>\n",
       "      <td>23431.0</td>\n",
       "      <td>3067.0</td>\n",
       "      <td>2017.0</td>\n",
       "      <td>2019.0</td>\n",
       "      <td>38001.0</td>\n",
       "    </tr>\n",
       "    <tr>\n",
       "      <th>93741</th>\n",
       "      <td>99654</td>\n",
       "      <td>Wasilla</td>\n",
       "      <td>AK</td>\n",
       "      <td>Anchorage</td>\n",
       "      <td>Matanuska Susitna Borough</td>\n",
       "      <td>2019-10</td>\n",
       "      <td>1299.0</td>\n",
       "      <td>2019</td>\n",
       "      <td>20132017.0</td>\n",
       "      <td>5160.0</td>\n",
       "      <td>...</td>\n",
       "      <td>1416.0</td>\n",
       "      <td>24847.0</td>\n",
       "      <td>795.0</td>\n",
       "      <td>5480.0</td>\n",
       "      <td>2822.0</td>\n",
       "      <td>23431.0</td>\n",
       "      <td>3067.0</td>\n",
       "      <td>2017.0</td>\n",
       "      <td>2019.0</td>\n",
       "      <td>38001.0</td>\n",
       "    </tr>\n",
       "    <tr>\n",
       "      <th>93742</th>\n",
       "      <td>99654</td>\n",
       "      <td>Wasilla</td>\n",
       "      <td>AK</td>\n",
       "      <td>Anchorage</td>\n",
       "      <td>Matanuska Susitna Borough</td>\n",
       "      <td>2019-11</td>\n",
       "      <td>1261.5</td>\n",
       "      <td>2019</td>\n",
       "      <td>20132017.0</td>\n",
       "      <td>5160.0</td>\n",
       "      <td>...</td>\n",
       "      <td>1416.0</td>\n",
       "      <td>24847.0</td>\n",
       "      <td>795.0</td>\n",
       "      <td>5480.0</td>\n",
       "      <td>2822.0</td>\n",
       "      <td>23431.0</td>\n",
       "      <td>3067.0</td>\n",
       "      <td>2017.0</td>\n",
       "      <td>2019.0</td>\n",
       "      <td>38001.0</td>\n",
       "    </tr>\n",
       "    <tr>\n",
       "      <th>93743</th>\n",
       "      <td>99654</td>\n",
       "      <td>Wasilla</td>\n",
       "      <td>AK</td>\n",
       "      <td>Anchorage</td>\n",
       "      <td>Matanuska Susitna Borough</td>\n",
       "      <td>2019-12</td>\n",
       "      <td>1224.0</td>\n",
       "      <td>2019</td>\n",
       "      <td>20132017.0</td>\n",
       "      <td>5160.0</td>\n",
       "      <td>...</td>\n",
       "      <td>1416.0</td>\n",
       "      <td>24847.0</td>\n",
       "      <td>795.0</td>\n",
       "      <td>5480.0</td>\n",
       "      <td>2822.0</td>\n",
       "      <td>23431.0</td>\n",
       "      <td>3067.0</td>\n",
       "      <td>2017.0</td>\n",
       "      <td>2019.0</td>\n",
       "      <td>38001.0</td>\n",
       "    </tr>\n",
       "  </tbody>\n",
       "</table>\n",
       "<p>93672 rows × 238 columns</p>\n",
       "</div>"
      ],
      "text/plain": [
       "         zip      City State        Metro                 CountyName  \\\n",
       "0      01013  Chicopee    MA  Springfield             Hampden County   \n",
       "1      01013  Chicopee    MA  Springfield             Hampden County   \n",
       "2      01013  Chicopee    MA  Springfield             Hampden County   \n",
       "3      01013  Chicopee    MA  Springfield             Hampden County   \n",
       "4      01013  Chicopee    MA  Springfield             Hampden County   \n",
       "...      ...       ...   ...          ...                        ...   \n",
       "93739  99654   Wasilla    AK    Anchorage  Matanuska Susitna Borough   \n",
       "93740  99654   Wasilla    AK    Anchorage  Matanuska Susitna Borough   \n",
       "93741  99654   Wasilla    AK    Anchorage  Matanuska Susitna Borough   \n",
       "93742  99654   Wasilla    AK    Anchorage  Matanuska Susitna Borough   \n",
       "93743  99654   Wasilla    AK    Anchorage  Matanuska Susitna Borough   \n",
       "\n",
       "      year-month     zri  year_x     do_date  nonfamily_households  ...  \\\n",
       "0        2014-01   928.0    2014  20082012.0                3688.0  ...   \n",
       "1        2014-02   931.0    2014  20082012.0                3688.0  ...   \n",
       "2        2014-03   934.0    2014  20082012.0                3688.0  ...   \n",
       "3        2014-04   929.0    2014  20082012.0                3688.0  ...   \n",
       "4        2014-05   929.0    2014  20082012.0                3688.0  ...   \n",
       "...          ...     ...     ...         ...                   ...  ...   \n",
       "93739    2019-08  1277.0    2019  20132017.0                5160.0  ...   \n",
       "93740    2019-09  1271.0    2019  20132017.0                5160.0  ...   \n",
       "93741    2019-10  1299.0    2019  20132017.0                5160.0  ...   \n",
       "93742    2019-11  1261.5    2019  20132017.0                5160.0  ...   \n",
       "93743    2019-12  1224.0    2019  20132017.0                5160.0  ...   \n",
       "\n",
       "       worked_at_home  workers_16_and_over  commute_35_44_mins  \\\n",
       "0               159.0               9514.0               322.0   \n",
       "1               159.0               9514.0               322.0   \n",
       "2               159.0               9514.0               322.0   \n",
       "3               159.0               9514.0               322.0   \n",
       "4               159.0               9514.0               322.0   \n",
       "...               ...                  ...                 ...   \n",
       "93739          1416.0              24847.0               795.0   \n",
       "93740          1416.0              24847.0               795.0   \n",
       "93741          1416.0              24847.0               795.0   \n",
       "93742          1416.0              24847.0               795.0   \n",
       "93743          1416.0              24847.0               795.0   \n",
       "\n",
       "       commute_60_more_mins  commute_less_10_mins  commuters_16_over  \\\n",
       "0                     359.0                1506.0             9355.0   \n",
       "1                     359.0                1506.0             9355.0   \n",
       "2                     359.0                1506.0             9355.0   \n",
       "3                     359.0                1506.0             9355.0   \n",
       "4                     359.0                1506.0             9355.0   \n",
       "...                     ...                   ...                ...   \n",
       "93739                5480.0                2822.0            23431.0   \n",
       "93740                5480.0                2822.0            23431.0   \n",
       "93741                5480.0                2822.0            23431.0   \n",
       "93742                5480.0                2822.0            23431.0   \n",
       "93743                5480.0                2822.0            23431.0   \n",
       "\n",
       "       hispanic_any_race  year_y  year_used  derived_pop_over_25  \n",
       "0                 5046.0  2012.0     2014.0              14277.0  \n",
       "1                 5046.0  2012.0     2014.0              14277.0  \n",
       "2                 5046.0  2012.0     2014.0              14277.0  \n",
       "3                 5046.0  2012.0     2014.0              14277.0  \n",
       "4                 5046.0  2012.0     2014.0              14277.0  \n",
       "...                  ...     ...        ...                  ...  \n",
       "93739             3067.0  2017.0     2019.0              38001.0  \n",
       "93740             3067.0  2017.0     2019.0              38001.0  \n",
       "93741             3067.0  2017.0     2019.0              38001.0  \n",
       "93742             3067.0  2017.0     2019.0              38001.0  \n",
       "93743             3067.0  2017.0     2019.0              38001.0  \n",
       "\n",
       "[93672 rows x 238 columns]"
      ]
     },
     "execution_count": 182,
     "metadata": {},
     "output_type": "execute_result"
    }
   ],
   "source": [
    "zri_acs = zri_acs.drop(index=zri_acs[zri_acs['zip']==\"11249\"].index)\n",
    "zri_acs"
   ]
  },
  {
   "cell_type": "code",
   "execution_count": 184,
   "id": "9d111b10",
   "metadata": {},
   "outputs": [],
   "source": [
    "zri_acs['derived_pop_over_25']= zri_acs[['male_25_to_29',\n",
    " 'male_30_to_34',\n",
    " 'male_35_to_39',\n",
    " 'male_40_to_44',\n",
    " 'male_45_to_49',\n",
    " 'male_50_to_54',\n",
    " 'male_55_to_59',\n",
    " 'male_60_61',\n",
    " 'male_62_64',\n",
    " 'male_65_to_66',\n",
    " 'male_67_to_69',\n",
    " 'male_70_to_74',\n",
    " 'male_75_to_79',\n",
    " 'male_80_to_84',\n",
    " 'male_85_and_over',\n",
    " 'female_25_to_29',\n",
    " 'female_30_to_34',\n",
    " 'female_35_to_39',\n",
    " 'female_40_to_44',\n",
    " 'female_45_to_49',\n",
    " 'female_50_to_54',\n",
    " 'female_55_to_59',\n",
    " 'female_60_to_61',\n",
    " 'female_62_to_64',\n",
    " 'female_65_to_66',\n",
    " 'female_67_to_69',\n",
    " 'female_70_to_74',\n",
    " 'female_75_to_79',\n",
    " 'female_80_to_84',\n",
    " 'female_85_and_over']].sum(axis='columns')"
   ]
  },
  {
   "cell_type": "code",
   "execution_count": 185,
   "id": "760dc2a1",
   "metadata": {},
   "outputs": [
    {
     "data": {
      "text/plain": [
       "0        11112.0\n",
       "1        11112.0\n",
       "2        11112.0\n",
       "3        11112.0\n",
       "4        11112.0\n",
       "          ...   \n",
       "93739    32424.0\n",
       "93740    32424.0\n",
       "93741    32424.0\n",
       "93742    32424.0\n",
       "93743    32424.0\n",
       "Name: pop_25_64, Length: 93672, dtype: float64"
      ]
     },
     "execution_count": 185,
     "metadata": {},
     "output_type": "execute_result"
    }
   ],
   "source": [
    "zri_acs['pop_25_64']"
   ]
  },
  {
   "cell_type": "code",
   "execution_count": 186,
   "id": "d6aca056",
   "metadata": {},
   "outputs": [
    {
     "data": {
      "text/plain": [
       "<AxesSubplot:>"
      ]
     },
     "execution_count": 186,
     "metadata": {},
     "output_type": "execute_result"
    },
    {
     "data": {
      "image/png": "[encoded data removed]",
      "text/plain": [
       "<Figure size 432x288 with 1 Axes>"
      ]
     },
     "metadata": {
      "needs_background": "light"
     },
     "output_type": "display_data"
    }
   ],
   "source": [
    "(zri_acs['derived_pop_over_25']-zri_acs['pop_25_64']).hist(bins=100)"
   ]
  },
  {
   "cell_type": "code",
   "execution_count": 187,
   "id": "13fe40a3",
   "metadata": {},
   "outputs": [
    {
     "data": {
      "text/plain": [
       "<AxesSubplot:>"
      ]
     },
     "execution_count": 187,
     "metadata": {},
     "output_type": "execute_result"
    },
    {
     "data": {
      "image/png": "[encoded data removed]",
      "text/plain": [
       "<Figure size 432x288 with 1 Axes>"
      ]
     },
     "metadata": {
      "needs_background": "light"
     },
     "output_type": "display_data"
    }
   ],
   "source": [
    "zri_acs['derived_pop_over_25'].hist()"
   ]
  },
  {
   "cell_type": "code",
   "execution_count": 188,
   "id": "75ec92b2",
   "metadata": {},
   "outputs": [
    {
     "data": {
      "text/plain": [
       "<AxesSubplot:>"
      ]
     },
     "execution_count": 188,
     "metadata": {},
     "output_type": "execute_result"
    },
    {
     "data": {
      "image/png": "[encoded data removed]",
      "text/plain": [
       "<Figure size 432x288 with 1 Axes>"
      ]
     },
     "metadata": {
      "needs_background": "light"
     },
     "output_type": "display_data"
    }
   ],
   "source": [
    "zri_acs['pop_25_64'].hist()"
   ]
  },
  {
   "cell_type": "code",
   "execution_count": 189,
   "id": "0f5798e1",
   "metadata": {},
   "outputs": [
    {
     "data": {
      "text/plain": [
       "1596.0"
      ]
     },
     "execution_count": 189,
     "metadata": {},
     "output_type": "execute_result"
    }
   ],
   "source": [
    "zri_acs['derived_pop_over_25'].min()"
   ]
  },
  {
   "cell_type": "markdown",
   "id": "f798255b",
   "metadata": {},
   "source": [
    "# Education"
   ]
  },
  {
   "cell_type": "code",
   "execution_count": 190,
   "id": "30cf298c",
   "metadata": {},
   "outputs": [],
   "source": [
    "percent_graduate = zri_acs['graduate_professional_degree']/zri_acs['total_pop'] #population \n",
    "percent_bachelors = zri_acs['bachelors_degree_2']/zri_acs['total_pop'] #population \n",
    "percent_associates = zri_acs['some_college_and_associates_degree']/zri_acs['derived_pop_over_25'] #25 and over \n",
    "percent_highschool = zri_acs['high_school_including_ged']/zri_acs['derived_pop_over_25']  #25 and over \n",
    "percent_less_highschool = zri_acs['less_than_high_school_graduate']/zri_acs['derived_pop_over_25']  #25 and over \n"
   ]
  },
  {
   "cell_type": "markdown",
   "id": "a0457c5c",
   "metadata": {},
   "source": [
    "# Commute "
   ]
  },
  {
   "cell_type": "code",
   "execution_count": 206,
   "id": "3d2e2bc1",
   "metadata": {},
   "outputs": [],
   "source": [
    "percent_commute_public_transport = zri_acs['commuters_by_public_transportation']/zri_acs['commuters_16_over'] "
   ]
  },
  {
   "cell_type": "code",
   "execution_count": 216,
   "id": "93b341c1",
   "metadata": {},
   "outputs": [],
   "source": [
    "percent_commute_less_30 = (zri_acs[['commute_5_9_mins',\n",
    "                                   'commute_10_14_mins',\n",
    "                                   'commute_15_19_mins',\n",
    "                                   'commute_20_24_mins',\n",
    "                                   'commute_25_29_mins']].sum(axis='columns'))/zri_acs['commuters_16_over']\n",
    "\n",
    "percent_commute_30_to_59 = (zri_acs[['commute_30_34_mins',\n",
    "                                     'commute_35_44_mins',\n",
    "                                     'commute_35_39_mins',\n",
    "                                     'commute_40_44_mins',\n",
    "                                     'commute_45_59_mins']].sum(axis='columns'))/zri_acs['commuters_16_over']\n",
    "\n",
    "percent_commute_60_to_89 = zri_acs['commute_60_89_mins']/zri_acs['commuters_16_over']\n",
    "\n",
    "percent_commute_90_more = zri_acs['commute_90_more_mins']/zri_acs['commuters_16_over']"
   ]
  },
  {
   "cell_type": "markdown",
   "id": "25e2ef3f",
   "metadata": {},
   "source": [
    "# Movers"
   ]
  },
  {
   "cell_type": "code",
   "execution_count": 217,
   "id": "708b9094",
   "metadata": {},
   "outputs": [],
   "source": [
    "#moved to this city from another city \n",
    "percent_new_city = zri_acs['different_house_year_ago_different_city']/zri_acs['total_pop']"
   ]
  },
  {
   "cell_type": "code",
   "execution_count": null,
   "id": "2a24be80",
   "metadata": {},
   "outputs": [],
   "source": [
    "#moved to a new unit in this same city\n",
    "percent_new_unit = zri_acs['different_house_year_ago_same_city']/zri_acs['total_pop']"
   ]
  },
  {
   "cell_type": "markdown",
   "id": "e260f8be",
   "metadata": {},
   "source": [
    "# Renter occupied "
   ]
  },
  {
   "cell_type": "code",
   "execution_count": 220,
   "id": "2eb05b85",
   "metadata": {},
   "outputs": [],
   "source": [
    "#Renter occupied housing units. All occupied units which are not owner occupied, whether they \n",
    "#are rented for cash rent or occupied without payment of cash rent, are classified as renter-occupied.\n",
    "percent_renter_occupied = zri_acs['housing_units_renter_occupied']/zri_acs['housing_units']"
   ]
  },
  {
   "cell_type": "code",
   "execution_count": 222,
   "id": "6f0562f7",
   "metadata": {},
   "outputs": [],
   "source": [
    "percent_owner_occupied = zri_acs['owner_occupied_housing_units']/zri_acs['housing_units']"
   ]
  },
  {
   "cell_type": "code",
   "execution_count": null,
   "id": "14b87543",
   "metadata": {},
   "outputs": [],
   "source": [
    "percent_for_rent = zri_acs['vacant_housing_units_for_rent']/zri_acs['housing_units']"
   ]
  },
  {
   "cell_type": "code",
   "execution_count": null,
   "id": "d54d56f0",
   "metadata": {},
   "outputs": [],
   "source": [
    "median_age = zri_acs['median_age']"
   ]
  },
  {
   "cell_type": "code",
   "execution_count": null,
   "id": "de8da3f9",
   "metadata": {},
   "outputs": [],
   "source": []
  },
  {
   "cell_type": "code",
   "execution_count": null,
   "id": "e526cf5c",
   "metadata": {},
   "outputs": [],
   "source": []
  },
  {
   "cell_type": "code",
   "execution_count": null,
   "id": "f63a1efb",
   "metadata": {},
   "outputs": [],
   "source": []
  },
  {
   "cell_type": "code",
   "execution_count": null,
   "id": "1ac27dc7",
   "metadata": {},
   "outputs": [],
   "source": []
  },
  {
   "cell_type": "code",
   "execution_count": null,
   "id": "a0033d68",
   "metadata": {},
   "outputs": [],
   "source": []
  },
  {
   "cell_type": "code",
   "execution_count": null,
   "id": "0b7c8119",
   "metadata": {},
   "outputs": [],
   "source": [
    "#dwellings 50 and more\n",
    "#year built  "
   ]
  },
  {
   "cell_type": "code",
   "execution_count": null,
   "id": "6a947a48",
   "metadata": {},
   "outputs": [],
   "source": [
    "# percent_commute_\n",
    "# 'commute_5_9_mins',\n",
    "# 'commute_10_14_mins',\n",
    "#  'commute_15_19_mins',\n",
    "#  'commute_20_24_mins',\n",
    "#  'commute_25_29_mins',\n",
    "#  'commute_30_34_mins',\n",
    "# 'commute_35_44_mins',\n",
    "#  'commute_35_39_mins',\n",
    "# 'commute_40_44_mins',\n",
    "#  'commute_45_59_mins',\n",
    "#  'commute_60_89_mins',\n",
    "#  'commute_90_more_mins',\n",
    "#  'commute_60_more_mins',\n",
    "#  'commute_less_10_mins',\n",
    "#  'commuters_16_over',"
   ]
  }
 ],
 "metadata": {
  "kernelspec": {
   "display_name": "Python 3",
   "language": "python",
   "name": "python3"
  },
  "language_info": {
   "codemirror_mode": {
    "name": "ipython",
    "version": 3
   },
   "file_extension": ".py",
   "mimetype": "text/x-python",
   "name": "python",
   "nbconvert_exporter": "python",
   "pygments_lexer": "ipython3",
   "version": "3.8.8"
  }
 },
 "nbformat": 4,
 "nbformat_minor": 5
}
