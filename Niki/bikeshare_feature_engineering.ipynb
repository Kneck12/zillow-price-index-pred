{
 "cells": [
  {
   "cell_type": "code",
   "execution_count": 252,
   "id": "567bad98",
   "metadata": {},
   "outputs": [],
   "source": [
    "import pandas as pd \n",
    "import numpy as np\n",
    "\n",
    "pd.set_option('display.max_rows', 500)\n",
    "pd.set_option('display.max_columns', 500)"
   ]
  },
  {
   "cell_type": "code",
   "execution_count": 170,
   "id": "161e2fee",
   "metadata": {},
   "outputs": [],
   "source": [
    "df = pd.read_csv('../data/Locations_of_Docked_Bikeshare_Stations_by_System_and_Year.csv')"
   ]
  },
  {
   "cell_type": "code",
   "execution_count": 171,
   "id": "dfdb8f9a",
   "metadata": {},
   "outputs": [],
   "source": [
    "#change to lower case column names \n",
    "df.columns = ['the_geom', 'id', 'fac_id', 'bike_id', 'system_id', 'system_name',\n",
    "       'year', 'asofdate', 'fac_name', 'address', 'city', 'state', 'zipcode',\n",
    "       'cbsa_code', 'longitude', 'latitude']"
   ]
  },
  {
   "cell_type": "code",
   "execution_count": 172,
   "id": "bf8e09fc",
   "metadata": {},
   "outputs": [],
   "source": [
    "df = df[df['year']<2020]"
   ]
  },
  {
   "cell_type": "code",
   "execution_count": 173,
   "id": "d5bc629c",
   "metadata": {},
   "outputs": [],
   "source": [
    "#Fix issue with address column - a portion of the dataframe has an extra column of 0s shifting everything off \n",
    "df1 = df[df['zipcode']!=0]\n",
    "df2 = df[df['zipcode']==0]"
   ]
  },
  {
   "cell_type": "code",
   "execution_count": 174,
   "id": "71f2aeda",
   "metadata": {},
   "outputs": [],
   "source": [
    "df2.columns = ['the_geom', 'id', 'fac_id', 'bike_id', 'system_id', 'system_name',\n",
    "       'year', 'asofdate', 'fac_name', 'city', 'state', 'zipcode','to_delete',\n",
    "       'cbsa_code', 'longitude', 'latitude']"
   ]
  },
  {
   "cell_type": "code",
   "execution_count": 175,
   "id": "0f1e5b69",
   "metadata": {},
   "outputs": [],
   "source": [
    "df2 = df2.drop('to_delete',axis=1)\n",
    "df1 = df1.drop('address',axis=1)"
   ]
  },
  {
   "cell_type": "code",
   "execution_count": 176,
   "id": "ca15d389",
   "metadata": {},
   "outputs": [],
   "source": [
    "df = pd.concat([df1,df2],axis=0)"
   ]
  },
  {
   "cell_type": "code",
   "execution_count": 177,
   "id": "4f96d760",
   "metadata": {},
   "outputs": [],
   "source": [
    "#Fill NA values \n",
    "df['system_name'] = df['system_name'].fillna(value='Hubway (03/2018 re-launched as Blue Bikes)')"
   ]
  },
  {
   "cell_type": "code",
   "execution_count": 178,
   "id": "7abf8d91",
   "metadata": {},
   "outputs": [],
   "source": [
    "#Fix zips - make strings, add leading zeros, delete zips associated with 2 states  \n",
    "df['zipcode'] = df['zipcode'].astype('str')\n",
    "df['zipcode'] = [\"0\"+z if len(z)<5 else z for z in df['zipcode']]\n",
    "\n",
    "temp = pd.DataFrame(df.groupby('zipcode')['state'].agg('nunique').reset_index())\n",
    "zips_2_states = temp[temp['state']>1]['zipcode']\n",
    "df = df[~df['zipcode'].isin(np.array(zips_2_states))]"
   ]
  },
  {
   "cell_type": "code",
   "execution_count": 179,
   "id": "49d019ed",
   "metadata": {},
   "outputs": [
    {
     "data": {
      "text/plain": [
       "array([201512, 201612, 201712, 201812, 201912])"
      ]
     },
     "execution_count": 179,
     "metadata": {},
     "output_type": "execute_result"
    }
   ],
   "source": [
    "df['asofdate'].unique()"
   ]
  },
  {
   "cell_type": "code",
   "execution_count": 180,
   "id": "adcf007b",
   "metadata": {},
   "outputs": [
    {
     "data": {
      "text/plain": [
       "array([2016, 2017, 2018, 2019, 2020])"
      ]
     },
     "execution_count": 180,
     "metadata": {},
     "output_type": "execute_result"
    }
   ],
   "source": [
    "#year usable - At the start of 2019, the most recent data available is 2018 (made available December of 2018)\n",
    "df['bs_year_usable'] = df['year']+1\n",
    "df['bs_year_usable'].unique()"
   ]
  },
  {
   "cell_type": "code",
   "execution_count": 189,
   "id": "7eee9ec8",
   "metadata": {},
   "outputs": [],
   "source": [
    "df = df[df['bs_year_usable']<2020]"
   ]
  },
  {
   "cell_type": "code",
   "execution_count": 190,
   "id": "92259f4b",
   "metadata": {},
   "outputs": [
    {
     "data": {
      "text/plain": [
       "array([2016, 2017, 2018, 2019])"
      ]
     },
     "execution_count": 190,
     "metadata": {},
     "output_type": "execute_result"
    }
   ],
   "source": [
    "#Resulting years \n",
    "df['bs_year_usable'].unique()"
   ]
  },
  {
   "cell_type": "code",
   "execution_count": 212,
   "id": "3c6648af",
   "metadata": {},
   "outputs": [],
   "source": [
    "#Create 2 features: \n",
    "# 1) Number of docked bike stations per zip code (bs_total_stations)\n",
    "# 2) Number of bike sharing systems per zip code (bs_total_systems) -- only 40 zips have more than 1 brand \n",
    "bikes = df.groupby(['zipcode','year','asofdate','bs_year_usable'])\\\n",
    "          .agg({'fac_id':'nunique','system_id':'nunique'})\\\n",
    "          .reset_index()\n",
    "bikes.columns = ['bs_zipcode', 'bs_year', 'bs_asofdate', 'bs_year_usable', 'bs_total_stations', 'bs_total_systems'] "
   ]
  },
  {
   "cell_type": "code",
   "execution_count": 231,
   "id": "57533a1f",
   "metadata": {},
   "outputs": [],
   "source": [
    "#Convert years to strings\n",
    "bikes['bs_year'] = bikes['bs_year'].astype('string')\n",
    "bikes['bs_asofdate'] = bikes['bs_asofdate'].astype('string')\n",
    "bikes['bs_year_usable'] = bikes['bs_year_usable'].astype('string')\n"
   ]
  },
  {
   "cell_type": "code",
   "execution_count": 232,
   "id": "cbc973b3",
   "metadata": {},
   "outputs": [
    {
     "data": {
      "text/plain": [
       "1489"
      ]
     },
     "execution_count": 232,
     "metadata": {},
     "output_type": "execute_result"
    }
   ],
   "source": [
    "bikes['bs_zipcode'].nunique()"
   ]
  },
  {
   "cell_type": "code",
   "execution_count": 233,
   "id": "f833fa4d",
   "metadata": {},
   "outputs": [],
   "source": [
    "zri = pd.read_csv('../data/zri_multifamily_v2.csv')\n",
    "zri['zip'] = zri['zip'].astype('string')\n",
    "zri['zip'] = [\"0\"+z if len(z)<5 else z for z in zri['zip']]\n",
    "zri['year'] = pd.to_datetime(zri['year-month'],format=\"%Y-%m\").dt.year\n",
    "zri['year'] = zri['year'].astype('string')\n",
    "zri['year-month'] = pd.to_datetime(zri['year-month'],format=\"%Y-%m\")"
   ]
  },
  {
   "cell_type": "code",
   "execution_count": 234,
   "id": "96f9a126",
   "metadata": {},
   "outputs": [
    {
     "data": {
      "text/plain": [
       "1302"
      ]
     },
     "execution_count": 234,
     "metadata": {},
     "output_type": "execute_result"
    }
   ],
   "source": [
    "zri['zip'].nunique()"
   ]
  },
  {
   "cell_type": "code",
   "execution_count": 236,
   "id": "2be6aac6",
   "metadata": {},
   "outputs": [
    {
     "data": {
      "text/plain": [
       "(93744, 2)"
      ]
     },
     "execution_count": 236,
     "metadata": {},
     "output_type": "execute_result"
    }
   ],
   "source": [
    "zri[['zip','year']].shape"
   ]
  },
  {
   "cell_type": "code",
   "execution_count": 237,
   "id": "a32e41ad",
   "metadata": {},
   "outputs": [
    {
     "name": "stdout",
     "output_type": "stream",
     "text": [
      "<class 'pandas.core.frame.DataFrame'>\n",
      "RangeIndex: 4662 entries, 0 to 4661\n",
      "Data columns (total 6 columns):\n",
      " #   Column             Non-Null Count  Dtype \n",
      "---  ------             --------------  ----- \n",
      " 0   bs_zipcode         4662 non-null   object\n",
      " 1   bs_year            4662 non-null   string\n",
      " 2   bs_asofdate        4662 non-null   string\n",
      " 3   bs_year_usable     4662 non-null   string\n",
      " 4   bs_total_stations  4662 non-null   int64 \n",
      " 5   bs_total_systems   4662 non-null   int64 \n",
      "dtypes: int64(2), object(1), string(3)\n",
      "memory usage: 218.7+ KB\n"
     ]
    }
   ],
   "source": [
    "bikes.info()"
   ]
  },
  {
   "cell_type": "code",
   "execution_count": 238,
   "id": "c330e81c",
   "metadata": {},
   "outputs": [
    {
     "name": "stdout",
     "output_type": "stream",
     "text": [
      "<class 'pandas.core.frame.DataFrame'>\n",
      "RangeIndex: 93744 entries, 0 to 93743\n",
      "Data columns (total 8 columns):\n",
      " #   Column      Non-Null Count  Dtype         \n",
      "---  ------      --------------  -----         \n",
      " 0   zip         93744 non-null  object        \n",
      " 1   City        93744 non-null  object        \n",
      " 2   State       93744 non-null  object        \n",
      " 3   Metro       93672 non-null  object        \n",
      " 4   CountyName  93744 non-null  object        \n",
      " 5   year-month  93744 non-null  datetime64[ns]\n",
      " 6   zri         93744 non-null  float64       \n",
      " 7   year        93744 non-null  string        \n",
      "dtypes: datetime64[ns](1), float64(1), object(5), string(1)\n",
      "memory usage: 5.7+ MB\n"
     ]
    }
   ],
   "source": [
    "zri.info()"
   ]
  },
  {
   "cell_type": "code",
   "execution_count": 247,
   "id": "2da7d895",
   "metadata": {},
   "outputs": [],
   "source": [
    "zri_bikes = pd.merge(zri,bikes,how='left',left_on=['zip','year'], right_on=['bs_zipcode','bs_year_usable'])"
   ]
  },
  {
   "cell_type": "code",
   "execution_count": null,
   "id": "b817b412",
   "metadata": {},
   "outputs": [],
   "source": [
    "#Of the 93,744 rows of zips and years, 13,968 have information about bikes while 79776 are nulls "
   ]
  },
  {
   "cell_type": "code",
   "execution_count": 256,
   "id": "a212223b",
   "metadata": {},
   "outputs": [
    {
     "data": {
      "text/html": [
       "<div>\n",
       "<style scoped>\n",
       "    .dataframe tbody tr th:only-of-type {\n",
       "        vertical-align: middle;\n",
       "    }\n",
       "\n",
       "    .dataframe tbody tr th {\n",
       "        vertical-align: top;\n",
       "    }\n",
       "\n",
       "    .dataframe thead th {\n",
       "        text-align: right;\n",
       "    }\n",
       "</style>\n",
       "<table border=\"1\" class=\"dataframe\">\n",
       "  <thead>\n",
       "    <tr style=\"text-align: right;\">\n",
       "      <th></th>\n",
       "      <th>zip</th>\n",
       "      <th>City</th>\n",
       "      <th>State</th>\n",
       "      <th>Metro</th>\n",
       "      <th>CountyName</th>\n",
       "      <th>year-month</th>\n",
       "      <th>zri</th>\n",
       "      <th>year</th>\n",
       "      <th>bs_zipcode</th>\n",
       "      <th>bs_year</th>\n",
       "      <th>bs_asofdate</th>\n",
       "      <th>bs_year_usable</th>\n",
       "      <th>bs_total_stations</th>\n",
       "      <th>bs_total_systems</th>\n",
       "    </tr>\n",
       "  </thead>\n",
       "  <tbody>\n",
       "    <tr>\n",
       "      <th>46575</th>\n",
       "      <td>33145</td>\n",
       "      <td>Miami</td>\n",
       "      <td>FL</td>\n",
       "      <td>Miami-Fort Lauderdale-West Palm Beach</td>\n",
       "      <td>Miami-Dade County</td>\n",
       "      <td>2019-04-01</td>\n",
       "      <td>2013.0</td>\n",
       "      <td>2019</td>\n",
       "      <td>33145</td>\n",
       "      <td>2018</td>\n",
       "      <td>201812</td>\n",
       "      <td>2019</td>\n",
       "      <td>1.0</td>\n",
       "      <td>1.0</td>\n",
       "    </tr>\n",
       "    <tr>\n",
       "      <th>93741</th>\n",
       "      <td>99654</td>\n",
       "      <td>Wasilla</td>\n",
       "      <td>AK</td>\n",
       "      <td>Anchorage</td>\n",
       "      <td>Matanuska Susitna Borough</td>\n",
       "      <td>2019-10-01</td>\n",
       "      <td>1299.0</td>\n",
       "      <td>2019</td>\n",
       "      <td>NaN</td>\n",
       "      <td>&lt;NA&gt;</td>\n",
       "      <td>&lt;NA&gt;</td>\n",
       "      <td>&lt;NA&gt;</td>\n",
       "      <td>NaN</td>\n",
       "      <td>NaN</td>\n",
       "    </tr>\n",
       "    <tr>\n",
       "      <th>17774</th>\n",
       "      <td>10463</td>\n",
       "      <td>New York</td>\n",
       "      <td>NY</td>\n",
       "      <td>New York-Newark-Jersey City</td>\n",
       "      <td>New York County</td>\n",
       "      <td>2019-03-01</td>\n",
       "      <td>1787.0</td>\n",
       "      <td>2019</td>\n",
       "      <td>NaN</td>\n",
       "      <td>&lt;NA&gt;</td>\n",
       "      <td>&lt;NA&gt;</td>\n",
       "      <td>&lt;NA&gt;</td>\n",
       "      <td>NaN</td>\n",
       "      <td>NaN</td>\n",
       "    </tr>\n",
       "    <tr>\n",
       "      <th>21639</th>\n",
       "      <td>11225</td>\n",
       "      <td>New York</td>\n",
       "      <td>NY</td>\n",
       "      <td>New York-Newark-Jersey City</td>\n",
       "      <td>Kings County</td>\n",
       "      <td>2017-04-01</td>\n",
       "      <td>2264.0</td>\n",
       "      <td>2017</td>\n",
       "      <td>NaN</td>\n",
       "      <td>&lt;NA&gt;</td>\n",
       "      <td>&lt;NA&gt;</td>\n",
       "      <td>&lt;NA&gt;</td>\n",
       "      <td>NaN</td>\n",
       "      <td>NaN</td>\n",
       "    </tr>\n",
       "  </tbody>\n",
       "</table>\n",
       "</div>"
      ],
      "text/plain": [
       "         zip      City State                                  Metro  \\\n",
       "46575  33145     Miami    FL  Miami-Fort Lauderdale-West Palm Beach   \n",
       "93741  99654   Wasilla    AK                              Anchorage   \n",
       "17774  10463  New York    NY            New York-Newark-Jersey City   \n",
       "21639  11225  New York    NY            New York-Newark-Jersey City   \n",
       "\n",
       "                      CountyName year-month     zri  year bs_zipcode bs_year  \\\n",
       "46575          Miami-Dade County 2019-04-01  2013.0  2019      33145    2018   \n",
       "93741  Matanuska Susitna Borough 2019-10-01  1299.0  2019        NaN    <NA>   \n",
       "17774            New York County 2019-03-01  1787.0  2019        NaN    <NA>   \n",
       "21639               Kings County 2017-04-01  2264.0  2017        NaN    <NA>   \n",
       "\n",
       "      bs_asofdate bs_year_usable  bs_total_stations  bs_total_systems  \n",
       "46575      201812           2019                1.0               1.0  \n",
       "93741        <NA>           <NA>                NaN               NaN  \n",
       "17774        <NA>           <NA>                NaN               NaN  \n",
       "21639        <NA>           <NA>                NaN               NaN  "
      ]
     },
     "execution_count": 256,
     "metadata": {},
     "output_type": "execute_result"
    }
   ],
   "source": [
    "zri_bikes.sample(4)"
   ]
  },
  {
   "cell_type": "code",
   "execution_count": 263,
   "id": "3e7efee2",
   "metadata": {},
   "outputs": [],
   "source": [
    "bikes_features = zri_bikes.drop(['bs_zipcode','bs_year','bs_asofdate','bs_year_usable'],axis=1)"
   ]
  },
  {
   "cell_type": "code",
   "execution_count": 287,
   "id": "3e8a8d04",
   "metadata": {},
   "outputs": [],
   "source": [
    "bikes_features = bikes_features.fillna(0)"
   ]
  },
  {
   "cell_type": "code",
   "execution_count": 293,
   "id": "71249921",
   "metadata": {},
   "outputs": [],
   "source": [
    "bikes_features['has_bike_sharing'] = bikes_features['bs_total_stations']>0"
   ]
  },
  {
   "cell_type": "code",
   "execution_count": 322,
   "id": "786246b5",
   "metadata": {
    "scrolled": true
   },
   "outputs": [
    {
     "data": {
      "text/html": [
       "<div>\n",
       "<style scoped>\n",
       "    .dataframe tbody tr th:only-of-type {\n",
       "        vertical-align: middle;\n",
       "    }\n",
       "\n",
       "    .dataframe tbody tr th {\n",
       "        vertical-align: top;\n",
       "    }\n",
       "\n",
       "    .dataframe thead th {\n",
       "        text-align: right;\n",
       "    }\n",
       "</style>\n",
       "<table border=\"1\" class=\"dataframe\">\n",
       "  <thead>\n",
       "    <tr style=\"text-align: right;\">\n",
       "      <th></th>\n",
       "      <th>zip</th>\n",
       "      <th>City</th>\n",
       "      <th>State</th>\n",
       "      <th>Metro</th>\n",
       "      <th>CountyName</th>\n",
       "      <th>year-month</th>\n",
       "      <th>zri</th>\n",
       "      <th>year</th>\n",
       "      <th>bs_total_stations</th>\n",
       "      <th>bs_total_systems</th>\n",
       "      <th>has_bike_sharing</th>\n",
       "    </tr>\n",
       "  </thead>\n",
       "  <tbody>\n",
       "    <tr>\n",
       "      <th>0</th>\n",
       "      <td>01013</td>\n",
       "      <td>Chicopee</td>\n",
       "      <td>MA</td>\n",
       "      <td>Springfield</td>\n",
       "      <td>Hampden County</td>\n",
       "      <td>2014-01-01</td>\n",
       "      <td>928.0</td>\n",
       "      <td>2014</td>\n",
       "      <td>0.0</td>\n",
       "      <td>0.0</td>\n",
       "      <td>False</td>\n",
       "    </tr>\n",
       "    <tr>\n",
       "      <th>1</th>\n",
       "      <td>01013</td>\n",
       "      <td>Chicopee</td>\n",
       "      <td>MA</td>\n",
       "      <td>Springfield</td>\n",
       "      <td>Hampden County</td>\n",
       "      <td>2014-02-01</td>\n",
       "      <td>931.0</td>\n",
       "      <td>2014</td>\n",
       "      <td>0.0</td>\n",
       "      <td>0.0</td>\n",
       "      <td>False</td>\n",
       "    </tr>\n",
       "  </tbody>\n",
       "</table>\n",
       "</div>"
      ],
      "text/plain": [
       "     zip      City State        Metro      CountyName year-month    zri  year  \\\n",
       "0  01013  Chicopee    MA  Springfield  Hampden County 2014-01-01  928.0  2014   \n",
       "1  01013  Chicopee    MA  Springfield  Hampden County 2014-02-01  931.0  2014   \n",
       "\n",
       "   bs_total_stations  bs_total_systems  has_bike_sharing  \n",
       "0                0.0               0.0             False  \n",
       "1                0.0               0.0             False  "
      ]
     },
     "execution_count": 322,
     "metadata": {},
     "output_type": "execute_result"
    }
   ],
   "source": [
    "bikes_features.head(2)"
   ]
  },
  {
   "cell_type": "code",
   "execution_count": 320,
   "id": "e987b579",
   "metadata": {},
   "outputs": [],
   "source": [
    "#bikes_features[(bikes_features['has_bike_sharing']==True) & (bikes_features['year']=='2014')]['zip'].nunique()"
   ]
  },
  {
   "cell_type": "code",
   "execution_count": 321,
   "id": "5c8c66d9",
   "metadata": {},
   "outputs": [],
   "source": [
    "#2014 usable (data from 2013) --> data unavailable, assume no bike sharing\n",
    "#2015 usable (data from 2014) --> data unavailable, assume no bike sharing \n",
    "#2016 usable (data from 2015), there are 160 zips with bike sharing\n",
    "#2017 usable (data from 2016), there are 292 zips with bike sharing\n",
    "#2018 usable (data from 2017), there are 340 zips with bike sharing\n",
    "#2019 usable (data from 2018), there are 372 zips with bike sharing"
   ]
  },
  {
   "cell_type": "code",
   "execution_count": 299,
   "id": "25ad9f1f",
   "metadata": {},
   "outputs": [],
   "source": [
    "bikes_features.to_csv('./../data/bikeshare_engineered_features.csv')"
   ]
  },
  {
   "cell_type": "code",
   "execution_count": null,
   "id": "c36d801e",
   "metadata": {},
   "outputs": [],
   "source": []
  }
 ],
 "metadata": {
  "kernelspec": {
   "display_name": "Python 3",
   "language": "python",
   "name": "python3"
  },
  "language_info": {
   "codemirror_mode": {
    "name": "ipython",
    "version": 3
   },
   "file_extension": ".py",
   "mimetype": "text/x-python",
   "name": "python",
   "nbconvert_exporter": "python",
   "pygments_lexer": "ipython3",
   "version": "3.8.8"
  }
 },
 "nbformat": 4,
 "nbformat_minor": 5
}
