{
 "cells": [
  {
   "cell_type": "code",
   "execution_count": 1,
   "id": "1c02b888",
   "metadata": {},
   "outputs": [],
   "source": [
    "import pandas as pd\n",
    "import numpy as np\n",
    "import plotly.express as px\n",
    "from sklearn.preprocessing import OneHotEncoder, LabelEncoder, StandardScaler, Normalizer, MinMaxScaler\n",
    "\n",
    "from sklearn.linear_model import LinearRegression, Lasso\n",
    "from sklearn.ensemble import BaggingRegressor, RandomForestRegressor\n",
    "\n",
    "import plotly.express as px\n",
    "\n",
    "from sklearn.model_selection import GridSearchCV, TimeSeriesSplit\n",
    "from sklearn.feature_selection import RFECV\n",
    "\n",
    "from datetime import datetime\n",
    "\n",
    "pd.set_option('display.max_rows', 5000)"
   ]
  },
  {
   "cell_type": "markdown",
   "id": "3d777a7d",
   "metadata": {},
   "source": [
    "<H1>External feature integration"
   ]
  },
  {
   "cell_type": "code",
   "execution_count": 2,
   "id": "3d2a2bde",
   "metadata": {},
   "outputs": [],
   "source": [
    "df=pd.read_csv('../data/zri_acs_bikeshare_merged.csv')"
   ]
  },
  {
   "cell_type": "code",
   "execution_count": 3,
   "id": "5ea35d24",
   "metadata": {},
   "outputs": [],
   "source": [
    "df['year-month']=df['datetime'].apply(lambda x: x[0:7])"
   ]
  },
  {
   "cell_type": "markdown",
   "id": "2f1b6b68",
   "metadata": {},
   "source": [
    "<H1>Standardization"
   ]
  },
  {
   "cell_type": "code",
   "execution_count": 4,
   "id": "d9b68b4d",
   "metadata": {},
   "outputs": [],
   "source": [
    "#df=df.drop('zip', axis=1)\n",
    "\n",
    "for zipcode in df['zip'].unique():\n",
    "    globals()[f\"minmax_{zipcode}\"]=MinMaxScaler(copy=False)\n",
    "    df_filtered=df[df['zip']==zipcode]\n",
    "    df.loc[df['zip']==zipcode,'zri']=globals()[f\"minmax_{zipcode}\"].fit_transform(df_filtered[['zri']])"
   ]
  },
  {
   "cell_type": "markdown",
   "id": "cbfbd557",
   "metadata": {},
   "source": [
    "<H1>Lag development"
   ]
  },
  {
   "cell_type": "code",
   "execution_count": 5,
   "id": "c4ec7b62",
   "metadata": {},
   "outputs": [],
   "source": [
    "def laggenerator(i,colname,df):\n",
    "    timelist=list(df['year-month'].drop_duplicates().sort_values())[0:i]\n",
    "    \n",
    "    df.loc[:,f'{colname}_lag{i}']=df.loc[:,f'{colname}'].shift(i)\n",
    "    \n",
    "    df.loc[df['year-month'].isin(timelist),f'{colname}_lag{i}']=0\n",
    "    return df"
   ]
  },
  {
   "cell_type": "code",
   "execution_count": 6,
   "id": "6b190aa3",
   "metadata": {},
   "outputs": [],
   "source": [
    "def laggenerator_diff(i,colname,df):\n",
    "    timelist=list(df['year-month'].drop_duplicates().sort_values())[0:i+1]\n",
    "    \n",
    "    df.loc[:,f'{colname}_diff_lag{i}_lag{i+1}']=df.loc[:,f'{colname}'].shift(i)-df.loc[:,f'{colname}'].shift(i+1)\n",
    "    \n",
    "    df.loc[df['year-month'].isin(timelist),f'{colname}_diff_lag{i}_lag{i+1}']=0\n",
    "    return df"
   ]
  },
  {
   "cell_type": "code",
   "execution_count": 7,
   "id": "4ee21d06",
   "metadata": {},
   "outputs": [],
   "source": [
    "def laggenerator_diff12(i,colname,df):\n",
    "    timelist=list(df['year-month'].drop_duplicates().sort_values())[0:i+11]\n",
    "    \n",
    "    df.loc[:,f'{colname}_diff_lag{i}_lag{i+11}']=df.loc[:,f'{colname}'].shift(i)-df.loc[:,f'{colname}'].shift(i+11)\n",
    "    \n",
    "    df.loc[df['year-month'].isin(timelist),f'{colname}_diff_lag{i}_lag{i+11}']=0\n",
    "    return df"
   ]
  },
  {
   "cell_type": "code",
   "execution_count": 8,
   "id": "8a58f6e5",
   "metadata": {},
   "outputs": [],
   "source": [
    "def laggenerator_diff6(i,colname,df):\n",
    "    timelist=list(df['year-month'].drop_duplicates().sort_values())[0:i+1]\n",
    "    \n",
    "    df.loc[:,f'{colname}_diff_lag{i}_lag{i+6}']=df.loc[:,f'{colname}'].shift(i)-df.loc[:,f'{colname}'].shift(i+6)\n",
    "    \n",
    "    df.loc[df['year-month'].isin(timelist),f'{colname}_diff_lag{i}_lag{i+6}']=0\n",
    "    return df"
   ]
  },
  {
   "cell_type": "code",
   "execution_count": 9,
   "id": "e923da82",
   "metadata": {},
   "outputs": [],
   "source": [
    "def laggenerator_MA(i,colname,df):\n",
    "    timelist=list(df['year-month'].drop_duplicates().sort_values())[0:i+4]\n",
    "    \n",
    "    df.loc[:,f'{colname}_MA{i}']=df.loc[:,f'{colname}'].shift(i)-(df.loc[:,f'{colname}'].shift(i)+df.loc[:,f'{colname}'].shift(i+1)+df.loc[:,f'{colname}'].shift(i+2)+df.loc[:,f'{colname}'].shift(i+3)+df.loc[:,f'{colname}'].shift(i+4))/5\n",
    "    \n",
    "    df.loc[df['year-month'].isin(timelist),f'{colname}_MA{i}']=0\n",
    "    return df"
   ]
  },
  {
   "cell_type": "code",
   "execution_count": 10,
   "id": "8fe8fcf9",
   "metadata": {},
   "outputs": [],
   "source": [
    "def laggenerator_mean(i,colname,df):\n",
    "    timelist=list(df['year-month'].drop_duplicates().sort_values())[0:i-1]\n",
    "    df.loc[:,f'{colname}_mean{i}']=0\n",
    "    for x in range(1,i):\n",
    "        df.loc[:,f'{colname}_mean{i}']+=df.loc[:,f'{colname}'].shift(x)\n",
    "    df.loc[:,f'{colname}_mean{i}']=df.loc[:,f'{colname}_mean{i}']/i\n",
    "    \n",
    "    df.loc[df['year-month'].isin(timelist),f'{colname}_mean{i}']=0\n",
    "    return df"
   ]
  },
  {
   "cell_type": "code",
   "execution_count": 11,
   "id": "17788020",
   "metadata": {},
   "outputs": [],
   "source": [
    "def laggenerator_ewm(i,colname,df):\n",
    "    timelist=list(df['year-month'].drop_duplicates().sort_values())[0:i-1]\n",
    "    df.loc[:,f'{colname}_ewm{i}']=0\n",
    "    weightsum=0\n",
    "    for y in range(1,i):\n",
    "        weight=i-y\n",
    "        weightsum+=weight\n",
    "    for x in range(1,i):\n",
    "        weight=i-x\n",
    "        df.loc[:,f'{colname}_ewm{i}']+=df.loc[:,f'{colname}'].shift(x)*weight/weightsum\n",
    "    df.loc[:,f'{colname}_ewm{i}']=df.loc[:,f'{colname}_ewm{i}']\n",
    "    \n",
    "    df.loc[df['year-month'].isin(timelist),f'{colname}_ewm{i}']=0\n",
    "    return df"
   ]
  },
  {
   "cell_type": "code",
   "execution_count": 12,
   "id": "5b984e48",
   "metadata": {},
   "outputs": [],
   "source": [
    "def laggenerator_min(i,colname,df):\n",
    "    timelist=list(df['year-month'].drop_duplicates().sort_values())[0:i-1]\n",
    "    df.loc[:,f'{colname}_min{i}']=999999\n",
    "    for x in range(1,i):\n",
    "        df.loc[:,f'{colname}_min{i}']=np.minimum(df.loc[:,f'{colname}'].shift(x),df.loc[:,f'{colname}_min{i}'])\n",
    "    \n",
    "    df.loc[df['year-month'].isin(timelist),f'{colname}_min{i}']=0\n",
    "    return df"
   ]
  },
  {
   "cell_type": "code",
   "execution_count": 13,
   "id": "0d9f626c",
   "metadata": {},
   "outputs": [],
   "source": [
    "def laggenerator_max(i,colname,df):\n",
    "    timelist=list(df['year-month'].drop_duplicates().sort_values())[0:i-1]\n",
    "    df.loc[:,f'{colname}_max{i}']=0\n",
    "    for x in range(1,i):\n",
    "        df.loc[:,f'{colname}_max{i}']=np.maximum(df.loc[:,f'{colname}'].shift(x),df.loc[:,f'{colname}_max{i}'])\n",
    "    \n",
    "    df.loc[df['year-month'].isin(timelist),f'{colname}_max{i}']=0\n",
    "    return df"
   ]
  },
  {
   "cell_type": "code",
   "execution_count": 14,
   "id": "e09d5902",
   "metadata": {},
   "outputs": [],
   "source": [
    "def lag_generator_all(df, var):\n",
    "    for i in range(1,6):   #14\n",
    "        df=laggenerator(i, var,df)\n",
    "\n",
    "#     for i in range(1,6):  #11\n",
    "#         df=laggenerator_diff(i, var,df)\n",
    "\n",
    "#     for i in range(1,6):\n",
    "#         df=laggenerator_diff6(i, var,df)\n",
    "\n",
    "    #for i in range(1,11):\n",
    "     #   df=laggenerator_MA(i, var,df)\n",
    "\n",
    "#     for i in range(1,14):\n",
    "#         df=laggenerator_mean(i, 'ZRI_scaled',df)\n",
    "\n",
    "#     for i in range(1,2):\n",
    "#         df=laggenerator_ewm(i, var,df)\n",
    "\n",
    "#     for i in range(1,14):\n",
    "#         df=laggenerator_min(i, var,df)\n",
    "\n",
    "#     for i in range(1,14):\n",
    "#         df=laggenerator_max(i, var,df)\n",
    "    \n",
    "    return df"
   ]
  },
  {
   "cell_type": "code",
   "execution_count": 15,
   "id": "58fdb1a8",
   "metadata": {},
   "outputs": [
    {
     "data": {
      "text/plain": [
       "Index(['zip', 'City', 'State', 'Metro', 'CountyName', 'zri', 'year', 'month',\n",
       "       'datetime', 'percent_white', 'percent_black', 'percent_asian',\n",
       "       'percent_hispanic', 'percent_native_am', 'percent_other_race',\n",
       "       'percent_0_17', 'percent_18_39', 'percent_40_64', 'percent_65+',\n",
       "       'percent_rental_units_vacant', 'percent_rental_units_occupied',\n",
       "       'percent_graduate_deg', 'percent_bachelors', 'percent_associates',\n",
       "       'percent_highschool', 'percent_less_highschool',\n",
       "       'percent_commute_public_transport', 'percent_commute_less_30',\n",
       "       'percent_buildings_less_10_units', 'percent_buildings_10_19_units',\n",
       "       'percent_buildings_20_49_units', 'percent_buildings_50+_units',\n",
       "       'percent_commute_30_to_59', 'percent_commute_60_to_89',\n",
       "       'percent_commute_90_more', 'percent_new_city', 'percent_new_unit',\n",
       "       'percent_units_owner_occupied', 'median_building_age',\n",
       "       'income_per_capita', 'poverty_rate', 'total_pop',\n",
       "       'percent_workforce_unemployed', 'percent_work_from_home', 'median_age',\n",
       "       'percent_female', 'gini_index', 'percent_not_us_citizen',\n",
       "       'bs_total_stations', 'bs_total_systems', 'has_bike_sharing',\n",
       "       'year-month'],\n",
       "      dtype='object')"
      ]
     },
     "execution_count": 15,
     "metadata": {},
     "output_type": "execute_result"
    }
   ],
   "source": [
    "df.columns"
   ]
  },
  {
   "cell_type": "code",
   "execution_count": 16,
   "id": "8abfa678",
   "metadata": {},
   "outputs": [],
   "source": [
    "#columns to scale:\n",
    "scale_columns = ['percent_white',\n",
    " 'percent_black',\n",
    " 'percent_asian',\n",
    " 'percent_hispanic',\n",
    " 'percent_native_am',\n",
    " 'percent_other_race',\n",
    " 'percent_0_17',\n",
    " 'percent_18_39',\n",
    " 'percent_40_64',\n",
    " 'percent_65+',\n",
    " 'percent_rental_units_vacant',\n",
    " 'percent_rental_units_occupied',\n",
    " 'percent_graduate_deg',\n",
    " 'percent_bachelors',\n",
    " 'percent_associates',\n",
    " 'percent_highschool',\n",
    " 'percent_less_highschool',\n",
    " 'percent_commute_public_transport',\n",
    " 'percent_commute_less_30',\n",
    " 'percent_buildings_less_10_units',\n",
    " 'percent_buildings_10_19_units',\n",
    " 'percent_buildings_20_49_units',\n",
    " 'percent_buildings_50+_units',\n",
    " 'percent_commute_30_to_59',\n",
    " 'percent_commute_60_to_89',\n",
    " 'percent_commute_90_more',\n",
    " 'percent_new_city',\n",
    " 'percent_new_unit',\n",
    " 'percent_units_owner_occupied',\n",
    " 'median_building_age',\n",
    " 'income_per_capita',\n",
    " 'poverty_rate',\n",
    " 'total_pop',\n",
    " 'percent_workforce_unemployed',\n",
    " 'percent_work_from_home',\n",
    " 'median_age',\n",
    " 'percent_female',\n",
    " 'gini_index',\n",
    " 'percent_not_us_citizen',\n",
    " 'bs_total_stations',\n",
    " 'bs_total_systems',\n",
    " 'has_bike_sharing']"
   ]
  },
  {
   "cell_type": "code",
   "execution_count": 17,
   "id": "344a2a8f",
   "metadata": {},
   "outputs": [],
   "source": [
    "for zipcode in df['zip'].unique():\n",
    "    globals()[f\"minmax_features_{zipcode}\"]=MinMaxScaler(copy=False)\n",
    "    df_filtered=df[df['zip']==zipcode]\n",
    "    df.loc[df['zip']==zipcode,scale_columns]=globals()[f\"minmax_features_{zipcode}\"].fit_transform(df_filtered[scale_columns])"
   ]
  },
  {
   "cell_type": "code",
   "execution_count": 18,
   "id": "3ef80245",
   "metadata": {},
   "outputs": [
    {
     "data": {
      "text/plain": [
       "Index(['zip', 'City', 'State', 'Metro', 'CountyName', 'zri', 'year', 'month',\n",
       "       'datetime', 'percent_white', 'percent_black', 'percent_asian',\n",
       "       'percent_hispanic', 'percent_native_am', 'percent_other_race',\n",
       "       'percent_0_17', 'percent_18_39', 'percent_40_64', 'percent_65+',\n",
       "       'percent_rental_units_vacant', 'percent_rental_units_occupied',\n",
       "       'percent_graduate_deg', 'percent_bachelors', 'percent_associates',\n",
       "       'percent_highschool', 'percent_less_highschool',\n",
       "       'percent_commute_public_transport', 'percent_commute_less_30',\n",
       "       'percent_buildings_less_10_units', 'percent_buildings_10_19_units',\n",
       "       'percent_buildings_20_49_units', 'percent_buildings_50+_units',\n",
       "       'percent_commute_30_to_59', 'percent_commute_60_to_89',\n",
       "       'percent_commute_90_more', 'percent_new_city', 'percent_new_unit',\n",
       "       'percent_units_owner_occupied', 'median_building_age',\n",
       "       'income_per_capita', 'poverty_rate', 'total_pop',\n",
       "       'percent_workforce_unemployed', 'percent_work_from_home', 'median_age',\n",
       "       'percent_female', 'gini_index', 'percent_not_us_citizen',\n",
       "       'bs_total_stations', 'bs_total_systems', 'has_bike_sharing',\n",
       "       'year-month'],\n",
       "      dtype='object')"
      ]
     },
     "execution_count": 18,
     "metadata": {},
     "output_type": "execute_result"
    }
   ],
   "source": [
    "df.columns"
   ]
  },
  {
   "cell_type": "code",
   "execution_count": 19,
   "id": "f43eee9e",
   "metadata": {},
   "outputs": [
    {
     "data": {
      "text/plain": [
       "(93672, 94)"
      ]
     },
     "execution_count": 19,
     "metadata": {},
     "output_type": "execute_result"
    }
   ],
   "source": [
    "for feat in scale_columns:\n",
    "    df = laggenerator(12,feat,df)\n",
    "df.shape\n"
   ]
  },
  {
   "cell_type": "code",
   "execution_count": 20,
   "id": "9c2372a3",
   "metadata": {},
   "outputs": [],
   "source": [
    "for feat in scale_columns:\n",
    "    df = laggenerator_diff12(1,feat,df)"
   ]
  },
  {
   "cell_type": "code",
   "execution_count": 21,
   "id": "dc8d2834",
   "metadata": {},
   "outputs": [
    {
     "data": {
      "text/plain": [
       "Index(['zip', 'City', 'State', 'Metro', 'CountyName', 'zri', 'year', 'month',\n",
       "       'datetime', 'percent_white',\n",
       "       ...\n",
       "       'total_pop_diff_lag1_lag12',\n",
       "       'percent_workforce_unemployed_diff_lag1_lag12',\n",
       "       'percent_work_from_home_diff_lag1_lag12', 'median_age_diff_lag1_lag12',\n",
       "       'percent_female_diff_lag1_lag12', 'gini_index_diff_lag1_lag12',\n",
       "       'percent_not_us_citizen_diff_lag1_lag12',\n",
       "       'bs_total_stations_diff_lag1_lag12', 'bs_total_systems_diff_lag1_lag12',\n",
       "       'has_bike_sharing_diff_lag1_lag12'],\n",
       "      dtype='object', length=136)"
      ]
     },
     "execution_count": 21,
     "metadata": {},
     "output_type": "execute_result"
    }
   ],
   "source": [
    "df.columns"
   ]
  },
  {
   "cell_type": "code",
   "execution_count": 22,
   "id": "f342f19c",
   "metadata": {},
   "outputs": [
    {
     "data": {
      "text/html": [
       "<div>\n",
       "<style scoped>\n",
       "    .dataframe tbody tr th:only-of-type {\n",
       "        vertical-align: middle;\n",
       "    }\n",
       "\n",
       "    .dataframe tbody tr th {\n",
       "        vertical-align: top;\n",
       "    }\n",
       "\n",
       "    .dataframe thead th {\n",
       "        text-align: right;\n",
       "    }\n",
       "</style>\n",
       "<table border=\"1\" class=\"dataframe\">\n",
       "  <thead>\n",
       "    <tr style=\"text-align: right;\">\n",
       "      <th></th>\n",
       "      <th>zip</th>\n",
       "      <th>City</th>\n",
       "      <th>State</th>\n",
       "      <th>Metro</th>\n",
       "      <th>CountyName</th>\n",
       "      <th>zri</th>\n",
       "      <th>year</th>\n",
       "      <th>month</th>\n",
       "      <th>datetime</th>\n",
       "      <th>percent_white</th>\n",
       "      <th>...</th>\n",
       "      <th>total_pop_diff_lag1_lag12</th>\n",
       "      <th>percent_workforce_unemployed_diff_lag1_lag12</th>\n",
       "      <th>percent_work_from_home_diff_lag1_lag12</th>\n",
       "      <th>median_age_diff_lag1_lag12</th>\n",
       "      <th>percent_female_diff_lag1_lag12</th>\n",
       "      <th>gini_index_diff_lag1_lag12</th>\n",
       "      <th>percent_not_us_citizen_diff_lag1_lag12</th>\n",
       "      <th>bs_total_stations_diff_lag1_lag12</th>\n",
       "      <th>bs_total_systems_diff_lag1_lag12</th>\n",
       "      <th>has_bike_sharing_diff_lag1_lag12</th>\n",
       "    </tr>\n",
       "  </thead>\n",
       "  <tbody>\n",
       "    <tr>\n",
       "      <th>0</th>\n",
       "      <td>1013</td>\n",
       "      <td>Chicopee</td>\n",
       "      <td>MA</td>\n",
       "      <td>Springfield</td>\n",
       "      <td>Hampden County</td>\n",
       "      <td>0.000000</td>\n",
       "      <td>2014</td>\n",
       "      <td>1</td>\n",
       "      <td>2014-01-01</td>\n",
       "      <td>1.000000</td>\n",
       "      <td>...</td>\n",
       "      <td>0.000000</td>\n",
       "      <td>0.000000</td>\n",
       "      <td>0.000000</td>\n",
       "      <td>0.000000</td>\n",
       "      <td>0.000000</td>\n",
       "      <td>0.000000</td>\n",
       "      <td>0.000000</td>\n",
       "      <td>0.0</td>\n",
       "      <td>0.0</td>\n",
       "      <td>0.0</td>\n",
       "    </tr>\n",
       "    <tr>\n",
       "      <th>1</th>\n",
       "      <td>1013</td>\n",
       "      <td>Chicopee</td>\n",
       "      <td>MA</td>\n",
       "      <td>Springfield</td>\n",
       "      <td>Hampden County</td>\n",
       "      <td>0.012146</td>\n",
       "      <td>2014</td>\n",
       "      <td>2</td>\n",
       "      <td>2014-02-01</td>\n",
       "      <td>0.975159</td>\n",
       "      <td>...</td>\n",
       "      <td>0.000000</td>\n",
       "      <td>0.000000</td>\n",
       "      <td>0.000000</td>\n",
       "      <td>0.000000</td>\n",
       "      <td>0.000000</td>\n",
       "      <td>0.000000</td>\n",
       "      <td>0.000000</td>\n",
       "      <td>0.0</td>\n",
       "      <td>0.0</td>\n",
       "      <td>0.0</td>\n",
       "    </tr>\n",
       "    <tr>\n",
       "      <th>2</th>\n",
       "      <td>1013</td>\n",
       "      <td>Chicopee</td>\n",
       "      <td>MA</td>\n",
       "      <td>Springfield</td>\n",
       "      <td>Hampden County</td>\n",
       "      <td>0.024291</td>\n",
       "      <td>2014</td>\n",
       "      <td>3</td>\n",
       "      <td>2014-03-01</td>\n",
       "      <td>0.950318</td>\n",
       "      <td>...</td>\n",
       "      <td>0.000000</td>\n",
       "      <td>0.000000</td>\n",
       "      <td>0.000000</td>\n",
       "      <td>0.000000</td>\n",
       "      <td>0.000000</td>\n",
       "      <td>0.000000</td>\n",
       "      <td>0.000000</td>\n",
       "      <td>0.0</td>\n",
       "      <td>0.0</td>\n",
       "      <td>0.0</td>\n",
       "    </tr>\n",
       "    <tr>\n",
       "      <th>3</th>\n",
       "      <td>1013</td>\n",
       "      <td>Chicopee</td>\n",
       "      <td>MA</td>\n",
       "      <td>Springfield</td>\n",
       "      <td>Hampden County</td>\n",
       "      <td>0.004049</td>\n",
       "      <td>2014</td>\n",
       "      <td>4</td>\n",
       "      <td>2014-04-01</td>\n",
       "      <td>0.925476</td>\n",
       "      <td>...</td>\n",
       "      <td>0.000000</td>\n",
       "      <td>0.000000</td>\n",
       "      <td>0.000000</td>\n",
       "      <td>0.000000</td>\n",
       "      <td>0.000000</td>\n",
       "      <td>0.000000</td>\n",
       "      <td>0.000000</td>\n",
       "      <td>0.0</td>\n",
       "      <td>0.0</td>\n",
       "      <td>0.0</td>\n",
       "    </tr>\n",
       "    <tr>\n",
       "      <th>4</th>\n",
       "      <td>1013</td>\n",
       "      <td>Chicopee</td>\n",
       "      <td>MA</td>\n",
       "      <td>Springfield</td>\n",
       "      <td>Hampden County</td>\n",
       "      <td>0.004049</td>\n",
       "      <td>2014</td>\n",
       "      <td>5</td>\n",
       "      <td>2014-05-01</td>\n",
       "      <td>0.900635</td>\n",
       "      <td>...</td>\n",
       "      <td>0.000000</td>\n",
       "      <td>0.000000</td>\n",
       "      <td>0.000000</td>\n",
       "      <td>0.000000</td>\n",
       "      <td>0.000000</td>\n",
       "      <td>0.000000</td>\n",
       "      <td>0.000000</td>\n",
       "      <td>0.0</td>\n",
       "      <td>0.0</td>\n",
       "      <td>0.0</td>\n",
       "    </tr>\n",
       "    <tr>\n",
       "      <th>...</th>\n",
       "      <td>...</td>\n",
       "      <td>...</td>\n",
       "      <td>...</td>\n",
       "      <td>...</td>\n",
       "      <td>...</td>\n",
       "      <td>...</td>\n",
       "      <td>...</td>\n",
       "      <td>...</td>\n",
       "      <td>...</td>\n",
       "      <td>...</td>\n",
       "      <td>...</td>\n",
       "      <td>...</td>\n",
       "      <td>...</td>\n",
       "      <td>...</td>\n",
       "      <td>...</td>\n",
       "      <td>...</td>\n",
       "      <td>...</td>\n",
       "      <td>...</td>\n",
       "      <td>...</td>\n",
       "      <td>...</td>\n",
       "      <td>...</td>\n",
       "    </tr>\n",
       "    <tr>\n",
       "      <th>93667</th>\n",
       "      <td>99654</td>\n",
       "      <td>Wasilla</td>\n",
       "      <td>AK</td>\n",
       "      <td>Anchorage</td>\n",
       "      <td>Matanuska Susitna Borough</td>\n",
       "      <td>0.491713</td>\n",
       "      <td>2019</td>\n",
       "      <td>8</td>\n",
       "      <td>2019-08-01</td>\n",
       "      <td>0.082181</td>\n",
       "      <td>...</td>\n",
       "      <td>0.196241</td>\n",
       "      <td>0.076412</td>\n",
       "      <td>0.321393</td>\n",
       "      <td>0.226190</td>\n",
       "      <td>0.122373</td>\n",
       "      <td>0.224307</td>\n",
       "      <td>-0.085030</td>\n",
       "      <td>0.0</td>\n",
       "      <td>0.0</td>\n",
       "      <td>0.0</td>\n",
       "    </tr>\n",
       "    <tr>\n",
       "      <th>93668</th>\n",
       "      <td>99654</td>\n",
       "      <td>Wasilla</td>\n",
       "      <td>AK</td>\n",
       "      <td>Anchorage</td>\n",
       "      <td>Matanuska Susitna Borough</td>\n",
       "      <td>0.458564</td>\n",
       "      <td>2019</td>\n",
       "      <td>9</td>\n",
       "      <td>2019-09-01</td>\n",
       "      <td>0.061635</td>\n",
       "      <td>...</td>\n",
       "      <td>0.189165</td>\n",
       "      <td>0.026560</td>\n",
       "      <td>0.300638</td>\n",
       "      <td>0.202381</td>\n",
       "      <td>0.162180</td>\n",
       "      <td>0.201876</td>\n",
       "      <td>0.033775</td>\n",
       "      <td>0.0</td>\n",
       "      <td>0.0</td>\n",
       "      <td>0.0</td>\n",
       "    </tr>\n",
       "    <tr>\n",
       "      <th>93669</th>\n",
       "      <td>99654</td>\n",
       "      <td>Wasilla</td>\n",
       "      <td>AK</td>\n",
       "      <td>Anchorage</td>\n",
       "      <td>Matanuska Susitna Borough</td>\n",
       "      <td>0.613260</td>\n",
       "      <td>2019</td>\n",
       "      <td>10</td>\n",
       "      <td>2019-10-01</td>\n",
       "      <td>0.041090</td>\n",
       "      <td>...</td>\n",
       "      <td>0.182089</td>\n",
       "      <td>-0.023293</td>\n",
       "      <td>0.279884</td>\n",
       "      <td>0.178571</td>\n",
       "      <td>0.201986</td>\n",
       "      <td>0.179445</td>\n",
       "      <td>0.152581</td>\n",
       "      <td>0.0</td>\n",
       "      <td>0.0</td>\n",
       "      <td>0.0</td>\n",
       "    </tr>\n",
       "    <tr>\n",
       "      <th>93670</th>\n",
       "      <td>99654</td>\n",
       "      <td>Wasilla</td>\n",
       "      <td>AK</td>\n",
       "      <td>Anchorage</td>\n",
       "      <td>Matanuska Susitna Borough</td>\n",
       "      <td>0.406077</td>\n",
       "      <td>2019</td>\n",
       "      <td>11</td>\n",
       "      <td>2019-11-01</td>\n",
       "      <td>0.020545</td>\n",
       "      <td>...</td>\n",
       "      <td>0.175013</td>\n",
       "      <td>-0.073145</td>\n",
       "      <td>0.259129</td>\n",
       "      <td>0.154762</td>\n",
       "      <td>0.241793</td>\n",
       "      <td>0.157015</td>\n",
       "      <td>0.271386</td>\n",
       "      <td>0.0</td>\n",
       "      <td>0.0</td>\n",
       "      <td>0.0</td>\n",
       "    </tr>\n",
       "    <tr>\n",
       "      <th>93671</th>\n",
       "      <td>99654</td>\n",
       "      <td>Wasilla</td>\n",
       "      <td>AK</td>\n",
       "      <td>Anchorage</td>\n",
       "      <td>Matanuska Susitna Borough</td>\n",
       "      <td>0.198895</td>\n",
       "      <td>2019</td>\n",
       "      <td>12</td>\n",
       "      <td>2019-12-01</td>\n",
       "      <td>0.000000</td>\n",
       "      <td>...</td>\n",
       "      <td>0.167937</td>\n",
       "      <td>-0.122998</td>\n",
       "      <td>0.238375</td>\n",
       "      <td>0.130952</td>\n",
       "      <td>0.281600</td>\n",
       "      <td>0.134584</td>\n",
       "      <td>0.390191</td>\n",
       "      <td>0.0</td>\n",
       "      <td>0.0</td>\n",
       "      <td>0.0</td>\n",
       "    </tr>\n",
       "  </tbody>\n",
       "</table>\n",
       "<p>93672 rows × 136 columns</p>\n",
       "</div>"
      ],
      "text/plain": [
       "         zip      City State        Metro                 CountyName  \\\n",
       "0       1013  Chicopee    MA  Springfield             Hampden County   \n",
       "1       1013  Chicopee    MA  Springfield             Hampden County   \n",
       "2       1013  Chicopee    MA  Springfield             Hampden County   \n",
       "3       1013  Chicopee    MA  Springfield             Hampden County   \n",
       "4       1013  Chicopee    MA  Springfield             Hampden County   \n",
       "...      ...       ...   ...          ...                        ...   \n",
       "93667  99654   Wasilla    AK    Anchorage  Matanuska Susitna Borough   \n",
       "93668  99654   Wasilla    AK    Anchorage  Matanuska Susitna Borough   \n",
       "93669  99654   Wasilla    AK    Anchorage  Matanuska Susitna Borough   \n",
       "93670  99654   Wasilla    AK    Anchorage  Matanuska Susitna Borough   \n",
       "93671  99654   Wasilla    AK    Anchorage  Matanuska Susitna Borough   \n",
       "\n",
       "            zri  year  month    datetime  percent_white  ...  \\\n",
       "0      0.000000  2014      1  2014-01-01       1.000000  ...   \n",
       "1      0.012146  2014      2  2014-02-01       0.975159  ...   \n",
       "2      0.024291  2014      3  2014-03-01       0.950318  ...   \n",
       "3      0.004049  2014      4  2014-04-01       0.925476  ...   \n",
       "4      0.004049  2014      5  2014-05-01       0.900635  ...   \n",
       "...         ...   ...    ...         ...            ...  ...   \n",
       "93667  0.491713  2019      8  2019-08-01       0.082181  ...   \n",
       "93668  0.458564  2019      9  2019-09-01       0.061635  ...   \n",
       "93669  0.613260  2019     10  2019-10-01       0.041090  ...   \n",
       "93670  0.406077  2019     11  2019-11-01       0.020545  ...   \n",
       "93671  0.198895  2019     12  2019-12-01       0.000000  ...   \n",
       "\n",
       "       total_pop_diff_lag1_lag12  \\\n",
       "0                       0.000000   \n",
       "1                       0.000000   \n",
       "2                       0.000000   \n",
       "3                       0.000000   \n",
       "4                       0.000000   \n",
       "...                          ...   \n",
       "93667                   0.196241   \n",
       "93668                   0.189165   \n",
       "93669                   0.182089   \n",
       "93670                   0.175013   \n",
       "93671                   0.167937   \n",
       "\n",
       "       percent_workforce_unemployed_diff_lag1_lag12  \\\n",
       "0                                          0.000000   \n",
       "1                                          0.000000   \n",
       "2                                          0.000000   \n",
       "3                                          0.000000   \n",
       "4                                          0.000000   \n",
       "...                                             ...   \n",
       "93667                                      0.076412   \n",
       "93668                                      0.026560   \n",
       "93669                                     -0.023293   \n",
       "93670                                     -0.073145   \n",
       "93671                                     -0.122998   \n",
       "\n",
       "       percent_work_from_home_diff_lag1_lag12  median_age_diff_lag1_lag12  \\\n",
       "0                                    0.000000                    0.000000   \n",
       "1                                    0.000000                    0.000000   \n",
       "2                                    0.000000                    0.000000   \n",
       "3                                    0.000000                    0.000000   \n",
       "4                                    0.000000                    0.000000   \n",
       "...                                       ...                         ...   \n",
       "93667                                0.321393                    0.226190   \n",
       "93668                                0.300638                    0.202381   \n",
       "93669                                0.279884                    0.178571   \n",
       "93670                                0.259129                    0.154762   \n",
       "93671                                0.238375                    0.130952   \n",
       "\n",
       "       percent_female_diff_lag1_lag12  gini_index_diff_lag1_lag12  \\\n",
       "0                            0.000000                    0.000000   \n",
       "1                            0.000000                    0.000000   \n",
       "2                            0.000000                    0.000000   \n",
       "3                            0.000000                    0.000000   \n",
       "4                            0.000000                    0.000000   \n",
       "...                               ...                         ...   \n",
       "93667                        0.122373                    0.224307   \n",
       "93668                        0.162180                    0.201876   \n",
       "93669                        0.201986                    0.179445   \n",
       "93670                        0.241793                    0.157015   \n",
       "93671                        0.281600                    0.134584   \n",
       "\n",
       "       percent_not_us_citizen_diff_lag1_lag12  \\\n",
       "0                                    0.000000   \n",
       "1                                    0.000000   \n",
       "2                                    0.000000   \n",
       "3                                    0.000000   \n",
       "4                                    0.000000   \n",
       "...                                       ...   \n",
       "93667                               -0.085030   \n",
       "93668                                0.033775   \n",
       "93669                                0.152581   \n",
       "93670                                0.271386   \n",
       "93671                                0.390191   \n",
       "\n",
       "       bs_total_stations_diff_lag1_lag12  bs_total_systems_diff_lag1_lag12  \\\n",
       "0                                    0.0                               0.0   \n",
       "1                                    0.0                               0.0   \n",
       "2                                    0.0                               0.0   \n",
       "3                                    0.0                               0.0   \n",
       "4                                    0.0                               0.0   \n",
       "...                                  ...                               ...   \n",
       "93667                                0.0                               0.0   \n",
       "93668                                0.0                               0.0   \n",
       "93669                                0.0                               0.0   \n",
       "93670                                0.0                               0.0   \n",
       "93671                                0.0                               0.0   \n",
       "\n",
       "       has_bike_sharing_diff_lag1_lag12  \n",
       "0                                   0.0  \n",
       "1                                   0.0  \n",
       "2                                   0.0  \n",
       "3                                   0.0  \n",
       "4                                   0.0  \n",
       "...                                 ...  \n",
       "93667                               0.0  \n",
       "93668                               0.0  \n",
       "93669                               0.0  \n",
       "93670                               0.0  \n",
       "93671                               0.0  \n",
       "\n",
       "[93672 rows x 136 columns]"
      ]
     },
     "execution_count": 22,
     "metadata": {},
     "output_type": "execute_result"
    }
   ],
   "source": [
    "df"
   ]
  },
  {
   "cell_type": "code",
   "execution_count": 25,
   "id": "8d398b6b",
   "metadata": {},
   "outputs": [],
   "source": [
    "#train=df[(df['year-month']<='2018-12') & (df['year-month']>'2015-01')]\n",
    "\n",
    "train=df[(df['year-month']<='2018-12') & (df['year-month']>='2014-01')]\n",
    "\n",
    "train=train.drop('year-month',axis=1)\n",
    "\n",
    "Y_train=train['zri']\n",
    "X_train=train.drop('zri',axis=1)"
   ]
  },
  {
   "cell_type": "code",
   "execution_count": 26,
   "id": "54140298",
   "metadata": {},
   "outputs": [],
   "source": [
    "X_train=X_train.drop(['zip','year','month','datetime','City','State','Metro','CountyName'],axis=1)\n",
    "cols=X_train.columns"
   ]
  },
  {
   "cell_type": "code",
   "execution_count": 27,
   "id": "2e3f08ea",
   "metadata": {},
   "outputs": [],
   "source": [
    "\n",
    "# linmod=RandomForestRegressor(n_estimators=500)\n",
    "\n",
    "# params=({\n",
    "#      'min_samples_split':[8,12], \n",
    "#         'max_features':[0.8,0.9],\n",
    "#     'min_samples_leaf':[6,8]\n",
    "#  })\n",
    "\n",
    "# grid=GridSearchCV(linmod, param_grid=params, cv=fold)\n",
    "# grid.fit(X_train, Y_train)\n",
    "\n",
    "# grid.best_params_"
   ]
  },
  {
   "cell_type": "code",
   "execution_count": 33,
   "id": "14ef475e",
   "metadata": {},
   "outputs": [],
   "source": [
    "fold=TimeSeriesSplit(n_splits=5)\n"
   ]
  },
  {
   "cell_type": "code",
   "execution_count": 29,
   "id": "976795d7",
   "metadata": {},
   "outputs": [],
   "source": [
    "from sklearn.model_selection import RandomizedSearchCV"
   ]
  },
  {
   "cell_type": "code",
   "execution_count": 32,
   "id": "666e6e55",
   "metadata": {},
   "outputs": [
    {
     "name": "stdout",
     "output_type": "stream",
     "text": [
      "Fitting 3 folds for each of 10 candidates, totalling 30 fits\n"
     ]
    },
    {
     "data": {
      "text/plain": [
       "{'n_estimators': 500,\n",
       " 'min_samples_split': 2,\n",
       " 'min_samples_leaf': 1,\n",
       " 'max_features': 'sqrt'}"
      ]
     },
     "execution_count": 32,
     "metadata": {},
     "output_type": "execute_result"
    }
   ],
   "source": [
    "# rf=RandomForestRegressor()\n",
    "\n",
    "# params=({\n",
    "#     'n_estimators':[100,200,300,400,500],\n",
    "#      'min_samples_split':[2,5,10], \n",
    "#         'max_features':[0.3,0.5,0.7,'auto','sqrt'],\n",
    "#     'min_samples_leaf':[1,10]\n",
    "#  })\n",
    "\n",
    "# grid=RandomizedSearchCV(rf, param_distributions=params,n_iter=10,cv=3,n_jobs=-1,verbose=2)\n",
    "# grid.fit(X_train, Y_train)\n",
    "\n",
    "# grid.best_params_\n",
    "\n",
    "# {'n_estimators': 500,\n",
    "#  'min_samples_split': 2,\n",
    "#  'min_samples_leaf': 1,\n",
    "#  'max_features': 'sqrt'}\n"
   ]
  },
  {
   "cell_type": "code",
   "execution_count": 37,
   "id": "c297b4d7",
   "metadata": {},
   "outputs": [
    {
     "data": {
      "text/plain": [
       "0.49740102069316244"
      ]
     },
     "execution_count": 37,
     "metadata": {},
     "output_type": "execute_result"
    }
   ],
   "source": [
    "grid.best_score_"
   ]
  },
  {
   "cell_type": "code",
   "execution_count": 34,
   "id": "bd65e553",
   "metadata": {},
   "outputs": [
    {
     "data": {
      "text/plain": [
       "(78060, 126)"
      ]
     },
     "execution_count": 34,
     "metadata": {},
     "output_type": "execute_result"
    }
   ],
   "source": [
    "X_train.shape"
   ]
  },
  {
   "cell_type": "code",
   "execution_count": null,
   "id": "410b9836",
   "metadata": {},
   "outputs": [],
   "source": [
    "#model=RandomForestRegressor(min_samples_split=8, max_features=0.9, n_estimators=500, min_samples_leaf=10)\n",
    "model = RandomForestRegressor(n_estimators=500,max_features='sqrt')\n",
    "selector = RFECV(model, step=1, cv=fold, scoring='r2') #'neg_root_mean_squared_error'\n",
    "selector = selector.fit(X_train, Y_train)\n"
   ]
  },
  {
   "cell_type": "code",
   "execution_count": null,
   "id": "13e6821c",
   "metadata": {},
   "outputs": [],
   "source": [
    "rf_model.score(X_train, Y_train)"
   ]
  },
  {
   "cell_type": "code",
   "execution_count": null,
   "id": "a284e0b8",
   "metadata": {},
   "outputs": [],
   "source": [
    "feature_importances=pd.DataFrame({'Feature':cols,'Importance':rf_model.feature_importances_}).sort_values('Importance', ascending=False)\n",
    "feature_importances"
   ]
  },
  {
   "cell_type": "code",
   "execution_count": null,
   "id": "d6ddbc09",
   "metadata": {
    "scrolled": true
   },
   "outputs": [],
   "source": [
    "#pd.DataFrame({'Feature':X_train.columns,'Coefs':kr_model.coef_}).sort_values('Coefs')"
   ]
  },
  {
   "cell_type": "code",
   "execution_count": null,
   "id": "7bfd8777",
   "metadata": {},
   "outputs": [],
   "source": [
    "Y_test=df[(df['year-month']>'2018-12') & (df['year-month']<='2019-12')][['zri']]\n",
    "predictor_table=df.copy()\n",
    "X_test=predictor_table[predictor_table['year-month']>'2018-12']\n",
    "\n",
    "#loop through all month in 2019\n",
    "for month in list(X_test['year-month'].drop_duplicates()):\n",
    "    \n",
    "    #run prediction for one month\n",
    "    X_test=X_test[X_test['year-month']==month]\n",
    "    \n",
    "#     enc2_df2 = pd.DataFrame(enc2.transform(X_test[['zip']]).toarray())\n",
    "#     X_test = X_test.join(enc2_df2, rsuffix='1')\n",
    "#     X_test=X_test.fillna(0)    \n",
    "    \n",
    "    X_test=X_test.drop(['zip','year','month','datetime','City','State','Metro','CountyName','year-month','zri'],axis=1)\n",
    "    #X_test = pd.DataFrame(normal.transform(X_test))\n",
    "    \n",
    "    val=rf_model.predict(X_test)\n",
    "\n",
    "    #write current month prediction into predictor_table\n",
    "\n",
    "    predictor_table.loc[predictor_table['year-month']==month,'zri']=val\n",
    "        \n",
    "    predictor_table=lag_generator_all(predictor_table, 'zri')\n",
    "#     for var in predictor_table.columns[5:43]:\n",
    "#         predictor_table=lag_generator_all(predictor_table, var)\n",
    "        \n",
    "    X_test=predictor_table[predictor_table['year-month']>'2018-12']\n",
    "\n"
   ]
  },
  {
   "cell_type": "code",
   "execution_count": null,
   "id": "c3a197df",
   "metadata": {},
   "outputs": [],
   "source": [
    "#Y_test['ZRI_Yest_scaled']=Y_test['ZRI_scaled']\n",
    "rstable=X_test[['zip','year','month','datetime','City','State','Metro','CountyName','year-month','zri']].merge(Y_test[['zri']], left_index=True, right_index=True)\n"
   ]
  },
  {
   "cell_type": "code",
   "execution_count": null,
   "id": "cdc46281",
   "metadata": {},
   "outputs": [],
   "source": [
    "rstable"
   ]
  },
  {
   "cell_type": "code",
   "execution_count": null,
   "id": "dec61ca1",
   "metadata": {},
   "outputs": [],
   "source": [
    "for zipcode in rstable['zip'].unique():\n",
    "    rstable_filtered=rstable[rstable['zip']==zipcode]\n",
    "    rstable.loc[rstable['zip']==zipcode,'zri_x']=globals()[f\"minmax_{zipcode}\"].inverse_transform(rstable_filtered[['zri_x']])\n",
    "    rstable.loc[rstable['zip']==zipcode,'zri_y']=globals()[f\"minmax_{zipcode}\"].inverse_transform(rstable_filtered[['zri_y']])   \n",
    "    "
   ]
  },
  {
   "cell_type": "code",
   "execution_count": null,
   "id": "cfd65de8",
   "metadata": {},
   "outputs": [],
   "source": [
    "RSME=(sum((rstable['zri_x']-rstable['zri_y'])**2)/len(rstable))**0.5\n",
    "RSME"
   ]
  },
  {
   "cell_type": "code",
   "execution_count": null,
   "id": "18bce0ab",
   "metadata": {},
   "outputs": [],
   "source": [
    "#128 (max without autoregressive)(random forest)"
   ]
  },
  {
   "cell_type": "code",
   "execution_count": null,
   "id": "51e992ef",
   "metadata": {},
   "outputs": [],
   "source": [
    "rstable['residual']=rstable['zri_x']-rstable['zri_y']"
   ]
  },
  {
   "cell_type": "code",
   "execution_count": null,
   "id": "e5c1e007",
   "metadata": {},
   "outputs": [],
   "source": [
    "rstable['residual_squared']=rstable['residual'].map(lambda x: x**2)"
   ]
  },
  {
   "cell_type": "code",
   "execution_count": null,
   "id": "2502ce04",
   "metadata": {},
   "outputs": [],
   "source": [
    "rstable2=rstable.groupby('State').agg('mean').sort_values('residual_squared')\n",
    "rstable2=rstable2.reset_index()"
   ]
  },
  {
   "cell_type": "code",
   "execution_count": null,
   "id": "51682cf2",
   "metadata": {},
   "outputs": [],
   "source": [
    "rstable2"
   ]
  },
  {
   "cell_type": "code",
   "execution_count": null,
   "id": "9fbe6091",
   "metadata": {},
   "outputs": [],
   "source": [
    "df['State'].nunique()"
   ]
  },
  {
   "cell_type": "code",
   "execution_count": null,
   "id": "f47a5239",
   "metadata": {},
   "outputs": [],
   "source": [
    "fig = px.choropleth(rstable2,\n",
    "                    locations='State',\n",
    "                    color='residual_squared',\n",
    "                    color_continuous_scale='Viridis',\n",
    "                    hover_name='State',\n",
    "                    locationmode='USA-states',\n",
    "                    scope='usa')\n",
    "\n",
    "fig.show()"
   ]
  },
  {
   "cell_type": "code",
   "execution_count": null,
   "id": "f8513421",
   "metadata": {},
   "outputs": [],
   "source": []
  },
  {
   "cell_type": "code",
   "execution_count": null,
   "id": "03792a5e",
   "metadata": {},
   "outputs": [],
   "source": [
    "# filename='RF_6Feature_Auto'\n",
    "# feature_importances.to_csv(f'models/features_{filename}.csv')\n",
    "# feature_importances.to_csv(f'models/residuals_{filename}.csv')"
   ]
  },
  {
   "cell_type": "code",
   "execution_count": null,
   "id": "620f0a2e",
   "metadata": {},
   "outputs": [],
   "source": []
  },
  {
   "cell_type": "code",
   "execution_count": null,
   "id": "0dd90e71",
   "metadata": {},
   "outputs": [],
   "source": []
  },
  {
   "cell_type": "code",
   "execution_count": null,
   "id": "796a00f6",
   "metadata": {},
   "outputs": [],
   "source": []
  },
  {
   "cell_type": "code",
   "execution_count": null,
   "id": "06f4493d",
   "metadata": {},
   "outputs": [],
   "source": []
  },
  {
   "cell_type": "code",
   "execution_count": null,
   "id": "a7238772",
   "metadata": {},
   "outputs": [],
   "source": []
  },
  {
   "cell_type": "code",
   "execution_count": null,
   "id": "b0769bad",
   "metadata": {},
   "outputs": [],
   "source": []
  },
  {
   "cell_type": "code",
   "execution_count": null,
   "id": "8165bdb2",
   "metadata": {},
   "outputs": [],
   "source": []
  },
  {
   "cell_type": "code",
   "execution_count": null,
   "id": "702cfdf1",
   "metadata": {},
   "outputs": [],
   "source": []
  },
  {
   "cell_type": "code",
   "execution_count": null,
   "id": "9943e3c8",
   "metadata": {},
   "outputs": [],
   "source": []
  },
  {
   "cell_type": "code",
   "execution_count": null,
   "id": "d313da76",
   "metadata": {},
   "outputs": [],
   "source": []
  },
  {
   "cell_type": "code",
   "execution_count": null,
   "id": "82229ecd",
   "metadata": {},
   "outputs": [],
   "source": []
  },
  {
   "cell_type": "code",
   "execution_count": null,
   "id": "4116c7a0",
   "metadata": {},
   "outputs": [],
   "source": []
  },
  {
   "cell_type": "code",
   "execution_count": null,
   "id": "d14367db",
   "metadata": {},
   "outputs": [],
   "source": []
  },
  {
   "cell_type": "code",
   "execution_count": null,
   "id": "f5548e56",
   "metadata": {},
   "outputs": [],
   "source": [
    "testmonths=list(zri3[(zri3['year-month']>'2018-12') & (zri3['year-month']<='2019-12')]['year-month'].drop_duplicates())\n",
    "\n",
    "R2_test=zri3[(zri3['year-month']>'2018-12') & (zri3['year-month']<='2019-12')][['ZRI_scaled','year-month']]\n",
    "R2_test['ZRI_result']=0\n",
    "\n",
    "for i,month in enumerate(testmonths):\n",
    "    R2_test.loc[R2_test['year-month']==month,'ZRI_result']=list(zri3.loc[zri3['year-month']=='2018-12','ZRI_scaled'].apply(lambda x: x*(1+i*0.002)))\n",
    "\n",
    "RSME_null=(sum((R2_test['ZRI_scaled']-R2_test['ZRI_result'])**2)/len(R2_test))**0.5\n",
    "RSME_null\n"
   ]
  },
  {
   "cell_type": "code",
   "execution_count": null,
   "id": "2aec7e56",
   "metadata": {},
   "outputs": [],
   "source": [
    "zips=rstable['RegionName'].unique()[0:10]"
   ]
  },
  {
   "cell_type": "code",
   "execution_count": null,
   "id": "c01cf2f9",
   "metadata": {},
   "outputs": [],
   "source": [
    "px.line(rstable[rstable['RegionName'].isin(zips)], y=['ZRI_scaled_x','ZRI_scaled_y'],x='year-month', color='RegionName')"
   ]
  },
  {
   "cell_type": "code",
   "execution_count": null,
   "id": "2b939b4f",
   "metadata": {},
   "outputs": [],
   "source": [
    "zips=zri3['RegionName'].unique()[0:5]\n",
    "px.line(zri3[zri3['RegionName'].isin(zips)], y=['ZRI_scaled'],x='year-month', color='RegionName')"
   ]
  },
  {
   "cell_type": "code",
   "execution_count": null,
   "id": "fb54728f",
   "metadata": {},
   "outputs": [],
   "source": []
  }
 ],
 "metadata": {
  "kernelspec": {
   "display_name": "Python 3",
   "language": "python",
   "name": "python3"
  },
  "language_info": {
   "codemirror_mode": {
    "name": "ipython",
    "version": 3
   },
   "file_extension": ".py",
   "mimetype": "text/x-python",
   "name": "python",
   "nbconvert_exporter": "python",
   "pygments_lexer": "ipython3",
   "version": "3.8.8"
  }
 },
 "nbformat": 4,
 "nbformat_minor": 5
}
