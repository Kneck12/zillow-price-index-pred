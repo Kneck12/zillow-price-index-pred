{
 "cells": [
  {
   "cell_type": "code",
   "execution_count": 14,
   "id": "41613b26",
   "metadata": {},
   "outputs": [],
   "source": [
    "import pandas as pd\n",
    "import numpy as np \n",
    "import seaborn as sns\n",
    "import matplotlib.pyplot as plt\n",
    "from sklearn.linear_model import LinearRegression\n",
    "from sklearn.ensemble import RandomForestRegressor\n",
    "from sklearn.metrics import mean_squared_error\n",
    "from math import sqrt "
   ]
  },
  {
   "cell_type": "markdown",
   "id": "1727c485",
   "metadata": {},
   "source": [
    "# Load and prepare data"
   ]
  },
  {
   "cell_type": "code",
   "execution_count": 15,
   "id": "bb4688af",
   "metadata": {},
   "outputs": [],
   "source": [
    "zri = pd.read_csv('../data/zri_multifamily_v2.csv')\n",
    "zri['zip'] = zri['zip'].astype('string')\n",
    "zri['zip'] = [\"0\"+z if len(z)<5 else z for z in zri['zip']]\n",
    "zri['year'] = pd.to_datetime(zri['year-month'],format=\"%Y-%m\").dt.year\n",
    "zri['year'] = zri['year'].astype('string')\n",
    "zri['year-month'] = pd.to_datetime(zri['year-month'],format=\"%Y-%m\")"
   ]
  },
  {
   "cell_type": "code",
   "execution_count": 16,
   "id": "4232f464",
   "metadata": {},
   "outputs": [],
   "source": [
    "acs = pd.read_csv('../data/acs_engineered_features.csv')\n",
    "acs['zip'] = acs['zip'].astype('string')\n",
    "acs['zip'] = [\"0\"+z if len(z)<5 else z for z in acs['zip']]\n",
    "acs['year_usable'] = acs['year_usable'].astype('string')"
   ]
  },
  {
   "cell_type": "code",
   "execution_count": 17,
   "id": "e921cfa8",
   "metadata": {},
   "outputs": [],
   "source": [
    "zri_acs = pd.merge(zri,acs,how='left',left_on=[\"zip\",\"year\"],right_on=[\"zip\",\"year_usable\"])\n",
    "zri_acs = zri_acs.drop(index=zri_acs[zri_acs['zip']==\"11249\"].index)"
   ]
  },
  {
   "cell_type": "code",
   "execution_count": 48,
   "id": "97e0788f",
   "metadata": {},
   "outputs": [
    {
     "data": {
      "text/html": [
       "<div>\n",
       "<style scoped>\n",
       "    .dataframe tbody tr th:only-of-type {\n",
       "        vertical-align: middle;\n",
       "    }\n",
       "\n",
       "    .dataframe tbody tr th {\n",
       "        vertical-align: top;\n",
       "    }\n",
       "\n",
       "    .dataframe thead th {\n",
       "        text-align: right;\n",
       "    }\n",
       "</style>\n",
       "<table border=\"1\" class=\"dataframe\">\n",
       "  <thead>\n",
       "    <tr style=\"text-align: right;\">\n",
       "      <th></th>\n",
       "      <th>zip</th>\n",
       "      <th>census_period</th>\n",
       "      <th>year_usable</th>\n",
       "      <th>percent_white</th>\n",
       "      <th>percent_black</th>\n",
       "      <th>percent_asian</th>\n",
       "      <th>percent_hispanic</th>\n",
       "      <th>percent_native_am</th>\n",
       "      <th>percent_other_race</th>\n",
       "      <th>percent_0_17</th>\n",
       "      <th>...</th>\n",
       "      <th>median_building_age</th>\n",
       "      <th>income_per_capita</th>\n",
       "      <th>poverty_rate</th>\n",
       "      <th>total_pop</th>\n",
       "      <th>percent_workforce_unemployed</th>\n",
       "      <th>percent_work_from_home</th>\n",
       "      <th>median_age</th>\n",
       "      <th>percent_female</th>\n",
       "      <th>gini_index</th>\n",
       "      <th>percent_not_us_citizen</th>\n",
       "    </tr>\n",
       "  </thead>\n",
       "  <tbody>\n",
       "    <tr>\n",
       "      <th>0</th>\n",
       "      <td>01013</td>\n",
       "      <td>20072011</td>\n",
       "      <td>2013</td>\n",
       "      <td>0.729579</td>\n",
       "      <td>0.020723</td>\n",
       "      <td>0.013756</td>\n",
       "      <td>0.218793</td>\n",
       "      <td>0.000000</td>\n",
       "      <td>0.005002</td>\n",
       "      <td>0.230494</td>\n",
       "      <td>...</td>\n",
       "      <td>62.0</td>\n",
       "      <td>20433.0</td>\n",
       "      <td>0.190522</td>\n",
       "      <td>22391</td>\n",
       "      <td>0.104113</td>\n",
       "      <td>0.008853</td>\n",
       "      <td>36.4</td>\n",
       "      <td>0.510250</td>\n",
       "      <td>0.4210</td>\n",
       "      <td>0.055960</td>\n",
       "    </tr>\n",
       "    <tr>\n",
       "      <th>1</th>\n",
       "      <td>01013</td>\n",
       "      <td>20082012</td>\n",
       "      <td>2014</td>\n",
       "      <td>0.714417</td>\n",
       "      <td>0.023463</td>\n",
       "      <td>0.013473</td>\n",
       "      <td>0.231235</td>\n",
       "      <td>0.000000</td>\n",
       "      <td>0.004491</td>\n",
       "      <td>0.224682</td>\n",
       "      <td>...</td>\n",
       "      <td>62.0</td>\n",
       "      <td>20940.0</td>\n",
       "      <td>0.201543</td>\n",
       "      <td>21822</td>\n",
       "      <td>0.104320</td>\n",
       "      <td>0.014770</td>\n",
       "      <td>36.6</td>\n",
       "      <td>0.501650</td>\n",
       "      <td>0.4179</td>\n",
       "      <td>0.057190</td>\n",
       "    </tr>\n",
       "    <tr>\n",
       "      <th>2</th>\n",
       "      <td>01013</td>\n",
       "      <td>20092013</td>\n",
       "      <td>2015</td>\n",
       "      <td>0.720119</td>\n",
       "      <td>0.027857</td>\n",
       "      <td>0.016777</td>\n",
       "      <td>0.217971</td>\n",
       "      <td>0.001357</td>\n",
       "      <td>0.005065</td>\n",
       "      <td>0.217248</td>\n",
       "      <td>...</td>\n",
       "      <td>66.0</td>\n",
       "      <td>20889.0</td>\n",
       "      <td>0.173591</td>\n",
       "      <td>22113</td>\n",
       "      <td>0.113411</td>\n",
       "      <td>0.012946</td>\n",
       "      <td>35.5</td>\n",
       "      <td>0.506851</td>\n",
       "      <td>0.4110</td>\n",
       "      <td>0.056483</td>\n",
       "    </tr>\n",
       "    <tr>\n",
       "      <th>3</th>\n",
       "      <td>01013</td>\n",
       "      <td>20102014</td>\n",
       "      <td>2016</td>\n",
       "      <td>0.713799</td>\n",
       "      <td>0.017445</td>\n",
       "      <td>0.016638</td>\n",
       "      <td>0.237499</td>\n",
       "      <td>0.000538</td>\n",
       "      <td>0.002197</td>\n",
       "      <td>0.221131</td>\n",
       "      <td>...</td>\n",
       "      <td>72.0</td>\n",
       "      <td>21371.0</td>\n",
       "      <td>0.155696</td>\n",
       "      <td>22299</td>\n",
       "      <td>0.115569</td>\n",
       "      <td>0.013701</td>\n",
       "      <td>35.8</td>\n",
       "      <td>0.512669</td>\n",
       "      <td>0.4061</td>\n",
       "      <td>0.050182</td>\n",
       "    </tr>\n",
       "    <tr>\n",
       "      <th>4</th>\n",
       "      <td>01013</td>\n",
       "      <td>20112015</td>\n",
       "      <td>2017</td>\n",
       "      <td>0.703894</td>\n",
       "      <td>0.022238</td>\n",
       "      <td>0.018442</td>\n",
       "      <td>0.241627</td>\n",
       "      <td>0.001116</td>\n",
       "      <td>0.001652</td>\n",
       "      <td>0.222336</td>\n",
       "      <td>...</td>\n",
       "      <td>73.0</td>\n",
       "      <td>21477.0</td>\n",
       "      <td>0.169816</td>\n",
       "      <td>22394</td>\n",
       "      <td>0.114075</td>\n",
       "      <td>0.020243</td>\n",
       "      <td>34.9</td>\n",
       "      <td>0.514200</td>\n",
       "      <td>0.4117</td>\n",
       "      <td>0.050013</td>\n",
       "    </tr>\n",
       "    <tr>\n",
       "      <th>...</th>\n",
       "      <td>...</td>\n",
       "      <td>...</td>\n",
       "      <td>...</td>\n",
       "      <td>...</td>\n",
       "      <td>...</td>\n",
       "      <td>...</td>\n",
       "      <td>...</td>\n",
       "      <td>...</td>\n",
       "      <td>...</td>\n",
       "      <td>...</td>\n",
       "      <td>...</td>\n",
       "      <td>...</td>\n",
       "      <td>...</td>\n",
       "      <td>...</td>\n",
       "      <td>...</td>\n",
       "      <td>...</td>\n",
       "      <td>...</td>\n",
       "      <td>...</td>\n",
       "      <td>...</td>\n",
       "      <td>...</td>\n",
       "      <td>...</td>\n",
       "    </tr>\n",
       "    <tr>\n",
       "      <th>92647</th>\n",
       "      <td>99901</td>\n",
       "      <td>20092013</td>\n",
       "      <td>2015</td>\n",
       "      <td>0.653872</td>\n",
       "      <td>0.002271</td>\n",
       "      <td>0.063146</td>\n",
       "      <td>0.044026</td>\n",
       "      <td>0.142407</td>\n",
       "      <td>0.002710</td>\n",
       "      <td>0.233756</td>\n",
       "      <td>...</td>\n",
       "      <td>38.0</td>\n",
       "      <td>31563.0</td>\n",
       "      <td>0.101846</td>\n",
       "      <td>13651</td>\n",
       "      <td>0.086316</td>\n",
       "      <td>0.021073</td>\n",
       "      <td>38.7</td>\n",
       "      <td>0.478353</td>\n",
       "      <td>0.3981</td>\n",
       "      <td>0.025493</td>\n",
       "    </tr>\n",
       "    <tr>\n",
       "      <th>92648</th>\n",
       "      <td>99901</td>\n",
       "      <td>20102014</td>\n",
       "      <td>2016</td>\n",
       "      <td>0.654374</td>\n",
       "      <td>0.004016</td>\n",
       "      <td>0.061487</td>\n",
       "      <td>0.046444</td>\n",
       "      <td>0.143932</td>\n",
       "      <td>0.000000</td>\n",
       "      <td>0.232584</td>\n",
       "      <td>...</td>\n",
       "      <td>38.0</td>\n",
       "      <td>31487.0</td>\n",
       "      <td>0.114447</td>\n",
       "      <td>13694</td>\n",
       "      <td>0.085095</td>\n",
       "      <td>0.022509</td>\n",
       "      <td>38.8</td>\n",
       "      <td>0.481233</td>\n",
       "      <td>0.4057</td>\n",
       "      <td>0.023952</td>\n",
       "    </tr>\n",
       "    <tr>\n",
       "      <th>92649</th>\n",
       "      <td>99901</td>\n",
       "      <td>20112015</td>\n",
       "      <td>2017</td>\n",
       "      <td>0.649705</td>\n",
       "      <td>0.004228</td>\n",
       "      <td>0.073631</td>\n",
       "      <td>0.048334</td>\n",
       "      <td>0.135379</td>\n",
       "      <td>0.001604</td>\n",
       "      <td>0.230079</td>\n",
       "      <td>...</td>\n",
       "      <td>40.0</td>\n",
       "      <td>32010.0</td>\n",
       "      <td>0.121194</td>\n",
       "      <td>13717</td>\n",
       "      <td>0.078951</td>\n",
       "      <td>0.023050</td>\n",
       "      <td>38.7</td>\n",
       "      <td>0.485602</td>\n",
       "      <td>0.4110</td>\n",
       "      <td>0.025953</td>\n",
       "    </tr>\n",
       "    <tr>\n",
       "      <th>92650</th>\n",
       "      <td>99901</td>\n",
       "      <td>20122016</td>\n",
       "      <td>2018</td>\n",
       "      <td>0.645762</td>\n",
       "      <td>0.004947</td>\n",
       "      <td>0.076319</td>\n",
       "      <td>0.046126</td>\n",
       "      <td>0.129138</td>\n",
       "      <td>0.005384</td>\n",
       "      <td>0.225609</td>\n",
       "      <td>...</td>\n",
       "      <td>40.0</td>\n",
       "      <td>32671.0</td>\n",
       "      <td>0.108124</td>\n",
       "      <td>13745</td>\n",
       "      <td>0.075428</td>\n",
       "      <td>0.026582</td>\n",
       "      <td>39.2</td>\n",
       "      <td>0.485922</td>\n",
       "      <td>0.4158</td>\n",
       "      <td>0.035504</td>\n",
       "    </tr>\n",
       "    <tr>\n",
       "      <th>92651</th>\n",
       "      <td>99901</td>\n",
       "      <td>20132017</td>\n",
       "      <td>2019</td>\n",
       "      <td>0.644756</td>\n",
       "      <td>0.005447</td>\n",
       "      <td>0.077426</td>\n",
       "      <td>0.047574</td>\n",
       "      <td>0.135096</td>\n",
       "      <td>0.004213</td>\n",
       "      <td>0.222836</td>\n",
       "      <td>...</td>\n",
       "      <td>41.0</td>\n",
       "      <td>33755.0</td>\n",
       "      <td>0.106987</td>\n",
       "      <td>13768</td>\n",
       "      <td>0.069999</td>\n",
       "      <td>0.024453</td>\n",
       "      <td>39.5</td>\n",
       "      <td>0.485401</td>\n",
       "      <td>0.4157</td>\n",
       "      <td>0.033338</td>\n",
       "    </tr>\n",
       "  </tbody>\n",
       "</table>\n",
       "<p>92652 rows × 38 columns</p>\n",
       "</div>"
      ],
      "text/plain": [
       "         zip  census_period year_usable  percent_white  percent_black  \\\n",
       "0      01013       20072011        2013       0.729579       0.020723   \n",
       "1      01013       20082012        2014       0.714417       0.023463   \n",
       "2      01013       20092013        2015       0.720119       0.027857   \n",
       "3      01013       20102014        2016       0.713799       0.017445   \n",
       "4      01013       20112015        2017       0.703894       0.022238   \n",
       "...      ...            ...         ...            ...            ...   \n",
       "92647  99901       20092013        2015       0.653872       0.002271   \n",
       "92648  99901       20102014        2016       0.654374       0.004016   \n",
       "92649  99901       20112015        2017       0.649705       0.004228   \n",
       "92650  99901       20122016        2018       0.645762       0.004947   \n",
       "92651  99901       20132017        2019       0.644756       0.005447   \n",
       "\n",
       "       percent_asian  percent_hispanic  percent_native_am  percent_other_race  \\\n",
       "0           0.013756          0.218793           0.000000            0.005002   \n",
       "1           0.013473          0.231235           0.000000            0.004491   \n",
       "2           0.016777          0.217971           0.001357            0.005065   \n",
       "3           0.016638          0.237499           0.000538            0.002197   \n",
       "4           0.018442          0.241627           0.001116            0.001652   \n",
       "...              ...               ...                ...                 ...   \n",
       "92647       0.063146          0.044026           0.142407            0.002710   \n",
       "92648       0.061487          0.046444           0.143932            0.000000   \n",
       "92649       0.073631          0.048334           0.135379            0.001604   \n",
       "92650       0.076319          0.046126           0.129138            0.005384   \n",
       "92651       0.077426          0.047574           0.135096            0.004213   \n",
       "\n",
       "       percent_0_17  ...  median_building_age  income_per_capita  \\\n",
       "0          0.230494  ...                 62.0            20433.0   \n",
       "1          0.224682  ...                 62.0            20940.0   \n",
       "2          0.217248  ...                 66.0            20889.0   \n",
       "3          0.221131  ...                 72.0            21371.0   \n",
       "4          0.222336  ...                 73.0            21477.0   \n",
       "...             ...  ...                  ...                ...   \n",
       "92647      0.233756  ...                 38.0            31563.0   \n",
       "92648      0.232584  ...                 38.0            31487.0   \n",
       "92649      0.230079  ...                 40.0            32010.0   \n",
       "92650      0.225609  ...                 40.0            32671.0   \n",
       "92651      0.222836  ...                 41.0            33755.0   \n",
       "\n",
       "       poverty_rate  total_pop  percent_workforce_unemployed  \\\n",
       "0          0.190522      22391                      0.104113   \n",
       "1          0.201543      21822                      0.104320   \n",
       "2          0.173591      22113                      0.113411   \n",
       "3          0.155696      22299                      0.115569   \n",
       "4          0.169816      22394                      0.114075   \n",
       "...             ...        ...                           ...   \n",
       "92647      0.101846      13651                      0.086316   \n",
       "92648      0.114447      13694                      0.085095   \n",
       "92649      0.121194      13717                      0.078951   \n",
       "92650      0.108124      13745                      0.075428   \n",
       "92651      0.106987      13768                      0.069999   \n",
       "\n",
       "       percent_work_from_home  median_age  percent_female  gini_index  \\\n",
       "0                    0.008853        36.4        0.510250      0.4210   \n",
       "1                    0.014770        36.6        0.501650      0.4179   \n",
       "2                    0.012946        35.5        0.506851      0.4110   \n",
       "3                    0.013701        35.8        0.512669      0.4061   \n",
       "4                    0.020243        34.9        0.514200      0.4117   \n",
       "...                       ...         ...             ...         ...   \n",
       "92647                0.021073        38.7        0.478353      0.3981   \n",
       "92648                0.022509        38.8        0.481233      0.4057   \n",
       "92649                0.023050        38.7        0.485602      0.4110   \n",
       "92650                0.026582        39.2        0.485922      0.4158   \n",
       "92651                0.024453        39.5        0.485401      0.4157   \n",
       "\n",
       "       percent_not_us_citizen  \n",
       "0                    0.055960  \n",
       "1                    0.057190  \n",
       "2                    0.056483  \n",
       "3                    0.050182  \n",
       "4                    0.050013  \n",
       "...                       ...  \n",
       "92647                0.025493  \n",
       "92648                0.023952  \n",
       "92649                0.025953  \n",
       "92650                0.035504  \n",
       "92651                0.033338  \n",
       "\n",
       "[92652 rows x 38 columns]"
      ]
     },
     "execution_count": 48,
     "metadata": {},
     "output_type": "execute_result"
    }
   ],
   "source": [
    "acs"
   ]
  },
  {
   "cell_type": "code",
   "execution_count": 49,
   "id": "031fde9c",
   "metadata": {},
   "outputs": [],
   "source": [
    "data_orig = zri[['year-month','year','zip','zri']]"
   ]
  },
  {
   "cell_type": "code",
   "execution_count": 50,
   "id": "e1c3b96a",
   "metadata": {},
   "outputs": [
    {
     "data": {
      "text/plain": [
       "<AxesSubplot:xlabel='year-month'>"
      ]
     },
     "execution_count": 50,
     "metadata": {},
     "output_type": "execute_result"
    },
    {
     "data": {
      "image/png": "[encoded data removed]",
      "text/plain": [
       "<Figure size 864x576 with 1 Axes>"
      ]
     },
     "metadata": {
      "needs_background": "light"
     },
     "output_type": "display_data"
    }
   ],
   "source": [
    "data_orig[data_orig['zip']==\"07302\"].\\\n",
    "set_index('year-month').plot(figsize=(12,8))"
   ]
  },
  {
   "cell_type": "code",
   "execution_count": 22,
   "id": "31003f27",
   "metadata": {},
   "outputs": [],
   "source": [
    "data_lags = pd.DataFrame()\n",
    "for z in data_orig['zip'].unique():\n",
    "    data_temp = data_orig[data_orig['zip']==z]\n",
    "    data_temp.loc[:,'zri_lag_1']= data_temp.loc[:,'zri'].shift(+1)\n",
    "    data_temp.loc[:,'zri_lag_2']= data_temp.loc[:,'zri'].shift(+2)\n",
    "    data_temp.loc[:,'zri_lag_3']= data_temp.loc[:,'zri'].shift(+3)\n",
    "    data_lags = data_lags.append(data_temp)"
   ]
  },
  {
   "cell_type": "code",
   "execution_count": 23,
   "id": "96d815a3",
   "metadata": {},
   "outputs": [
    {
     "name": "stdout",
     "output_type": "stream",
     "text": [
      "<class 'pandas.core.frame.DataFrame'>\n",
      "Int64Index: 93744 entries, 0 to 93743\n",
      "Data columns (total 7 columns):\n",
      " #   Column      Non-Null Count  Dtype         \n",
      "---  ------      --------------  -----         \n",
      " 0   year-month  93744 non-null  datetime64[ns]\n",
      " 1   year        93744 non-null  string        \n",
      " 2   zip         93744 non-null  object        \n",
      " 3   zri         93744 non-null  float64       \n",
      " 4   zri_lag_1   92442 non-null  float64       \n",
      " 5   zri_lag_2   91140 non-null  float64       \n",
      " 6   zri_lag_3   89838 non-null  float64       \n",
      "dtypes: datetime64[ns](1), float64(4), object(1), string(1)\n",
      "memory usage: 5.7+ MB\n"
     ]
    }
   ],
   "source": [
    "data_lags.info()"
   ]
  },
  {
   "cell_type": "code",
   "execution_count": 24,
   "id": "0a2c754a",
   "metadata": {},
   "outputs": [],
   "source": [
    "data_lags = data_lags.dropna()"
   ]
  },
  {
   "cell_type": "code",
   "execution_count": 27,
   "id": "62b508ad",
   "metadata": {},
   "outputs": [],
   "source": [
    "data = data_lags\n",
    "data['year'] = data['year'].astype('int')\n",
    "train = data[data['year']<=2018]\n",
    "test = data[data['year']==2019]\n",
    "trainX = train[['zri_lag_1','zri_lag_2','zri_lag_3']]\n",
    "trainY = train['zri']\n",
    "testX = test[['zri_lag_1','zri_lag_2','zri_lag_3']]\n",
    "testY = test['zri']"
   ]
  },
  {
   "cell_type": "code",
   "execution_count": 28,
   "id": "89209b7f",
   "metadata": {},
   "outputs": [],
   "source": [
    "lr = LinearRegression()\n",
    "rf = RandomForestRegressor(random_state=1)"
   ]
  },
  {
   "cell_type": "code",
   "execution_count": 29,
   "id": "9c052782",
   "metadata": {},
   "outputs": [
    {
     "data": {
      "text/plain": [
       "LinearRegression()"
      ]
     },
     "execution_count": 29,
     "metadata": {},
     "output_type": "execute_result"
    }
   ],
   "source": [
    "lr.fit(trainX,trainY)"
   ]
  },
  {
   "cell_type": "code",
   "execution_count": 30,
   "id": "415f04fb",
   "metadata": {},
   "outputs": [
    {
     "data": {
      "text/html": [
       "<div>\n",
       "<style scoped>\n",
       "    .dataframe tbody tr th:only-of-type {\n",
       "        vertical-align: middle;\n",
       "    }\n",
       "\n",
       "    .dataframe tbody tr th {\n",
       "        vertical-align: top;\n",
       "    }\n",
       "\n",
       "    .dataframe thead th {\n",
       "        text-align: right;\n",
       "    }\n",
       "</style>\n",
       "<table border=\"1\" class=\"dataframe\">\n",
       "  <thead>\n",
       "    <tr style=\"text-align: right;\">\n",
       "      <th></th>\n",
       "      <th>zri_lag_1</th>\n",
       "      <th>zri_lag_2</th>\n",
       "      <th>zri_lag_3</th>\n",
       "    </tr>\n",
       "  </thead>\n",
       "  <tbody>\n",
       "    <tr>\n",
       "      <th>60</th>\n",
       "      <td>1109.0</td>\n",
       "      <td>1115.0</td>\n",
       "      <td>1124.0</td>\n",
       "    </tr>\n",
       "    <tr>\n",
       "      <th>61</th>\n",
       "      <td>1099.0</td>\n",
       "      <td>1109.0</td>\n",
       "      <td>1115.0</td>\n",
       "    </tr>\n",
       "    <tr>\n",
       "      <th>62</th>\n",
       "      <td>1098.0</td>\n",
       "      <td>1099.0</td>\n",
       "      <td>1109.0</td>\n",
       "    </tr>\n",
       "    <tr>\n",
       "      <th>63</th>\n",
       "      <td>1106.0</td>\n",
       "      <td>1098.0</td>\n",
       "      <td>1099.0</td>\n",
       "    </tr>\n",
       "    <tr>\n",
       "      <th>64</th>\n",
       "      <td>1114.0</td>\n",
       "      <td>1106.0</td>\n",
       "      <td>1098.0</td>\n",
       "    </tr>\n",
       "    <tr>\n",
       "      <th>...</th>\n",
       "      <td>...</td>\n",
       "      <td>...</td>\n",
       "      <td>...</td>\n",
       "    </tr>\n",
       "    <tr>\n",
       "      <th>93739</th>\n",
       "      <td>1291.0</td>\n",
       "      <td>1294.0</td>\n",
       "      <td>1296.0</td>\n",
       "    </tr>\n",
       "    <tr>\n",
       "      <th>93740</th>\n",
       "      <td>1277.0</td>\n",
       "      <td>1291.0</td>\n",
       "      <td>1294.0</td>\n",
       "    </tr>\n",
       "    <tr>\n",
       "      <th>93741</th>\n",
       "      <td>1271.0</td>\n",
       "      <td>1277.0</td>\n",
       "      <td>1291.0</td>\n",
       "    </tr>\n",
       "    <tr>\n",
       "      <th>93742</th>\n",
       "      <td>1299.0</td>\n",
       "      <td>1271.0</td>\n",
       "      <td>1277.0</td>\n",
       "    </tr>\n",
       "    <tr>\n",
       "      <th>93743</th>\n",
       "      <td>1261.5</td>\n",
       "      <td>1299.0</td>\n",
       "      <td>1271.0</td>\n",
       "    </tr>\n",
       "  </tbody>\n",
       "</table>\n",
       "<p>15624 rows × 3 columns</p>\n",
       "</div>"
      ],
      "text/plain": [
       "       zri_lag_1  zri_lag_2  zri_lag_3\n",
       "60        1109.0     1115.0     1124.0\n",
       "61        1099.0     1109.0     1115.0\n",
       "62        1098.0     1099.0     1109.0\n",
       "63        1106.0     1098.0     1099.0\n",
       "64        1114.0     1106.0     1098.0\n",
       "...          ...        ...        ...\n",
       "93739     1291.0     1294.0     1296.0\n",
       "93740     1277.0     1291.0     1294.0\n",
       "93741     1271.0     1277.0     1291.0\n",
       "93742     1299.0     1271.0     1277.0\n",
       "93743     1261.5     1299.0     1271.0\n",
       "\n",
       "[15624 rows x 3 columns]"
      ]
     },
     "execution_count": 30,
     "metadata": {},
     "output_type": "execute_result"
    }
   ],
   "source": [
    "testX"
   ]
  },
  {
   "cell_type": "code",
   "execution_count": 31,
   "id": "b7eef71e",
   "metadata": {
    "scrolled": true
   },
   "outputs": [
    {
     "data": {
      "text/plain": [
       "<matplotlib.legend.Legend at 0x7ff63d34b3a0>"
      ]
     },
     "execution_count": 31,
     "metadata": {},
     "output_type": "execute_result"
    },
    {
     "data": {
      "image/png": "[encoded data removed]",
      "text/plain": [
       "<Figure size 432x288 with 1 Axes>"
      ]
     },
     "metadata": {
      "needs_background": "light"
     },
     "output_type": "display_data"
    }
   ],
   "source": [
    "plt.plot(lr.predict(testX),label='LR predicted ZRI')\n",
    "plt.plot(testY,label=\"Actual ZRI\")\n",
    "plt.legend()"
   ]
  },
  {
   "cell_type": "code",
   "execution_count": 32,
   "id": "082cb46f",
   "metadata": {},
   "outputs": [
    {
     "data": {
      "text/plain": [
       "[<matplotlib.lines.Line2D at 0x7ff6260d61c0>]"
      ]
     },
     "execution_count": 32,
     "metadata": {},
     "output_type": "execute_result"
    },
    {
     "data": {
      "image/png": "[encoded data removed]",
      "text/plain": [
       "<Figure size 432x288 with 1 Axes>"
      ]
     },
     "metadata": {
      "needs_background": "light"
     },
     "output_type": "display_data"
    }
   ],
   "source": [
    "plt.plot(lr.predict(testX))"
   ]
  },
  {
   "cell_type": "code",
   "execution_count": 33,
   "id": "8835ad5a",
   "metadata": {},
   "outputs": [
    {
     "data": {
      "text/plain": [
       "[<matplotlib.lines.Line2D at 0x7ff62613a520>]"
      ]
     },
     "execution_count": 33,
     "metadata": {},
     "output_type": "execute_result"
    },
    {
     "data": {
      "image/png": "[encoded data removed]",
      "text/plain": [
       "<Figure size 432x288 with 1 Axes>"
      ]
     },
     "metadata": {
      "needs_background": "light"
     },
     "output_type": "display_data"
    }
   ],
   "source": [
    "plt.plot(testY)"
   ]
  },
  {
   "cell_type": "code",
   "execution_count": 34,
   "id": "cb22b68d",
   "metadata": {},
   "outputs": [
    {
     "name": "stdout",
     "output_type": "stream",
     "text": [
      "Logistic Regression\n",
      "R2: 0.9993837536383159\n",
      "RMSE: 16.53807710757105\n"
     ]
    }
   ],
   "source": [
    "print('Logistic Regression')\n",
    "print(f'R2: {lr.score(testX,testY)}')\n",
    "print(f'RMSE: {sqrt(mean_squared_error(lr.predict(testX),testY))}')"
   ]
  },
  {
   "cell_type": "code",
   "execution_count": 35,
   "id": "f70ac858",
   "metadata": {},
   "outputs": [
    {
     "data": {
      "text/plain": [
       "RandomForestRegressor(random_state=1)"
      ]
     },
     "execution_count": 35,
     "metadata": {},
     "output_type": "execute_result"
    }
   ],
   "source": [
    "rf.fit(trainX,trainY)"
   ]
  },
  {
   "cell_type": "code",
   "execution_count": 36,
   "id": "8206bc56",
   "metadata": {},
   "outputs": [
    {
     "data": {
      "text/plain": [
       "<matplotlib.legend.Legend at 0x7ff629b29820>"
      ]
     },
     "execution_count": 36,
     "metadata": {},
     "output_type": "execute_result"
    },
    {
     "data": {
      "image/png": "[encoded data removed]",
      "text/plain": [
       "<Figure size 432x288 with 1 Axes>"
      ]
     },
     "metadata": {
      "needs_background": "light"
     },
     "output_type": "display_data"
    }
   ],
   "source": [
    "plt.plot(rf.predict(testX),label='RF predicted ZRI')\n",
    "plt.plot(testY,label=\"Actual ZRI\")\n",
    "plt.legend()"
   ]
  },
  {
   "cell_type": "code",
   "execution_count": 37,
   "id": "1d6f9a36",
   "metadata": {},
   "outputs": [
    {
     "name": "stdout",
     "output_type": "stream",
     "text": [
      "Random Forest\n",
      "R2: 0.9993055429696656\n",
      "RMSE: 17.556199923213228\n"
     ]
    }
   ],
   "source": [
    "print('Random Forest')\n",
    "print(f'R2: {rf.score(testX,testY)}')\n",
    "print(f'RMSE: {sqrt(mean_squared_error(rf.predict(testX),testY))}')"
   ]
  },
  {
   "cell_type": "code",
   "execution_count": 38,
   "id": "b5662295",
   "metadata": {},
   "outputs": [
    {
     "name": "stdout",
     "output_type": "stream",
     "text": [
      "Null model mean: 1668.3777287079706\n"
     ]
    }
   ],
   "source": [
    "print(f'Null model mean: {testY.mean()}')"
   ]
  },
  {
   "cell_type": "code",
   "execution_count": 39,
   "id": "feef0bd7",
   "metadata": {},
   "outputs": [
    {
     "data": {
      "text/html": [
       "<div>\n",
       "<style scoped>\n",
       "    .dataframe tbody tr th:only-of-type {\n",
       "        vertical-align: middle;\n",
       "    }\n",
       "\n",
       "    .dataframe tbody tr th {\n",
       "        vertical-align: top;\n",
       "    }\n",
       "\n",
       "    .dataframe thead th {\n",
       "        text-align: right;\n",
       "    }\n",
       "</style>\n",
       "<table border=\"1\" class=\"dataframe\">\n",
       "  <thead>\n",
       "    <tr style=\"text-align: right;\">\n",
       "      <th></th>\n",
       "      <th>zri_lag_1</th>\n",
       "      <th>zri_lag_2</th>\n",
       "      <th>zri_lag_3</th>\n",
       "    </tr>\n",
       "  </thead>\n",
       "  <tbody>\n",
       "    <tr>\n",
       "      <th>60</th>\n",
       "      <td>1109.0</td>\n",
       "      <td>1115.0</td>\n",
       "      <td>1124.0</td>\n",
       "    </tr>\n",
       "    <tr>\n",
       "      <th>61</th>\n",
       "      <td>1099.0</td>\n",
       "      <td>1109.0</td>\n",
       "      <td>1115.0</td>\n",
       "    </tr>\n",
       "    <tr>\n",
       "      <th>62</th>\n",
       "      <td>1098.0</td>\n",
       "      <td>1099.0</td>\n",
       "      <td>1109.0</td>\n",
       "    </tr>\n",
       "    <tr>\n",
       "      <th>63</th>\n",
       "      <td>1106.0</td>\n",
       "      <td>1098.0</td>\n",
       "      <td>1099.0</td>\n",
       "    </tr>\n",
       "    <tr>\n",
       "      <th>64</th>\n",
       "      <td>1114.0</td>\n",
       "      <td>1106.0</td>\n",
       "      <td>1098.0</td>\n",
       "    </tr>\n",
       "    <tr>\n",
       "      <th>...</th>\n",
       "      <td>...</td>\n",
       "      <td>...</td>\n",
       "      <td>...</td>\n",
       "    </tr>\n",
       "    <tr>\n",
       "      <th>93739</th>\n",
       "      <td>1291.0</td>\n",
       "      <td>1294.0</td>\n",
       "      <td>1296.0</td>\n",
       "    </tr>\n",
       "    <tr>\n",
       "      <th>93740</th>\n",
       "      <td>1277.0</td>\n",
       "      <td>1291.0</td>\n",
       "      <td>1294.0</td>\n",
       "    </tr>\n",
       "    <tr>\n",
       "      <th>93741</th>\n",
       "      <td>1271.0</td>\n",
       "      <td>1277.0</td>\n",
       "      <td>1291.0</td>\n",
       "    </tr>\n",
       "    <tr>\n",
       "      <th>93742</th>\n",
       "      <td>1299.0</td>\n",
       "      <td>1271.0</td>\n",
       "      <td>1277.0</td>\n",
       "    </tr>\n",
       "    <tr>\n",
       "      <th>93743</th>\n",
       "      <td>1261.5</td>\n",
       "      <td>1299.0</td>\n",
       "      <td>1271.0</td>\n",
       "    </tr>\n",
       "  </tbody>\n",
       "</table>\n",
       "<p>15624 rows × 3 columns</p>\n",
       "</div>"
      ],
      "text/plain": [
       "       zri_lag_1  zri_lag_2  zri_lag_3\n",
       "60        1109.0     1115.0     1124.0\n",
       "61        1099.0     1109.0     1115.0\n",
       "62        1098.0     1099.0     1109.0\n",
       "63        1106.0     1098.0     1099.0\n",
       "64        1114.0     1106.0     1098.0\n",
       "...          ...        ...        ...\n",
       "93739     1291.0     1294.0     1296.0\n",
       "93740     1277.0     1291.0     1294.0\n",
       "93741     1271.0     1277.0     1291.0\n",
       "93742     1299.0     1271.0     1277.0\n",
       "93743     1261.5     1299.0     1271.0\n",
       "\n",
       "[15624 rows x 3 columns]"
      ]
     },
     "execution_count": 39,
     "metadata": {},
     "output_type": "execute_result"
    }
   ],
   "source": [
    "testX"
   ]
  },
  {
   "cell_type": "code",
   "execution_count": 40,
   "id": "a234cb06",
   "metadata": {},
   "outputs": [
    {
     "name": "stdout",
     "output_type": "stream",
     "text": [
      "MAE: -9.283\n",
      "Config: {'alpha': 0.0}\n"
     ]
    },
    {
     "name": "stderr",
     "output_type": "stream",
     "text": [
      "/Users/nikiagrawal/opt/anaconda3/lib/python3.8/site-packages/sklearn/model_selection/_search.py:880: UserWarning: With alpha=0, this algorithm does not converge well. You are advised to use the LinearRegression estimator\n",
      "  self.best_estimator_.fit(X, y, **fit_params)\n",
      "/Users/nikiagrawal/opt/anaconda3/lib/python3.8/site-packages/sklearn/linear_model/_coordinate_descent.py:530: UserWarning: Coordinate descent with no regularization may lead to unexpected results and is discouraged.\n",
      "  model = cd_fast.enet_coordinate_descent(\n",
      "/Users/nikiagrawal/opt/anaconda3/lib/python3.8/site-packages/sklearn/linear_model/_coordinate_descent.py:530: ConvergenceWarning: Objective did not converge. You might want to increase the number of iterations. Duality gap: 6540142.134095395, tolerance: 3242468.2830664306\n",
      "  model = cd_fast.enet_coordinate_descent(\n"
     ]
    }
   ],
   "source": [
    "from sklearn.model_selection import GridSearchCV\n",
    "from sklearn.linear_model import Lasso\n",
    "\n",
    "# define model\n",
    "model = Lasso()\n",
    "\n",
    "# define grid\n",
    "grid = dict()\n",
    "grid['alpha'] = np.arange(0, 1, 0.01)\n",
    "# define search\n",
    "search = GridSearchCV(model, grid, scoring='neg_mean_absolute_error',\n",
    "                      cv=5, n_jobs=-1)\n",
    "# perform the search\n",
    "results = search.fit(trainX, trainY)\n",
    "# summarize\n",
    "print('MAE: %.3f' % results.best_score_)\n",
    "print('Config: %s' % results.best_params_)"
   ]
  },
  {
   "cell_type": "code",
   "execution_count": 41,
   "id": "e42a24d1",
   "metadata": {},
   "outputs": [
    {
     "data": {
      "text/plain": [
       "Lasso(alpha=0.0)"
      ]
     },
     "execution_count": 41,
     "metadata": {},
     "output_type": "execute_result"
    }
   ],
   "source": [
    "search.best_estimator_"
   ]
  },
  {
   "cell_type": "code",
   "execution_count": 42,
   "id": "9f4b6b00",
   "metadata": {},
   "outputs": [
    {
     "name": "stderr",
     "output_type": "stream",
     "text": [
      "<ipython-input-42-9ddd284c51d1>:2: UserWarning: With alpha=0, this algorithm does not converge well. You are advised to use the LinearRegression estimator\n",
      "  lasso.fit(trainX,trainY)\n",
      "/Users/nikiagrawal/opt/anaconda3/lib/python3.8/site-packages/sklearn/linear_model/_coordinate_descent.py:530: UserWarning: Coordinate descent with no regularization may lead to unexpected results and is discouraged.\n",
      "  model = cd_fast.enet_coordinate_descent(\n",
      "/Users/nikiagrawal/opt/anaconda3/lib/python3.8/site-packages/sklearn/linear_model/_coordinate_descent.py:530: ConvergenceWarning: Objective did not converge. You might want to increase the number of iterations. Duality gap: 6540142.134095395, tolerance: 3242468.2830664306\n",
      "  model = cd_fast.enet_coordinate_descent(\n"
     ]
    },
    {
     "data": {
      "text/plain": [
       "Lasso(alpha=0)"
      ]
     },
     "execution_count": 42,
     "metadata": {},
     "output_type": "execute_result"
    }
   ],
   "source": [
    "lasso = Lasso(alpha=0)\n",
    "lasso.fit(trainX,trainY)"
   ]
  },
  {
   "cell_type": "code",
   "execution_count": 43,
   "id": "56915aa1",
   "metadata": {},
   "outputs": [
    {
     "data": {
      "text/plain": [
       "<matplotlib.legend.Legend at 0x7ff5fdc54730>"
      ]
     },
     "execution_count": 43,
     "metadata": {},
     "output_type": "execute_result"
    },
    {
     "data": {
      "image/png": "[encoded data removed]",
      "text/plain": [
       "<Figure size 432x288 with 1 Axes>"
      ]
     },
     "metadata": {
      "needs_background": "light"
     },
     "output_type": "display_data"
    }
   ],
   "source": [
    "plt.plot(lasso.predict(testX),label='Lasso predicted ZRI')\n",
    "plt.plot(testY,label=\"Actual ZRI\")\n",
    "plt.legend()"
   ]
  },
  {
   "cell_type": "code",
   "execution_count": 44,
   "id": "8813c8a5",
   "metadata": {},
   "outputs": [
    {
     "name": "stdout",
     "output_type": "stream",
     "text": [
      "LASSO\n",
      "R2: 0.9993729919606337\n",
      "RMSE: 16.68185657682256\n"
     ]
    }
   ],
   "source": [
    "print('LASSO')\n",
    "print(f'R2: {lasso.score(testX,testY)}')\n",
    "print(f'RMSE: {sqrt(mean_squared_error(lasso.predict(testX),testY))}')"
   ]
  },
  {
   "cell_type": "code",
   "execution_count": 45,
   "id": "3c15661e",
   "metadata": {},
   "outputs": [
    {
     "data": {
      "text/plain": [
       "array([ 1.31727018, -0.22755404, -0.08936612])"
      ]
     },
     "execution_count": 45,
     "metadata": {},
     "output_type": "execute_result"
    }
   ],
   "source": [
    "lasso.coef_"
   ]
  },
  {
   "cell_type": "markdown",
   "id": "fde4b3e5",
   "metadata": {},
   "source": [
    "# Add in ACS "
   ]
  },
  {
   "cell_type": "code",
   "execution_count": null,
   "id": "8670e36e",
   "metadata": {},
   "outputs": [],
   "source": [
    "# zri_lags_acs = pd.merge(zri,acs,how='left',left_on=[\"zip\",\"year\"],right_on=[\"zip\",\"year_used\"])\n",
    "# zri_acs = zri_acs.drop(index=zri_acs[zri_acs['zip']==\"11249\"].index)"
   ]
  }
 ],
 "metadata": {
  "kernelspec": {
   "display_name": "Python 3",
   "language": "python",
   "name": "python3"
  },
  "language_info": {
   "codemirror_mode": {
    "name": "ipython",
    "version": 3
   },
   "file_extension": ".py",
   "mimetype": "text/x-python",
   "name": "python",
   "nbconvert_exporter": "python",
   "pygments_lexer": "ipython3",
   "version": "3.8.8"
  }
 },
 "nbformat": 4,
 "nbformat_minor": 5
}
