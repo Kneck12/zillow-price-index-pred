{
 "cells": [
  {
   "cell_type": "code",
   "execution_count": 1,
   "id": "02ebb994",
   "metadata": {},
   "outputs": [],
   "source": [
    "import pandas as pd\n",
    "import numpy as np\n",
    "import plotly.express as px\n",
    "import plotly.graph_objects as go\n",
    "from datetime import datetime\n",
    "import pmdarima as pm\n",
    "from pmdarima.utils import diff\n",
    "from sklearn.metrics import mean_squared_error\n",
    "import pickle\n",
    "import sklearn\n",
    "import statsmodels.tsa.statespace as sm\n",
    "from sklearn.preprocessing import StandardScaler"
   ]
  },
  {
   "cell_type": "code",
   "execution_count": 25,
   "id": "ad437649",
   "metadata": {},
   "outputs": [],
   "source": [
    "none = pd.read_csv('arima_resids_no_exog.csv')"
   ]
  },
  {
   "cell_type": "code",
   "execution_count": 143,
   "id": "a9595ec3",
   "metadata": {},
   "outputs": [],
   "source": [
    "zips = list(none['zip'].unique())"
   ]
  },
  {
   "cell_type": "code",
   "execution_count": 27,
   "id": "3dd1bdf4",
   "metadata": {},
   "outputs": [],
   "source": [
    "def rmse_by_zip(df):\n",
    "    zip_rmses = []\n",
    "    for item in zips:\n",
    "        temp = df[df['zip']==item]['zri']**2\n",
    "        temp = np.sqrt(temp.sum()/len(temp))\n",
    "        zip_rmses.append(temp)\n",
    "    return sum(zip_rmses)/len(zip_rmses)"
   ]
  },
  {
   "cell_type": "code",
   "execution_count": 28,
   "id": "9fa950c0",
   "metadata": {},
   "outputs": [
    {
     "data": {
      "text/plain": [
       "49.00701344825756"
      ]
     },
     "execution_count": 28,
     "metadata": {},
     "output_type": "execute_result"
    }
   ],
   "source": [
    "rmse_by_zip(none)"
   ]
  },
  {
   "cell_type": "code",
   "execution_count": 31,
   "id": "915c28a7",
   "metadata": {},
   "outputs": [],
   "source": [
    "google = pd.read_csv('sarimax_resids_google.csv')"
   ]
  },
  {
   "cell_type": "code",
   "execution_count": 32,
   "id": "840c702d",
   "metadata": {},
   "outputs": [
    {
     "data": {
      "text/plain": [
       "67.18954062470219"
      ]
     },
     "execution_count": 32,
     "metadata": {},
     "output_type": "execute_result"
    }
   ],
   "source": [
    "rmse_by_zip(google)"
   ]
  },
  {
   "cell_type": "code",
   "execution_count": 33,
   "id": "0987e777",
   "metadata": {},
   "outputs": [],
   "source": [
    "acs = pd.read_csv('sarimax_resids_acs.csv')"
   ]
  },
  {
   "cell_type": "code",
   "execution_count": 34,
   "id": "98d0b35d",
   "metadata": {},
   "outputs": [
    {
     "data": {
      "text/plain": [
       "232.45934296664882"
      ]
     },
     "execution_count": 34,
     "metadata": {},
     "output_type": "execute_result"
    }
   ],
   "source": [
    "rmse_by_zip(acs)"
   ]
  },
  {
   "cell_type": "code",
   "execution_count": 35,
   "id": "6262b4b8",
   "metadata": {},
   "outputs": [],
   "source": [
    "bike = pd.read_csv('sarimax_resids_bike.csv')"
   ]
  },
  {
   "cell_type": "code",
   "execution_count": 36,
   "id": "0d0d7822",
   "metadata": {},
   "outputs": [
    {
     "data": {
      "text/plain": [
       "49.14345182801593"
      ]
     },
     "execution_count": 36,
     "metadata": {},
     "output_type": "execute_result"
    }
   ],
   "source": [
    "rmse_by_zip(bike)"
   ]
  },
  {
   "cell_type": "code",
   "execution_count": 37,
   "id": "4baf7174",
   "metadata": {},
   "outputs": [],
   "source": [
    "econ = pd.read_csv('sarimax_resids_econ.csv')"
   ]
  },
  {
   "cell_type": "code",
   "execution_count": 38,
   "id": "bef6ea19",
   "metadata": {},
   "outputs": [
    {
     "data": {
      "text/plain": [
       "49.475138061307284"
      ]
     },
     "execution_count": 38,
     "metadata": {},
     "output_type": "execute_result"
    }
   ],
   "source": [
    "rmse_by_zip(econ)"
   ]
  },
  {
   "cell_type": "code",
   "execution_count": 145,
   "id": "c3749648",
   "metadata": {},
   "outputs": [],
   "source": [
    "all_ = pd.read_csv('sarimax_resids_all.csv')"
   ]
  },
  {
   "cell_type": "code",
   "execution_count": 146,
   "id": "4cd3c716",
   "metadata": {},
   "outputs": [
    {
     "data": {
      "text/plain": [
       "2081.0377683354004"
      ]
     },
     "execution_count": 146,
     "metadata": {},
     "output_type": "execute_result"
    }
   ],
   "source": [
    "rmse_by_zip(all_)"
   ]
  },
  {
   "cell_type": "code",
   "execution_count": 39,
   "id": "909f4bbf",
   "metadata": {},
   "outputs": [],
   "source": [
    "df = pd.read_csv('./../data/full_dataset_unscaled.csv')\n",
    "df['zip'] = df['zip'].map(lambda x: str(x))\n",
    "df['zip'] = df['zip'].map(lambda x: '0' + x if len(x)<5 else x)\n",
    "df['datetime']=df['datetime'].map(lambda x: datetime.strptime(x, '%Y-%m-%d'))\n",
    "df = df.set_index('datetime')"
   ]
  },
  {
   "cell_type": "code",
   "execution_count": 40,
   "id": "229bfb2d",
   "metadata": {},
   "outputs": [],
   "source": [
    "# from Mo/Niki\n",
    "\n",
    "df['net_job_rate']=df['job_creation_rate']-df['job_destruction_rate']\n",
    "df['apartment_for_rent_searches'] = df[['apartment for rent','studio for rent','1 bedroom for rent','3 bedroom for rent']].sum(axis=1)\n",
    "df['multifamily_for_rent_searches'] = df[['townhome for rent','townhouse for rent','house for rent','duplex apartments for rent','condos for rent']].sum(axis=1)\n",
    "df['gun_searches'] = df[['gun range', 'gun control', 'gun violence']].sum(axis=1)\n",
    "\n",
    "\n",
    "acs_cols = ['percent_white',\n",
    " 'percent_black',\n",
    " 'percent_asian',\n",
    " 'percent_hispanic',\n",
    " 'percent_native_am',\n",
    " 'percent_other_race',\n",
    " 'percent_0_17',\n",
    " 'percent_18_39',\n",
    " 'percent_40_64',\n",
    " 'percent_65+',\n",
    " 'percent_rental_units_vacant',\n",
    " 'percent_rental_units_occupied',\n",
    " 'percent_graduate_deg',\n",
    " 'percent_bachelors',\n",
    " 'percent_associates',\n",
    " 'percent_highschool',\n",
    " 'percent_less_highschool',\n",
    " 'percent_commute_public_transport',\n",
    " 'percent_commute_less_30',\n",
    " 'percent_buildings_less_10_units',\n",
    " 'percent_buildings_10_19_units',\n",
    " 'percent_buildings_20_49_units',\n",
    " 'percent_buildings_50+_units',\n",
    " 'percent_commute_30_to_59',\n",
    " 'percent_commute_60_to_89',\n",
    " 'percent_commute_90_more',\n",
    " 'percent_new_city',\n",
    " 'percent_new_unit',\n",
    " 'percent_units_owner_occupied',\n",
    " 'median_building_age',\n",
    " 'income_per_capita',\n",
    " 'poverty_rate',\n",
    " 'total_pop',\n",
    " 'percent_workforce_unemployed',\n",
    " 'percent_work_from_home',\n",
    " 'median_age',\n",
    " 'percent_female',\n",
    " 'gini_index',\n",
    " 'percent_not_us_citizen']\n",
    "acs_cols_remove=['percent_other_race','percent_40_64','percent_0_17','percent_18_39',\n",
    "       'percent_65+','percent_rental_units_vacant','percent_not_us_citizen','percent_less_highschool', 'percent_buildings_less_10_units',\n",
    " 'percent_commute_30_to_59',\n",
    " 'percent_commute_60_to_89',\n",
    " 'percent_commute_90_more', 'percent_commute_less_30','percent_graduate_deg',\n",
    "                'percent_female','gini_index','percent_hispanic','percent_black','percent_bachelors',\n",
    "                 'percent_asian','percent_new_city','percent_new_unit']\n",
    "acs_cols_keep=list(set(acs_cols) - set(acs_cols_remove))\n",
    "bikeshare_cols = ['bs_total_stations',\n",
    " 'bs_total_systems',\n",
    " 'has_bike_sharing']\n",
    "bikeshare_cols_remove=['has_bike_sharing','bs_total_systems']\n",
    "bikeshare_cols_keep=list(set(bikeshare_cols) - set(bikeshare_cols_remove))\n",
    "trends_cols = ['gun range',\n",
    " 'gun control',\n",
    " 'gun violence',\n",
    " 'job opportunities',\n",
    " 'unemployment',\n",
    " 'retirement',\n",
    " 'layoff',\n",
    " 'lgbt',\n",
    " 'same sex marriage',\n",
    " 'they',\n",
    " 'pronouns',\n",
    " 'black lives matter',\n",
    " 'political correctness',\n",
    " 'make america great again',\n",
    " 'euthanasia',\n",
    " 'getaway',\n",
    " 'places to go',\n",
    " 'flight tickets',\n",
    " 'twitter',\n",
    " 'hashtag',\n",
    " 'fake news',\n",
    " 'hurricane',\n",
    " 'wildfire',\n",
    " 'flood',\n",
    " 'fire',\n",
    " \"trader joe's\",\n",
    " 'whole foods',\n",
    " 'lululemon',\n",
    " 'thrift',\n",
    " 'condos for rent',\n",
    " 'duplex apartments for rent',\n",
    " 'townhomes for rent',\n",
    " 'townhouses for rent',\n",
    " 'home for rent',\n",
    " 'house for rent',\n",
    " 'townhome for rent',\n",
    " 'townhouse for rent',\n",
    " 'apartment for rent',\n",
    " 'studio for rent',\n",
    " '1 bedroom for rent',\n",
    " '3 bedroom for rent',\n",
    " 'starbucks',\n",
    "  'apartment_for_rent_searches',\n",
    "  'multifamily_for_rent_searches',\n",
    "  'gun_searches']\n",
    "trends_cols_remove=['they','apartment for rent','studio for rent','1 bedroom for rent',\n",
    "                    '3 bedroom for rent', 'townhome for rent','townhouse for rent',\n",
    "                    'house for rent','duplex apartments for rent','condos for rent',\n",
    "                   'gun range', 'gun control', 'gun violence']\n",
    "trends_cols_keep=list(set(trends_cols) - set(trends_cols_remove))\n",
    "economic_cols = ['total_firms',\n",
    " 'job_creation_rate',\n",
    " 'job_destruction_rate',\n",
    " 'startup_firms','state_local_perc', 'net_job_rate']\n",
    "economic_cols_remove=['total_firms', 'job_creation_rate','job_destruction_rate',]\n",
    "economic_cols_keep=list(set(economic_cols) - set(economic_cols_remove))"
   ]
  },
  {
   "cell_type": "code",
   "execution_count": 41,
   "id": "24f6e871",
   "metadata": {},
   "outputs": [],
   "source": [
    "df = df[df['year']>=2015]"
   ]
  },
  {
   "cell_type": "code",
   "execution_count": 56,
   "id": "ddf4134e",
   "metadata": {},
   "outputs": [],
   "source": [
    "def plot_arima(zip_code, pred_dict, conf_int):\n",
    "    "
   ]
  },
  {
   "cell_type": "code",
   "execution_count": 43,
   "id": "11e4058d",
   "metadata": {},
   "outputs": [],
   "source": [
    "zips = list(df['zip'].unique())\n",
    "\n",
    "y = df.drop(columns = ['year', 'month', 'City', 'State', 'Metro', 'CountyName']).loc[:,['zip', 'zri']]\n",
    "x = df.drop(columns = ['year', 'month', 'City', 'State', 'Metro', 'CountyName', 'zri'])"
   ]
  },
  {
   "cell_type": "code",
   "execution_count": 120,
   "id": "d64b55c4",
   "metadata": {},
   "outputs": [],
   "source": [
    "x_all = x.loc[:, ['zip'] + acs_cols_keep + economic_cols_keep + trends_cols_keep + bikeshare_cols_keep]"
   ]
  },
  {
   "cell_type": "code",
   "execution_count": 50,
   "id": "c3ae5f1c",
   "metadata": {},
   "outputs": [],
   "source": [
    "pred_dict = {}\n",
    "coef_dict = {}"
   ]
  },
  {
   "cell_type": "code",
   "execution_count": 121,
   "id": "5e8e7cf7",
   "metadata": {},
   "outputs": [],
   "source": [
    "curr_zip = '10305'"
   ]
  },
  {
   "cell_type": "code",
   "execution_count": 123,
   "id": "0f4443a3",
   "metadata": {},
   "outputs": [
    {
     "name": "stderr",
     "output_type": "stream",
     "text": [
      "C:\\Users\\fayma\\anaconda3\\envs\\env1\\lib\\site-packages\\statsmodels\\tsa\\base\\tsa_model.py:524: ValueWarning:\n",
      "\n",
      "No frequency information was provided, so inferred frequency MS will be used.\n",
      "\n",
      "C:\\Users\\fayma\\anaconda3\\envs\\env1\\lib\\site-packages\\statsmodels\\tsa\\base\\tsa_model.py:524: ValueWarning:\n",
      "\n",
      "No frequency information was provided, so inferred frequency MS will be used.\n",
      "\n",
      "C:\\Users\\fayma\\anaconda3\\envs\\env1\\lib\\site-packages\\statsmodels\\base\\model.py:566: ConvergenceWarning:\n",
      "\n",
      "Maximum Likelihood optimization failed to converge. Check mle_retvals\n",
      "\n"
     ]
    }
   ],
   "source": [
    "curr_y = y[y['zip']==curr_zip]\n",
    "curr_x = x[x['zip']==curr_zip].drop(columns = 'zip').drop(columns = 'state_local_perc')\n",
    "curr_y_train = curr_y.iloc[0:48,:]\n",
    "curr_x_train = curr_x.iloc[0:48,:]\n",
    "curr_x_test = curr_x.iloc[48:,:]\n",
    "\n",
    "curr_model = sm.sarimax.SARIMAX(curr_y_train['zri'], exog = curr_x_train, order = (1,1,0), seasonal_order=(0, 0, 0, 0)).fit()\n",
    "\n",
    "pred_dict[curr_zip] = curr_model.predict(start = 1, end = 59, exog = curr_x_test, dynamic = 47)\n",
    "coef_dict[curr_zip] = curr_model.params\n",
    "fcast = curr_model.get_forecast(steps = 12, exog = curr_x_test).summary_frame()"
   ]
  },
  {
   "cell_type": "code",
   "execution_count": 125,
   "id": "7f33c623",
   "metadata": {},
   "outputs": [
    {
     "data": {
      "application/vnd.plotly.v1+json": {
       "config": {
        "plotlyServerURL": "https://plot.ly"
       },
       "data": [
        {
         "mode": "lines",
         "name": "Actual",
         "type": "scatter",
         "x": [
          "2015-01-01T00:00:00",
          "2015-02-01T00:00:00",
          "2015-03-01T00:00:00",
          "2015-04-01T00:00:00",
          "2015-05-01T00:00:00",
          "2015-06-01T00:00:00",
          "2015-07-01T00:00:00",
          "2015-08-01T00:00:00",
          "2015-09-01T00:00:00",
          "2015-10-01T00:00:00",
          "2015-11-01T00:00:00",
          "2015-12-01T00:00:00",
          "2016-01-01T00:00:00",
          "2016-02-01T00:00:00",
          "2016-03-01T00:00:00",
          "2016-04-01T00:00:00",
          "2016-05-01T00:00:00",
          "2016-06-01T00:00:00",
          "2016-07-01T00:00:00",
          "2016-08-01T00:00:00",
          "2016-09-01T00:00:00",
          "2016-10-01T00:00:00",
          "2016-11-01T00:00:00",
          "2016-12-01T00:00:00",
          "2017-01-01T00:00:00",
          "2017-02-01T00:00:00",
          "2017-03-01T00:00:00",
          "2017-04-01T00:00:00",
          "2017-05-01T00:00:00",
          "2017-06-01T00:00:00",
          "2017-07-01T00:00:00",
          "2017-08-01T00:00:00",
          "2017-09-01T00:00:00",
          "2017-10-01T00:00:00",
          "2017-11-01T00:00:00",
          "2017-12-01T00:00:00",
          "2018-01-01T00:00:00",
          "2018-02-01T00:00:00",
          "2018-03-01T00:00:00",
          "2018-04-01T00:00:00",
          "2018-05-01T00:00:00",
          "2018-06-01T00:00:00",
          "2018-07-01T00:00:00",
          "2018-08-01T00:00:00",
          "2018-09-01T00:00:00",
          "2018-10-01T00:00:00",
          "2018-11-01T00:00:00",
          "2018-12-01T00:00:00",
          "2019-01-01T00:00:00",
          "2019-02-01T00:00:00",
          "2019-03-01T00:00:00",
          "2019-04-01T00:00:00",
          "2019-05-01T00:00:00",
          "2019-06-01T00:00:00",
          "2019-07-01T00:00:00",
          "2019-08-01T00:00:00",
          "2019-09-01T00:00:00",
          "2019-10-01T00:00:00",
          "2019-11-01T00:00:00",
          "2019-12-01T00:00:00"
         ],
         "y": [
          1452,
          1461,
          1489,
          1521,
          1569,
          1617,
          1665,
          1691,
          1721,
          1754,
          1765,
          1781,
          1763,
          1761,
          1755,
          1745,
          1711,
          1688,
          1737,
          1795,
          1853,
          1868,
          1850,
          1839,
          1818,
          1786,
          1751,
          1757,
          1785,
          1805,
          1817,
          1824,
          1834,
          1848,
          1860,
          1860,
          1854,
          1863,
          1875,
          1884,
          1884,
          1871,
          1884,
          1898,
          1918,
          1932,
          1923,
          1943,
          1947,
          1961,
          1964,
          1964,
          1965,
          1973,
          1980,
          1980,
          1985,
          1959,
          2009,
          2049
         ]
        },
        {
         "mode": "lines",
         "name": "Predicted",
         "type": "scatter",
         "x": [
          "2015-02-01T00:00:00",
          "2015-03-01T00:00:00",
          "2015-04-01T00:00:00",
          "2015-05-01T00:00:00",
          "2015-06-01T00:00:00",
          "2015-07-01T00:00:00",
          "2015-08-01T00:00:00",
          "2015-09-01T00:00:00",
          "2015-10-01T00:00:00",
          "2015-11-01T00:00:00",
          "2015-12-01T00:00:00",
          "2016-01-01T00:00:00",
          "2016-02-01T00:00:00",
          "2016-03-01T00:00:00",
          "2016-04-01T00:00:00",
          "2016-05-01T00:00:00",
          "2016-06-01T00:00:00",
          "2016-07-01T00:00:00",
          "2016-08-01T00:00:00",
          "2016-09-01T00:00:00",
          "2016-10-01T00:00:00",
          "2016-11-01T00:00:00",
          "2016-12-01T00:00:00",
          "2017-01-01T00:00:00",
          "2017-02-01T00:00:00",
          "2017-03-01T00:00:00",
          "2017-04-01T00:00:00",
          "2017-05-01T00:00:00",
          "2017-06-01T00:00:00",
          "2017-07-01T00:00:00",
          "2017-08-01T00:00:00",
          "2017-09-01T00:00:00",
          "2017-10-01T00:00:00",
          "2017-11-01T00:00:00",
          "2017-12-01T00:00:00",
          "2018-01-01T00:00:00",
          "2018-02-01T00:00:00",
          "2018-03-01T00:00:00",
          "2018-04-01T00:00:00",
          "2018-05-01T00:00:00",
          "2018-06-01T00:00:00",
          "2018-07-01T00:00:00",
          "2018-08-01T00:00:00",
          "2018-09-01T00:00:00",
          "2018-10-01T00:00:00",
          "2018-11-01T00:00:00",
          "2018-12-01T00:00:00",
          "2019-01-01T00:00:00",
          "2019-02-01T00:00:00",
          "2019-03-01T00:00:00",
          "2019-04-01T00:00:00",
          "2019-05-01T00:00:00",
          "2019-06-01T00:00:00",
          "2019-07-01T00:00:00",
          "2019-08-01T00:00:00",
          "2019-09-01T00:00:00",
          "2019-10-01T00:00:00",
          "2019-11-01T00:00:00",
          "2019-12-01T00:00:00"
         ],
         "y": [
          1461.0000000000437,
          1489.0000000000282,
          1520.9999999999905,
          1568.9999999999636,
          1617.0000000000446,
          1664.999999999973,
          1691.0000000000427,
          1720.9999999999627,
          1754.0000000000093,
          1764.9999999999927,
          1781.0000000000323,
          1762.999999999973,
          1761.0000000000352,
          1754.999999999966,
          1744.9999999999875,
          1711.0000000000312,
          1687.9999999999907,
          1737.0000000000146,
          1795.0000000000011,
          1852.9999999999604,
          1868.0000000000373,
          1849.9999999999907,
          1838.9999999999563,
          1818.0000000000696,
          1785.9999999999782,
          1750.9999999999854,
          1757.0000000000061,
          1784.9999999999927,
          1804.9999999999814,
          1817.0000000000384,
          1824.000000000002,
          1833.9999999999793,
          1848.0000000000134,
          1859.9999999999968,
          1859.9999999999927,
          1853.999999999974,
          1863.0000000000705,
          1874.9999999999534,
          1884.000000000002,
          1884.0000000000177,
          1870.9999999999866,
          1884.0000000000248,
          1897.9999999999325,
          1918.0000000000466,
          1932.0000000000052,
          1922.9999999999939,
          1943.000000000029,
          1907.984781755098,
          2209.0762409698145,
          2404.0523005556606,
          2471.8606499107045,
          2553.5880858729215,
          2780.455956491729,
          2911.482289558604,
          2859.810529721697,
          3094.805554845516,
          3439.188800523145,
          3472.4262468860106,
          3719.9735664769178
         ]
        }
       ],
       "layout": {
        "shapes": [
         {
          "line": {
           "color": "green",
           "dash": "dash",
           "width": 3
          },
          "type": "line",
          "x0": "2018-12-01T00:00:00",
          "x1": "2018-12-01T00:00:00",
          "xref": "x",
          "y0": 0,
          "y1": 1,
          "yref": "y domain"
         }
        ],
        "template": {
         "data": {
          "bar": [
           {
            "error_x": {
             "color": "#2a3f5f"
            },
            "error_y": {
             "color": "#2a3f5f"
            },
            "marker": {
             "line": {
              "color": "#E5ECF6",
              "width": 0.5
             },
             "pattern": {
              "fillmode": "overlay",
              "size": 10,
              "solidity": 0.2
             }
            },
            "type": "bar"
           }
          ],
          "barpolar": [
           {
            "marker": {
             "line": {
              "color": "#E5ECF6",
              "width": 0.5
             },
             "pattern": {
              "fillmode": "overlay",
              "size": 10,
              "solidity": 0.2
             }
            },
            "type": "barpolar"
           }
          ],
          "carpet": [
           {
            "aaxis": {
             "endlinecolor": "#2a3f5f",
             "gridcolor": "white",
             "linecolor": "white",
             "minorgridcolor": "white",
             "startlinecolor": "#2a3f5f"
            },
            "baxis": {
             "endlinecolor": "#2a3f5f",
             "gridcolor": "white",
             "linecolor": "white",
             "minorgridcolor": "white",
             "startlinecolor": "#2a3f5f"
            },
            "type": "carpet"
           }
          ],
          "choropleth": [
           {
            "colorbar": {
             "outlinewidth": 0,
             "ticks": ""
            },
            "type": "choropleth"
           }
          ],
          "contour": [
           {
            "colorbar": {
             "outlinewidth": 0,
             "ticks": ""
            },
            "colorscale": [
             [
              0,
              "#0d0887"
             ],
             [
              0.1111111111111111,
              "#46039f"
             ],
             [
              0.2222222222222222,
              "#7201a8"
             ],
             [
              0.3333333333333333,
              "#9c179e"
             ],
             [
              0.4444444444444444,
              "#bd3786"
             ],
             [
              0.5555555555555556,
              "#d8576b"
             ],
             [
              0.6666666666666666,
              "#ed7953"
             ],
             [
              0.7777777777777778,
              "#fb9f3a"
             ],
             [
              0.8888888888888888,
              "#fdca26"
             ],
             [
              1,
              "#f0f921"
             ]
            ],
            "type": "contour"
           }
          ],
          "contourcarpet": [
           {
            "colorbar": {
             "outlinewidth": 0,
             "ticks": ""
            },
            "type": "contourcarpet"
           }
          ],
          "heatmap": [
           {
            "colorbar": {
             "outlinewidth": 0,
             "ticks": ""
            },
            "colorscale": [
             [
              0,
              "#0d0887"
             ],
             [
              0.1111111111111111,
              "#46039f"
             ],
             [
              0.2222222222222222,
              "#7201a8"
             ],
             [
              0.3333333333333333,
              "#9c179e"
             ],
             [
              0.4444444444444444,
              "#bd3786"
             ],
             [
              0.5555555555555556,
              "#d8576b"
             ],
             [
              0.6666666666666666,
              "#ed7953"
             ],
             [
              0.7777777777777778,
              "#fb9f3a"
             ],
             [
              0.8888888888888888,
              "#fdca26"
             ],
             [
              1,
              "#f0f921"
             ]
            ],
            "type": "heatmap"
           }
          ],
          "heatmapgl": [
           {
            "colorbar": {
             "outlinewidth": 0,
             "ticks": ""
            },
            "colorscale": [
             [
              0,
              "#0d0887"
             ],
             [
              0.1111111111111111,
              "#46039f"
             ],
             [
              0.2222222222222222,
              "#7201a8"
             ],
             [
              0.3333333333333333,
              "#9c179e"
             ],
             [
              0.4444444444444444,
              "#bd3786"
             ],
             [
              0.5555555555555556,
              "#d8576b"
             ],
             [
              0.6666666666666666,
              "#ed7953"
             ],
             [
              0.7777777777777778,
              "#fb9f3a"
             ],
             [
              0.8888888888888888,
              "#fdca26"
             ],
             [
              1,
              "#f0f921"
             ]
            ],
            "type": "heatmapgl"
           }
          ],
          "histogram": [
           {
            "marker": {
             "pattern": {
              "fillmode": "overlay",
              "size": 10,
              "solidity": 0.2
             }
            },
            "type": "histogram"
           }
          ],
          "histogram2d": [
           {
            "colorbar": {
             "outlinewidth": 0,
             "ticks": ""
            },
            "colorscale": [
             [
              0,
              "#0d0887"
             ],
             [
              0.1111111111111111,
              "#46039f"
             ],
             [
              0.2222222222222222,
              "#7201a8"
             ],
             [
              0.3333333333333333,
              "#9c179e"
             ],
             [
              0.4444444444444444,
              "#bd3786"
             ],
             [
              0.5555555555555556,
              "#d8576b"
             ],
             [
              0.6666666666666666,
              "#ed7953"
             ],
             [
              0.7777777777777778,
              "#fb9f3a"
             ],
             [
              0.8888888888888888,
              "#fdca26"
             ],
             [
              1,
              "#f0f921"
             ]
            ],
            "type": "histogram2d"
           }
          ],
          "histogram2dcontour": [
           {
            "colorbar": {
             "outlinewidth": 0,
             "ticks": ""
            },
            "colorscale": [
             [
              0,
              "#0d0887"
             ],
             [
              0.1111111111111111,
              "#46039f"
             ],
             [
              0.2222222222222222,
              "#7201a8"
             ],
             [
              0.3333333333333333,
              "#9c179e"
             ],
             [
              0.4444444444444444,
              "#bd3786"
             ],
             [
              0.5555555555555556,
              "#d8576b"
             ],
             [
              0.6666666666666666,
              "#ed7953"
             ],
             [
              0.7777777777777778,
              "#fb9f3a"
             ],
             [
              0.8888888888888888,
              "#fdca26"
             ],
             [
              1,
              "#f0f921"
             ]
            ],
            "type": "histogram2dcontour"
           }
          ],
          "mesh3d": [
           {
            "colorbar": {
             "outlinewidth": 0,
             "ticks": ""
            },
            "type": "mesh3d"
           }
          ],
          "parcoords": [
           {
            "line": {
             "colorbar": {
              "outlinewidth": 0,
              "ticks": ""
             }
            },
            "type": "parcoords"
           }
          ],
          "pie": [
           {
            "automargin": true,
            "type": "pie"
           }
          ],
          "scatter": [
           {
            "marker": {
             "colorbar": {
              "outlinewidth": 0,
              "ticks": ""
             }
            },
            "type": "scatter"
           }
          ],
          "scatter3d": [
           {
            "line": {
             "colorbar": {
              "outlinewidth": 0,
              "ticks": ""
             }
            },
            "marker": {
             "colorbar": {
              "outlinewidth": 0,
              "ticks": ""
             }
            },
            "type": "scatter3d"
           }
          ],
          "scattercarpet": [
           {
            "marker": {
             "colorbar": {
              "outlinewidth": 0,
              "ticks": ""
             }
            },
            "type": "scattercarpet"
           }
          ],
          "scattergeo": [
           {
            "marker": {
             "colorbar": {
              "outlinewidth": 0,
              "ticks": ""
             }
            },
            "type": "scattergeo"
           }
          ],
          "scattergl": [
           {
            "marker": {
             "colorbar": {
              "outlinewidth": 0,
              "ticks": ""
             }
            },
            "type": "scattergl"
           }
          ],
          "scattermapbox": [
           {
            "marker": {
             "colorbar": {
              "outlinewidth": 0,
              "ticks": ""
             }
            },
            "type": "scattermapbox"
           }
          ],
          "scatterpolar": [
           {
            "marker": {
             "colorbar": {
              "outlinewidth": 0,
              "ticks": ""
             }
            },
            "type": "scatterpolar"
           }
          ],
          "scatterpolargl": [
           {
            "marker": {
             "colorbar": {
              "outlinewidth": 0,
              "ticks": ""
             }
            },
            "type": "scatterpolargl"
           }
          ],
          "scatterternary": [
           {
            "marker": {
             "colorbar": {
              "outlinewidth": 0,
              "ticks": ""
             }
            },
            "type": "scatterternary"
           }
          ],
          "surface": [
           {
            "colorbar": {
             "outlinewidth": 0,
             "ticks": ""
            },
            "colorscale": [
             [
              0,
              "#0d0887"
             ],
             [
              0.1111111111111111,
              "#46039f"
             ],
             [
              0.2222222222222222,
              "#7201a8"
             ],
             [
              0.3333333333333333,
              "#9c179e"
             ],
             [
              0.4444444444444444,
              "#bd3786"
             ],
             [
              0.5555555555555556,
              "#d8576b"
             ],
             [
              0.6666666666666666,
              "#ed7953"
             ],
             [
              0.7777777777777778,
              "#fb9f3a"
             ],
             [
              0.8888888888888888,
              "#fdca26"
             ],
             [
              1,
              "#f0f921"
             ]
            ],
            "type": "surface"
           }
          ],
          "table": [
           {
            "cells": {
             "fill": {
              "color": "#EBF0F8"
             },
             "line": {
              "color": "white"
             }
            },
            "header": {
             "fill": {
              "color": "#C8D4E3"
             },
             "line": {
              "color": "white"
             }
            },
            "type": "table"
           }
          ]
         },
         "layout": {
          "annotationdefaults": {
           "arrowcolor": "#2a3f5f",
           "arrowhead": 0,
           "arrowwidth": 1
          },
          "autotypenumbers": "strict",
          "coloraxis": {
           "colorbar": {
            "outlinewidth": 0,
            "ticks": ""
           }
          },
          "colorscale": {
           "diverging": [
            [
             0,
             "#8e0152"
            ],
            [
             0.1,
             "#c51b7d"
            ],
            [
             0.2,
             "#de77ae"
            ],
            [
             0.3,
             "#f1b6da"
            ],
            [
             0.4,
             "#fde0ef"
            ],
            [
             0.5,
             "#f7f7f7"
            ],
            [
             0.6,
             "#e6f5d0"
            ],
            [
             0.7,
             "#b8e186"
            ],
            [
             0.8,
             "#7fbc41"
            ],
            [
             0.9,
             "#4d9221"
            ],
            [
             1,
             "#276419"
            ]
           ],
           "sequential": [
            [
             0,
             "#0d0887"
            ],
            [
             0.1111111111111111,
             "#46039f"
            ],
            [
             0.2222222222222222,
             "#7201a8"
            ],
            [
             0.3333333333333333,
             "#9c179e"
            ],
            [
             0.4444444444444444,
             "#bd3786"
            ],
            [
             0.5555555555555556,
             "#d8576b"
            ],
            [
             0.6666666666666666,
             "#ed7953"
            ],
            [
             0.7777777777777778,
             "#fb9f3a"
            ],
            [
             0.8888888888888888,
             "#fdca26"
            ],
            [
             1,
             "#f0f921"
            ]
           ],
           "sequentialminus": [
            [
             0,
             "#0d0887"
            ],
            [
             0.1111111111111111,
             "#46039f"
            ],
            [
             0.2222222222222222,
             "#7201a8"
            ],
            [
             0.3333333333333333,
             "#9c179e"
            ],
            [
             0.4444444444444444,
             "#bd3786"
            ],
            [
             0.5555555555555556,
             "#d8576b"
            ],
            [
             0.6666666666666666,
             "#ed7953"
            ],
            [
             0.7777777777777778,
             "#fb9f3a"
            ],
            [
             0.8888888888888888,
             "#fdca26"
            ],
            [
             1,
             "#f0f921"
            ]
           ]
          },
          "colorway": [
           "#636efa",
           "#EF553B",
           "#00cc96",
           "#ab63fa",
           "#FFA15A",
           "#19d3f3",
           "#FF6692",
           "#B6E880",
           "#FF97FF",
           "#FECB52"
          ],
          "font": {
           "color": "#2a3f5f"
          },
          "geo": {
           "bgcolor": "white",
           "lakecolor": "white",
           "landcolor": "#E5ECF6",
           "showlakes": true,
           "showland": true,
           "subunitcolor": "white"
          },
          "hoverlabel": {
           "align": "left"
          },
          "hovermode": "closest",
          "mapbox": {
           "style": "light"
          },
          "paper_bgcolor": "white",
          "plot_bgcolor": "#E5ECF6",
          "polar": {
           "angularaxis": {
            "gridcolor": "white",
            "linecolor": "white",
            "ticks": ""
           },
           "bgcolor": "#E5ECF6",
           "radialaxis": {
            "gridcolor": "white",
            "linecolor": "white",
            "ticks": ""
           }
          },
          "scene": {
           "xaxis": {
            "backgroundcolor": "#E5ECF6",
            "gridcolor": "white",
            "gridwidth": 2,
            "linecolor": "white",
            "showbackground": true,
            "ticks": "",
            "zerolinecolor": "white"
           },
           "yaxis": {
            "backgroundcolor": "#E5ECF6",
            "gridcolor": "white",
            "gridwidth": 2,
            "linecolor": "white",
            "showbackground": true,
            "ticks": "",
            "zerolinecolor": "white"
           },
           "zaxis": {
            "backgroundcolor": "#E5ECF6",
            "gridcolor": "white",
            "gridwidth": 2,
            "linecolor": "white",
            "showbackground": true,
            "ticks": "",
            "zerolinecolor": "white"
           }
          },
          "shapedefaults": {
           "line": {
            "color": "#2a3f5f"
           }
          },
          "ternary": {
           "aaxis": {
            "gridcolor": "white",
            "linecolor": "white",
            "ticks": ""
           },
           "baxis": {
            "gridcolor": "white",
            "linecolor": "white",
            "ticks": ""
           },
           "bgcolor": "#E5ECF6",
           "caxis": {
            "gridcolor": "white",
            "linecolor": "white",
            "ticks": ""
           }
          },
          "title": {
           "x": 0.05
          },
          "xaxis": {
           "automargin": true,
           "gridcolor": "white",
           "linecolor": "white",
           "ticks": "",
           "title": {
            "standoff": 15
           },
           "zerolinecolor": "white",
           "zerolinewidth": 2
          },
          "yaxis": {
           "automargin": true,
           "gridcolor": "white",
           "linecolor": "white",
           "ticks": "",
           "title": {
            "standoff": 15
           },
           "zerolinecolor": "white",
           "zerolinewidth": 2
          }
         }
        },
        "xaxis": {
         "title": {
          "text": "Time"
         }
        },
        "yaxis": {
         "title": {
          "text": "ZRI"
         }
        }
       }
      },
      "text/html": [
       "<div>                            <div id=\"55c7440b-e79b-459f-8ab1-587dd6c78536\" class=\"plotly-graph-div\" style=\"height:525px; width:100%;\"></div>            <script type=\"text/javascript\">                require([\"plotly\"], function(Plotly) {                    window.PLOTLYENV=window.PLOTLYENV || {};                                    if (document.getElementById(\"55c7440b-e79b-459f-8ab1-587dd6c78536\")) {                    Plotly.newPlot(                        \"55c7440b-e79b-459f-8ab1-587dd6c78536\",                        [{\"mode\":\"lines\",\"name\":\"Actual\",\"type\":\"scatter\",\"x\":[\"2015-01-01T00:00:00\",\"2015-02-01T00:00:00\",\"2015-03-01T00:00:00\",\"2015-04-01T00:00:00\",\"2015-05-01T00:00:00\",\"2015-06-01T00:00:00\",\"2015-07-01T00:00:00\",\"2015-08-01T00:00:00\",\"2015-09-01T00:00:00\",\"2015-10-01T00:00:00\",\"2015-11-01T00:00:00\",\"2015-12-01T00:00:00\",\"2016-01-01T00:00:00\",\"2016-02-01T00:00:00\",\"2016-03-01T00:00:00\",\"2016-04-01T00:00:00\",\"2016-05-01T00:00:00\",\"2016-06-01T00:00:00\",\"2016-07-01T00:00:00\",\"2016-08-01T00:00:00\",\"2016-09-01T00:00:00\",\"2016-10-01T00:00:00\",\"2016-11-01T00:00:00\",\"2016-12-01T00:00:00\",\"2017-01-01T00:00:00\",\"2017-02-01T00:00:00\",\"2017-03-01T00:00:00\",\"2017-04-01T00:00:00\",\"2017-05-01T00:00:00\",\"2017-06-01T00:00:00\",\"2017-07-01T00:00:00\",\"2017-08-01T00:00:00\",\"2017-09-01T00:00:00\",\"2017-10-01T00:00:00\",\"2017-11-01T00:00:00\",\"2017-12-01T00:00:00\",\"2018-01-01T00:00:00\",\"2018-02-01T00:00:00\",\"2018-03-01T00:00:00\",\"2018-04-01T00:00:00\",\"2018-05-01T00:00:00\",\"2018-06-01T00:00:00\",\"2018-07-01T00:00:00\",\"2018-08-01T00:00:00\",\"2018-09-01T00:00:00\",\"2018-10-01T00:00:00\",\"2018-11-01T00:00:00\",\"2018-12-01T00:00:00\",\"2019-01-01T00:00:00\",\"2019-02-01T00:00:00\",\"2019-03-01T00:00:00\",\"2019-04-01T00:00:00\",\"2019-05-01T00:00:00\",\"2019-06-01T00:00:00\",\"2019-07-01T00:00:00\",\"2019-08-01T00:00:00\",\"2019-09-01T00:00:00\",\"2019-10-01T00:00:00\",\"2019-11-01T00:00:00\",\"2019-12-01T00:00:00\"],\"y\":[1452.0,1461.0,1489.0,1521.0,1569.0,1617.0,1665.0,1691.0,1721.0,1754.0,1765.0,1781.0,1763.0,1761.0,1755.0,1745.0,1711.0,1688.0,1737.0,1795.0,1853.0,1868.0,1850.0,1839.0,1818.0,1786.0,1751.0,1757.0,1785.0,1805.0,1817.0,1824.0,1834.0,1848.0,1860.0,1860.0,1854.0,1863.0,1875.0,1884.0,1884.0,1871.0,1884.0,1898.0,1918.0,1932.0,1923.0,1943.0,1947.0,1961.0,1964.0,1964.0,1965.0,1973.0,1980.0,1980.0,1985.0,1959.0,2009.0,2049.0]},{\"mode\":\"lines\",\"name\":\"Predicted\",\"type\":\"scatter\",\"x\":[\"2015-02-01T00:00:00\",\"2015-03-01T00:00:00\",\"2015-04-01T00:00:00\",\"2015-05-01T00:00:00\",\"2015-06-01T00:00:00\",\"2015-07-01T00:00:00\",\"2015-08-01T00:00:00\",\"2015-09-01T00:00:00\",\"2015-10-01T00:00:00\",\"2015-11-01T00:00:00\",\"2015-12-01T00:00:00\",\"2016-01-01T00:00:00\",\"2016-02-01T00:00:00\",\"2016-03-01T00:00:00\",\"2016-04-01T00:00:00\",\"2016-05-01T00:00:00\",\"2016-06-01T00:00:00\",\"2016-07-01T00:00:00\",\"2016-08-01T00:00:00\",\"2016-09-01T00:00:00\",\"2016-10-01T00:00:00\",\"2016-11-01T00:00:00\",\"2016-12-01T00:00:00\",\"2017-01-01T00:00:00\",\"2017-02-01T00:00:00\",\"2017-03-01T00:00:00\",\"2017-04-01T00:00:00\",\"2017-05-01T00:00:00\",\"2017-06-01T00:00:00\",\"2017-07-01T00:00:00\",\"2017-08-01T00:00:00\",\"2017-09-01T00:00:00\",\"2017-10-01T00:00:00\",\"2017-11-01T00:00:00\",\"2017-12-01T00:00:00\",\"2018-01-01T00:00:00\",\"2018-02-01T00:00:00\",\"2018-03-01T00:00:00\",\"2018-04-01T00:00:00\",\"2018-05-01T00:00:00\",\"2018-06-01T00:00:00\",\"2018-07-01T00:00:00\",\"2018-08-01T00:00:00\",\"2018-09-01T00:00:00\",\"2018-10-01T00:00:00\",\"2018-11-01T00:00:00\",\"2018-12-01T00:00:00\",\"2019-01-01T00:00:00\",\"2019-02-01T00:00:00\",\"2019-03-01T00:00:00\",\"2019-04-01T00:00:00\",\"2019-05-01T00:00:00\",\"2019-06-01T00:00:00\",\"2019-07-01T00:00:00\",\"2019-08-01T00:00:00\",\"2019-09-01T00:00:00\",\"2019-10-01T00:00:00\",\"2019-11-01T00:00:00\",\"2019-12-01T00:00:00\"],\"y\":[1461.0000000000437,1489.0000000000282,1520.9999999999905,1568.9999999999636,1617.0000000000446,1664.999999999973,1691.0000000000427,1720.9999999999627,1754.0000000000093,1764.9999999999927,1781.0000000000323,1762.999999999973,1761.0000000000352,1754.999999999966,1744.9999999999875,1711.0000000000312,1687.9999999999907,1737.0000000000146,1795.0000000000011,1852.9999999999604,1868.0000000000373,1849.9999999999907,1838.9999999999563,1818.0000000000696,1785.9999999999782,1750.9999999999854,1757.0000000000061,1784.9999999999927,1804.9999999999814,1817.0000000000384,1824.000000000002,1833.9999999999793,1848.0000000000134,1859.9999999999968,1859.9999999999927,1853.999999999974,1863.0000000000705,1874.9999999999534,1884.000000000002,1884.0000000000177,1870.9999999999866,1884.0000000000248,1897.9999999999325,1918.0000000000466,1932.0000000000052,1922.9999999999939,1943.000000000029,1907.984781755098,2209.0762409698145,2404.0523005556606,2471.8606499107045,2553.5880858729215,2780.455956491729,2911.482289558604,2859.810529721697,3094.805554845516,3439.188800523145,3472.4262468860106,3719.9735664769178]}],                        {\"shapes\":[{\"line\":{\"color\":\"green\",\"dash\":\"dash\",\"width\":3},\"type\":\"line\",\"x0\":\"2018-12-01T00:00:00\",\"x1\":\"2018-12-01T00:00:00\",\"xref\":\"x\",\"y0\":0,\"y1\":1,\"yref\":\"y domain\"}],\"template\":{\"data\":{\"bar\":[{\"error_x\":{\"color\":\"#2a3f5f\"},\"error_y\":{\"color\":\"#2a3f5f\"},\"marker\":{\"line\":{\"color\":\"#E5ECF6\",\"width\":0.5},\"pattern\":{\"fillmode\":\"overlay\",\"size\":10,\"solidity\":0.2}},\"type\":\"bar\"}],\"barpolar\":[{\"marker\":{\"line\":{\"color\":\"#E5ECF6\",\"width\":0.5},\"pattern\":{\"fillmode\":\"overlay\",\"size\":10,\"solidity\":0.2}},\"type\":\"barpolar\"}],\"carpet\":[{\"aaxis\":{\"endlinecolor\":\"#2a3f5f\",\"gridcolor\":\"white\",\"linecolor\":\"white\",\"minorgridcolor\":\"white\",\"startlinecolor\":\"#2a3f5f\"},\"baxis\":{\"endlinecolor\":\"#2a3f5f\",\"gridcolor\":\"white\",\"linecolor\":\"white\",\"minorgridcolor\":\"white\",\"startlinecolor\":\"#2a3f5f\"},\"type\":\"carpet\"}],\"choropleth\":[{\"colorbar\":{\"outlinewidth\":0,\"ticks\":\"\"},\"type\":\"choropleth\"}],\"contour\":[{\"colorbar\":{\"outlinewidth\":0,\"ticks\":\"\"},\"colorscale\":[[0.0,\"#0d0887\"],[0.1111111111111111,\"#46039f\"],[0.2222222222222222,\"#7201a8\"],[0.3333333333333333,\"#9c179e\"],[0.4444444444444444,\"#bd3786\"],[0.5555555555555556,\"#d8576b\"],[0.6666666666666666,\"#ed7953\"],[0.7777777777777778,\"#fb9f3a\"],[0.8888888888888888,\"#fdca26\"],[1.0,\"#f0f921\"]],\"type\":\"contour\"}],\"contourcarpet\":[{\"colorbar\":{\"outlinewidth\":0,\"ticks\":\"\"},\"type\":\"contourcarpet\"}],\"heatmap\":[{\"colorbar\":{\"outlinewidth\":0,\"ticks\":\"\"},\"colorscale\":[[0.0,\"#0d0887\"],[0.1111111111111111,\"#46039f\"],[0.2222222222222222,\"#7201a8\"],[0.3333333333333333,\"#9c179e\"],[0.4444444444444444,\"#bd3786\"],[0.5555555555555556,\"#d8576b\"],[0.6666666666666666,\"#ed7953\"],[0.7777777777777778,\"#fb9f3a\"],[0.8888888888888888,\"#fdca26\"],[1.0,\"#f0f921\"]],\"type\":\"heatmap\"}],\"heatmapgl\":[{\"colorbar\":{\"outlinewidth\":0,\"ticks\":\"\"},\"colorscale\":[[0.0,\"#0d0887\"],[0.1111111111111111,\"#46039f\"],[0.2222222222222222,\"#7201a8\"],[0.3333333333333333,\"#9c179e\"],[0.4444444444444444,\"#bd3786\"],[0.5555555555555556,\"#d8576b\"],[0.6666666666666666,\"#ed7953\"],[0.7777777777777778,\"#fb9f3a\"],[0.8888888888888888,\"#fdca26\"],[1.0,\"#f0f921\"]],\"type\":\"heatmapgl\"}],\"histogram\":[{\"marker\":{\"pattern\":{\"fillmode\":\"overlay\",\"size\":10,\"solidity\":0.2}},\"type\":\"histogram\"}],\"histogram2d\":[{\"colorbar\":{\"outlinewidth\":0,\"ticks\":\"\"},\"colorscale\":[[0.0,\"#0d0887\"],[0.1111111111111111,\"#46039f\"],[0.2222222222222222,\"#7201a8\"],[0.3333333333333333,\"#9c179e\"],[0.4444444444444444,\"#bd3786\"],[0.5555555555555556,\"#d8576b\"],[0.6666666666666666,\"#ed7953\"],[0.7777777777777778,\"#fb9f3a\"],[0.8888888888888888,\"#fdca26\"],[1.0,\"#f0f921\"]],\"type\":\"histogram2d\"}],\"histogram2dcontour\":[{\"colorbar\":{\"outlinewidth\":0,\"ticks\":\"\"},\"colorscale\":[[0.0,\"#0d0887\"],[0.1111111111111111,\"#46039f\"],[0.2222222222222222,\"#7201a8\"],[0.3333333333333333,\"#9c179e\"],[0.4444444444444444,\"#bd3786\"],[0.5555555555555556,\"#d8576b\"],[0.6666666666666666,\"#ed7953\"],[0.7777777777777778,\"#fb9f3a\"],[0.8888888888888888,\"#fdca26\"],[1.0,\"#f0f921\"]],\"type\":\"histogram2dcontour\"}],\"mesh3d\":[{\"colorbar\":{\"outlinewidth\":0,\"ticks\":\"\"},\"type\":\"mesh3d\"}],\"parcoords\":[{\"line\":{\"colorbar\":{\"outlinewidth\":0,\"ticks\":\"\"}},\"type\":\"parcoords\"}],\"pie\":[{\"automargin\":true,\"type\":\"pie\"}],\"scatter\":[{\"marker\":{\"colorbar\":{\"outlinewidth\":0,\"ticks\":\"\"}},\"type\":\"scatter\"}],\"scatter3d\":[{\"line\":{\"colorbar\":{\"outlinewidth\":0,\"ticks\":\"\"}},\"marker\":{\"colorbar\":{\"outlinewidth\":0,\"ticks\":\"\"}},\"type\":\"scatter3d\"}],\"scattercarpet\":[{\"marker\":{\"colorbar\":{\"outlinewidth\":0,\"ticks\":\"\"}},\"type\":\"scattercarpet\"}],\"scattergeo\":[{\"marker\":{\"colorbar\":{\"outlinewidth\":0,\"ticks\":\"\"}},\"type\":\"scattergeo\"}],\"scattergl\":[{\"marker\":{\"colorbar\":{\"outlinewidth\":0,\"ticks\":\"\"}},\"type\":\"scattergl\"}],\"scattermapbox\":[{\"marker\":{\"colorbar\":{\"outlinewidth\":0,\"ticks\":\"\"}},\"type\":\"scattermapbox\"}],\"scatterpolar\":[{\"marker\":{\"colorbar\":{\"outlinewidth\":0,\"ticks\":\"\"}},\"type\":\"scatterpolar\"}],\"scatterpolargl\":[{\"marker\":{\"colorbar\":{\"outlinewidth\":0,\"ticks\":\"\"}},\"type\":\"scatterpolargl\"}],\"scatterternary\":[{\"marker\":{\"colorbar\":{\"outlinewidth\":0,\"ticks\":\"\"}},\"type\":\"scatterternary\"}],\"surface\":[{\"colorbar\":{\"outlinewidth\":0,\"ticks\":\"\"},\"colorscale\":[[0.0,\"#0d0887\"],[0.1111111111111111,\"#46039f\"],[0.2222222222222222,\"#7201a8\"],[0.3333333333333333,\"#9c179e\"],[0.4444444444444444,\"#bd3786\"],[0.5555555555555556,\"#d8576b\"],[0.6666666666666666,\"#ed7953\"],[0.7777777777777778,\"#fb9f3a\"],[0.8888888888888888,\"#fdca26\"],[1.0,\"#f0f921\"]],\"type\":\"surface\"}],\"table\":[{\"cells\":{\"fill\":{\"color\":\"#EBF0F8\"},\"line\":{\"color\":\"white\"}},\"header\":{\"fill\":{\"color\":\"#C8D4E3\"},\"line\":{\"color\":\"white\"}},\"type\":\"table\"}]},\"layout\":{\"annotationdefaults\":{\"arrowcolor\":\"#2a3f5f\",\"arrowhead\":0,\"arrowwidth\":1},\"autotypenumbers\":\"strict\",\"coloraxis\":{\"colorbar\":{\"outlinewidth\":0,\"ticks\":\"\"}},\"colorscale\":{\"diverging\":[[0,\"#8e0152\"],[0.1,\"#c51b7d\"],[0.2,\"#de77ae\"],[0.3,\"#f1b6da\"],[0.4,\"#fde0ef\"],[0.5,\"#f7f7f7\"],[0.6,\"#e6f5d0\"],[0.7,\"#b8e186\"],[0.8,\"#7fbc41\"],[0.9,\"#4d9221\"],[1,\"#276419\"]],\"sequential\":[[0.0,\"#0d0887\"],[0.1111111111111111,\"#46039f\"],[0.2222222222222222,\"#7201a8\"],[0.3333333333333333,\"#9c179e\"],[0.4444444444444444,\"#bd3786\"],[0.5555555555555556,\"#d8576b\"],[0.6666666666666666,\"#ed7953\"],[0.7777777777777778,\"#fb9f3a\"],[0.8888888888888888,\"#fdca26\"],[1.0,\"#f0f921\"]],\"sequentialminus\":[[0.0,\"#0d0887\"],[0.1111111111111111,\"#46039f\"],[0.2222222222222222,\"#7201a8\"],[0.3333333333333333,\"#9c179e\"],[0.4444444444444444,\"#bd3786\"],[0.5555555555555556,\"#d8576b\"],[0.6666666666666666,\"#ed7953\"],[0.7777777777777778,\"#fb9f3a\"],[0.8888888888888888,\"#fdca26\"],[1.0,\"#f0f921\"]]},\"colorway\":[\"#636efa\",\"#EF553B\",\"#00cc96\",\"#ab63fa\",\"#FFA15A\",\"#19d3f3\",\"#FF6692\",\"#B6E880\",\"#FF97FF\",\"#FECB52\"],\"font\":{\"color\":\"#2a3f5f\"},\"geo\":{\"bgcolor\":\"white\",\"lakecolor\":\"white\",\"landcolor\":\"#E5ECF6\",\"showlakes\":true,\"showland\":true,\"subunitcolor\":\"white\"},\"hoverlabel\":{\"align\":\"left\"},\"hovermode\":\"closest\",\"mapbox\":{\"style\":\"light\"},\"paper_bgcolor\":\"white\",\"plot_bgcolor\":\"#E5ECF6\",\"polar\":{\"angularaxis\":{\"gridcolor\":\"white\",\"linecolor\":\"white\",\"ticks\":\"\"},\"bgcolor\":\"#E5ECF6\",\"radialaxis\":{\"gridcolor\":\"white\",\"linecolor\":\"white\",\"ticks\":\"\"}},\"scene\":{\"xaxis\":{\"backgroundcolor\":\"#E5ECF6\",\"gridcolor\":\"white\",\"gridwidth\":2,\"linecolor\":\"white\",\"showbackground\":true,\"ticks\":\"\",\"zerolinecolor\":\"white\"},\"yaxis\":{\"backgroundcolor\":\"#E5ECF6\",\"gridcolor\":\"white\",\"gridwidth\":2,\"linecolor\":\"white\",\"showbackground\":true,\"ticks\":\"\",\"zerolinecolor\":\"white\"},\"zaxis\":{\"backgroundcolor\":\"#E5ECF6\",\"gridcolor\":\"white\",\"gridwidth\":2,\"linecolor\":\"white\",\"showbackground\":true,\"ticks\":\"\",\"zerolinecolor\":\"white\"}},\"shapedefaults\":{\"line\":{\"color\":\"#2a3f5f\"}},\"ternary\":{\"aaxis\":{\"gridcolor\":\"white\",\"linecolor\":\"white\",\"ticks\":\"\"},\"baxis\":{\"gridcolor\":\"white\",\"linecolor\":\"white\",\"ticks\":\"\"},\"bgcolor\":\"#E5ECF6\",\"caxis\":{\"gridcolor\":\"white\",\"linecolor\":\"white\",\"ticks\":\"\"}},\"title\":{\"x\":0.05},\"xaxis\":{\"automargin\":true,\"gridcolor\":\"white\",\"linecolor\":\"white\",\"ticks\":\"\",\"title\":{\"standoff\":15},\"zerolinecolor\":\"white\",\"zerolinewidth\":2},\"yaxis\":{\"automargin\":true,\"gridcolor\":\"white\",\"linecolor\":\"white\",\"ticks\":\"\",\"title\":{\"standoff\":15},\"zerolinecolor\":\"white\",\"zerolinewidth\":2}}},\"xaxis\":{\"title\":{\"text\":\"Time\"}},\"yaxis\":{\"title\":{\"text\":\"ZRI\"}}},                        {\"responsive\": true}                    ).then(function(){\n",
       "                            \n",
       "var gd = document.getElementById('55c7440b-e79b-459f-8ab1-587dd6c78536');\n",
       "var x = new MutationObserver(function (mutations, observer) {{\n",
       "        var display = window.getComputedStyle(gd).display;\n",
       "        if (!display || display === 'none') {{\n",
       "            console.log([gd, 'removed!']);\n",
       "            Plotly.purge(gd);\n",
       "            observer.disconnect();\n",
       "        }}\n",
       "}});\n",
       "\n",
       "// Listen for the removal of the full notebook cells\n",
       "var notebookContainer = gd.closest('#notebook-container');\n",
       "if (notebookContainer) {{\n",
       "    x.observe(notebookContainer, {childList: true});\n",
       "}}\n",
       "\n",
       "// Listen for the clearing of the current output cell\n",
       "var outputEl = gd.closest('.output');\n",
       "if (outputEl) {{\n",
       "    x.observe(outputEl, {childList: true});\n",
       "}}\n",
       "\n",
       "                        })                };                });            </script>        </div>"
      ]
     },
     "metadata": {},
     "output_type": "display_data"
    }
   ],
   "source": [
    "fig = go.Figure()\n",
    "fig.add_trace(go.Line(x = y[y['zip']==curr_zip].index, y = y[y['zip']==curr_zip]['zri'], mode = 'lines', name = 'Actual'))\n",
    "fig.add_trace(go.Line(x = pred_dict[curr_zip].index, y = pred_dict[curr_zip], mode = 'lines', name = 'Predicted'))\n",
    "fig.add_vline(x=y[y['zip']==curr_zip].index[47], line_width=3, line_dash=\"dash\", line_color=\"green\")\n",
    "# fig.add_trace(go.Line(x = fcast.index, y = fcast['mean_ci_upper'], mode = 'lines', line=dict(color=\"#ffe476\")))\n",
    "# fig.add_trace(go.Line(x = fcast.index, y = fcast['mean_ci_lower'], mode = 'lines', fill = 'tonexty', line=dict(color=\"#ffe476\"), name = 'Confidence interval'))\n",
    "fig.update_yaxes(title = 'ZRI')\n",
    "fig.update_xaxes(title = 'Time')\n",
    "fig.show()"
   ]
  },
  {
   "cell_type": "code",
   "execution_count": null,
   "id": "008faf6a",
   "metadata": {},
   "outputs": [],
   "source": []
  }
 ],
 "metadata": {
  "kernelspec": {
   "display_name": "Python [conda env:env1] *",
   "language": "python",
   "name": "conda-env-env1-py"
  },
  "language_info": {
   "codemirror_mode": {
    "name": "ipython",
    "version": 3
   },
   "file_extension": ".py",
   "mimetype": "text/x-python",
   "name": "python",
   "nbconvert_exporter": "python",
   "pygments_lexer": "ipython3",
   "version": "3.8.11"
  }
 },
 "nbformat": 4,
 "nbformat_minor": 5
}
