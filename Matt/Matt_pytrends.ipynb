{
 "cells": [
  {
   "cell_type": "code",
   "execution_count": 1,
   "id": "f6050510",
   "metadata": {},
   "outputs": [],
   "source": [
    "from datetime import datetime, timedelta\n",
    "import pandas as pd\n",
    "import numpy as np\n",
    "from pytrends.request import TrendReq\n",
    "pytrend = TrendReq()"
   ]
  },
  {
   "cell_type": "code",
   "execution_count": 2,
   "id": "6a8f6032",
   "metadata": {},
   "outputs": [],
   "source": [
    "kw_list=['Flood','Wildfire', 'Hurricane','Forest fire','Starbucks']"
   ]
  },
  {
   "cell_type": "code",
   "execution_count": 3,
   "id": "78c4fa6a",
   "metadata": {},
   "outputs": [],
   "source": [
    "metro_dict = {\n",
    "    'Albany-Schenectady-Troy':'Albany-Schenectady-Troy NY',\n",
    "    'Albuquerque':'Albuquerque-Santa Fe NM',\n",
    "    'Allentown-Bethlehem-Easton': 'Wilkes Barre-Scranton PA',\n",
    "    'Anchorage':'Anchorage AK',\n",
    "    'Athens-Clarke County': 'Macon GA',\n",
    "    'Atlanta-Sandy Springs-Roswell':'Atlanta GA',\n",
    "    'Augusta-Waterville':'Augusta GA',\n",
    "    'Austin-Round Rock':'Austin TX',\n",
    "    'Bakersfield':'Bakersfield CA',\n",
    "    'Baltimore-Columbia-Towson':'Baltimore MD',\n",
    "    'Bangor':'Bangor ME',\n",
    "    'Batavia':'Rochester NY',\n",
    "    'Binghamton':'Binghamton NY',\n",
    "    'Bloomington':  'Indianapolis IN',\n",
    "    'Boston-Cambridge-Newton' : 'Boston MA-Manchester NH',\n",
    "    'Boulder':'Denver CO',\n",
    "    'Bozeman': 'Butte-Bozeman MT',\n",
    "    'Bridgeport-Stamford-Norwalk' : 'Hartford & New Haven CT',\n",
    "    'Brownsville-Harlingen': 'Corpus Christi TX',\n",
    "    'Buffalo-Cheektowaga-Niagara Falls' : 'Buffalo NY',\n",
    "    'Canton-Massillon':'Cleveland-Akron (Canton) OH',\n",
    "    'Cape Coral-Fort Myers': 'Ft. Myers-Naples FL',\n",
    "    'Charleston-North Charleston':'Charleston SC',\n",
    "    'Charlotte-Concord-Gastonia':'Charlotte NC',\n",
    "    'Charlottesville':'Charlottesville VA',\n",
    "    'Chicago-Naperville-Elgin' : 'Chicago IL',\n",
    "    'Chico' : 'Chico-Redding CA',\n",
    "    'Cincinnati' : 'Cincinnati OH',\n",
    "    'Clarksville' : 'Nashville TN',\n",
    "    'Cleveland-Elyria' : 'Cleveland-Akron (Canton) OH',\n",
    "    'College Station-Bryan' : 'Waco-Temple-Bryan TX',\n",
    "    'Colorado Springs' : 'Colorado Springs-Pueblo CO',\n",
    "    'ColumbiaSC' : 'Columbia SC',\n",
    "    'ColumbiaMO' : 'Columbia-Jefferson City MO',\n",
    "    'Columbus' : 'Columbus OH',\n",
    "    'Concord' :  'Boston MA-Manchester NH',\n",
    "    'Dallas-Fort Worth-Arlington' : 'Dallas-Ft. Worth TX',\n",
    "    'Dayton' : 'Dayton OH',\n",
    "    'Denver-Aurora-Lakewood' : 'Denver CO',\n",
    "    'Detroit-Warren-Dearborn' : 'Detroit MI',\n",
    "    'Dubuque' : 'Cedar Rapids-Waterloo-Iowa City & Dubuque IA',\n",
    "    'Durham-Chapel Hill' : 'Raleigh-Durham (Fayetteville) NC',\n",
    "    'El Paso' : 'El Paso TX',\n",
    "    'Erie' : 'Erie PA',\n",
    "    'Eugene' : 'Eugene OR',\n",
    "    'Fargo' : 'Fargo-Valley City ND',\n",
    "    'Fayetteville-Springdale-Rogers' : 'Ft. Smith-Fayetteville-Springdale-Rogers AR',\n",
    "    'Findlay' : 'Lima OH',\n",
    "    'Greenville-Anderson-Mauldin' : 'Greenville-Spartanburg SC-Asheville NC-Anderson SC',\n",
    "    'Harrisburg-Carlisle' : 'Harrisburg-Lancaster-Lebanon-York PA',\n",
    "    'Hartford-West Hartford-East Hartford' : 'Hartford & New Haven CT',\n",
    "    'Helena' : 'Helena MT',\n",
    "    'Houston-The Woodlands-Sugar Land' : 'Houston TX',\n",
    "    'Indianapolis-Carmel-Anderson' : 'Indianapolis IN',\n",
    "    'Ithaca' : 'Elmira NY',\n",
    "    'Jacksonville' : 'Jacksonville FL',\n",
    "    'Jamestown-Dunkirk-Fredonia' : 'Erie PA',\n",
    "    'Joplin' : 'Joplin MO-Pittsburg KS',\n",
    "    'Kalispell' : 'Missoula MT',\n",
    "    'Kansas City' : 'Kansas City MO',\n",
    "    'Killeen-Temple' : 'Waco-Temple-Bryan TX',\n",
    "    'Kingston' : 'Albany-Schenectady-Troy NY',\n",
    "    'La Crosse-Onalaska' : 'La Crosse-Eau Claire WI',\n",
    "    'Lancaster' : 'Harrisburg-Lancaster-Lebanon-York PA',\n",
    "    'Las Vegas-Henderson-Paradise' : 'Las Vegas NV',\n",
    "    'Lewiston-Auburn' : 'Portland-Auburn ME',\n",
    "    'Lexington-Fayette' : 'Lexington KY',\n",
    "    'Little Rock-North Little Rock-Conway' : 'Little Rock-Pine Bluff AR',\n",
    "    'Los Angeles-Long Beach-Anaheim' : 'Los Angeles CA',\n",
    "    'Madison' : 'Madison WI',\n",
    "    'Manchester-Nashua' : 'Boston MA-Manchester NH',\n",
    "    'Manhattan' : 'Topeka KS', # Manhattan, Kansas\n",
    "    'Manitowoc' : 'Green Bay-Appleton WI',\n",
    "    'Medford' : 'Medford-Klamath Falls OR',\n",
    "    'Memphis' : 'Memphis TN',\n",
    "    'Miami-Fort Lauderdale-West Palm Beach' : 'Miami-Ft. Lauderdale FL',\n",
    "    'Milwaukee-Waukesha-West Allis' : 'Milwaukee WI',\n",
    "    'Minneapolis-St. Paul-Bloomington' : 'Minneapolis-St. Paul MN',\n",
    "    'Missoula' : 'Missoula MT',\n",
    "    'Morgantown' :  'Clarksburg-Weston WV', #morgantown, WV\n",
    "    'Nashville-Davidson--Murfreesboro--Franklin' : 'Nashville TN',\n",
    "    'New Haven-Milford' : 'Hartford & New Haven CT',\n",
    "    'New York-Newark-Jersey City' : 'New York NY',\n",
    "    'North Port-Sarasota-Bradenton' : 'Tampa-St. Petersburg (Sarasota) FL',\n",
    "    'Norwich-New London' : 'Hartford & New Haven CT', # norwich, CT\n",
    "    'Ogden-Clearfield' : 'Salt Lake City UT', #utah\n",
    "    'Oklahoma City' : 'Oklahoma City OK',\n",
    "    'Orlando-Kissimmee-Sanford' : 'Orlando-Daytona Beach-Melbourne FL',\n",
    "    'Oshkosh-Neenah' : 'Green Bay-Appleton WI', # oshkosh wi\n",
    "    'Oxnard-Thousand Oaks-Ventura' : 'Los Angeles CA', #ca\n",
    "    'Palm Bay-Melbourne-Titusville' : 'Orlando-Daytona Beach-Melbourne FL',\n",
    "    'Philadelphia-Camden-Wilmington' : 'Philadelphia PA',\n",
    "    'Phoenix-Mesa-Scottsdale' : 'Phoenix AZ',\n",
    "    'Pittsburgh' : 'Pittsburgh PA',\n",
    "    'Portland-South Portland' : 'Portland-Auburn ME',\n",
    "    'Portland-Vancouver-Hillsboro' : 'Portland OR',\n",
    "    'Prescott' : 'Phoenix AZ', #presscot AZ\n",
    "    'Providence-Warwick' : 'Providence RI-New Bedford MA',\n",
    "    'Racine' : 'Milwaukee WI', # racine wi\n",
    "    'Raleigh' : 'Raleigh-Durham (Fayetteville) NC',\n",
    "    'Reno' : 'Reno NV',\n",
    "    'Richmond' : 'Richmond-Petersburg VA',\n",
    "    'Riverside-San Bernardino-Ontario' : 'Los Angeles CA', # ca\n",
    "    'Rochester' : 'Rochester NY',\n",
    "    'Rockford' : 'Rockford IL',\n",
    "    'Sacramento--Roseville--Arden-Arcade' : 'Sacramento-Stockton-Modesto CA',\n",
    "    'Salinas' : 'Monterey-Salinas CA', # salinas CA\n",
    "    'Salt Lake City' : 'Salt Lake City UT',\n",
    "    'San Antonio-New Braunfels' : 'San Antonio TX',\n",
    "    'San Diego-Carlsbad' : 'San Diego CA',\n",
    "    'San Francisco-Oakland-Hayward' : 'San Francisco-Oakland-San Jose CA',\n",
    "    'San Jose-Sunnyvale-Santa Clara' : 'San Francisco-Oakland-San Jose CA',\n",
    "    'Savannah' : 'Savannah GA',\n",
    "    'Seattle-Tacoma-Bellevue' : 'Seattle-Tacoma WA',\n",
    "    'Spokane-Spokane Valley' : 'Spokane WA',\n",
    "    'Springfield' : 'Springfield-Holyoke MA',\n",
    "    'St. Louis' : 'St. Louis MO',\n",
    "    'Stockton-Lodi' : 'Sacramento-Stockton-Modesto CA',\n",
    "    'Syracuse' : 'Syracuse NY',\n",
    "    'Tampa-St. Petersburg-Clearwater' : 'Tampa-St. Petersburg (Sarasota) FL',\n",
    "    'Topeka' : 'Topeka KS',\n",
    "    'Torrington' : 'Hartford & New Haven CT', # torrington ct\n",
    "    'Tucson' : 'Tucson (Sierra Vista) AZ',\n",
    "    'Tyler' : 'Tyler-Longview(Lufkin & Nacogdoches) TX',\n",
    "    'Urban Honolulu' : 'Honolulu HI',\n",
    "    'Utica-Rome' : 'Utica NY',\n",
    "    'Virginia Beach-Norfolk-Newport News' : 'Norfolk-Portsmouth-Newport News VA',\n",
    "    'Warren' : 'Erie PA', # warren pa\n",
    "    'Washington-Arlington-Alexandria' : 'Washington DC (Hagerstown MD)',\n",
    "    'Watertown-Fort Drum' : 'Watertown NY',\n",
    "    'Wheeling' : 'Wheeling WV-Steubenville OH',\n",
    "    'Wichita' : 'Wichita-Hutchinson KS',\n",
    "    'Williamsport' : 'Wilkes Barre-Scranton PA', # williamsport pa\n",
    "    'Worcester' : 'Boston MA-Manchester NH',\n",
    "    'York-Hanover' : 'Harrisburg-Lancaster-Lebanon-York PA'\n",
    "}"
   ]
  },
  {
   "cell_type": "code",
   "execution_count": 4,
   "id": "5cbb49ce",
   "metadata": {},
   "outputs": [],
   "source": [
    "trendslist=pd.read_csv('../data/googletrends_countries.csv')\n",
    "trendslist=trendslist[trendslist['country_code']=='US']\n",
    "trendslist.reset_index(drop=True, inplace = True)\n",
    "metro_codes = trendslist.iloc[20266:,:].reset_index(drop=True)"
   ]
  },
  {
   "cell_type": "code",
   "execution_count": 5,
   "id": "5d8d2224",
   "metadata": {
    "scrolled": false
   },
   "outputs": [],
   "source": [
    "metros_to_match = []"
   ]
  },
  {
   "cell_type": "code",
   "execution_count": 6,
   "id": "66f06836",
   "metadata": {},
   "outputs": [],
   "source": [
    "for item in metro_dict.values():\n",
    "    metros_to_match.append(item.lower())"
   ]
  },
  {
   "cell_type": "code",
   "execution_count": 7,
   "id": "a92dfd23",
   "metadata": {},
   "outputs": [],
   "source": [
    "keep_rows = []"
   ]
  },
  {
   "cell_type": "code",
   "execution_count": 8,
   "id": "8d308cf9",
   "metadata": {},
   "outputs": [],
   "source": [
    "for i in range(metro_codes.shape[0]):\n",
    "    if metro_codes.loc[i, 'name'].lower() in metros_to_match:\n",
    "        keep_rows.append(i)"
   ]
  },
  {
   "cell_type": "code",
   "execution_count": 9,
   "id": "71eba523",
   "metadata": {},
   "outputs": [],
   "source": [
    "metro_codes = metro_codes.loc[keep_rows, :]"
   ]
  },
  {
   "cell_type": "code",
   "execution_count": 10,
   "id": "5218986a",
   "metadata": {},
   "outputs": [],
   "source": [
    "metro_code_dict = dict(zip(metro_codes['sub_code'], metro_codes['name'].map(lambda x: x.lower())))"
   ]
  },
  {
   "cell_type": "code",
   "execution_count": 11,
   "id": "4bf51716",
   "metadata": {
    "scrolled": true
   },
   "outputs": [],
   "source": [
    "metro_list = metro_codes['sub_code'].map(lambda x: 'US-'+x).tolist()"
   ]
  },
  {
   "cell_type": "code",
   "execution_count": 12,
   "id": "27b9c427",
   "metadata": {},
   "outputs": [
    {
     "ename": "ResponseError",
     "evalue": "The request failed: Google returned a response with code 429.",
     "output_type": "error",
     "traceback": [
      "\u001b[1;31m---------------------------------------------------------------------------\u001b[0m",
      "\u001b[1;31mResponseError\u001b[0m                             Traceback (most recent call last)",
      "\u001b[1;32m~\\AppData\\Local\\Temp/ipykernel_11972/1508306417.py\u001b[0m in \u001b[0;36m<module>\u001b[1;34m\u001b[0m\n\u001b[0;32m      3\u001b[0m \u001b[1;33m\u001b[0m\u001b[0m\n\u001b[0;32m      4\u001b[0m \u001b[1;32mfor\u001b[0m \u001b[0mitem\u001b[0m \u001b[1;32min\u001b[0m \u001b[0mmetro_list\u001b[0m\u001b[1;33m:\u001b[0m\u001b[1;33m\u001b[0m\u001b[1;33m\u001b[0m\u001b[0m\n\u001b[1;32m----> 5\u001b[1;33m     \u001b[0mpytrend\u001b[0m\u001b[1;33m.\u001b[0m\u001b[0mbuild_payload\u001b[0m\u001b[1;33m(\u001b[0m\u001b[0mkw_list\u001b[0m\u001b[1;33m,\u001b[0m \u001b[0mcat\u001b[0m\u001b[1;33m=\u001b[0m\u001b[1;32mNone\u001b[0m\u001b[1;33m,\u001b[0m \u001b[0mtimeframe\u001b[0m\u001b[1;33m=\u001b[0m\u001b[1;34m'2014-01-01 2020-01-01'\u001b[0m\u001b[1;33m,\u001b[0m \u001b[0mgeo\u001b[0m\u001b[1;33m=\u001b[0m\u001b[0mitem\u001b[0m\u001b[1;33m)\u001b[0m\u001b[1;33m\u001b[0m\u001b[1;33m\u001b[0m\u001b[0m\n\u001b[0m\u001b[0;32m      6\u001b[0m \u001b[1;33m\u001b[0m\u001b[0m\n\u001b[0;32m      7\u001b[0m     \u001b[0mdf\u001b[0m \u001b[1;33m=\u001b[0m \u001b[0mpytrend\u001b[0m\u001b[1;33m.\u001b[0m\u001b[0minterest_over_time\u001b[0m\u001b[1;33m(\u001b[0m\u001b[1;33m)\u001b[0m\u001b[1;33m\u001b[0m\u001b[1;33m\u001b[0m\u001b[0m\n",
      "\u001b[1;32m~\\anaconda3\\envs\\env1\\lib\\site-packages\\pytrends\\request.py\u001b[0m in \u001b[0;36mbuild_payload\u001b[1;34m(self, kw_list, cat, timeframe, geo, gprop)\u001b[0m\n\u001b[0;32m    167\u001b[0m         \u001b[0mself\u001b[0m\u001b[1;33m.\u001b[0m\u001b[0mtoken_payload\u001b[0m\u001b[1;33m[\u001b[0m\u001b[1;34m'req'\u001b[0m\u001b[1;33m]\u001b[0m \u001b[1;33m=\u001b[0m \u001b[0mjson\u001b[0m\u001b[1;33m.\u001b[0m\u001b[0mdumps\u001b[0m\u001b[1;33m(\u001b[0m\u001b[0mself\u001b[0m\u001b[1;33m.\u001b[0m\u001b[0mtoken_payload\u001b[0m\u001b[1;33m[\u001b[0m\u001b[1;34m'req'\u001b[0m\u001b[1;33m]\u001b[0m\u001b[1;33m)\u001b[0m\u001b[1;33m\u001b[0m\u001b[1;33m\u001b[0m\u001b[0m\n\u001b[0;32m    168\u001b[0m         \u001b[1;31m# get tokens\u001b[0m\u001b[1;33m\u001b[0m\u001b[1;33m\u001b[0m\u001b[1;33m\u001b[0m\u001b[0m\n\u001b[1;32m--> 169\u001b[1;33m         \u001b[0mself\u001b[0m\u001b[1;33m.\u001b[0m\u001b[0m_tokens\u001b[0m\u001b[1;33m(\u001b[0m\u001b[1;33m)\u001b[0m\u001b[1;33m\u001b[0m\u001b[1;33m\u001b[0m\u001b[0m\n\u001b[0m\u001b[0;32m    170\u001b[0m         \u001b[1;32mreturn\u001b[0m\u001b[1;33m\u001b[0m\u001b[1;33m\u001b[0m\u001b[0m\n\u001b[0;32m    171\u001b[0m \u001b[1;33m\u001b[0m\u001b[0m\n",
      "\u001b[1;32m~\\anaconda3\\envs\\env1\\lib\\site-packages\\pytrends\\request.py\u001b[0m in \u001b[0;36m_tokens\u001b[1;34m(self)\u001b[0m\n\u001b[0;32m    173\u001b[0m         \u001b[1;34m\"\"\"Makes request to Google to get API tokens for interest over time, interest by region and related queries\"\"\"\u001b[0m\u001b[1;33m\u001b[0m\u001b[1;33m\u001b[0m\u001b[0m\n\u001b[0;32m    174\u001b[0m         \u001b[1;31m# make the request and parse the returned json\u001b[0m\u001b[1;33m\u001b[0m\u001b[1;33m\u001b[0m\u001b[1;33m\u001b[0m\u001b[0m\n\u001b[1;32m--> 175\u001b[1;33m         widget_dict = self._get_data(\n\u001b[0m\u001b[0;32m    176\u001b[0m             \u001b[0murl\u001b[0m\u001b[1;33m=\u001b[0m\u001b[0mTrendReq\u001b[0m\u001b[1;33m.\u001b[0m\u001b[0mGENERAL_URL\u001b[0m\u001b[1;33m,\u001b[0m\u001b[1;33m\u001b[0m\u001b[1;33m\u001b[0m\u001b[0m\n\u001b[0;32m    177\u001b[0m             \u001b[0mmethod\u001b[0m\u001b[1;33m=\u001b[0m\u001b[0mTrendReq\u001b[0m\u001b[1;33m.\u001b[0m\u001b[0mGET_METHOD\u001b[0m\u001b[1;33m,\u001b[0m\u001b[1;33m\u001b[0m\u001b[1;33m\u001b[0m\u001b[0m\n",
      "\u001b[1;32m~\\anaconda3\\envs\\env1\\lib\\site-packages\\pytrends\\request.py\u001b[0m in \u001b[0;36m_get_data\u001b[1;34m(self, url, method, trim_chars, **kwargs)\u001b[0m\n\u001b[0;32m    143\u001b[0m         \u001b[1;32melse\u001b[0m\u001b[1;33m:\u001b[0m\u001b[1;33m\u001b[0m\u001b[1;33m\u001b[0m\u001b[0m\n\u001b[0;32m    144\u001b[0m             \u001b[1;31m# error\u001b[0m\u001b[1;33m\u001b[0m\u001b[1;33m\u001b[0m\u001b[1;33m\u001b[0m\u001b[0m\n\u001b[1;32m--> 145\u001b[1;33m             raise exceptions.ResponseError(\n\u001b[0m\u001b[0;32m    146\u001b[0m                 \u001b[1;34m'The request failed: Google returned a '\u001b[0m\u001b[1;33m\u001b[0m\u001b[1;33m\u001b[0m\u001b[0m\n\u001b[0;32m    147\u001b[0m                 \u001b[1;34m'response with code {0}.'\u001b[0m\u001b[1;33m.\u001b[0m\u001b[0mformat\u001b[0m\u001b[1;33m(\u001b[0m\u001b[0mresponse\u001b[0m\u001b[1;33m.\u001b[0m\u001b[0mstatus_code\u001b[0m\u001b[1;33m)\u001b[0m\u001b[1;33m,\u001b[0m\u001b[1;33m\u001b[0m\u001b[1;33m\u001b[0m\u001b[0m\n",
      "\u001b[1;31mResponseError\u001b[0m: The request failed: Google returned a response with code 429."
     ]
    }
   ],
   "source": [
    "df2=pd.DataFrame(columns=['date','isPartial','metro_code'])\n",
    "df2=df2.set_index('date')\n",
    "\n",
    "for item in metro_list:\n",
    "    pytrend.build_payload(kw_list, cat=None, timeframe='2014-01-01 2020-01-01', geo=item) \n",
    "\n",
    "    df = pytrend.interest_over_time()\n",
    "    df['metro_code']=item\n",
    "    df2=df2.append(df)"
   ]
  },
  {
   "cell_type": "code",
   "execution_count": null,
   "id": "2845714e",
   "metadata": {},
   "outputs": [],
   "source": [
    "df3 = df2.copy()"
   ]
  },
  {
   "cell_type": "code",
   "execution_count": null,
   "id": "f8074fad",
   "metadata": {},
   "outputs": [],
   "source": [
    "df2['metro_code'] = df2['metro_code'].map(lambda x: x[3:])"
   ]
  },
  {
   "cell_type": "code",
   "execution_count": null,
   "id": "29a5d0f4",
   "metadata": {},
   "outputs": [],
   "source": [
    "df2['Metro'] = df2['metro_code'].map(lambda x: metro_code_dict[x])"
   ]
  },
  {
   "cell_type": "code",
   "execution_count": null,
   "id": "2f361a38",
   "metadata": {},
   "outputs": [],
   "source": [
    "df2 = df2.reset_index(drop=False).sort_values(['Metro', 'date'])"
   ]
  },
  {
   "cell_type": "code",
   "execution_count": null,
   "id": "9e553124",
   "metadata": {},
   "outputs": [],
   "source": [
    "zillow = pd.read_csv('./../data/zri_acs_bikeshare_merged.csv')"
   ]
  },
  {
   "cell_type": "code",
   "execution_count": null,
   "id": "a4ee981c",
   "metadata": {},
   "outputs": [],
   "source": [
    "zillow = pd.DataFrame(zillow['Metro']).drop_duplicates().reset_index(drop=True).rename(columns = {'Metro':'Metro_zillow'})"
   ]
  },
  {
   "cell_type": "code",
   "execution_count": null,
   "id": "7d8c8e78",
   "metadata": {},
   "outputs": [],
   "source": [
    "zillow['Metro'] = zillow['Metro_zillow'].map(lambda x: metro_dict[x].lower())"
   ]
  },
  {
   "cell_type": "code",
   "execution_count": null,
   "id": "6d97a493",
   "metadata": {},
   "outputs": [],
   "source": [
    "merged = pd.merge(zillow, df2, on = 'Metro', how = 'left')"
   ]
  },
  {
   "cell_type": "code",
   "execution_count": null,
   "id": "218c1c66",
   "metadata": {},
   "outputs": [],
   "source": [
    "merged = merged.drop(columns = ['Metro', 'metro_code']).rename(columns = {'Metro_zillow': 'Metro', 'date':'datetime'})"
   ]
  },
  {
   "cell_type": "code",
   "execution_count": null,
   "id": "a698239a",
   "metadata": {},
   "outputs": [],
   "source": [
    "for item in kw_list:\n",
    "    merged[f'rel_pop_{item}'] = np.nan"
   ]
  },
  {
   "cell_type": "code",
   "execution_count": null,
   "id": "ec02a99f",
   "metadata": {},
   "outputs": [],
   "source": [
    "for metro in merged['Metro'].unique():\n",
    "    temp = merged.loc[merged['Metro']==metro,:]\n",
    "    max_col = None\n",
    "    max_pop = 0\n",
    "    for col in temp.columns[3:3+len(kw_list)]:\n",
    "        if max(temp[col]) > max_pop:\n",
    "            max_col = col\n",
    "            max_pop = max(temp[col])\n",
    "\n",
    "    for col in temp.columns[3:3+len(kw_list)]:\n",
    "        temp[f'rel_pop_{col}'] = max(temp[col])\n",
    "        temp[col] = temp[col] * 100 / max(temp[col])\n",
    "    merged.loc[merged['Metro']==metro,:] = temp"
   ]
  },
  {
   "cell_type": "code",
   "execution_count": null,
   "id": "c7f224d0",
   "metadata": {},
   "outputs": [],
   "source": [
    "merged"
   ]
  },
  {
   "cell_type": "code",
   "execution_count": null,
   "id": "dcd1db7e",
   "metadata": {},
   "outputs": [],
   "source": [
    "merged.to_csv('./google_terms_disasters.csv', index = 0)"
   ]
  },
  {
   "cell_type": "code",
   "execution_count": null,
   "id": "87828e5a",
   "metadata": {},
   "outputs": [],
   "source": []
  }
 ],
 "metadata": {
  "kernelspec": {
   "display_name": "Python [conda env:env1] *",
   "language": "python",
   "name": "conda-env-env1-py"
  },
  "language_info": {
   "codemirror_mode": {
    "name": "ipython",
    "version": 3
   },
   "file_extension": ".py",
   "mimetype": "text/x-python",
   "name": "python",
   "nbconvert_exporter": "python",
   "pygments_lexer": "ipython3",
   "version": "3.8.11"
  }
 },
 "nbformat": 4,
 "nbformat_minor": 5
}
