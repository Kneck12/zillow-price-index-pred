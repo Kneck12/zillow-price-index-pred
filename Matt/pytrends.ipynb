{
 "cells": [
  {
   "cell_type": "code",
   "execution_count": null,
   "id": "98c7f8a5",
   "metadata": {},
   "outputs": [],
   "source": [
    "import pandas as pd\n",
    "from pytrends.request import TrendReq\n",
    "pytrend = TrendReq()\n",
    "pd.set_option('display.max_rows', 5000)\n",
    "\n",
    "state_list = [\"AL\", \"AK\", \"AZ\", \"AR\", \"CA\", \"CO\", \"CT\", \"DC\", \"DE\", \"FL\", \"GA\",\n",
    "          \"HI\", \"ID\", \"IL\", \"IN\", \"IA\", \"KS\", \"KY\", \"LA\", \"ME\", \"MD\",\n",
    "          \"MA\", \"MI\", \"MN\", \"MS\", \"MO\", \"MT\", \"NE\", \"NV\", \"NH\", \"NJ\",\n",
    "          \"NM\", \"NY\", \"NC\", \"ND\", \"OH\", \"OK\", \"OR\", \"PA\", \"RI\", \"SC\",\n",
    "          \"SD\", \"TN\", \"TX\", \"UT\", \"VT\", \"VA\", \"WA\", \"WV\", \"WI\", \"WY\"]\n",
    "state_list_ext=[]\n",
    "for state in state_list:\n",
    "    state_list_ext.append(\"US-\" + state)\n",
    "#----------------------\n",
    "kw_list=['Fire','Water Damage','Smoke','Wildfire','Flooding']\n",
    "df2=pd.DataFrame(columns=['date','isPartial','State'])\n",
    "df2=df2.set_index('date')\n",
    "for state in state_list_ext:\n",
    "    pytrend.build_payload(kw_list, cat=None, timeframe='2010-01-01 2021-01-01', geo=state)\n",
    "    df = pytrend.interest_over_time()\n",
    "    df['State']=state\n",
    "    df2=df2.append(df)"
   ]
  }
 ],
 "metadata": {
  "kernelspec": {
   "display_name": "Python [conda env:env1] *",
   "language": "python",
   "name": "conda-env-env1-py"
  },
  "language_info": {
   "codemirror_mode": {
    "name": "ipython",
    "version": 3
   },
   "file_extension": ".py",
   "mimetype": "text/x-python",
   "name": "python",
   "nbconvert_exporter": "python",
   "pygments_lexer": "ipython3",
   "version": "3.8.11"
  }
 },
 "nbformat": 4,
 "nbformat_minor": 5
}
