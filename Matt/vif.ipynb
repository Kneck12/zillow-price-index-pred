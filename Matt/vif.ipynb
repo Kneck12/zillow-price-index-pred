{
 "cells": [
  {
   "cell_type": "code",
   "execution_count": 84,
   "id": "9b3749ab",
   "metadata": {},
   "outputs": [],
   "source": [
    "from statsmodels.stats.outliers_influence import variance_inflation_factor\n",
    "import pandas as pd\n",
    "import numpy as np\n",
    "import plotly.express as px\n",
    "import plotly.graph_objects as go\n",
    "from datetime import datetime\n",
    "import pmdarima as pm\n",
    "from pmdarima.utils import diff\n",
    "from sklearn.metrics import mean_squared_error\n",
    "import pickle\n",
    "import sklearn\n",
    "import statsmodels.tsa.statespace as sm\n",
    "from sklearn.preprocessing import StandardScaler"
   ]
  },
  {
   "cell_type": "code",
   "execution_count": 85,
   "id": "975b1d3d",
   "metadata": {},
   "outputs": [],
   "source": [
    "pd.set_option('display.max_rows', 500)"
   ]
  },
  {
   "cell_type": "code",
   "execution_count": 86,
   "id": "d32c2ee6",
   "metadata": {},
   "outputs": [],
   "source": [
    "df = pd.read_csv('./../data/full_dataset_unscaled.csv')\n",
    "df['zip'] = df['zip'].map(lambda x: str(x))\n",
    "df['zip'] = df['zip'].map(lambda x: '0' + x if len(x)<5 else x)\n",
    "df['datetime']=df['datetime'].map(lambda x: datetime.strptime(x, '%Y-%m-%d'))\n",
    "df = df.set_index('datetime')"
   ]
  },
  {
   "cell_type": "code",
   "execution_count": 87,
   "id": "a06648d2",
   "metadata": {},
   "outputs": [],
   "source": [
    "dropcols = ['percent_other_race','has_bike_sharing','bs_total_systems','percent_40_64','percent_0_17','percent_18_39',\n",
    "       'percent_65+','percent_rental_units_vacant','percent_not_us_citizen','percent_less_highschool', 'percent_buildings_less_10_units',\n",
    " 'percent_commute_30_to_59',\n",
    " 'percent_commute_60_to_89',\n",
    " 'percent_commute_90_more', 'percent_commute_less_30','percent_graduate_deg', 'percent_female','gini_index','percent_hispanic','percent_black','percent_bachelors','percent_asian','percent_new_city','percent_new_unit']"
   ]
  },
  {
   "cell_type": "code",
   "execution_count": 88,
   "id": "d4401d7d",
   "metadata": {},
   "outputs": [],
   "source": [
    "df = df.drop(columns = dropcols)"
   ]
  },
  {
   "cell_type": "code",
   "execution_count": 89,
   "id": "560175b8",
   "metadata": {},
   "outputs": [],
   "source": [
    "df = df[df['year']>=2015]"
   ]
  },
  {
   "cell_type": "code",
   "execution_count": 90,
   "id": "3486a2b7",
   "metadata": {},
   "outputs": [],
   "source": [
    "x = df.drop(columns = ['zip','year', 'month', 'City', 'State', 'Metro', 'CountyName', 'zri'])"
   ]
  },
  {
   "cell_type": "code",
   "execution_count": 91,
   "id": "ad84b606",
   "metadata": {},
   "outputs": [],
   "source": [
    "acs_cols = set([\n",
    "    'percent_white',\n",
    "    'percent_black',\n",
    "    'percent_asian',\n",
    "    'percent_hispanic',\n",
    "    'percent_native_am',\n",
    "    'percent_other_race',\n",
    "    'percent_0_17',\n",
    "    'percent_18_39',\n",
    "    'percent_40_64',\n",
    "    'percent_65+',\n",
    "    'percent_rental_units_vacant',\n",
    "    'percent_rental_units_occupied',\n",
    "    'percent_graduate_deg',\n",
    "    'percent_bachelors',\n",
    "    'percent_associates',\n",
    "    'percent_highschool',\n",
    "    'percent_less_highschool',\n",
    "    'percent_commute_public_transport',\n",
    "    'percent_commute_less_30',\n",
    "    'percent_buildings_less_10_units',\n",
    "    'percent_buildings_10_19_units',\n",
    "    'percent_buildings_20_49_units',\n",
    "    'percent_buildings_50+_units',\n",
    "    'percent_commute_30_to_59',\n",
    "    'percent_commute_60_to_89',\n",
    "    'percent_commute_90_more',\n",
    "    'percent_new_city',\n",
    "    'percent_new_unit',\n",
    "    'percent_units_owner_occupied',\n",
    "    'median_building_age',\n",
    "    'income_per_capita',\n",
    "    'poverty_rate',\n",
    "    'total_pop',\n",
    "    'percent_workforce_unemployed',\n",
    "    'percent_work_from_home',\n",
    "    'median_age',\n",
    "    'percent_female',\n",
    "    'gini_index',\n",
    "    'percent_not_us_citizen'])\n",
    "bikeshare_cols = set([\n",
    "    'bs_total_stations',\n",
    "    'bs_total_systems',\n",
    "    'has_bike_sharing'])\n",
    "trends_cols = set([\n",
    "    'gun range',\n",
    "    'gun control',\n",
    "    'gun violence',\n",
    "    'job opportunities',\n",
    "    'unemployment',\n",
    "    'retirement',\n",
    "    'layoff',\n",
    "    'lgbt',\n",
    "    'same sex marriage',\n",
    "    'they',\n",
    "    'pronouns',\n",
    "    'black lives matter',\n",
    "    'political correctness',\n",
    "    'make america great again',\n",
    "    'euthanasia',\n",
    "    'getaway',\n",
    "    'places to go',\n",
    "    'flight tickets',\n",
    "    'twitter',\n",
    "    'hashtag',\n",
    "    'fake news',\n",
    "    'hurricane',\n",
    "    'wildfire',\n",
    "    'flood',\n",
    "    'fire',\n",
    "    \"trader joe's\",\n",
    "    'whole foods',\n",
    "    'lululemon',\n",
    "    'thrift',\n",
    "    'condos for rent',\n",
    "    'duplex apartments for rent',\n",
    "    'townhomes for rent',\n",
    "    'townhouses for rent',\n",
    "    'home for rent',\n",
    "    'house for rent',\n",
    "    'townhome for rent',\n",
    "    'townhouse for rent',\n",
    "    'apartment for rent',\n",
    "    'studio for rent',\n",
    "    '1 bedroom for rent',\n",
    "    '3 bedroom for rent',\n",
    "    'starbucks'])\n",
    "bds_cols = set([\n",
    "    'total_firms',\n",
    "    'job_creation_rate',\n",
    "    'job_destruction_rate',\n",
    "    'startup_firms'])\n",
    "tax_cols = ('state_local_perc')"
   ]
  },
  {
   "cell_type": "code",
   "execution_count": 92,
   "id": "bcccdc76",
   "metadata": {},
   "outputs": [],
   "source": [
    "acs_cols = acs_cols - set(dropcols)\n",
    "bds_cols = bds_cols -set(dropcols)\n",
    "trends_cols = trends_cols - set(dropcols)\n",
    "bikeshare_cols = bikeshare_cols = set(dropcols)"
   ]
  },
  {
   "cell_type": "code",
   "execution_count": 93,
   "id": "490bd76b",
   "metadata": {},
   "outputs": [],
   "source": [
    "x2 = x.loc[:, list(acs_cols)]"
   ]
  },
  {
   "cell_type": "code",
   "execution_count": 94,
   "id": "b4862d8f",
   "metadata": {},
   "outputs": [],
   "source": [
    "vif_df2 = pd.DataFrame()\n",
    "vif_df2['feature'] = x2.columns\n",
    "vif_df2['vif'] = [variance_inflation_factor(x2.values, i)\n",
    "                          for i in range(len(x2.columns))]"
   ]
  },
  {
   "cell_type": "code",
   "execution_count": 95,
   "id": "3e619cc4",
   "metadata": {
    "scrolled": false
   },
   "outputs": [
    {
     "data": {
      "text/html": [
       "<div>\n",
       "<style scoped>\n",
       "    .dataframe tbody tr th:only-of-type {\n",
       "        vertical-align: middle;\n",
       "    }\n",
       "\n",
       "    .dataframe tbody tr th {\n",
       "        vertical-align: top;\n",
       "    }\n",
       "\n",
       "    .dataframe thead th {\n",
       "        text-align: right;\n",
       "    }\n",
       "</style>\n",
       "<table border=\"1\" class=\"dataframe\">\n",
       "  <thead>\n",
       "    <tr style=\"text-align: right;\">\n",
       "      <th></th>\n",
       "      <th>feature</th>\n",
       "      <th>vif</th>\n",
       "    </tr>\n",
       "  </thead>\n",
       "  <tbody>\n",
       "    <tr>\n",
       "      <th>0</th>\n",
       "      <td>percent_highschool</td>\n",
       "      <td>26.605328</td>\n",
       "    </tr>\n",
       "    <tr>\n",
       "      <th>1</th>\n",
       "      <td>percent_rental_units_occupied</td>\n",
       "      <td>205.045894</td>\n",
       "    </tr>\n",
       "    <tr>\n",
       "      <th>2</th>\n",
       "      <td>percent_native_am</td>\n",
       "      <td>1.290787</td>\n",
       "    </tr>\n",
       "    <tr>\n",
       "      <th>3</th>\n",
       "      <td>percent_buildings_10_19_units</td>\n",
       "      <td>6.317504</td>\n",
       "    </tr>\n",
       "    <tr>\n",
       "      <th>4</th>\n",
       "      <td>percent_workforce_unemployed</td>\n",
       "      <td>17.142018</td>\n",
       "    </tr>\n",
       "    <tr>\n",
       "      <th>5</th>\n",
       "      <td>percent_buildings_50+_units</td>\n",
       "      <td>5.946151</td>\n",
       "    </tr>\n",
       "    <tr>\n",
       "      <th>6</th>\n",
       "      <td>percent_work_from_home</td>\n",
       "      <td>10.242374</td>\n",
       "    </tr>\n",
       "    <tr>\n",
       "      <th>7</th>\n",
       "      <td>median_age</td>\n",
       "      <td>115.802069</td>\n",
       "    </tr>\n",
       "    <tr>\n",
       "      <th>8</th>\n",
       "      <td>percent_white</td>\n",
       "      <td>11.645166</td>\n",
       "    </tr>\n",
       "    <tr>\n",
       "      <th>9</th>\n",
       "      <td>percent_buildings_20_49_units</td>\n",
       "      <td>5.382392</td>\n",
       "    </tr>\n",
       "    <tr>\n",
       "      <th>10</th>\n",
       "      <td>poverty_rate</td>\n",
       "      <td>19.014894</td>\n",
       "    </tr>\n",
       "    <tr>\n",
       "      <th>11</th>\n",
       "      <td>percent_associates</td>\n",
       "      <td>31.559835</td>\n",
       "    </tr>\n",
       "    <tr>\n",
       "      <th>12</th>\n",
       "      <td>percent_commute_public_transport</td>\n",
       "      <td>4.242827</td>\n",
       "    </tr>\n",
       "    <tr>\n",
       "      <th>13</th>\n",
       "      <td>percent_units_owner_occupied</td>\n",
       "      <td>41.178303</td>\n",
       "    </tr>\n",
       "    <tr>\n",
       "      <th>14</th>\n",
       "      <td>total_pop</td>\n",
       "      <td>7.810856</td>\n",
       "    </tr>\n",
       "    <tr>\n",
       "      <th>15</th>\n",
       "      <td>median_building_age</td>\n",
       "      <td>22.660174</td>\n",
       "    </tr>\n",
       "    <tr>\n",
       "      <th>16</th>\n",
       "      <td>income_per_capita</td>\n",
       "      <td>26.635351</td>\n",
       "    </tr>\n",
       "  </tbody>\n",
       "</table>\n",
       "</div>"
      ],
      "text/plain": [
       "                             feature         vif\n",
       "0                 percent_highschool   26.605328\n",
       "1      percent_rental_units_occupied  205.045894\n",
       "2                  percent_native_am    1.290787\n",
       "3      percent_buildings_10_19_units    6.317504\n",
       "4       percent_workforce_unemployed   17.142018\n",
       "5        percent_buildings_50+_units    5.946151\n",
       "6             percent_work_from_home   10.242374\n",
       "7                         median_age  115.802069\n",
       "8                      percent_white   11.645166\n",
       "9      percent_buildings_20_49_units    5.382392\n",
       "10                      poverty_rate   19.014894\n",
       "11                percent_associates   31.559835\n",
       "12  percent_commute_public_transport    4.242827\n",
       "13      percent_units_owner_occupied   41.178303\n",
       "14                         total_pop    7.810856\n",
       "15               median_building_age   22.660174\n",
       "16                 income_per_capita   26.635351"
      ]
     },
     "execution_count": 95,
     "metadata": {},
     "output_type": "execute_result"
    }
   ],
   "source": [
    "vif_df2"
   ]
  },
  {
   "cell_type": "code",
   "execution_count": 96,
   "id": "cea79abb",
   "metadata": {},
   "outputs": [
    {
     "data": {
      "text/plain": [
       "32.85423085910149"
      ]
     },
     "execution_count": 96,
     "metadata": {},
     "output_type": "execute_result"
    }
   ],
   "source": [
    "np.mean(vif_df2['vif'])"
   ]
  },
  {
   "cell_type": "code",
   "execution_count": null,
   "id": "33269236",
   "metadata": {},
   "outputs": [],
   "source": []
  }
 ],
 "metadata": {
  "kernelspec": {
   "display_name": "Python [conda env:env1] *",
   "language": "python",
   "name": "conda-env-env1-py"
  },
  "language_info": {
   "codemirror_mode": {
    "name": "ipython",
    "version": 3
   },
   "file_extension": ".py",
   "mimetype": "text/x-python",
   "name": "python",
   "nbconvert_exporter": "python",
   "pygments_lexer": "ipython3",
   "version": "3.8.11"
  }
 },
 "nbformat": 4,
 "nbformat_minor": 5
}
