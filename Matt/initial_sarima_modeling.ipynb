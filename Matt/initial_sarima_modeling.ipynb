{
 "cells": [
  {
   "cell_type": "code",
   "execution_count": 1,
   "id": "561b27b8",
   "metadata": {},
   "outputs": [],
   "source": [
    "import pandas as pd\n",
    "import numpy as np\n",
    "import plotly.express as px\n",
    "import plotly.graph_objects as go\n",
    "from datetime import datetime\n",
    "import pmdarima as pm\n",
    "from pmdarima.utils import diff\n",
    "from sklearn.metrics import mean_squared_error\n",
    "from pmdarima.metrics import smape\n",
    "import pickle"
   ]
  },
  {
   "cell_type": "code",
   "execution_count": 2,
   "id": "b4b11307",
   "metadata": {},
   "outputs": [
    {
     "ename": "FileNotFoundError",
     "evalue": "[Errno 2] No such file or directory: './allhomes_census_merged.csv'",
     "output_type": "error",
     "traceback": [
      "\u001b[1;31m---------------------------------------------------------------------------\u001b[0m",
      "\u001b[1;31mFileNotFoundError\u001b[0m                         Traceback (most recent call last)",
      "\u001b[1;32m~\\AppData\\Local\\Temp/ipykernel_13240/926174691.py\u001b[0m in \u001b[0;36m<module>\u001b[1;34m\u001b[0m\n\u001b[1;32m----> 1\u001b[1;33m \u001b[0mdf\u001b[0m \u001b[1;33m=\u001b[0m \u001b[0mpd\u001b[0m\u001b[1;33m.\u001b[0m\u001b[0mread_csv\u001b[0m\u001b[1;33m(\u001b[0m\u001b[1;34m'./allhomes_census_merged.csv'\u001b[0m\u001b[1;33m)\u001b[0m\u001b[1;33m\u001b[0m\u001b[1;33m\u001b[0m\u001b[0m\n\u001b[0m",
      "\u001b[1;32m~\\anaconda3\\envs\\env1\\lib\\site-packages\\pandas\\util\\_decorators.py\u001b[0m in \u001b[0;36mwrapper\u001b[1;34m(*args, **kwargs)\u001b[0m\n\u001b[0;32m    309\u001b[0m                     \u001b[0mstacklevel\u001b[0m\u001b[1;33m=\u001b[0m\u001b[0mstacklevel\u001b[0m\u001b[1;33m,\u001b[0m\u001b[1;33m\u001b[0m\u001b[1;33m\u001b[0m\u001b[0m\n\u001b[0;32m    310\u001b[0m                 )\n\u001b[1;32m--> 311\u001b[1;33m             \u001b[1;32mreturn\u001b[0m \u001b[0mfunc\u001b[0m\u001b[1;33m(\u001b[0m\u001b[1;33m*\u001b[0m\u001b[0margs\u001b[0m\u001b[1;33m,\u001b[0m \u001b[1;33m**\u001b[0m\u001b[0mkwargs\u001b[0m\u001b[1;33m)\u001b[0m\u001b[1;33m\u001b[0m\u001b[1;33m\u001b[0m\u001b[0m\n\u001b[0m\u001b[0;32m    312\u001b[0m \u001b[1;33m\u001b[0m\u001b[0m\n\u001b[0;32m    313\u001b[0m         \u001b[1;32mreturn\u001b[0m \u001b[0mwrapper\u001b[0m\u001b[1;33m\u001b[0m\u001b[1;33m\u001b[0m\u001b[0m\n",
      "\u001b[1;32m~\\anaconda3\\envs\\env1\\lib\\site-packages\\pandas\\io\\parsers\\readers.py\u001b[0m in \u001b[0;36mread_csv\u001b[1;34m(filepath_or_buffer, sep, delimiter, header, names, index_col, usecols, squeeze, prefix, mangle_dupe_cols, dtype, engine, converters, true_values, false_values, skipinitialspace, skiprows, skipfooter, nrows, na_values, keep_default_na, na_filter, verbose, skip_blank_lines, parse_dates, infer_datetime_format, keep_date_col, date_parser, dayfirst, cache_dates, iterator, chunksize, compression, thousands, decimal, lineterminator, quotechar, quoting, doublequote, escapechar, comment, encoding, encoding_errors, dialect, error_bad_lines, warn_bad_lines, on_bad_lines, delim_whitespace, low_memory, memory_map, float_precision, storage_options)\u001b[0m\n\u001b[0;32m    584\u001b[0m     \u001b[0mkwds\u001b[0m\u001b[1;33m.\u001b[0m\u001b[0mupdate\u001b[0m\u001b[1;33m(\u001b[0m\u001b[0mkwds_defaults\u001b[0m\u001b[1;33m)\u001b[0m\u001b[1;33m\u001b[0m\u001b[1;33m\u001b[0m\u001b[0m\n\u001b[0;32m    585\u001b[0m \u001b[1;33m\u001b[0m\u001b[0m\n\u001b[1;32m--> 586\u001b[1;33m     \u001b[1;32mreturn\u001b[0m \u001b[0m_read\u001b[0m\u001b[1;33m(\u001b[0m\u001b[0mfilepath_or_buffer\u001b[0m\u001b[1;33m,\u001b[0m \u001b[0mkwds\u001b[0m\u001b[1;33m)\u001b[0m\u001b[1;33m\u001b[0m\u001b[1;33m\u001b[0m\u001b[0m\n\u001b[0m\u001b[0;32m    587\u001b[0m \u001b[1;33m\u001b[0m\u001b[0m\n\u001b[0;32m    588\u001b[0m \u001b[1;33m\u001b[0m\u001b[0m\n",
      "\u001b[1;32m~\\anaconda3\\envs\\env1\\lib\\site-packages\\pandas\\io\\parsers\\readers.py\u001b[0m in \u001b[0;36m_read\u001b[1;34m(filepath_or_buffer, kwds)\u001b[0m\n\u001b[0;32m    480\u001b[0m \u001b[1;33m\u001b[0m\u001b[0m\n\u001b[0;32m    481\u001b[0m     \u001b[1;31m# Create the parser.\u001b[0m\u001b[1;33m\u001b[0m\u001b[1;33m\u001b[0m\u001b[1;33m\u001b[0m\u001b[0m\n\u001b[1;32m--> 482\u001b[1;33m     \u001b[0mparser\u001b[0m \u001b[1;33m=\u001b[0m \u001b[0mTextFileReader\u001b[0m\u001b[1;33m(\u001b[0m\u001b[0mfilepath_or_buffer\u001b[0m\u001b[1;33m,\u001b[0m \u001b[1;33m**\u001b[0m\u001b[0mkwds\u001b[0m\u001b[1;33m)\u001b[0m\u001b[1;33m\u001b[0m\u001b[1;33m\u001b[0m\u001b[0m\n\u001b[0m\u001b[0;32m    483\u001b[0m \u001b[1;33m\u001b[0m\u001b[0m\n\u001b[0;32m    484\u001b[0m     \u001b[1;32mif\u001b[0m \u001b[0mchunksize\u001b[0m \u001b[1;32mor\u001b[0m \u001b[0miterator\u001b[0m\u001b[1;33m:\u001b[0m\u001b[1;33m\u001b[0m\u001b[1;33m\u001b[0m\u001b[0m\n",
      "\u001b[1;32m~\\anaconda3\\envs\\env1\\lib\\site-packages\\pandas\\io\\parsers\\readers.py\u001b[0m in \u001b[0;36m__init__\u001b[1;34m(self, f, engine, **kwds)\u001b[0m\n\u001b[0;32m    809\u001b[0m             \u001b[0mself\u001b[0m\u001b[1;33m.\u001b[0m\u001b[0moptions\u001b[0m\u001b[1;33m[\u001b[0m\u001b[1;34m\"has_index_names\"\u001b[0m\u001b[1;33m]\u001b[0m \u001b[1;33m=\u001b[0m \u001b[0mkwds\u001b[0m\u001b[1;33m[\u001b[0m\u001b[1;34m\"has_index_names\"\u001b[0m\u001b[1;33m]\u001b[0m\u001b[1;33m\u001b[0m\u001b[1;33m\u001b[0m\u001b[0m\n\u001b[0;32m    810\u001b[0m \u001b[1;33m\u001b[0m\u001b[0m\n\u001b[1;32m--> 811\u001b[1;33m         \u001b[0mself\u001b[0m\u001b[1;33m.\u001b[0m\u001b[0m_engine\u001b[0m \u001b[1;33m=\u001b[0m \u001b[0mself\u001b[0m\u001b[1;33m.\u001b[0m\u001b[0m_make_engine\u001b[0m\u001b[1;33m(\u001b[0m\u001b[0mself\u001b[0m\u001b[1;33m.\u001b[0m\u001b[0mengine\u001b[0m\u001b[1;33m)\u001b[0m\u001b[1;33m\u001b[0m\u001b[1;33m\u001b[0m\u001b[0m\n\u001b[0m\u001b[0;32m    812\u001b[0m \u001b[1;33m\u001b[0m\u001b[0m\n\u001b[0;32m    813\u001b[0m     \u001b[1;32mdef\u001b[0m \u001b[0mclose\u001b[0m\u001b[1;33m(\u001b[0m\u001b[0mself\u001b[0m\u001b[1;33m)\u001b[0m\u001b[1;33m:\u001b[0m\u001b[1;33m\u001b[0m\u001b[1;33m\u001b[0m\u001b[0m\n",
      "\u001b[1;32m~\\anaconda3\\envs\\env1\\lib\\site-packages\\pandas\\io\\parsers\\readers.py\u001b[0m in \u001b[0;36m_make_engine\u001b[1;34m(self, engine)\u001b[0m\n\u001b[0;32m   1038\u001b[0m             )\n\u001b[0;32m   1039\u001b[0m         \u001b[1;31m# error: Too many arguments for \"ParserBase\"\u001b[0m\u001b[1;33m\u001b[0m\u001b[1;33m\u001b[0m\u001b[1;33m\u001b[0m\u001b[0m\n\u001b[1;32m-> 1040\u001b[1;33m         \u001b[1;32mreturn\u001b[0m \u001b[0mmapping\u001b[0m\u001b[1;33m[\u001b[0m\u001b[0mengine\u001b[0m\u001b[1;33m]\u001b[0m\u001b[1;33m(\u001b[0m\u001b[0mself\u001b[0m\u001b[1;33m.\u001b[0m\u001b[0mf\u001b[0m\u001b[1;33m,\u001b[0m \u001b[1;33m**\u001b[0m\u001b[0mself\u001b[0m\u001b[1;33m.\u001b[0m\u001b[0moptions\u001b[0m\u001b[1;33m)\u001b[0m  \u001b[1;31m# type: ignore[call-arg]\u001b[0m\u001b[1;33m\u001b[0m\u001b[1;33m\u001b[0m\u001b[0m\n\u001b[0m\u001b[0;32m   1041\u001b[0m \u001b[1;33m\u001b[0m\u001b[0m\n\u001b[0;32m   1042\u001b[0m     \u001b[1;32mdef\u001b[0m \u001b[0m_failover_to_python\u001b[0m\u001b[1;33m(\u001b[0m\u001b[0mself\u001b[0m\u001b[1;33m)\u001b[0m\u001b[1;33m:\u001b[0m\u001b[1;33m\u001b[0m\u001b[1;33m\u001b[0m\u001b[0m\n",
      "\u001b[1;32m~\\anaconda3\\envs\\env1\\lib\\site-packages\\pandas\\io\\parsers\\c_parser_wrapper.py\u001b[0m in \u001b[0;36m__init__\u001b[1;34m(self, src, **kwds)\u001b[0m\n\u001b[0;32m     49\u001b[0m \u001b[1;33m\u001b[0m\u001b[0m\n\u001b[0;32m     50\u001b[0m         \u001b[1;31m# open handles\u001b[0m\u001b[1;33m\u001b[0m\u001b[1;33m\u001b[0m\u001b[1;33m\u001b[0m\u001b[0m\n\u001b[1;32m---> 51\u001b[1;33m         \u001b[0mself\u001b[0m\u001b[1;33m.\u001b[0m\u001b[0m_open_handles\u001b[0m\u001b[1;33m(\u001b[0m\u001b[0msrc\u001b[0m\u001b[1;33m,\u001b[0m \u001b[0mkwds\u001b[0m\u001b[1;33m)\u001b[0m\u001b[1;33m\u001b[0m\u001b[1;33m\u001b[0m\u001b[0m\n\u001b[0m\u001b[0;32m     52\u001b[0m         \u001b[1;32massert\u001b[0m \u001b[0mself\u001b[0m\u001b[1;33m.\u001b[0m\u001b[0mhandles\u001b[0m \u001b[1;32mis\u001b[0m \u001b[1;32mnot\u001b[0m \u001b[1;32mNone\u001b[0m\u001b[1;33m\u001b[0m\u001b[1;33m\u001b[0m\u001b[0m\n\u001b[0;32m     53\u001b[0m \u001b[1;33m\u001b[0m\u001b[0m\n",
      "\u001b[1;32m~\\anaconda3\\envs\\env1\\lib\\site-packages\\pandas\\io\\parsers\\base_parser.py\u001b[0m in \u001b[0;36m_open_handles\u001b[1;34m(self, src, kwds)\u001b[0m\n\u001b[0;32m    220\u001b[0m         \u001b[0mLet\u001b[0m \u001b[0mthe\u001b[0m \u001b[0mreaders\u001b[0m \u001b[0mopen\u001b[0m \u001b[0mIOHandles\u001b[0m \u001b[0mafter\u001b[0m \u001b[0mthey\u001b[0m \u001b[0mare\u001b[0m \u001b[0mdone\u001b[0m \u001b[1;32mwith\u001b[0m \u001b[0mtheir\u001b[0m \u001b[0mpotential\u001b[0m \u001b[0mraises\u001b[0m\u001b[1;33m.\u001b[0m\u001b[1;33m\u001b[0m\u001b[1;33m\u001b[0m\u001b[0m\n\u001b[0;32m    221\u001b[0m         \"\"\"\n\u001b[1;32m--> 222\u001b[1;33m         self.handles = get_handle(\n\u001b[0m\u001b[0;32m    223\u001b[0m             \u001b[0msrc\u001b[0m\u001b[1;33m,\u001b[0m\u001b[1;33m\u001b[0m\u001b[1;33m\u001b[0m\u001b[0m\n\u001b[0;32m    224\u001b[0m             \u001b[1;34m\"r\"\u001b[0m\u001b[1;33m,\u001b[0m\u001b[1;33m\u001b[0m\u001b[1;33m\u001b[0m\u001b[0m\n",
      "\u001b[1;32m~\\anaconda3\\envs\\env1\\lib\\site-packages\\pandas\\io\\common.py\u001b[0m in \u001b[0;36mget_handle\u001b[1;34m(path_or_buf, mode, encoding, compression, memory_map, is_text, errors, storage_options)\u001b[0m\n\u001b[0;32m    699\u001b[0m         \u001b[1;32mif\u001b[0m \u001b[0mioargs\u001b[0m\u001b[1;33m.\u001b[0m\u001b[0mencoding\u001b[0m \u001b[1;32mand\u001b[0m \u001b[1;34m\"b\"\u001b[0m \u001b[1;32mnot\u001b[0m \u001b[1;32min\u001b[0m \u001b[0mioargs\u001b[0m\u001b[1;33m.\u001b[0m\u001b[0mmode\u001b[0m\u001b[1;33m:\u001b[0m\u001b[1;33m\u001b[0m\u001b[1;33m\u001b[0m\u001b[0m\n\u001b[0;32m    700\u001b[0m             \u001b[1;31m# Encoding\u001b[0m\u001b[1;33m\u001b[0m\u001b[1;33m\u001b[0m\u001b[1;33m\u001b[0m\u001b[0m\n\u001b[1;32m--> 701\u001b[1;33m             handle = open(\n\u001b[0m\u001b[0;32m    702\u001b[0m                 \u001b[0mhandle\u001b[0m\u001b[1;33m,\u001b[0m\u001b[1;33m\u001b[0m\u001b[1;33m\u001b[0m\u001b[0m\n\u001b[0;32m    703\u001b[0m                 \u001b[0mioargs\u001b[0m\u001b[1;33m.\u001b[0m\u001b[0mmode\u001b[0m\u001b[1;33m,\u001b[0m\u001b[1;33m\u001b[0m\u001b[1;33m\u001b[0m\u001b[0m\n",
      "\u001b[1;31mFileNotFoundError\u001b[0m: [Errno 2] No such file or directory: './allhomes_census_merged.csv'"
     ]
    }
   ],
   "source": [
    "df = pd.read_csv('./../data/allhomes_census_merged.csv')"
   ]
  },
  {
   "cell_type": "code",
   "execution_count": null,
   "id": "f96a6917",
   "metadata": {},
   "outputs": [],
   "source": [
    "df.rename(columns = {'ZRI':'zri'}, inplace = True)"
   ]
  },
  {
   "cell_type": "code",
   "execution_count": null,
   "id": "dfc113a7",
   "metadata": {},
   "outputs": [],
   "source": [
    "df['zip'] = df['zip'].map(lambda x: str(x))"
   ]
  },
  {
   "cell_type": "code",
   "execution_count": null,
   "id": "c77a6c05",
   "metadata": {},
   "outputs": [],
   "source": [
    "df['zip'].map(lambda x: len(x)).value_counts()"
   ]
  },
  {
   "cell_type": "code",
   "execution_count": null,
   "id": "152df89c",
   "metadata": {},
   "outputs": [],
   "source": [
    "df['zip'] = df['zip'].map(lambda x: '0' + x if len(x)<5 else x)"
   ]
  },
  {
   "cell_type": "code",
   "execution_count": null,
   "id": "fe1379f0",
   "metadata": {},
   "outputs": [],
   "source": [
    "df['zip'].map(lambda x: len(x)).value_counts()"
   ]
  },
  {
   "cell_type": "code",
   "execution_count": null,
   "id": "3a017045",
   "metadata": {},
   "outputs": [],
   "source": [
    "df['datetime']=df['datetime'].map(lambda x: datetime.strptime(x, '%Y-%m-%d'))"
   ]
  },
  {
   "cell_type": "code",
   "execution_count": null,
   "id": "51f482c0",
   "metadata": {},
   "outputs": [],
   "source": [
    "df"
   ]
  },
  {
   "cell_type": "code",
   "execution_count": null,
   "id": "fc489796",
   "metadata": {},
   "outputs": [],
   "source": [
    "# with open('./ts_df.pickle', mode = 'wb') as file:\n",
    "#     pickle.dump(df, file)\n",
    "#     file.close()"
   ]
  },
  {
   "cell_type": "code",
   "execution_count": null,
   "id": "ed2f055b",
   "metadata": {},
   "outputs": [],
   "source": [
    "train = df[df['year'] <= 2018]"
   ]
  },
  {
   "cell_type": "code",
   "execution_count": null,
   "id": "5515e5d3",
   "metadata": {},
   "outputs": [],
   "source": [
    "test = df[df['year'] == 2019]"
   ]
  },
  {
   "cell_type": "code",
   "execution_count": null,
   "id": "7e040362",
   "metadata": {},
   "outputs": [],
   "source": [
    "ytrain = pd.concat([train['zip'], train['datetime'], train['zri']], axis = 1)"
   ]
  },
  {
   "cell_type": "code",
   "execution_count": null,
   "id": "a0dca973",
   "metadata": {},
   "outputs": [],
   "source": [
    "ytrain['zip'].nunique()"
   ]
  },
  {
   "cell_type": "code",
   "execution_count": null,
   "id": "5329edf3",
   "metadata": {},
   "outputs": [],
   "source": [
    "ytrain"
   ]
  },
  {
   "cell_type": "code",
   "execution_count": null,
   "id": "6f2d32db",
   "metadata": {},
   "outputs": [],
   "source": [
    "zips = ytrain['zip'].unique()"
   ]
  },
  {
   "cell_type": "code",
   "execution_count": null,
   "id": "9f4bbe69",
   "metadata": {},
   "outputs": [],
   "source": [
    "zips"
   ]
  },
  {
   "cell_type": "markdown",
   "id": "4085e706",
   "metadata": {},
   "source": [
    "# Trying to make a model for every zip code\n",
    "Probably don't run the commented cells"
   ]
  },
  {
   "cell_type": "code",
   "execution_count": null,
   "id": "74bb300d",
   "metadata": {},
   "outputs": [],
   "source": [
    "arima = pm.arima.auto_arima"
   ]
  },
  {
   "cell_type": "code",
   "execution_count": null,
   "id": "6cc67869",
   "metadata": {},
   "outputs": [],
   "source": [
    "len(ts_dict['01001'])"
   ]
  },
  {
   "cell_type": "code",
   "execution_count": null,
   "id": "9d1a1f4f",
   "metadata": {},
   "outputs": [],
   "source": [
    "ts_dict['01001']"
   ]
  },
  {
   "cell_type": "code",
   "execution_count": null,
   "id": "e57dc454",
   "metadata": {},
   "outputs": [],
   "source": [
    "# save ts_dict as pickle to avoid runtime of splitting\n",
    "# with open('./ts_dict.pickle', mode = 'wb') as file:\n",
    "#     pickle.dump(ts_dict, file)\n",
    "#     file.close()"
   ]
  },
  {
   "cell_type": "code",
   "execution_count": null,
   "id": "4e8359d1",
   "metadata": {},
   "outputs": [],
   "source": [
    "# with open('./ts_dict.pickle', mode = 'rb') as file:\n",
    "#     asdf = pickle.load(file)"
   ]
  },
  {
   "cell_type": "code",
   "execution_count": null,
   "id": "b49478b5",
   "metadata": {},
   "outputs": [],
   "source": [
    "models_dict = {}"
   ]
  },
  {
   "cell_type": "code",
   "execution_count": null,
   "id": "71f3543a",
   "metadata": {
    "scrolled": true
   },
   "outputs": [],
   "source": [
    "# start = datetime.now()\n",
    "# for item in zips:\n",
    "#     curr_model = arima(ts_dict[item], start_p=0, start_q=0, m=12)\n",
    "#     models_dict[item] = (curr_model.order, curr_model.seasonal_order)\n",
    "# elapsed = datetime.now() - start\n",
    "# print(elapsed)"
   ]
  },
  {
   "cell_type": "code",
   "execution_count": null,
   "id": "c2774c31",
   "metadata": {},
   "outputs": [],
   "source": [
    "len(models_dict)"
   ]
  },
  {
   "cell_type": "code",
   "execution_count": null,
   "id": "527d1532",
   "metadata": {},
   "outputs": [],
   "source": [
    "len(ts_dict)"
   ]
  },
  {
   "cell_type": "code",
   "execution_count": null,
   "id": "7ba17dee",
   "metadata": {},
   "outputs": [],
   "source": [
    "(models_dict)"
   ]
  },
  {
   "cell_type": "markdown",
   "id": "d8d501df",
   "metadata": {},
   "source": [
    "# Example of one model on zip 27518\n",
    "\n",
    "Found good guidelines on what (p, d, q) mean and how to interpret them here:\n",
    "https://towardsdatascience.com/time-series-forecasting-arima-models-7f221e9eee06"
   ]
  },
  {
   "cell_type": "code",
   "execution_count": null,
   "id": "445be2f1",
   "metadata": {},
   "outputs": [],
   "source": [
    "df3 = train[train['zip']=='27518'].loc[:,['zri', 'datetime']]\n",
    "# filter for a random zip code and make a time series dataframe"
   ]
  },
  {
   "cell_type": "code",
   "execution_count": null,
   "id": "4493aa6b",
   "metadata": {},
   "outputs": [],
   "source": [
    "df3"
   ]
  },
  {
   "cell_type": "code",
   "execution_count": null,
   "id": "0e42cd46",
   "metadata": {},
   "outputs": [],
   "source": [
    "fig = px.line(df3, x = 'datetime', y = 'zri')\n",
    "fig\n",
    "# stationarity is a requirement for arima\n",
    "# stationary time series = the mean does not change over time\n",
    "# if there is an overall trend in the time-series you take differences"
   ]
  },
  {
   "cell_type": "code",
   "execution_count": null,
   "id": "efa73f0f",
   "metadata": {},
   "outputs": [],
   "source": [
    "pm.plot_acf(df3['zri'], lags = 50, alpha = 0.05)"
   ]
  },
  {
   "cell_type": "code",
   "execution_count": null,
   "id": "f5719752",
   "metadata": {},
   "outputs": [],
   "source": [
    "pm.plot_pacf(df3['zri'], lags = 20)"
   ]
  },
  {
   "cell_type": "code",
   "execution_count": null,
   "id": "cbe77689",
   "metadata": {},
   "outputs": [],
   "source": [
    "# pmdarima comes with a function to difference a time-series for you\n",
    "zri_dif = pm.arima.utils.diff(df3['zri'], 1, 1) # lag = 1 and number of differences = 1"
   ]
  },
  {
   "cell_type": "code",
   "execution_count": null,
   "id": "422a882a",
   "metadata": {},
   "outputs": [],
   "source": [
    "dif1 = df3.copy().iloc[1:,:] # drop 1st row bc first row always becomes nan when differencing"
   ]
  },
  {
   "cell_type": "code",
   "execution_count": null,
   "id": "5f8d563c",
   "metadata": {},
   "outputs": [],
   "source": [
    "dif1['zri']=zri_dif"
   ]
  },
  {
   "cell_type": "code",
   "execution_count": null,
   "id": "5d7ff794",
   "metadata": {},
   "outputs": [],
   "source": [
    "fig = px.line(dif1, x = 'datetime', y = 'zri')\n",
    "fig\n",
    "# now looks approximately stationary centered around 0"
   ]
  },
  {
   "cell_type": "code",
   "execution_count": null,
   "id": "748c2f0a",
   "metadata": {},
   "outputs": [],
   "source": [
    "pm.plot_acf(dif1['zri'], lags = 80)"
   ]
  },
  {
   "cell_type": "code",
   "execution_count": null,
   "id": "b6566098",
   "metadata": {},
   "outputs": [],
   "source": [
    "pm.plot_pacf(dif1['zri'], lags = 20)"
   ]
  },
  {
   "cell_type": "code",
   "execution_count": null,
   "id": "e0d753a3",
   "metadata": {},
   "outputs": [],
   "source": [
    "model = pm.arima.auto_arima(df3['zri'], start_p=0, start_q=0, m=12, test = 'kpss')\n",
    "model"
   ]
  },
  {
   "cell_type": "code",
   "execution_count": null,
   "id": "4e553c86",
   "metadata": {},
   "outputs": [],
   "source": [
    "model.order # model sees that you have to set d=1"
   ]
  },
  {
   "cell_type": "code",
   "execution_count": null,
   "id": "077c55c1",
   "metadata": {},
   "outputs": [],
   "source": [
    "model.summary()"
   ]
  },
  {
   "cell_type": "code",
   "execution_count": null,
   "id": "eb6b7e17",
   "metadata": {},
   "outputs": [],
   "source": [
    "true = test[(test['zip']=='27518') & (test['year']==2018)]"
   ]
  },
  {
   "cell_type": "code",
   "execution_count": null,
   "id": "b2762f3b",
   "metadata": {},
   "outputs": [],
   "source": [
    "def forecast_one_step():\n",
    "    fc, conf_int = model.predict(n_periods=1, return_conf_int=True)\n",
    "    return (\n",
    "        fc.tolist()[0],\n",
    "        np.asarray(conf_int).tolist()[0])\n",
    "\n",
    "pred = []\n",
    "confidence_intervals = []\n",
    "\n",
    "for new_ob in true['zri']:\n",
    "    fc, conf = forecast_one_step()\n",
    "    pred.append(fc)\n",
    "    confidence_intervals.append(conf)\n",
    "\n",
    "    # Updates the existing model with the prediction it just made\n",
    "    model.update(new_ob)"
   ]
  },
  {
   "cell_type": "code",
   "execution_count": null,
   "id": "e1240112",
   "metadata": {},
   "outputs": [],
   "source": [
    "pred"
   ]
  },
  {
   "cell_type": "code",
   "execution_count": null,
   "id": "aed6e389",
   "metadata": {},
   "outputs": [],
   "source": [
    "fig = px.line(df3, x = 'datetime', y = 'zri')\n",
    "fig.add_trace(go.Line(x = true['datetime'], y = true['zri'], mode = 'lines'))\n",
    "fig.add_trace(go.Line(x = true['datetime'], y = pred, mode = 'lines'))\n",
    "fig.add_trace(go.Line(x = true['datetime'], y = np.asarray(confidence_intervals)[:,0], mode = 'lines'))\n",
    "fig.add_trace(go.Line(x = true['datetime'], y = np.asarray(confidence_intervals)[:,1], mode = 'lines', fill = 'tonexty'))"
   ]
  },
  {
   "cell_type": "code",
   "execution_count": null,
   "id": "5ee15236",
   "metadata": {},
   "outputs": [],
   "source": [
    "np.asarray(confidence_intervals)"
   ]
  },
  {
   "cell_type": "code",
   "execution_count": null,
   "id": "2fd196db",
   "metadata": {},
   "outputs": [],
   "source": [
    "print(f\"Mean squared error: {mean_squared_error(true['zri'], pred)}\")\n",
    "print(f\"SMAPE: {smape(true['zri'], pred)}\")\n",
    "# smape of 0 is perfect accuracy, lower smape is better"
   ]
  },
  {
   "cell_type": "code",
   "execution_count": null,
   "id": "54d3e3d6",
   "metadata": {},
   "outputs": [],
   "source": []
  }
 ],
 "metadata": {
  "kernelspec": {
   "display_name": "Python [conda env:env1] *",
   "language": "python",
   "name": "conda-env-env1-py"
  },
  "language_info": {
   "codemirror_mode": {
    "name": "ipython",
    "version": 3
   },
   "file_extension": ".py",
   "mimetype": "text/x-python",
   "name": "python",
   "nbconvert_exporter": "python",
   "pygments_lexer": "ipython3",
   "version": "3.8.11"
  }
 },
 "nbformat": 4,
 "nbformat_minor": 5
}
