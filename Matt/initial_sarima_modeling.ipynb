{
 "cells": [
  {
   "cell_type": "code",
   "execution_count": 523,
   "id": "561b27b8",
   "metadata": {},
   "outputs": [],
   "source": [
    "import pandas as pd\n",
    "import numpy as np\n",
    "import plotly.express as px\n",
    "import plotly.graph_objects as go\n",
    "from datetime import datetime\n",
    "import pmdarima as pm\n",
    "from pmdarima.utils import diff\n",
    "from sklearn.metrics import mean_squared_error\n",
    "from pmdarima.metrics import smape\n",
    "import pickle"
   ]
  },
  {
   "cell_type": "code",
   "execution_count": 495,
   "id": "b4b11307",
   "metadata": {},
   "outputs": [],
   "source": [
    "df = pd.read_csv('./allhomes_census_merged.csv')"
   ]
  },
  {
   "cell_type": "code",
   "execution_count": 496,
   "id": "f96a6917",
   "metadata": {},
   "outputs": [],
   "source": [
    "df.rename(columns = {'ZRI':'zri'}, inplace = True)"
   ]
  },
  {
   "cell_type": "code",
   "execution_count": 497,
   "id": "dfc113a7",
   "metadata": {},
   "outputs": [],
   "source": [
    "df['zip'] = df['zip'].map(lambda x: str(x))"
   ]
  },
  {
   "cell_type": "code",
   "execution_count": 498,
   "id": "c77a6c05",
   "metadata": {},
   "outputs": [
    {
     "data": {
      "text/plain": [
       "5    1017900\n",
       "4     114696\n",
       "Name: zip, dtype: int64"
      ]
     },
     "execution_count": 498,
     "metadata": {},
     "output_type": "execute_result"
    }
   ],
   "source": [
    "df['zip'].map(lambda x: len(x)).value_counts()"
   ]
  },
  {
   "cell_type": "code",
   "execution_count": 500,
   "id": "152df89c",
   "metadata": {},
   "outputs": [],
   "source": [
    "df['zip'] = df['zip'].map(lambda x: '0' + x if len(x)<5 else x)"
   ]
  },
  {
   "cell_type": "code",
   "execution_count": 501,
   "id": "fe1379f0",
   "metadata": {},
   "outputs": [
    {
     "data": {
      "text/plain": [
       "5    1132596\n",
       "Name: zip, dtype: int64"
      ]
     },
     "execution_count": 501,
     "metadata": {},
     "output_type": "execute_result"
    }
   ],
   "source": [
    "df['zip'].map(lambda x: len(x)).value_counts()"
   ]
  },
  {
   "cell_type": "code",
   "execution_count": 502,
   "id": "3a017045",
   "metadata": {},
   "outputs": [],
   "source": [
    "df['datetime']=df['datetime'].map(lambda x: datetime.strptime(x, '%Y-%m-%d'))"
   ]
  },
  {
   "cell_type": "code",
   "execution_count": 610,
   "id": "51f482c0",
   "metadata": {},
   "outputs": [
    {
     "data": {
      "text/html": [
       "<div>\n",
       "<style scoped>\n",
       "    .dataframe tbody tr th:only-of-type {\n",
       "        vertical-align: middle;\n",
       "    }\n",
       "\n",
       "    .dataframe tbody tr th {\n",
       "        vertical-align: top;\n",
       "    }\n",
       "\n",
       "    .dataframe thead th {\n",
       "        text-align: right;\n",
       "    }\n",
       "</style>\n",
       "<table border=\"1\" class=\"dataframe\">\n",
       "  <thead>\n",
       "    <tr style=\"text-align: right;\">\n",
       "      <th></th>\n",
       "      <th>zip</th>\n",
       "      <th>year</th>\n",
       "      <th>month</th>\n",
       "      <th>City</th>\n",
       "      <th>State</th>\n",
       "      <th>Metro</th>\n",
       "      <th>CountyName</th>\n",
       "      <th>zri</th>\n",
       "      <th>year_from</th>\n",
       "      <th>nonfamily_households</th>\n",
       "      <th>...</th>\n",
       "      <th>speak_only_english_at_home</th>\n",
       "      <th>speak_spanish_at_home</th>\n",
       "      <th>speak_spanish_at_home_low_english</th>\n",
       "      <th>pop_15_and_over</th>\n",
       "      <th>pop_never_married</th>\n",
       "      <th>pop_now_married</th>\n",
       "      <th>pop_separated</th>\n",
       "      <th>pop_widowed</th>\n",
       "      <th>pop_divorced</th>\n",
       "      <th>datetime</th>\n",
       "    </tr>\n",
       "  </thead>\n",
       "  <tbody>\n",
       "    <tr>\n",
       "      <th>0</th>\n",
       "      <td>01001</td>\n",
       "      <td>2011</td>\n",
       "      <td>2</td>\n",
       "      <td>Agawam</td>\n",
       "      <td>MA</td>\n",
       "      <td>Springfield</td>\n",
       "      <td>Hampden County</td>\n",
       "      <td>1178.0</td>\n",
       "      <td>2007.0</td>\n",
       "      <td>2887.0</td>\n",
       "      <td>...</td>\n",
       "      <td>14482.0</td>\n",
       "      <td>333.0</td>\n",
       "      <td>72.0</td>\n",
       "      <td>13921.0</td>\n",
       "      <td>4096.0</td>\n",
       "      <td>6153.0</td>\n",
       "      <td>309.0</td>\n",
       "      <td>1214.0</td>\n",
       "      <td>1937.0</td>\n",
       "      <td>2011-02-01</td>\n",
       "    </tr>\n",
       "    <tr>\n",
       "      <th>1</th>\n",
       "      <td>01001</td>\n",
       "      <td>2011</td>\n",
       "      <td>3</td>\n",
       "      <td>Agawam</td>\n",
       "      <td>MA</td>\n",
       "      <td>Springfield</td>\n",
       "      <td>Hampden County</td>\n",
       "      <td>1176.0</td>\n",
       "      <td>2007.0</td>\n",
       "      <td>2887.0</td>\n",
       "      <td>...</td>\n",
       "      <td>14482.0</td>\n",
       "      <td>333.0</td>\n",
       "      <td>72.0</td>\n",
       "      <td>13921.0</td>\n",
       "      <td>4096.0</td>\n",
       "      <td>6153.0</td>\n",
       "      <td>309.0</td>\n",
       "      <td>1214.0</td>\n",
       "      <td>1937.0</td>\n",
       "      <td>2011-03-01</td>\n",
       "    </tr>\n",
       "    <tr>\n",
       "      <th>2</th>\n",
       "      <td>01001</td>\n",
       "      <td>2011</td>\n",
       "      <td>4</td>\n",
       "      <td>Agawam</td>\n",
       "      <td>MA</td>\n",
       "      <td>Springfield</td>\n",
       "      <td>Hampden County</td>\n",
       "      <td>1207.0</td>\n",
       "      <td>2007.0</td>\n",
       "      <td>2887.0</td>\n",
       "      <td>...</td>\n",
       "      <td>14482.0</td>\n",
       "      <td>333.0</td>\n",
       "      <td>72.0</td>\n",
       "      <td>13921.0</td>\n",
       "      <td>4096.0</td>\n",
       "      <td>6153.0</td>\n",
       "      <td>309.0</td>\n",
       "      <td>1214.0</td>\n",
       "      <td>1937.0</td>\n",
       "      <td>2011-04-01</td>\n",
       "    </tr>\n",
       "    <tr>\n",
       "      <th>3</th>\n",
       "      <td>01001</td>\n",
       "      <td>2011</td>\n",
       "      <td>5</td>\n",
       "      <td>Agawam</td>\n",
       "      <td>MA</td>\n",
       "      <td>Springfield</td>\n",
       "      <td>Hampden County</td>\n",
       "      <td>1234.0</td>\n",
       "      <td>2007.0</td>\n",
       "      <td>2887.0</td>\n",
       "      <td>...</td>\n",
       "      <td>14482.0</td>\n",
       "      <td>333.0</td>\n",
       "      <td>72.0</td>\n",
       "      <td>13921.0</td>\n",
       "      <td>4096.0</td>\n",
       "      <td>6153.0</td>\n",
       "      <td>309.0</td>\n",
       "      <td>1214.0</td>\n",
       "      <td>1937.0</td>\n",
       "      <td>2011-05-01</td>\n",
       "    </tr>\n",
       "    <tr>\n",
       "      <th>4</th>\n",
       "      <td>01001</td>\n",
       "      <td>2011</td>\n",
       "      <td>6</td>\n",
       "      <td>Agawam</td>\n",
       "      <td>MA</td>\n",
       "      <td>Springfield</td>\n",
       "      <td>Hampden County</td>\n",
       "      <td>1258.0</td>\n",
       "      <td>2007.0</td>\n",
       "      <td>2887.0</td>\n",
       "      <td>...</td>\n",
       "      <td>14482.0</td>\n",
       "      <td>333.0</td>\n",
       "      <td>72.0</td>\n",
       "      <td>13921.0</td>\n",
       "      <td>4096.0</td>\n",
       "      <td>6153.0</td>\n",
       "      <td>309.0</td>\n",
       "      <td>1214.0</td>\n",
       "      <td>1937.0</td>\n",
       "      <td>2011-06-01</td>\n",
       "    </tr>\n",
       "    <tr>\n",
       "      <th>...</th>\n",
       "      <td>...</td>\n",
       "      <td>...</td>\n",
       "      <td>...</td>\n",
       "      <td>...</td>\n",
       "      <td>...</td>\n",
       "      <td>...</td>\n",
       "      <td>...</td>\n",
       "      <td>...</td>\n",
       "      <td>...</td>\n",
       "      <td>...</td>\n",
       "      <td>...</td>\n",
       "      <td>...</td>\n",
       "      <td>...</td>\n",
       "      <td>...</td>\n",
       "      <td>...</td>\n",
       "      <td>...</td>\n",
       "      <td>...</td>\n",
       "      <td>...</td>\n",
       "      <td>...</td>\n",
       "      <td>...</td>\n",
       "      <td>...</td>\n",
       "    </tr>\n",
       "    <tr>\n",
       "      <th>1132591</th>\n",
       "      <td>99709</td>\n",
       "      <td>2019</td>\n",
       "      <td>9</td>\n",
       "      <td>Fairbanks</td>\n",
       "      <td>AK</td>\n",
       "      <td>Fairbanks</td>\n",
       "      <td>Fairbanks North Star Borough</td>\n",
       "      <td>1519.0</td>\n",
       "      <td>NaN</td>\n",
       "      <td>NaN</td>\n",
       "      <td>...</td>\n",
       "      <td>NaN</td>\n",
       "      <td>NaN</td>\n",
       "      <td>NaN</td>\n",
       "      <td>NaN</td>\n",
       "      <td>NaN</td>\n",
       "      <td>NaN</td>\n",
       "      <td>NaN</td>\n",
       "      <td>NaN</td>\n",
       "      <td>NaN</td>\n",
       "      <td>2019-09-01</td>\n",
       "    </tr>\n",
       "    <tr>\n",
       "      <th>1132592</th>\n",
       "      <td>99709</td>\n",
       "      <td>2019</td>\n",
       "      <td>10</td>\n",
       "      <td>Fairbanks</td>\n",
       "      <td>AK</td>\n",
       "      <td>Fairbanks</td>\n",
       "      <td>Fairbanks North Star Borough</td>\n",
       "      <td>1508.0</td>\n",
       "      <td>NaN</td>\n",
       "      <td>NaN</td>\n",
       "      <td>...</td>\n",
       "      <td>NaN</td>\n",
       "      <td>NaN</td>\n",
       "      <td>NaN</td>\n",
       "      <td>NaN</td>\n",
       "      <td>NaN</td>\n",
       "      <td>NaN</td>\n",
       "      <td>NaN</td>\n",
       "      <td>NaN</td>\n",
       "      <td>NaN</td>\n",
       "      <td>2019-10-01</td>\n",
       "    </tr>\n",
       "    <tr>\n",
       "      <th>1132593</th>\n",
       "      <td>99709</td>\n",
       "      <td>2019</td>\n",
       "      <td>11</td>\n",
       "      <td>Fairbanks</td>\n",
       "      <td>AK</td>\n",
       "      <td>Fairbanks</td>\n",
       "      <td>Fairbanks North Star Borough</td>\n",
       "      <td>1503.0</td>\n",
       "      <td>NaN</td>\n",
       "      <td>NaN</td>\n",
       "      <td>...</td>\n",
       "      <td>NaN</td>\n",
       "      <td>NaN</td>\n",
       "      <td>NaN</td>\n",
       "      <td>NaN</td>\n",
       "      <td>NaN</td>\n",
       "      <td>NaN</td>\n",
       "      <td>NaN</td>\n",
       "      <td>NaN</td>\n",
       "      <td>NaN</td>\n",
       "      <td>2019-11-01</td>\n",
       "    </tr>\n",
       "    <tr>\n",
       "      <th>1132594</th>\n",
       "      <td>99709</td>\n",
       "      <td>2019</td>\n",
       "      <td>12</td>\n",
       "      <td>Fairbanks</td>\n",
       "      <td>AK</td>\n",
       "      <td>Fairbanks</td>\n",
       "      <td>Fairbanks North Star Borough</td>\n",
       "      <td>1482.0</td>\n",
       "      <td>NaN</td>\n",
       "      <td>NaN</td>\n",
       "      <td>...</td>\n",
       "      <td>NaN</td>\n",
       "      <td>NaN</td>\n",
       "      <td>NaN</td>\n",
       "      <td>NaN</td>\n",
       "      <td>NaN</td>\n",
       "      <td>NaN</td>\n",
       "      <td>NaN</td>\n",
       "      <td>NaN</td>\n",
       "      <td>NaN</td>\n",
       "      <td>2019-12-01</td>\n",
       "    </tr>\n",
       "    <tr>\n",
       "      <th>1132595</th>\n",
       "      <td>99709</td>\n",
       "      <td>2020</td>\n",
       "      <td>1</td>\n",
       "      <td>Fairbanks</td>\n",
       "      <td>AK</td>\n",
       "      <td>Fairbanks</td>\n",
       "      <td>Fairbanks North Star Borough</td>\n",
       "      <td>1474.0</td>\n",
       "      <td>NaN</td>\n",
       "      <td>NaN</td>\n",
       "      <td>...</td>\n",
       "      <td>NaN</td>\n",
       "      <td>NaN</td>\n",
       "      <td>NaN</td>\n",
       "      <td>NaN</td>\n",
       "      <td>NaN</td>\n",
       "      <td>NaN</td>\n",
       "      <td>NaN</td>\n",
       "      <td>NaN</td>\n",
       "      <td>NaN</td>\n",
       "      <td>2020-01-01</td>\n",
       "    </tr>\n",
       "  </tbody>\n",
       "</table>\n",
       "<p>1132596 rows × 260 columns</p>\n",
       "</div>"
      ],
      "text/plain": [
       "           zip  year  month       City State        Metro  \\\n",
       "0        01001  2011      2     Agawam    MA  Springfield   \n",
       "1        01001  2011      3     Agawam    MA  Springfield   \n",
       "2        01001  2011      4     Agawam    MA  Springfield   \n",
       "3        01001  2011      5     Agawam    MA  Springfield   \n",
       "4        01001  2011      6     Agawam    MA  Springfield   \n",
       "...        ...   ...    ...        ...   ...          ...   \n",
       "1132591  99709  2019      9  Fairbanks    AK    Fairbanks   \n",
       "1132592  99709  2019     10  Fairbanks    AK    Fairbanks   \n",
       "1132593  99709  2019     11  Fairbanks    AK    Fairbanks   \n",
       "1132594  99709  2019     12  Fairbanks    AK    Fairbanks   \n",
       "1132595  99709  2020      1  Fairbanks    AK    Fairbanks   \n",
       "\n",
       "                           CountyName     zri  year_from  \\\n",
       "0                      Hampden County  1178.0     2007.0   \n",
       "1                      Hampden County  1176.0     2007.0   \n",
       "2                      Hampden County  1207.0     2007.0   \n",
       "3                      Hampden County  1234.0     2007.0   \n",
       "4                      Hampden County  1258.0     2007.0   \n",
       "...                               ...     ...        ...   \n",
       "1132591  Fairbanks North Star Borough  1519.0        NaN   \n",
       "1132592  Fairbanks North Star Borough  1508.0        NaN   \n",
       "1132593  Fairbanks North Star Borough  1503.0        NaN   \n",
       "1132594  Fairbanks North Star Borough  1482.0        NaN   \n",
       "1132595  Fairbanks North Star Borough  1474.0        NaN   \n",
       "\n",
       "         nonfamily_households  ...  speak_only_english_at_home  \\\n",
       "0                      2887.0  ...                     14482.0   \n",
       "1                      2887.0  ...                     14482.0   \n",
       "2                      2887.0  ...                     14482.0   \n",
       "3                      2887.0  ...                     14482.0   \n",
       "4                      2887.0  ...                     14482.0   \n",
       "...                       ...  ...                         ...   \n",
       "1132591                   NaN  ...                         NaN   \n",
       "1132592                   NaN  ...                         NaN   \n",
       "1132593                   NaN  ...                         NaN   \n",
       "1132594                   NaN  ...                         NaN   \n",
       "1132595                   NaN  ...                         NaN   \n",
       "\n",
       "         speak_spanish_at_home  speak_spanish_at_home_low_english  \\\n",
       "0                        333.0                               72.0   \n",
       "1                        333.0                               72.0   \n",
       "2                        333.0                               72.0   \n",
       "3                        333.0                               72.0   \n",
       "4                        333.0                               72.0   \n",
       "...                        ...                                ...   \n",
       "1132591                    NaN                                NaN   \n",
       "1132592                    NaN                                NaN   \n",
       "1132593                    NaN                                NaN   \n",
       "1132594                    NaN                                NaN   \n",
       "1132595                    NaN                                NaN   \n",
       "\n",
       "         pop_15_and_over  pop_never_married  pop_now_married  pop_separated  \\\n",
       "0                13921.0             4096.0           6153.0          309.0   \n",
       "1                13921.0             4096.0           6153.0          309.0   \n",
       "2                13921.0             4096.0           6153.0          309.0   \n",
       "3                13921.0             4096.0           6153.0          309.0   \n",
       "4                13921.0             4096.0           6153.0          309.0   \n",
       "...                  ...                ...              ...            ...   \n",
       "1132591              NaN                NaN              NaN            NaN   \n",
       "1132592              NaN                NaN              NaN            NaN   \n",
       "1132593              NaN                NaN              NaN            NaN   \n",
       "1132594              NaN                NaN              NaN            NaN   \n",
       "1132595              NaN                NaN              NaN            NaN   \n",
       "\n",
       "         pop_widowed  pop_divorced   datetime  \n",
       "0             1214.0        1937.0 2011-02-01  \n",
       "1             1214.0        1937.0 2011-03-01  \n",
       "2             1214.0        1937.0 2011-04-01  \n",
       "3             1214.0        1937.0 2011-05-01  \n",
       "4             1214.0        1937.0 2011-06-01  \n",
       "...              ...           ...        ...  \n",
       "1132591          NaN           NaN 2019-09-01  \n",
       "1132592          NaN           NaN 2019-10-01  \n",
       "1132593          NaN           NaN 2019-11-01  \n",
       "1132594          NaN           NaN 2019-12-01  \n",
       "1132595          NaN           NaN 2020-01-01  \n",
       "\n",
       "[1132596 rows x 260 columns]"
      ]
     },
     "execution_count": 610,
     "metadata": {},
     "output_type": "execute_result"
    }
   ],
   "source": [
    "df"
   ]
  },
  {
   "cell_type": "code",
   "execution_count": 612,
   "id": "fc489796",
   "metadata": {},
   "outputs": [],
   "source": [
    "# with open('./ts_df.pickle', mode = 'wb') as file:\n",
    "#     pickle.dump(df, file)\n",
    "#     file.close()"
   ]
  },
  {
   "cell_type": "code",
   "execution_count": 679,
   "id": "ed2f055b",
   "metadata": {},
   "outputs": [],
   "source": [
    "train = df[df['year'] <= 2018]"
   ]
  },
  {
   "cell_type": "code",
   "execution_count": 680,
   "id": "5515e5d3",
   "metadata": {},
   "outputs": [],
   "source": [
    "test = df[df['year'] == 2019]"
   ]
  },
  {
   "cell_type": "code",
   "execution_count": 681,
   "id": "7e040362",
   "metadata": {},
   "outputs": [],
   "source": [
    "ytrain = pd.concat([train['zip'], train['datetime'], train['zri']], axis = 1)"
   ]
  },
  {
   "cell_type": "code",
   "execution_count": 682,
   "id": "a0dca973",
   "metadata": {},
   "outputs": [
    {
     "data": {
      "text/plain": [
       "10487"
      ]
     },
     "execution_count": 682,
     "metadata": {},
     "output_type": "execute_result"
    }
   ],
   "source": [
    "ytrain['zip'].nunique()"
   ]
  },
  {
   "cell_type": "code",
   "execution_count": 683,
   "id": "5329edf3",
   "metadata": {},
   "outputs": [
    {
     "data": {
      "text/html": [
       "<div>\n",
       "<style scoped>\n",
       "    .dataframe tbody tr th:only-of-type {\n",
       "        vertical-align: middle;\n",
       "    }\n",
       "\n",
       "    .dataframe tbody tr th {\n",
       "        vertical-align: top;\n",
       "    }\n",
       "\n",
       "    .dataframe thead th {\n",
       "        text-align: right;\n",
       "    }\n",
       "</style>\n",
       "<table border=\"1\" class=\"dataframe\">\n",
       "  <thead>\n",
       "    <tr style=\"text-align: right;\">\n",
       "      <th></th>\n",
       "      <th>zip</th>\n",
       "      <th>datetime</th>\n",
       "      <th>zri</th>\n",
       "    </tr>\n",
       "  </thead>\n",
       "  <tbody>\n",
       "    <tr>\n",
       "      <th>0</th>\n",
       "      <td>01001</td>\n",
       "      <td>2011-02-01</td>\n",
       "      <td>1178.0</td>\n",
       "    </tr>\n",
       "    <tr>\n",
       "      <th>1</th>\n",
       "      <td>01001</td>\n",
       "      <td>2011-03-01</td>\n",
       "      <td>1176.0</td>\n",
       "    </tr>\n",
       "    <tr>\n",
       "      <th>2</th>\n",
       "      <td>01001</td>\n",
       "      <td>2011-04-01</td>\n",
       "      <td>1207.0</td>\n",
       "    </tr>\n",
       "    <tr>\n",
       "      <th>3</th>\n",
       "      <td>01001</td>\n",
       "      <td>2011-05-01</td>\n",
       "      <td>1234.0</td>\n",
       "    </tr>\n",
       "    <tr>\n",
       "      <th>4</th>\n",
       "      <td>01001</td>\n",
       "      <td>2011-06-01</td>\n",
       "      <td>1258.0</td>\n",
       "    </tr>\n",
       "    <tr>\n",
       "      <th>...</th>\n",
       "      <td>...</td>\n",
       "      <td>...</td>\n",
       "      <td>...</td>\n",
       "    </tr>\n",
       "    <tr>\n",
       "      <th>1132578</th>\n",
       "      <td>99709</td>\n",
       "      <td>2018-08-01</td>\n",
       "      <td>1518.0</td>\n",
       "    </tr>\n",
       "    <tr>\n",
       "      <th>1132579</th>\n",
       "      <td>99709</td>\n",
       "      <td>2018-09-01</td>\n",
       "      <td>1503.0</td>\n",
       "    </tr>\n",
       "    <tr>\n",
       "      <th>1132580</th>\n",
       "      <td>99709</td>\n",
       "      <td>2018-10-01</td>\n",
       "      <td>1495.0</td>\n",
       "    </tr>\n",
       "    <tr>\n",
       "      <th>1132581</th>\n",
       "      <td>99709</td>\n",
       "      <td>2018-11-01</td>\n",
       "      <td>1500.0</td>\n",
       "    </tr>\n",
       "    <tr>\n",
       "      <th>1132582</th>\n",
       "      <td>99709</td>\n",
       "      <td>2018-12-01</td>\n",
       "      <td>1509.0</td>\n",
       "    </tr>\n",
       "  </tbody>\n",
       "</table>\n",
       "<p>996265 rows × 3 columns</p>\n",
       "</div>"
      ],
      "text/plain": [
       "           zip   datetime     zri\n",
       "0        01001 2011-02-01  1178.0\n",
       "1        01001 2011-03-01  1176.0\n",
       "2        01001 2011-04-01  1207.0\n",
       "3        01001 2011-05-01  1234.0\n",
       "4        01001 2011-06-01  1258.0\n",
       "...        ...        ...     ...\n",
       "1132578  99709 2018-08-01  1518.0\n",
       "1132579  99709 2018-09-01  1503.0\n",
       "1132580  99709 2018-10-01  1495.0\n",
       "1132581  99709 2018-11-01  1500.0\n",
       "1132582  99709 2018-12-01  1509.0\n",
       "\n",
       "[996265 rows x 3 columns]"
      ]
     },
     "execution_count": 683,
     "metadata": {},
     "output_type": "execute_result"
    }
   ],
   "source": [
    "ytrain"
   ]
  },
  {
   "cell_type": "code",
   "execution_count": 684,
   "id": "6f2d32db",
   "metadata": {},
   "outputs": [],
   "source": [
    "zips = ytrain['zip'].unique()"
   ]
  },
  {
   "cell_type": "code",
   "execution_count": 685,
   "id": "9f4bbe69",
   "metadata": {},
   "outputs": [
    {
     "data": {
      "text/plain": [
       "array(['01001', '01002', '01005', ..., '99701', '99705', '99709'],\n",
       "      dtype=object)"
      ]
     },
     "execution_count": 685,
     "metadata": {},
     "output_type": "execute_result"
    }
   ],
   "source": [
    "zips"
   ]
  },
  {
   "cell_type": "markdown",
   "id": "4085e706",
   "metadata": {},
   "source": [
    "# Trying to make a model for every zip code\n",
    "Probably don't run the commented cells"
   ]
  },
  {
   "cell_type": "code",
   "execution_count": 518,
   "id": "74bb300d",
   "metadata": {},
   "outputs": [],
   "source": [
    "arima = pm.arima.auto_arima"
   ]
  },
  {
   "cell_type": "code",
   "execution_count": 605,
   "id": "6cc67869",
   "metadata": {},
   "outputs": [
    {
     "data": {
      "text/plain": [
       "83"
      ]
     },
     "execution_count": 605,
     "metadata": {},
     "output_type": "execute_result"
    }
   ],
   "source": [
    "len(ts_dict['01001'])"
   ]
  },
  {
   "cell_type": "code",
   "execution_count": 609,
   "id": "9d1a1f4f",
   "metadata": {},
   "outputs": [
    {
     "data": {
      "text/plain": [
       "datetime\n",
       "2011-02-01    1178.0\n",
       "2011-03-01    1176.0\n",
       "2011-04-01    1207.0\n",
       "2011-05-01    1234.0\n",
       "2011-06-01    1258.0\n",
       "               ...  \n",
       "2017-08-01    1421.0\n",
       "2017-09-01    1410.0\n",
       "2017-10-01    1391.0\n",
       "2017-11-01    1359.0\n",
       "2017-12-01    1351.0\n",
       "Name: zri, Length: 83, dtype: float64"
      ]
     },
     "execution_count": 609,
     "metadata": {},
     "output_type": "execute_result"
    }
   ],
   "source": [
    "ts_dict['01001']"
   ]
  },
  {
   "cell_type": "code",
   "execution_count": 529,
   "id": "e57dc454",
   "metadata": {},
   "outputs": [],
   "source": [
    "# save ts_dict as pickle to avoid runtime of splitting\n",
    "# with open('./ts_dict.pickle', mode = 'wb') as file:\n",
    "#     pickle.dump(ts_dict, file)\n",
    "#     file.close()"
   ]
  },
  {
   "cell_type": "code",
   "execution_count": 530,
   "id": "4e8359d1",
   "metadata": {},
   "outputs": [],
   "source": [
    "# with open('./ts_dict.pickle', mode = 'rb') as file:\n",
    "#     asdf = pickle.load(file)"
   ]
  },
  {
   "cell_type": "code",
   "execution_count": 593,
   "id": "b49478b5",
   "metadata": {},
   "outputs": [],
   "source": [
    "models_dict = {}"
   ]
  },
  {
   "cell_type": "code",
   "execution_count": 594,
   "id": "71f3543a",
   "metadata": {
    "scrolled": true
   },
   "outputs": [
    {
     "name": "stderr",
     "output_type": "stream",
     "text": [
      "C:\\Users\\fayma\\anaconda3\\envs\\env1\\lib\\site-packages\\pmdarima\\arima\\_auto_solvers.py:522: ModelFitWarning:\n",
      "\n",
      "Error fitting  ARIMA(2,0,0)(0,0,0)[12]           (if you do not want to see these warnings, run with error_action=\"ignore\").\n",
      "Traceback:\n",
      "Traceback (most recent call last):\n",
      "  File \"C:\\Users\\fayma\\anaconda3\\envs\\env1\\lib\\site-packages\\pmdarima\\arima\\_auto_solvers.py\", line 506, in _fit_candidate_model\n",
      "    fit.fit(y, X=X, **fit_params)\n",
      "  File \"C:\\Users\\fayma\\anaconda3\\envs\\env1\\lib\\site-packages\\pmdarima\\arima\\arima.py\", line 482, in fit\n",
      "    self._fit(y, X, **fit_args)\n",
      "  File \"C:\\Users\\fayma\\anaconda3\\envs\\env1\\lib\\site-packages\\pmdarima\\arima\\arima.py\", line 403, in _fit\n",
      "    fit, self.arima_res_ = _fit_wrapper()\n",
      "  File \"C:\\Users\\fayma\\anaconda3\\envs\\env1\\lib\\site-packages\\pmdarima\\arima\\arima.py\", line 393, in _fit_wrapper\n",
      "    return arima, arima.fit(start_params=start_params,\n",
      "  File \"C:\\Users\\fayma\\anaconda3\\envs\\env1\\lib\\site-packages\\statsmodels\\tsa\\statespace\\mlemodel.py\", line 690, in fit\n",
      "    mlefit = super(MLEModel, self).fit(start_params, method=method,\n",
      "  File \"C:\\Users\\fayma\\anaconda3\\envs\\env1\\lib\\site-packages\\statsmodels\\base\\model.py\", line 519, in fit\n",
      "    xopt, retvals, optim_settings = optimizer._fit(f, score, start_params,\n",
      "  File \"C:\\Users\\fayma\\anaconda3\\envs\\env1\\lib\\site-packages\\statsmodels\\base\\optimizer.py\", line 224, in _fit\n",
      "    xopt, retvals = func(objective, gradient, start_params, fargs, kwargs,\n",
      "  File \"C:\\Users\\fayma\\anaconda3\\envs\\env1\\lib\\site-packages\\statsmodels\\base\\optimizer.py\", line 629, in _fit_lbfgs\n",
      "    retvals = optimize.fmin_l_bfgs_b(func, start_params, maxiter=maxiter,\n",
      "  File \"C:\\Users\\fayma\\anaconda3\\envs\\env1\\lib\\site-packages\\scipy\\optimize\\lbfgsb.py\", line 197, in fmin_l_bfgs_b\n",
      "    res = _minimize_lbfgsb(fun, x0, args=args, jac=jac, bounds=bounds,\n",
      "  File \"C:\\Users\\fayma\\anaconda3\\envs\\env1\\lib\\site-packages\\scipy\\optimize\\lbfgsb.py\", line 360, in _minimize_lbfgsb\n",
      "    f, g = func_and_grad(x)\n",
      "  File \"C:\\Users\\fayma\\anaconda3\\envs\\env1\\lib\\site-packages\\scipy\\optimize\\_differentiable_functions.py\", line 267, in fun_and_grad\n",
      "    self._update_fun()\n",
      "  File \"C:\\Users\\fayma\\anaconda3\\envs\\env1\\lib\\site-packages\\scipy\\optimize\\_differentiable_functions.py\", line 233, in _update_fun\n",
      "    self._update_fun_impl()\n",
      "  File \"C:\\Users\\fayma\\anaconda3\\envs\\env1\\lib\\site-packages\\scipy\\optimize\\_differentiable_functions.py\", line 137, in update_fun\n",
      "    self.f = fun_wrapped(self.x)\n",
      "  File \"C:\\Users\\fayma\\anaconda3\\envs\\env1\\lib\\site-packages\\scipy\\optimize\\_differentiable_functions.py\", line 134, in fun_wrapped\n",
      "    return fun(np.copy(x), *args)\n",
      "  File \"C:\\Users\\fayma\\anaconda3\\envs\\env1\\lib\\site-packages\\statsmodels\\base\\model.py\", line 501, in f\n",
      "    return -self.loglike(params, *args) / nobs\n",
      "  File \"C:\\Users\\fayma\\anaconda3\\envs\\env1\\lib\\site-packages\\statsmodels\\tsa\\statespace\\mlemodel.py\", line 925, in loglike\n",
      "    loglike = self.ssm.loglike(complex_step=complex_step, **kwargs)\n",
      "  File \"C:\\Users\\fayma\\anaconda3\\envs\\env1\\lib\\site-packages\\statsmodels\\tsa\\statespace\\kalman_filter.py\", line 983, in loglike\n",
      "    kfilter = self._filter(**kwargs)\n",
      "  File \"C:\\Users\\fayma\\anaconda3\\envs\\env1\\lib\\site-packages\\statsmodels\\tsa\\statespace\\kalman_filter.py\", line 903, in _filter\n",
      "    self._initialize_state(prefix=prefix, complex_step=complex_step)\n",
      "  File \"C:\\Users\\fayma\\anaconda3\\envs\\env1\\lib\\site-packages\\statsmodels\\tsa\\statespace\\representation.py\", line 985, in _initialize_state\n",
      "    self._statespaces[prefix].initialize(self.initialization,\n",
      "  File \"statsmodels\\tsa\\statespace\\_representation.pyx\", line 1362, in statsmodels.tsa.statespace._representation.dStatespace.initialize\n",
      "  File \"statsmodels\\tsa\\statespace\\_initialization.pyx\", line 288, in statsmodels.tsa.statespace._initialization.dInitialization.initialize\n",
      "  File \"statsmodels\\tsa\\statespace\\_initialization.pyx\", line 406, in statsmodels.tsa.statespace._initialization.dInitialization.initialize_stationary_stationary_cov\n",
      "  File \"statsmodels\\tsa\\statespace\\_tools.pyx\", line 1206, in statsmodels.tsa.statespace._tools._dsolve_discrete_lyapunov\n",
      "numpy.linalg.LinAlgError: LU decomposition error.\n",
      "\n",
      "\n",
      "C:\\Users\\fayma\\anaconda3\\envs\\env1\\lib\\site-packages\\pmdarima\\arima\\_auto_solvers.py:522: ModelFitWarning:\n",
      "\n",
      "Error fitting  ARIMA(2,0,0)(1,0,1)[12] intercept (if you do not want to see these warnings, run with error_action=\"ignore\").\n",
      "Traceback:\n",
      "Traceback (most recent call last):\n",
      "  File \"C:\\Users\\fayma\\anaconda3\\envs\\env1\\lib\\site-packages\\pmdarima\\arima\\_auto_solvers.py\", line 506, in _fit_candidate_model\n",
      "    fit.fit(y, X=X, **fit_params)\n",
      "  File \"C:\\Users\\fayma\\anaconda3\\envs\\env1\\lib\\site-packages\\pmdarima\\arima\\arima.py\", line 482, in fit\n",
      "    self._fit(y, X, **fit_args)\n",
      "  File \"C:\\Users\\fayma\\anaconda3\\envs\\env1\\lib\\site-packages\\pmdarima\\arima\\arima.py\", line 403, in _fit\n",
      "    fit, self.arima_res_ = _fit_wrapper()\n",
      "  File \"C:\\Users\\fayma\\anaconda3\\envs\\env1\\lib\\site-packages\\pmdarima\\arima\\arima.py\", line 393, in _fit_wrapper\n",
      "    return arima, arima.fit(start_params=start_params,\n",
      "  File \"C:\\Users\\fayma\\anaconda3\\envs\\env1\\lib\\site-packages\\statsmodels\\tsa\\statespace\\mlemodel.py\", line 690, in fit\n",
      "    mlefit = super(MLEModel, self).fit(start_params, method=method,\n",
      "  File \"C:\\Users\\fayma\\anaconda3\\envs\\env1\\lib\\site-packages\\statsmodels\\base\\model.py\", line 519, in fit\n",
      "    xopt, retvals, optim_settings = optimizer._fit(f, score, start_params,\n",
      "  File \"C:\\Users\\fayma\\anaconda3\\envs\\env1\\lib\\site-packages\\statsmodels\\base\\optimizer.py\", line 224, in _fit\n",
      "    xopt, retvals = func(objective, gradient, start_params, fargs, kwargs,\n",
      "  File \"C:\\Users\\fayma\\anaconda3\\envs\\env1\\lib\\site-packages\\statsmodels\\base\\optimizer.py\", line 629, in _fit_lbfgs\n",
      "    retvals = optimize.fmin_l_bfgs_b(func, start_params, maxiter=maxiter,\n",
      "  File \"C:\\Users\\fayma\\anaconda3\\envs\\env1\\lib\\site-packages\\scipy\\optimize\\lbfgsb.py\", line 197, in fmin_l_bfgs_b\n",
      "    res = _minimize_lbfgsb(fun, x0, args=args, jac=jac, bounds=bounds,\n",
      "  File \"C:\\Users\\fayma\\anaconda3\\envs\\env1\\lib\\site-packages\\scipy\\optimize\\lbfgsb.py\", line 360, in _minimize_lbfgsb\n",
      "    f, g = func_and_grad(x)\n",
      "  File \"C:\\Users\\fayma\\anaconda3\\envs\\env1\\lib\\site-packages\\scipy\\optimize\\_differentiable_functions.py\", line 267, in fun_and_grad\n",
      "    self._update_fun()\n",
      "  File \"C:\\Users\\fayma\\anaconda3\\envs\\env1\\lib\\site-packages\\scipy\\optimize\\_differentiable_functions.py\", line 233, in _update_fun\n",
      "    self._update_fun_impl()\n",
      "  File \"C:\\Users\\fayma\\anaconda3\\envs\\env1\\lib\\site-packages\\scipy\\optimize\\_differentiable_functions.py\", line 137, in update_fun\n",
      "    self.f = fun_wrapped(self.x)\n",
      "  File \"C:\\Users\\fayma\\anaconda3\\envs\\env1\\lib\\site-packages\\scipy\\optimize\\_differentiable_functions.py\", line 134, in fun_wrapped\n",
      "    return fun(np.copy(x), *args)\n",
      "  File \"C:\\Users\\fayma\\anaconda3\\envs\\env1\\lib\\site-packages\\statsmodels\\base\\model.py\", line 501, in f\n",
      "    return -self.loglike(params, *args) / nobs\n",
      "  File \"C:\\Users\\fayma\\anaconda3\\envs\\env1\\lib\\site-packages\\statsmodels\\tsa\\statespace\\mlemodel.py\", line 925, in loglike\n",
      "    loglike = self.ssm.loglike(complex_step=complex_step, **kwargs)\n",
      "  File \"C:\\Users\\fayma\\anaconda3\\envs\\env1\\lib\\site-packages\\statsmodels\\tsa\\statespace\\kalman_filter.py\", line 983, in loglike\n",
      "    kfilter = self._filter(**kwargs)\n",
      "  File \"C:\\Users\\fayma\\anaconda3\\envs\\env1\\lib\\site-packages\\statsmodels\\tsa\\statespace\\kalman_filter.py\", line 903, in _filter\n",
      "    self._initialize_state(prefix=prefix, complex_step=complex_step)\n",
      "  File \"C:\\Users\\fayma\\anaconda3\\envs\\env1\\lib\\site-packages\\statsmodels\\tsa\\statespace\\representation.py\", line 985, in _initialize_state\n",
      "    self._statespaces[prefix].initialize(self.initialization,\n",
      "  File \"statsmodels\\tsa\\statespace\\_representation.pyx\", line 1362, in statsmodels.tsa.statespace._representation.dStatespace.initialize\n",
      "  File \"statsmodels\\tsa\\statespace\\_initialization.pyx\", line 288, in statsmodels.tsa.statespace._initialization.dInitialization.initialize\n",
      "  File \"statsmodels\\tsa\\statespace\\_initialization.pyx\", line 406, in statsmodels.tsa.statespace._initialization.dInitialization.initialize_stationary_stationary_cov\n",
      "  File \"statsmodels\\tsa\\statespace\\_tools.pyx\", line 1206, in statsmodels.tsa.statespace._tools._dsolve_discrete_lyapunov\n",
      "numpy.linalg.LinAlgError: LU decomposition error.\n",
      "\n",
      "\n"
     ]
    },
    {
     "name": "stderr",
     "output_type": "stream",
     "text": [
      "C:\\Users\\fayma\\anaconda3\\envs\\env1\\lib\\site-packages\\pmdarima\\arima\\_auto_solvers.py:522: ModelFitWarning:\n",
      "\n",
      "Error fitting  ARIMA(2,0,0)(1,0,0)[12] intercept (if you do not want to see these warnings, run with error_action=\"ignore\").\n",
      "Traceback:\n",
      "Traceback (most recent call last):\n",
      "  File \"C:\\Users\\fayma\\anaconda3\\envs\\env1\\lib\\site-packages\\pmdarima\\arima\\_auto_solvers.py\", line 506, in _fit_candidate_model\n",
      "    fit.fit(y, X=X, **fit_params)\n",
      "  File \"C:\\Users\\fayma\\anaconda3\\envs\\env1\\lib\\site-packages\\pmdarima\\arima\\arima.py\", line 482, in fit\n",
      "    self._fit(y, X, **fit_args)\n",
      "  File \"C:\\Users\\fayma\\anaconda3\\envs\\env1\\lib\\site-packages\\pmdarima\\arima\\arima.py\", line 403, in _fit\n",
      "    fit, self.arima_res_ = _fit_wrapper()\n",
      "  File \"C:\\Users\\fayma\\anaconda3\\envs\\env1\\lib\\site-packages\\pmdarima\\arima\\arima.py\", line 393, in _fit_wrapper\n",
      "    return arima, arima.fit(start_params=start_params,\n",
      "  File \"C:\\Users\\fayma\\anaconda3\\envs\\env1\\lib\\site-packages\\statsmodels\\tsa\\statespace\\mlemodel.py\", line 690, in fit\n",
      "    mlefit = super(MLEModel, self).fit(start_params, method=method,\n",
      "  File \"C:\\Users\\fayma\\anaconda3\\envs\\env1\\lib\\site-packages\\statsmodels\\base\\model.py\", line 519, in fit\n",
      "    xopt, retvals, optim_settings = optimizer._fit(f, score, start_params,\n",
      "  File \"C:\\Users\\fayma\\anaconda3\\envs\\env1\\lib\\site-packages\\statsmodels\\base\\optimizer.py\", line 224, in _fit\n",
      "    xopt, retvals = func(objective, gradient, start_params, fargs, kwargs,\n",
      "  File \"C:\\Users\\fayma\\anaconda3\\envs\\env1\\lib\\site-packages\\statsmodels\\base\\optimizer.py\", line 629, in _fit_lbfgs\n",
      "    retvals = optimize.fmin_l_bfgs_b(func, start_params, maxiter=maxiter,\n",
      "  File \"C:\\Users\\fayma\\anaconda3\\envs\\env1\\lib\\site-packages\\scipy\\optimize\\lbfgsb.py\", line 197, in fmin_l_bfgs_b\n",
      "    res = _minimize_lbfgsb(fun, x0, args=args, jac=jac, bounds=bounds,\n",
      "  File \"C:\\Users\\fayma\\anaconda3\\envs\\env1\\lib\\site-packages\\scipy\\optimize\\lbfgsb.py\", line 360, in _minimize_lbfgsb\n",
      "    f, g = func_and_grad(x)\n",
      "  File \"C:\\Users\\fayma\\anaconda3\\envs\\env1\\lib\\site-packages\\scipy\\optimize\\_differentiable_functions.py\", line 267, in fun_and_grad\n",
      "    self._update_fun()\n",
      "  File \"C:\\Users\\fayma\\anaconda3\\envs\\env1\\lib\\site-packages\\scipy\\optimize\\_differentiable_functions.py\", line 233, in _update_fun\n",
      "    self._update_fun_impl()\n",
      "  File \"C:\\Users\\fayma\\anaconda3\\envs\\env1\\lib\\site-packages\\scipy\\optimize\\_differentiable_functions.py\", line 137, in update_fun\n",
      "    self.f = fun_wrapped(self.x)\n",
      "  File \"C:\\Users\\fayma\\anaconda3\\envs\\env1\\lib\\site-packages\\scipy\\optimize\\_differentiable_functions.py\", line 134, in fun_wrapped\n",
      "    return fun(np.copy(x), *args)\n",
      "  File \"C:\\Users\\fayma\\anaconda3\\envs\\env1\\lib\\site-packages\\statsmodels\\base\\model.py\", line 501, in f\n",
      "    return -self.loglike(params, *args) / nobs\n",
      "  File \"C:\\Users\\fayma\\anaconda3\\envs\\env1\\lib\\site-packages\\statsmodels\\tsa\\statespace\\mlemodel.py\", line 925, in loglike\n",
      "    loglike = self.ssm.loglike(complex_step=complex_step, **kwargs)\n",
      "  File \"C:\\Users\\fayma\\anaconda3\\envs\\env1\\lib\\site-packages\\statsmodels\\tsa\\statespace\\kalman_filter.py\", line 983, in loglike\n",
      "    kfilter = self._filter(**kwargs)\n",
      "  File \"C:\\Users\\fayma\\anaconda3\\envs\\env1\\lib\\site-packages\\statsmodels\\tsa\\statespace\\kalman_filter.py\", line 903, in _filter\n",
      "    self._initialize_state(prefix=prefix, complex_step=complex_step)\n",
      "  File \"C:\\Users\\fayma\\anaconda3\\envs\\env1\\lib\\site-packages\\statsmodels\\tsa\\statespace\\representation.py\", line 985, in _initialize_state\n",
      "    self._statespaces[prefix].initialize(self.initialization,\n",
      "  File \"statsmodels\\tsa\\statespace\\_representation.pyx\", line 1362, in statsmodels.tsa.statespace._representation.dStatespace.initialize\n",
      "  File \"statsmodels\\tsa\\statespace\\_initialization.pyx\", line 288, in statsmodels.tsa.statespace._initialization.dInitialization.initialize\n",
      "  File \"statsmodels\\tsa\\statespace\\_initialization.pyx\", line 406, in statsmodels.tsa.statespace._initialization.dInitialization.initialize_stationary_stationary_cov\n",
      "  File \"statsmodels\\tsa\\statespace\\_tools.pyx\", line 1284, in statsmodels.tsa.statespace._tools._dsolve_discrete_lyapunov\n",
      "numpy.linalg.LinAlgError: Schur decomposition solver error.\n",
      "\n",
      "\n",
      "C:\\Users\\fayma\\anaconda3\\envs\\env1\\lib\\site-packages\\pmdarima\\arima\\_auto_solvers.py:522: ModelFitWarning:\n",
      "\n",
      "Error fitting  ARIMA(2,0,0)(0,0,1)[12]           (if you do not want to see these warnings, run with error_action=\"ignore\").\n",
      "Traceback:\n",
      "Traceback (most recent call last):\n",
      "  File \"C:\\Users\\fayma\\anaconda3\\envs\\env1\\lib\\site-packages\\pmdarima\\arima\\_auto_solvers.py\", line 506, in _fit_candidate_model\n",
      "    fit.fit(y, X=X, **fit_params)\n",
      "  File \"C:\\Users\\fayma\\anaconda3\\envs\\env1\\lib\\site-packages\\pmdarima\\arima\\arima.py\", line 482, in fit\n",
      "    self._fit(y, X, **fit_args)\n",
      "  File \"C:\\Users\\fayma\\anaconda3\\envs\\env1\\lib\\site-packages\\pmdarima\\arima\\arima.py\", line 403, in _fit\n",
      "    fit, self.arima_res_ = _fit_wrapper()\n",
      "  File \"C:\\Users\\fayma\\anaconda3\\envs\\env1\\lib\\site-packages\\pmdarima\\arima\\arima.py\", line 393, in _fit_wrapper\n",
      "    return arima, arima.fit(start_params=start_params,\n",
      "  File \"C:\\Users\\fayma\\anaconda3\\envs\\env1\\lib\\site-packages\\statsmodels\\tsa\\statespace\\mlemodel.py\", line 690, in fit\n",
      "    mlefit = super(MLEModel, self).fit(start_params, method=method,\n",
      "  File \"C:\\Users\\fayma\\anaconda3\\envs\\env1\\lib\\site-packages\\statsmodels\\base\\model.py\", line 519, in fit\n",
      "    xopt, retvals, optim_settings = optimizer._fit(f, score, start_params,\n",
      "  File \"C:\\Users\\fayma\\anaconda3\\envs\\env1\\lib\\site-packages\\statsmodels\\base\\optimizer.py\", line 224, in _fit\n",
      "    xopt, retvals = func(objective, gradient, start_params, fargs, kwargs,\n",
      "  File \"C:\\Users\\fayma\\anaconda3\\envs\\env1\\lib\\site-packages\\statsmodels\\base\\optimizer.py\", line 629, in _fit_lbfgs\n",
      "    retvals = optimize.fmin_l_bfgs_b(func, start_params, maxiter=maxiter,\n",
      "  File \"C:\\Users\\fayma\\anaconda3\\envs\\env1\\lib\\site-packages\\scipy\\optimize\\lbfgsb.py\", line 197, in fmin_l_bfgs_b\n",
      "    res = _minimize_lbfgsb(fun, x0, args=args, jac=jac, bounds=bounds,\n",
      "  File \"C:\\Users\\fayma\\anaconda3\\envs\\env1\\lib\\site-packages\\scipy\\optimize\\lbfgsb.py\", line 360, in _minimize_lbfgsb\n",
      "    f, g = func_and_grad(x)\n",
      "  File \"C:\\Users\\fayma\\anaconda3\\envs\\env1\\lib\\site-packages\\scipy\\optimize\\_differentiable_functions.py\", line 267, in fun_and_grad\n",
      "    self._update_fun()\n",
      "  File \"C:\\Users\\fayma\\anaconda3\\envs\\env1\\lib\\site-packages\\scipy\\optimize\\_differentiable_functions.py\", line 233, in _update_fun\n",
      "    self._update_fun_impl()\n",
      "  File \"C:\\Users\\fayma\\anaconda3\\envs\\env1\\lib\\site-packages\\scipy\\optimize\\_differentiable_functions.py\", line 137, in update_fun\n",
      "    self.f = fun_wrapped(self.x)\n",
      "  File \"C:\\Users\\fayma\\anaconda3\\envs\\env1\\lib\\site-packages\\scipy\\optimize\\_differentiable_functions.py\", line 134, in fun_wrapped\n",
      "    return fun(np.copy(x), *args)\n",
      "  File \"C:\\Users\\fayma\\anaconda3\\envs\\env1\\lib\\site-packages\\statsmodels\\base\\model.py\", line 501, in f\n",
      "    return -self.loglike(params, *args) / nobs\n",
      "  File \"C:\\Users\\fayma\\anaconda3\\envs\\env1\\lib\\site-packages\\statsmodels\\tsa\\statespace\\mlemodel.py\", line 925, in loglike\n",
      "    loglike = self.ssm.loglike(complex_step=complex_step, **kwargs)\n",
      "  File \"C:\\Users\\fayma\\anaconda3\\envs\\env1\\lib\\site-packages\\statsmodels\\tsa\\statespace\\kalman_filter.py\", line 983, in loglike\n",
      "    kfilter = self._filter(**kwargs)\n",
      "  File \"C:\\Users\\fayma\\anaconda3\\envs\\env1\\lib\\site-packages\\statsmodels\\tsa\\statespace\\kalman_filter.py\", line 903, in _filter\n",
      "    self._initialize_state(prefix=prefix, complex_step=complex_step)\n",
      "  File \"C:\\Users\\fayma\\anaconda3\\envs\\env1\\lib\\site-packages\\statsmodels\\tsa\\statespace\\representation.py\", line 985, in _initialize_state\n",
      "    self._statespaces[prefix].initialize(self.initialization,\n",
      "  File \"statsmodels\\tsa\\statespace\\_representation.pyx\", line 1362, in statsmodels.tsa.statespace._representation.dStatespace.initialize\n",
      "  File \"statsmodels\\tsa\\statespace\\_initialization.pyx\", line 288, in statsmodels.tsa.statespace._initialization.dInitialization.initialize\n",
      "  File \"statsmodels\\tsa\\statespace\\_initialization.pyx\", line 406, in statsmodels.tsa.statespace._initialization.dInitialization.initialize_stationary_stationary_cov\n",
      "  File \"statsmodels\\tsa\\statespace\\_tools.pyx\", line 1206, in statsmodels.tsa.statespace._tools._dsolve_discrete_lyapunov\n",
      "numpy.linalg.LinAlgError: LU decomposition error.\n",
      "\n",
      "\n"
     ]
    },
    {
     "name": "stderr",
     "output_type": "stream",
     "text": [
      "C:\\Users\\fayma\\anaconda3\\envs\\env1\\lib\\site-packages\\pmdarima\\arima\\_auto_solvers.py:522: ModelFitWarning:\n",
      "\n",
      "Error fitting  ARIMA(3,0,1)(1,0,0)[12] intercept (if you do not want to see these warnings, run with error_action=\"ignore\").\n",
      "Traceback:\n",
      "Traceback (most recent call last):\n",
      "  File \"C:\\Users\\fayma\\anaconda3\\envs\\env1\\lib\\site-packages\\pmdarima\\arima\\_auto_solvers.py\", line 506, in _fit_candidate_model\n",
      "    fit.fit(y, X=X, **fit_params)\n",
      "  File \"C:\\Users\\fayma\\anaconda3\\envs\\env1\\lib\\site-packages\\pmdarima\\arima\\arima.py\", line 482, in fit\n",
      "    self._fit(y, X, **fit_args)\n",
      "  File \"C:\\Users\\fayma\\anaconda3\\envs\\env1\\lib\\site-packages\\pmdarima\\arima\\arima.py\", line 403, in _fit\n",
      "    fit, self.arima_res_ = _fit_wrapper()\n",
      "  File \"C:\\Users\\fayma\\anaconda3\\envs\\env1\\lib\\site-packages\\pmdarima\\arima\\arima.py\", line 393, in _fit_wrapper\n",
      "    return arima, arima.fit(start_params=start_params,\n",
      "  File \"C:\\Users\\fayma\\anaconda3\\envs\\env1\\lib\\site-packages\\statsmodels\\tsa\\statespace\\mlemodel.py\", line 690, in fit\n",
      "    mlefit = super(MLEModel, self).fit(start_params, method=method,\n",
      "  File \"C:\\Users\\fayma\\anaconda3\\envs\\env1\\lib\\site-packages\\statsmodels\\base\\model.py\", line 519, in fit\n",
      "    xopt, retvals, optim_settings = optimizer._fit(f, score, start_params,\n",
      "  File \"C:\\Users\\fayma\\anaconda3\\envs\\env1\\lib\\site-packages\\statsmodels\\base\\optimizer.py\", line 224, in _fit\n",
      "    xopt, retvals = func(objective, gradient, start_params, fargs, kwargs,\n",
      "  File \"C:\\Users\\fayma\\anaconda3\\envs\\env1\\lib\\site-packages\\statsmodels\\base\\optimizer.py\", line 629, in _fit_lbfgs\n",
      "    retvals = optimize.fmin_l_bfgs_b(func, start_params, maxiter=maxiter,\n",
      "  File \"C:\\Users\\fayma\\anaconda3\\envs\\env1\\lib\\site-packages\\scipy\\optimize\\lbfgsb.py\", line 197, in fmin_l_bfgs_b\n",
      "    res = _minimize_lbfgsb(fun, x0, args=args, jac=jac, bounds=bounds,\n",
      "  File \"C:\\Users\\fayma\\anaconda3\\envs\\env1\\lib\\site-packages\\scipy\\optimize\\lbfgsb.py\", line 360, in _minimize_lbfgsb\n",
      "    f, g = func_and_grad(x)\n",
      "  File \"C:\\Users\\fayma\\anaconda3\\envs\\env1\\lib\\site-packages\\scipy\\optimize\\_differentiable_functions.py\", line 267, in fun_and_grad\n",
      "    self._update_fun()\n",
      "  File \"C:\\Users\\fayma\\anaconda3\\envs\\env1\\lib\\site-packages\\scipy\\optimize\\_differentiable_functions.py\", line 233, in _update_fun\n",
      "    self._update_fun_impl()\n",
      "  File \"C:\\Users\\fayma\\anaconda3\\envs\\env1\\lib\\site-packages\\scipy\\optimize\\_differentiable_functions.py\", line 137, in update_fun\n",
      "    self.f = fun_wrapped(self.x)\n",
      "  File \"C:\\Users\\fayma\\anaconda3\\envs\\env1\\lib\\site-packages\\scipy\\optimize\\_differentiable_functions.py\", line 134, in fun_wrapped\n",
      "    return fun(np.copy(x), *args)\n",
      "  File \"C:\\Users\\fayma\\anaconda3\\envs\\env1\\lib\\site-packages\\statsmodels\\base\\model.py\", line 501, in f\n",
      "    return -self.loglike(params, *args) / nobs\n",
      "  File \"C:\\Users\\fayma\\anaconda3\\envs\\env1\\lib\\site-packages\\statsmodels\\tsa\\statespace\\mlemodel.py\", line 925, in loglike\n",
      "    loglike = self.ssm.loglike(complex_step=complex_step, **kwargs)\n",
      "  File \"C:\\Users\\fayma\\anaconda3\\envs\\env1\\lib\\site-packages\\statsmodels\\tsa\\statespace\\kalman_filter.py\", line 983, in loglike\n",
      "    kfilter = self._filter(**kwargs)\n",
      "  File \"C:\\Users\\fayma\\anaconda3\\envs\\env1\\lib\\site-packages\\statsmodels\\tsa\\statespace\\kalman_filter.py\", line 903, in _filter\n",
      "    self._initialize_state(prefix=prefix, complex_step=complex_step)\n",
      "  File \"C:\\Users\\fayma\\anaconda3\\envs\\env1\\lib\\site-packages\\statsmodels\\tsa\\statespace\\representation.py\", line 985, in _initialize_state\n",
      "    self._statespaces[prefix].initialize(self.initialization,\n",
      "  File \"statsmodels\\tsa\\statespace\\_representation.pyx\", line 1362, in statsmodels.tsa.statespace._representation.dStatespace.initialize\n",
      "  File \"statsmodels\\tsa\\statespace\\_initialization.pyx\", line 288, in statsmodels.tsa.statespace._initialization.dInitialization.initialize\n",
      "  File \"statsmodels\\tsa\\statespace\\_initialization.pyx\", line 406, in statsmodels.tsa.statespace._initialization.dInitialization.initialize_stationary_stationary_cov\n",
      "  File \"statsmodels\\tsa\\statespace\\_tools.pyx\", line 1206, in statsmodels.tsa.statespace._tools._dsolve_discrete_lyapunov\n",
      "numpy.linalg.LinAlgError: LU decomposition error.\n",
      "\n",
      "\n",
      "C:\\Users\\fayma\\anaconda3\\envs\\env1\\lib\\site-packages\\pmdarima\\arima\\_auto_solvers.py:522: ModelFitWarning:\n",
      "\n",
      "Error fitting  ARIMA(3,0,0)(1,0,0)[12] intercept (if you do not want to see these warnings, run with error_action=\"ignore\").\n",
      "Traceback:\n",
      "Traceback (most recent call last):\n",
      "  File \"C:\\Users\\fayma\\anaconda3\\envs\\env1\\lib\\site-packages\\pmdarima\\arima\\_auto_solvers.py\", line 506, in _fit_candidate_model\n",
      "    fit.fit(y, X=X, **fit_params)\n",
      "  File \"C:\\Users\\fayma\\anaconda3\\envs\\env1\\lib\\site-packages\\pmdarima\\arima\\arima.py\", line 482, in fit\n",
      "    self._fit(y, X, **fit_args)\n",
      "  File \"C:\\Users\\fayma\\anaconda3\\envs\\env1\\lib\\site-packages\\pmdarima\\arima\\arima.py\", line 403, in _fit\n",
      "    fit, self.arima_res_ = _fit_wrapper()\n",
      "  File \"C:\\Users\\fayma\\anaconda3\\envs\\env1\\lib\\site-packages\\pmdarima\\arima\\arima.py\", line 393, in _fit_wrapper\n",
      "    return arima, arima.fit(start_params=start_params,\n",
      "  File \"C:\\Users\\fayma\\anaconda3\\envs\\env1\\lib\\site-packages\\statsmodels\\tsa\\statespace\\mlemodel.py\", line 690, in fit\n",
      "    mlefit = super(MLEModel, self).fit(start_params, method=method,\n",
      "  File \"C:\\Users\\fayma\\anaconda3\\envs\\env1\\lib\\site-packages\\statsmodels\\base\\model.py\", line 519, in fit\n",
      "    xopt, retvals, optim_settings = optimizer._fit(f, score, start_params,\n",
      "  File \"C:\\Users\\fayma\\anaconda3\\envs\\env1\\lib\\site-packages\\statsmodels\\base\\optimizer.py\", line 224, in _fit\n",
      "    xopt, retvals = func(objective, gradient, start_params, fargs, kwargs,\n",
      "  File \"C:\\Users\\fayma\\anaconda3\\envs\\env1\\lib\\site-packages\\statsmodels\\base\\optimizer.py\", line 629, in _fit_lbfgs\n",
      "    retvals = optimize.fmin_l_bfgs_b(func, start_params, maxiter=maxiter,\n",
      "  File \"C:\\Users\\fayma\\anaconda3\\envs\\env1\\lib\\site-packages\\scipy\\optimize\\lbfgsb.py\", line 197, in fmin_l_bfgs_b\n",
      "    res = _minimize_lbfgsb(fun, x0, args=args, jac=jac, bounds=bounds,\n",
      "  File \"C:\\Users\\fayma\\anaconda3\\envs\\env1\\lib\\site-packages\\scipy\\optimize\\lbfgsb.py\", line 360, in _minimize_lbfgsb\n",
      "    f, g = func_and_grad(x)\n",
      "  File \"C:\\Users\\fayma\\anaconda3\\envs\\env1\\lib\\site-packages\\scipy\\optimize\\_differentiable_functions.py\", line 267, in fun_and_grad\n",
      "    self._update_fun()\n",
      "  File \"C:\\Users\\fayma\\anaconda3\\envs\\env1\\lib\\site-packages\\scipy\\optimize\\_differentiable_functions.py\", line 233, in _update_fun\n",
      "    self._update_fun_impl()\n",
      "  File \"C:\\Users\\fayma\\anaconda3\\envs\\env1\\lib\\site-packages\\scipy\\optimize\\_differentiable_functions.py\", line 137, in update_fun\n",
      "    self.f = fun_wrapped(self.x)\n",
      "  File \"C:\\Users\\fayma\\anaconda3\\envs\\env1\\lib\\site-packages\\scipy\\optimize\\_differentiable_functions.py\", line 134, in fun_wrapped\n",
      "    return fun(np.copy(x), *args)\n",
      "  File \"C:\\Users\\fayma\\anaconda3\\envs\\env1\\lib\\site-packages\\statsmodels\\base\\model.py\", line 501, in f\n",
      "    return -self.loglike(params, *args) / nobs\n",
      "  File \"C:\\Users\\fayma\\anaconda3\\envs\\env1\\lib\\site-packages\\statsmodels\\tsa\\statespace\\mlemodel.py\", line 925, in loglike\n",
      "    loglike = self.ssm.loglike(complex_step=complex_step, **kwargs)\n",
      "  File \"C:\\Users\\fayma\\anaconda3\\envs\\env1\\lib\\site-packages\\statsmodels\\tsa\\statespace\\kalman_filter.py\", line 983, in loglike\n",
      "    kfilter = self._filter(**kwargs)\n",
      "  File \"C:\\Users\\fayma\\anaconda3\\envs\\env1\\lib\\site-packages\\statsmodels\\tsa\\statespace\\kalman_filter.py\", line 903, in _filter\n",
      "    self._initialize_state(prefix=prefix, complex_step=complex_step)\n",
      "  File \"C:\\Users\\fayma\\anaconda3\\envs\\env1\\lib\\site-packages\\statsmodels\\tsa\\statespace\\representation.py\", line 985, in _initialize_state\n",
      "    self._statespaces[prefix].initialize(self.initialization,\n",
      "  File \"statsmodels\\tsa\\statespace\\_representation.pyx\", line 1362, in statsmodels.tsa.statespace._representation.dStatespace.initialize\n",
      "  File \"statsmodels\\tsa\\statespace\\_initialization.pyx\", line 288, in statsmodels.tsa.statespace._initialization.dInitialization.initialize\n",
      "  File \"statsmodels\\tsa\\statespace\\_initialization.pyx\", line 406, in statsmodels.tsa.statespace._initialization.dInitialization.initialize_stationary_stationary_cov\n",
      "  File \"statsmodels\\tsa\\statespace\\_tools.pyx\", line 1206, in statsmodels.tsa.statespace._tools._dsolve_discrete_lyapunov\n",
      "numpy.linalg.LinAlgError: LU decomposition error.\n",
      "\n",
      "\n"
     ]
    },
    {
     "name": "stderr",
     "output_type": "stream",
     "text": [
      "C:\\Users\\fayma\\anaconda3\\envs\\env1\\lib\\site-packages\\pmdarima\\arima\\_auto_solvers.py:522: ModelFitWarning:\n",
      "\n",
      "Error fitting  ARIMA(4,0,0)(1,0,0)[12] intercept (if you do not want to see these warnings, run with error_action=\"ignore\").\n",
      "Traceback:\n",
      "Traceback (most recent call last):\n",
      "  File \"C:\\Users\\fayma\\anaconda3\\envs\\env1\\lib\\site-packages\\pmdarima\\arima\\_auto_solvers.py\", line 506, in _fit_candidate_model\n",
      "    fit.fit(y, X=X, **fit_params)\n",
      "  File \"C:\\Users\\fayma\\anaconda3\\envs\\env1\\lib\\site-packages\\pmdarima\\arima\\arima.py\", line 482, in fit\n",
      "    self._fit(y, X, **fit_args)\n",
      "  File \"C:\\Users\\fayma\\anaconda3\\envs\\env1\\lib\\site-packages\\pmdarima\\arima\\arima.py\", line 403, in _fit\n",
      "    fit, self.arima_res_ = _fit_wrapper()\n",
      "  File \"C:\\Users\\fayma\\anaconda3\\envs\\env1\\lib\\site-packages\\pmdarima\\arima\\arima.py\", line 393, in _fit_wrapper\n",
      "    return arima, arima.fit(start_params=start_params,\n",
      "  File \"C:\\Users\\fayma\\anaconda3\\envs\\env1\\lib\\site-packages\\statsmodels\\tsa\\statespace\\mlemodel.py\", line 690, in fit\n",
      "    mlefit = super(MLEModel, self).fit(start_params, method=method,\n",
      "  File \"C:\\Users\\fayma\\anaconda3\\envs\\env1\\lib\\site-packages\\statsmodels\\base\\model.py\", line 519, in fit\n",
      "    xopt, retvals, optim_settings = optimizer._fit(f, score, start_params,\n",
      "  File \"C:\\Users\\fayma\\anaconda3\\envs\\env1\\lib\\site-packages\\statsmodels\\base\\optimizer.py\", line 224, in _fit\n",
      "    xopt, retvals = func(objective, gradient, start_params, fargs, kwargs,\n",
      "  File \"C:\\Users\\fayma\\anaconda3\\envs\\env1\\lib\\site-packages\\statsmodels\\base\\optimizer.py\", line 629, in _fit_lbfgs\n",
      "    retvals = optimize.fmin_l_bfgs_b(func, start_params, maxiter=maxiter,\n",
      "  File \"C:\\Users\\fayma\\anaconda3\\envs\\env1\\lib\\site-packages\\scipy\\optimize\\lbfgsb.py\", line 197, in fmin_l_bfgs_b\n",
      "    res = _minimize_lbfgsb(fun, x0, args=args, jac=jac, bounds=bounds,\n",
      "  File \"C:\\Users\\fayma\\anaconda3\\envs\\env1\\lib\\site-packages\\scipy\\optimize\\lbfgsb.py\", line 360, in _minimize_lbfgsb\n",
      "    f, g = func_and_grad(x)\n",
      "  File \"C:\\Users\\fayma\\anaconda3\\envs\\env1\\lib\\site-packages\\scipy\\optimize\\_differentiable_functions.py\", line 267, in fun_and_grad\n",
      "    self._update_fun()\n",
      "  File \"C:\\Users\\fayma\\anaconda3\\envs\\env1\\lib\\site-packages\\scipy\\optimize\\_differentiable_functions.py\", line 233, in _update_fun\n",
      "    self._update_fun_impl()\n",
      "  File \"C:\\Users\\fayma\\anaconda3\\envs\\env1\\lib\\site-packages\\scipy\\optimize\\_differentiable_functions.py\", line 137, in update_fun\n",
      "    self.f = fun_wrapped(self.x)\n",
      "  File \"C:\\Users\\fayma\\anaconda3\\envs\\env1\\lib\\site-packages\\scipy\\optimize\\_differentiable_functions.py\", line 134, in fun_wrapped\n",
      "    return fun(np.copy(x), *args)\n",
      "  File \"C:\\Users\\fayma\\anaconda3\\envs\\env1\\lib\\site-packages\\statsmodels\\base\\model.py\", line 501, in f\n",
      "    return -self.loglike(params, *args) / nobs\n",
      "  File \"C:\\Users\\fayma\\anaconda3\\envs\\env1\\lib\\site-packages\\statsmodels\\tsa\\statespace\\mlemodel.py\", line 925, in loglike\n",
      "    loglike = self.ssm.loglike(complex_step=complex_step, **kwargs)\n",
      "  File \"C:\\Users\\fayma\\anaconda3\\envs\\env1\\lib\\site-packages\\statsmodels\\tsa\\statespace\\kalman_filter.py\", line 983, in loglike\n",
      "    kfilter = self._filter(**kwargs)\n",
      "  File \"C:\\Users\\fayma\\anaconda3\\envs\\env1\\lib\\site-packages\\statsmodels\\tsa\\statespace\\kalman_filter.py\", line 903, in _filter\n",
      "    self._initialize_state(prefix=prefix, complex_step=complex_step)\n",
      "  File \"C:\\Users\\fayma\\anaconda3\\envs\\env1\\lib\\site-packages\\statsmodels\\tsa\\statespace\\representation.py\", line 985, in _initialize_state\n",
      "    self._statespaces[prefix].initialize(self.initialization,\n",
      "  File \"statsmodels\\tsa\\statespace\\_representation.pyx\", line 1362, in statsmodels.tsa.statespace._representation.dStatespace.initialize\n",
      "  File \"statsmodels\\tsa\\statespace\\_initialization.pyx\", line 288, in statsmodels.tsa.statespace._initialization.dInitialization.initialize\n",
      "  File \"statsmodels\\tsa\\statespace\\_initialization.pyx\", line 406, in statsmodels.tsa.statespace._initialization.dInitialization.initialize_stationary_stationary_cov\n",
      "  File \"statsmodels\\tsa\\statespace\\_tools.pyx\", line 1206, in statsmodels.tsa.statespace._tools._dsolve_discrete_lyapunov\n",
      "numpy.linalg.LinAlgError: LU decomposition error.\n",
      "\n",
      "\n",
      "C:\\Users\\fayma\\anaconda3\\envs\\env1\\lib\\site-packages\\pmdarima\\arima\\_auto_solvers.py:522: ModelFitWarning:\n",
      "\n",
      "Error fitting  ARIMA(1,1,0)(1,0,1)[12] intercept (if you do not want to see these warnings, run with error_action=\"ignore\").\n",
      "Traceback:\n",
      "Traceback (most recent call last):\n",
      "  File \"C:\\Users\\fayma\\anaconda3\\envs\\env1\\lib\\site-packages\\pmdarima\\arima\\_auto_solvers.py\", line 506, in _fit_candidate_model\n",
      "    fit.fit(y, X=X, **fit_params)\n",
      "  File \"C:\\Users\\fayma\\anaconda3\\envs\\env1\\lib\\site-packages\\pmdarima\\arima\\arima.py\", line 482, in fit\n",
      "    self._fit(y, X, **fit_args)\n",
      "  File \"C:\\Users\\fayma\\anaconda3\\envs\\env1\\lib\\site-packages\\pmdarima\\arima\\arima.py\", line 403, in _fit\n",
      "    fit, self.arima_res_ = _fit_wrapper()\n",
      "  File \"C:\\Users\\fayma\\anaconda3\\envs\\env1\\lib\\site-packages\\pmdarima\\arima\\arima.py\", line 393, in _fit_wrapper\n",
      "    return arima, arima.fit(start_params=start_params,\n",
      "  File \"C:\\Users\\fayma\\anaconda3\\envs\\env1\\lib\\site-packages\\statsmodels\\tsa\\statespace\\mlemodel.py\", line 690, in fit\n",
      "    mlefit = super(MLEModel, self).fit(start_params, method=method,\n",
      "  File \"C:\\Users\\fayma\\anaconda3\\envs\\env1\\lib\\site-packages\\statsmodels\\base\\model.py\", line 519, in fit\n",
      "    xopt, retvals, optim_settings = optimizer._fit(f, score, start_params,\n",
      "  File \"C:\\Users\\fayma\\anaconda3\\envs\\env1\\lib\\site-packages\\statsmodels\\base\\optimizer.py\", line 224, in _fit\n",
      "    xopt, retvals = func(objective, gradient, start_params, fargs, kwargs,\n",
      "  File \"C:\\Users\\fayma\\anaconda3\\envs\\env1\\lib\\site-packages\\statsmodels\\base\\optimizer.py\", line 629, in _fit_lbfgs\n",
      "    retvals = optimize.fmin_l_bfgs_b(func, start_params, maxiter=maxiter,\n",
      "  File \"C:\\Users\\fayma\\anaconda3\\envs\\env1\\lib\\site-packages\\scipy\\optimize\\lbfgsb.py\", line 197, in fmin_l_bfgs_b\n",
      "    res = _minimize_lbfgsb(fun, x0, args=args, jac=jac, bounds=bounds,\n",
      "  File \"C:\\Users\\fayma\\anaconda3\\envs\\env1\\lib\\site-packages\\scipy\\optimize\\lbfgsb.py\", line 360, in _minimize_lbfgsb\n",
      "    f, g = func_and_grad(x)\n",
      "  File \"C:\\Users\\fayma\\anaconda3\\envs\\env1\\lib\\site-packages\\scipy\\optimize\\_differentiable_functions.py\", line 267, in fun_and_grad\n",
      "    self._update_fun()\n",
      "  File \"C:\\Users\\fayma\\anaconda3\\envs\\env1\\lib\\site-packages\\scipy\\optimize\\_differentiable_functions.py\", line 233, in _update_fun\n",
      "    self._update_fun_impl()\n",
      "  File \"C:\\Users\\fayma\\anaconda3\\envs\\env1\\lib\\site-packages\\scipy\\optimize\\_differentiable_functions.py\", line 137, in update_fun\n",
      "    self.f = fun_wrapped(self.x)\n",
      "  File \"C:\\Users\\fayma\\anaconda3\\envs\\env1\\lib\\site-packages\\scipy\\optimize\\_differentiable_functions.py\", line 134, in fun_wrapped\n",
      "    return fun(np.copy(x), *args)\n",
      "  File \"C:\\Users\\fayma\\anaconda3\\envs\\env1\\lib\\site-packages\\statsmodels\\base\\model.py\", line 501, in f\n",
      "    return -self.loglike(params, *args) / nobs\n",
      "  File \"C:\\Users\\fayma\\anaconda3\\envs\\env1\\lib\\site-packages\\statsmodels\\tsa\\statespace\\mlemodel.py\", line 925, in loglike\n",
      "    loglike = self.ssm.loglike(complex_step=complex_step, **kwargs)\n",
      "  File \"C:\\Users\\fayma\\anaconda3\\envs\\env1\\lib\\site-packages\\statsmodels\\tsa\\statespace\\kalman_filter.py\", line 983, in loglike\n",
      "    kfilter = self._filter(**kwargs)\n",
      "  File \"C:\\Users\\fayma\\anaconda3\\envs\\env1\\lib\\site-packages\\statsmodels\\tsa\\statespace\\kalman_filter.py\", line 903, in _filter\n",
      "    self._initialize_state(prefix=prefix, complex_step=complex_step)\n",
      "  File \"C:\\Users\\fayma\\anaconda3\\envs\\env1\\lib\\site-packages\\statsmodels\\tsa\\statespace\\representation.py\", line 985, in _initialize_state\n",
      "    self._statespaces[prefix].initialize(self.initialization,\n",
      "  File \"statsmodels\\tsa\\statespace\\_representation.pyx\", line 1373, in statsmodels.tsa.statespace._representation.dStatespace.initialize\n",
      "  File \"statsmodels\\tsa\\statespace\\_representation.pyx\", line 1362, in statsmodels.tsa.statespace._representation.dStatespace.initialize\n",
      "  File \"statsmodels\\tsa\\statespace\\_initialization.pyx\", line 288, in statsmodels.tsa.statespace._initialization.dInitialization.initialize\n",
      "  File \"statsmodels\\tsa\\statespace\\_initialization.pyx\", line 406, in statsmodels.tsa.statespace._initialization.dInitialization.initialize_stationary_stationary_cov\n",
      "  File \"statsmodels\\tsa\\statespace\\_tools.pyx\", line 1206, in statsmodels.tsa.statespace._tools._dsolve_discrete_lyapunov\n",
      "numpy.linalg.LinAlgError: LU decomposition error.\n",
      "\n",
      "\n"
     ]
    },
    {
     "name": "stderr",
     "output_type": "stream",
     "text": [
      "C:\\Users\\fayma\\anaconda3\\envs\\env1\\lib\\site-packages\\pmdarima\\arima\\_auto_solvers.py:522: ModelFitWarning:\n",
      "\n",
      "Error fitting  ARIMA(2,0,0)(1,0,0)[12] intercept (if you do not want to see these warnings, run with error_action=\"ignore\").\n",
      "Traceback:\n",
      "Traceback (most recent call last):\n",
      "  File \"C:\\Users\\fayma\\anaconda3\\envs\\env1\\lib\\site-packages\\pmdarima\\arima\\_auto_solvers.py\", line 506, in _fit_candidate_model\n",
      "    fit.fit(y, X=X, **fit_params)\n",
      "  File \"C:\\Users\\fayma\\anaconda3\\envs\\env1\\lib\\site-packages\\pmdarima\\arima\\arima.py\", line 482, in fit\n",
      "    self._fit(y, X, **fit_args)\n",
      "  File \"C:\\Users\\fayma\\anaconda3\\envs\\env1\\lib\\site-packages\\pmdarima\\arima\\arima.py\", line 403, in _fit\n",
      "    fit, self.arima_res_ = _fit_wrapper()\n",
      "  File \"C:\\Users\\fayma\\anaconda3\\envs\\env1\\lib\\site-packages\\pmdarima\\arima\\arima.py\", line 393, in _fit_wrapper\n",
      "    return arima, arima.fit(start_params=start_params,\n",
      "  File \"C:\\Users\\fayma\\anaconda3\\envs\\env1\\lib\\site-packages\\statsmodels\\tsa\\statespace\\mlemodel.py\", line 690, in fit\n",
      "    mlefit = super(MLEModel, self).fit(start_params, method=method,\n",
      "  File \"C:\\Users\\fayma\\anaconda3\\envs\\env1\\lib\\site-packages\\statsmodels\\base\\model.py\", line 519, in fit\n",
      "    xopt, retvals, optim_settings = optimizer._fit(f, score, start_params,\n",
      "  File \"C:\\Users\\fayma\\anaconda3\\envs\\env1\\lib\\site-packages\\statsmodels\\base\\optimizer.py\", line 224, in _fit\n",
      "    xopt, retvals = func(objective, gradient, start_params, fargs, kwargs,\n",
      "  File \"C:\\Users\\fayma\\anaconda3\\envs\\env1\\lib\\site-packages\\statsmodels\\base\\optimizer.py\", line 629, in _fit_lbfgs\n",
      "    retvals = optimize.fmin_l_bfgs_b(func, start_params, maxiter=maxiter,\n",
      "  File \"C:\\Users\\fayma\\anaconda3\\envs\\env1\\lib\\site-packages\\scipy\\optimize\\lbfgsb.py\", line 197, in fmin_l_bfgs_b\n",
      "    res = _minimize_lbfgsb(fun, x0, args=args, jac=jac, bounds=bounds,\n",
      "  File \"C:\\Users\\fayma\\anaconda3\\envs\\env1\\lib\\site-packages\\scipy\\optimize\\lbfgsb.py\", line 360, in _minimize_lbfgsb\n",
      "    f, g = func_and_grad(x)\n",
      "  File \"C:\\Users\\fayma\\anaconda3\\envs\\env1\\lib\\site-packages\\scipy\\optimize\\_differentiable_functions.py\", line 268, in fun_and_grad\n",
      "    self._update_grad()\n",
      "  File \"C:\\Users\\fayma\\anaconda3\\envs\\env1\\lib\\site-packages\\scipy\\optimize\\_differentiable_functions.py\", line 238, in _update_grad\n",
      "    self._update_grad_impl()\n",
      "  File \"C:\\Users\\fayma\\anaconda3\\envs\\env1\\lib\\site-packages\\scipy\\optimize\\_differentiable_functions.py\", line 155, in update_grad\n",
      "    self.g = approx_derivative(fun_wrapped, self.x, f0=self.f,\n",
      "  File \"C:\\Users\\fayma\\anaconda3\\envs\\env1\\lib\\site-packages\\scipy\\optimize\\_numdiff.py\", line 486, in approx_derivative\n",
      "    return _dense_difference(fun_wrapped, x0, f0, h,\n",
      "  File \"C:\\Users\\fayma\\anaconda3\\envs\\env1\\lib\\site-packages\\scipy\\optimize\\_numdiff.py\", line 557, in _dense_difference\n",
      "    df = fun(x) - f0\n",
      "  File \"C:\\Users\\fayma\\anaconda3\\envs\\env1\\lib\\site-packages\\scipy\\optimize\\_numdiff.py\", line 437, in fun_wrapped\n",
      "    f = np.atleast_1d(fun(x, *args, **kwargs))\n",
      "  File \"C:\\Users\\fayma\\anaconda3\\envs\\env1\\lib\\site-packages\\scipy\\optimize\\_differentiable_functions.py\", line 134, in fun_wrapped\n",
      "    return fun(np.copy(x), *args)\n",
      "  File \"C:\\Users\\fayma\\anaconda3\\envs\\env1\\lib\\site-packages\\statsmodels\\base\\model.py\", line 501, in f\n",
      "    return -self.loglike(params, *args) / nobs\n",
      "  File \"C:\\Users\\fayma\\anaconda3\\envs\\env1\\lib\\site-packages\\statsmodels\\tsa\\statespace\\mlemodel.py\", line 925, in loglike\n",
      "    loglike = self.ssm.loglike(complex_step=complex_step, **kwargs)\n",
      "  File \"C:\\Users\\fayma\\anaconda3\\envs\\env1\\lib\\site-packages\\statsmodels\\tsa\\statespace\\kalman_filter.py\", line 983, in loglike\n",
      "    kfilter = self._filter(**kwargs)\n",
      "  File \"C:\\Users\\fayma\\anaconda3\\envs\\env1\\lib\\site-packages\\statsmodels\\tsa\\statespace\\kalman_filter.py\", line 903, in _filter\n",
      "    self._initialize_state(prefix=prefix, complex_step=complex_step)\n",
      "  File \"C:\\Users\\fayma\\anaconda3\\envs\\env1\\lib\\site-packages\\statsmodels\\tsa\\statespace\\representation.py\", line 985, in _initialize_state\n",
      "    self._statespaces[prefix].initialize(self.initialization,\n",
      "  File \"statsmodels\\tsa\\statespace\\_representation.pyx\", line 1362, in statsmodels.tsa.statespace._representation.dStatespace.initialize\n",
      "  File \"statsmodels\\tsa\\statespace\\_initialization.pyx\", line 288, in statsmodels.tsa.statespace._initialization.dInitialization.initialize\n",
      "  File \"statsmodels\\tsa\\statespace\\_initialization.pyx\", line 406, in statsmodels.tsa.statespace._initialization.dInitialization.initialize_stationary_stationary_cov\n",
      "  File \"statsmodels\\tsa\\statespace\\_tools.pyx\", line 1206, in statsmodels.tsa.statespace._tools._dsolve_discrete_lyapunov\n",
      "numpy.linalg.LinAlgError: LU decomposition error.\n",
      "\n",
      "\n",
      "C:\\Users\\fayma\\anaconda3\\envs\\env1\\lib\\site-packages\\pmdarima\\arima\\_auto_solvers.py:522: ModelFitWarning:\n",
      "\n",
      "Error fitting  ARIMA(2,0,0)(1,0,1)[12] intercept (if you do not want to see these warnings, run with error_action=\"ignore\").\n",
      "Traceback:\n",
      "Traceback (most recent call last):\n",
      "  File \"C:\\Users\\fayma\\anaconda3\\envs\\env1\\lib\\site-packages\\pmdarima\\arima\\_auto_solvers.py\", line 506, in _fit_candidate_model\n",
      "    fit.fit(y, X=X, **fit_params)\n",
      "  File \"C:\\Users\\fayma\\anaconda3\\envs\\env1\\lib\\site-packages\\pmdarima\\arima\\arima.py\", line 482, in fit\n",
      "    self._fit(y, X, **fit_args)\n",
      "  File \"C:\\Users\\fayma\\anaconda3\\envs\\env1\\lib\\site-packages\\pmdarima\\arima\\arima.py\", line 403, in _fit\n",
      "    fit, self.arima_res_ = _fit_wrapper()\n",
      "  File \"C:\\Users\\fayma\\anaconda3\\envs\\env1\\lib\\site-packages\\pmdarima\\arima\\arima.py\", line 393, in _fit_wrapper\n",
      "    return arima, arima.fit(start_params=start_params,\n",
      "  File \"C:\\Users\\fayma\\anaconda3\\envs\\env1\\lib\\site-packages\\statsmodels\\tsa\\statespace\\mlemodel.py\", line 690, in fit\n",
      "    mlefit = super(MLEModel, self).fit(start_params, method=method,\n",
      "  File \"C:\\Users\\fayma\\anaconda3\\envs\\env1\\lib\\site-packages\\statsmodels\\base\\model.py\", line 519, in fit\n",
      "    xopt, retvals, optim_settings = optimizer._fit(f, score, start_params,\n",
      "  File \"C:\\Users\\fayma\\anaconda3\\envs\\env1\\lib\\site-packages\\statsmodels\\base\\optimizer.py\", line 224, in _fit\n",
      "    xopt, retvals = func(objective, gradient, start_params, fargs, kwargs,\n",
      "  File \"C:\\Users\\fayma\\anaconda3\\envs\\env1\\lib\\site-packages\\statsmodels\\base\\optimizer.py\", line 629, in _fit_lbfgs\n",
      "    retvals = optimize.fmin_l_bfgs_b(func, start_params, maxiter=maxiter,\n",
      "  File \"C:\\Users\\fayma\\anaconda3\\envs\\env1\\lib\\site-packages\\scipy\\optimize\\lbfgsb.py\", line 197, in fmin_l_bfgs_b\n",
      "    res = _minimize_lbfgsb(fun, x0, args=args, jac=jac, bounds=bounds,\n",
      "  File \"C:\\Users\\fayma\\anaconda3\\envs\\env1\\lib\\site-packages\\scipy\\optimize\\lbfgsb.py\", line 360, in _minimize_lbfgsb\n",
      "    f, g = func_and_grad(x)\n",
      "  File \"C:\\Users\\fayma\\anaconda3\\envs\\env1\\lib\\site-packages\\scipy\\optimize\\_differentiable_functions.py\", line 267, in fun_and_grad\n",
      "    self._update_fun()\n",
      "  File \"C:\\Users\\fayma\\anaconda3\\envs\\env1\\lib\\site-packages\\scipy\\optimize\\_differentiable_functions.py\", line 233, in _update_fun\n",
      "    self._update_fun_impl()\n",
      "  File \"C:\\Users\\fayma\\anaconda3\\envs\\env1\\lib\\site-packages\\scipy\\optimize\\_differentiable_functions.py\", line 137, in update_fun\n",
      "    self.f = fun_wrapped(self.x)\n",
      "  File \"C:\\Users\\fayma\\anaconda3\\envs\\env1\\lib\\site-packages\\scipy\\optimize\\_differentiable_functions.py\", line 134, in fun_wrapped\n",
      "    return fun(np.copy(x), *args)\n",
      "  File \"C:\\Users\\fayma\\anaconda3\\envs\\env1\\lib\\site-packages\\statsmodels\\base\\model.py\", line 501, in f\n",
      "    return -self.loglike(params, *args) / nobs\n",
      "  File \"C:\\Users\\fayma\\anaconda3\\envs\\env1\\lib\\site-packages\\statsmodels\\tsa\\statespace\\mlemodel.py\", line 925, in loglike\n",
      "    loglike = self.ssm.loglike(complex_step=complex_step, **kwargs)\n",
      "  File \"C:\\Users\\fayma\\anaconda3\\envs\\env1\\lib\\site-packages\\statsmodels\\tsa\\statespace\\kalman_filter.py\", line 983, in loglike\n",
      "    kfilter = self._filter(**kwargs)\n",
      "  File \"C:\\Users\\fayma\\anaconda3\\envs\\env1\\lib\\site-packages\\statsmodels\\tsa\\statespace\\kalman_filter.py\", line 903, in _filter\n",
      "    self._initialize_state(prefix=prefix, complex_step=complex_step)\n",
      "  File \"C:\\Users\\fayma\\anaconda3\\envs\\env1\\lib\\site-packages\\statsmodels\\tsa\\statespace\\representation.py\", line 985, in _initialize_state\n",
      "    self._statespaces[prefix].initialize(self.initialization,\n",
      "  File \"statsmodels\\tsa\\statespace\\_representation.pyx\", line 1362, in statsmodels.tsa.statespace._representation.dStatespace.initialize\n",
      "  File \"statsmodels\\tsa\\statespace\\_initialization.pyx\", line 288, in statsmodels.tsa.statespace._initialization.dInitialization.initialize\n",
      "  File \"statsmodels\\tsa\\statespace\\_initialization.pyx\", line 406, in statsmodels.tsa.statespace._initialization.dInitialization.initialize_stationary_stationary_cov\n",
      "  File \"statsmodels\\tsa\\statespace\\_tools.pyx\", line 1206, in statsmodels.tsa.statespace._tools._dsolve_discrete_lyapunov\n",
      "numpy.linalg.LinAlgError: LU decomposition error.\n",
      "\n",
      "\n"
     ]
    },
    {
     "name": "stderr",
     "output_type": "stream",
     "text": [
      "C:\\Users\\fayma\\anaconda3\\envs\\env1\\lib\\site-packages\\pmdarima\\arima\\_auto_solvers.py:522: ModelFitWarning:\n",
      "\n",
      "Error fitting  ARIMA(2,1,1)(2,0,1)[12]           (if you do not want to see these warnings, run with error_action=\"ignore\").\n",
      "Traceback:\n",
      "Traceback (most recent call last):\n",
      "  File \"C:\\Users\\fayma\\anaconda3\\envs\\env1\\lib\\site-packages\\pmdarima\\arima\\_auto_solvers.py\", line 506, in _fit_candidate_model\n",
      "    fit.fit(y, X=X, **fit_params)\n",
      "  File \"C:\\Users\\fayma\\anaconda3\\envs\\env1\\lib\\site-packages\\pmdarima\\arima\\arima.py\", line 482, in fit\n",
      "    self._fit(y, X, **fit_args)\n",
      "  File \"C:\\Users\\fayma\\anaconda3\\envs\\env1\\lib\\site-packages\\pmdarima\\arima\\arima.py\", line 403, in _fit\n",
      "    fit, self.arima_res_ = _fit_wrapper()\n",
      "  File \"C:\\Users\\fayma\\anaconda3\\envs\\env1\\lib\\site-packages\\pmdarima\\arima\\arima.py\", line 393, in _fit_wrapper\n",
      "    return arima, arima.fit(start_params=start_params,\n",
      "  File \"C:\\Users\\fayma\\anaconda3\\envs\\env1\\lib\\site-packages\\statsmodels\\tsa\\statespace\\mlemodel.py\", line 690, in fit\n",
      "    mlefit = super(MLEModel, self).fit(start_params, method=method,\n",
      "  File \"C:\\Users\\fayma\\anaconda3\\envs\\env1\\lib\\site-packages\\statsmodels\\base\\model.py\", line 519, in fit\n",
      "    xopt, retvals, optim_settings = optimizer._fit(f, score, start_params,\n",
      "  File \"C:\\Users\\fayma\\anaconda3\\envs\\env1\\lib\\site-packages\\statsmodels\\base\\optimizer.py\", line 224, in _fit\n",
      "    xopt, retvals = func(objective, gradient, start_params, fargs, kwargs,\n",
      "  File \"C:\\Users\\fayma\\anaconda3\\envs\\env1\\lib\\site-packages\\statsmodels\\base\\optimizer.py\", line 629, in _fit_lbfgs\n",
      "    retvals = optimize.fmin_l_bfgs_b(func, start_params, maxiter=maxiter,\n",
      "  File \"C:\\Users\\fayma\\anaconda3\\envs\\env1\\lib\\site-packages\\scipy\\optimize\\lbfgsb.py\", line 197, in fmin_l_bfgs_b\n",
      "    res = _minimize_lbfgsb(fun, x0, args=args, jac=jac, bounds=bounds,\n",
      "  File \"C:\\Users\\fayma\\anaconda3\\envs\\env1\\lib\\site-packages\\scipy\\optimize\\lbfgsb.py\", line 360, in _minimize_lbfgsb\n",
      "    f, g = func_and_grad(x)\n",
      "  File \"C:\\Users\\fayma\\anaconda3\\envs\\env1\\lib\\site-packages\\scipy\\optimize\\_differentiable_functions.py\", line 268, in fun_and_grad\n",
      "    self._update_grad()\n",
      "  File \"C:\\Users\\fayma\\anaconda3\\envs\\env1\\lib\\site-packages\\scipy\\optimize\\_differentiable_functions.py\", line 238, in _update_grad\n",
      "    self._update_grad_impl()\n",
      "  File \"C:\\Users\\fayma\\anaconda3\\envs\\env1\\lib\\site-packages\\scipy\\optimize\\_differentiable_functions.py\", line 155, in update_grad\n",
      "    self.g = approx_derivative(fun_wrapped, self.x, f0=self.f,\n",
      "  File \"C:\\Users\\fayma\\anaconda3\\envs\\env1\\lib\\site-packages\\scipy\\optimize\\_numdiff.py\", line 486, in approx_derivative\n",
      "    return _dense_difference(fun_wrapped, x0, f0, h,\n",
      "  File \"C:\\Users\\fayma\\anaconda3\\envs\\env1\\lib\\site-packages\\scipy\\optimize\\_numdiff.py\", line 557, in _dense_difference\n",
      "    df = fun(x) - f0\n",
      "  File \"C:\\Users\\fayma\\anaconda3\\envs\\env1\\lib\\site-packages\\scipy\\optimize\\_numdiff.py\", line 437, in fun_wrapped\n",
      "    f = np.atleast_1d(fun(x, *args, **kwargs))\n",
      "  File \"C:\\Users\\fayma\\anaconda3\\envs\\env1\\lib\\site-packages\\scipy\\optimize\\_differentiable_functions.py\", line 134, in fun_wrapped\n",
      "    return fun(np.copy(x), *args)\n",
      "  File \"C:\\Users\\fayma\\anaconda3\\envs\\env1\\lib\\site-packages\\statsmodels\\base\\model.py\", line 501, in f\n",
      "    return -self.loglike(params, *args) / nobs\n",
      "  File \"C:\\Users\\fayma\\anaconda3\\envs\\env1\\lib\\site-packages\\statsmodels\\tsa\\statespace\\mlemodel.py\", line 925, in loglike\n",
      "    loglike = self.ssm.loglike(complex_step=complex_step, **kwargs)\n",
      "  File \"C:\\Users\\fayma\\anaconda3\\envs\\env1\\lib\\site-packages\\statsmodels\\tsa\\statespace\\kalman_filter.py\", line 983, in loglike\n",
      "    kfilter = self._filter(**kwargs)\n",
      "  File \"C:\\Users\\fayma\\anaconda3\\envs\\env1\\lib\\site-packages\\statsmodels\\tsa\\statespace\\kalman_filter.py\", line 903, in _filter\n",
      "    self._initialize_state(prefix=prefix, complex_step=complex_step)\n",
      "  File \"C:\\Users\\fayma\\anaconda3\\envs\\env1\\lib\\site-packages\\statsmodels\\tsa\\statespace\\representation.py\", line 985, in _initialize_state\n",
      "    self._statespaces[prefix].initialize(self.initialization,\n",
      "  File \"statsmodels\\tsa\\statespace\\_representation.pyx\", line 1373, in statsmodels.tsa.statespace._representation.dStatespace.initialize\n",
      "  File \"statsmodels\\tsa\\statespace\\_representation.pyx\", line 1362, in statsmodels.tsa.statespace._representation.dStatespace.initialize\n",
      "  File \"statsmodels\\tsa\\statespace\\_initialization.pyx\", line 288, in statsmodels.tsa.statespace._initialization.dInitialization.initialize\n",
      "  File \"statsmodels\\tsa\\statespace\\_initialization.pyx\", line 406, in statsmodels.tsa.statespace._initialization.dInitialization.initialize_stationary_stationary_cov\n",
      "  File \"statsmodels\\tsa\\statespace\\_tools.pyx\", line 1206, in statsmodels.tsa.statespace._tools._dsolve_discrete_lyapunov\n",
      "numpy.linalg.LinAlgError: LU decomposition error.\n",
      "\n",
      "\n",
      "C:\\Users\\fayma\\anaconda3\\envs\\env1\\lib\\site-packages\\pmdarima\\arima\\_auto_solvers.py:522: ModelFitWarning:\n",
      "\n",
      "Error fitting  ARIMA(2,1,1)(1,0,0)[12] intercept (if you do not want to see these warnings, run with error_action=\"ignore\").\n",
      "Traceback:\n",
      "Traceback (most recent call last):\n",
      "  File \"C:\\Users\\fayma\\anaconda3\\envs\\env1\\lib\\site-packages\\pmdarima\\arima\\_auto_solvers.py\", line 506, in _fit_candidate_model\n",
      "    fit.fit(y, X=X, **fit_params)\n",
      "  File \"C:\\Users\\fayma\\anaconda3\\envs\\env1\\lib\\site-packages\\pmdarima\\arima\\arima.py\", line 482, in fit\n",
      "    self._fit(y, X, **fit_args)\n",
      "  File \"C:\\Users\\fayma\\anaconda3\\envs\\env1\\lib\\site-packages\\pmdarima\\arima\\arima.py\", line 403, in _fit\n",
      "    fit, self.arima_res_ = _fit_wrapper()\n",
      "  File \"C:\\Users\\fayma\\anaconda3\\envs\\env1\\lib\\site-packages\\pmdarima\\arima\\arima.py\", line 393, in _fit_wrapper\n",
      "    return arima, arima.fit(start_params=start_params,\n",
      "  File \"C:\\Users\\fayma\\anaconda3\\envs\\env1\\lib\\site-packages\\statsmodels\\tsa\\statespace\\mlemodel.py\", line 690, in fit\n",
      "    mlefit = super(MLEModel, self).fit(start_params, method=method,\n",
      "  File \"C:\\Users\\fayma\\anaconda3\\envs\\env1\\lib\\site-packages\\statsmodels\\base\\model.py\", line 519, in fit\n",
      "    xopt, retvals, optim_settings = optimizer._fit(f, score, start_params,\n",
      "  File \"C:\\Users\\fayma\\anaconda3\\envs\\env1\\lib\\site-packages\\statsmodels\\base\\optimizer.py\", line 224, in _fit\n",
      "    xopt, retvals = func(objective, gradient, start_params, fargs, kwargs,\n",
      "  File \"C:\\Users\\fayma\\anaconda3\\envs\\env1\\lib\\site-packages\\statsmodels\\base\\optimizer.py\", line 629, in _fit_lbfgs\n",
      "    retvals = optimize.fmin_l_bfgs_b(func, start_params, maxiter=maxiter,\n",
      "  File \"C:\\Users\\fayma\\anaconda3\\envs\\env1\\lib\\site-packages\\scipy\\optimize\\lbfgsb.py\", line 197, in fmin_l_bfgs_b\n",
      "    res = _minimize_lbfgsb(fun, x0, args=args, jac=jac, bounds=bounds,\n",
      "  File \"C:\\Users\\fayma\\anaconda3\\envs\\env1\\lib\\site-packages\\scipy\\optimize\\lbfgsb.py\", line 360, in _minimize_lbfgsb\n",
      "    f, g = func_and_grad(x)\n",
      "  File \"C:\\Users\\fayma\\anaconda3\\envs\\env1\\lib\\site-packages\\scipy\\optimize\\_differentiable_functions.py\", line 267, in fun_and_grad\n",
      "    self._update_fun()\n",
      "  File \"C:\\Users\\fayma\\anaconda3\\envs\\env1\\lib\\site-packages\\scipy\\optimize\\_differentiable_functions.py\", line 233, in _update_fun\n",
      "    self._update_fun_impl()\n",
      "  File \"C:\\Users\\fayma\\anaconda3\\envs\\env1\\lib\\site-packages\\scipy\\optimize\\_differentiable_functions.py\", line 137, in update_fun\n",
      "    self.f = fun_wrapped(self.x)\n",
      "  File \"C:\\Users\\fayma\\anaconda3\\envs\\env1\\lib\\site-packages\\scipy\\optimize\\_differentiable_functions.py\", line 134, in fun_wrapped\n",
      "    return fun(np.copy(x), *args)\n",
      "  File \"C:\\Users\\fayma\\anaconda3\\envs\\env1\\lib\\site-packages\\statsmodels\\base\\model.py\", line 501, in f\n",
      "    return -self.loglike(params, *args) / nobs\n",
      "  File \"C:\\Users\\fayma\\anaconda3\\envs\\env1\\lib\\site-packages\\statsmodels\\tsa\\statespace\\mlemodel.py\", line 925, in loglike\n",
      "    loglike = self.ssm.loglike(complex_step=complex_step, **kwargs)\n",
      "  File \"C:\\Users\\fayma\\anaconda3\\envs\\env1\\lib\\site-packages\\statsmodels\\tsa\\statespace\\kalman_filter.py\", line 983, in loglike\n",
      "    kfilter = self._filter(**kwargs)\n",
      "  File \"C:\\Users\\fayma\\anaconda3\\envs\\env1\\lib\\site-packages\\statsmodels\\tsa\\statespace\\kalman_filter.py\", line 903, in _filter\n",
      "    self._initialize_state(prefix=prefix, complex_step=complex_step)\n",
      "  File \"C:\\Users\\fayma\\anaconda3\\envs\\env1\\lib\\site-packages\\statsmodels\\tsa\\statespace\\representation.py\", line 985, in _initialize_state\n",
      "    self._statespaces[prefix].initialize(self.initialization,\n",
      "  File \"statsmodels\\tsa\\statespace\\_representation.pyx\", line 1373, in statsmodels.tsa.statespace._representation.dStatespace.initialize\n",
      "  File \"statsmodels\\tsa\\statespace\\_representation.pyx\", line 1362, in statsmodels.tsa.statespace._representation.dStatespace.initialize\n",
      "  File \"statsmodels\\tsa\\statespace\\_initialization.pyx\", line 288, in statsmodels.tsa.statespace._initialization.dInitialization.initialize\n",
      "  File \"statsmodels\\tsa\\statespace\\_initialization.pyx\", line 406, in statsmodels.tsa.statespace._initialization.dInitialization.initialize_stationary_stationary_cov\n",
      "  File \"statsmodels\\tsa\\statespace\\_tools.pyx\", line 1206, in statsmodels.tsa.statespace._tools._dsolve_discrete_lyapunov\n",
      "numpy.linalg.LinAlgError: LU decomposition error.\n",
      "\n",
      "\n"
     ]
    },
    {
     "name": "stderr",
     "output_type": "stream",
     "text": [
      "C:\\Users\\fayma\\anaconda3\\envs\\env1\\lib\\site-packages\\pmdarima\\arima\\_auto_solvers.py:522: ModelFitWarning:\n",
      "\n",
      "Error fitting  ARIMA(2,1,1)(1,0,1)[12] intercept (if you do not want to see these warnings, run with error_action=\"ignore\").\n",
      "Traceback:\n",
      "Traceback (most recent call last):\n",
      "  File \"C:\\Users\\fayma\\anaconda3\\envs\\env1\\lib\\site-packages\\pmdarima\\arima\\_auto_solvers.py\", line 506, in _fit_candidate_model\n",
      "    fit.fit(y, X=X, **fit_params)\n",
      "  File \"C:\\Users\\fayma\\anaconda3\\envs\\env1\\lib\\site-packages\\pmdarima\\arima\\arima.py\", line 482, in fit\n",
      "    self._fit(y, X, **fit_args)\n",
      "  File \"C:\\Users\\fayma\\anaconda3\\envs\\env1\\lib\\site-packages\\pmdarima\\arima\\arima.py\", line 403, in _fit\n",
      "    fit, self.arima_res_ = _fit_wrapper()\n",
      "  File \"C:\\Users\\fayma\\anaconda3\\envs\\env1\\lib\\site-packages\\pmdarima\\arima\\arima.py\", line 393, in _fit_wrapper\n",
      "    return arima, arima.fit(start_params=start_params,\n",
      "  File \"C:\\Users\\fayma\\anaconda3\\envs\\env1\\lib\\site-packages\\statsmodels\\tsa\\statespace\\mlemodel.py\", line 690, in fit\n",
      "    mlefit = super(MLEModel, self).fit(start_params, method=method,\n",
      "  File \"C:\\Users\\fayma\\anaconda3\\envs\\env1\\lib\\site-packages\\statsmodels\\base\\model.py\", line 519, in fit\n",
      "    xopt, retvals, optim_settings = optimizer._fit(f, score, start_params,\n",
      "  File \"C:\\Users\\fayma\\anaconda3\\envs\\env1\\lib\\site-packages\\statsmodels\\base\\optimizer.py\", line 224, in _fit\n",
      "    xopt, retvals = func(objective, gradient, start_params, fargs, kwargs,\n",
      "  File \"C:\\Users\\fayma\\anaconda3\\envs\\env1\\lib\\site-packages\\statsmodels\\base\\optimizer.py\", line 629, in _fit_lbfgs\n",
      "    retvals = optimize.fmin_l_bfgs_b(func, start_params, maxiter=maxiter,\n",
      "  File \"C:\\Users\\fayma\\anaconda3\\envs\\env1\\lib\\site-packages\\scipy\\optimize\\lbfgsb.py\", line 197, in fmin_l_bfgs_b\n",
      "    res = _minimize_lbfgsb(fun, x0, args=args, jac=jac, bounds=bounds,\n",
      "  File \"C:\\Users\\fayma\\anaconda3\\envs\\env1\\lib\\site-packages\\scipy\\optimize\\lbfgsb.py\", line 360, in _minimize_lbfgsb\n",
      "    f, g = func_and_grad(x)\n",
      "  File \"C:\\Users\\fayma\\anaconda3\\envs\\env1\\lib\\site-packages\\scipy\\optimize\\_differentiable_functions.py\", line 267, in fun_and_grad\n",
      "    self._update_fun()\n",
      "  File \"C:\\Users\\fayma\\anaconda3\\envs\\env1\\lib\\site-packages\\scipy\\optimize\\_differentiable_functions.py\", line 233, in _update_fun\n",
      "    self._update_fun_impl()\n",
      "  File \"C:\\Users\\fayma\\anaconda3\\envs\\env1\\lib\\site-packages\\scipy\\optimize\\_differentiable_functions.py\", line 137, in update_fun\n",
      "    self.f = fun_wrapped(self.x)\n",
      "  File \"C:\\Users\\fayma\\anaconda3\\envs\\env1\\lib\\site-packages\\scipy\\optimize\\_differentiable_functions.py\", line 134, in fun_wrapped\n",
      "    return fun(np.copy(x), *args)\n",
      "  File \"C:\\Users\\fayma\\anaconda3\\envs\\env1\\lib\\site-packages\\statsmodels\\base\\model.py\", line 501, in f\n",
      "    return -self.loglike(params, *args) / nobs\n",
      "  File \"C:\\Users\\fayma\\anaconda3\\envs\\env1\\lib\\site-packages\\statsmodels\\tsa\\statespace\\mlemodel.py\", line 925, in loglike\n",
      "    loglike = self.ssm.loglike(complex_step=complex_step, **kwargs)\n",
      "  File \"C:\\Users\\fayma\\anaconda3\\envs\\env1\\lib\\site-packages\\statsmodels\\tsa\\statespace\\kalman_filter.py\", line 983, in loglike\n",
      "    kfilter = self._filter(**kwargs)\n",
      "  File \"C:\\Users\\fayma\\anaconda3\\envs\\env1\\lib\\site-packages\\statsmodels\\tsa\\statespace\\kalman_filter.py\", line 903, in _filter\n",
      "    self._initialize_state(prefix=prefix, complex_step=complex_step)\n",
      "  File \"C:\\Users\\fayma\\anaconda3\\envs\\env1\\lib\\site-packages\\statsmodels\\tsa\\statespace\\representation.py\", line 985, in _initialize_state\n",
      "    self._statespaces[prefix].initialize(self.initialization,\n",
      "  File \"statsmodels\\tsa\\statespace\\_representation.pyx\", line 1373, in statsmodels.tsa.statespace._representation.dStatespace.initialize\n",
      "  File \"statsmodels\\tsa\\statespace\\_representation.pyx\", line 1362, in statsmodels.tsa.statespace._representation.dStatespace.initialize\n",
      "  File \"statsmodels\\tsa\\statespace\\_initialization.pyx\", line 288, in statsmodels.tsa.statespace._initialization.dInitialization.initialize\n",
      "  File \"statsmodels\\tsa\\statespace\\_initialization.pyx\", line 406, in statsmodels.tsa.statespace._initialization.dInitialization.initialize_stationary_stationary_cov\n",
      "  File \"statsmodels\\tsa\\statespace\\_tools.pyx\", line 1206, in statsmodels.tsa.statespace._tools._dsolve_discrete_lyapunov\n",
      "numpy.linalg.LinAlgError: LU decomposition error.\n",
      "\n",
      "\n",
      "C:\\Users\\fayma\\anaconda3\\envs\\env1\\lib\\site-packages\\pmdarima\\arima\\_auto_solvers.py:522: ModelFitWarning:\n",
      "\n",
      "Error fitting  ARIMA(2,0,0)(0,0,0)[12]           (if you do not want to see these warnings, run with error_action=\"ignore\").\n",
      "Traceback:\n",
      "Traceback (most recent call last):\n",
      "  File \"C:\\Users\\fayma\\anaconda3\\envs\\env1\\lib\\site-packages\\pmdarima\\arima\\_auto_solvers.py\", line 506, in _fit_candidate_model\n",
      "    fit.fit(y, X=X, **fit_params)\n",
      "  File \"C:\\Users\\fayma\\anaconda3\\envs\\env1\\lib\\site-packages\\pmdarima\\arima\\arima.py\", line 482, in fit\n",
      "    self._fit(y, X, **fit_args)\n",
      "  File \"C:\\Users\\fayma\\anaconda3\\envs\\env1\\lib\\site-packages\\pmdarima\\arima\\arima.py\", line 403, in _fit\n",
      "    fit, self.arima_res_ = _fit_wrapper()\n",
      "  File \"C:\\Users\\fayma\\anaconda3\\envs\\env1\\lib\\site-packages\\pmdarima\\arima\\arima.py\", line 393, in _fit_wrapper\n",
      "    return arima, arima.fit(start_params=start_params,\n",
      "  File \"C:\\Users\\fayma\\anaconda3\\envs\\env1\\lib\\site-packages\\statsmodels\\tsa\\statespace\\mlemodel.py\", line 690, in fit\n",
      "    mlefit = super(MLEModel, self).fit(start_params, method=method,\n",
      "  File \"C:\\Users\\fayma\\anaconda3\\envs\\env1\\lib\\site-packages\\statsmodels\\base\\model.py\", line 519, in fit\n",
      "    xopt, retvals, optim_settings = optimizer._fit(f, score, start_params,\n",
      "  File \"C:\\Users\\fayma\\anaconda3\\envs\\env1\\lib\\site-packages\\statsmodels\\base\\optimizer.py\", line 224, in _fit\n",
      "    xopt, retvals = func(objective, gradient, start_params, fargs, kwargs,\n",
      "  File \"C:\\Users\\fayma\\anaconda3\\envs\\env1\\lib\\site-packages\\statsmodels\\base\\optimizer.py\", line 629, in _fit_lbfgs\n",
      "    retvals = optimize.fmin_l_bfgs_b(func, start_params, maxiter=maxiter,\n",
      "  File \"C:\\Users\\fayma\\anaconda3\\envs\\env1\\lib\\site-packages\\scipy\\optimize\\lbfgsb.py\", line 197, in fmin_l_bfgs_b\n",
      "    res = _minimize_lbfgsb(fun, x0, args=args, jac=jac, bounds=bounds,\n",
      "  File \"C:\\Users\\fayma\\anaconda3\\envs\\env1\\lib\\site-packages\\scipy\\optimize\\lbfgsb.py\", line 360, in _minimize_lbfgsb\n",
      "    f, g = func_and_grad(x)\n",
      "  File \"C:\\Users\\fayma\\anaconda3\\envs\\env1\\lib\\site-packages\\scipy\\optimize\\_differentiable_functions.py\", line 267, in fun_and_grad\n",
      "    self._update_fun()\n",
      "  File \"C:\\Users\\fayma\\anaconda3\\envs\\env1\\lib\\site-packages\\scipy\\optimize\\_differentiable_functions.py\", line 233, in _update_fun\n",
      "    self._update_fun_impl()\n",
      "  File \"C:\\Users\\fayma\\anaconda3\\envs\\env1\\lib\\site-packages\\scipy\\optimize\\_differentiable_functions.py\", line 137, in update_fun\n",
      "    self.f = fun_wrapped(self.x)\n",
      "  File \"C:\\Users\\fayma\\anaconda3\\envs\\env1\\lib\\site-packages\\scipy\\optimize\\_differentiable_functions.py\", line 134, in fun_wrapped\n",
      "    return fun(np.copy(x), *args)\n",
      "  File \"C:\\Users\\fayma\\anaconda3\\envs\\env1\\lib\\site-packages\\statsmodels\\base\\model.py\", line 501, in f\n",
      "    return -self.loglike(params, *args) / nobs\n",
      "  File \"C:\\Users\\fayma\\anaconda3\\envs\\env1\\lib\\site-packages\\statsmodels\\tsa\\statespace\\mlemodel.py\", line 925, in loglike\n",
      "    loglike = self.ssm.loglike(complex_step=complex_step, **kwargs)\n",
      "  File \"C:\\Users\\fayma\\anaconda3\\envs\\env1\\lib\\site-packages\\statsmodels\\tsa\\statespace\\kalman_filter.py\", line 983, in loglike\n",
      "    kfilter = self._filter(**kwargs)\n",
      "  File \"C:\\Users\\fayma\\anaconda3\\envs\\env1\\lib\\site-packages\\statsmodels\\tsa\\statespace\\kalman_filter.py\", line 903, in _filter\n",
      "    self._initialize_state(prefix=prefix, complex_step=complex_step)\n",
      "  File \"C:\\Users\\fayma\\anaconda3\\envs\\env1\\lib\\site-packages\\statsmodels\\tsa\\statespace\\representation.py\", line 985, in _initialize_state\n",
      "    self._statespaces[prefix].initialize(self.initialization,\n",
      "  File \"statsmodels\\tsa\\statespace\\_representation.pyx\", line 1362, in statsmodels.tsa.statespace._representation.dStatespace.initialize\n",
      "  File \"statsmodels\\tsa\\statespace\\_initialization.pyx\", line 288, in statsmodels.tsa.statespace._initialization.dInitialization.initialize\n",
      "  File \"statsmodels\\tsa\\statespace\\_initialization.pyx\", line 406, in statsmodels.tsa.statespace._initialization.dInitialization.initialize_stationary_stationary_cov\n",
      "  File \"statsmodels\\tsa\\statespace\\_tools.pyx\", line 1206, in statsmodels.tsa.statespace._tools._dsolve_discrete_lyapunov\n",
      "numpy.linalg.LinAlgError: LU decomposition error.\n",
      "\n",
      "\n"
     ]
    },
    {
     "name": "stderr",
     "output_type": "stream",
     "text": [
      "C:\\Users\\fayma\\anaconda3\\envs\\env1\\lib\\site-packages\\pmdarima\\arima\\_auto_solvers.py:522: ModelFitWarning:\n",
      "\n",
      "Error fitting  ARIMA(2,1,1)(0,0,0)[12]           (if you do not want to see these warnings, run with error_action=\"ignore\").\n",
      "Traceback:\n",
      "Traceback (most recent call last):\n",
      "  File \"C:\\Users\\fayma\\anaconda3\\envs\\env1\\lib\\site-packages\\pmdarima\\arima\\_auto_solvers.py\", line 506, in _fit_candidate_model\n",
      "    fit.fit(y, X=X, **fit_params)\n",
      "  File \"C:\\Users\\fayma\\anaconda3\\envs\\env1\\lib\\site-packages\\pmdarima\\arima\\arima.py\", line 482, in fit\n",
      "    self._fit(y, X, **fit_args)\n",
      "  File \"C:\\Users\\fayma\\anaconda3\\envs\\env1\\lib\\site-packages\\pmdarima\\arima\\arima.py\", line 403, in _fit\n",
      "    fit, self.arima_res_ = _fit_wrapper()\n",
      "  File \"C:\\Users\\fayma\\anaconda3\\envs\\env1\\lib\\site-packages\\pmdarima\\arima\\arima.py\", line 393, in _fit_wrapper\n",
      "    return arima, arima.fit(start_params=start_params,\n",
      "  File \"C:\\Users\\fayma\\anaconda3\\envs\\env1\\lib\\site-packages\\statsmodels\\tsa\\statespace\\mlemodel.py\", line 690, in fit\n",
      "    mlefit = super(MLEModel, self).fit(start_params, method=method,\n",
      "  File \"C:\\Users\\fayma\\anaconda3\\envs\\env1\\lib\\site-packages\\statsmodels\\base\\model.py\", line 519, in fit\n",
      "    xopt, retvals, optim_settings = optimizer._fit(f, score, start_params,\n",
      "  File \"C:\\Users\\fayma\\anaconda3\\envs\\env1\\lib\\site-packages\\statsmodels\\base\\optimizer.py\", line 224, in _fit\n",
      "    xopt, retvals = func(objective, gradient, start_params, fargs, kwargs,\n",
      "  File \"C:\\Users\\fayma\\anaconda3\\envs\\env1\\lib\\site-packages\\statsmodels\\base\\optimizer.py\", line 629, in _fit_lbfgs\n",
      "    retvals = optimize.fmin_l_bfgs_b(func, start_params, maxiter=maxiter,\n",
      "  File \"C:\\Users\\fayma\\anaconda3\\envs\\env1\\lib\\site-packages\\scipy\\optimize\\lbfgsb.py\", line 197, in fmin_l_bfgs_b\n",
      "    res = _minimize_lbfgsb(fun, x0, args=args, jac=jac, bounds=bounds,\n",
      "  File \"C:\\Users\\fayma\\anaconda3\\envs\\env1\\lib\\site-packages\\scipy\\optimize\\lbfgsb.py\", line 360, in _minimize_lbfgsb\n",
      "    f, g = func_and_grad(x)\n",
      "  File \"C:\\Users\\fayma\\anaconda3\\envs\\env1\\lib\\site-packages\\scipy\\optimize\\_differentiable_functions.py\", line 267, in fun_and_grad\n",
      "    self._update_fun()\n",
      "  File \"C:\\Users\\fayma\\anaconda3\\envs\\env1\\lib\\site-packages\\scipy\\optimize\\_differentiable_functions.py\", line 233, in _update_fun\n",
      "    self._update_fun_impl()\n",
      "  File \"C:\\Users\\fayma\\anaconda3\\envs\\env1\\lib\\site-packages\\scipy\\optimize\\_differentiable_functions.py\", line 137, in update_fun\n",
      "    self.f = fun_wrapped(self.x)\n",
      "  File \"C:\\Users\\fayma\\anaconda3\\envs\\env1\\lib\\site-packages\\scipy\\optimize\\_differentiable_functions.py\", line 134, in fun_wrapped\n",
      "    return fun(np.copy(x), *args)\n",
      "  File \"C:\\Users\\fayma\\anaconda3\\envs\\env1\\lib\\site-packages\\statsmodels\\base\\model.py\", line 501, in f\n",
      "    return -self.loglike(params, *args) / nobs\n",
      "  File \"C:\\Users\\fayma\\anaconda3\\envs\\env1\\lib\\site-packages\\statsmodels\\tsa\\statespace\\mlemodel.py\", line 925, in loglike\n",
      "    loglike = self.ssm.loglike(complex_step=complex_step, **kwargs)\n",
      "  File \"C:\\Users\\fayma\\anaconda3\\envs\\env1\\lib\\site-packages\\statsmodels\\tsa\\statespace\\kalman_filter.py\", line 983, in loglike\n",
      "    kfilter = self._filter(**kwargs)\n",
      "  File \"C:\\Users\\fayma\\anaconda3\\envs\\env1\\lib\\site-packages\\statsmodels\\tsa\\statespace\\kalman_filter.py\", line 903, in _filter\n",
      "    self._initialize_state(prefix=prefix, complex_step=complex_step)\n",
      "  File \"C:\\Users\\fayma\\anaconda3\\envs\\env1\\lib\\site-packages\\statsmodels\\tsa\\statespace\\representation.py\", line 985, in _initialize_state\n",
      "    self._statespaces[prefix].initialize(self.initialization,\n",
      "  File \"statsmodels\\tsa\\statespace\\_representation.pyx\", line 1373, in statsmodels.tsa.statespace._representation.dStatespace.initialize\n",
      "  File \"statsmodels\\tsa\\statespace\\_representation.pyx\", line 1362, in statsmodels.tsa.statespace._representation.dStatespace.initialize\n",
      "  File \"statsmodels\\tsa\\statespace\\_initialization.pyx\", line 288, in statsmodels.tsa.statespace._initialization.dInitialization.initialize\n",
      "  File \"statsmodels\\tsa\\statespace\\_initialization.pyx\", line 406, in statsmodels.tsa.statespace._initialization.dInitialization.initialize_stationary_stationary_cov\n",
      "  File \"statsmodels\\tsa\\statespace\\_tools.pyx\", line 1206, in statsmodels.tsa.statespace._tools._dsolve_discrete_lyapunov\n",
      "numpy.linalg.LinAlgError: LU decomposition error.\n",
      "\n",
      "\n",
      "C:\\Users\\fayma\\anaconda3\\envs\\env1\\lib\\site-packages\\pmdarima\\arima\\_auto_solvers.py:522: ModelFitWarning:\n",
      "\n",
      "Error fitting  ARIMA(2,0,0)(1,0,1)[12] intercept (if you do not want to see these warnings, run with error_action=\"ignore\").\n",
      "Traceback:\n",
      "Traceback (most recent call last):\n",
      "  File \"C:\\Users\\fayma\\anaconda3\\envs\\env1\\lib\\site-packages\\pmdarima\\arima\\_auto_solvers.py\", line 506, in _fit_candidate_model\n",
      "    fit.fit(y, X=X, **fit_params)\n",
      "  File \"C:\\Users\\fayma\\anaconda3\\envs\\env1\\lib\\site-packages\\pmdarima\\arima\\arima.py\", line 482, in fit\n",
      "    self._fit(y, X, **fit_args)\n",
      "  File \"C:\\Users\\fayma\\anaconda3\\envs\\env1\\lib\\site-packages\\pmdarima\\arima\\arima.py\", line 403, in _fit\n",
      "    fit, self.arima_res_ = _fit_wrapper()\n",
      "  File \"C:\\Users\\fayma\\anaconda3\\envs\\env1\\lib\\site-packages\\pmdarima\\arima\\arima.py\", line 393, in _fit_wrapper\n",
      "    return arima, arima.fit(start_params=start_params,\n",
      "  File \"C:\\Users\\fayma\\anaconda3\\envs\\env1\\lib\\site-packages\\statsmodels\\tsa\\statespace\\mlemodel.py\", line 690, in fit\n",
      "    mlefit = super(MLEModel, self).fit(start_params, method=method,\n",
      "  File \"C:\\Users\\fayma\\anaconda3\\envs\\env1\\lib\\site-packages\\statsmodels\\base\\model.py\", line 519, in fit\n",
      "    xopt, retvals, optim_settings = optimizer._fit(f, score, start_params,\n",
      "  File \"C:\\Users\\fayma\\anaconda3\\envs\\env1\\lib\\site-packages\\statsmodels\\base\\optimizer.py\", line 224, in _fit\n",
      "    xopt, retvals = func(objective, gradient, start_params, fargs, kwargs,\n",
      "  File \"C:\\Users\\fayma\\anaconda3\\envs\\env1\\lib\\site-packages\\statsmodels\\base\\optimizer.py\", line 629, in _fit_lbfgs\n",
      "    retvals = optimize.fmin_l_bfgs_b(func, start_params, maxiter=maxiter,\n",
      "  File \"C:\\Users\\fayma\\anaconda3\\envs\\env1\\lib\\site-packages\\scipy\\optimize\\lbfgsb.py\", line 197, in fmin_l_bfgs_b\n",
      "    res = _minimize_lbfgsb(fun, x0, args=args, jac=jac, bounds=bounds,\n",
      "  File \"C:\\Users\\fayma\\anaconda3\\envs\\env1\\lib\\site-packages\\scipy\\optimize\\lbfgsb.py\", line 360, in _minimize_lbfgsb\n",
      "    f, g = func_and_grad(x)\n",
      "  File \"C:\\Users\\fayma\\anaconda3\\envs\\env1\\lib\\site-packages\\scipy\\optimize\\_differentiable_functions.py\", line 267, in fun_and_grad\n",
      "    self._update_fun()\n",
      "  File \"C:\\Users\\fayma\\anaconda3\\envs\\env1\\lib\\site-packages\\scipy\\optimize\\_differentiable_functions.py\", line 233, in _update_fun\n",
      "    self._update_fun_impl()\n",
      "  File \"C:\\Users\\fayma\\anaconda3\\envs\\env1\\lib\\site-packages\\scipy\\optimize\\_differentiable_functions.py\", line 137, in update_fun\n",
      "    self.f = fun_wrapped(self.x)\n",
      "  File \"C:\\Users\\fayma\\anaconda3\\envs\\env1\\lib\\site-packages\\scipy\\optimize\\_differentiable_functions.py\", line 134, in fun_wrapped\n",
      "    return fun(np.copy(x), *args)\n",
      "  File \"C:\\Users\\fayma\\anaconda3\\envs\\env1\\lib\\site-packages\\statsmodels\\base\\model.py\", line 501, in f\n",
      "    return -self.loglike(params, *args) / nobs\n",
      "  File \"C:\\Users\\fayma\\anaconda3\\envs\\env1\\lib\\site-packages\\statsmodels\\tsa\\statespace\\mlemodel.py\", line 925, in loglike\n",
      "    loglike = self.ssm.loglike(complex_step=complex_step, **kwargs)\n",
      "  File \"C:\\Users\\fayma\\anaconda3\\envs\\env1\\lib\\site-packages\\statsmodels\\tsa\\statespace\\kalman_filter.py\", line 983, in loglike\n",
      "    kfilter = self._filter(**kwargs)\n",
      "  File \"C:\\Users\\fayma\\anaconda3\\envs\\env1\\lib\\site-packages\\statsmodels\\tsa\\statespace\\kalman_filter.py\", line 903, in _filter\n",
      "    self._initialize_state(prefix=prefix, complex_step=complex_step)\n",
      "  File \"C:\\Users\\fayma\\anaconda3\\envs\\env1\\lib\\site-packages\\statsmodels\\tsa\\statespace\\representation.py\", line 985, in _initialize_state\n",
      "    self._statespaces[prefix].initialize(self.initialization,\n",
      "  File \"statsmodels\\tsa\\statespace\\_representation.pyx\", line 1362, in statsmodels.tsa.statespace._representation.dStatespace.initialize\n",
      "  File \"statsmodels\\tsa\\statespace\\_initialization.pyx\", line 288, in statsmodels.tsa.statespace._initialization.dInitialization.initialize\n",
      "  File \"statsmodels\\tsa\\statespace\\_initialization.pyx\", line 406, in statsmodels.tsa.statespace._initialization.dInitialization.initialize_stationary_stationary_cov\n",
      "  File \"statsmodels\\tsa\\statespace\\_tools.pyx\", line 1206, in statsmodels.tsa.statespace._tools._dsolve_discrete_lyapunov\n",
      "numpy.linalg.LinAlgError: LU decomposition error.\n",
      "\n",
      "\n"
     ]
    },
    {
     "name": "stderr",
     "output_type": "stream",
     "text": [
      "C:\\Users\\fayma\\anaconda3\\envs\\env1\\lib\\site-packages\\pmdarima\\arima\\_auto_solvers.py:522: ModelFitWarning:\n",
      "\n",
      "Error fitting  ARIMA(3,0,0)(2,0,0)[12] intercept (if you do not want to see these warnings, run with error_action=\"ignore\").\n",
      "Traceback:\n",
      "Traceback (most recent call last):\n",
      "  File \"C:\\Users\\fayma\\anaconda3\\envs\\env1\\lib\\site-packages\\pmdarima\\arima\\_auto_solvers.py\", line 506, in _fit_candidate_model\n",
      "    fit.fit(y, X=X, **fit_params)\n",
      "  File \"C:\\Users\\fayma\\anaconda3\\envs\\env1\\lib\\site-packages\\pmdarima\\arima\\arima.py\", line 482, in fit\n",
      "    self._fit(y, X, **fit_args)\n",
      "  File \"C:\\Users\\fayma\\anaconda3\\envs\\env1\\lib\\site-packages\\pmdarima\\arima\\arima.py\", line 403, in _fit\n",
      "    fit, self.arima_res_ = _fit_wrapper()\n",
      "  File \"C:\\Users\\fayma\\anaconda3\\envs\\env1\\lib\\site-packages\\pmdarima\\arima\\arima.py\", line 393, in _fit_wrapper\n",
      "    return arima, arima.fit(start_params=start_params,\n",
      "  File \"C:\\Users\\fayma\\anaconda3\\envs\\env1\\lib\\site-packages\\statsmodels\\tsa\\statespace\\mlemodel.py\", line 690, in fit\n",
      "    mlefit = super(MLEModel, self).fit(start_params, method=method,\n",
      "  File \"C:\\Users\\fayma\\anaconda3\\envs\\env1\\lib\\site-packages\\statsmodels\\base\\model.py\", line 519, in fit\n",
      "    xopt, retvals, optim_settings = optimizer._fit(f, score, start_params,\n",
      "  File \"C:\\Users\\fayma\\anaconda3\\envs\\env1\\lib\\site-packages\\statsmodels\\base\\optimizer.py\", line 224, in _fit\n",
      "    xopt, retvals = func(objective, gradient, start_params, fargs, kwargs,\n",
      "  File \"C:\\Users\\fayma\\anaconda3\\envs\\env1\\lib\\site-packages\\statsmodels\\base\\optimizer.py\", line 629, in _fit_lbfgs\n",
      "    retvals = optimize.fmin_l_bfgs_b(func, start_params, maxiter=maxiter,\n",
      "  File \"C:\\Users\\fayma\\anaconda3\\envs\\env1\\lib\\site-packages\\scipy\\optimize\\lbfgsb.py\", line 197, in fmin_l_bfgs_b\n",
      "    res = _minimize_lbfgsb(fun, x0, args=args, jac=jac, bounds=bounds,\n",
      "  File \"C:\\Users\\fayma\\anaconda3\\envs\\env1\\lib\\site-packages\\scipy\\optimize\\lbfgsb.py\", line 360, in _minimize_lbfgsb\n",
      "    f, g = func_and_grad(x)\n",
      "  File \"C:\\Users\\fayma\\anaconda3\\envs\\env1\\lib\\site-packages\\scipy\\optimize\\_differentiable_functions.py\", line 267, in fun_and_grad\n",
      "    self._update_fun()\n",
      "  File \"C:\\Users\\fayma\\anaconda3\\envs\\env1\\lib\\site-packages\\scipy\\optimize\\_differentiable_functions.py\", line 233, in _update_fun\n",
      "    self._update_fun_impl()\n",
      "  File \"C:\\Users\\fayma\\anaconda3\\envs\\env1\\lib\\site-packages\\scipy\\optimize\\_differentiable_functions.py\", line 137, in update_fun\n",
      "    self.f = fun_wrapped(self.x)\n",
      "  File \"C:\\Users\\fayma\\anaconda3\\envs\\env1\\lib\\site-packages\\scipy\\optimize\\_differentiable_functions.py\", line 134, in fun_wrapped\n",
      "    return fun(np.copy(x), *args)\n",
      "  File \"C:\\Users\\fayma\\anaconda3\\envs\\env1\\lib\\site-packages\\statsmodels\\base\\model.py\", line 501, in f\n",
      "    return -self.loglike(params, *args) / nobs\n",
      "  File \"C:\\Users\\fayma\\anaconda3\\envs\\env1\\lib\\site-packages\\statsmodels\\tsa\\statespace\\mlemodel.py\", line 925, in loglike\n",
      "    loglike = self.ssm.loglike(complex_step=complex_step, **kwargs)\n",
      "  File \"C:\\Users\\fayma\\anaconda3\\envs\\env1\\lib\\site-packages\\statsmodels\\tsa\\statespace\\kalman_filter.py\", line 983, in loglike\n",
      "    kfilter = self._filter(**kwargs)\n",
      "  File \"C:\\Users\\fayma\\anaconda3\\envs\\env1\\lib\\site-packages\\statsmodels\\tsa\\statespace\\kalman_filter.py\", line 903, in _filter\n",
      "    self._initialize_state(prefix=prefix, complex_step=complex_step)\n",
      "  File \"C:\\Users\\fayma\\anaconda3\\envs\\env1\\lib\\site-packages\\statsmodels\\tsa\\statespace\\representation.py\", line 985, in _initialize_state\n",
      "    self._statespaces[prefix].initialize(self.initialization,\n",
      "  File \"statsmodels\\tsa\\statespace\\_representation.pyx\", line 1362, in statsmodels.tsa.statespace._representation.dStatespace.initialize\n",
      "  File \"statsmodels\\tsa\\statespace\\_initialization.pyx\", line 288, in statsmodels.tsa.statespace._initialization.dInitialization.initialize\n",
      "  File \"statsmodels\\tsa\\statespace\\_initialization.pyx\", line 406, in statsmodels.tsa.statespace._initialization.dInitialization.initialize_stationary_stationary_cov\n",
      "  File \"statsmodels\\tsa\\statespace\\_tools.pyx\", line 1206, in statsmodels.tsa.statespace._tools._dsolve_discrete_lyapunov\n",
      "numpy.linalg.LinAlgError: LU decomposition error.\n",
      "\n",
      "\n",
      "C:\\Users\\fayma\\anaconda3\\envs\\env1\\lib\\site-packages\\pmdarima\\arima\\_auto_solvers.py:522: ModelFitWarning:\n",
      "\n",
      "Error fitting  ARIMA(2,1,1)(2,0,1)[12]           (if you do not want to see these warnings, run with error_action=\"ignore\").\n",
      "Traceback:\n",
      "Traceback (most recent call last):\n",
      "  File \"C:\\Users\\fayma\\anaconda3\\envs\\env1\\lib\\site-packages\\pmdarima\\arima\\_auto_solvers.py\", line 506, in _fit_candidate_model\n",
      "    fit.fit(y, X=X, **fit_params)\n",
      "  File \"C:\\Users\\fayma\\anaconda3\\envs\\env1\\lib\\site-packages\\pmdarima\\arima\\arima.py\", line 482, in fit\n",
      "    self._fit(y, X, **fit_args)\n",
      "  File \"C:\\Users\\fayma\\anaconda3\\envs\\env1\\lib\\site-packages\\pmdarima\\arima\\arima.py\", line 403, in _fit\n",
      "    fit, self.arima_res_ = _fit_wrapper()\n",
      "  File \"C:\\Users\\fayma\\anaconda3\\envs\\env1\\lib\\site-packages\\pmdarima\\arima\\arima.py\", line 393, in _fit_wrapper\n",
      "    return arima, arima.fit(start_params=start_params,\n",
      "  File \"C:\\Users\\fayma\\anaconda3\\envs\\env1\\lib\\site-packages\\statsmodels\\tsa\\statespace\\mlemodel.py\", line 690, in fit\n",
      "    mlefit = super(MLEModel, self).fit(start_params, method=method,\n",
      "  File \"C:\\Users\\fayma\\anaconda3\\envs\\env1\\lib\\site-packages\\statsmodels\\base\\model.py\", line 519, in fit\n",
      "    xopt, retvals, optim_settings = optimizer._fit(f, score, start_params,\n",
      "  File \"C:\\Users\\fayma\\anaconda3\\envs\\env1\\lib\\site-packages\\statsmodels\\base\\optimizer.py\", line 224, in _fit\n",
      "    xopt, retvals = func(objective, gradient, start_params, fargs, kwargs,\n",
      "  File \"C:\\Users\\fayma\\anaconda3\\envs\\env1\\lib\\site-packages\\statsmodels\\base\\optimizer.py\", line 629, in _fit_lbfgs\n",
      "    retvals = optimize.fmin_l_bfgs_b(func, start_params, maxiter=maxiter,\n",
      "  File \"C:\\Users\\fayma\\anaconda3\\envs\\env1\\lib\\site-packages\\scipy\\optimize\\lbfgsb.py\", line 197, in fmin_l_bfgs_b\n",
      "    res = _minimize_lbfgsb(fun, x0, args=args, jac=jac, bounds=bounds,\n",
      "  File \"C:\\Users\\fayma\\anaconda3\\envs\\env1\\lib\\site-packages\\scipy\\optimize\\lbfgsb.py\", line 360, in _minimize_lbfgsb\n",
      "    f, g = func_and_grad(x)\n",
      "  File \"C:\\Users\\fayma\\anaconda3\\envs\\env1\\lib\\site-packages\\scipy\\optimize\\_differentiable_functions.py\", line 267, in fun_and_grad\n",
      "    self._update_fun()\n",
      "  File \"C:\\Users\\fayma\\anaconda3\\envs\\env1\\lib\\site-packages\\scipy\\optimize\\_differentiable_functions.py\", line 233, in _update_fun\n",
      "    self._update_fun_impl()\n",
      "  File \"C:\\Users\\fayma\\anaconda3\\envs\\env1\\lib\\site-packages\\scipy\\optimize\\_differentiable_functions.py\", line 137, in update_fun\n",
      "    self.f = fun_wrapped(self.x)\n",
      "  File \"C:\\Users\\fayma\\anaconda3\\envs\\env1\\lib\\site-packages\\scipy\\optimize\\_differentiable_functions.py\", line 134, in fun_wrapped\n",
      "    return fun(np.copy(x), *args)\n",
      "  File \"C:\\Users\\fayma\\anaconda3\\envs\\env1\\lib\\site-packages\\statsmodels\\base\\model.py\", line 501, in f\n",
      "    return -self.loglike(params, *args) / nobs\n",
      "  File \"C:\\Users\\fayma\\anaconda3\\envs\\env1\\lib\\site-packages\\statsmodels\\tsa\\statespace\\mlemodel.py\", line 925, in loglike\n",
      "    loglike = self.ssm.loglike(complex_step=complex_step, **kwargs)\n",
      "  File \"C:\\Users\\fayma\\anaconda3\\envs\\env1\\lib\\site-packages\\statsmodels\\tsa\\statespace\\kalman_filter.py\", line 983, in loglike\n",
      "    kfilter = self._filter(**kwargs)\n",
      "  File \"C:\\Users\\fayma\\anaconda3\\envs\\env1\\lib\\site-packages\\statsmodels\\tsa\\statespace\\kalman_filter.py\", line 903, in _filter\n",
      "    self._initialize_state(prefix=prefix, complex_step=complex_step)\n",
      "  File \"C:\\Users\\fayma\\anaconda3\\envs\\env1\\lib\\site-packages\\statsmodels\\tsa\\statespace\\representation.py\", line 985, in _initialize_state\n",
      "    self._statespaces[prefix].initialize(self.initialization,\n",
      "  File \"statsmodels\\tsa\\statespace\\_representation.pyx\", line 1373, in statsmodels.tsa.statespace._representation.dStatespace.initialize\n",
      "  File \"statsmodels\\tsa\\statespace\\_representation.pyx\", line 1362, in statsmodels.tsa.statespace._representation.dStatespace.initialize\n",
      "  File \"statsmodels\\tsa\\statespace\\_initialization.pyx\", line 288, in statsmodels.tsa.statespace._initialization.dInitialization.initialize\n",
      "  File \"statsmodels\\tsa\\statespace\\_initialization.pyx\", line 406, in statsmodels.tsa.statespace._initialization.dInitialization.initialize_stationary_stationary_cov\n",
      "  File \"statsmodels\\tsa\\statespace\\_tools.pyx\", line 1206, in statsmodels.tsa.statespace._tools._dsolve_discrete_lyapunov\n",
      "numpy.linalg.LinAlgError: LU decomposition error.\n",
      "\n",
      "\n"
     ]
    },
    {
     "ename": "KeyboardInterrupt",
     "evalue": "",
     "output_type": "error",
     "traceback": [
      "\u001b[1;31m---------------------------------------------------------------------------\u001b[0m",
      "\u001b[1;31mKeyboardInterrupt\u001b[0m                         Traceback (most recent call last)",
      "\u001b[1;32m~\\AppData\\Local\\Temp/ipykernel_16460/2455158163.py\u001b[0m in \u001b[0;36m<module>\u001b[1;34m\u001b[0m\n\u001b[0;32m      1\u001b[0m \u001b[0mstart\u001b[0m \u001b[1;33m=\u001b[0m \u001b[0mdatetime\u001b[0m\u001b[1;33m.\u001b[0m\u001b[0mnow\u001b[0m\u001b[1;33m(\u001b[0m\u001b[1;33m)\u001b[0m\u001b[1;33m\u001b[0m\u001b[1;33m\u001b[0m\u001b[0m\n\u001b[0;32m      2\u001b[0m \u001b[1;32mfor\u001b[0m \u001b[0mitem\u001b[0m \u001b[1;32min\u001b[0m \u001b[0mzips\u001b[0m\u001b[1;33m:\u001b[0m\u001b[1;33m\u001b[0m\u001b[1;33m\u001b[0m\u001b[0m\n\u001b[1;32m----> 3\u001b[1;33m     \u001b[0mcurr_model\u001b[0m \u001b[1;33m=\u001b[0m \u001b[0marima\u001b[0m\u001b[1;33m(\u001b[0m\u001b[0mts_dict\u001b[0m\u001b[1;33m[\u001b[0m\u001b[0mitem\u001b[0m\u001b[1;33m]\u001b[0m\u001b[1;33m,\u001b[0m \u001b[0mstart_p\u001b[0m\u001b[1;33m=\u001b[0m\u001b[1;36m0\u001b[0m\u001b[1;33m,\u001b[0m \u001b[0mstart_q\u001b[0m\u001b[1;33m=\u001b[0m\u001b[1;36m0\u001b[0m\u001b[1;33m,\u001b[0m \u001b[0mm\u001b[0m\u001b[1;33m=\u001b[0m\u001b[1;36m12\u001b[0m\u001b[1;33m)\u001b[0m\u001b[1;33m\u001b[0m\u001b[1;33m\u001b[0m\u001b[0m\n\u001b[0m\u001b[0;32m      4\u001b[0m     \u001b[0mmodels_dict\u001b[0m\u001b[1;33m[\u001b[0m\u001b[0mitem\u001b[0m\u001b[1;33m]\u001b[0m \u001b[1;33m=\u001b[0m \u001b[1;33m(\u001b[0m\u001b[0mcurr_model\u001b[0m\u001b[1;33m.\u001b[0m\u001b[0morder\u001b[0m\u001b[1;33m,\u001b[0m \u001b[0mcurr_model\u001b[0m\u001b[1;33m.\u001b[0m\u001b[0mseasonal_order\u001b[0m\u001b[1;33m)\u001b[0m\u001b[1;33m\u001b[0m\u001b[1;33m\u001b[0m\u001b[0m\n\u001b[0;32m      5\u001b[0m \u001b[0melapsed\u001b[0m \u001b[1;33m=\u001b[0m \u001b[0mdatetime\u001b[0m\u001b[1;33m.\u001b[0m\u001b[0mnow\u001b[0m\u001b[1;33m(\u001b[0m\u001b[1;33m)\u001b[0m \u001b[1;33m-\u001b[0m \u001b[0mstart\u001b[0m\u001b[1;33m\u001b[0m\u001b[1;33m\u001b[0m\u001b[0m\n",
      "\u001b[1;32m~\\anaconda3\\envs\\env1\\lib\\site-packages\\pmdarima\\arima\\auto.py\u001b[0m in \u001b[0;36mauto_arima\u001b[1;34m(y, X, start_p, d, start_q, max_p, max_d, max_q, start_P, D, start_Q, max_P, max_D, max_Q, max_order, m, seasonal, stationary, information_criterion, alpha, test, seasonal_test, stepwise, n_jobs, start_params, trend, method, maxiter, offset_test_args, seasonal_test_args, suppress_warnings, error_action, trace, random, random_state, n_fits, return_valid_fits, out_of_sample_size, scoring, scoring_args, with_intercept, sarimax_kwargs, **fit_args)\u001b[0m\n\u001b[0;32m    715\u001b[0m         )\n\u001b[0;32m    716\u001b[0m \u001b[1;33m\u001b[0m\u001b[0m\n\u001b[1;32m--> 717\u001b[1;33m     \u001b[0msorted_res\u001b[0m \u001b[1;33m=\u001b[0m \u001b[0msearch\u001b[0m\u001b[1;33m.\u001b[0m\u001b[0msolve\u001b[0m\u001b[1;33m(\u001b[0m\u001b[1;33m)\u001b[0m\u001b[1;33m\u001b[0m\u001b[1;33m\u001b[0m\u001b[0m\n\u001b[0m\u001b[0;32m    718\u001b[0m     \u001b[1;32mreturn\u001b[0m \u001b[0m_return_wrapper\u001b[0m\u001b[1;33m(\u001b[0m\u001b[0msorted_res\u001b[0m\u001b[1;33m,\u001b[0m \u001b[0mreturn_valid_fits\u001b[0m\u001b[1;33m,\u001b[0m \u001b[0mstart\u001b[0m\u001b[1;33m,\u001b[0m \u001b[0mtrace\u001b[0m\u001b[1;33m)\u001b[0m\u001b[1;33m\u001b[0m\u001b[1;33m\u001b[0m\u001b[0m\n\u001b[0;32m    719\u001b[0m \u001b[1;33m\u001b[0m\u001b[0m\n",
      "\u001b[1;32m~\\anaconda3\\envs\\env1\\lib\\site-packages\\pmdarima\\arima\\_auto_solvers.py\u001b[0m in \u001b[0;36msolve\u001b[1;34m(self)\u001b[0m\n\u001b[0;32m    343\u001b[0m             \u001b[1;32mif\u001b[0m \u001b[0mP\u001b[0m \u001b[1;33m<\u001b[0m \u001b[0mmax_P\u001b[0m \u001b[1;32mand\u001b[0m\u001b[0;31m \u001b[0m\u001b[0;31m\\\u001b[0m\u001b[1;33m\u001b[0m\u001b[1;33m\u001b[0m\u001b[0m\n\u001b[0;32m    344\u001b[0m                     \u001b[0mself\u001b[0m\u001b[1;33m.\u001b[0m\u001b[0mk\u001b[0m \u001b[1;33m<\u001b[0m \u001b[0mself\u001b[0m\u001b[1;33m.\u001b[0m\u001b[0mmax_k\u001b[0m \u001b[1;32mand\u001b[0m\u001b[0;31m \u001b[0m\u001b[0;31m\\\u001b[0m\u001b[1;33m\u001b[0m\u001b[1;33m\u001b[0m\u001b[0m\n\u001b[1;32m--> 345\u001b[1;33m                     \u001b[0mself\u001b[0m\u001b[1;33m.\u001b[0m\u001b[0m_do_fit\u001b[0m\u001b[1;33m(\u001b[0m\u001b[1;33m(\u001b[0m\u001b[0mp\u001b[0m\u001b[1;33m,\u001b[0m \u001b[0md\u001b[0m\u001b[1;33m,\u001b[0m \u001b[0mq\u001b[0m\u001b[1;33m)\u001b[0m\u001b[1;33m,\u001b[0m \u001b[1;33m(\u001b[0m\u001b[0mP\u001b[0m \u001b[1;33m+\u001b[0m \u001b[1;36m1\u001b[0m\u001b[1;33m,\u001b[0m \u001b[0mD\u001b[0m\u001b[1;33m,\u001b[0m \u001b[0mQ\u001b[0m\u001b[1;33m,\u001b[0m \u001b[0mm\u001b[0m\u001b[1;33m)\u001b[0m\u001b[1;33m)\u001b[0m\u001b[1;33m:\u001b[0m\u001b[1;33m\u001b[0m\u001b[1;33m\u001b[0m\u001b[0m\n\u001b[0m\u001b[0;32m    346\u001b[0m                 \u001b[0mP\u001b[0m \u001b[1;33m+=\u001b[0m \u001b[1;36m1\u001b[0m\u001b[1;33m\u001b[0m\u001b[1;33m\u001b[0m\u001b[0m\n\u001b[0;32m    347\u001b[0m                 \u001b[1;32mcontinue\u001b[0m\u001b[1;33m\u001b[0m\u001b[1;33m\u001b[0m\u001b[0m\n",
      "\u001b[1;32m~\\anaconda3\\envs\\env1\\lib\\site-packages\\pmdarima\\arima\\_auto_solvers.py\u001b[0m in \u001b[0;36m_do_fit\u001b[1;34m(self, order, seasonal_order, constant)\u001b[0m\n\u001b[0;32m    231\u001b[0m             \u001b[0mself\u001b[0m\u001b[1;33m.\u001b[0m\u001b[0mk\u001b[0m \u001b[1;33m+=\u001b[0m \u001b[1;36m1\u001b[0m\u001b[1;33m\u001b[0m\u001b[1;33m\u001b[0m\u001b[0m\n\u001b[0;32m    232\u001b[0m \u001b[1;33m\u001b[0m\u001b[0m\n\u001b[1;32m--> 233\u001b[1;33m             fit, fit_time, new_ic = self._fit_arima(\n\u001b[0m\u001b[0;32m    234\u001b[0m                 \u001b[0morder\u001b[0m\u001b[1;33m=\u001b[0m\u001b[0morder\u001b[0m\u001b[1;33m,\u001b[0m\u001b[1;33m\u001b[0m\u001b[1;33m\u001b[0m\u001b[0m\n\u001b[0;32m    235\u001b[0m                 \u001b[0mseasonal_order\u001b[0m\u001b[1;33m=\u001b[0m\u001b[0mseasonal_order\u001b[0m\u001b[1;33m,\u001b[0m\u001b[1;33m\u001b[0m\u001b[1;33m\u001b[0m\u001b[0m\n",
      "\u001b[1;32m~\\anaconda3\\envs\\env1\\lib\\site-packages\\pmdarima\\arima\\_auto_solvers.py\u001b[0m in \u001b[0;36m_fit_candidate_model\u001b[1;34m(y, X, order, seasonal_order, start_params, trend, method, maxiter, fit_params, suppress_warnings, trace, error_action, out_of_sample_size, scoring, scoring_args, with_intercept, information_criterion, **kwargs)\u001b[0m\n\u001b[0;32m    504\u001b[0m \u001b[1;33m\u001b[0m\u001b[0m\n\u001b[0;32m    505\u001b[0m     \u001b[1;32mtry\u001b[0m\u001b[1;33m:\u001b[0m\u001b[1;33m\u001b[0m\u001b[1;33m\u001b[0m\u001b[0m\n\u001b[1;32m--> 506\u001b[1;33m         \u001b[0mfit\u001b[0m\u001b[1;33m.\u001b[0m\u001b[0mfit\u001b[0m\u001b[1;33m(\u001b[0m\u001b[0my\u001b[0m\u001b[1;33m,\u001b[0m \u001b[0mX\u001b[0m\u001b[1;33m=\u001b[0m\u001b[0mX\u001b[0m\u001b[1;33m,\u001b[0m \u001b[1;33m**\u001b[0m\u001b[0mfit_params\u001b[0m\u001b[1;33m)\u001b[0m\u001b[1;33m\u001b[0m\u001b[1;33m\u001b[0m\u001b[0m\n\u001b[0m\u001b[0;32m    507\u001b[0m \u001b[1;33m\u001b[0m\u001b[0m\n\u001b[0;32m    508\u001b[0m     \u001b[1;31m# for non-stationarity errors or singular matrices, return None\u001b[0m\u001b[1;33m\u001b[0m\u001b[1;33m\u001b[0m\u001b[1;33m\u001b[0m\u001b[0m\n",
      "\u001b[1;32m~\\anaconda3\\envs\\env1\\lib\\site-packages\\pmdarima\\arima\\arima.py\u001b[0m in \u001b[0;36mfit\u001b[1;34m(self, y, X, **fit_args)\u001b[0m\n\u001b[0;32m    480\u001b[0m \u001b[1;33m\u001b[0m\u001b[0m\n\u001b[0;32m    481\u001b[0m         \u001b[1;31m# Internal call\u001b[0m\u001b[1;33m\u001b[0m\u001b[1;33m\u001b[0m\u001b[1;33m\u001b[0m\u001b[0m\n\u001b[1;32m--> 482\u001b[1;33m         \u001b[0mself\u001b[0m\u001b[1;33m.\u001b[0m\u001b[0m_fit\u001b[0m\u001b[1;33m(\u001b[0m\u001b[0my\u001b[0m\u001b[1;33m,\u001b[0m \u001b[0mX\u001b[0m\u001b[1;33m,\u001b[0m \u001b[1;33m**\u001b[0m\u001b[0mfit_args\u001b[0m\u001b[1;33m)\u001b[0m\u001b[1;33m\u001b[0m\u001b[1;33m\u001b[0m\u001b[0m\n\u001b[0m\u001b[0;32m    483\u001b[0m \u001b[1;33m\u001b[0m\u001b[0m\n\u001b[0;32m    484\u001b[0m         \u001b[1;31m# now make a forecast if we're validating to compute the\u001b[0m\u001b[1;33m\u001b[0m\u001b[1;33m\u001b[0m\u001b[1;33m\u001b[0m\u001b[0m\n",
      "\u001b[1;32m~\\anaconda3\\envs\\env1\\lib\\site-packages\\pmdarima\\arima\\arima.py\u001b[0m in \u001b[0;36m_fit\u001b[1;34m(self, y, X, **fit_args)\u001b[0m\n\u001b[0;32m    401\u001b[0m             \u001b[1;32mwith\u001b[0m \u001b[0mwarnings\u001b[0m\u001b[1;33m.\u001b[0m\u001b[0mcatch_warnings\u001b[0m\u001b[1;33m(\u001b[0m\u001b[0mrecord\u001b[0m\u001b[1;33m=\u001b[0m\u001b[1;32mFalse\u001b[0m\u001b[1;33m)\u001b[0m\u001b[1;33m:\u001b[0m\u001b[1;33m\u001b[0m\u001b[1;33m\u001b[0m\u001b[0m\n\u001b[0;32m    402\u001b[0m                 \u001b[0mwarnings\u001b[0m\u001b[1;33m.\u001b[0m\u001b[0msimplefilter\u001b[0m\u001b[1;33m(\u001b[0m\u001b[1;34m'ignore'\u001b[0m\u001b[1;33m)\u001b[0m\u001b[1;33m\u001b[0m\u001b[1;33m\u001b[0m\u001b[0m\n\u001b[1;32m--> 403\u001b[1;33m                 \u001b[0mfit\u001b[0m\u001b[1;33m,\u001b[0m \u001b[0mself\u001b[0m\u001b[1;33m.\u001b[0m\u001b[0marima_res_\u001b[0m \u001b[1;33m=\u001b[0m \u001b[0m_fit_wrapper\u001b[0m\u001b[1;33m(\u001b[0m\u001b[1;33m)\u001b[0m\u001b[1;33m\u001b[0m\u001b[1;33m\u001b[0m\u001b[0m\n\u001b[0m\u001b[0;32m    404\u001b[0m         \u001b[1;32melse\u001b[0m\u001b[1;33m:\u001b[0m\u001b[1;33m\u001b[0m\u001b[1;33m\u001b[0m\u001b[0m\n\u001b[0;32m    405\u001b[0m             \u001b[0mfit\u001b[0m\u001b[1;33m,\u001b[0m \u001b[0mself\u001b[0m\u001b[1;33m.\u001b[0m\u001b[0marima_res_\u001b[0m \u001b[1;33m=\u001b[0m \u001b[0m_fit_wrapper\u001b[0m\u001b[1;33m(\u001b[0m\u001b[1;33m)\u001b[0m\u001b[1;33m\u001b[0m\u001b[1;33m\u001b[0m\u001b[0m\n",
      "\u001b[1;32m~\\anaconda3\\envs\\env1\\lib\\site-packages\\pmdarima\\arima\\arima.py\u001b[0m in \u001b[0;36m_fit_wrapper\u001b[1;34m()\u001b[0m\n\u001b[0;32m    391\u001b[0m             \u001b[0mdisp\u001b[0m \u001b[1;33m=\u001b[0m \u001b[0mfit_args\u001b[0m\u001b[1;33m.\u001b[0m\u001b[0mpop\u001b[0m\u001b[1;33m(\u001b[0m\u001b[1;34m\"disp\"\u001b[0m\u001b[1;33m,\u001b[0m \u001b[1;36m0\u001b[0m\u001b[1;33m)\u001b[0m\u001b[1;33m\u001b[0m\u001b[1;33m\u001b[0m\u001b[0m\n\u001b[0;32m    392\u001b[0m \u001b[1;33m\u001b[0m\u001b[0m\n\u001b[1;32m--> 393\u001b[1;33m             return arima, arima.fit(start_params=start_params,\n\u001b[0m\u001b[0;32m    394\u001b[0m                                     \u001b[0mmethod\u001b[0m\u001b[1;33m=\u001b[0m\u001b[0mmethod\u001b[0m\u001b[1;33m,\u001b[0m\u001b[1;33m\u001b[0m\u001b[1;33m\u001b[0m\u001b[0m\n\u001b[0;32m    395\u001b[0m                                     \u001b[0mmaxiter\u001b[0m\u001b[1;33m=\u001b[0m\u001b[0m_maxiter\u001b[0m\u001b[1;33m,\u001b[0m\u001b[1;33m\u001b[0m\u001b[1;33m\u001b[0m\u001b[0m\n",
      "\u001b[1;32m~\\anaconda3\\envs\\env1\\lib\\site-packages\\statsmodels\\tsa\\statespace\\mlemodel.py\u001b[0m in \u001b[0;36mfit\u001b[1;34m(self, start_params, transformed, includes_fixed, cov_type, cov_kwds, method, maxiter, full_output, disp, callback, return_params, optim_score, optim_complex_step, optim_hessian, flags, low_memory, **kwargs)\u001b[0m\n\u001b[0;32m    688\u001b[0m                 \u001b[0mflags\u001b[0m\u001b[1;33m[\u001b[0m\u001b[1;34m'hessian_method'\u001b[0m\u001b[1;33m]\u001b[0m \u001b[1;33m=\u001b[0m \u001b[0moptim_hessian\u001b[0m\u001b[1;33m\u001b[0m\u001b[1;33m\u001b[0m\u001b[0m\n\u001b[0;32m    689\u001b[0m             \u001b[0mfargs\u001b[0m \u001b[1;33m=\u001b[0m \u001b[1;33m(\u001b[0m\u001b[0mflags\u001b[0m\u001b[1;33m,\u001b[0m\u001b[1;33m)\u001b[0m\u001b[1;33m\u001b[0m\u001b[1;33m\u001b[0m\u001b[0m\n\u001b[1;32m--> 690\u001b[1;33m             mlefit = super(MLEModel, self).fit(start_params, method=method,\n\u001b[0m\u001b[0;32m    691\u001b[0m                                                \u001b[0mfargs\u001b[0m\u001b[1;33m=\u001b[0m\u001b[0mfargs\u001b[0m\u001b[1;33m,\u001b[0m\u001b[1;33m\u001b[0m\u001b[1;33m\u001b[0m\u001b[0m\n\u001b[0;32m    692\u001b[0m                                                \u001b[0mmaxiter\u001b[0m\u001b[1;33m=\u001b[0m\u001b[0mmaxiter\u001b[0m\u001b[1;33m,\u001b[0m\u001b[1;33m\u001b[0m\u001b[1;33m\u001b[0m\u001b[0m\n",
      "\u001b[1;32m~\\anaconda3\\envs\\env1\\lib\\site-packages\\statsmodels\\base\\model.py\u001b[0m in \u001b[0;36mfit\u001b[1;34m(self, start_params, method, maxiter, full_output, disp, fargs, callback, retall, skip_hessian, **kwargs)\u001b[0m\n\u001b[0;32m    517\u001b[0m         \u001b[0mwarn_convergence\u001b[0m \u001b[1;33m=\u001b[0m \u001b[0mkwargs\u001b[0m\u001b[1;33m.\u001b[0m\u001b[0mpop\u001b[0m\u001b[1;33m(\u001b[0m\u001b[1;34m'warn_convergence'\u001b[0m\u001b[1;33m,\u001b[0m \u001b[1;32mTrue\u001b[0m\u001b[1;33m)\u001b[0m\u001b[1;33m\u001b[0m\u001b[1;33m\u001b[0m\u001b[0m\n\u001b[0;32m    518\u001b[0m         \u001b[0moptimizer\u001b[0m \u001b[1;33m=\u001b[0m \u001b[0mOptimizer\u001b[0m\u001b[1;33m(\u001b[0m\u001b[1;33m)\u001b[0m\u001b[1;33m\u001b[0m\u001b[1;33m\u001b[0m\u001b[0m\n\u001b[1;32m--> 519\u001b[1;33m         xopt, retvals, optim_settings = optimizer._fit(f, score, start_params,\n\u001b[0m\u001b[0;32m    520\u001b[0m                                                        \u001b[0mfargs\u001b[0m\u001b[1;33m,\u001b[0m \u001b[0mkwargs\u001b[0m\u001b[1;33m,\u001b[0m\u001b[1;33m\u001b[0m\u001b[1;33m\u001b[0m\u001b[0m\n\u001b[0;32m    521\u001b[0m                                                        \u001b[0mhessian\u001b[0m\u001b[1;33m=\u001b[0m\u001b[0mhess\u001b[0m\u001b[1;33m,\u001b[0m\u001b[1;33m\u001b[0m\u001b[1;33m\u001b[0m\u001b[0m\n",
      "\u001b[1;32m~\\anaconda3\\envs\\env1\\lib\\site-packages\\statsmodels\\base\\optimizer.py\u001b[0m in \u001b[0;36m_fit\u001b[1;34m(self, objective, gradient, start_params, fargs, kwargs, hessian, method, maxiter, full_output, disp, callback, retall)\u001b[0m\n\u001b[0;32m    222\u001b[0m \u001b[1;33m\u001b[0m\u001b[0m\n\u001b[0;32m    223\u001b[0m         \u001b[0mfunc\u001b[0m \u001b[1;33m=\u001b[0m \u001b[0mfit_funcs\u001b[0m\u001b[1;33m[\u001b[0m\u001b[0mmethod\u001b[0m\u001b[1;33m]\u001b[0m\u001b[1;33m\u001b[0m\u001b[1;33m\u001b[0m\u001b[0m\n\u001b[1;32m--> 224\u001b[1;33m         xopt, retvals = func(objective, gradient, start_params, fargs, kwargs,\n\u001b[0m\u001b[0;32m    225\u001b[0m                             \u001b[0mdisp\u001b[0m\u001b[1;33m=\u001b[0m\u001b[0mdisp\u001b[0m\u001b[1;33m,\u001b[0m \u001b[0mmaxiter\u001b[0m\u001b[1;33m=\u001b[0m\u001b[0mmaxiter\u001b[0m\u001b[1;33m,\u001b[0m \u001b[0mcallback\u001b[0m\u001b[1;33m=\u001b[0m\u001b[0mcallback\u001b[0m\u001b[1;33m,\u001b[0m\u001b[1;33m\u001b[0m\u001b[1;33m\u001b[0m\u001b[0m\n\u001b[0;32m    226\u001b[0m                             \u001b[0mretall\u001b[0m\u001b[1;33m=\u001b[0m\u001b[0mretall\u001b[0m\u001b[1;33m,\u001b[0m \u001b[0mfull_output\u001b[0m\u001b[1;33m=\u001b[0m\u001b[0mfull_output\u001b[0m\u001b[1;33m,\u001b[0m\u001b[1;33m\u001b[0m\u001b[1;33m\u001b[0m\u001b[0m\n",
      "\u001b[1;32m~\\anaconda3\\envs\\env1\\lib\\site-packages\\statsmodels\\base\\optimizer.py\u001b[0m in \u001b[0;36m_fit_lbfgs\u001b[1;34m(f, score, start_params, fargs, kwargs, disp, maxiter, callback, retall, full_output, hess)\u001b[0m\n\u001b[0;32m    627\u001b[0m         \u001b[0mfunc\u001b[0m \u001b[1;33m=\u001b[0m \u001b[0mf\u001b[0m\u001b[1;33m\u001b[0m\u001b[1;33m\u001b[0m\u001b[0m\n\u001b[0;32m    628\u001b[0m \u001b[1;33m\u001b[0m\u001b[0m\n\u001b[1;32m--> 629\u001b[1;33m     retvals = optimize.fmin_l_bfgs_b(func, start_params, maxiter=maxiter,\n\u001b[0m\u001b[0;32m    630\u001b[0m                                      \u001b[0mcallback\u001b[0m\u001b[1;33m=\u001b[0m\u001b[0mcallback\u001b[0m\u001b[1;33m,\u001b[0m \u001b[0margs\u001b[0m\u001b[1;33m=\u001b[0m\u001b[0mfargs\u001b[0m\u001b[1;33m,\u001b[0m\u001b[1;33m\u001b[0m\u001b[1;33m\u001b[0m\u001b[0m\n\u001b[0;32m    631\u001b[0m                                      \u001b[0mbounds\u001b[0m\u001b[1;33m=\u001b[0m\u001b[0mbounds\u001b[0m\u001b[1;33m,\u001b[0m \u001b[0mdisp\u001b[0m\u001b[1;33m=\u001b[0m\u001b[0mdisp\u001b[0m\u001b[1;33m,\u001b[0m\u001b[1;33m\u001b[0m\u001b[1;33m\u001b[0m\u001b[0m\n",
      "\u001b[1;32m~\\anaconda3\\envs\\env1\\lib\\site-packages\\scipy\\optimize\\lbfgsb.py\u001b[0m in \u001b[0;36mfmin_l_bfgs_b\u001b[1;34m(func, x0, fprime, args, approx_grad, bounds, m, factr, pgtol, epsilon, iprint, maxfun, maxiter, disp, callback, maxls)\u001b[0m\n\u001b[0;32m    195\u001b[0m             'maxls': maxls}\n\u001b[0;32m    196\u001b[0m \u001b[1;33m\u001b[0m\u001b[0m\n\u001b[1;32m--> 197\u001b[1;33m     res = _minimize_lbfgsb(fun, x0, args=args, jac=jac, bounds=bounds,\n\u001b[0m\u001b[0;32m    198\u001b[0m                            **opts)\n\u001b[0;32m    199\u001b[0m     d = {'grad': res['jac'],\n",
      "\u001b[1;32m~\\anaconda3\\envs\\env1\\lib\\site-packages\\scipy\\optimize\\lbfgsb.py\u001b[0m in \u001b[0;36m_minimize_lbfgsb\u001b[1;34m(fun, x0, args, jac, bounds, disp, maxcor, ftol, gtol, eps, maxfun, maxiter, iprint, callback, maxls, finite_diff_rel_step, **unknown_options)\u001b[0m\n\u001b[0;32m    358\u001b[0m             \u001b[1;31m# until the completion of the current minimization iteration.\u001b[0m\u001b[1;33m\u001b[0m\u001b[1;33m\u001b[0m\u001b[1;33m\u001b[0m\u001b[0m\n\u001b[0;32m    359\u001b[0m             \u001b[1;31m# Overwrite f and g:\u001b[0m\u001b[1;33m\u001b[0m\u001b[1;33m\u001b[0m\u001b[1;33m\u001b[0m\u001b[0m\n\u001b[1;32m--> 360\u001b[1;33m             \u001b[0mf\u001b[0m\u001b[1;33m,\u001b[0m \u001b[0mg\u001b[0m \u001b[1;33m=\u001b[0m \u001b[0mfunc_and_grad\u001b[0m\u001b[1;33m(\u001b[0m\u001b[0mx\u001b[0m\u001b[1;33m)\u001b[0m\u001b[1;33m\u001b[0m\u001b[1;33m\u001b[0m\u001b[0m\n\u001b[0m\u001b[0;32m    361\u001b[0m         \u001b[1;32melif\u001b[0m \u001b[0mtask_str\u001b[0m\u001b[1;33m.\u001b[0m\u001b[0mstartswith\u001b[0m\u001b[1;33m(\u001b[0m\u001b[1;34mb'NEW_X'\u001b[0m\u001b[1;33m)\u001b[0m\u001b[1;33m:\u001b[0m\u001b[1;33m\u001b[0m\u001b[1;33m\u001b[0m\u001b[0m\n\u001b[0;32m    362\u001b[0m             \u001b[1;31m# new iteration\u001b[0m\u001b[1;33m\u001b[0m\u001b[1;33m\u001b[0m\u001b[1;33m\u001b[0m\u001b[0m\n",
      "\u001b[1;32m~\\anaconda3\\envs\\env1\\lib\\site-packages\\scipy\\optimize\\_differentiable_functions.py\u001b[0m in \u001b[0;36mfun_and_grad\u001b[1;34m(self, x)\u001b[0m\n\u001b[0;32m    266\u001b[0m             \u001b[0mself\u001b[0m\u001b[1;33m.\u001b[0m\u001b[0m_update_x_impl\u001b[0m\u001b[1;33m(\u001b[0m\u001b[0mx\u001b[0m\u001b[1;33m)\u001b[0m\u001b[1;33m\u001b[0m\u001b[1;33m\u001b[0m\u001b[0m\n\u001b[0;32m    267\u001b[0m         \u001b[0mself\u001b[0m\u001b[1;33m.\u001b[0m\u001b[0m_update_fun\u001b[0m\u001b[1;33m(\u001b[0m\u001b[1;33m)\u001b[0m\u001b[1;33m\u001b[0m\u001b[1;33m\u001b[0m\u001b[0m\n\u001b[1;32m--> 268\u001b[1;33m         \u001b[0mself\u001b[0m\u001b[1;33m.\u001b[0m\u001b[0m_update_grad\u001b[0m\u001b[1;33m(\u001b[0m\u001b[1;33m)\u001b[0m\u001b[1;33m\u001b[0m\u001b[1;33m\u001b[0m\u001b[0m\n\u001b[0m\u001b[0;32m    269\u001b[0m         \u001b[1;32mreturn\u001b[0m \u001b[0mself\u001b[0m\u001b[1;33m.\u001b[0m\u001b[0mf\u001b[0m\u001b[1;33m,\u001b[0m \u001b[0mself\u001b[0m\u001b[1;33m.\u001b[0m\u001b[0mg\u001b[0m\u001b[1;33m\u001b[0m\u001b[1;33m\u001b[0m\u001b[0m\n\u001b[0;32m    270\u001b[0m \u001b[1;33m\u001b[0m\u001b[0m\n",
      "\u001b[1;32m~\\anaconda3\\envs\\env1\\lib\\site-packages\\scipy\\optimize\\_differentiable_functions.py\u001b[0m in \u001b[0;36m_update_grad\u001b[1;34m(self)\u001b[0m\n\u001b[0;32m    236\u001b[0m     \u001b[1;32mdef\u001b[0m \u001b[0m_update_grad\u001b[0m\u001b[1;33m(\u001b[0m\u001b[0mself\u001b[0m\u001b[1;33m)\u001b[0m\u001b[1;33m:\u001b[0m\u001b[1;33m\u001b[0m\u001b[1;33m\u001b[0m\u001b[0m\n\u001b[0;32m    237\u001b[0m         \u001b[1;32mif\u001b[0m \u001b[1;32mnot\u001b[0m \u001b[0mself\u001b[0m\u001b[1;33m.\u001b[0m\u001b[0mg_updated\u001b[0m\u001b[1;33m:\u001b[0m\u001b[1;33m\u001b[0m\u001b[1;33m\u001b[0m\u001b[0m\n\u001b[1;32m--> 238\u001b[1;33m             \u001b[0mself\u001b[0m\u001b[1;33m.\u001b[0m\u001b[0m_update_grad_impl\u001b[0m\u001b[1;33m(\u001b[0m\u001b[1;33m)\u001b[0m\u001b[1;33m\u001b[0m\u001b[1;33m\u001b[0m\u001b[0m\n\u001b[0m\u001b[0;32m    239\u001b[0m             \u001b[0mself\u001b[0m\u001b[1;33m.\u001b[0m\u001b[0mg_updated\u001b[0m \u001b[1;33m=\u001b[0m \u001b[1;32mTrue\u001b[0m\u001b[1;33m\u001b[0m\u001b[1;33m\u001b[0m\u001b[0m\n\u001b[0;32m    240\u001b[0m \u001b[1;33m\u001b[0m\u001b[0m\n",
      "\u001b[1;32m~\\anaconda3\\envs\\env1\\lib\\site-packages\\scipy\\optimize\\_differentiable_functions.py\u001b[0m in \u001b[0;36mupdate_grad\u001b[1;34m()\u001b[0m\n\u001b[0;32m    153\u001b[0m                 \u001b[0mself\u001b[0m\u001b[1;33m.\u001b[0m\u001b[0m_update_fun\u001b[0m\u001b[1;33m(\u001b[0m\u001b[1;33m)\u001b[0m\u001b[1;33m\u001b[0m\u001b[1;33m\u001b[0m\u001b[0m\n\u001b[0;32m    154\u001b[0m                 \u001b[0mself\u001b[0m\u001b[1;33m.\u001b[0m\u001b[0mngev\u001b[0m \u001b[1;33m+=\u001b[0m \u001b[1;36m1\u001b[0m\u001b[1;33m\u001b[0m\u001b[1;33m\u001b[0m\u001b[0m\n\u001b[1;32m--> 155\u001b[1;33m                 self.g = approx_derivative(fun_wrapped, self.x, f0=self.f,\n\u001b[0m\u001b[0;32m    156\u001b[0m                                            **finite_diff_options)\n\u001b[0;32m    157\u001b[0m \u001b[1;33m\u001b[0m\u001b[0m\n",
      "\u001b[1;32m~\\anaconda3\\envs\\env1\\lib\\site-packages\\scipy\\optimize\\_numdiff.py\u001b[0m in \u001b[0;36mapprox_derivative\u001b[1;34m(fun, x0, method, rel_step, abs_step, f0, bounds, sparsity, as_linear_operator, args, kwargs)\u001b[0m\n\u001b[0;32m    484\u001b[0m \u001b[1;33m\u001b[0m\u001b[0m\n\u001b[0;32m    485\u001b[0m         \u001b[1;32mif\u001b[0m \u001b[0msparsity\u001b[0m \u001b[1;32mis\u001b[0m \u001b[1;32mNone\u001b[0m\u001b[1;33m:\u001b[0m\u001b[1;33m\u001b[0m\u001b[1;33m\u001b[0m\u001b[0m\n\u001b[1;32m--> 486\u001b[1;33m             return _dense_difference(fun_wrapped, x0, f0, h,\n\u001b[0m\u001b[0;32m    487\u001b[0m                                      use_one_sided, method)\n\u001b[0;32m    488\u001b[0m         \u001b[1;32melse\u001b[0m\u001b[1;33m:\u001b[0m\u001b[1;33m\u001b[0m\u001b[1;33m\u001b[0m\u001b[0m\n",
      "\u001b[1;32m~\\anaconda3\\envs\\env1\\lib\\site-packages\\scipy\\optimize\\_numdiff.py\u001b[0m in \u001b[0;36m_dense_difference\u001b[1;34m(fun, x0, f0, h, use_one_sided, method)\u001b[0m\n\u001b[0;32m    555\u001b[0m             \u001b[0mx\u001b[0m \u001b[1;33m=\u001b[0m \u001b[0mx0\u001b[0m \u001b[1;33m+\u001b[0m \u001b[0mh_vecs\u001b[0m\u001b[1;33m[\u001b[0m\u001b[0mi\u001b[0m\u001b[1;33m]\u001b[0m\u001b[1;33m\u001b[0m\u001b[1;33m\u001b[0m\u001b[0m\n\u001b[0;32m    556\u001b[0m             \u001b[0mdx\u001b[0m \u001b[1;33m=\u001b[0m \u001b[0mx\u001b[0m\u001b[1;33m[\u001b[0m\u001b[0mi\u001b[0m\u001b[1;33m]\u001b[0m \u001b[1;33m-\u001b[0m \u001b[0mx0\u001b[0m\u001b[1;33m[\u001b[0m\u001b[0mi\u001b[0m\u001b[1;33m]\u001b[0m  \u001b[1;31m# Recompute dx as exactly representable number.\u001b[0m\u001b[1;33m\u001b[0m\u001b[1;33m\u001b[0m\u001b[0m\n\u001b[1;32m--> 557\u001b[1;33m             \u001b[0mdf\u001b[0m \u001b[1;33m=\u001b[0m \u001b[0mfun\u001b[0m\u001b[1;33m(\u001b[0m\u001b[0mx\u001b[0m\u001b[1;33m)\u001b[0m \u001b[1;33m-\u001b[0m \u001b[0mf0\u001b[0m\u001b[1;33m\u001b[0m\u001b[1;33m\u001b[0m\u001b[0m\n\u001b[0m\u001b[0;32m    558\u001b[0m         \u001b[1;32melif\u001b[0m \u001b[0mmethod\u001b[0m \u001b[1;33m==\u001b[0m \u001b[1;34m'3-point'\u001b[0m \u001b[1;32mand\u001b[0m \u001b[0muse_one_sided\u001b[0m\u001b[1;33m[\u001b[0m\u001b[0mi\u001b[0m\u001b[1;33m]\u001b[0m\u001b[1;33m:\u001b[0m\u001b[1;33m\u001b[0m\u001b[1;33m\u001b[0m\u001b[0m\n\u001b[0;32m    559\u001b[0m             \u001b[0mx1\u001b[0m \u001b[1;33m=\u001b[0m \u001b[0mx0\u001b[0m \u001b[1;33m+\u001b[0m \u001b[0mh_vecs\u001b[0m\u001b[1;33m[\u001b[0m\u001b[0mi\u001b[0m\u001b[1;33m]\u001b[0m\u001b[1;33m\u001b[0m\u001b[1;33m\u001b[0m\u001b[0m\n",
      "\u001b[1;32m~\\anaconda3\\envs\\env1\\lib\\site-packages\\scipy\\optimize\\_numdiff.py\u001b[0m in \u001b[0;36mfun_wrapped\u001b[1;34m(x)\u001b[0m\n\u001b[0;32m    435\u001b[0m \u001b[1;33m\u001b[0m\u001b[0m\n\u001b[0;32m    436\u001b[0m     \u001b[1;32mdef\u001b[0m \u001b[0mfun_wrapped\u001b[0m\u001b[1;33m(\u001b[0m\u001b[0mx\u001b[0m\u001b[1;33m)\u001b[0m\u001b[1;33m:\u001b[0m\u001b[1;33m\u001b[0m\u001b[1;33m\u001b[0m\u001b[0m\n\u001b[1;32m--> 437\u001b[1;33m         \u001b[0mf\u001b[0m \u001b[1;33m=\u001b[0m \u001b[0mnp\u001b[0m\u001b[1;33m.\u001b[0m\u001b[0matleast_1d\u001b[0m\u001b[1;33m(\u001b[0m\u001b[0mfun\u001b[0m\u001b[1;33m(\u001b[0m\u001b[0mx\u001b[0m\u001b[1;33m,\u001b[0m \u001b[1;33m*\u001b[0m\u001b[0margs\u001b[0m\u001b[1;33m,\u001b[0m \u001b[1;33m**\u001b[0m\u001b[0mkwargs\u001b[0m\u001b[1;33m)\u001b[0m\u001b[1;33m)\u001b[0m\u001b[1;33m\u001b[0m\u001b[1;33m\u001b[0m\u001b[0m\n\u001b[0m\u001b[0;32m    438\u001b[0m         \u001b[1;32mif\u001b[0m \u001b[0mf\u001b[0m\u001b[1;33m.\u001b[0m\u001b[0mndim\u001b[0m \u001b[1;33m>\u001b[0m \u001b[1;36m1\u001b[0m\u001b[1;33m:\u001b[0m\u001b[1;33m\u001b[0m\u001b[1;33m\u001b[0m\u001b[0m\n\u001b[0;32m    439\u001b[0m             raise RuntimeError(\"`fun` return value has \"\n",
      "\u001b[1;32m~\\anaconda3\\envs\\env1\\lib\\site-packages\\scipy\\optimize\\_differentiable_functions.py\u001b[0m in \u001b[0;36mfun_wrapped\u001b[1;34m(x)\u001b[0m\n\u001b[0;32m    132\u001b[0m             \u001b[1;31m# Overwriting results in undefined behaviour because\u001b[0m\u001b[1;33m\u001b[0m\u001b[1;33m\u001b[0m\u001b[1;33m\u001b[0m\u001b[0m\n\u001b[0;32m    133\u001b[0m             \u001b[1;31m# fun(self.x) will change self.x, with the two no longer linked.\u001b[0m\u001b[1;33m\u001b[0m\u001b[1;33m\u001b[0m\u001b[1;33m\u001b[0m\u001b[0m\n\u001b[1;32m--> 134\u001b[1;33m             \u001b[1;32mreturn\u001b[0m \u001b[0mfun\u001b[0m\u001b[1;33m(\u001b[0m\u001b[0mnp\u001b[0m\u001b[1;33m.\u001b[0m\u001b[0mcopy\u001b[0m\u001b[1;33m(\u001b[0m\u001b[0mx\u001b[0m\u001b[1;33m)\u001b[0m\u001b[1;33m,\u001b[0m \u001b[1;33m*\u001b[0m\u001b[0margs\u001b[0m\u001b[1;33m)\u001b[0m\u001b[1;33m\u001b[0m\u001b[1;33m\u001b[0m\u001b[0m\n\u001b[0m\u001b[0;32m    135\u001b[0m \u001b[1;33m\u001b[0m\u001b[0m\n\u001b[0;32m    136\u001b[0m         \u001b[1;32mdef\u001b[0m \u001b[0mupdate_fun\u001b[0m\u001b[1;33m(\u001b[0m\u001b[1;33m)\u001b[0m\u001b[1;33m:\u001b[0m\u001b[1;33m\u001b[0m\u001b[1;33m\u001b[0m\u001b[0m\n",
      "\u001b[1;32m~\\anaconda3\\envs\\env1\\lib\\site-packages\\statsmodels\\base\\model.py\u001b[0m in \u001b[0;36mf\u001b[1;34m(params, *args)\u001b[0m\n\u001b[0;32m    499\u001b[0m \u001b[1;33m\u001b[0m\u001b[0m\n\u001b[0;32m    500\u001b[0m         \u001b[1;32mdef\u001b[0m \u001b[0mf\u001b[0m\u001b[1;33m(\u001b[0m\u001b[0mparams\u001b[0m\u001b[1;33m,\u001b[0m \u001b[1;33m*\u001b[0m\u001b[0margs\u001b[0m\u001b[1;33m)\u001b[0m\u001b[1;33m:\u001b[0m\u001b[1;33m\u001b[0m\u001b[1;33m\u001b[0m\u001b[0m\n\u001b[1;32m--> 501\u001b[1;33m             \u001b[1;32mreturn\u001b[0m \u001b[1;33m-\u001b[0m\u001b[0mself\u001b[0m\u001b[1;33m.\u001b[0m\u001b[0mloglike\u001b[0m\u001b[1;33m(\u001b[0m\u001b[0mparams\u001b[0m\u001b[1;33m,\u001b[0m \u001b[1;33m*\u001b[0m\u001b[0margs\u001b[0m\u001b[1;33m)\u001b[0m \u001b[1;33m/\u001b[0m \u001b[0mnobs\u001b[0m\u001b[1;33m\u001b[0m\u001b[1;33m\u001b[0m\u001b[0m\n\u001b[0m\u001b[0;32m    502\u001b[0m \u001b[1;33m\u001b[0m\u001b[0m\n\u001b[0;32m    503\u001b[0m         \u001b[1;32mif\u001b[0m \u001b[0mmethod\u001b[0m \u001b[1;33m==\u001b[0m \u001b[1;34m'newton'\u001b[0m\u001b[1;33m:\u001b[0m\u001b[1;33m\u001b[0m\u001b[1;33m\u001b[0m\u001b[0m\n",
      "\u001b[1;32m~\\anaconda3\\envs\\env1\\lib\\site-packages\\statsmodels\\tsa\\statespace\\mlemodel.py\u001b[0m in \u001b[0;36mloglike\u001b[1;34m(self, params, *args, **kwargs)\u001b[0m\n\u001b[0;32m    917\u001b[0m         params = self.handle_params(params, transformed=transformed,\n\u001b[0;32m    918\u001b[0m                                     includes_fixed=includes_fixed)\n\u001b[1;32m--> 919\u001b[1;33m         self.update(params, transformed=True, includes_fixed=True,\n\u001b[0m\u001b[0;32m    920\u001b[0m                     complex_step=complex_step)\n\u001b[0;32m    921\u001b[0m \u001b[1;33m\u001b[0m\u001b[0m\n",
      "\u001b[1;32m~\\anaconda3\\envs\\env1\\lib\\site-packages\\statsmodels\\tsa\\statespace\\sarimax.py\u001b[0m in \u001b[0;36mupdate\u001b[1;34m(self, params, transformed, includes_fixed, complex_step)\u001b[0m\n\u001b[0;32m   1653\u001b[0m             \u001b[0mdata\u001b[0m \u001b[1;33m=\u001b[0m \u001b[0mnp\u001b[0m\u001b[1;33m.\u001b[0m\u001b[0mdot\u001b[0m\u001b[1;33m(\u001b[0m\u001b[0mself\u001b[0m\u001b[1;33m.\u001b[0m\u001b[0m_trend_data\u001b[0m\u001b[1;33m,\u001b[0m \u001b[0mparams_trend\u001b[0m\u001b[1;33m)\u001b[0m\u001b[1;33m.\u001b[0m\u001b[0mastype\u001b[0m\u001b[1;33m(\u001b[0m\u001b[0mparams\u001b[0m\u001b[1;33m.\u001b[0m\u001b[0mdtype\u001b[0m\u001b[1;33m)\u001b[0m\u001b[1;33m\u001b[0m\u001b[1;33m\u001b[0m\u001b[0m\n\u001b[0;32m   1654\u001b[0m             \u001b[1;32mif\u001b[0m \u001b[1;32mnot\u001b[0m \u001b[0mself\u001b[0m\u001b[1;33m.\u001b[0m\u001b[0mhamilton_representation\u001b[0m\u001b[1;33m:\u001b[0m\u001b[1;33m\u001b[0m\u001b[1;33m\u001b[0m\u001b[0m\n\u001b[1;32m-> 1655\u001b[1;33m                 \u001b[0mself\u001b[0m\u001b[1;33m.\u001b[0m\u001b[0mssm\u001b[0m\u001b[1;33m[\u001b[0m\u001b[1;34m'state_intercept'\u001b[0m\u001b[1;33m,\u001b[0m \u001b[0mself\u001b[0m\u001b[1;33m.\u001b[0m\u001b[0m_k_states_diff\u001b[0m\u001b[1;33m,\u001b[0m \u001b[1;33m:\u001b[0m\u001b[1;33m]\u001b[0m \u001b[1;33m=\u001b[0m \u001b[0mdata\u001b[0m\u001b[1;33m\u001b[0m\u001b[1;33m\u001b[0m\u001b[0m\n\u001b[0m\u001b[0;32m   1656\u001b[0m             \u001b[1;32melse\u001b[0m\u001b[1;33m:\u001b[0m\u001b[1;33m\u001b[0m\u001b[1;33m\u001b[0m\u001b[0m\n\u001b[0;32m   1657\u001b[0m                 \u001b[1;31m# The way the trend enters in the Hamilton representation means\u001b[0m\u001b[1;33m\u001b[0m\u001b[1;33m\u001b[0m\u001b[1;33m\u001b[0m\u001b[0m\n",
      "\u001b[1;32m~\\anaconda3\\envs\\env1\\lib\\site-packages\\statsmodels\\tsa\\statespace\\representation.py\u001b[0m in \u001b[0;36m__setitem__\u001b[1;34m(self, key, value)\u001b[0m\n\u001b[0;32m    444\u001b[0m \u001b[1;33m\u001b[0m\u001b[0m\n\u001b[0;32m    445\u001b[0m             \u001b[1;31m# Set the new value\u001b[0m\u001b[1;33m\u001b[0m\u001b[1;33m\u001b[0m\u001b[1;33m\u001b[0m\u001b[0m\n\u001b[1;32m--> 446\u001b[1;33m             \u001b[0mmatrix\u001b[0m\u001b[1;33m[\u001b[0m\u001b[0mslice_\u001b[0m\u001b[1;33m]\u001b[0m \u001b[1;33m=\u001b[0m \u001b[0mvalue\u001b[0m\u001b[1;33m\u001b[0m\u001b[1;33m\u001b[0m\u001b[0m\n\u001b[0m\u001b[0;32m    447\u001b[0m             \u001b[0msetattr\u001b[0m\u001b[1;33m(\u001b[0m\u001b[0mself\u001b[0m\u001b[1;33m,\u001b[0m \u001b[0mname\u001b[0m\u001b[1;33m,\u001b[0m \u001b[0mmatrix\u001b[0m\u001b[1;33m)\u001b[0m\u001b[1;33m\u001b[0m\u001b[1;33m\u001b[0m\u001b[0m\n\u001b[0;32m    448\u001b[0m         \u001b[1;31m# Otherwise we got a single non-string key, (e.g. mod[:]), which is\u001b[0m\u001b[1;33m\u001b[0m\u001b[1;33m\u001b[0m\u001b[1;33m\u001b[0m\u001b[0m\n",
      "\u001b[1;31mKeyboardInterrupt\u001b[0m: "
     ]
    }
   ],
   "source": [
    "# start = datetime.now()\n",
    "# for item in zips:\n",
    "#     curr_model = arima(ts_dict[item], start_p=0, start_q=0, m=12)\n",
    "#     models_dict[item] = (curr_model.order, curr_model.seasonal_order)\n",
    "# elapsed = datetime.now() - start\n",
    "# print(elapsed)"
   ]
  },
  {
   "cell_type": "code",
   "execution_count": 619,
   "id": "c2774c31",
   "metadata": {},
   "outputs": [
    {
     "data": {
      "text/plain": [
       "2836"
      ]
     },
     "execution_count": 619,
     "metadata": {},
     "output_type": "execute_result"
    }
   ],
   "source": [
    "len(models_dict)"
   ]
  },
  {
   "cell_type": "code",
   "execution_count": 622,
   "id": "527d1532",
   "metadata": {},
   "outputs": [
    {
     "data": {
      "text/plain": [
       "10487"
      ]
     },
     "execution_count": 622,
     "metadata": {},
     "output_type": "execute_result"
    }
   ],
   "source": [
    "len(ts_dict)"
   ]
  },
  {
   "cell_type": "code",
   "execution_count": 597,
   "id": "7ba17dee",
   "metadata": {},
   "outputs": [
    {
     "data": {
      "text/plain": [
       "{'01001': ((1, 1, 0), (0, 0, 0, 12)),\n",
       " '01002': ((2, 1, 1), (0, 0, 0, 12)),\n",
       " '01005': ((2, 1, 1), (0, 0, 0, 12)),\n",
       " '01007': ((2, 0, 0), (0, 0, 0, 12)),\n",
       " '01010': ((2, 0, 1), (0, 0, 1, 12)),\n",
       " '01013': ((2, 1, 0), (2, 0, 0, 12)),\n",
       " '01020': ((3, 1, 0), (0, 0, 0, 12)),\n",
       " '01027': ((1, 1, 0), (0, 0, 0, 12)),\n",
       " '01028': ((2, 1, 1), (0, 0, 1, 12)),\n",
       " '01030': ((1, 1, 0), (0, 0, 0, 12)),\n",
       " '01033': ((1, 1, 0), (0, 0, 0, 12)),\n",
       " '01040': ((2, 1, 1), (0, 0, 0, 12)),\n",
       " '01056': ((1, 1, 0), (0, 0, 0, 12)),\n",
       " '01057': ((4, 1, 0), (0, 0, 0, 12)),\n",
       " '01060': ((4, 1, 0), (0, 0, 0, 12)),\n",
       " '01062': ((2, 1, 1), (0, 0, 0, 12)),\n",
       " '01069': ((2, 1, 1), (0, 0, 0, 12)),\n",
       " '01073': ((2, 0, 0), (0, 0, 0, 12)),\n",
       " '01075': ((2, 1, 1), (0, 0, 0, 12)),\n",
       " '01077': ((2, 0, 0), (0, 0, 0, 12)),\n",
       " '01083': ((3, 1, 0), (0, 0, 0, 12)),\n",
       " '01085': ((2, 1, 1), (0, 0, 0, 12)),\n",
       " '01089': ((2, 1, 1), (0, 0, 1, 12)),\n",
       " '01095': ((2, 0, 0), (0, 0, 0, 12)),\n",
       " '01104': ((2, 1, 1), (0, 0, 0, 12)),\n",
       " '01105': ((2, 1, 1), (0, 0, 0, 12)),\n",
       " '01106': ((2, 1, 1), (0, 0, 0, 12)),\n",
       " '01107': ((2, 1, 1), (0, 0, 0, 12)),\n",
       " '01108': ((2, 1, 1), (0, 0, 0, 12)),\n",
       " '01109': ((1, 1, 0), (0, 0, 0, 12)),\n",
       " '01118': ((1, 1, 0), (1, 0, 0, 12)),\n",
       " '01119': ((2, 1, 1), (0, 0, 0, 12)),\n",
       " '01129': ((0, 1, 1), (0, 0, 0, 12)),\n",
       " '01151': ((1, 1, 0), (1, 0, 0, 12)),\n",
       " '01331': ((2, 1, 1), (0, 0, 0, 12)),\n",
       " '01360': ((1, 1, 0), (0, 0, 0, 12)),\n",
       " '01420': ((2, 1, 0), (0, 0, 0, 12)),\n",
       " '01430': ((3, 1, 0), (0, 0, 0, 12)),\n",
       " '01432': ((1, 1, 0), (2, 0, 0, 12)),\n",
       " '01440': ((2, 1, 0), (0, 0, 0, 12)),\n",
       " '01450': ((2, 1, 1), (1, 0, 2, 12)),\n",
       " '01452': ((2, 1, 1), (0, 0, 0, 12)),\n",
       " '01453': ((3, 1, 0), (2, 0, 0, 12)),\n",
       " '01460': ((1, 1, 0), (2, 0, 0, 12)),\n",
       " '01462': ((0, 1, 3), (0, 0, 0, 12)),\n",
       " '01463': ((2, 1, 0), (0, 0, 0, 12)),\n",
       " '01464': ((1, 1, 0), (2, 0, 0, 12)),\n",
       " '01468': ((2, 1, 0), (0, 0, 1, 12)),\n",
       " '01469': ((3, 1, 0), (0, 0, 1, 12)),\n",
       " '01473': ((2, 1, 0), (0, 0, 0, 12)),\n",
       " '01475': ((2, 1, 1), (0, 0, 0, 12)),\n",
       " '01501': ((2, 1, 1), (0, 0, 0, 12)),\n",
       " '01503': ((3, 1, 0), (0, 0, 0, 12)),\n",
       " '01504': ((2, 1, 0), (0, 0, 0, 12)),\n",
       " '01505': ((2, 1, 1), (0, 0, 0, 12)),\n",
       " '01506': ((2, 1, 1), (0, 0, 0, 12)),\n",
       " '01507': ((2, 1, 1), (0, 0, 0, 12)),\n",
       " '01510': ((2, 1, 0), (0, 0, 0, 12)),\n",
       " '01516': ((2, 1, 2), (0, 0, 0, 12)),\n",
       " '01518': ((1, 1, 0), (0, 0, 1, 12)),\n",
       " '01519': ((2, 1, 1), (0, 0, 0, 12)),\n",
       " '01520': ((3, 1, 0), (0, 0, 0, 12)),\n",
       " '01521': ((1, 1, 0), (0, 0, 0, 12)),\n",
       " '01522': ((2, 1, 1), (0, 0, 0, 12)),\n",
       " '01523': ((2, 1, 1), (0, 0, 0, 12)),\n",
       " '01524': ((2, 1, 2), (0, 0, 0, 12)),\n",
       " '01527': ((2, 1, 1), (1, 0, 0, 12)),\n",
       " '01529': ((1, 1, 0), (0, 0, 0, 12)),\n",
       " '01532': ((2, 1, 1), (0, 0, 0, 12)),\n",
       " '01534': ((2, 1, 1), (0, 0, 0, 12)),\n",
       " '01535': ((2, 1, 0), (0, 0, 0, 12)),\n",
       " '01540': ((2, 1, 2), (0, 0, 0, 12)),\n",
       " '01545': ((2, 1, 1), (0, 0, 0, 12)),\n",
       " '01560': ((2, 1, 1), (0, 0, 0, 12)),\n",
       " '01562': ((2, 1, 0), (0, 0, 0, 12)),\n",
       " '01564': ((1, 1, 0), (0, 0, 0, 12)),\n",
       " '01568': ((2, 1, 1), (0, 0, 0, 12)),\n",
       " '01569': ((2, 1, 1), (0, 0, 0, 12)),\n",
       " '01571': ((2, 1, 1), (0, 0, 0, 12)),\n",
       " '01581': ((2, 1, 1), (0, 0, 2, 12)),\n",
       " '01588': ((4, 1, 0), (0, 0, 0, 12)),\n",
       " '01590': ((2, 1, 1), (0, 0, 0, 12)),\n",
       " '01604': ((1, 1, 0), (0, 0, 0, 12)),\n",
       " '01606': ((3, 1, 0), (0, 0, 0, 12)),\n",
       " '01610': ((0, 2, 0), (0, 0, 0, 12)),\n",
       " '01612': ((2, 1, 0), (0, 0, 0, 12)),\n",
       " '01702': ((2, 1, 2), (0, 0, 0, 12)),\n",
       " '01720': ((1, 1, 0), (1, 0, 1, 12)),\n",
       " '01730': ((4, 1, 0), (0, 0, 0, 12)),\n",
       " '01740': ((4, 1, 0), (2, 0, 0, 12)),\n",
       " '01741': ((2, 1, 2), (2, 0, 0, 12)),\n",
       " '01746': ((3, 1, 1), (0, 0, 0, 12)),\n",
       " '01747': ((2, 1, 1), (0, 0, 0, 12)),\n",
       " '01748': ((2, 1, 1), (0, 0, 0, 12)),\n",
       " '01749': ((1, 1, 0), (1, 0, 1, 12)),\n",
       " '01752': ((2, 1, 1), (1, 0, 1, 12)),\n",
       " '01754': ((1, 1, 0), (0, 0, 0, 12)),\n",
       " '01756': ((1, 1, 0), (0, 0, 2, 12)),\n",
       " '01757': ((2, 1, 1), (0, 0, 0, 12)),\n",
       " '01770': ((1, 1, 0), (2, 0, 0, 12)),\n",
       " '01773': ((1, 1, 0), (1, 0, 0, 12)),\n",
       " '01775': ((1, 1, 0), (2, 0, 0, 12)),\n",
       " '01776': ((2, 1, 1), (0, 0, 0, 12)),\n",
       " '01778': ((0, 1, 1), (2, 0, 0, 12)),\n",
       " '01801': ((2, 1, 1), (1, 0, 0, 12)),\n",
       " '01803': ((2, 1, 3), (0, 0, 0, 12)),\n",
       " '01810': ((3, 1, 0), (0, 0, 0, 12)),\n",
       " '01821': ((1, 1, 0), (2, 0, 0, 12)),\n",
       " '01824': ((3, 1, 0), (0, 0, 0, 12)),\n",
       " '01826': ((4, 1, 2), (1, 0, 0, 12)),\n",
       " '01827': ((2, 1, 0), (1, 0, 0, 12)),\n",
       " '01830': ((1, 1, 1), (1, 0, 1, 12)),\n",
       " '01832': ((1, 1, 1), (1, 0, 1, 12)),\n",
       " '01833': ((2, 1, 0), (2, 0, 0, 12)),\n",
       " '01834': ((2, 1, 2), (0, 0, 0, 12)),\n",
       " '01835': ((2, 1, 1), (0, 0, 0, 12)),\n",
       " '01841': ((1, 1, 0), (1, 0, 1, 12)),\n",
       " '01843': ((2, 1, 1), (1, 0, 0, 12)),\n",
       " '01844': ((1, 1, 1), (1, 0, 0, 12)),\n",
       " '01845': ((2, 1, 1), (0, 0, 0, 12)),\n",
       " '01850': ((2, 1, 1), (0, 0, 0, 12)),\n",
       " '01851': ((2, 1, 0), (0, 0, 0, 12)),\n",
       " '01852': ((2, 1, 1), (0, 0, 0, 12)),\n",
       " '01854': ((2, 1, 0), (1, 0, 0, 12)),\n",
       " '01860': ((2, 1, 1), (0, 0, 1, 12)),\n",
       " '01862': ((1, 1, 0), (2, 0, 0, 12)),\n",
       " '01863': ((3, 1, 0), (2, 0, 0, 12)),\n",
       " '01864': ((1, 1, 1), (1, 0, 0, 12)),\n",
       " '01867': ((2, 1, 1), (1, 0, 0, 12)),\n",
       " '01876': ((1, 1, 0), (1, 0, 2, 12)),\n",
       " '01879': ((2, 1, 0), (0, 0, 0, 12)),\n",
       " '01880': ((3, 1, 0), (0, 0, 1, 12)),\n",
       " '01886': ((1, 1, 0), (0, 0, 0, 12)),\n",
       " '01887': ((1, 1, 0), (1, 0, 1, 12)),\n",
       " '01890': ((4, 1, 0), (0, 0, 0, 12)),\n",
       " '01902': ((2, 1, 1), (0, 0, 0, 12)),\n",
       " '01905': ((2, 1, 0), (0, 0, 0, 12)),\n",
       " '01906': ((3, 1, 0), (0, 0, 0, 12)),\n",
       " '01907': ((2, 1, 1), (0, 0, 0, 12)),\n",
       " '01908': ((2, 1, 0), (0, 0, 0, 12)),\n",
       " '01913': ((2, 1, 0), (1, 0, 0, 12)),\n",
       " '01915': ((4, 1, 0), (0, 0, 0, 12)),\n",
       " '01922': ((2, 1, 0), (0, 0, 0, 12)),\n",
       " '01930': ((2, 1, 0), (0, 0, 0, 12)),\n",
       " '01938': ((2, 1, 0), (0, 0, 0, 12)),\n",
       " '01940': ((1, 1, 0), (1, 0, 0, 12)),\n",
       " '01944': ((1, 1, 0), (1, 0, 0, 12)),\n",
       " '01945': ((3, 1, 0), (0, 0, 0, 12)),\n",
       " '01949': ((3, 1, 0), (0, 0, 0, 12)),\n",
       " '01950': ((2, 1, 0), (0, 0, 0, 12)),\n",
       " '01951': ((3, 1, 0), (0, 0, 0, 12)),\n",
       " '01952': ((2, 1, 0), (0, 0, 0, 12)),\n",
       " '01960': ((2, 1, 1), (0, 0, 0, 12)),\n",
       " '01966': ((2, 1, 0), (0, 0, 0, 12)),\n",
       " '01969': ((3, 1, 0), (0, 0, 0, 12)),\n",
       " '01970': ((3, 1, 0), (0, 0, 0, 12)),\n",
       " '01982': ((1, 1, 0), (0, 0, 0, 12)),\n",
       " '01983': ((1, 1, 0), (0, 0, 0, 12)),\n",
       " '01984': ((2, 1, 0), (0, 0, 0, 12)),\n",
       " '01985': ((3, 1, 0), (0, 0, 0, 12)),\n",
       " '02019': ((3, 1, 0), (0, 0, 0, 12)),\n",
       " '02025': ((2, 1, 1), (2, 0, 0, 12)),\n",
       " '02026': ((4, 1, 1), (0, 0, 0, 12)),\n",
       " '02030': ((2, 1, 1), (0, 0, 0, 12)),\n",
       " '02032': ((4, 1, 0), (0, 0, 0, 12)),\n",
       " '02035': ((1, 1, 0), (0, 0, 0, 12)),\n",
       " '02038': ((3, 1, 0), (0, 0, 0, 12)),\n",
       " '02043': ((1, 1, 0), (1, 0, 1, 12)),\n",
       " '02045': ((4, 1, 0), (2, 0, 0, 12)),\n",
       " '02048': ((1, 1, 0), (0, 0, 0, 12)),\n",
       " '02050': ((1, 1, 1), (1, 0, 1, 12)),\n",
       " '02052': ((2, 1, 1), (0, 0, 0, 12)),\n",
       " '02053': ((1, 1, 0), (2, 0, 0, 12)),\n",
       " '02054': ((2, 1, 1), (0, 0, 0, 12)),\n",
       " '02056': ((4, 1, 0), (0, 0, 0, 12)),\n",
       " '02061': ((1, 1, 0), (0, 0, 0, 12)),\n",
       " '02062': ((2, 1, 0), (0, 0, 0, 12)),\n",
       " '02066': ((3, 1, 0), (0, 0, 1, 12)),\n",
       " '02067': ((2, 1, 1), (0, 0, 0, 12)),\n",
       " '02072': ((2, 1, 0), (0, 0, 0, 12)),\n",
       " '02081': ((2, 1, 1), (0, 0, 0, 12)),\n",
       " '02090': ((1, 1, 0), (0, 0, 0, 12)),\n",
       " '02093': ((2, 1, 0), (0, 0, 0, 12)),\n",
       " '02108': ((1, 1, 0), (0, 0, 0, 12)),\n",
       " '02109': ((1, 1, 0), (0, 0, 1, 12)),\n",
       " '02110': ((1, 1, 0), (0, 0, 0, 12)),\n",
       " '02111': ((1, 2, 1), (1, 0, 0, 12)),\n",
       " '02113': ((1, 1, 0), (0, 0, 0, 12)),\n",
       " '02114': ((1, 2, 1), (1, 0, 0, 12)),\n",
       " '02115': ((1, 2, 1), (0, 0, 0, 12)),\n",
       " '02116': ((1, 1, 0), (1, 0, 1, 12)),\n",
       " '02118': ((1, 2, 1), (1, 0, 0, 12)),\n",
       " '02119': ((3, 1, 1), (0, 0, 0, 12)),\n",
       " '02121': ((3, 1, 2), (0, 0, 0, 12)),\n",
       " '02122': ((2, 1, 1), (0, 0, 0, 12)),\n",
       " '02124': ((1, 1, 0), (1, 0, 0, 12)),\n",
       " '02125': ((2, 1, 1), (0, 0, 0, 12)),\n",
       " '02129': ((3, 1, 0), (0, 0, 0, 12)),\n",
       " '02130': ((3, 1, 0), (1, 0, 0, 12)),\n",
       " '02134': ((2, 1, 0), (1, 0, 1, 12)),\n",
       " '02135': ((2, 1, 1), (0, 0, 0, 12)),\n",
       " '02138': ((5, 1, 0), (0, 0, 0, 12)),\n",
       " '02139': ((4, 1, 1), (0, 0, 0, 12)),\n",
       " '02140': ((3, 1, 2), (2, 0, 0, 12)),\n",
       " '02141': ((2, 1, 1), (0, 0, 0, 12)),\n",
       " '02143': ((5, 1, 0), (0, 0, 0, 12)),\n",
       " '02144': ((2, 1, 1), (0, 0, 2, 12)),\n",
       " '02148': ((3, 1, 0), (1, 0, 0, 12)),\n",
       " '02149': ((1, 1, 1), (1, 0, 0, 12)),\n",
       " '02155': ((2, 1, 1), (1, 0, 0, 12)),\n",
       " '02169': ((2, 1, 0), (2, 0, 0, 12)),\n",
       " '02170': ((2, 1, 1), (0, 0, 0, 12)),\n",
       " '02171': ((2, 1, 1), (0, 0, 0, 12)),\n",
       " '02176': ((2, 1, 1), (0, 0, 0, 12)),\n",
       " '02180': ((2, 1, 1), (0, 0, 0, 12)),\n",
       " '02184': ((2, 1, 1), (0, 0, 0, 12)),\n",
       " '02186': ((1, 1, 0), (2, 0, 0, 12)),\n",
       " '02188': ((2, 1, 1), (0, 0, 0, 12)),\n",
       " '02189': ((3, 1, 2), (0, 0, 0, 12)),\n",
       " '02190': ((1, 1, 0), (0, 0, 0, 12)),\n",
       " '02191': ((3, 1, 0), (0, 0, 0, 12)),\n",
       " '02210': ((1, 2, 1), (0, 0, 0, 12)),\n",
       " '02215': ((2, 1, 0), (0, 0, 0, 12)),\n",
       " '02301': ((2, 1, 0), (0, 0, 0, 12)),\n",
       " '02302': ((2, 1, 1), (0, 0, 0, 12)),\n",
       " '02322': ((1, 1, 1), (0, 0, 0, 12)),\n",
       " '02324': ((1, 1, 0), (1, 0, 0, 12)),\n",
       " '02332': ((2, 1, 0), (0, 0, 1, 12)),\n",
       " '02333': ((3, 1, 0), (1, 0, 1, 12)),\n",
       " '02338': ((1, 1, 0), (0, 0, 0, 12)),\n",
       " '02339': ((3, 1, 0), (0, 0, 0, 12)),\n",
       " '02343': ((1, 1, 0), (0, 0, 0, 12)),\n",
       " '02346': ((2, 1, 0), (0, 0, 0, 12)),\n",
       " '02347': ((3, 1, 0), (1, 0, 0, 12)),\n",
       " '02351': ((2, 1, 1), (0, 0, 0, 12)),\n",
       " '02359': ((2, 1, 1), (0, 0, 0, 12)),\n",
       " '02360': ((3, 1, 0), (1, 0, 0, 12)),\n",
       " '02364': ((3, 1, 1), (1, 0, 1, 12)),\n",
       " '02370': ((2, 1, 1), (0, 0, 0, 12)),\n",
       " '02379': ((3, 1, 0), (1, 0, 0, 12)),\n",
       " '02382': ((2, 1, 0), (0, 0, 1, 12)),\n",
       " '02420': ((1, 1, 0), (1, 0, 1, 12)),\n",
       " '02421': ((1, 1, 0), (2, 0, 0, 12)),\n",
       " '02445': ((2, 1, 1), (0, 0, 0, 12)),\n",
       " '02446': ((2, 1, 1), (1, 0, 0, 12)),\n",
       " '02451': ((1, 1, 0), (1, 0, 0, 12)),\n",
       " '02459': ((5, 1, 0), (1, 0, 2, 12)),\n",
       " '02460': ((5, 1, 0), (0, 0, 0, 12)),\n",
       " '02467': ((3, 1, 2), (0, 0, 0, 12)),\n",
       " '02468': ((2, 1, 1), (0, 0, 0, 12)),\n",
       " '02472': ((2, 1, 1), (1, 0, 1, 12)),\n",
       " '02474': ((1, 1, 0), (1, 0, 1, 12)),\n",
       " '02476': ((2, 1, 1), (2, 0, 0, 12)),\n",
       " '02478': ((2, 1, 1), (0, 0, 1, 12)),\n",
       " '02482': ((3, 1, 0), (1, 0, 0, 12)),\n",
       " '02492': ((4, 1, 0), (0, 0, 0, 12)),\n",
       " '02493': ((2, 1, 2), (0, 0, 2, 12)),\n",
       " '02494': ((4, 1, 0), (1, 0, 2, 12)),\n",
       " '02532': ((2, 1, 1), (0, 0, 0, 12)),\n",
       " '02536': ((2, 1, 1), (2, 0, 0, 12)),\n",
       " '02537': ((2, 1, 1), (0, 0, 0, 12)),\n",
       " '02538': ((2, 1, 1), (1, 0, 0, 12)),\n",
       " '02563': ((2, 1, 1), (0, 0, 0, 12)),\n",
       " '02571': ((2, 1, 1), (0, 0, 0, 12)),\n",
       " '02576': ((2, 1, 1), (0, 0, 0, 12)),\n",
       " '02601': ((2, 1, 0), (0, 0, 0, 12)),\n",
       " '02632': ((3, 1, 0), (0, 0, 0, 12)),\n",
       " '02635': ((2, 1, 2), (0, 0, 0, 12)),\n",
       " '02638': ((2, 1, 1), (0, 0, 0, 12)),\n",
       " '02639': ((2, 1, 1), (0, 0, 0, 12)),\n",
       " '02644': ((3, 1, 0), (0, 0, 0, 12)),\n",
       " '02648': ((2, 1, 1), (0, 0, 0, 12)),\n",
       " '02649': ((2, 1, 1), (0, 0, 1, 12)),\n",
       " '02655': ((3, 1, 0), (1, 0, 0, 12)),\n",
       " '02660': ((2, 1, 1), (0, 0, 0, 12)),\n",
       " '02664': ((3, 1, 0), (0, 0, 0, 12)),\n",
       " '02668': ((2, 1, 1), (0, 0, 0, 12)),\n",
       " '02670': ((3, 1, 0), (0, 0, 0, 12)),\n",
       " '02673': ((2, 1, 1), (0, 0, 0, 12)),\n",
       " '02675': ((3, 1, 0), (0, 0, 0, 12)),\n",
       " '02703': ((2, 1, 0), (0, 0, 0, 12)),\n",
       " '02718': ((2, 1, 0), (1, 0, 0, 12)),\n",
       " '02726': ((0, 1, 2), (0, 0, 0, 12)),\n",
       " '02738': ((1, 1, 0), (0, 0, 1, 12)),\n",
       " '02739': ((2, 1, 0), (0, 0, 0, 12)),\n",
       " '02743': ((2, 1, 1), (0, 0, 0, 12)),\n",
       " '02747': ((3, 1, 0), (0, 0, 0, 12)),\n",
       " '02764': ((3, 1, 0), (0, 0, 1, 12)),\n",
       " '02767': ((3, 1, 0), (0, 0, 0, 12)),\n",
       " '02769': ((2, 1, 0), (0, 0, 1, 12)),\n",
       " '02770': ((3, 1, 2), (0, 0, 0, 12)),\n",
       " '02771': ((2, 1, 0), (0, 0, 0, 12)),\n",
       " '02777': ((2, 1, 0), (1, 0, 0, 12)),\n",
       " '02780': ((2, 1, 0), (0, 0, 1, 12)),\n",
       " '02790': ((2, 1, 0), (0, 0, 0, 12)),\n",
       " '02814': ((2, 1, 1), (0, 0, 0, 12)),\n",
       " '02816': ((1, 1, 0), (0, 0, 0, 12)),\n",
       " '02817': ((2, 1, 1), (0, 0, 0, 12)),\n",
       " '02818': ((2, 1, 0), (0, 0, 0, 12)),\n",
       " '02828': ((4, 1, 2), (0, 0, 1, 12)),\n",
       " '02830': ((2, 1, 0), (0, 0, 0, 12)),\n",
       " '02831': ((1, 1, 0), (0, 0, 0, 12)),\n",
       " '02837': ((2, 1, 0), (1, 0, 0, 12)),\n",
       " '02840': ((2, 1, 1), (0, 0, 0, 12)),\n",
       " '02842': ((2, 1, 0), (0, 0, 0, 12)),\n",
       " '02857': ((1, 1, 0), (0, 0, 0, 12)),\n",
       " '02860': ((2, 1, 1), (0, 0, 0, 12)),\n",
       " '02865': ((3, 1, 0), (0, 0, 0, 12)),\n",
       " '02871': ((2, 1, 0), (0, 0, 0, 12)),\n",
       " '02878': ((2, 1, 0), (0, 0, 0, 12)),\n",
       " '02886': ((1, 1, 0), (0, 0, 0, 12)),\n",
       " '02888': ((3, 1, 0), (0, 0, 1, 12)),\n",
       " '02889': ((3, 1, 0), (0, 0, 0, 12)),\n",
       " '02893': ((3, 1, 0), (0, 0, 0, 12)),\n",
       " '02895': ((2, 1, 1), (0, 0, 0, 12)),\n",
       " '02896': ((2, 1, 1), (0, 0, 0, 12)),\n",
       " '02903': ((1, 1, 0), (1, 0, 1, 12)),\n",
       " '02905': ((2, 1, 0), (0, 0, 0, 12)),\n",
       " '02906': ((3, 1, 0), (0, 0, 0, 12)),\n",
       " '02909': ((1, 1, 0), (0, 0, 0, 12)),\n",
       " '02910': ((1, 1, 0), (0, 0, 0, 12)),\n",
       " '02911': ((3, 1, 0), (0, 0, 0, 12)),\n",
       " '02914': ((0, 1, 2), (0, 0, 0, 12)),\n",
       " '02916': ((2, 1, 1), (0, 0, 1, 12)),\n",
       " '02919': ((2, 1, 1), (0, 0, 0, 12)),\n",
       " '02920': ((1, 1, 0), (0, 0, 0, 12)),\n",
       " '03031': ((2, 1, 1), (0, 0, 0, 12)),\n",
       " '03032': ((2, 1, 1), (0, 0, 0, 12)),\n",
       " '03034': ((2, 1, 0), (0, 0, 2, 12)),\n",
       " '03037': ((1, 1, 0), (0, 0, 0, 12)),\n",
       " '03038': ((2, 1, 0), (0, 0, 0, 12)),\n",
       " '03042': ((2, 1, 0), (0, 0, 0, 12)),\n",
       " '03044': ((2, 1, 1), (0, 0, 0, 12)),\n",
       " '03045': ((2, 1, 1), (0, 0, 0, 12)),\n",
       " '03048': ((1, 1, 0), (0, 0, 0, 12)),\n",
       " '03049': ((1, 1, 0), (0, 0, 0, 12)),\n",
       " '03051': ((1, 1, 0), (0, 0, 0, 12)),\n",
       " '03052': ((2, 1, 1), (0, 0, 0, 12)),\n",
       " '03053': ((2, 1, 2), (0, 0, 0, 12)),\n",
       " '03054': ((4, 1, 0), (0, 0, 0, 12)),\n",
       " '03055': ((1, 1, 1), (0, 0, 0, 12)),\n",
       " '03060': ((1, 1, 0), (0, 0, 0, 12)),\n",
       " '03063': ((2, 1, 1), (0, 0, 0, 12)),\n",
       " '03064': ((4, 1, 0), (0, 0, 0, 12)),\n",
       " '03070': ((2, 1, 1), (0, 0, 0, 12)),\n",
       " '03071': ((3, 1, 0), (1, 0, 0, 12)),\n",
       " '03077': ((3, 1, 0), (0, 0, 0, 12)),\n",
       " '03079': ((2, 1, 1), (0, 0, 0, 12)),\n",
       " '03086': ((2, 1, 1), (0, 0, 0, 12)),\n",
       " '03087': ((2, 1, 1), (0, 0, 0, 12)),\n",
       " '03102': ((2, 1, 0), (0, 0, 0, 12)),\n",
       " '03103': ((2, 1, 1), (0, 0, 2, 12)),\n",
       " '03104': ((1, 1, 1), (0, 0, 2, 12)),\n",
       " '03106': ((2, 1, 1), (0, 0, 0, 12)),\n",
       " '03109': ((1, 1, 0), (0, 0, 0, 12)),\n",
       " '03110': ((1, 1, 0), (0, 0, 0, 12)),\n",
       " '03220': ((2, 1, 0), (0, 0, 0, 12)),\n",
       " '03223': ((2, 1, 0), (0, 0, 0, 12)),\n",
       " '03237': ((2, 1, 0), (0, 0, 0, 12)),\n",
       " '03244': ((2, 1, 1), (0, 0, 1, 12)),\n",
       " '03246': ((4, 1, 1), (0, 0, 2, 12)),\n",
       " '03249': ((5, 1, 1), (0, 0, 0, 12)),\n",
       " '03253': ((2, 1, 1), (0, 0, 0, 12)),\n",
       " '03257': ((2, 1, 1), (0, 0, 0, 12)),\n",
       " '03266': ((2, 1, 1), (0, 0, 1, 12)),\n",
       " '03269': ((2, 1, 0), (1, 0, 0, 12)),\n",
       " '03275': ((1, 1, 0), (1, 0, 1, 12)),\n",
       " '03276': ((2, 1, 0), (0, 0, 0, 12)),\n",
       " '03281': ((2, 1, 0), (0, 0, 0, 12)),\n",
       " '03285': ((2, 1, 1), (0, 0, 0, 12)),\n",
       " '03301': ((3, 1, 1), (0, 0, 0, 12)),\n",
       " '03303': ((1, 1, 0), (0, 0, 0, 12)),\n",
       " '03304': ((1, 1, 0), (0, 0, 1, 12)),\n",
       " '03431': ((2, 1, 0), (0, 0, 0, 12)),\n",
       " '03446': ((2, 1, 0), (0, 0, 0, 12)),\n",
       " '03447': ((2, 0, 0), (0, 0, 2, 12)),\n",
       " '03461': ((2, 1, 0), (0, 0, 0, 12)),\n",
       " '03470': ((1, 1, 0), (0, 0, 0, 12)),\n",
       " '03561': ((2, 0, 0), (0, 0, 0, 12)),\n",
       " '03570': ((2, 1, 1), (0, 0, 0, 12)),\n",
       " '03576': ((4, 1, 0), (0, 0, 0, 12)),\n",
       " '03580': ((1, 1, 0), (0, 0, 0, 12)),\n",
       " '03581': ((1, 1, 0), (0, 0, 0, 12)),\n",
       " '03582': ((2, 1, 0), (0, 0, 0, 12)),\n",
       " '03584': ((2, 1, 1), (0, 0, 1, 12)),\n",
       " '03598': ((2, 1, 0), (0, 0, 0, 12)),\n",
       " '03602': ((4, 1, 0), (1, 0, 0, 12)),\n",
       " '03603': ((4, 1, 1), (0, 0, 1, 12)),\n",
       " '03743': ((3, 1, 0), (0, 0, 0, 12)),\n",
       " '03753': ((0, 1, 2), (0, 0, 0, 12)),\n",
       " '03766': ((2, 1, 1), (0, 0, 0, 12)),\n",
       " '03782': ((1, 1, 1), (1, 0, 0, 12)),\n",
       " '03801': ((3, 1, 0), (0, 0, 0, 12)),\n",
       " '03809': ((3, 1, 0), (0, 0, 0, 12)),\n",
       " '03810': ((2, 1, 0), (0, 0, 0, 12)),\n",
       " '03811': ((2, 1, 1), (0, 0, 0, 12)),\n",
       " '03812': ((2, 1, 1), (0, 0, 0, 12)),\n",
       " '03814': ((2, 1, 1), (0, 0, 0, 12)),\n",
       " '03818': ((2, 1, 0), (0, 0, 1, 12)),\n",
       " '03819': ((2, 1, 0), (0, 0, 0, 12)),\n",
       " '03825': ((0, 1, 1), (0, 0, 0, 12)),\n",
       " '03827': ((3, 1, 0), (1, 0, 0, 12)),\n",
       " '03833': ((3, 1, 0), (0, 0, 0, 12)),\n",
       " '03835': ((1, 1, 0), (0, 0, 0, 12)),\n",
       " '03836': ((4, 1, 0), (0, 0, 0, 12)),\n",
       " '03839': ((2, 1, 0), (0, 0, 1, 12)),\n",
       " '03840': ((2, 1, 1), (0, 0, 0, 12)),\n",
       " '03841': ((3, 1, 0), (0, 0, 2, 12)),\n",
       " '03842': ((2, 1, 1), (2, 0, 0, 12)),\n",
       " '03846': ((2, 1, 1), (0, 0, 0, 12)),\n",
       " '03848': ((2, 1, 0), (0, 0, 0, 12)),\n",
       " '03849': ((2, 1, 0), (2, 0, 0, 12)),\n",
       " '03851': ((2, 1, 0), (0, 0, 0, 12)),\n",
       " '03857': ((3, 1, 0), (0, 0, 0, 12)),\n",
       " '03858': ((2, 1, 1), (0, 0, 0, 12)),\n",
       " '03860': ((2, 1, 1), (0, 0, 1, 12)),\n",
       " '03861': ((2, 1, 1), (0, 0, 0, 12)),\n",
       " '03862': ((2, 1, 1), (0, 0, 0, 12)),\n",
       " '03865': ((3, 1, 0), (0, 0, 0, 12)),\n",
       " '03867': ((2, 1, 0), (0, 0, 0, 12)),\n",
       " '03868': ((1, 1, 0), (0, 0, 0, 12)),\n",
       " '03873': ((2, 1, 0), (0, 0, 0, 12)),\n",
       " '03874': ((2, 1, 1), (0, 0, 0, 12)),\n",
       " '03878': ((2, 1, 1), (0, 0, 0, 12)),\n",
       " '03885': ((2, 1, 1), (0, 0, 0, 12)),\n",
       " '03886': ((2, 1, 0), (0, 0, 0, 12)),\n",
       " '04009': ((2, 1, 1), (0, 0, 0, 12)),\n",
       " '04071': ((2, 1, 1), (0, 0, 1, 12)),\n",
       " '04084': ((5, 1, 0), (0, 0, 0, 12)),\n",
       " '04086': ((2, 1, 1), (0, 0, 0, 12)),\n",
       " '04097': ((2, 1, 1), (0, 0, 0, 12)),\n",
       " '04101': ((4, 1, 0), (0, 0, 1, 12)),\n",
       " '04106': ((2, 1, 1), (0, 0, 1, 12)),\n",
       " '04217': ((2, 1, 0), (2, 0, 0, 12)),\n",
       " '04250': ((3, 1, 0), (0, 0, 2, 12)),\n",
       " '04259': ((1, 1, 0), (0, 0, 0, 12)),\n",
       " '04260': ((3, 1, 0), (0, 0, 0, 12)),\n",
       " '04268': ((2, 1, 0), (0, 0, 0, 12)),\n",
       " '04294': ((4, 1, 0), (0, 0, 1, 12)),\n",
       " '04330': ((3, 1, 0), (0, 0, 0, 12)),\n",
       " '04345': ((1, 1, 0), (0, 0, 0, 12)),\n",
       " '04364': ((1, 1, 0), (0, 0, 0, 12)),\n",
       " '04401': ((2, 1, 1), (0, 0, 0, 12)),\n",
       " '04412': ((2, 1, 1), (0, 0, 0, 12)),\n",
       " '04416': ((3, 1, 1), (0, 0, 0, 12)),\n",
       " '04426': ((2, 1, 1), (0, 0, 0, 12)),\n",
       " '04537': ((2, 1, 1), (0, 0, 0, 12)),\n",
       " '04538': ((2, 1, 1), (0, 0, 0, 12)),\n",
       " '04572': ((3, 1, 1), (0, 0, 0, 12)),\n",
       " '04578': ((4, 1, 0), (0, 0, 0, 12)),\n",
       " '04605': ((5, 1, 0), (0, 0, 0, 12)),\n",
       " '04609': ((3, 1, 0), (0, 0, 1, 12)),\n",
       " '04660': ((3, 1, 0), (0, 0, 0, 12)),\n",
       " '04679': ((3, 1, 0), (0, 0, 1, 12)),\n",
       " '04769': ((2, 1, 1), (0, 0, 0, 12)),\n",
       " '04841': ((3, 1, 1), (0, 0, 0, 12)),\n",
       " '04843': ((2, 1, 1), (0, 0, 0, 12)),\n",
       " '04915': ((5, 1, 1), (0, 0, 0, 12)),\n",
       " '04938': ((2, 1, 1), (0, 0, 0, 12)),\n",
       " '04963': ((0, 1, 2), (0, 0, 2, 12)),\n",
       " '04967': ((2, 1, 1), (0, 0, 0, 12)),\n",
       " '04970': ((3, 1, 0), (0, 0, 0, 12)),\n",
       " '06001': ((0, 1, 1), (2, 0, 0, 12)),\n",
       " '06002': ((1, 1, 1), (0, 0, 1, 12)),\n",
       " '06010': ((2, 1, 0), (0, 0, 0, 12)),\n",
       " '06016': ((2, 1, 1), (0, 0, 0, 12)),\n",
       " '06018': ((2, 0, 0), (0, 0, 1, 12)),\n",
       " '06019': ((2, 1, 1), (0, 0, 1, 12)),\n",
       " '06026': ((1, 1, 0), (1, 0, 0, 12)),\n",
       " '06029': ((4, 1, 0), (0, 0, 0, 12)),\n",
       " '06032': ((3, 1, 0), (1, 0, 2, 12)),\n",
       " '06033': ((2, 1, 0), (0, 0, 0, 12)),\n",
       " '06035': ((2, 0, 0), (0, 0, 0, 12)),\n",
       " '06037': ((2, 1, 1), (0, 0, 0, 12)),\n",
       " '06040': ((3, 1, 0), (0, 0, 0, 12)),\n",
       " '06042': ((1, 1, 1), (0, 0, 0, 12)),\n",
       " '06043': ((3, 1, 0), (0, 0, 0, 12)),\n",
       " '06051': ((2, 1, 1), (0, 0, 0, 12)),\n",
       " '06053': ((2, 1, 3), (0, 0, 0, 12)),\n",
       " '06057': ((2, 0, 1), (0, 0, 0, 12)),\n",
       " '06062': ((3, 1, 0), (0, 0, 0, 12)),\n",
       " '06063': ((3, 0, 0), (0, 0, 0, 12)),\n",
       " '06066': ((2, 1, 0), (0, 0, 0, 12)),\n",
       " '06067': ((2, 1, 0), (0, 0, 0, 12)),\n",
       " '06069': ((2, 0, 0), (0, 0, 0, 12)),\n",
       " '06070': ((2, 1, 1), (0, 0, 0, 12)),\n",
       " '06071': ((2, 1, 1), (0, 0, 0, 12)),\n",
       " '06073': ((2, 0, 0), (0, 0, 0, 12)),\n",
       " '06074': ((2, 1, 1), (0, 0, 0, 12)),\n",
       " '06076': ((3, 1, 0), (0, 0, 1, 12)),\n",
       " '06078': ((3, 1, 1), (0, 0, 0, 12)),\n",
       " '06082': ((1, 1, 1), (0, 0, 0, 12)),\n",
       " '06084': ((0, 1, 2), (0, 0, 0, 12)),\n",
       " '06085': ((1, 1, 0), (0, 0, 0, 12)),\n",
       " '06088': ((1, 1, 1), (0, 0, 0, 12)),\n",
       " '06089': ((1, 1, 0), (0, 0, 0, 12)),\n",
       " '06093': ((2, 0, 0), (0, 0, 1, 12)),\n",
       " '06095': ((2, 1, 1), (0, 0, 0, 12)),\n",
       " '06096': ((1, 1, 0), (0, 0, 0, 12)),\n",
       " '06098': ((2, 0, 0), (0, 0, 0, 12)),\n",
       " '06105': ((2, 1, 1), (0, 0, 0, 12)),\n",
       " '06106': ((4, 1, 1), (0, 0, 1, 12)),\n",
       " '06107': ((3, 1, 0), (0, 0, 0, 12)),\n",
       " '06108': ((1, 1, 1), (0, 0, 0, 12)),\n",
       " '06109': ((1, 1, 0), (0, 0, 0, 12)),\n",
       " '06110': ((2, 1, 1), (0, 0, 0, 12)),\n",
       " '06111': ((2, 1, 0), (0, 0, 0, 12)),\n",
       " '06112': ((1, 1, 0), (0, 0, 0, 12)),\n",
       " '06114': ((4, 1, 0), (0, 0, 0, 12)),\n",
       " '06117': ((1, 1, 0), (0, 0, 0, 12)),\n",
       " '06118': ((2, 1, 0), (0, 0, 0, 12)),\n",
       " '06119': ((2, 1, 1), (0, 0, 0, 12)),\n",
       " '06120': ((1, 1, 0), (0, 0, 0, 12)),\n",
       " '06226': ((2, 1, 1), (0, 0, 0, 12)),\n",
       " '06231': ((2, 1, 1), (0, 0, 0, 12)),\n",
       " '06232': ((4, 1, 0), (2, 0, 0, 12)),\n",
       " '06234': ((2, 0, 0), (0, 0, 0, 12)),\n",
       " '06238': ((2, 1, 1), (0, 0, 0, 12)),\n",
       " '06239': ((2, 0, 0), (0, 0, 0, 12)),\n",
       " '06241': ((2, 0, 0), (0, 0, 0, 12)),\n",
       " '06242': ((2, 0, 0), (0, 0, 0, 12)),\n",
       " '06248': ((2, 1, 1), (0, 0, 0, 12)),\n",
       " '06249': ((2, 1, 1), (1, 0, 0, 12)),\n",
       " '06250': ((5, 1, 0), (0, 0, 0, 12)),\n",
       " '06255': ((2, 0, 0), (0, 0, 0, 12)),\n",
       " '06259': ((2, 0, 0), (0, 0, 0, 12)),\n",
       " '06260': ((2, 1, 1), (0, 0, 0, 12)),\n",
       " '06268': ((2, 1, 1), (0, 0, 0, 12)),\n",
       " '06277': ((2, 0, 0), (0, 0, 0, 12)),\n",
       " '06279': ((2, 1, 1), (0, 0, 0, 12)),\n",
       " '06320': ((2, 1, 0), (1, 0, 2, 12)),\n",
       " '06330': ((2, 1, 1), (0, 0, 0, 12)),\n",
       " '06331': ((2, 0, 0), (0, 0, 0, 12)),\n",
       " '06333': ((2, 1, 1), (1, 0, 0, 12)),\n",
       " '06335': ((1, 1, 0), (0, 0, 0, 12)),\n",
       " '06339': ((1, 1, 0), (1, 0, 0, 12)),\n",
       " '06340': ((0, 1, 2), (1, 0, 0, 12)),\n",
       " '06351': ((2, 1, 0), (0, 0, 0, 12)),\n",
       " '06354': ((4, 1, 0), (0, 0, 0, 12)),\n",
       " '06355': ((2, 1, 1), (0, 0, 0, 12)),\n",
       " '06357': ((2, 1, 1), (1, 0, 2, 12)),\n",
       " '06359': ((2, 0, 0), (0, 0, 0, 12)),\n",
       " '06360': ((2, 1, 1), (0, 0, 0, 12)),\n",
       " '06365': ((2, 1, 0), (0, 0, 0, 12)),\n",
       " '06370': ((1, 1, 0), (0, 0, 1, 12)),\n",
       " '06371': ((2, 1, 0), (0, 0, 0, 12)),\n",
       " '06374': ((2, 1, 1), (0, 0, 0, 12)),\n",
       " '06375': ((2, 1, 1), (0, 0, 0, 12)),\n",
       " '06382': ((2, 1, 1), (0, 0, 0, 12)),\n",
       " '06384': ((2, 0, 0), (0, 0, 0, 12)),\n",
       " '06385': ((3, 1, 0), (0, 0, 0, 12)),\n",
       " '06401': ((3, 1, 0), (2, 0, 0, 12)),\n",
       " '06403': ((2, 1, 1), (0, 0, 1, 12)),\n",
       " '06405': ((4, 1, 0), (0, 0, 0, 12)),\n",
       " '06410': ((3, 1, 0), (0, 0, 0, 12)),\n",
       " '06413': ((3, 1, 0), (0, 0, 0, 12)),\n",
       " '06415': ((2, 1, 0), (0, 0, 0, 12)),\n",
       " '06416': ((4, 1, 1), (0, 0, 0, 12)),\n",
       " '06417': ((2, 1, 1), (1, 0, 0, 12)),\n",
       " '06418': ((4, 1, 0), (0, 0, 0, 12)),\n",
       " '06420': ((1, 1, 2), (0, 0, 0, 12)),\n",
       " '06423': ((2, 0, 0), (0, 0, 1, 12)),\n",
       " '06424': ((3, 1, 0), (0, 0, 0, 12)),\n",
       " '06426': ((2, 1, 1), (0, 0, 0, 12)),\n",
       " '06437': ((3, 1, 0), (0, 0, 0, 12)),\n",
       " '06442': ((3, 1, 0), (0, 0, 0, 12)),\n",
       " '06443': ((3, 1, 2), (0, 0, 0, 12)),\n",
       " '06447': ((1, 1, 0), (0, 0, 0, 12)),\n",
       " '06450': ((1, 1, 0), (1, 0, 0, 12)),\n",
       " '06451': ((1, 1, 0), (2, 0, 0, 12)),\n",
       " '06455': ((4, 1, 0), (1, 0, 0, 12)),\n",
       " '06457': ((3, 1, 0), (0, 0, 0, 12)),\n",
       " '06460': ((2, 1, 0), (0, 0, 0, 12)),\n",
       " '06461': ((3, 1, 0), (0, 0, 0, 12)),\n",
       " '06468': ((1, 1, 0), (0, 0, 0, 12)),\n",
       " '06469': ((2, 1, 1), (0, 0, 0, 12)),\n",
       " '06470': ((2, 1, 2), (0, 0, 0, 12)),\n",
       " '06471': ((2, 1, 1), (1, 0, 0, 12)),\n",
       " '06472': ((2, 1, 1), (0, 0, 0, 12)),\n",
       " '06473': ((2, 1, 0), (0, 0, 0, 12)),\n",
       " '06475': ((4, 1, 0), (1, 0, 0, 12)),\n",
       " '06477': ((2, 0, 0), (0, 0, 0, 12)),\n",
       " '06478': ((2, 1, 1), (0, 0, 0, 12)),\n",
       " '06479': ((1, 1, 0), (0, 0, 0, 12)),\n",
       " '06482': ((2, 1, 1), (0, 0, 0, 12)),\n",
       " '06483': ((2, 1, 1), (0, 0, 0, 12)),\n",
       " '06484': ((2, 1, 1), (0, 0, 0, 12)),\n",
       " '06488': ((2, 1, 0), (0, 0, 1, 12)),\n",
       " '06489': ((2, 1, 1), (0, 0, 0, 12)),\n",
       " '06492': ((3, 1, 2), (0, 0, 0, 12)),\n",
       " '06498': ((4, 1, 1), (0, 0, 0, 12)),\n",
       " '06511': ((1, 1, 2), (1, 0, 1, 12)),\n",
       " '06512': ((3, 1, 0), (0, 0, 0, 12)),\n",
       " '06513': ((2, 1, 0), (2, 0, 0, 12)),\n",
       " '06514': ((2, 1, 0), (0, 0, 0, 12)),\n",
       " '06515': ((4, 1, 2), (0, 0, 2, 12)),\n",
       " '06516': ((2, 1, 1), (0, 0, 0, 12)),\n",
       " '06517': ((2, 1, 0), (0, 0, 0, 12)),\n",
       " '06518': ((2, 1, 1), (0, 0, 0, 12)),\n",
       " '06519': ((2, 1, 0), (0, 0, 0, 12)),\n",
       " '06524': ((1, 1, 0), (0, 0, 0, 12)),\n",
       " '06525': ((0, 1, 1), (0, 0, 0, 12)),\n",
       " '06604': ((2, 1, 0), (0, 0, 0, 12)),\n",
       " '06605': ((2, 1, 1), (0, 0, 0, 12)),\n",
       " '06606': ((2, 1, 0), (0, 0, 0, 12)),\n",
       " '06607': ((1, 1, 1), (0, 0, 2, 12)),\n",
       " '06608': ((1, 1, 0), (0, 0, 0, 12)),\n",
       " '06610': ((1, 1, 0), (0, 0, 0, 12)),\n",
       " '06611': ((1, 1, 0), (0, 0, 0, 12)),\n",
       " '06615': ((2, 1, 1), (0, 0, 0, 12)),\n",
       " '06704': ((2, 1, 0), (0, 0, 0, 12)),\n",
       " '06705': ((2, 1, 1), (0, 0, 0, 12)),\n",
       " '06706': ((2, 1, 1), (0, 0, 0, 12)),\n",
       " '06708': ((3, 1, 0), (0, 0, 0, 12)),\n",
       " '06710': ((1, 1, 0), (0, 0, 0, 12)),\n",
       " '06712': ((5, 1, 0), (0, 0, 0, 12)),\n",
       " '06716': ((1, 1, 0), (0, 0, 0, 12)),\n",
       " '06751': ((2, 1, 1), (0, 0, 1, 12)),\n",
       " '06757': ((2, 0, 0), (0, 0, 1, 12)),\n",
       " '06762': ((3, 1, 0), (0, 0, 0, 12)),\n",
       " '06763': ((2, 1, 1), (0, 0, 0, 12)),\n",
       " '06770': ((4, 1, 0), (0, 0, 0, 12)),\n",
       " '06776': ((2, 1, 1), (0, 0, 0, 12)),\n",
       " '06782': ((2, 1, 1), (0, 0, 0, 12)),\n",
       " '06783': ((4, 1, 0), (0, 0, 0, 12)),\n",
       " '06786': ((2, 1, 0), (0, 0, 0, 12)),\n",
       " '06787': ((2, 1, 1), (0, 0, 0, 12)),\n",
       " '06790': ((2, 1, 1), (0, 0, 0, 12)),\n",
       " '06791': ((2, 1, 0), (0, 0, 0, 12)),\n",
       " '06795': ((2, 0, 0), (0, 0, 0, 12)),\n",
       " '06798': ((2, 1, 1), (0, 0, 0, 12)),\n",
       " '06801': ((2, 1, 3), (0, 0, 0, 12)),\n",
       " '06804': ((2, 1, 2), (0, 0, 0, 12)),\n",
       " '06807': ((2, 1, 0), (1, 0, 0, 12)),\n",
       " '06810': ((4, 1, 0), (0, 0, 0, 12)),\n",
       " '06811': ((2, 1, 1), (0, 0, 0, 12)),\n",
       " '06812': ((1, 1, 0), (0, 0, 0, 12)),\n",
       " '06820': ((2, 0, 0), (0, 0, 0, 12)),\n",
       " '06824': ((2, 1, 3), (0, 0, 1, 12)),\n",
       " '06825': ((1, 1, 0), (2, 0, 0, 12)),\n",
       " '06830': ((5, 1, 1), (0, 0, 0, 12)),\n",
       " '06831': ((2, 1, 1), (0, 0, 0, 12)),\n",
       " '06840': ((2, 1, 0), (0, 0, 0, 12)),\n",
       " '06850': ((2, 1, 0), (0, 0, 0, 12)),\n",
       " '06851': ((4, 1, 0), (2, 0, 0, 12)),\n",
       " '06854': ((2, 1, 1), (2, 0, 0, 12)),\n",
       " '06855': ((4, 1, 0), (0, 0, 0, 12)),\n",
       " '06870': ((2, 1, 1), (0, 0, 0, 12)),\n",
       " '06877': ((2, 1, 2), (0, 0, 2, 12)),\n",
       " '06878': ((2, 1, 1), (0, 0, 0, 12)),\n",
       " '06880': ((2, 1, 1), (0, 0, 0, 12)),\n",
       " '06883': ((3, 1, 0), (0, 0, 0, 12)),\n",
       " '06890': ((1, 1, 0), (1, 0, 0, 12)),\n",
       " '06897': ((2, 1, 1), (0, 0, 0, 12)),\n",
       " '06901': ((2, 1, 1), (0, 0, 0, 12)),\n",
       " '06902': ((4, 1, 0), (2, 0, 0, 12)),\n",
       " '06903': ((1, 1, 0), (0, 0, 0, 12)),\n",
       " '06905': ((2, 1, 1), (0, 0, 0, 12)),\n",
       " '06906': ((2, 1, 1), (0, 0, 0, 12)),\n",
       " '06907': ((5, 1, 0), (1, 0, 0, 12)),\n",
       " '07001': ((0, 1, 1), (0, 0, 0, 12)),\n",
       " '07002': ((1, 1, 0), (0, 0, 0, 12)),\n",
       " '07003': ((3, 1, 0), (0, 0, 0, 12)),\n",
       " '07005': ((3, 1, 1), (0, 0, 0, 12)),\n",
       " '07006': ((2, 1, 1), (0, 0, 2, 12)),\n",
       " '07008': ((2, 1, 0), (0, 0, 0, 12)),\n",
       " '07010': ((3, 1, 0), (0, 0, 1, 12)),\n",
       " '07011': ((2, 2, 1), (0, 0, 0, 12)),\n",
       " '07012': ((3, 0, 0), (0, 0, 0, 12)),\n",
       " '07013': ((0, 2, 0), (0, 0, 0, 12)),\n",
       " '07014': ((2, 2, 1), (1, 0, 0, 12)),\n",
       " '07016': ((2, 1, 1), (0, 0, 0, 12)),\n",
       " '07017': ((3, 1, 1), (0, 0, 0, 12)),\n",
       " '07018': ((0, 2, 0), (0, 0, 0, 12)),\n",
       " '07020': ((1, 1, 0), (0, 0, 1, 12)),\n",
       " '07022': ((2, 1, 1), (1, 0, 0, 12)),\n",
       " '07024': ((3, 1, 0), (0, 0, 0, 12)),\n",
       " '07026': ((2, 0, 0), (0, 0, 0, 12)),\n",
       " '07028': ((0, 2, 0), (0, 0, 0, 12)),\n",
       " '07030': ((2, 1, 0), (0, 0, 0, 12)),\n",
       " '07031': ((2, 1, 1), (1, 0, 0, 12)),\n",
       " '07032': ((3, 1, 1), (0, 0, 0, 12)),\n",
       " '07033': ((1, 1, 0), (2, 0, 0, 12)),\n",
       " '07035': ((1, 1, 0), (1, 0, 0, 12)),\n",
       " '07036': ((3, 1, 0), (0, 0, 0, 12)),\n",
       " '07040': ((3, 1, 1), (0, 0, 0, 12)),\n",
       " '07041': ((2, 1, 0), (0, 0, 0, 12)),\n",
       " '07042': ((2, 0, 0), (0, 0, 2, 12)),\n",
       " '07043': ((3, 0, 0), (0, 0, 0, 12)),\n",
       " '07044': ((2, 0, 0), (1, 0, 0, 12)),\n",
       " '07045': ((0, 1, 1), (0, 0, 0, 12)),\n",
       " '07047': ((2, 1, 1), (0, 0, 0, 12)),\n",
       " '07050': ((1, 2, 1), (0, 0, 0, 12)),\n",
       " '07052': ((2, 0, 0), (0, 0, 0, 12)),\n",
       " '07054': ((3, 1, 0), (0, 0, 1, 12)),\n",
       " '07055': ((2, 0, 1), (0, 0, 1, 12)),\n",
       " '07057': ((1, 1, 0), (1, 0, 1, 12)),\n",
       " '07059': ((0, 1, 2), (1, 0, 0, 12)),\n",
       " '07060': ((2, 1, 1), (0, 0, 0, 12)),\n",
       " '07062': ((4, 1, 0), (0, 0, 0, 12)),\n",
       " '07063': ((3, 1, 0), (0, 0, 1, 12)),\n",
       " '07065': ((2, 1, 0), (0, 0, 1, 12)),\n",
       " '07066': ((2, 1, 1), (0, 0, 0, 12)),\n",
       " '07067': ((0, 1, 3), (0, 0, 0, 12)),\n",
       " '07069': ((1, 1, 0), (0, 0, 0, 12)),\n",
       " '07070': ((1, 1, 0), (1, 0, 0, 12)),\n",
       " '07071': ((3, 1, 1), (0, 0, 0, 12)),\n",
       " '07072': ((1, 1, 0), (0, 0, 0, 12)),\n",
       " '07073': ((1, 1, 0), (1, 0, 0, 12)),\n",
       " '07075': ((3, 1, 0), (0, 0, 1, 12)),\n",
       " '07076': ((4, 1, 0), (0, 0, 0, 12)),\n",
       " '07079': ((3, 0, 0), (0, 0, 0, 12)),\n",
       " '07080': ((3, 1, 0), (0, 0, 0, 12)),\n",
       " '07081': ((3, 1, 0), (0, 0, 0, 12)),\n",
       " '07083': ((2, 1, 0), (0, 0, 0, 12)),\n",
       " '07086': ((0, 1, 2), (0, 0, 0, 12)),\n",
       " '07087': ((2, 1, 1), (0, 0, 0, 12)),\n",
       " '07090': ((2, 1, 1), (0, 0, 0, 12)),\n",
       " '07093': ((2, 1, 1), (0, 0, 0, 12)),\n",
       " '07094': ((3, 1, 0), (1, 0, 0, 12)),\n",
       " '07095': ((0, 1, 2), (0, 0, 0, 12)),\n",
       " '07103': ((4, 2, 2), (0, 0, 0, 12)),\n",
       " '07104': ((3, 1, 0), (0, 0, 0, 12)),\n",
       " '07105': ((2, 1, 0), (0, 0, 0, 12)),\n",
       " '07106': ((0, 2, 2), (0, 0, 0, 12)),\n",
       " '07107': ((2, 1, 1), (0, 0, 0, 12)),\n",
       " '07108': ((1, 1, 0), (0, 0, 0, 12)),\n",
       " '07109': ((0, 2, 0), (0, 0, 0, 12)),\n",
       " '07110': ((2, 1, 0), (0, 0, 0, 12)),\n",
       " '07111': ((1, 2, 2), (0, 0, 0, 12)),\n",
       " '07112': ((0, 2, 2), (0, 0, 0, 12)),\n",
       " '07114': ((3, 2, 1), (0, 0, 0, 12)),\n",
       " '07201': ((2, 2, 1), (0, 0, 0, 12)),\n",
       " '07202': ((2, 1, 1), (0, 0, 0, 12)),\n",
       " '07203': ((2, 1, 0), (0, 0, 0, 12)),\n",
       " '07204': ((0, 1, 1), (0, 0, 0, 12)),\n",
       " '07205': ((2, 1, 1), (0, 0, 0, 12)),\n",
       " '07206': ((2, 2, 1), (0, 0, 0, 12)),\n",
       " '07208': ((2, 1, 0), (0, 0, 0, 12)),\n",
       " '07302': ((1, 1, 0), (0, 0, 0, 12)),\n",
       " '07304': ((2, 1, 1), (0, 0, 0, 12)),\n",
       " '07305': ((2, 1, 0), (0, 0, 0, 12)),\n",
       " '07306': ((1, 1, 0), (0, 0, 0, 12)),\n",
       " '07307': ((1, 1, 0), (0, 0, 1, 12)),\n",
       " '07403': ((2, 1, 1), (0, 0, 0, 12)),\n",
       " '07407': ((0, 1, 2), (2, 0, 0, 12)),\n",
       " '07410': ((2, 1, 2), (1, 0, 0, 12)),\n",
       " '07416': ((2, 1, 1), (0, 0, 0, 12)),\n",
       " '07419': ((2, 1, 1), (0, 0, 0, 12)),\n",
       " '07420': ((2, 1, 1), (0, 0, 0, 12)),\n",
       " '07421': ((0, 1, 1), (0, 0, 0, 12)),\n",
       " '07422': ((3, 1, 0), (0, 0, 0, 12)),\n",
       " '07423': ((2, 0, 0), (2, 0, 0, 12)),\n",
       " '07424': ((2, 1, 0), (0, 0, 0, 12)),\n",
       " '07430': ((1, 1, 0), (0, 0, 0, 12)),\n",
       " '07435': ((3, 1, 1), (0, 0, 0, 12)),\n",
       " '07436': ((0, 1, 1), (0, 0, 2, 12)),\n",
       " '07438': ((1, 1, 0), (0, 0, 0, 12)),\n",
       " '07440': ((2, 1, 1), (1, 0, 0, 12)),\n",
       " '07442': ((2, 1, 1), (0, 0, 0, 12)),\n",
       " '07446': ((1, 1, 0), (0, 0, 0, 12)),\n",
       " '07450': ((2, 1, 1), (2, 0, 0, 12)),\n",
       " '07452': ((1, 1, 1), (0, 0, 0, 12)),\n",
       " '07456': ((1, 1, 0), (0, 0, 1, 12)),\n",
       " '07457': ((1, 1, 0), (0, 0, 0, 12)),\n",
       " '07460': ((2, 1, 1), (0, 0, 0, 12)),\n",
       " '07461': ((1, 1, 1), (0, 0, 0, 12)),\n",
       " '07462': ((0, 1, 2), (0, 0, 0, 12)),\n",
       " '07463': ((1, 1, 0), (1, 0, 0, 12)),\n",
       " '07465': ((0, 1, 1), (0, 0, 1, 12)),\n",
       " '07470': ((0, 1, 1), (0, 0, 0, 12)),\n",
       " '07480': ((2, 1, 0), (0, 0, 2, 12)),\n",
       " '07481': ((0, 1, 1), (0, 0, 0, 12)),\n",
       " '07502': ((3, 1, 0), (0, 0, 0, 12)),\n",
       " '07506': ((3, 1, 0), (1, 0, 0, 12)),\n",
       " '07508': ((4, 1, 1), (0, 0, 0, 12)),\n",
       " '07512': ((2, 1, 0), (0, 0, 0, 12)),\n",
       " '07522': ((1, 1, 0), (0, 0, 1, 12)),\n",
       " '07601': ((2, 1, 0), (0, 0, 1, 12)),\n",
       " '07603': ((4, 1, 1), (0, 0, 0, 12)),\n",
       " '07604': ((0, 1, 1), (1, 0, 0, 12)),\n",
       " '07605': ((2, 1, 0), (0, 0, 0, 12)),\n",
       " '07607': ((1, 1, 0), (2, 0, 0, 12)),\n",
       " '07621': ((3, 1, 0), (0, 0, 0, 12)),\n",
       " '07624': ((0, 1, 1), (0, 0, 0, 12)),\n",
       " '07628': ((1, 1, 0), (0, 0, 0, 12)),\n",
       " '07630': ((2, 1, 1), (0, 0, 0, 12)),\n",
       " '07631': ((3, 1, 0), (0, 0, 0, 12)),\n",
       " '07640': ((0, 1, 1), (0, 0, 0, 12)),\n",
       " '07642': ((1, 1, 0), (1, 0, 0, 12)),\n",
       " '07643': ((2, 1, 0), (0, 0, 0, 12)),\n",
       " '07644': ((2, 1, 1), (0, 0, 0, 12)),\n",
       " '07645': ((2, 1, 0), (0, 0, 0, 12)),\n",
       " '07646': ((2, 1, 1), (0, 0, 0, 12)),\n",
       " '07648': ((1, 1, 0), (0, 0, 1, 12)),\n",
       " '07649': ((1, 1, 0), (0, 0, 0, 12)),\n",
       " '07650': ((1, 1, 0), (0, 0, 0, 12)),\n",
       " '07652': ((2, 1, 1), (0, 0, 0, 12)),\n",
       " '07656': ((1, 1, 0), (0, 0, 0, 12)),\n",
       " '07657': ((2, 1, 1), (0, 0, 0, 12)),\n",
       " '07660': ((2, 1, 1), (0, 0, 2, 12)),\n",
       " '07661': ((2, 1, 1), (0, 0, 0, 12)),\n",
       " '07662': ((2, 1, 0), (0, 0, 0, 12)),\n",
       " '07663': ((0, 1, 1), (1, 0, 0, 12)),\n",
       " '07666': ((3, 1, 0), (0, 0, 0, 12)),\n",
       " '07670': ((2, 1, 1), (2, 0, 0, 12)),\n",
       " '07675': ((2, 1, 3), (1, 0, 2, 12)),\n",
       " '07676': ((3, 1, 1), (0, 0, 0, 12)),\n",
       " '07701': ((4, 1, 0), (0, 0, 0, 12)),\n",
       " '07712': ((4, 1, 1), (0, 0, 0, 12)),\n",
       " '07716': ((2, 1, 1), (0, 0, 0, 12)),\n",
       " '07718': ((1, 1, 0), (0, 0, 0, 12)),\n",
       " '07719': ((5, 1, 0), (0, 0, 0, 12)),\n",
       " '07720': ((2, 1, 1), (1, 0, 2, 12)),\n",
       " '07721': ((0, 1, 1), (0, 0, 0, 12)),\n",
       " '07722': ((2, 0, 0), (0, 0, 0, 12)),\n",
       " '07723': ((1, 1, 0), (2, 0, 1, 12)),\n",
       " '07724': ((3, 1, 0), (0, 0, 0, 12)),\n",
       " '07726': ((0, 1, 1), (0, 0, 0, 12)),\n",
       " '07727': ((2, 1, 1), (1, 0, 0, 12)),\n",
       " '07728': ((2, 1, 0), (0, 0, 0, 12)),\n",
       " '07730': ((2, 1, 0), (0, 0, 0, 12)),\n",
       " '07731': ((1, 1, 0), (0, 0, 0, 12)),\n",
       " '07732': ((2, 1, 1), (0, 0, 0, 12)),\n",
       " '07733': ((2, 1, 1), (0, 0, 0, 12)),\n",
       " '07734': ((1, 1, 0), (0, 0, 0, 12)),\n",
       " '07735': ((2, 1, 1), (1, 0, 0, 12)),\n",
       " '07738': ((2, 1, 1), (1, 0, 0, 12)),\n",
       " '07739': ((3, 1, 2), (0, 0, 0, 12)),\n",
       " '07740': ((3, 1, 2), (0, 0, 0, 12)),\n",
       " '07746': ((0, 1, 1), (0, 0, 1, 12)),\n",
       " '07747': ((1, 1, 0), (0, 0, 1, 12)),\n",
       " '07748': ((2, 1, 0), (0, 0, 0, 12)),\n",
       " '07750': ((5, 1, 1), (1, 0, 0, 12)),\n",
       " '07751': ((3, 1, 1), (0, 0, 0, 12)),\n",
       " '07753': ((2, 1, 1), (0, 0, 0, 12)),\n",
       " '07755': ((2, 0, 0), (0, 0, 0, 12)),\n",
       " '07756': ((2, 1, 0), (1, 0, 1, 12)),\n",
       " '07757': ((1, 1, 0), (0, 0, 0, 12)),\n",
       " '07758': ((3, 1, 0), (1, 0, 0, 12)),\n",
       " '07760': ((2, 1, 1), (2, 0, 1, 12)),\n",
       " '07762': ((5, 1, 0), (0, 0, 0, 12)),\n",
       " '07764': ((2, 1, 0), (0, 0, 0, 12)),\n",
       " '07801': ((2, 1, 0), (2, 0, 0, 12)),\n",
       " '07821': ((1, 1, 0), (1, 0, 1, 12)),\n",
       " '07826': ((3, 1, 0), (0, 0, 0, 12)),\n",
       " '07827': ((3, 1, 0), (1, 0, 0, 12)),\n",
       " '07828': ((2, 1, 0), (0, 0, 0, 12)),\n",
       " '07830': ((2, 1, 1), (0, 0, 0, 12)),\n",
       " '07834': ((1, 1, 0), (1, 0, 0, 12)),\n",
       " '07840': ((2, 1, 1), (1, 0, 0, 12)),\n",
       " '07843': ((1, 1, 0), (0, 0, 0, 12)),\n",
       " '07848': ((2, 1, 2), (0, 0, 0, 12)),\n",
       " '07852': ((2, 1, 1), (1, 0, 0, 12)),\n",
       " '07853': ((1, 1, 0), (0, 0, 0, 12)),\n",
       " '07856': ((2, 1, 0), (0, 0, 0, 12)),\n",
       " '07860': ((2, 1, 0), (0, 0, 0, 12)),\n",
       " '07863': ((2, 1, 0), (0, 0, 0, 12)),\n",
       " '07866': ((2, 1, 0), (1, 0, 1, 12)),\n",
       " '07869': ((1, 1, 0), (0, 0, 0, 12)),\n",
       " '07871': ((2, 1, 0), (0, 0, 0, 12)),\n",
       " '07874': ((2, 1, 1), (2, 0, 0, 12)),\n",
       " '07876': ((2, 0, 0), (0, 0, 0, 12)),\n",
       " '07882': ((4, 1, 0), (0, 0, 0, 12)),\n",
       " '07885': ((2, 1, 3), (0, 0, 0, 12)),\n",
       " '07901': ((2, 1, 1), (0, 0, 1, 12)),\n",
       " '07920': ((2, 1, 0), (0, 0, 0, 12)),\n",
       " '07921': ((2, 1, 1), (0, 0, 0, 12)),\n",
       " '07924': ((2, 1, 0), (0, 0, 0, 12)),\n",
       " '07927': ((3, 0, 0), (0, 0, 0, 12)),\n",
       " '07928': ((1, 1, 0), (0, 0, 0, 12)),\n",
       " '07931': ((3, 1, 2), (0, 0, 1, 12)),\n",
       " '07932': ((1, 1, 0), (0, 0, 0, 12)),\n",
       " '07933': ((0, 1, 1), (0, 0, 1, 12)),\n",
       " '07936': ((1, 1, 0), (0, 0, 0, 12)),\n",
       " '07940': ((0, 1, 3), (0, 0, 0, 12)),\n",
       " '07945': ((2, 1, 1), (0, 0, 0, 12)),\n",
       " '07946': ((2, 1, 0), (0, 0, 0, 12)),\n",
       " '07950': ((3, 1, 0), (0, 0, 0, 12)),\n",
       " '07960': ((2, 1, 1), (0, 0, 0, 12)),\n",
       " '07974': ((3, 1, 0), (0, 0, 0, 12)),\n",
       " '07981': ((3, 1, 1), (0, 0, 0, 12)),\n",
       " '08002': ((1, 1, 0), (0, 0, 0, 12)),\n",
       " '08003': ((0, 1, 1), (0, 0, 0, 12)),\n",
       " '08005': ((3, 1, 0), (1, 0, 0, 12)),\n",
       " '08007': ((0, 1, 1), (0, 0, 0, 12)),\n",
       " '08009': ((3, 1, 0), (0, 0, 0, 12)),\n",
       " '08010': ((0, 1, 2), (0, 0, 0, 12)),\n",
       " '08012': ((1, 1, 0), (0, 0, 0, 12)),\n",
       " '08015': ((2, 0, 0), (0, 0, 1, 12)),\n",
       " '08016': ((3, 1, 0), (1, 0, 0, 12)),\n",
       " '08021': ((2, 1, 1), (0, 0, 0, 12)),\n",
       " '08027': ((1, 1, 0), (0, 0, 0, 12)),\n",
       " '08028': ((2, 1, 0), (0, 0, 0, 12)),\n",
       " '08029': ((1, 1, 0), (0, 0, 0, 12)),\n",
       " '08030': ((1, 1, 0), (1, 0, 0, 12)),\n",
       " '08031': ((4, 1, 0), (0, 0, 0, 12)),\n",
       " '08033': ((1, 1, 0), (0, 0, 0, 12)),\n",
       " '08034': ((2, 1, 1), (0, 0, 0, 12)),\n",
       " '08035': ((2, 1, 1), (0, 0, 0, 12)),\n",
       " '08037': ((1, 1, 1), (0, 0, 0, 12)),\n",
       " '08043': ((2, 1, 1), (0, 0, 0, 12)),\n",
       " '08045': ((2, 1, 1), (0, 0, 0, 12)),\n",
       " '08046': ((1, 1, 0), (0, 0, 0, 12)),\n",
       " '08048': ((0, 1, 1), (0, 0, 0, 12)),\n",
       " '08050': ((2, 1, 0), (0, 0, 0, 12)),\n",
       " '08051': ((2, 1, 0), (0, 0, 1, 12)),\n",
       " '08052': ((2, 1, 1), (0, 0, 0, 12)),\n",
       " '08053': ((1, 1, 1), (1, 0, 2, 12)),\n",
       " '08054': ((2, 1, 1), (0, 0, 0, 12)),\n",
       " '08055': ((2, 1, 1), (0, 0, 0, 12)),\n",
       " '08056': ((3, 1, 0), (0, 0, 0, 12)),\n",
       " '08057': ((2, 1, 1), (0, 0, 0, 12)),\n",
       " '08059': ((1, 1, 0), (0, 0, 0, 12)),\n",
       " '08060': ((2, 1, 0), (2, 0, 0, 12)),\n",
       " '08061': ((2, 0, 0), (0, 0, 0, 12)),\n",
       " '08062': ((2, 0, 0), (0, 0, 0, 12)),\n",
       " '08063': ((1, 1, 0), (0, 0, 1, 12)),\n",
       " '08065': ((2, 1, 1), (1, 0, 1, 12)),\n",
       " '08066': ((3, 1, 0), (0, 0, 0, 12)),\n",
       " '08068': ((1, 1, 1), (0, 0, 0, 12)),\n",
       " '08069': ((2, 0, 0), (0, 0, 0, 12)),\n",
       " '08071': ((1, 1, 1), (0, 0, 0, 12)),\n",
       " '08075': ((2, 1, 0), (1, 0, 0, 12)),\n",
       " '08077': ((2, 1, 1), (0, 0, 0, 12)),\n",
       " '08078': ((2, 1, 1), (0, 0, 0, 12)),\n",
       " '08079': ((2, 1, 1), (0, 0, 0, 12)),\n",
       " '08080': ((2, 1, 1), (0, 0, 0, 12)),\n",
       " '08081': ((2, 0, 0), (0, 0, 0, 12)),\n",
       " '08083': ((1, 1, 1), (0, 0, 0, 12)),\n",
       " '08084': ((5, 1, 0), (0, 0, 1, 12)),\n",
       " '08085': ((1, 1, 0), (0, 0, 0, 12)),\n",
       " '08086': ((4, 1, 0), (0, 0, 0, 12)),\n",
       " '08087': ((1, 1, 1), (0, 0, 0, 12)),\n",
       " '08088': ((1, 1, 0), (0, 0, 0, 12)),\n",
       " '08090': ((1, 1, 0), (0, 0, 0, 12)),\n",
       " '08091': ((2, 1, 1), (0, 0, 1, 12)),\n",
       " '08092': ((2, 0, 0), (0, 0, 0, 12)),\n",
       " '08094': ((2, 1, 1), (0, 0, 0, 12)),\n",
       " '08096': ((1, 1, 0), (0, 0, 0, 12)),\n",
       " '08097': ((1, 1, 0), (0, 0, 0, 12)),\n",
       " '08098': ((2, 1, 0), (0, 0, 0, 12)),\n",
       " '08102': ((2, 1, 1), (0, 0, 0, 12)),\n",
       " '08103': ((2, 1, 1), (0, 0, 1, 12)),\n",
       " '08104': ((0, 1, 2), (0, 0, 0, 12)),\n",
       " '08107': ((1, 1, 0), (0, 0, 0, 12)),\n",
       " '08108': ((1, 1, 0), (1, 0, 0, 12)),\n",
       " '08109': ((3, 0, 0), (0, 0, 0, 12)),\n",
       " '08110': ((1, 1, 0), (0, 0, 0, 12)),\n",
       " '08201': ((2, 1, 0), (0, 0, 0, 12)),\n",
       " '08203': ((3, 1, 0), (0, 0, 0, 12)),\n",
       " '08205': ((2, 1, 0), (1, 0, 0, 12)),\n",
       " '08215': ((2, 1, 1), (0, 0, 0, 12)),\n",
       " '08232': ((3, 1, 0), (0, 0, 0, 12)),\n",
       " '08234': ((1, 1, 0), (0, 0, 0, 12)),\n",
       " '08302': ((2, 0, 0), (0, 0, 0, 12)),\n",
       " '08312': ((1, 1, 0), (0, 0, 0, 12)),\n",
       " '08322': ((1, 1, 0), (0, 0, 0, 12)),\n",
       " '08330': ((2, 1, 0), (0, 0, 0, 12)),\n",
       " '08332': ((0, 2, 0), (0, 0, 1, 12)),\n",
       " '08343': ((1, 1, 2), (0, 0, 0, 12)),\n",
       " '08344': ((3, 1, 0), (2, 0, 0, 12)),\n",
       " '08360': ((3, 0, 0), (0, 0, 0, 12)),\n",
       " '08361': ((2, 0, 0), (0, 0, 0, 12)),\n",
       " '08401': ((3, 1, 0), (0, 0, 2, 12)),\n",
       " '08501': ((2, 1, 0), (1, 0, 1, 12)),\n",
       " '08502': ((3, 1, 0), (0, 0, 0, 12)),\n",
       " '08505': ((2, 1, 1), (0, 0, 0, 12)),\n",
       " '08512': ((2, 1, 1), (0, 0, 0, 12)),\n",
       " '08514': ((1, 1, 0), (0, 0, 0, 12)),\n",
       " '08515': ((2, 1, 1), (0, 0, 0, 12)),\n",
       " '08518': ((1, 1, 0), (0, 0, 0, 12)),\n",
       " '08520': ((2, 1, 1), (0, 0, 0, 12)),\n",
       " '08527': ((2, 1, 0), (0, 0, 0, 12)),\n",
       " '08530': ((0, 1, 1), (0, 0, 2, 12)),\n",
       " '08533': ((1, 1, 1), (0, 0, 0, 12)),\n",
       " '08534': ((2, 1, 1), (0, 0, 0, 12)),\n",
       " '08535': ((2, 1, 1), (0, 0, 0, 12)),\n",
       " '08536': ((3, 1, 1), (0, 0, 0, 12)),\n",
       " '08540': ((1, 1, 0), (0, 0, 0, 12)),\n",
       " '08550': ((3, 1, 1), (0, 0, 0, 12)),\n",
       " '08551': ((0, 1, 1), (0, 0, 0, 12)),\n",
       " '08559': ((2, 1, 1), (0, 0, 1, 12)),\n",
       " '08609': ((1, 1, 2), (0, 0, 0, 12)),\n",
       " '08610': ((2, 1, 0), (0, 0, 0, 12)),\n",
       " '08618': ((2, 1, 0), (0, 0, 2, 12)),\n",
       " '08619': ((2, 1, 0), (0, 0, 0, 12)),\n",
       " '08620': ((2, 1, 1), (0, 0, 0, 12)),\n",
       " '08628': ((1, 1, 0), (0, 0, 0, 12)),\n",
       " '08629': ((2, 1, 1), (0, 0, 0, 12)),\n",
       " '08638': ((2, 1, 0), (0, 0, 0, 12)),\n",
       " '08648': ((2, 1, 0), (0, 0, 0, 12)),\n",
       " '08690': ((2, 1, 1), (0, 0, 0, 12)),\n",
       " '08691': ((2, 1, 1), (0, 0, 0, 12)),\n",
       " '08701': ((2, 1, 0), (0, 0, 0, 12)),\n",
       " '08721': ((2, 1, 0), (0, 0, 0, 12)),\n",
       " '08722': ((4, 1, 1), (0, 0, 0, 12)),\n",
       " '08723': ((2, 1, 0), (1, 0, 0, 12)),\n",
       " '08724': ((1, 1, 0), (1, 0, 0, 12)),\n",
       " '08730': ((1, 1, 0), (2, 0, 0, 12)),\n",
       " ...}"
      ]
     },
     "execution_count": 597,
     "metadata": {},
     "output_type": "execute_result"
    }
   ],
   "source": [
    "(models_dict)"
   ]
  },
  {
   "cell_type": "markdown",
   "id": "d8d501df",
   "metadata": {},
   "source": [
    "# Example of one model on zip 27518\n",
    "\n",
    "Found good guidelines on what (p, d, q) mean and how to interpret them here:\n",
    "https://towardsdatascience.com/time-series-forecasting-arima-models-7f221e9eee06"
   ]
  },
  {
   "cell_type": "code",
   "execution_count": 697,
   "id": "445be2f1",
   "metadata": {},
   "outputs": [],
   "source": [
    "df3 = train[train['zip']=='27518'].loc[:,['zri', 'datetime']]\n",
    "# filter for a random zip code and make a time series dataframe"
   ]
  },
  {
   "cell_type": "code",
   "execution_count": 698,
   "id": "4493aa6b",
   "metadata": {},
   "outputs": [
    {
     "data": {
      "text/html": [
       "<div>\n",
       "<style scoped>\n",
       "    .dataframe tbody tr th:only-of-type {\n",
       "        vertical-align: middle;\n",
       "    }\n",
       "\n",
       "    .dataframe tbody tr th {\n",
       "        vertical-align: top;\n",
       "    }\n",
       "\n",
       "    .dataframe thead th {\n",
       "        text-align: right;\n",
       "    }\n",
       "</style>\n",
       "<table border=\"1\" class=\"dataframe\">\n",
       "  <thead>\n",
       "    <tr style=\"text-align: right;\">\n",
       "      <th></th>\n",
       "      <th>zri</th>\n",
       "      <th>datetime</th>\n",
       "    </tr>\n",
       "  </thead>\n",
       "  <tbody>\n",
       "    <tr>\n",
       "      <th>304128</th>\n",
       "      <td>955.0</td>\n",
       "      <td>2011-02-01</td>\n",
       "    </tr>\n",
       "    <tr>\n",
       "      <th>304129</th>\n",
       "      <td>938.0</td>\n",
       "      <td>2011-03-01</td>\n",
       "    </tr>\n",
       "    <tr>\n",
       "      <th>304130</th>\n",
       "      <td>932.0</td>\n",
       "      <td>2011-04-01</td>\n",
       "    </tr>\n",
       "    <tr>\n",
       "      <th>304131</th>\n",
       "      <td>923.0</td>\n",
       "      <td>2011-05-01</td>\n",
       "    </tr>\n",
       "    <tr>\n",
       "      <th>304132</th>\n",
       "      <td>923.0</td>\n",
       "      <td>2011-06-01</td>\n",
       "    </tr>\n",
       "    <tr>\n",
       "      <th>...</th>\n",
       "      <td>...</td>\n",
       "      <td>...</td>\n",
       "    </tr>\n",
       "    <tr>\n",
       "      <th>304218</th>\n",
       "      <td>1338.0</td>\n",
       "      <td>2018-08-01</td>\n",
       "    </tr>\n",
       "    <tr>\n",
       "      <th>304219</th>\n",
       "      <td>1354.0</td>\n",
       "      <td>2018-09-01</td>\n",
       "    </tr>\n",
       "    <tr>\n",
       "      <th>304220</th>\n",
       "      <td>1361.0</td>\n",
       "      <td>2018-10-01</td>\n",
       "    </tr>\n",
       "    <tr>\n",
       "      <th>304221</th>\n",
       "      <td>1370.0</td>\n",
       "      <td>2018-11-01</td>\n",
       "    </tr>\n",
       "    <tr>\n",
       "      <th>304222</th>\n",
       "      <td>1367.0</td>\n",
       "      <td>2018-12-01</td>\n",
       "    </tr>\n",
       "  </tbody>\n",
       "</table>\n",
       "<p>95 rows × 2 columns</p>\n",
       "</div>"
      ],
      "text/plain": [
       "           zri   datetime\n",
       "304128   955.0 2011-02-01\n",
       "304129   938.0 2011-03-01\n",
       "304130   932.0 2011-04-01\n",
       "304131   923.0 2011-05-01\n",
       "304132   923.0 2011-06-01\n",
       "...        ...        ...\n",
       "304218  1338.0 2018-08-01\n",
       "304219  1354.0 2018-09-01\n",
       "304220  1361.0 2018-10-01\n",
       "304221  1370.0 2018-11-01\n",
       "304222  1367.0 2018-12-01\n",
       "\n",
       "[95 rows x 2 columns]"
      ]
     },
     "execution_count": 698,
     "metadata": {},
     "output_type": "execute_result"
    }
   ],
   "source": [
    "df3"
   ]
  },
  {
   "cell_type": "code",
   "execution_count": 699,
   "id": "0e42cd46",
   "metadata": {},
   "outputs": [
    {
     "data": {
      "application/vnd.plotly.v1+json": {
       "config": {
        "plotlyServerURL": "https://plot.ly"
       },
       "data": [
        {
         "hovertemplate": "datetime=%{x}<br>zri=%{y}<extra></extra>",
         "legendgroup": "",
         "line": {
          "color": "#636efa",
          "dash": "solid"
         },
         "mode": "lines",
         "name": "",
         "orientation": "v",
         "showlegend": false,
         "type": "scatter",
         "x": [
          "2011-02-01T00:00:00",
          "2011-03-01T00:00:00",
          "2011-04-01T00:00:00",
          "2011-05-01T00:00:00",
          "2011-06-01T00:00:00",
          "2011-07-01T00:00:00",
          "2011-08-01T00:00:00",
          "2011-09-01T00:00:00",
          "2011-10-01T00:00:00",
          "2011-11-01T00:00:00",
          "2011-12-01T00:00:00",
          "2012-01-01T00:00:00",
          "2012-02-01T00:00:00",
          "2012-03-01T00:00:00",
          "2012-04-01T00:00:00",
          "2012-05-01T00:00:00",
          "2012-06-01T00:00:00",
          "2012-07-01T00:00:00",
          "2012-08-01T00:00:00",
          "2012-09-01T00:00:00",
          "2012-10-01T00:00:00",
          "2012-11-01T00:00:00",
          "2012-12-01T00:00:00",
          "2013-01-01T00:00:00",
          "2013-02-01T00:00:00",
          "2013-03-01T00:00:00",
          "2013-04-01T00:00:00",
          "2013-05-01T00:00:00",
          "2013-06-01T00:00:00",
          "2013-07-01T00:00:00",
          "2013-08-01T00:00:00",
          "2013-09-01T00:00:00",
          "2013-10-01T00:00:00",
          "2013-11-01T00:00:00",
          "2013-12-01T00:00:00",
          "2014-01-01T00:00:00",
          "2014-02-01T00:00:00",
          "2014-03-01T00:00:00",
          "2014-04-01T00:00:00",
          "2014-05-01T00:00:00",
          "2014-06-01T00:00:00",
          "2014-07-01T00:00:00",
          "2014-08-01T00:00:00",
          "2014-09-01T00:00:00",
          "2014-10-01T00:00:00",
          "2014-11-01T00:00:00",
          "2014-12-01T00:00:00",
          "2015-01-01T00:00:00",
          "2015-02-01T00:00:00",
          "2015-03-01T00:00:00",
          "2015-04-01T00:00:00",
          "2015-05-01T00:00:00",
          "2015-06-01T00:00:00",
          "2015-07-01T00:00:00",
          "2015-08-01T00:00:00",
          "2015-09-01T00:00:00",
          "2015-10-01T00:00:00",
          "2015-11-01T00:00:00",
          "2015-12-01T00:00:00",
          "2016-01-01T00:00:00",
          "2016-02-01T00:00:00",
          "2016-03-01T00:00:00",
          "2016-04-01T00:00:00",
          "2016-05-01T00:00:00",
          "2016-06-01T00:00:00",
          "2016-07-01T00:00:00",
          "2016-08-01T00:00:00",
          "2016-09-01T00:00:00",
          "2016-10-01T00:00:00",
          "2016-11-01T00:00:00",
          "2016-12-01T00:00:00",
          "2017-01-01T00:00:00",
          "2017-02-01T00:00:00",
          "2017-03-01T00:00:00",
          "2017-04-01T00:00:00",
          "2017-05-01T00:00:00",
          "2017-06-01T00:00:00",
          "2017-07-01T00:00:00",
          "2017-08-01T00:00:00",
          "2017-09-01T00:00:00",
          "2017-10-01T00:00:00",
          "2017-11-01T00:00:00",
          "2017-12-01T00:00:00",
          "2018-01-01T00:00:00",
          "2018-02-01T00:00:00",
          "2018-03-01T00:00:00",
          "2018-04-01T00:00:00",
          "2018-05-01T00:00:00",
          "2018-06-01T00:00:00",
          "2018-07-01T00:00:00",
          "2018-08-01T00:00:00",
          "2018-09-01T00:00:00",
          "2018-10-01T00:00:00",
          "2018-11-01T00:00:00",
          "2018-12-01T00:00:00"
         ],
         "xaxis": "x",
         "y": [
          955,
          938,
          932,
          923,
          923,
          919,
          922,
          925,
          928,
          924,
          916,
          927,
          932,
          939,
          950,
          967,
          979,
          995,
          1001,
          1007,
          1008,
          1009,
          1011,
          1009,
          1007,
          1008,
          1020,
          1043,
          1070,
          1094,
          1102,
          1101,
          1096,
          1091,
          1076,
          1078,
          1080,
          1070,
          1070,
          1072,
          1070,
          1095,
          1117,
          1148,
          1179,
          1197,
          1211,
          1224,
          1232,
          1236,
          1236,
          1230,
          1233,
          1235,
          1234,
          1240,
          1241,
          1239,
          1241,
          1240,
          1237,
          1234,
          1236,
          1246,
          1264,
          1277,
          1287,
          1299,
          1299,
          1308,
          1312,
          1316,
          1321,
          1326,
          1329,
          1336,
          1346,
          1348,
          1341,
          1334,
          1324,
          1316,
          1315,
          1323,
          1328,
          1322,
          1314,
          1311,
          1316,
          1330,
          1338,
          1354,
          1361,
          1370,
          1367
         ],
         "yaxis": "y"
        }
       ],
       "layout": {
        "legend": {
         "tracegroupgap": 0
        },
        "margin": {
         "t": 60
        },
        "template": {
         "data": {
          "bar": [
           {
            "error_x": {
             "color": "#2a3f5f"
            },
            "error_y": {
             "color": "#2a3f5f"
            },
            "marker": {
             "line": {
              "color": "#E5ECF6",
              "width": 0.5
             },
             "pattern": {
              "fillmode": "overlay",
              "size": 10,
              "solidity": 0.2
             }
            },
            "type": "bar"
           }
          ],
          "barpolar": [
           {
            "marker": {
             "line": {
              "color": "#E5ECF6",
              "width": 0.5
             },
             "pattern": {
              "fillmode": "overlay",
              "size": 10,
              "solidity": 0.2
             }
            },
            "type": "barpolar"
           }
          ],
          "carpet": [
           {
            "aaxis": {
             "endlinecolor": "#2a3f5f",
             "gridcolor": "white",
             "linecolor": "white",
             "minorgridcolor": "white",
             "startlinecolor": "#2a3f5f"
            },
            "baxis": {
             "endlinecolor": "#2a3f5f",
             "gridcolor": "white",
             "linecolor": "white",
             "minorgridcolor": "white",
             "startlinecolor": "#2a3f5f"
            },
            "type": "carpet"
           }
          ],
          "choropleth": [
           {
            "colorbar": {
             "outlinewidth": 0,
             "ticks": ""
            },
            "type": "choropleth"
           }
          ],
          "contour": [
           {
            "colorbar": {
             "outlinewidth": 0,
             "ticks": ""
            },
            "colorscale": [
             [
              0,
              "#0d0887"
             ],
             [
              0.1111111111111111,
              "#46039f"
             ],
             [
              0.2222222222222222,
              "#7201a8"
             ],
             [
              0.3333333333333333,
              "#9c179e"
             ],
             [
              0.4444444444444444,
              "#bd3786"
             ],
             [
              0.5555555555555556,
              "#d8576b"
             ],
             [
              0.6666666666666666,
              "#ed7953"
             ],
             [
              0.7777777777777778,
              "#fb9f3a"
             ],
             [
              0.8888888888888888,
              "#fdca26"
             ],
             [
              1,
              "#f0f921"
             ]
            ],
            "type": "contour"
           }
          ],
          "contourcarpet": [
           {
            "colorbar": {
             "outlinewidth": 0,
             "ticks": ""
            },
            "type": "contourcarpet"
           }
          ],
          "heatmap": [
           {
            "colorbar": {
             "outlinewidth": 0,
             "ticks": ""
            },
            "colorscale": [
             [
              0,
              "#0d0887"
             ],
             [
              0.1111111111111111,
              "#46039f"
             ],
             [
              0.2222222222222222,
              "#7201a8"
             ],
             [
              0.3333333333333333,
              "#9c179e"
             ],
             [
              0.4444444444444444,
              "#bd3786"
             ],
             [
              0.5555555555555556,
              "#d8576b"
             ],
             [
              0.6666666666666666,
              "#ed7953"
             ],
             [
              0.7777777777777778,
              "#fb9f3a"
             ],
             [
              0.8888888888888888,
              "#fdca26"
             ],
             [
              1,
              "#f0f921"
             ]
            ],
            "type": "heatmap"
           }
          ],
          "heatmapgl": [
           {
            "colorbar": {
             "outlinewidth": 0,
             "ticks": ""
            },
            "colorscale": [
             [
              0,
              "#0d0887"
             ],
             [
              0.1111111111111111,
              "#46039f"
             ],
             [
              0.2222222222222222,
              "#7201a8"
             ],
             [
              0.3333333333333333,
              "#9c179e"
             ],
             [
              0.4444444444444444,
              "#bd3786"
             ],
             [
              0.5555555555555556,
              "#d8576b"
             ],
             [
              0.6666666666666666,
              "#ed7953"
             ],
             [
              0.7777777777777778,
              "#fb9f3a"
             ],
             [
              0.8888888888888888,
              "#fdca26"
             ],
             [
              1,
              "#f0f921"
             ]
            ],
            "type": "heatmapgl"
           }
          ],
          "histogram": [
           {
            "marker": {
             "pattern": {
              "fillmode": "overlay",
              "size": 10,
              "solidity": 0.2
             }
            },
            "type": "histogram"
           }
          ],
          "histogram2d": [
           {
            "colorbar": {
             "outlinewidth": 0,
             "ticks": ""
            },
            "colorscale": [
             [
              0,
              "#0d0887"
             ],
             [
              0.1111111111111111,
              "#46039f"
             ],
             [
              0.2222222222222222,
              "#7201a8"
             ],
             [
              0.3333333333333333,
              "#9c179e"
             ],
             [
              0.4444444444444444,
              "#bd3786"
             ],
             [
              0.5555555555555556,
              "#d8576b"
             ],
             [
              0.6666666666666666,
              "#ed7953"
             ],
             [
              0.7777777777777778,
              "#fb9f3a"
             ],
             [
              0.8888888888888888,
              "#fdca26"
             ],
             [
              1,
              "#f0f921"
             ]
            ],
            "type": "histogram2d"
           }
          ],
          "histogram2dcontour": [
           {
            "colorbar": {
             "outlinewidth": 0,
             "ticks": ""
            },
            "colorscale": [
             [
              0,
              "#0d0887"
             ],
             [
              0.1111111111111111,
              "#46039f"
             ],
             [
              0.2222222222222222,
              "#7201a8"
             ],
             [
              0.3333333333333333,
              "#9c179e"
             ],
             [
              0.4444444444444444,
              "#bd3786"
             ],
             [
              0.5555555555555556,
              "#d8576b"
             ],
             [
              0.6666666666666666,
              "#ed7953"
             ],
             [
              0.7777777777777778,
              "#fb9f3a"
             ],
             [
              0.8888888888888888,
              "#fdca26"
             ],
             [
              1,
              "#f0f921"
             ]
            ],
            "type": "histogram2dcontour"
           }
          ],
          "mesh3d": [
           {
            "colorbar": {
             "outlinewidth": 0,
             "ticks": ""
            },
            "type": "mesh3d"
           }
          ],
          "parcoords": [
           {
            "line": {
             "colorbar": {
              "outlinewidth": 0,
              "ticks": ""
             }
            },
            "type": "parcoords"
           }
          ],
          "pie": [
           {
            "automargin": true,
            "type": "pie"
           }
          ],
          "scatter": [
           {
            "marker": {
             "colorbar": {
              "outlinewidth": 0,
              "ticks": ""
             }
            },
            "type": "scatter"
           }
          ],
          "scatter3d": [
           {
            "line": {
             "colorbar": {
              "outlinewidth": 0,
              "ticks": ""
             }
            },
            "marker": {
             "colorbar": {
              "outlinewidth": 0,
              "ticks": ""
             }
            },
            "type": "scatter3d"
           }
          ],
          "scattercarpet": [
           {
            "marker": {
             "colorbar": {
              "outlinewidth": 0,
              "ticks": ""
             }
            },
            "type": "scattercarpet"
           }
          ],
          "scattergeo": [
           {
            "marker": {
             "colorbar": {
              "outlinewidth": 0,
              "ticks": ""
             }
            },
            "type": "scattergeo"
           }
          ],
          "scattergl": [
           {
            "marker": {
             "colorbar": {
              "outlinewidth": 0,
              "ticks": ""
             }
            },
            "type": "scattergl"
           }
          ],
          "scattermapbox": [
           {
            "marker": {
             "colorbar": {
              "outlinewidth": 0,
              "ticks": ""
             }
            },
            "type": "scattermapbox"
           }
          ],
          "scatterpolar": [
           {
            "marker": {
             "colorbar": {
              "outlinewidth": 0,
              "ticks": ""
             }
            },
            "type": "scatterpolar"
           }
          ],
          "scatterpolargl": [
           {
            "marker": {
             "colorbar": {
              "outlinewidth": 0,
              "ticks": ""
             }
            },
            "type": "scatterpolargl"
           }
          ],
          "scatterternary": [
           {
            "marker": {
             "colorbar": {
              "outlinewidth": 0,
              "ticks": ""
             }
            },
            "type": "scatterternary"
           }
          ],
          "surface": [
           {
            "colorbar": {
             "outlinewidth": 0,
             "ticks": ""
            },
            "colorscale": [
             [
              0,
              "#0d0887"
             ],
             [
              0.1111111111111111,
              "#46039f"
             ],
             [
              0.2222222222222222,
              "#7201a8"
             ],
             [
              0.3333333333333333,
              "#9c179e"
             ],
             [
              0.4444444444444444,
              "#bd3786"
             ],
             [
              0.5555555555555556,
              "#d8576b"
             ],
             [
              0.6666666666666666,
              "#ed7953"
             ],
             [
              0.7777777777777778,
              "#fb9f3a"
             ],
             [
              0.8888888888888888,
              "#fdca26"
             ],
             [
              1,
              "#f0f921"
             ]
            ],
            "type": "surface"
           }
          ],
          "table": [
           {
            "cells": {
             "fill": {
              "color": "#EBF0F8"
             },
             "line": {
              "color": "white"
             }
            },
            "header": {
             "fill": {
              "color": "#C8D4E3"
             },
             "line": {
              "color": "white"
             }
            },
            "type": "table"
           }
          ]
         },
         "layout": {
          "annotationdefaults": {
           "arrowcolor": "#2a3f5f",
           "arrowhead": 0,
           "arrowwidth": 1
          },
          "autotypenumbers": "strict",
          "coloraxis": {
           "colorbar": {
            "outlinewidth": 0,
            "ticks": ""
           }
          },
          "colorscale": {
           "diverging": [
            [
             0,
             "#8e0152"
            ],
            [
             0.1,
             "#c51b7d"
            ],
            [
             0.2,
             "#de77ae"
            ],
            [
             0.3,
             "#f1b6da"
            ],
            [
             0.4,
             "#fde0ef"
            ],
            [
             0.5,
             "#f7f7f7"
            ],
            [
             0.6,
             "#e6f5d0"
            ],
            [
             0.7,
             "#b8e186"
            ],
            [
             0.8,
             "#7fbc41"
            ],
            [
             0.9,
             "#4d9221"
            ],
            [
             1,
             "#276419"
            ]
           ],
           "sequential": [
            [
             0,
             "#0d0887"
            ],
            [
             0.1111111111111111,
             "#46039f"
            ],
            [
             0.2222222222222222,
             "#7201a8"
            ],
            [
             0.3333333333333333,
             "#9c179e"
            ],
            [
             0.4444444444444444,
             "#bd3786"
            ],
            [
             0.5555555555555556,
             "#d8576b"
            ],
            [
             0.6666666666666666,
             "#ed7953"
            ],
            [
             0.7777777777777778,
             "#fb9f3a"
            ],
            [
             0.8888888888888888,
             "#fdca26"
            ],
            [
             1,
             "#f0f921"
            ]
           ],
           "sequentialminus": [
            [
             0,
             "#0d0887"
            ],
            [
             0.1111111111111111,
             "#46039f"
            ],
            [
             0.2222222222222222,
             "#7201a8"
            ],
            [
             0.3333333333333333,
             "#9c179e"
            ],
            [
             0.4444444444444444,
             "#bd3786"
            ],
            [
             0.5555555555555556,
             "#d8576b"
            ],
            [
             0.6666666666666666,
             "#ed7953"
            ],
            [
             0.7777777777777778,
             "#fb9f3a"
            ],
            [
             0.8888888888888888,
             "#fdca26"
            ],
            [
             1,
             "#f0f921"
            ]
           ]
          },
          "colorway": [
           "#636efa",
           "#EF553B",
           "#00cc96",
           "#ab63fa",
           "#FFA15A",
           "#19d3f3",
           "#FF6692",
           "#B6E880",
           "#FF97FF",
           "#FECB52"
          ],
          "font": {
           "color": "#2a3f5f"
          },
          "geo": {
           "bgcolor": "white",
           "lakecolor": "white",
           "landcolor": "#E5ECF6",
           "showlakes": true,
           "showland": true,
           "subunitcolor": "white"
          },
          "hoverlabel": {
           "align": "left"
          },
          "hovermode": "closest",
          "mapbox": {
           "style": "light"
          },
          "paper_bgcolor": "white",
          "plot_bgcolor": "#E5ECF6",
          "polar": {
           "angularaxis": {
            "gridcolor": "white",
            "linecolor": "white",
            "ticks": ""
           },
           "bgcolor": "#E5ECF6",
           "radialaxis": {
            "gridcolor": "white",
            "linecolor": "white",
            "ticks": ""
           }
          },
          "scene": {
           "xaxis": {
            "backgroundcolor": "#E5ECF6",
            "gridcolor": "white",
            "gridwidth": 2,
            "linecolor": "white",
            "showbackground": true,
            "ticks": "",
            "zerolinecolor": "white"
           },
           "yaxis": {
            "backgroundcolor": "#E5ECF6",
            "gridcolor": "white",
            "gridwidth": 2,
            "linecolor": "white",
            "showbackground": true,
            "ticks": "",
            "zerolinecolor": "white"
           },
           "zaxis": {
            "backgroundcolor": "#E5ECF6",
            "gridcolor": "white",
            "gridwidth": 2,
            "linecolor": "white",
            "showbackground": true,
            "ticks": "",
            "zerolinecolor": "white"
           }
          },
          "shapedefaults": {
           "line": {
            "color": "#2a3f5f"
           }
          },
          "ternary": {
           "aaxis": {
            "gridcolor": "white",
            "linecolor": "white",
            "ticks": ""
           },
           "baxis": {
            "gridcolor": "white",
            "linecolor": "white",
            "ticks": ""
           },
           "bgcolor": "#E5ECF6",
           "caxis": {
            "gridcolor": "white",
            "linecolor": "white",
            "ticks": ""
           }
          },
          "title": {
           "x": 0.05
          },
          "xaxis": {
           "automargin": true,
           "gridcolor": "white",
           "linecolor": "white",
           "ticks": "",
           "title": {
            "standoff": 15
           },
           "zerolinecolor": "white",
           "zerolinewidth": 2
          },
          "yaxis": {
           "automargin": true,
           "gridcolor": "white",
           "linecolor": "white",
           "ticks": "",
           "title": {
            "standoff": 15
           },
           "zerolinecolor": "white",
           "zerolinewidth": 2
          }
         }
        },
        "xaxis": {
         "anchor": "y",
         "domain": [
          0,
          1
         ],
         "title": {
          "text": "datetime"
         }
        },
        "yaxis": {
         "anchor": "x",
         "domain": [
          0,
          1
         ],
         "title": {
          "text": "zri"
         }
        }
       }
      },
      "text/html": [
       "<div>                            <div id=\"c6115c04-5735-41ed-9eab-a1d11269aad9\" class=\"plotly-graph-div\" style=\"height:525px; width:100%;\"></div>            <script type=\"text/javascript\">                require([\"plotly\"], function(Plotly) {                    window.PLOTLYENV=window.PLOTLYENV || {};                                    if (document.getElementById(\"c6115c04-5735-41ed-9eab-a1d11269aad9\")) {                    Plotly.newPlot(                        \"c6115c04-5735-41ed-9eab-a1d11269aad9\",                        [{\"hovertemplate\":\"datetime=%{x}<br>zri=%{y}<extra></extra>\",\"legendgroup\":\"\",\"line\":{\"color\":\"#636efa\",\"dash\":\"solid\"},\"mode\":\"lines\",\"name\":\"\",\"orientation\":\"v\",\"showlegend\":false,\"type\":\"scatter\",\"x\":[\"2011-02-01T00:00:00\",\"2011-03-01T00:00:00\",\"2011-04-01T00:00:00\",\"2011-05-01T00:00:00\",\"2011-06-01T00:00:00\",\"2011-07-01T00:00:00\",\"2011-08-01T00:00:00\",\"2011-09-01T00:00:00\",\"2011-10-01T00:00:00\",\"2011-11-01T00:00:00\",\"2011-12-01T00:00:00\",\"2012-01-01T00:00:00\",\"2012-02-01T00:00:00\",\"2012-03-01T00:00:00\",\"2012-04-01T00:00:00\",\"2012-05-01T00:00:00\",\"2012-06-01T00:00:00\",\"2012-07-01T00:00:00\",\"2012-08-01T00:00:00\",\"2012-09-01T00:00:00\",\"2012-10-01T00:00:00\",\"2012-11-01T00:00:00\",\"2012-12-01T00:00:00\",\"2013-01-01T00:00:00\",\"2013-02-01T00:00:00\",\"2013-03-01T00:00:00\",\"2013-04-01T00:00:00\",\"2013-05-01T00:00:00\",\"2013-06-01T00:00:00\",\"2013-07-01T00:00:00\",\"2013-08-01T00:00:00\",\"2013-09-01T00:00:00\",\"2013-10-01T00:00:00\",\"2013-11-01T00:00:00\",\"2013-12-01T00:00:00\",\"2014-01-01T00:00:00\",\"2014-02-01T00:00:00\",\"2014-03-01T00:00:00\",\"2014-04-01T00:00:00\",\"2014-05-01T00:00:00\",\"2014-06-01T00:00:00\",\"2014-07-01T00:00:00\",\"2014-08-01T00:00:00\",\"2014-09-01T00:00:00\",\"2014-10-01T00:00:00\",\"2014-11-01T00:00:00\",\"2014-12-01T00:00:00\",\"2015-01-01T00:00:00\",\"2015-02-01T00:00:00\",\"2015-03-01T00:00:00\",\"2015-04-01T00:00:00\",\"2015-05-01T00:00:00\",\"2015-06-01T00:00:00\",\"2015-07-01T00:00:00\",\"2015-08-01T00:00:00\",\"2015-09-01T00:00:00\",\"2015-10-01T00:00:00\",\"2015-11-01T00:00:00\",\"2015-12-01T00:00:00\",\"2016-01-01T00:00:00\",\"2016-02-01T00:00:00\",\"2016-03-01T00:00:00\",\"2016-04-01T00:00:00\",\"2016-05-01T00:00:00\",\"2016-06-01T00:00:00\",\"2016-07-01T00:00:00\",\"2016-08-01T00:00:00\",\"2016-09-01T00:00:00\",\"2016-10-01T00:00:00\",\"2016-11-01T00:00:00\",\"2016-12-01T00:00:00\",\"2017-01-01T00:00:00\",\"2017-02-01T00:00:00\",\"2017-03-01T00:00:00\",\"2017-04-01T00:00:00\",\"2017-05-01T00:00:00\",\"2017-06-01T00:00:00\",\"2017-07-01T00:00:00\",\"2017-08-01T00:00:00\",\"2017-09-01T00:00:00\",\"2017-10-01T00:00:00\",\"2017-11-01T00:00:00\",\"2017-12-01T00:00:00\",\"2018-01-01T00:00:00\",\"2018-02-01T00:00:00\",\"2018-03-01T00:00:00\",\"2018-04-01T00:00:00\",\"2018-05-01T00:00:00\",\"2018-06-01T00:00:00\",\"2018-07-01T00:00:00\",\"2018-08-01T00:00:00\",\"2018-09-01T00:00:00\",\"2018-10-01T00:00:00\",\"2018-11-01T00:00:00\",\"2018-12-01T00:00:00\"],\"xaxis\":\"x\",\"y\":[955.0,938.0,932.0,923.0,923.0,919.0,922.0,925.0,928.0,924.0,916.0,927.0,932.0,939.0,950.0,967.0,979.0,995.0,1001.0,1007.0,1008.0,1009.0,1011.0,1009.0,1007.0,1008.0,1020.0,1043.0,1070.0,1094.0,1102.0,1101.0,1096.0,1091.0,1076.0,1078.0,1080.0,1070.0,1070.0,1072.0,1070.0,1095.0,1117.0,1148.0,1179.0,1197.0,1211.0,1224.0,1232.0,1236.0,1236.0,1230.0,1233.0,1235.0,1234.0,1240.0,1241.0,1239.0,1241.0,1240.0,1237.0,1234.0,1236.0,1246.0,1264.0,1277.0,1287.0,1299.0,1299.0,1308.0,1312.0,1316.0,1321.0,1326.0,1329.0,1336.0,1346.0,1348.0,1341.0,1334.0,1324.0,1316.0,1315.0,1323.0,1328.0,1322.0,1314.0,1311.0,1316.0,1330.0,1338.0,1354.0,1361.0,1370.0,1367.0],\"yaxis\":\"y\"}],                        {\"legend\":{\"tracegroupgap\":0},\"margin\":{\"t\":60},\"template\":{\"data\":{\"bar\":[{\"error_x\":{\"color\":\"#2a3f5f\"},\"error_y\":{\"color\":\"#2a3f5f\"},\"marker\":{\"line\":{\"color\":\"#E5ECF6\",\"width\":0.5},\"pattern\":{\"fillmode\":\"overlay\",\"size\":10,\"solidity\":0.2}},\"type\":\"bar\"}],\"barpolar\":[{\"marker\":{\"line\":{\"color\":\"#E5ECF6\",\"width\":0.5},\"pattern\":{\"fillmode\":\"overlay\",\"size\":10,\"solidity\":0.2}},\"type\":\"barpolar\"}],\"carpet\":[{\"aaxis\":{\"endlinecolor\":\"#2a3f5f\",\"gridcolor\":\"white\",\"linecolor\":\"white\",\"minorgridcolor\":\"white\",\"startlinecolor\":\"#2a3f5f\"},\"baxis\":{\"endlinecolor\":\"#2a3f5f\",\"gridcolor\":\"white\",\"linecolor\":\"white\",\"minorgridcolor\":\"white\",\"startlinecolor\":\"#2a3f5f\"},\"type\":\"carpet\"}],\"choropleth\":[{\"colorbar\":{\"outlinewidth\":0,\"ticks\":\"\"},\"type\":\"choropleth\"}],\"contour\":[{\"colorbar\":{\"outlinewidth\":0,\"ticks\":\"\"},\"colorscale\":[[0.0,\"#0d0887\"],[0.1111111111111111,\"#46039f\"],[0.2222222222222222,\"#7201a8\"],[0.3333333333333333,\"#9c179e\"],[0.4444444444444444,\"#bd3786\"],[0.5555555555555556,\"#d8576b\"],[0.6666666666666666,\"#ed7953\"],[0.7777777777777778,\"#fb9f3a\"],[0.8888888888888888,\"#fdca26\"],[1.0,\"#f0f921\"]],\"type\":\"contour\"}],\"contourcarpet\":[{\"colorbar\":{\"outlinewidth\":0,\"ticks\":\"\"},\"type\":\"contourcarpet\"}],\"heatmap\":[{\"colorbar\":{\"outlinewidth\":0,\"ticks\":\"\"},\"colorscale\":[[0.0,\"#0d0887\"],[0.1111111111111111,\"#46039f\"],[0.2222222222222222,\"#7201a8\"],[0.3333333333333333,\"#9c179e\"],[0.4444444444444444,\"#bd3786\"],[0.5555555555555556,\"#d8576b\"],[0.6666666666666666,\"#ed7953\"],[0.7777777777777778,\"#fb9f3a\"],[0.8888888888888888,\"#fdca26\"],[1.0,\"#f0f921\"]],\"type\":\"heatmap\"}],\"heatmapgl\":[{\"colorbar\":{\"outlinewidth\":0,\"ticks\":\"\"},\"colorscale\":[[0.0,\"#0d0887\"],[0.1111111111111111,\"#46039f\"],[0.2222222222222222,\"#7201a8\"],[0.3333333333333333,\"#9c179e\"],[0.4444444444444444,\"#bd3786\"],[0.5555555555555556,\"#d8576b\"],[0.6666666666666666,\"#ed7953\"],[0.7777777777777778,\"#fb9f3a\"],[0.8888888888888888,\"#fdca26\"],[1.0,\"#f0f921\"]],\"type\":\"heatmapgl\"}],\"histogram\":[{\"marker\":{\"pattern\":{\"fillmode\":\"overlay\",\"size\":10,\"solidity\":0.2}},\"type\":\"histogram\"}],\"histogram2d\":[{\"colorbar\":{\"outlinewidth\":0,\"ticks\":\"\"},\"colorscale\":[[0.0,\"#0d0887\"],[0.1111111111111111,\"#46039f\"],[0.2222222222222222,\"#7201a8\"],[0.3333333333333333,\"#9c179e\"],[0.4444444444444444,\"#bd3786\"],[0.5555555555555556,\"#d8576b\"],[0.6666666666666666,\"#ed7953\"],[0.7777777777777778,\"#fb9f3a\"],[0.8888888888888888,\"#fdca26\"],[1.0,\"#f0f921\"]],\"type\":\"histogram2d\"}],\"histogram2dcontour\":[{\"colorbar\":{\"outlinewidth\":0,\"ticks\":\"\"},\"colorscale\":[[0.0,\"#0d0887\"],[0.1111111111111111,\"#46039f\"],[0.2222222222222222,\"#7201a8\"],[0.3333333333333333,\"#9c179e\"],[0.4444444444444444,\"#bd3786\"],[0.5555555555555556,\"#d8576b\"],[0.6666666666666666,\"#ed7953\"],[0.7777777777777778,\"#fb9f3a\"],[0.8888888888888888,\"#fdca26\"],[1.0,\"#f0f921\"]],\"type\":\"histogram2dcontour\"}],\"mesh3d\":[{\"colorbar\":{\"outlinewidth\":0,\"ticks\":\"\"},\"type\":\"mesh3d\"}],\"parcoords\":[{\"line\":{\"colorbar\":{\"outlinewidth\":0,\"ticks\":\"\"}},\"type\":\"parcoords\"}],\"pie\":[{\"automargin\":true,\"type\":\"pie\"}],\"scatter\":[{\"marker\":{\"colorbar\":{\"outlinewidth\":0,\"ticks\":\"\"}},\"type\":\"scatter\"}],\"scatter3d\":[{\"line\":{\"colorbar\":{\"outlinewidth\":0,\"ticks\":\"\"}},\"marker\":{\"colorbar\":{\"outlinewidth\":0,\"ticks\":\"\"}},\"type\":\"scatter3d\"}],\"scattercarpet\":[{\"marker\":{\"colorbar\":{\"outlinewidth\":0,\"ticks\":\"\"}},\"type\":\"scattercarpet\"}],\"scattergeo\":[{\"marker\":{\"colorbar\":{\"outlinewidth\":0,\"ticks\":\"\"}},\"type\":\"scattergeo\"}],\"scattergl\":[{\"marker\":{\"colorbar\":{\"outlinewidth\":0,\"ticks\":\"\"}},\"type\":\"scattergl\"}],\"scattermapbox\":[{\"marker\":{\"colorbar\":{\"outlinewidth\":0,\"ticks\":\"\"}},\"type\":\"scattermapbox\"}],\"scatterpolar\":[{\"marker\":{\"colorbar\":{\"outlinewidth\":0,\"ticks\":\"\"}},\"type\":\"scatterpolar\"}],\"scatterpolargl\":[{\"marker\":{\"colorbar\":{\"outlinewidth\":0,\"ticks\":\"\"}},\"type\":\"scatterpolargl\"}],\"scatterternary\":[{\"marker\":{\"colorbar\":{\"outlinewidth\":0,\"ticks\":\"\"}},\"type\":\"scatterternary\"}],\"surface\":[{\"colorbar\":{\"outlinewidth\":0,\"ticks\":\"\"},\"colorscale\":[[0.0,\"#0d0887\"],[0.1111111111111111,\"#46039f\"],[0.2222222222222222,\"#7201a8\"],[0.3333333333333333,\"#9c179e\"],[0.4444444444444444,\"#bd3786\"],[0.5555555555555556,\"#d8576b\"],[0.6666666666666666,\"#ed7953\"],[0.7777777777777778,\"#fb9f3a\"],[0.8888888888888888,\"#fdca26\"],[1.0,\"#f0f921\"]],\"type\":\"surface\"}],\"table\":[{\"cells\":{\"fill\":{\"color\":\"#EBF0F8\"},\"line\":{\"color\":\"white\"}},\"header\":{\"fill\":{\"color\":\"#C8D4E3\"},\"line\":{\"color\":\"white\"}},\"type\":\"table\"}]},\"layout\":{\"annotationdefaults\":{\"arrowcolor\":\"#2a3f5f\",\"arrowhead\":0,\"arrowwidth\":1},\"autotypenumbers\":\"strict\",\"coloraxis\":{\"colorbar\":{\"outlinewidth\":0,\"ticks\":\"\"}},\"colorscale\":{\"diverging\":[[0,\"#8e0152\"],[0.1,\"#c51b7d\"],[0.2,\"#de77ae\"],[0.3,\"#f1b6da\"],[0.4,\"#fde0ef\"],[0.5,\"#f7f7f7\"],[0.6,\"#e6f5d0\"],[0.7,\"#b8e186\"],[0.8,\"#7fbc41\"],[0.9,\"#4d9221\"],[1,\"#276419\"]],\"sequential\":[[0.0,\"#0d0887\"],[0.1111111111111111,\"#46039f\"],[0.2222222222222222,\"#7201a8\"],[0.3333333333333333,\"#9c179e\"],[0.4444444444444444,\"#bd3786\"],[0.5555555555555556,\"#d8576b\"],[0.6666666666666666,\"#ed7953\"],[0.7777777777777778,\"#fb9f3a\"],[0.8888888888888888,\"#fdca26\"],[1.0,\"#f0f921\"]],\"sequentialminus\":[[0.0,\"#0d0887\"],[0.1111111111111111,\"#46039f\"],[0.2222222222222222,\"#7201a8\"],[0.3333333333333333,\"#9c179e\"],[0.4444444444444444,\"#bd3786\"],[0.5555555555555556,\"#d8576b\"],[0.6666666666666666,\"#ed7953\"],[0.7777777777777778,\"#fb9f3a\"],[0.8888888888888888,\"#fdca26\"],[1.0,\"#f0f921\"]]},\"colorway\":[\"#636efa\",\"#EF553B\",\"#00cc96\",\"#ab63fa\",\"#FFA15A\",\"#19d3f3\",\"#FF6692\",\"#B6E880\",\"#FF97FF\",\"#FECB52\"],\"font\":{\"color\":\"#2a3f5f\"},\"geo\":{\"bgcolor\":\"white\",\"lakecolor\":\"white\",\"landcolor\":\"#E5ECF6\",\"showlakes\":true,\"showland\":true,\"subunitcolor\":\"white\"},\"hoverlabel\":{\"align\":\"left\"},\"hovermode\":\"closest\",\"mapbox\":{\"style\":\"light\"},\"paper_bgcolor\":\"white\",\"plot_bgcolor\":\"#E5ECF6\",\"polar\":{\"angularaxis\":{\"gridcolor\":\"white\",\"linecolor\":\"white\",\"ticks\":\"\"},\"bgcolor\":\"#E5ECF6\",\"radialaxis\":{\"gridcolor\":\"white\",\"linecolor\":\"white\",\"ticks\":\"\"}},\"scene\":{\"xaxis\":{\"backgroundcolor\":\"#E5ECF6\",\"gridcolor\":\"white\",\"gridwidth\":2,\"linecolor\":\"white\",\"showbackground\":true,\"ticks\":\"\",\"zerolinecolor\":\"white\"},\"yaxis\":{\"backgroundcolor\":\"#E5ECF6\",\"gridcolor\":\"white\",\"gridwidth\":2,\"linecolor\":\"white\",\"showbackground\":true,\"ticks\":\"\",\"zerolinecolor\":\"white\"},\"zaxis\":{\"backgroundcolor\":\"#E5ECF6\",\"gridcolor\":\"white\",\"gridwidth\":2,\"linecolor\":\"white\",\"showbackground\":true,\"ticks\":\"\",\"zerolinecolor\":\"white\"}},\"shapedefaults\":{\"line\":{\"color\":\"#2a3f5f\"}},\"ternary\":{\"aaxis\":{\"gridcolor\":\"white\",\"linecolor\":\"white\",\"ticks\":\"\"},\"baxis\":{\"gridcolor\":\"white\",\"linecolor\":\"white\",\"ticks\":\"\"},\"bgcolor\":\"#E5ECF6\",\"caxis\":{\"gridcolor\":\"white\",\"linecolor\":\"white\",\"ticks\":\"\"}},\"title\":{\"x\":0.05},\"xaxis\":{\"automargin\":true,\"gridcolor\":\"white\",\"linecolor\":\"white\",\"ticks\":\"\",\"title\":{\"standoff\":15},\"zerolinecolor\":\"white\",\"zerolinewidth\":2},\"yaxis\":{\"automargin\":true,\"gridcolor\":\"white\",\"linecolor\":\"white\",\"ticks\":\"\",\"title\":{\"standoff\":15},\"zerolinecolor\":\"white\",\"zerolinewidth\":2}}},\"xaxis\":{\"anchor\":\"y\",\"domain\":[0.0,1.0],\"title\":{\"text\":\"datetime\"}},\"yaxis\":{\"anchor\":\"x\",\"domain\":[0.0,1.0],\"title\":{\"text\":\"zri\"}}},                        {\"responsive\": true}                    ).then(function(){\n",
       "                            \n",
       "var gd = document.getElementById('c6115c04-5735-41ed-9eab-a1d11269aad9');\n",
       "var x = new MutationObserver(function (mutations, observer) {{\n",
       "        var display = window.getComputedStyle(gd).display;\n",
       "        if (!display || display === 'none') {{\n",
       "            console.log([gd, 'removed!']);\n",
       "            Plotly.purge(gd);\n",
       "            observer.disconnect();\n",
       "        }}\n",
       "}});\n",
       "\n",
       "// Listen for the removal of the full notebook cells\n",
       "var notebookContainer = gd.closest('#notebook-container');\n",
       "if (notebookContainer) {{\n",
       "    x.observe(notebookContainer, {childList: true});\n",
       "}}\n",
       "\n",
       "// Listen for the clearing of the current output cell\n",
       "var outputEl = gd.closest('.output');\n",
       "if (outputEl) {{\n",
       "    x.observe(outputEl, {childList: true});\n",
       "}}\n",
       "\n",
       "                        })                };                });            </script>        </div>"
      ]
     },
     "metadata": {},
     "output_type": "display_data"
    }
   ],
   "source": [
    "fig = px.line(df3, x = 'datetime', y = 'zri')\n",
    "fig\n",
    "# stationarity is a requirement for arima\n",
    "# stationary time series = the mean does not change over time\n",
    "# if there is an overall trend in the time-series you take differences"
   ]
  },
  {
   "cell_type": "code",
   "execution_count": 700,
   "id": "efa73f0f",
   "metadata": {},
   "outputs": [
    {
     "name": "stderr",
     "output_type": "stream",
     "text": [
      "C:\\Users\\fayma\\anaconda3\\envs\\env1\\lib\\site-packages\\pmdarima\\utils\\visualization.py:219: FutureWarning:\n",
      "\n",
      "the 'unbiased'' keyword is deprecated, use 'adjusted' instead\n",
      "\n"
     ]
    },
    {
     "data": {
      "image/png": "[encoded data removed]",
      "text/plain": [
       "<Figure size 432x288 with 1 Axes>"
      ]
     },
     "metadata": {
      "needs_background": "light"
     },
     "output_type": "display_data"
    }
   ],
   "source": [
    "pm.plot_acf(df3['zri'], lags = 50, alpha = 0.05)"
   ]
  },
  {
   "cell_type": "code",
   "execution_count": 701,
   "id": "f5719752",
   "metadata": {},
   "outputs": [
    {
     "data": {
      "image/png": "[encoded data removed]",
      "text/plain": [
       "<Figure size 432x288 with 1 Axes>"
      ]
     },
     "metadata": {
      "needs_background": "light"
     },
     "output_type": "display_data"
    }
   ],
   "source": [
    "pm.plot_pacf(df3['zri'], lags = 20)"
   ]
  },
  {
   "cell_type": "code",
   "execution_count": 702,
   "id": "cbe77689",
   "metadata": {},
   "outputs": [],
   "source": [
    "# pmdarima comes with a function to difference a time-series for you\n",
    "zri_dif = pm.arima.utils.diff(df3['zri'], 1, 1) # lag = 1 and number of differences = 1"
   ]
  },
  {
   "cell_type": "code",
   "execution_count": 709,
   "id": "422a882a",
   "metadata": {},
   "outputs": [],
   "source": [
    "dif1 = df3.copy().iloc[1:,:] # drop 1st row bc first row always becomes nan when differencing"
   ]
  },
  {
   "cell_type": "code",
   "execution_count": 711,
   "id": "5f8d563c",
   "metadata": {},
   "outputs": [],
   "source": [
    "dif1['zri']=zri_dif"
   ]
  },
  {
   "cell_type": "code",
   "execution_count": 712,
   "id": "5d7ff794",
   "metadata": {},
   "outputs": [
    {
     "data": {
      "application/vnd.plotly.v1+json": {
       "config": {
        "plotlyServerURL": "https://plot.ly"
       },
       "data": [
        {
         "hovertemplate": "datetime=%{x}<br>zri=%{y}<extra></extra>",
         "legendgroup": "",
         "line": {
          "color": "#636efa",
          "dash": "solid"
         },
         "mode": "lines",
         "name": "",
         "orientation": "v",
         "showlegend": false,
         "type": "scatter",
         "x": [
          "2011-03-01T00:00:00",
          "2011-04-01T00:00:00",
          "2011-05-01T00:00:00",
          "2011-06-01T00:00:00",
          "2011-07-01T00:00:00",
          "2011-08-01T00:00:00",
          "2011-09-01T00:00:00",
          "2011-10-01T00:00:00",
          "2011-11-01T00:00:00",
          "2011-12-01T00:00:00",
          "2012-01-01T00:00:00",
          "2012-02-01T00:00:00",
          "2012-03-01T00:00:00",
          "2012-04-01T00:00:00",
          "2012-05-01T00:00:00",
          "2012-06-01T00:00:00",
          "2012-07-01T00:00:00",
          "2012-08-01T00:00:00",
          "2012-09-01T00:00:00",
          "2012-10-01T00:00:00",
          "2012-11-01T00:00:00",
          "2012-12-01T00:00:00",
          "2013-01-01T00:00:00",
          "2013-02-01T00:00:00",
          "2013-03-01T00:00:00",
          "2013-04-01T00:00:00",
          "2013-05-01T00:00:00",
          "2013-06-01T00:00:00",
          "2013-07-01T00:00:00",
          "2013-08-01T00:00:00",
          "2013-09-01T00:00:00",
          "2013-10-01T00:00:00",
          "2013-11-01T00:00:00",
          "2013-12-01T00:00:00",
          "2014-01-01T00:00:00",
          "2014-02-01T00:00:00",
          "2014-03-01T00:00:00",
          "2014-04-01T00:00:00",
          "2014-05-01T00:00:00",
          "2014-06-01T00:00:00",
          "2014-07-01T00:00:00",
          "2014-08-01T00:00:00",
          "2014-09-01T00:00:00",
          "2014-10-01T00:00:00",
          "2014-11-01T00:00:00",
          "2014-12-01T00:00:00",
          "2015-01-01T00:00:00",
          "2015-02-01T00:00:00",
          "2015-03-01T00:00:00",
          "2015-04-01T00:00:00",
          "2015-05-01T00:00:00",
          "2015-06-01T00:00:00",
          "2015-07-01T00:00:00",
          "2015-08-01T00:00:00",
          "2015-09-01T00:00:00",
          "2015-10-01T00:00:00",
          "2015-11-01T00:00:00",
          "2015-12-01T00:00:00",
          "2016-01-01T00:00:00",
          "2016-02-01T00:00:00",
          "2016-03-01T00:00:00",
          "2016-04-01T00:00:00",
          "2016-05-01T00:00:00",
          "2016-06-01T00:00:00",
          "2016-07-01T00:00:00",
          "2016-08-01T00:00:00",
          "2016-09-01T00:00:00",
          "2016-10-01T00:00:00",
          "2016-11-01T00:00:00",
          "2016-12-01T00:00:00",
          "2017-01-01T00:00:00",
          "2017-02-01T00:00:00",
          "2017-03-01T00:00:00",
          "2017-04-01T00:00:00",
          "2017-05-01T00:00:00",
          "2017-06-01T00:00:00",
          "2017-07-01T00:00:00",
          "2017-08-01T00:00:00",
          "2017-09-01T00:00:00",
          "2017-10-01T00:00:00",
          "2017-11-01T00:00:00",
          "2017-12-01T00:00:00",
          "2018-01-01T00:00:00",
          "2018-02-01T00:00:00",
          "2018-03-01T00:00:00",
          "2018-04-01T00:00:00",
          "2018-05-01T00:00:00",
          "2018-06-01T00:00:00",
          "2018-07-01T00:00:00",
          "2018-08-01T00:00:00",
          "2018-09-01T00:00:00",
          "2018-10-01T00:00:00",
          "2018-11-01T00:00:00",
          "2018-12-01T00:00:00"
         ],
         "xaxis": "x",
         "y": [
          -17,
          -6,
          -9,
          0,
          -4,
          3,
          3,
          3,
          -4,
          -8,
          11,
          5,
          7,
          11,
          17,
          12,
          16,
          6,
          6,
          1,
          1,
          2,
          -2,
          -2,
          1,
          12,
          23,
          27,
          24,
          8,
          -1,
          -5,
          -5,
          -15,
          2,
          2,
          -10,
          0,
          2,
          -2,
          25,
          22,
          31,
          31,
          18,
          14,
          13,
          8,
          4,
          0,
          -6,
          3,
          2,
          -1,
          6,
          1,
          -2,
          2,
          -1,
          -3,
          -3,
          2,
          10,
          18,
          13,
          10,
          12,
          0,
          9,
          4,
          4,
          5,
          5,
          3,
          7,
          10,
          2,
          -7,
          -7,
          -10,
          -8,
          -1,
          8,
          5,
          -6,
          -8,
          -3,
          5,
          14,
          8,
          16,
          7,
          9,
          -3
         ],
         "yaxis": "y"
        }
       ],
       "layout": {
        "legend": {
         "tracegroupgap": 0
        },
        "margin": {
         "t": 60
        },
        "template": {
         "data": {
          "bar": [
           {
            "error_x": {
             "color": "#2a3f5f"
            },
            "error_y": {
             "color": "#2a3f5f"
            },
            "marker": {
             "line": {
              "color": "#E5ECF6",
              "width": 0.5
             },
             "pattern": {
              "fillmode": "overlay",
              "size": 10,
              "solidity": 0.2
             }
            },
            "type": "bar"
           }
          ],
          "barpolar": [
           {
            "marker": {
             "line": {
              "color": "#E5ECF6",
              "width": 0.5
             },
             "pattern": {
              "fillmode": "overlay",
              "size": 10,
              "solidity": 0.2
             }
            },
            "type": "barpolar"
           }
          ],
          "carpet": [
           {
            "aaxis": {
             "endlinecolor": "#2a3f5f",
             "gridcolor": "white",
             "linecolor": "white",
             "minorgridcolor": "white",
             "startlinecolor": "#2a3f5f"
            },
            "baxis": {
             "endlinecolor": "#2a3f5f",
             "gridcolor": "white",
             "linecolor": "white",
             "minorgridcolor": "white",
             "startlinecolor": "#2a3f5f"
            },
            "type": "carpet"
           }
          ],
          "choropleth": [
           {
            "colorbar": {
             "outlinewidth": 0,
             "ticks": ""
            },
            "type": "choropleth"
           }
          ],
          "contour": [
           {
            "colorbar": {
             "outlinewidth": 0,
             "ticks": ""
            },
            "colorscale": [
             [
              0,
              "#0d0887"
             ],
             [
              0.1111111111111111,
              "#46039f"
             ],
             [
              0.2222222222222222,
              "#7201a8"
             ],
             [
              0.3333333333333333,
              "#9c179e"
             ],
             [
              0.4444444444444444,
              "#bd3786"
             ],
             [
              0.5555555555555556,
              "#d8576b"
             ],
             [
              0.6666666666666666,
              "#ed7953"
             ],
             [
              0.7777777777777778,
              "#fb9f3a"
             ],
             [
              0.8888888888888888,
              "#fdca26"
             ],
             [
              1,
              "#f0f921"
             ]
            ],
            "type": "contour"
           }
          ],
          "contourcarpet": [
           {
            "colorbar": {
             "outlinewidth": 0,
             "ticks": ""
            },
            "type": "contourcarpet"
           }
          ],
          "heatmap": [
           {
            "colorbar": {
             "outlinewidth": 0,
             "ticks": ""
            },
            "colorscale": [
             [
              0,
              "#0d0887"
             ],
             [
              0.1111111111111111,
              "#46039f"
             ],
             [
              0.2222222222222222,
              "#7201a8"
             ],
             [
              0.3333333333333333,
              "#9c179e"
             ],
             [
              0.4444444444444444,
              "#bd3786"
             ],
             [
              0.5555555555555556,
              "#d8576b"
             ],
             [
              0.6666666666666666,
              "#ed7953"
             ],
             [
              0.7777777777777778,
              "#fb9f3a"
             ],
             [
              0.8888888888888888,
              "#fdca26"
             ],
             [
              1,
              "#f0f921"
             ]
            ],
            "type": "heatmap"
           }
          ],
          "heatmapgl": [
           {
            "colorbar": {
             "outlinewidth": 0,
             "ticks": ""
            },
            "colorscale": [
             [
              0,
              "#0d0887"
             ],
             [
              0.1111111111111111,
              "#46039f"
             ],
             [
              0.2222222222222222,
              "#7201a8"
             ],
             [
              0.3333333333333333,
              "#9c179e"
             ],
             [
              0.4444444444444444,
              "#bd3786"
             ],
             [
              0.5555555555555556,
              "#d8576b"
             ],
             [
              0.6666666666666666,
              "#ed7953"
             ],
             [
              0.7777777777777778,
              "#fb9f3a"
             ],
             [
              0.8888888888888888,
              "#fdca26"
             ],
             [
              1,
              "#f0f921"
             ]
            ],
            "type": "heatmapgl"
           }
          ],
          "histogram": [
           {
            "marker": {
             "pattern": {
              "fillmode": "overlay",
              "size": 10,
              "solidity": 0.2
             }
            },
            "type": "histogram"
           }
          ],
          "histogram2d": [
           {
            "colorbar": {
             "outlinewidth": 0,
             "ticks": ""
            },
            "colorscale": [
             [
              0,
              "#0d0887"
             ],
             [
              0.1111111111111111,
              "#46039f"
             ],
             [
              0.2222222222222222,
              "#7201a8"
             ],
             [
              0.3333333333333333,
              "#9c179e"
             ],
             [
              0.4444444444444444,
              "#bd3786"
             ],
             [
              0.5555555555555556,
              "#d8576b"
             ],
             [
              0.6666666666666666,
              "#ed7953"
             ],
             [
              0.7777777777777778,
              "#fb9f3a"
             ],
             [
              0.8888888888888888,
              "#fdca26"
             ],
             [
              1,
              "#f0f921"
             ]
            ],
            "type": "histogram2d"
           }
          ],
          "histogram2dcontour": [
           {
            "colorbar": {
             "outlinewidth": 0,
             "ticks": ""
            },
            "colorscale": [
             [
              0,
              "#0d0887"
             ],
             [
              0.1111111111111111,
              "#46039f"
             ],
             [
              0.2222222222222222,
              "#7201a8"
             ],
             [
              0.3333333333333333,
              "#9c179e"
             ],
             [
              0.4444444444444444,
              "#bd3786"
             ],
             [
              0.5555555555555556,
              "#d8576b"
             ],
             [
              0.6666666666666666,
              "#ed7953"
             ],
             [
              0.7777777777777778,
              "#fb9f3a"
             ],
             [
              0.8888888888888888,
              "#fdca26"
             ],
             [
              1,
              "#f0f921"
             ]
            ],
            "type": "histogram2dcontour"
           }
          ],
          "mesh3d": [
           {
            "colorbar": {
             "outlinewidth": 0,
             "ticks": ""
            },
            "type": "mesh3d"
           }
          ],
          "parcoords": [
           {
            "line": {
             "colorbar": {
              "outlinewidth": 0,
              "ticks": ""
             }
            },
            "type": "parcoords"
           }
          ],
          "pie": [
           {
            "automargin": true,
            "type": "pie"
           }
          ],
          "scatter": [
           {
            "marker": {
             "colorbar": {
              "outlinewidth": 0,
              "ticks": ""
             }
            },
            "type": "scatter"
           }
          ],
          "scatter3d": [
           {
            "line": {
             "colorbar": {
              "outlinewidth": 0,
              "ticks": ""
             }
            },
            "marker": {
             "colorbar": {
              "outlinewidth": 0,
              "ticks": ""
             }
            },
            "type": "scatter3d"
           }
          ],
          "scattercarpet": [
           {
            "marker": {
             "colorbar": {
              "outlinewidth": 0,
              "ticks": ""
             }
            },
            "type": "scattercarpet"
           }
          ],
          "scattergeo": [
           {
            "marker": {
             "colorbar": {
              "outlinewidth": 0,
              "ticks": ""
             }
            },
            "type": "scattergeo"
           }
          ],
          "scattergl": [
           {
            "marker": {
             "colorbar": {
              "outlinewidth": 0,
              "ticks": ""
             }
            },
            "type": "scattergl"
           }
          ],
          "scattermapbox": [
           {
            "marker": {
             "colorbar": {
              "outlinewidth": 0,
              "ticks": ""
             }
            },
            "type": "scattermapbox"
           }
          ],
          "scatterpolar": [
           {
            "marker": {
             "colorbar": {
              "outlinewidth": 0,
              "ticks": ""
             }
            },
            "type": "scatterpolar"
           }
          ],
          "scatterpolargl": [
           {
            "marker": {
             "colorbar": {
              "outlinewidth": 0,
              "ticks": ""
             }
            },
            "type": "scatterpolargl"
           }
          ],
          "scatterternary": [
           {
            "marker": {
             "colorbar": {
              "outlinewidth": 0,
              "ticks": ""
             }
            },
            "type": "scatterternary"
           }
          ],
          "surface": [
           {
            "colorbar": {
             "outlinewidth": 0,
             "ticks": ""
            },
            "colorscale": [
             [
              0,
              "#0d0887"
             ],
             [
              0.1111111111111111,
              "#46039f"
             ],
             [
              0.2222222222222222,
              "#7201a8"
             ],
             [
              0.3333333333333333,
              "#9c179e"
             ],
             [
              0.4444444444444444,
              "#bd3786"
             ],
             [
              0.5555555555555556,
              "#d8576b"
             ],
             [
              0.6666666666666666,
              "#ed7953"
             ],
             [
              0.7777777777777778,
              "#fb9f3a"
             ],
             [
              0.8888888888888888,
              "#fdca26"
             ],
             [
              1,
              "#f0f921"
             ]
            ],
            "type": "surface"
           }
          ],
          "table": [
           {
            "cells": {
             "fill": {
              "color": "#EBF0F8"
             },
             "line": {
              "color": "white"
             }
            },
            "header": {
             "fill": {
              "color": "#C8D4E3"
             },
             "line": {
              "color": "white"
             }
            },
            "type": "table"
           }
          ]
         },
         "layout": {
          "annotationdefaults": {
           "arrowcolor": "#2a3f5f",
           "arrowhead": 0,
           "arrowwidth": 1
          },
          "autotypenumbers": "strict",
          "coloraxis": {
           "colorbar": {
            "outlinewidth": 0,
            "ticks": ""
           }
          },
          "colorscale": {
           "diverging": [
            [
             0,
             "#8e0152"
            ],
            [
             0.1,
             "#c51b7d"
            ],
            [
             0.2,
             "#de77ae"
            ],
            [
             0.3,
             "#f1b6da"
            ],
            [
             0.4,
             "#fde0ef"
            ],
            [
             0.5,
             "#f7f7f7"
            ],
            [
             0.6,
             "#e6f5d0"
            ],
            [
             0.7,
             "#b8e186"
            ],
            [
             0.8,
             "#7fbc41"
            ],
            [
             0.9,
             "#4d9221"
            ],
            [
             1,
             "#276419"
            ]
           ],
           "sequential": [
            [
             0,
             "#0d0887"
            ],
            [
             0.1111111111111111,
             "#46039f"
            ],
            [
             0.2222222222222222,
             "#7201a8"
            ],
            [
             0.3333333333333333,
             "#9c179e"
            ],
            [
             0.4444444444444444,
             "#bd3786"
            ],
            [
             0.5555555555555556,
             "#d8576b"
            ],
            [
             0.6666666666666666,
             "#ed7953"
            ],
            [
             0.7777777777777778,
             "#fb9f3a"
            ],
            [
             0.8888888888888888,
             "#fdca26"
            ],
            [
             1,
             "#f0f921"
            ]
           ],
           "sequentialminus": [
            [
             0,
             "#0d0887"
            ],
            [
             0.1111111111111111,
             "#46039f"
            ],
            [
             0.2222222222222222,
             "#7201a8"
            ],
            [
             0.3333333333333333,
             "#9c179e"
            ],
            [
             0.4444444444444444,
             "#bd3786"
            ],
            [
             0.5555555555555556,
             "#d8576b"
            ],
            [
             0.6666666666666666,
             "#ed7953"
            ],
            [
             0.7777777777777778,
             "#fb9f3a"
            ],
            [
             0.8888888888888888,
             "#fdca26"
            ],
            [
             1,
             "#f0f921"
            ]
           ]
          },
          "colorway": [
           "#636efa",
           "#EF553B",
           "#00cc96",
           "#ab63fa",
           "#FFA15A",
           "#19d3f3",
           "#FF6692",
           "#B6E880",
           "#FF97FF",
           "#FECB52"
          ],
          "font": {
           "color": "#2a3f5f"
          },
          "geo": {
           "bgcolor": "white",
           "lakecolor": "white",
           "landcolor": "#E5ECF6",
           "showlakes": true,
           "showland": true,
           "subunitcolor": "white"
          },
          "hoverlabel": {
           "align": "left"
          },
          "hovermode": "closest",
          "mapbox": {
           "style": "light"
          },
          "paper_bgcolor": "white",
          "plot_bgcolor": "#E5ECF6",
          "polar": {
           "angularaxis": {
            "gridcolor": "white",
            "linecolor": "white",
            "ticks": ""
           },
           "bgcolor": "#E5ECF6",
           "radialaxis": {
            "gridcolor": "white",
            "linecolor": "white",
            "ticks": ""
           }
          },
          "scene": {
           "xaxis": {
            "backgroundcolor": "#E5ECF6",
            "gridcolor": "white",
            "gridwidth": 2,
            "linecolor": "white",
            "showbackground": true,
            "ticks": "",
            "zerolinecolor": "white"
           },
           "yaxis": {
            "backgroundcolor": "#E5ECF6",
            "gridcolor": "white",
            "gridwidth": 2,
            "linecolor": "white",
            "showbackground": true,
            "ticks": "",
            "zerolinecolor": "white"
           },
           "zaxis": {
            "backgroundcolor": "#E5ECF6",
            "gridcolor": "white",
            "gridwidth": 2,
            "linecolor": "white",
            "showbackground": true,
            "ticks": "",
            "zerolinecolor": "white"
           }
          },
          "shapedefaults": {
           "line": {
            "color": "#2a3f5f"
           }
          },
          "ternary": {
           "aaxis": {
            "gridcolor": "white",
            "linecolor": "white",
            "ticks": ""
           },
           "baxis": {
            "gridcolor": "white",
            "linecolor": "white",
            "ticks": ""
           },
           "bgcolor": "#E5ECF6",
           "caxis": {
            "gridcolor": "white",
            "linecolor": "white",
            "ticks": ""
           }
          },
          "title": {
           "x": 0.05
          },
          "xaxis": {
           "automargin": true,
           "gridcolor": "white",
           "linecolor": "white",
           "ticks": "",
           "title": {
            "standoff": 15
           },
           "zerolinecolor": "white",
           "zerolinewidth": 2
          },
          "yaxis": {
           "automargin": true,
           "gridcolor": "white",
           "linecolor": "white",
           "ticks": "",
           "title": {
            "standoff": 15
           },
           "zerolinecolor": "white",
           "zerolinewidth": 2
          }
         }
        },
        "xaxis": {
         "anchor": "y",
         "domain": [
          0,
          1
         ],
         "title": {
          "text": "datetime"
         }
        },
        "yaxis": {
         "anchor": "x",
         "domain": [
          0,
          1
         ],
         "title": {
          "text": "zri"
         }
        }
       }
      },
      "text/html": [
       "<div>                            <div id=\"9d87d347-33ba-453b-a6a6-baa8aa9da5dc\" class=\"plotly-graph-div\" style=\"height:525px; width:100%;\"></div>            <script type=\"text/javascript\">                require([\"plotly\"], function(Plotly) {                    window.PLOTLYENV=window.PLOTLYENV || {};                                    if (document.getElementById(\"9d87d347-33ba-453b-a6a6-baa8aa9da5dc\")) {                    Plotly.newPlot(                        \"9d87d347-33ba-453b-a6a6-baa8aa9da5dc\",                        [{\"hovertemplate\":\"datetime=%{x}<br>zri=%{y}<extra></extra>\",\"legendgroup\":\"\",\"line\":{\"color\":\"#636efa\",\"dash\":\"solid\"},\"mode\":\"lines\",\"name\":\"\",\"orientation\":\"v\",\"showlegend\":false,\"type\":\"scatter\",\"x\":[\"2011-03-01T00:00:00\",\"2011-04-01T00:00:00\",\"2011-05-01T00:00:00\",\"2011-06-01T00:00:00\",\"2011-07-01T00:00:00\",\"2011-08-01T00:00:00\",\"2011-09-01T00:00:00\",\"2011-10-01T00:00:00\",\"2011-11-01T00:00:00\",\"2011-12-01T00:00:00\",\"2012-01-01T00:00:00\",\"2012-02-01T00:00:00\",\"2012-03-01T00:00:00\",\"2012-04-01T00:00:00\",\"2012-05-01T00:00:00\",\"2012-06-01T00:00:00\",\"2012-07-01T00:00:00\",\"2012-08-01T00:00:00\",\"2012-09-01T00:00:00\",\"2012-10-01T00:00:00\",\"2012-11-01T00:00:00\",\"2012-12-01T00:00:00\",\"2013-01-01T00:00:00\",\"2013-02-01T00:00:00\",\"2013-03-01T00:00:00\",\"2013-04-01T00:00:00\",\"2013-05-01T00:00:00\",\"2013-06-01T00:00:00\",\"2013-07-01T00:00:00\",\"2013-08-01T00:00:00\",\"2013-09-01T00:00:00\",\"2013-10-01T00:00:00\",\"2013-11-01T00:00:00\",\"2013-12-01T00:00:00\",\"2014-01-01T00:00:00\",\"2014-02-01T00:00:00\",\"2014-03-01T00:00:00\",\"2014-04-01T00:00:00\",\"2014-05-01T00:00:00\",\"2014-06-01T00:00:00\",\"2014-07-01T00:00:00\",\"2014-08-01T00:00:00\",\"2014-09-01T00:00:00\",\"2014-10-01T00:00:00\",\"2014-11-01T00:00:00\",\"2014-12-01T00:00:00\",\"2015-01-01T00:00:00\",\"2015-02-01T00:00:00\",\"2015-03-01T00:00:00\",\"2015-04-01T00:00:00\",\"2015-05-01T00:00:00\",\"2015-06-01T00:00:00\",\"2015-07-01T00:00:00\",\"2015-08-01T00:00:00\",\"2015-09-01T00:00:00\",\"2015-10-01T00:00:00\",\"2015-11-01T00:00:00\",\"2015-12-01T00:00:00\",\"2016-01-01T00:00:00\",\"2016-02-01T00:00:00\",\"2016-03-01T00:00:00\",\"2016-04-01T00:00:00\",\"2016-05-01T00:00:00\",\"2016-06-01T00:00:00\",\"2016-07-01T00:00:00\",\"2016-08-01T00:00:00\",\"2016-09-01T00:00:00\",\"2016-10-01T00:00:00\",\"2016-11-01T00:00:00\",\"2016-12-01T00:00:00\",\"2017-01-01T00:00:00\",\"2017-02-01T00:00:00\",\"2017-03-01T00:00:00\",\"2017-04-01T00:00:00\",\"2017-05-01T00:00:00\",\"2017-06-01T00:00:00\",\"2017-07-01T00:00:00\",\"2017-08-01T00:00:00\",\"2017-09-01T00:00:00\",\"2017-10-01T00:00:00\",\"2017-11-01T00:00:00\",\"2017-12-01T00:00:00\",\"2018-01-01T00:00:00\",\"2018-02-01T00:00:00\",\"2018-03-01T00:00:00\",\"2018-04-01T00:00:00\",\"2018-05-01T00:00:00\",\"2018-06-01T00:00:00\",\"2018-07-01T00:00:00\",\"2018-08-01T00:00:00\",\"2018-09-01T00:00:00\",\"2018-10-01T00:00:00\",\"2018-11-01T00:00:00\",\"2018-12-01T00:00:00\"],\"xaxis\":\"x\",\"y\":[-17.0,-6.0,-9.0,0.0,-4.0,3.0,3.0,3.0,-4.0,-8.0,11.0,5.0,7.0,11.0,17.0,12.0,16.0,6.0,6.0,1.0,1.0,2.0,-2.0,-2.0,1.0,12.0,23.0,27.0,24.0,8.0,-1.0,-5.0,-5.0,-15.0,2.0,2.0,-10.0,0.0,2.0,-2.0,25.0,22.0,31.0,31.0,18.0,14.0,13.0,8.0,4.0,0.0,-6.0,3.0,2.0,-1.0,6.0,1.0,-2.0,2.0,-1.0,-3.0,-3.0,2.0,10.0,18.0,13.0,10.0,12.0,0.0,9.0,4.0,4.0,5.0,5.0,3.0,7.0,10.0,2.0,-7.0,-7.0,-10.0,-8.0,-1.0,8.0,5.0,-6.0,-8.0,-3.0,5.0,14.0,8.0,16.0,7.0,9.0,-3.0],\"yaxis\":\"y\"}],                        {\"legend\":{\"tracegroupgap\":0},\"margin\":{\"t\":60},\"template\":{\"data\":{\"bar\":[{\"error_x\":{\"color\":\"#2a3f5f\"},\"error_y\":{\"color\":\"#2a3f5f\"},\"marker\":{\"line\":{\"color\":\"#E5ECF6\",\"width\":0.5},\"pattern\":{\"fillmode\":\"overlay\",\"size\":10,\"solidity\":0.2}},\"type\":\"bar\"}],\"barpolar\":[{\"marker\":{\"line\":{\"color\":\"#E5ECF6\",\"width\":0.5},\"pattern\":{\"fillmode\":\"overlay\",\"size\":10,\"solidity\":0.2}},\"type\":\"barpolar\"}],\"carpet\":[{\"aaxis\":{\"endlinecolor\":\"#2a3f5f\",\"gridcolor\":\"white\",\"linecolor\":\"white\",\"minorgridcolor\":\"white\",\"startlinecolor\":\"#2a3f5f\"},\"baxis\":{\"endlinecolor\":\"#2a3f5f\",\"gridcolor\":\"white\",\"linecolor\":\"white\",\"minorgridcolor\":\"white\",\"startlinecolor\":\"#2a3f5f\"},\"type\":\"carpet\"}],\"choropleth\":[{\"colorbar\":{\"outlinewidth\":0,\"ticks\":\"\"},\"type\":\"choropleth\"}],\"contour\":[{\"colorbar\":{\"outlinewidth\":0,\"ticks\":\"\"},\"colorscale\":[[0.0,\"#0d0887\"],[0.1111111111111111,\"#46039f\"],[0.2222222222222222,\"#7201a8\"],[0.3333333333333333,\"#9c179e\"],[0.4444444444444444,\"#bd3786\"],[0.5555555555555556,\"#d8576b\"],[0.6666666666666666,\"#ed7953\"],[0.7777777777777778,\"#fb9f3a\"],[0.8888888888888888,\"#fdca26\"],[1.0,\"#f0f921\"]],\"type\":\"contour\"}],\"contourcarpet\":[{\"colorbar\":{\"outlinewidth\":0,\"ticks\":\"\"},\"type\":\"contourcarpet\"}],\"heatmap\":[{\"colorbar\":{\"outlinewidth\":0,\"ticks\":\"\"},\"colorscale\":[[0.0,\"#0d0887\"],[0.1111111111111111,\"#46039f\"],[0.2222222222222222,\"#7201a8\"],[0.3333333333333333,\"#9c179e\"],[0.4444444444444444,\"#bd3786\"],[0.5555555555555556,\"#d8576b\"],[0.6666666666666666,\"#ed7953\"],[0.7777777777777778,\"#fb9f3a\"],[0.8888888888888888,\"#fdca26\"],[1.0,\"#f0f921\"]],\"type\":\"heatmap\"}],\"heatmapgl\":[{\"colorbar\":{\"outlinewidth\":0,\"ticks\":\"\"},\"colorscale\":[[0.0,\"#0d0887\"],[0.1111111111111111,\"#46039f\"],[0.2222222222222222,\"#7201a8\"],[0.3333333333333333,\"#9c179e\"],[0.4444444444444444,\"#bd3786\"],[0.5555555555555556,\"#d8576b\"],[0.6666666666666666,\"#ed7953\"],[0.7777777777777778,\"#fb9f3a\"],[0.8888888888888888,\"#fdca26\"],[1.0,\"#f0f921\"]],\"type\":\"heatmapgl\"}],\"histogram\":[{\"marker\":{\"pattern\":{\"fillmode\":\"overlay\",\"size\":10,\"solidity\":0.2}},\"type\":\"histogram\"}],\"histogram2d\":[{\"colorbar\":{\"outlinewidth\":0,\"ticks\":\"\"},\"colorscale\":[[0.0,\"#0d0887\"],[0.1111111111111111,\"#46039f\"],[0.2222222222222222,\"#7201a8\"],[0.3333333333333333,\"#9c179e\"],[0.4444444444444444,\"#bd3786\"],[0.5555555555555556,\"#d8576b\"],[0.6666666666666666,\"#ed7953\"],[0.7777777777777778,\"#fb9f3a\"],[0.8888888888888888,\"#fdca26\"],[1.0,\"#f0f921\"]],\"type\":\"histogram2d\"}],\"histogram2dcontour\":[{\"colorbar\":{\"outlinewidth\":0,\"ticks\":\"\"},\"colorscale\":[[0.0,\"#0d0887\"],[0.1111111111111111,\"#46039f\"],[0.2222222222222222,\"#7201a8\"],[0.3333333333333333,\"#9c179e\"],[0.4444444444444444,\"#bd3786\"],[0.5555555555555556,\"#d8576b\"],[0.6666666666666666,\"#ed7953\"],[0.7777777777777778,\"#fb9f3a\"],[0.8888888888888888,\"#fdca26\"],[1.0,\"#f0f921\"]],\"type\":\"histogram2dcontour\"}],\"mesh3d\":[{\"colorbar\":{\"outlinewidth\":0,\"ticks\":\"\"},\"type\":\"mesh3d\"}],\"parcoords\":[{\"line\":{\"colorbar\":{\"outlinewidth\":0,\"ticks\":\"\"}},\"type\":\"parcoords\"}],\"pie\":[{\"automargin\":true,\"type\":\"pie\"}],\"scatter\":[{\"marker\":{\"colorbar\":{\"outlinewidth\":0,\"ticks\":\"\"}},\"type\":\"scatter\"}],\"scatter3d\":[{\"line\":{\"colorbar\":{\"outlinewidth\":0,\"ticks\":\"\"}},\"marker\":{\"colorbar\":{\"outlinewidth\":0,\"ticks\":\"\"}},\"type\":\"scatter3d\"}],\"scattercarpet\":[{\"marker\":{\"colorbar\":{\"outlinewidth\":0,\"ticks\":\"\"}},\"type\":\"scattercarpet\"}],\"scattergeo\":[{\"marker\":{\"colorbar\":{\"outlinewidth\":0,\"ticks\":\"\"}},\"type\":\"scattergeo\"}],\"scattergl\":[{\"marker\":{\"colorbar\":{\"outlinewidth\":0,\"ticks\":\"\"}},\"type\":\"scattergl\"}],\"scattermapbox\":[{\"marker\":{\"colorbar\":{\"outlinewidth\":0,\"ticks\":\"\"}},\"type\":\"scattermapbox\"}],\"scatterpolar\":[{\"marker\":{\"colorbar\":{\"outlinewidth\":0,\"ticks\":\"\"}},\"type\":\"scatterpolar\"}],\"scatterpolargl\":[{\"marker\":{\"colorbar\":{\"outlinewidth\":0,\"ticks\":\"\"}},\"type\":\"scatterpolargl\"}],\"scatterternary\":[{\"marker\":{\"colorbar\":{\"outlinewidth\":0,\"ticks\":\"\"}},\"type\":\"scatterternary\"}],\"surface\":[{\"colorbar\":{\"outlinewidth\":0,\"ticks\":\"\"},\"colorscale\":[[0.0,\"#0d0887\"],[0.1111111111111111,\"#46039f\"],[0.2222222222222222,\"#7201a8\"],[0.3333333333333333,\"#9c179e\"],[0.4444444444444444,\"#bd3786\"],[0.5555555555555556,\"#d8576b\"],[0.6666666666666666,\"#ed7953\"],[0.7777777777777778,\"#fb9f3a\"],[0.8888888888888888,\"#fdca26\"],[1.0,\"#f0f921\"]],\"type\":\"surface\"}],\"table\":[{\"cells\":{\"fill\":{\"color\":\"#EBF0F8\"},\"line\":{\"color\":\"white\"}},\"header\":{\"fill\":{\"color\":\"#C8D4E3\"},\"line\":{\"color\":\"white\"}},\"type\":\"table\"}]},\"layout\":{\"annotationdefaults\":{\"arrowcolor\":\"#2a3f5f\",\"arrowhead\":0,\"arrowwidth\":1},\"autotypenumbers\":\"strict\",\"coloraxis\":{\"colorbar\":{\"outlinewidth\":0,\"ticks\":\"\"}},\"colorscale\":{\"diverging\":[[0,\"#8e0152\"],[0.1,\"#c51b7d\"],[0.2,\"#de77ae\"],[0.3,\"#f1b6da\"],[0.4,\"#fde0ef\"],[0.5,\"#f7f7f7\"],[0.6,\"#e6f5d0\"],[0.7,\"#b8e186\"],[0.8,\"#7fbc41\"],[0.9,\"#4d9221\"],[1,\"#276419\"]],\"sequential\":[[0.0,\"#0d0887\"],[0.1111111111111111,\"#46039f\"],[0.2222222222222222,\"#7201a8\"],[0.3333333333333333,\"#9c179e\"],[0.4444444444444444,\"#bd3786\"],[0.5555555555555556,\"#d8576b\"],[0.6666666666666666,\"#ed7953\"],[0.7777777777777778,\"#fb9f3a\"],[0.8888888888888888,\"#fdca26\"],[1.0,\"#f0f921\"]],\"sequentialminus\":[[0.0,\"#0d0887\"],[0.1111111111111111,\"#46039f\"],[0.2222222222222222,\"#7201a8\"],[0.3333333333333333,\"#9c179e\"],[0.4444444444444444,\"#bd3786\"],[0.5555555555555556,\"#d8576b\"],[0.6666666666666666,\"#ed7953\"],[0.7777777777777778,\"#fb9f3a\"],[0.8888888888888888,\"#fdca26\"],[1.0,\"#f0f921\"]]},\"colorway\":[\"#636efa\",\"#EF553B\",\"#00cc96\",\"#ab63fa\",\"#FFA15A\",\"#19d3f3\",\"#FF6692\",\"#B6E880\",\"#FF97FF\",\"#FECB52\"],\"font\":{\"color\":\"#2a3f5f\"},\"geo\":{\"bgcolor\":\"white\",\"lakecolor\":\"white\",\"landcolor\":\"#E5ECF6\",\"showlakes\":true,\"showland\":true,\"subunitcolor\":\"white\"},\"hoverlabel\":{\"align\":\"left\"},\"hovermode\":\"closest\",\"mapbox\":{\"style\":\"light\"},\"paper_bgcolor\":\"white\",\"plot_bgcolor\":\"#E5ECF6\",\"polar\":{\"angularaxis\":{\"gridcolor\":\"white\",\"linecolor\":\"white\",\"ticks\":\"\"},\"bgcolor\":\"#E5ECF6\",\"radialaxis\":{\"gridcolor\":\"white\",\"linecolor\":\"white\",\"ticks\":\"\"}},\"scene\":{\"xaxis\":{\"backgroundcolor\":\"#E5ECF6\",\"gridcolor\":\"white\",\"gridwidth\":2,\"linecolor\":\"white\",\"showbackground\":true,\"ticks\":\"\",\"zerolinecolor\":\"white\"},\"yaxis\":{\"backgroundcolor\":\"#E5ECF6\",\"gridcolor\":\"white\",\"gridwidth\":2,\"linecolor\":\"white\",\"showbackground\":true,\"ticks\":\"\",\"zerolinecolor\":\"white\"},\"zaxis\":{\"backgroundcolor\":\"#E5ECF6\",\"gridcolor\":\"white\",\"gridwidth\":2,\"linecolor\":\"white\",\"showbackground\":true,\"ticks\":\"\",\"zerolinecolor\":\"white\"}},\"shapedefaults\":{\"line\":{\"color\":\"#2a3f5f\"}},\"ternary\":{\"aaxis\":{\"gridcolor\":\"white\",\"linecolor\":\"white\",\"ticks\":\"\"},\"baxis\":{\"gridcolor\":\"white\",\"linecolor\":\"white\",\"ticks\":\"\"},\"bgcolor\":\"#E5ECF6\",\"caxis\":{\"gridcolor\":\"white\",\"linecolor\":\"white\",\"ticks\":\"\"}},\"title\":{\"x\":0.05},\"xaxis\":{\"automargin\":true,\"gridcolor\":\"white\",\"linecolor\":\"white\",\"ticks\":\"\",\"title\":{\"standoff\":15},\"zerolinecolor\":\"white\",\"zerolinewidth\":2},\"yaxis\":{\"automargin\":true,\"gridcolor\":\"white\",\"linecolor\":\"white\",\"ticks\":\"\",\"title\":{\"standoff\":15},\"zerolinecolor\":\"white\",\"zerolinewidth\":2}}},\"xaxis\":{\"anchor\":\"y\",\"domain\":[0.0,1.0],\"title\":{\"text\":\"datetime\"}},\"yaxis\":{\"anchor\":\"x\",\"domain\":[0.0,1.0],\"title\":{\"text\":\"zri\"}}},                        {\"responsive\": true}                    ).then(function(){\n",
       "                            \n",
       "var gd = document.getElementById('9d87d347-33ba-453b-a6a6-baa8aa9da5dc');\n",
       "var x = new MutationObserver(function (mutations, observer) {{\n",
       "        var display = window.getComputedStyle(gd).display;\n",
       "        if (!display || display === 'none') {{\n",
       "            console.log([gd, 'removed!']);\n",
       "            Plotly.purge(gd);\n",
       "            observer.disconnect();\n",
       "        }}\n",
       "}});\n",
       "\n",
       "// Listen for the removal of the full notebook cells\n",
       "var notebookContainer = gd.closest('#notebook-container');\n",
       "if (notebookContainer) {{\n",
       "    x.observe(notebookContainer, {childList: true});\n",
       "}}\n",
       "\n",
       "// Listen for the clearing of the current output cell\n",
       "var outputEl = gd.closest('.output');\n",
       "if (outputEl) {{\n",
       "    x.observe(outputEl, {childList: true});\n",
       "}}\n",
       "\n",
       "                        })                };                });            </script>        </div>"
      ]
     },
     "metadata": {},
     "output_type": "display_data"
    }
   ],
   "source": [
    "fig = px.line(dif1, x = 'datetime', y = 'zri')\n",
    "fig\n",
    "# now looks approximately stationary centered around 0"
   ]
  },
  {
   "cell_type": "code",
   "execution_count": 713,
   "id": "748c2f0a",
   "metadata": {},
   "outputs": [
    {
     "name": "stderr",
     "output_type": "stream",
     "text": [
      "C:\\Users\\fayma\\anaconda3\\envs\\env1\\lib\\site-packages\\pmdarima\\utils\\visualization.py:219: FutureWarning:\n",
      "\n",
      "the 'unbiased'' keyword is deprecated, use 'adjusted' instead\n",
      "\n"
     ]
    },
    {
     "data": {
      "image/png": "[encoded data removed]",
      "text/plain": [
       "<Figure size 432x288 with 1 Axes>"
      ]
     },
     "metadata": {
      "needs_background": "light"
     },
     "output_type": "display_data"
    }
   ],
   "source": [
    "pm.plot_acf(dif1['zri'], lags = 80)"
   ]
  },
  {
   "cell_type": "code",
   "execution_count": 714,
   "id": "b6566098",
   "metadata": {},
   "outputs": [
    {
     "data": {
      "image/png": "[encoded data removed]",
      "text/plain": [
       "<Figure size 432x288 with 1 Axes>"
      ]
     },
     "metadata": {
      "needs_background": "light"
     },
     "output_type": "display_data"
    }
   ],
   "source": [
    "pm.plot_pacf(dif1['zri'], lags = 20)"
   ]
  },
  {
   "cell_type": "code",
   "execution_count": 715,
   "id": "e0d753a3",
   "metadata": {},
   "outputs": [
    {
     "data": {
      "text/plain": [
       "ARIMA(order=(1, 1, 0), scoring_args={}, seasonal_order=(0, 0, 0, 12),\n",
       "      suppress_warnings=True, with_intercept=False)"
      ]
     },
     "execution_count": 715,
     "metadata": {},
     "output_type": "execute_result"
    }
   ],
   "source": [
    "model = pm.arima.auto_arima(df3['zri'], start_p=0, start_q=0, m=12, test = 'kpss')\n",
    "model"
   ]
  },
  {
   "cell_type": "code",
   "execution_count": 668,
   "id": "4e553c86",
   "metadata": {},
   "outputs": [
    {
     "data": {
      "text/plain": [
       "(1, 1, 0)"
      ]
     },
     "execution_count": 668,
     "metadata": {},
     "output_type": "execute_result"
    }
   ],
   "source": [
    "model.order # model sees that you have to set d=1"
   ]
  },
  {
   "cell_type": "code",
   "execution_count": 669,
   "id": "077c55c1",
   "metadata": {},
   "outputs": [
    {
     "data": {
      "text/html": [
       "<table class=\"simpletable\">\n",
       "<caption>SARIMAX Results</caption>\n",
       "<tr>\n",
       "  <th>Dep. Variable:</th>           <td>y</td>        <th>  No. Observations:  </th>    <td>83</td>   \n",
       "</tr>\n",
       "<tr>\n",
       "  <th>Model:</th>           <td>SARIMAX(1, 1, 0)</td> <th>  Log Likelihood     </th> <td>-274.218</td>\n",
       "</tr>\n",
       "<tr>\n",
       "  <th>Date:</th>            <td>Mon, 13 Sep 2021</td> <th>  AIC                </th>  <td>552.436</td>\n",
       "</tr>\n",
       "<tr>\n",
       "  <th>Time:</th>                <td>18:17:27</td>     <th>  BIC                </th>  <td>557.250</td>\n",
       "</tr>\n",
       "<tr>\n",
       "  <th>Sample:</th>                  <td>0</td>        <th>  HQIC               </th>  <td>554.369</td>\n",
       "</tr>\n",
       "<tr>\n",
       "  <th></th>                       <td> - 83</td>      <th>                     </th>     <td> </td>   \n",
       "</tr>\n",
       "<tr>\n",
       "  <th>Covariance Type:</th>        <td>opg</td>       <th>                     </th>     <td> </td>   \n",
       "</tr>\n",
       "</table>\n",
       "<table class=\"simpletable\">\n",
       "<tr>\n",
       "     <td></td>       <th>coef</th>     <th>std err</th>      <th>z</th>      <th>P>|z|</th>  <th>[0.025</th>    <th>0.975]</th>  \n",
       "</tr>\n",
       "<tr>\n",
       "  <th>ar.L1</th>  <td>    0.7734</td> <td>    0.065</td> <td>   11.850</td> <td> 0.000</td> <td>    0.645</td> <td>    0.901</td>\n",
       "</tr>\n",
       "<tr>\n",
       "  <th>sigma2</th> <td>   46.4762</td> <td>    5.266</td> <td>    8.825</td> <td> 0.000</td> <td>   36.155</td> <td>   56.798</td>\n",
       "</tr>\n",
       "</table>\n",
       "<table class=\"simpletable\">\n",
       "<tr>\n",
       "  <th>Ljung-Box (L1) (Q):</th>     <td>0.26</td> <th>  Jarque-Bera (JB):  </th> <td>14.99</td>\n",
       "</tr>\n",
       "<tr>\n",
       "  <th>Prob(Q):</th>                <td>0.61</td> <th>  Prob(JB):          </th> <td>0.00</td> \n",
       "</tr>\n",
       "<tr>\n",
       "  <th>Heteroskedasticity (H):</th> <td>0.53</td> <th>  Skew:              </th> <td>0.78</td> \n",
       "</tr>\n",
       "<tr>\n",
       "  <th>Prob(H) (two-sided):</th>    <td>0.10</td> <th>  Kurtosis:          </th> <td>4.41</td> \n",
       "</tr>\n",
       "</table><br/><br/>Warnings:<br/>[1] Covariance matrix calculated using the outer product of gradients (complex-step)."
      ],
      "text/plain": [
       "<class 'statsmodels.iolib.summary.Summary'>\n",
       "\"\"\"\n",
       "                               SARIMAX Results                                \n",
       "==============================================================================\n",
       "Dep. Variable:                      y   No. Observations:                   83\n",
       "Model:               SARIMAX(1, 1, 0)   Log Likelihood                -274.218\n",
       "Date:                Mon, 13 Sep 2021   AIC                            552.436\n",
       "Time:                        18:17:27   BIC                            557.250\n",
       "Sample:                             0   HQIC                           554.369\n",
       "                                 - 83                                         \n",
       "Covariance Type:                  opg                                         \n",
       "==============================================================================\n",
       "                 coef    std err          z      P>|z|      [0.025      0.975]\n",
       "------------------------------------------------------------------------------\n",
       "ar.L1          0.7734      0.065     11.850      0.000       0.645       0.901\n",
       "sigma2        46.4762      5.266      8.825      0.000      36.155      56.798\n",
       "===================================================================================\n",
       "Ljung-Box (L1) (Q):                   0.26   Jarque-Bera (JB):                14.99\n",
       "Prob(Q):                              0.61   Prob(JB):                         0.00\n",
       "Heteroskedasticity (H):               0.53   Skew:                             0.78\n",
       "Prob(H) (two-sided):                  0.10   Kurtosis:                         4.41\n",
       "===================================================================================\n",
       "\n",
       "Warnings:\n",
       "[1] Covariance matrix calculated using the outer product of gradients (complex-step).\n",
       "\"\"\""
      ]
     },
     "execution_count": 669,
     "metadata": {},
     "output_type": "execute_result"
    }
   ],
   "source": [
    "model.summary()"
   ]
  },
  {
   "cell_type": "code",
   "execution_count": 675,
   "id": "eb6b7e17",
   "metadata": {},
   "outputs": [],
   "source": [
    "true = test[(test['zip']=='27518') & (test['year']==2018)]"
   ]
  },
  {
   "cell_type": "code",
   "execution_count": 676,
   "id": "b2762f3b",
   "metadata": {},
   "outputs": [],
   "source": [
    "def forecast_one_step():\n",
    "    fc, conf_int = model.predict(n_periods=1, return_conf_int=True)\n",
    "    return (\n",
    "        fc.tolist()[0],\n",
    "        np.asarray(conf_int).tolist()[0])\n",
    "\n",
    "pred = []\n",
    "confidence_intervals = []\n",
    "\n",
    "for new_ob in true['zri']:\n",
    "    fc, conf = forecast_one_step()\n",
    "    pred.append(fc)\n",
    "    confidence_intervals.append(conf)\n",
    "\n",
    "    # Updates the existing model with the prediction it just made\n",
    "    model.update(new_ob)"
   ]
  },
  {
   "cell_type": "code",
   "execution_count": 677,
   "id": "e1240112",
   "metadata": {},
   "outputs": [
    {
     "data": {
      "text/plain": [
       "[1314.2266327373168,\n",
       " 1329.1790054676371,\n",
       " 1331.857555982962,\n",
       " 1317.4024282615972,\n",
       " 1307.852305327983,\n",
       " 1308.70211818503,\n",
       " 1319.8184309402857,\n",
       " 1340.763077444752,\n",
       " 1344.1198420064557,\n",
       " 1366.3642323405622,\n",
       " 1366.3511760882157,\n",
       " 1376.9029060366724]"
      ]
     },
     "execution_count": 677,
     "metadata": {},
     "output_type": "execute_result"
    }
   ],
   "source": [
    "pred"
   ]
  },
  {
   "cell_type": "code",
   "execution_count": 678,
   "id": "aed6e389",
   "metadata": {},
   "outputs": [
    {
     "name": "stderr",
     "output_type": "stream",
     "text": [
      "C:\\Users\\fayma\\anaconda3\\envs\\env1\\lib\\site-packages\\plotly\\graph_objs\\_deprecations.py:378: DeprecationWarning:\n",
      "\n",
      "plotly.graph_objs.Line is deprecated.\n",
      "Please replace it with one of the following more specific types\n",
      "  - plotly.graph_objs.scatter.Line\n",
      "  - plotly.graph_objs.layout.shape.Line\n",
      "  - etc.\n",
      "\n",
      "\n"
     ]
    },
    {
     "data": {
      "application/vnd.plotly.v1+json": {
       "config": {
        "plotlyServerURL": "https://plot.ly"
       },
       "data": [
        {
         "hovertemplate": "datetime=%{x}<br>zri=%{y}<extra></extra>",
         "legendgroup": "",
         "line": {
          "color": "#636efa",
          "dash": "solid"
         },
         "mode": "lines",
         "name": "",
         "orientation": "v",
         "showlegend": false,
         "type": "scatter",
         "x": [
          "2011-02-01T00:00:00",
          "2011-03-01T00:00:00",
          "2011-04-01T00:00:00",
          "2011-05-01T00:00:00",
          "2011-06-01T00:00:00",
          "2011-07-01T00:00:00",
          "2011-08-01T00:00:00",
          "2011-09-01T00:00:00",
          "2011-10-01T00:00:00",
          "2011-11-01T00:00:00",
          "2011-12-01T00:00:00",
          "2012-01-01T00:00:00",
          "2012-02-01T00:00:00",
          "2012-03-01T00:00:00",
          "2012-04-01T00:00:00",
          "2012-05-01T00:00:00",
          "2012-06-01T00:00:00",
          "2012-07-01T00:00:00",
          "2012-08-01T00:00:00",
          "2012-09-01T00:00:00",
          "2012-10-01T00:00:00",
          "2012-11-01T00:00:00",
          "2012-12-01T00:00:00",
          "2013-01-01T00:00:00",
          "2013-02-01T00:00:00",
          "2013-03-01T00:00:00",
          "2013-04-01T00:00:00",
          "2013-05-01T00:00:00",
          "2013-06-01T00:00:00",
          "2013-07-01T00:00:00",
          "2013-08-01T00:00:00",
          "2013-09-01T00:00:00",
          "2013-10-01T00:00:00",
          "2013-11-01T00:00:00",
          "2013-12-01T00:00:00",
          "2014-01-01T00:00:00",
          "2014-02-01T00:00:00",
          "2014-03-01T00:00:00",
          "2014-04-01T00:00:00",
          "2014-05-01T00:00:00",
          "2014-06-01T00:00:00",
          "2014-07-01T00:00:00",
          "2014-08-01T00:00:00",
          "2014-09-01T00:00:00",
          "2014-10-01T00:00:00",
          "2014-11-01T00:00:00",
          "2014-12-01T00:00:00",
          "2015-01-01T00:00:00",
          "2015-02-01T00:00:00",
          "2015-03-01T00:00:00",
          "2015-04-01T00:00:00",
          "2015-05-01T00:00:00",
          "2015-06-01T00:00:00",
          "2015-07-01T00:00:00",
          "2015-08-01T00:00:00",
          "2015-09-01T00:00:00",
          "2015-10-01T00:00:00",
          "2015-11-01T00:00:00",
          "2015-12-01T00:00:00",
          "2016-01-01T00:00:00",
          "2016-02-01T00:00:00",
          "2016-03-01T00:00:00",
          "2016-04-01T00:00:00",
          "2016-05-01T00:00:00",
          "2016-06-01T00:00:00",
          "2016-07-01T00:00:00",
          "2016-08-01T00:00:00",
          "2016-09-01T00:00:00",
          "2016-10-01T00:00:00",
          "2016-11-01T00:00:00",
          "2016-12-01T00:00:00",
          "2017-01-01T00:00:00",
          "2017-02-01T00:00:00",
          "2017-03-01T00:00:00",
          "2017-04-01T00:00:00",
          "2017-05-01T00:00:00",
          "2017-06-01T00:00:00",
          "2017-07-01T00:00:00",
          "2017-08-01T00:00:00",
          "2017-09-01T00:00:00",
          "2017-10-01T00:00:00",
          "2017-11-01T00:00:00",
          "2017-12-01T00:00:00"
         ],
         "xaxis": "x",
         "y": [
          955,
          938,
          932,
          923,
          923,
          919,
          922,
          925,
          928,
          924,
          916,
          927,
          932,
          939,
          950,
          967,
          979,
          995,
          1001,
          1007,
          1008,
          1009,
          1011,
          1009,
          1007,
          1008,
          1020,
          1043,
          1070,
          1094,
          1102,
          1101,
          1096,
          1091,
          1076,
          1078,
          1080,
          1070,
          1070,
          1072,
          1070,
          1095,
          1117,
          1148,
          1179,
          1197,
          1211,
          1224,
          1232,
          1236,
          1236,
          1230,
          1233,
          1235,
          1234,
          1240,
          1241,
          1239,
          1241,
          1240,
          1237,
          1234,
          1236,
          1246,
          1264,
          1277,
          1287,
          1299,
          1299,
          1308,
          1312,
          1316,
          1321,
          1326,
          1329,
          1336,
          1346,
          1348,
          1341,
          1334,
          1324,
          1316,
          1315
         ],
         "yaxis": "y"
        },
        {
         "mode": "lines",
         "type": "scatter",
         "x": [
          "2018-01-01T00:00:00",
          "2018-02-01T00:00:00",
          "2018-03-01T00:00:00",
          "2018-04-01T00:00:00",
          "2018-05-01T00:00:00",
          "2018-06-01T00:00:00",
          "2018-07-01T00:00:00",
          "2018-08-01T00:00:00",
          "2018-09-01T00:00:00",
          "2018-10-01T00:00:00",
          "2018-11-01T00:00:00",
          "2018-12-01T00:00:00"
         ],
         "y": [
          1323,
          1328,
          1322,
          1314,
          1311,
          1316,
          1330,
          1338,
          1354,
          1361,
          1370,
          1367
         ]
        },
        {
         "mode": "lines",
         "type": "scatter",
         "x": [
          "2018-01-01T00:00:00",
          "2018-02-01T00:00:00",
          "2018-03-01T00:00:00",
          "2018-04-01T00:00:00",
          "2018-05-01T00:00:00",
          "2018-06-01T00:00:00",
          "2018-07-01T00:00:00",
          "2018-08-01T00:00:00",
          "2018-09-01T00:00:00",
          "2018-10-01T00:00:00",
          "2018-11-01T00:00:00",
          "2018-12-01T00:00:00"
         ],
         "y": [
          1314.2266327373168,
          1329.1790054676371,
          1331.857555982962,
          1317.4024282615972,
          1307.852305327983,
          1308.70211818503,
          1319.8184309402857,
          1340.763077444752,
          1344.1198420064557,
          1366.3642323405622,
          1366.3511760882157,
          1376.9029060366724
         ]
        },
        {
         "mode": "lines",
         "type": "scatter",
         "x": [
          "2018-01-01T00:00:00",
          "2018-02-01T00:00:00",
          "2018-03-01T00:00:00",
          "2018-04-01T00:00:00",
          "2018-05-01T00:00:00",
          "2018-06-01T00:00:00",
          "2018-07-01T00:00:00",
          "2018-08-01T00:00:00",
          "2018-09-01T00:00:00",
          "2018-10-01T00:00:00",
          "2018-11-01T00:00:00",
          "2018-12-01T00:00:00"
         ],
         "y": [
          1300.86488028672,
          1315.7642260571213,
          1318.5201856445208,
          1303.9785282650953,
          1294.4875892616517,
          1295.397521622761,
          1306.5013861973132,
          1327.3550094158318,
          1330.7734121783312,
          1352.9401344982966,
          1352.9541318675433,
          1363.5582391508422
         ]
        },
        {
         "fill": "tonexty",
         "mode": "lines",
         "type": "scatter",
         "x": [
          "2018-01-01T00:00:00",
          "2018-02-01T00:00:00",
          "2018-03-01T00:00:00",
          "2018-04-01T00:00:00",
          "2018-05-01T00:00:00",
          "2018-06-01T00:00:00",
          "2018-07-01T00:00:00",
          "2018-08-01T00:00:00",
          "2018-09-01T00:00:00",
          "2018-10-01T00:00:00",
          "2018-11-01T00:00:00",
          "2018-12-01T00:00:00"
         ],
         "y": [
          1327.5883851879134,
          1342.593784878153,
          1345.194926321403,
          1330.826328258099,
          1321.2170213943143,
          1322.0067147472992,
          1333.1354756832582,
          1354.1711454736724,
          1357.46627183458,
          1379.7883301828278,
          1379.748220308888,
          1390.2475729225027
         ]
        }
       ],
       "layout": {
        "legend": {
         "tracegroupgap": 0
        },
        "margin": {
         "t": 60
        },
        "template": {
         "data": {
          "bar": [
           {
            "error_x": {
             "color": "#2a3f5f"
            },
            "error_y": {
             "color": "#2a3f5f"
            },
            "marker": {
             "line": {
              "color": "#E5ECF6",
              "width": 0.5
             },
             "pattern": {
              "fillmode": "overlay",
              "size": 10,
              "solidity": 0.2
             }
            },
            "type": "bar"
           }
          ],
          "barpolar": [
           {
            "marker": {
             "line": {
              "color": "#E5ECF6",
              "width": 0.5
             },
             "pattern": {
              "fillmode": "overlay",
              "size": 10,
              "solidity": 0.2
             }
            },
            "type": "barpolar"
           }
          ],
          "carpet": [
           {
            "aaxis": {
             "endlinecolor": "#2a3f5f",
             "gridcolor": "white",
             "linecolor": "white",
             "minorgridcolor": "white",
             "startlinecolor": "#2a3f5f"
            },
            "baxis": {
             "endlinecolor": "#2a3f5f",
             "gridcolor": "white",
             "linecolor": "white",
             "minorgridcolor": "white",
             "startlinecolor": "#2a3f5f"
            },
            "type": "carpet"
           }
          ],
          "choropleth": [
           {
            "colorbar": {
             "outlinewidth": 0,
             "ticks": ""
            },
            "type": "choropleth"
           }
          ],
          "contour": [
           {
            "colorbar": {
             "outlinewidth": 0,
             "ticks": ""
            },
            "colorscale": [
             [
              0,
              "#0d0887"
             ],
             [
              0.1111111111111111,
              "#46039f"
             ],
             [
              0.2222222222222222,
              "#7201a8"
             ],
             [
              0.3333333333333333,
              "#9c179e"
             ],
             [
              0.4444444444444444,
              "#bd3786"
             ],
             [
              0.5555555555555556,
              "#d8576b"
             ],
             [
              0.6666666666666666,
              "#ed7953"
             ],
             [
              0.7777777777777778,
              "#fb9f3a"
             ],
             [
              0.8888888888888888,
              "#fdca26"
             ],
             [
              1,
              "#f0f921"
             ]
            ],
            "type": "contour"
           }
          ],
          "contourcarpet": [
           {
            "colorbar": {
             "outlinewidth": 0,
             "ticks": ""
            },
            "type": "contourcarpet"
           }
          ],
          "heatmap": [
           {
            "colorbar": {
             "outlinewidth": 0,
             "ticks": ""
            },
            "colorscale": [
             [
              0,
              "#0d0887"
             ],
             [
              0.1111111111111111,
              "#46039f"
             ],
             [
              0.2222222222222222,
              "#7201a8"
             ],
             [
              0.3333333333333333,
              "#9c179e"
             ],
             [
              0.4444444444444444,
              "#bd3786"
             ],
             [
              0.5555555555555556,
              "#d8576b"
             ],
             [
              0.6666666666666666,
              "#ed7953"
             ],
             [
              0.7777777777777778,
              "#fb9f3a"
             ],
             [
              0.8888888888888888,
              "#fdca26"
             ],
             [
              1,
              "#f0f921"
             ]
            ],
            "type": "heatmap"
           }
          ],
          "heatmapgl": [
           {
            "colorbar": {
             "outlinewidth": 0,
             "ticks": ""
            },
            "colorscale": [
             [
              0,
              "#0d0887"
             ],
             [
              0.1111111111111111,
              "#46039f"
             ],
             [
              0.2222222222222222,
              "#7201a8"
             ],
             [
              0.3333333333333333,
              "#9c179e"
             ],
             [
              0.4444444444444444,
              "#bd3786"
             ],
             [
              0.5555555555555556,
              "#d8576b"
             ],
             [
              0.6666666666666666,
              "#ed7953"
             ],
             [
              0.7777777777777778,
              "#fb9f3a"
             ],
             [
              0.8888888888888888,
              "#fdca26"
             ],
             [
              1,
              "#f0f921"
             ]
            ],
            "type": "heatmapgl"
           }
          ],
          "histogram": [
           {
            "marker": {
             "pattern": {
              "fillmode": "overlay",
              "size": 10,
              "solidity": 0.2
             }
            },
            "type": "histogram"
           }
          ],
          "histogram2d": [
           {
            "colorbar": {
             "outlinewidth": 0,
             "ticks": ""
            },
            "colorscale": [
             [
              0,
              "#0d0887"
             ],
             [
              0.1111111111111111,
              "#46039f"
             ],
             [
              0.2222222222222222,
              "#7201a8"
             ],
             [
              0.3333333333333333,
              "#9c179e"
             ],
             [
              0.4444444444444444,
              "#bd3786"
             ],
             [
              0.5555555555555556,
              "#d8576b"
             ],
             [
              0.6666666666666666,
              "#ed7953"
             ],
             [
              0.7777777777777778,
              "#fb9f3a"
             ],
             [
              0.8888888888888888,
              "#fdca26"
             ],
             [
              1,
              "#f0f921"
             ]
            ],
            "type": "histogram2d"
           }
          ],
          "histogram2dcontour": [
           {
            "colorbar": {
             "outlinewidth": 0,
             "ticks": ""
            },
            "colorscale": [
             [
              0,
              "#0d0887"
             ],
             [
              0.1111111111111111,
              "#46039f"
             ],
             [
              0.2222222222222222,
              "#7201a8"
             ],
             [
              0.3333333333333333,
              "#9c179e"
             ],
             [
              0.4444444444444444,
              "#bd3786"
             ],
             [
              0.5555555555555556,
              "#d8576b"
             ],
             [
              0.6666666666666666,
              "#ed7953"
             ],
             [
              0.7777777777777778,
              "#fb9f3a"
             ],
             [
              0.8888888888888888,
              "#fdca26"
             ],
             [
              1,
              "#f0f921"
             ]
            ],
            "type": "histogram2dcontour"
           }
          ],
          "mesh3d": [
           {
            "colorbar": {
             "outlinewidth": 0,
             "ticks": ""
            },
            "type": "mesh3d"
           }
          ],
          "parcoords": [
           {
            "line": {
             "colorbar": {
              "outlinewidth": 0,
              "ticks": ""
             }
            },
            "type": "parcoords"
           }
          ],
          "pie": [
           {
            "automargin": true,
            "type": "pie"
           }
          ],
          "scatter": [
           {
            "marker": {
             "colorbar": {
              "outlinewidth": 0,
              "ticks": ""
             }
            },
            "type": "scatter"
           }
          ],
          "scatter3d": [
           {
            "line": {
             "colorbar": {
              "outlinewidth": 0,
              "ticks": ""
             }
            },
            "marker": {
             "colorbar": {
              "outlinewidth": 0,
              "ticks": ""
             }
            },
            "type": "scatter3d"
           }
          ],
          "scattercarpet": [
           {
            "marker": {
             "colorbar": {
              "outlinewidth": 0,
              "ticks": ""
             }
            },
            "type": "scattercarpet"
           }
          ],
          "scattergeo": [
           {
            "marker": {
             "colorbar": {
              "outlinewidth": 0,
              "ticks": ""
             }
            },
            "type": "scattergeo"
           }
          ],
          "scattergl": [
           {
            "marker": {
             "colorbar": {
              "outlinewidth": 0,
              "ticks": ""
             }
            },
            "type": "scattergl"
           }
          ],
          "scattermapbox": [
           {
            "marker": {
             "colorbar": {
              "outlinewidth": 0,
              "ticks": ""
             }
            },
            "type": "scattermapbox"
           }
          ],
          "scatterpolar": [
           {
            "marker": {
             "colorbar": {
              "outlinewidth": 0,
              "ticks": ""
             }
            },
            "type": "scatterpolar"
           }
          ],
          "scatterpolargl": [
           {
            "marker": {
             "colorbar": {
              "outlinewidth": 0,
              "ticks": ""
             }
            },
            "type": "scatterpolargl"
           }
          ],
          "scatterternary": [
           {
            "marker": {
             "colorbar": {
              "outlinewidth": 0,
              "ticks": ""
             }
            },
            "type": "scatterternary"
           }
          ],
          "surface": [
           {
            "colorbar": {
             "outlinewidth": 0,
             "ticks": ""
            },
            "colorscale": [
             [
              0,
              "#0d0887"
             ],
             [
              0.1111111111111111,
              "#46039f"
             ],
             [
              0.2222222222222222,
              "#7201a8"
             ],
             [
              0.3333333333333333,
              "#9c179e"
             ],
             [
              0.4444444444444444,
              "#bd3786"
             ],
             [
              0.5555555555555556,
              "#d8576b"
             ],
             [
              0.6666666666666666,
              "#ed7953"
             ],
             [
              0.7777777777777778,
              "#fb9f3a"
             ],
             [
              0.8888888888888888,
              "#fdca26"
             ],
             [
              1,
              "#f0f921"
             ]
            ],
            "type": "surface"
           }
          ],
          "table": [
           {
            "cells": {
             "fill": {
              "color": "#EBF0F8"
             },
             "line": {
              "color": "white"
             }
            },
            "header": {
             "fill": {
              "color": "#C8D4E3"
             },
             "line": {
              "color": "white"
             }
            },
            "type": "table"
           }
          ]
         },
         "layout": {
          "annotationdefaults": {
           "arrowcolor": "#2a3f5f",
           "arrowhead": 0,
           "arrowwidth": 1
          },
          "autotypenumbers": "strict",
          "coloraxis": {
           "colorbar": {
            "outlinewidth": 0,
            "ticks": ""
           }
          },
          "colorscale": {
           "diverging": [
            [
             0,
             "#8e0152"
            ],
            [
             0.1,
             "#c51b7d"
            ],
            [
             0.2,
             "#de77ae"
            ],
            [
             0.3,
             "#f1b6da"
            ],
            [
             0.4,
             "#fde0ef"
            ],
            [
             0.5,
             "#f7f7f7"
            ],
            [
             0.6,
             "#e6f5d0"
            ],
            [
             0.7,
             "#b8e186"
            ],
            [
             0.8,
             "#7fbc41"
            ],
            [
             0.9,
             "#4d9221"
            ],
            [
             1,
             "#276419"
            ]
           ],
           "sequential": [
            [
             0,
             "#0d0887"
            ],
            [
             0.1111111111111111,
             "#46039f"
            ],
            [
             0.2222222222222222,
             "#7201a8"
            ],
            [
             0.3333333333333333,
             "#9c179e"
            ],
            [
             0.4444444444444444,
             "#bd3786"
            ],
            [
             0.5555555555555556,
             "#d8576b"
            ],
            [
             0.6666666666666666,
             "#ed7953"
            ],
            [
             0.7777777777777778,
             "#fb9f3a"
            ],
            [
             0.8888888888888888,
             "#fdca26"
            ],
            [
             1,
             "#f0f921"
            ]
           ],
           "sequentialminus": [
            [
             0,
             "#0d0887"
            ],
            [
             0.1111111111111111,
             "#46039f"
            ],
            [
             0.2222222222222222,
             "#7201a8"
            ],
            [
             0.3333333333333333,
             "#9c179e"
            ],
            [
             0.4444444444444444,
             "#bd3786"
            ],
            [
             0.5555555555555556,
             "#d8576b"
            ],
            [
             0.6666666666666666,
             "#ed7953"
            ],
            [
             0.7777777777777778,
             "#fb9f3a"
            ],
            [
             0.8888888888888888,
             "#fdca26"
            ],
            [
             1,
             "#f0f921"
            ]
           ]
          },
          "colorway": [
           "#636efa",
           "#EF553B",
           "#00cc96",
           "#ab63fa",
           "#FFA15A",
           "#19d3f3",
           "#FF6692",
           "#B6E880",
           "#FF97FF",
           "#FECB52"
          ],
          "font": {
           "color": "#2a3f5f"
          },
          "geo": {
           "bgcolor": "white",
           "lakecolor": "white",
           "landcolor": "#E5ECF6",
           "showlakes": true,
           "showland": true,
           "subunitcolor": "white"
          },
          "hoverlabel": {
           "align": "left"
          },
          "hovermode": "closest",
          "mapbox": {
           "style": "light"
          },
          "paper_bgcolor": "white",
          "plot_bgcolor": "#E5ECF6",
          "polar": {
           "angularaxis": {
            "gridcolor": "white",
            "linecolor": "white",
            "ticks": ""
           },
           "bgcolor": "#E5ECF6",
           "radialaxis": {
            "gridcolor": "white",
            "linecolor": "white",
            "ticks": ""
           }
          },
          "scene": {
           "xaxis": {
            "backgroundcolor": "#E5ECF6",
            "gridcolor": "white",
            "gridwidth": 2,
            "linecolor": "white",
            "showbackground": true,
            "ticks": "",
            "zerolinecolor": "white"
           },
           "yaxis": {
            "backgroundcolor": "#E5ECF6",
            "gridcolor": "white",
            "gridwidth": 2,
            "linecolor": "white",
            "showbackground": true,
            "ticks": "",
            "zerolinecolor": "white"
           },
           "zaxis": {
            "backgroundcolor": "#E5ECF6",
            "gridcolor": "white",
            "gridwidth": 2,
            "linecolor": "white",
            "showbackground": true,
            "ticks": "",
            "zerolinecolor": "white"
           }
          },
          "shapedefaults": {
           "line": {
            "color": "#2a3f5f"
           }
          },
          "ternary": {
           "aaxis": {
            "gridcolor": "white",
            "linecolor": "white",
            "ticks": ""
           },
           "baxis": {
            "gridcolor": "white",
            "linecolor": "white",
            "ticks": ""
           },
           "bgcolor": "#E5ECF6",
           "caxis": {
            "gridcolor": "white",
            "linecolor": "white",
            "ticks": ""
           }
          },
          "title": {
           "x": 0.05
          },
          "xaxis": {
           "automargin": true,
           "gridcolor": "white",
           "linecolor": "white",
           "ticks": "",
           "title": {
            "standoff": 15
           },
           "zerolinecolor": "white",
           "zerolinewidth": 2
          },
          "yaxis": {
           "automargin": true,
           "gridcolor": "white",
           "linecolor": "white",
           "ticks": "",
           "title": {
            "standoff": 15
           },
           "zerolinecolor": "white",
           "zerolinewidth": 2
          }
         }
        },
        "xaxis": {
         "anchor": "y",
         "domain": [
          0,
          1
         ],
         "title": {
          "text": "datetime"
         }
        },
        "yaxis": {
         "anchor": "x",
         "domain": [
          0,
          1
         ],
         "title": {
          "text": "zri"
         }
        }
       }
      },
      "text/html": [
       "<div>                            <div id=\"a0a95152-06b7-4718-b6b2-e7632d7bbe30\" class=\"plotly-graph-div\" style=\"height:525px; width:100%;\"></div>            <script type=\"text/javascript\">                require([\"plotly\"], function(Plotly) {                    window.PLOTLYENV=window.PLOTLYENV || {};                                    if (document.getElementById(\"a0a95152-06b7-4718-b6b2-e7632d7bbe30\")) {                    Plotly.newPlot(                        \"a0a95152-06b7-4718-b6b2-e7632d7bbe30\",                        [{\"hovertemplate\":\"datetime=%{x}<br>zri=%{y}<extra></extra>\",\"legendgroup\":\"\",\"line\":{\"color\":\"#636efa\",\"dash\":\"solid\"},\"mode\":\"lines\",\"name\":\"\",\"orientation\":\"v\",\"showlegend\":false,\"type\":\"scatter\",\"x\":[\"2011-02-01T00:00:00\",\"2011-03-01T00:00:00\",\"2011-04-01T00:00:00\",\"2011-05-01T00:00:00\",\"2011-06-01T00:00:00\",\"2011-07-01T00:00:00\",\"2011-08-01T00:00:00\",\"2011-09-01T00:00:00\",\"2011-10-01T00:00:00\",\"2011-11-01T00:00:00\",\"2011-12-01T00:00:00\",\"2012-01-01T00:00:00\",\"2012-02-01T00:00:00\",\"2012-03-01T00:00:00\",\"2012-04-01T00:00:00\",\"2012-05-01T00:00:00\",\"2012-06-01T00:00:00\",\"2012-07-01T00:00:00\",\"2012-08-01T00:00:00\",\"2012-09-01T00:00:00\",\"2012-10-01T00:00:00\",\"2012-11-01T00:00:00\",\"2012-12-01T00:00:00\",\"2013-01-01T00:00:00\",\"2013-02-01T00:00:00\",\"2013-03-01T00:00:00\",\"2013-04-01T00:00:00\",\"2013-05-01T00:00:00\",\"2013-06-01T00:00:00\",\"2013-07-01T00:00:00\",\"2013-08-01T00:00:00\",\"2013-09-01T00:00:00\",\"2013-10-01T00:00:00\",\"2013-11-01T00:00:00\",\"2013-12-01T00:00:00\",\"2014-01-01T00:00:00\",\"2014-02-01T00:00:00\",\"2014-03-01T00:00:00\",\"2014-04-01T00:00:00\",\"2014-05-01T00:00:00\",\"2014-06-01T00:00:00\",\"2014-07-01T00:00:00\",\"2014-08-01T00:00:00\",\"2014-09-01T00:00:00\",\"2014-10-01T00:00:00\",\"2014-11-01T00:00:00\",\"2014-12-01T00:00:00\",\"2015-01-01T00:00:00\",\"2015-02-01T00:00:00\",\"2015-03-01T00:00:00\",\"2015-04-01T00:00:00\",\"2015-05-01T00:00:00\",\"2015-06-01T00:00:00\",\"2015-07-01T00:00:00\",\"2015-08-01T00:00:00\",\"2015-09-01T00:00:00\",\"2015-10-01T00:00:00\",\"2015-11-01T00:00:00\",\"2015-12-01T00:00:00\",\"2016-01-01T00:00:00\",\"2016-02-01T00:00:00\",\"2016-03-01T00:00:00\",\"2016-04-01T00:00:00\",\"2016-05-01T00:00:00\",\"2016-06-01T00:00:00\",\"2016-07-01T00:00:00\",\"2016-08-01T00:00:00\",\"2016-09-01T00:00:00\",\"2016-10-01T00:00:00\",\"2016-11-01T00:00:00\",\"2016-12-01T00:00:00\",\"2017-01-01T00:00:00\",\"2017-02-01T00:00:00\",\"2017-03-01T00:00:00\",\"2017-04-01T00:00:00\",\"2017-05-01T00:00:00\",\"2017-06-01T00:00:00\",\"2017-07-01T00:00:00\",\"2017-08-01T00:00:00\",\"2017-09-01T00:00:00\",\"2017-10-01T00:00:00\",\"2017-11-01T00:00:00\",\"2017-12-01T00:00:00\"],\"xaxis\":\"x\",\"y\":[955.0,938.0,932.0,923.0,923.0,919.0,922.0,925.0,928.0,924.0,916.0,927.0,932.0,939.0,950.0,967.0,979.0,995.0,1001.0,1007.0,1008.0,1009.0,1011.0,1009.0,1007.0,1008.0,1020.0,1043.0,1070.0,1094.0,1102.0,1101.0,1096.0,1091.0,1076.0,1078.0,1080.0,1070.0,1070.0,1072.0,1070.0,1095.0,1117.0,1148.0,1179.0,1197.0,1211.0,1224.0,1232.0,1236.0,1236.0,1230.0,1233.0,1235.0,1234.0,1240.0,1241.0,1239.0,1241.0,1240.0,1237.0,1234.0,1236.0,1246.0,1264.0,1277.0,1287.0,1299.0,1299.0,1308.0,1312.0,1316.0,1321.0,1326.0,1329.0,1336.0,1346.0,1348.0,1341.0,1334.0,1324.0,1316.0,1315.0],\"yaxis\":\"y\"},{\"mode\":\"lines\",\"type\":\"scatter\",\"x\":[\"2018-01-01T00:00:00\",\"2018-02-01T00:00:00\",\"2018-03-01T00:00:00\",\"2018-04-01T00:00:00\",\"2018-05-01T00:00:00\",\"2018-06-01T00:00:00\",\"2018-07-01T00:00:00\",\"2018-08-01T00:00:00\",\"2018-09-01T00:00:00\",\"2018-10-01T00:00:00\",\"2018-11-01T00:00:00\",\"2018-12-01T00:00:00\"],\"y\":[1323.0,1328.0,1322.0,1314.0,1311.0,1316.0,1330.0,1338.0,1354.0,1361.0,1370.0,1367.0]},{\"mode\":\"lines\",\"type\":\"scatter\",\"x\":[\"2018-01-01T00:00:00\",\"2018-02-01T00:00:00\",\"2018-03-01T00:00:00\",\"2018-04-01T00:00:00\",\"2018-05-01T00:00:00\",\"2018-06-01T00:00:00\",\"2018-07-01T00:00:00\",\"2018-08-01T00:00:00\",\"2018-09-01T00:00:00\",\"2018-10-01T00:00:00\",\"2018-11-01T00:00:00\",\"2018-12-01T00:00:00\"],\"y\":[1314.2266327373168,1329.1790054676371,1331.857555982962,1317.4024282615972,1307.852305327983,1308.70211818503,1319.8184309402857,1340.763077444752,1344.1198420064557,1366.3642323405622,1366.3511760882157,1376.9029060366724]},{\"mode\":\"lines\",\"type\":\"scatter\",\"x\":[\"2018-01-01T00:00:00\",\"2018-02-01T00:00:00\",\"2018-03-01T00:00:00\",\"2018-04-01T00:00:00\",\"2018-05-01T00:00:00\",\"2018-06-01T00:00:00\",\"2018-07-01T00:00:00\",\"2018-08-01T00:00:00\",\"2018-09-01T00:00:00\",\"2018-10-01T00:00:00\",\"2018-11-01T00:00:00\",\"2018-12-01T00:00:00\"],\"y\":[1300.86488028672,1315.7642260571213,1318.5201856445208,1303.9785282650953,1294.4875892616517,1295.397521622761,1306.5013861973132,1327.3550094158318,1330.7734121783312,1352.9401344982966,1352.9541318675433,1363.5582391508422]},{\"fill\":\"tonexty\",\"mode\":\"lines\",\"type\":\"scatter\",\"x\":[\"2018-01-01T00:00:00\",\"2018-02-01T00:00:00\",\"2018-03-01T00:00:00\",\"2018-04-01T00:00:00\",\"2018-05-01T00:00:00\",\"2018-06-01T00:00:00\",\"2018-07-01T00:00:00\",\"2018-08-01T00:00:00\",\"2018-09-01T00:00:00\",\"2018-10-01T00:00:00\",\"2018-11-01T00:00:00\",\"2018-12-01T00:00:00\"],\"y\":[1327.5883851879134,1342.593784878153,1345.194926321403,1330.826328258099,1321.2170213943143,1322.0067147472992,1333.1354756832582,1354.1711454736724,1357.46627183458,1379.7883301828278,1379.748220308888,1390.2475729225027]}],                        {\"legend\":{\"tracegroupgap\":0},\"margin\":{\"t\":60},\"template\":{\"data\":{\"bar\":[{\"error_x\":{\"color\":\"#2a3f5f\"},\"error_y\":{\"color\":\"#2a3f5f\"},\"marker\":{\"line\":{\"color\":\"#E5ECF6\",\"width\":0.5},\"pattern\":{\"fillmode\":\"overlay\",\"size\":10,\"solidity\":0.2}},\"type\":\"bar\"}],\"barpolar\":[{\"marker\":{\"line\":{\"color\":\"#E5ECF6\",\"width\":0.5},\"pattern\":{\"fillmode\":\"overlay\",\"size\":10,\"solidity\":0.2}},\"type\":\"barpolar\"}],\"carpet\":[{\"aaxis\":{\"endlinecolor\":\"#2a3f5f\",\"gridcolor\":\"white\",\"linecolor\":\"white\",\"minorgridcolor\":\"white\",\"startlinecolor\":\"#2a3f5f\"},\"baxis\":{\"endlinecolor\":\"#2a3f5f\",\"gridcolor\":\"white\",\"linecolor\":\"white\",\"minorgridcolor\":\"white\",\"startlinecolor\":\"#2a3f5f\"},\"type\":\"carpet\"}],\"choropleth\":[{\"colorbar\":{\"outlinewidth\":0,\"ticks\":\"\"},\"type\":\"choropleth\"}],\"contour\":[{\"colorbar\":{\"outlinewidth\":0,\"ticks\":\"\"},\"colorscale\":[[0.0,\"#0d0887\"],[0.1111111111111111,\"#46039f\"],[0.2222222222222222,\"#7201a8\"],[0.3333333333333333,\"#9c179e\"],[0.4444444444444444,\"#bd3786\"],[0.5555555555555556,\"#d8576b\"],[0.6666666666666666,\"#ed7953\"],[0.7777777777777778,\"#fb9f3a\"],[0.8888888888888888,\"#fdca26\"],[1.0,\"#f0f921\"]],\"type\":\"contour\"}],\"contourcarpet\":[{\"colorbar\":{\"outlinewidth\":0,\"ticks\":\"\"},\"type\":\"contourcarpet\"}],\"heatmap\":[{\"colorbar\":{\"outlinewidth\":0,\"ticks\":\"\"},\"colorscale\":[[0.0,\"#0d0887\"],[0.1111111111111111,\"#46039f\"],[0.2222222222222222,\"#7201a8\"],[0.3333333333333333,\"#9c179e\"],[0.4444444444444444,\"#bd3786\"],[0.5555555555555556,\"#d8576b\"],[0.6666666666666666,\"#ed7953\"],[0.7777777777777778,\"#fb9f3a\"],[0.8888888888888888,\"#fdca26\"],[1.0,\"#f0f921\"]],\"type\":\"heatmap\"}],\"heatmapgl\":[{\"colorbar\":{\"outlinewidth\":0,\"ticks\":\"\"},\"colorscale\":[[0.0,\"#0d0887\"],[0.1111111111111111,\"#46039f\"],[0.2222222222222222,\"#7201a8\"],[0.3333333333333333,\"#9c179e\"],[0.4444444444444444,\"#bd3786\"],[0.5555555555555556,\"#d8576b\"],[0.6666666666666666,\"#ed7953\"],[0.7777777777777778,\"#fb9f3a\"],[0.8888888888888888,\"#fdca26\"],[1.0,\"#f0f921\"]],\"type\":\"heatmapgl\"}],\"histogram\":[{\"marker\":{\"pattern\":{\"fillmode\":\"overlay\",\"size\":10,\"solidity\":0.2}},\"type\":\"histogram\"}],\"histogram2d\":[{\"colorbar\":{\"outlinewidth\":0,\"ticks\":\"\"},\"colorscale\":[[0.0,\"#0d0887\"],[0.1111111111111111,\"#46039f\"],[0.2222222222222222,\"#7201a8\"],[0.3333333333333333,\"#9c179e\"],[0.4444444444444444,\"#bd3786\"],[0.5555555555555556,\"#d8576b\"],[0.6666666666666666,\"#ed7953\"],[0.7777777777777778,\"#fb9f3a\"],[0.8888888888888888,\"#fdca26\"],[1.0,\"#f0f921\"]],\"type\":\"histogram2d\"}],\"histogram2dcontour\":[{\"colorbar\":{\"outlinewidth\":0,\"ticks\":\"\"},\"colorscale\":[[0.0,\"#0d0887\"],[0.1111111111111111,\"#46039f\"],[0.2222222222222222,\"#7201a8\"],[0.3333333333333333,\"#9c179e\"],[0.4444444444444444,\"#bd3786\"],[0.5555555555555556,\"#d8576b\"],[0.6666666666666666,\"#ed7953\"],[0.7777777777777778,\"#fb9f3a\"],[0.8888888888888888,\"#fdca26\"],[1.0,\"#f0f921\"]],\"type\":\"histogram2dcontour\"}],\"mesh3d\":[{\"colorbar\":{\"outlinewidth\":0,\"ticks\":\"\"},\"type\":\"mesh3d\"}],\"parcoords\":[{\"line\":{\"colorbar\":{\"outlinewidth\":0,\"ticks\":\"\"}},\"type\":\"parcoords\"}],\"pie\":[{\"automargin\":true,\"type\":\"pie\"}],\"scatter\":[{\"marker\":{\"colorbar\":{\"outlinewidth\":0,\"ticks\":\"\"}},\"type\":\"scatter\"}],\"scatter3d\":[{\"line\":{\"colorbar\":{\"outlinewidth\":0,\"ticks\":\"\"}},\"marker\":{\"colorbar\":{\"outlinewidth\":0,\"ticks\":\"\"}},\"type\":\"scatter3d\"}],\"scattercarpet\":[{\"marker\":{\"colorbar\":{\"outlinewidth\":0,\"ticks\":\"\"}},\"type\":\"scattercarpet\"}],\"scattergeo\":[{\"marker\":{\"colorbar\":{\"outlinewidth\":0,\"ticks\":\"\"}},\"type\":\"scattergeo\"}],\"scattergl\":[{\"marker\":{\"colorbar\":{\"outlinewidth\":0,\"ticks\":\"\"}},\"type\":\"scattergl\"}],\"scattermapbox\":[{\"marker\":{\"colorbar\":{\"outlinewidth\":0,\"ticks\":\"\"}},\"type\":\"scattermapbox\"}],\"scatterpolar\":[{\"marker\":{\"colorbar\":{\"outlinewidth\":0,\"ticks\":\"\"}},\"type\":\"scatterpolar\"}],\"scatterpolargl\":[{\"marker\":{\"colorbar\":{\"outlinewidth\":0,\"ticks\":\"\"}},\"type\":\"scatterpolargl\"}],\"scatterternary\":[{\"marker\":{\"colorbar\":{\"outlinewidth\":0,\"ticks\":\"\"}},\"type\":\"scatterternary\"}],\"surface\":[{\"colorbar\":{\"outlinewidth\":0,\"ticks\":\"\"},\"colorscale\":[[0.0,\"#0d0887\"],[0.1111111111111111,\"#46039f\"],[0.2222222222222222,\"#7201a8\"],[0.3333333333333333,\"#9c179e\"],[0.4444444444444444,\"#bd3786\"],[0.5555555555555556,\"#d8576b\"],[0.6666666666666666,\"#ed7953\"],[0.7777777777777778,\"#fb9f3a\"],[0.8888888888888888,\"#fdca26\"],[1.0,\"#f0f921\"]],\"type\":\"surface\"}],\"table\":[{\"cells\":{\"fill\":{\"color\":\"#EBF0F8\"},\"line\":{\"color\":\"white\"}},\"header\":{\"fill\":{\"color\":\"#C8D4E3\"},\"line\":{\"color\":\"white\"}},\"type\":\"table\"}]},\"layout\":{\"annotationdefaults\":{\"arrowcolor\":\"#2a3f5f\",\"arrowhead\":0,\"arrowwidth\":1},\"autotypenumbers\":\"strict\",\"coloraxis\":{\"colorbar\":{\"outlinewidth\":0,\"ticks\":\"\"}},\"colorscale\":{\"diverging\":[[0,\"#8e0152\"],[0.1,\"#c51b7d\"],[0.2,\"#de77ae\"],[0.3,\"#f1b6da\"],[0.4,\"#fde0ef\"],[0.5,\"#f7f7f7\"],[0.6,\"#e6f5d0\"],[0.7,\"#b8e186\"],[0.8,\"#7fbc41\"],[0.9,\"#4d9221\"],[1,\"#276419\"]],\"sequential\":[[0.0,\"#0d0887\"],[0.1111111111111111,\"#46039f\"],[0.2222222222222222,\"#7201a8\"],[0.3333333333333333,\"#9c179e\"],[0.4444444444444444,\"#bd3786\"],[0.5555555555555556,\"#d8576b\"],[0.6666666666666666,\"#ed7953\"],[0.7777777777777778,\"#fb9f3a\"],[0.8888888888888888,\"#fdca26\"],[1.0,\"#f0f921\"]],\"sequentialminus\":[[0.0,\"#0d0887\"],[0.1111111111111111,\"#46039f\"],[0.2222222222222222,\"#7201a8\"],[0.3333333333333333,\"#9c179e\"],[0.4444444444444444,\"#bd3786\"],[0.5555555555555556,\"#d8576b\"],[0.6666666666666666,\"#ed7953\"],[0.7777777777777778,\"#fb9f3a\"],[0.8888888888888888,\"#fdca26\"],[1.0,\"#f0f921\"]]},\"colorway\":[\"#636efa\",\"#EF553B\",\"#00cc96\",\"#ab63fa\",\"#FFA15A\",\"#19d3f3\",\"#FF6692\",\"#B6E880\",\"#FF97FF\",\"#FECB52\"],\"font\":{\"color\":\"#2a3f5f\"},\"geo\":{\"bgcolor\":\"white\",\"lakecolor\":\"white\",\"landcolor\":\"#E5ECF6\",\"showlakes\":true,\"showland\":true,\"subunitcolor\":\"white\"},\"hoverlabel\":{\"align\":\"left\"},\"hovermode\":\"closest\",\"mapbox\":{\"style\":\"light\"},\"paper_bgcolor\":\"white\",\"plot_bgcolor\":\"#E5ECF6\",\"polar\":{\"angularaxis\":{\"gridcolor\":\"white\",\"linecolor\":\"white\",\"ticks\":\"\"},\"bgcolor\":\"#E5ECF6\",\"radialaxis\":{\"gridcolor\":\"white\",\"linecolor\":\"white\",\"ticks\":\"\"}},\"scene\":{\"xaxis\":{\"backgroundcolor\":\"#E5ECF6\",\"gridcolor\":\"white\",\"gridwidth\":2,\"linecolor\":\"white\",\"showbackground\":true,\"ticks\":\"\",\"zerolinecolor\":\"white\"},\"yaxis\":{\"backgroundcolor\":\"#E5ECF6\",\"gridcolor\":\"white\",\"gridwidth\":2,\"linecolor\":\"white\",\"showbackground\":true,\"ticks\":\"\",\"zerolinecolor\":\"white\"},\"zaxis\":{\"backgroundcolor\":\"#E5ECF6\",\"gridcolor\":\"white\",\"gridwidth\":2,\"linecolor\":\"white\",\"showbackground\":true,\"ticks\":\"\",\"zerolinecolor\":\"white\"}},\"shapedefaults\":{\"line\":{\"color\":\"#2a3f5f\"}},\"ternary\":{\"aaxis\":{\"gridcolor\":\"white\",\"linecolor\":\"white\",\"ticks\":\"\"},\"baxis\":{\"gridcolor\":\"white\",\"linecolor\":\"white\",\"ticks\":\"\"},\"bgcolor\":\"#E5ECF6\",\"caxis\":{\"gridcolor\":\"white\",\"linecolor\":\"white\",\"ticks\":\"\"}},\"title\":{\"x\":0.05},\"xaxis\":{\"automargin\":true,\"gridcolor\":\"white\",\"linecolor\":\"white\",\"ticks\":\"\",\"title\":{\"standoff\":15},\"zerolinecolor\":\"white\",\"zerolinewidth\":2},\"yaxis\":{\"automargin\":true,\"gridcolor\":\"white\",\"linecolor\":\"white\",\"ticks\":\"\",\"title\":{\"standoff\":15},\"zerolinecolor\":\"white\",\"zerolinewidth\":2}}},\"xaxis\":{\"anchor\":\"y\",\"domain\":[0.0,1.0],\"title\":{\"text\":\"datetime\"}},\"yaxis\":{\"anchor\":\"x\",\"domain\":[0.0,1.0],\"title\":{\"text\":\"zri\"}}},                        {\"responsive\": true}                    ).then(function(){\n",
       "                            \n",
       "var gd = document.getElementById('a0a95152-06b7-4718-b6b2-e7632d7bbe30');\n",
       "var x = new MutationObserver(function (mutations, observer) {{\n",
       "        var display = window.getComputedStyle(gd).display;\n",
       "        if (!display || display === 'none') {{\n",
       "            console.log([gd, 'removed!']);\n",
       "            Plotly.purge(gd);\n",
       "            observer.disconnect();\n",
       "        }}\n",
       "}});\n",
       "\n",
       "// Listen for the removal of the full notebook cells\n",
       "var notebookContainer = gd.closest('#notebook-container');\n",
       "if (notebookContainer) {{\n",
       "    x.observe(notebookContainer, {childList: true});\n",
       "}}\n",
       "\n",
       "// Listen for the clearing of the current output cell\n",
       "var outputEl = gd.closest('.output');\n",
       "if (outputEl) {{\n",
       "    x.observe(outputEl, {childList: true});\n",
       "}}\n",
       "\n",
       "                        })                };                });            </script>        </div>"
      ]
     },
     "metadata": {},
     "output_type": "display_data"
    }
   ],
   "source": [
    "fig = px.line(df3, x = 'datetime', y = 'zri')\n",
    "fig.add_trace(go.Line(x = true['datetime'], y = true['zri'], mode = 'lines'))\n",
    "fig.add_trace(go.Line(x = true['datetime'], y = pred, mode = 'lines'))\n",
    "fig.add_trace(go.Line(x = true['datetime'], y = np.asarray(confidence_intervals)[:,0], mode = 'lines'))\n",
    "fig.add_trace(go.Line(x = true['datetime'], y = np.asarray(confidence_intervals)[:,1], mode = 'lines', fill = 'tonexty'))"
   ]
  },
  {
   "cell_type": "code",
   "execution_count": 562,
   "id": "5ee15236",
   "metadata": {},
   "outputs": [
    {
     "data": {
      "text/plain": [
       "array([[1300.86488029, 1327.58838519],\n",
       "       [1315.76422606, 1342.59378488],\n",
       "       [1318.52018564, 1345.19492632],\n",
       "       [1303.97852827, 1330.82632826],\n",
       "       [1294.48758926, 1321.21702139],\n",
       "       [1295.39752162, 1322.00671475],\n",
       "       [1306.5013862 , 1333.13547568],\n",
       "       [1327.35500942, 1354.17114547],\n",
       "       [1330.77341218, 1357.46627183],\n",
       "       [1352.9401345 , 1379.78833018],\n",
       "       [1352.95413187, 1379.74822031],\n",
       "       [1363.55823915, 1390.24757292]])"
      ]
     },
     "execution_count": 562,
     "metadata": {},
     "output_type": "execute_result"
    }
   ],
   "source": [
    "np.asarray(confidence_intervals)"
   ]
  },
  {
   "cell_type": "code",
   "execution_count": 614,
   "id": "2fd196db",
   "metadata": {},
   "outputs": [
    {
     "name": "stdout",
     "output_type": "stream",
     "text": [
      "Mean squared error: 49.94582797995259\n",
      "SMAPE: 0.47008878122326675\n"
     ]
    }
   ],
   "source": [
    "print(f\"Mean squared error: {mean_squared_error(true['zri'], pred)}\")\n",
    "print(f\"SMAPE: {smape(true['zri'], pred)}\")\n",
    "# smape of 0 is perfect accuracy, lower smape is better"
   ]
  },
  {
   "cell_type": "code",
   "execution_count": null,
   "id": "54d3e3d6",
   "metadata": {},
   "outputs": [],
   "source": []
  }
 ],
 "metadata": {
  "kernelspec": {
   "display_name": "Python [conda env:env1] *",
   "language": "python",
   "name": "conda-env-env1-py"
  },
  "language_info": {
   "codemirror_mode": {
    "name": "ipython",
    "version": 3
   },
   "file_extension": ".py",
   "mimetype": "text/x-python",
   "name": "python",
   "nbconvert_exporter": "python",
   "pygments_lexer": "ipython3",
   "version": "3.8.11"
  }
 },
 "nbformat": 4,
 "nbformat_minor": 5
}
