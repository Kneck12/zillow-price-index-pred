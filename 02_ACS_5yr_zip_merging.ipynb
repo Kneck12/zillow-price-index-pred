{
 "cells": [
  {
   "cell_type": "code",
   "execution_count": 20,
   "id": "75a7ee4b",
   "metadata": {},
   "outputs": [],
   "source": [
    "import pandas as pd\n",
    "import numpy as np"
   ]
  },
  {
   "cell_type": "code",
   "execution_count": 21,
   "id": "c6411cb6",
   "metadata": {},
   "outputs": [],
   "source": [
    "_2014 = pd.read_csv('./data/acs_2014_zip_5yr.csv')"
   ]
  },
  {
   "cell_type": "code",
   "execution_count": 22,
   "id": "845c02fd",
   "metadata": {},
   "outputs": [],
   "source": [
    "_2015 = pd.read_csv('./data/acs_2015_zip_5yr.csv')"
   ]
  },
  {
   "cell_type": "code",
   "execution_count": 23,
   "id": "94ded36b",
   "metadata": {},
   "outputs": [],
   "source": [
    "_2016 = pd.read_csv('./data/acs_2016_zip_5yr.csv')"
   ]
  },
  {
   "cell_type": "code",
   "execution_count": 24,
   "id": "072f2bc3",
   "metadata": {},
   "outputs": [],
   "source": [
    "_2017 = pd.read_csv('./data/acs_2017_zip_5yr.csv')"
   ]
  },
  {
   "cell_type": "code",
   "execution_count": 25,
   "id": "757b5387",
   "metadata": {},
   "outputs": [],
   "source": [
    "_2018 = pd.read_csv('./data/acs_2018_zip_5yr.csv')"
   ]
  },
  {
   "cell_type": "code",
   "execution_count": 26,
   "id": "e9a6dee4",
   "metadata": {},
   "outputs": [],
   "source": [
    "_2013 = pd.read_csv('./data/acs_2013_zip_5yr.csv')"
   ]
  },
  {
   "cell_type": "code",
   "execution_count": 27,
   "id": "5728f3dc",
   "metadata": {},
   "outputs": [],
   "source": [
    "_2012 = pd.read_csv('./data/acs_2012_zip_5yr.csv')"
   ]
  },
  {
   "cell_type": "code",
   "execution_count": 28,
   "id": "a08720fa",
   "metadata": {},
   "outputs": [],
   "source": [
    "_2011 = pd.read_csv('./data/acs_2011_zip_5yr.csv')"
   ]
  },
  {
   "cell_type": "code",
   "execution_count": 62,
   "id": "029a161b",
   "metadata": {
    "scrolled": false
   },
   "outputs": [],
   "source": [
    "years = [_2011, _2012, _2013, _2014, _2015, _2016, _2017, _2018]"
   ]
  },
  {
   "cell_type": "code",
   "execution_count": 51,
   "id": "8c426509",
   "metadata": {},
   "outputs": [],
   "source": [
    "_2018['do_date'] = [20142018]*33120"
   ]
  },
  {
   "cell_type": "code",
   "execution_count": 53,
   "id": "2e3ff31e",
   "metadata": {},
   "outputs": [
    {
     "name": "stdout",
     "output_type": "stream",
     "text": [
      "20072011\n",
      "<class 'numpy.int64'>\n",
      "20082012\n",
      "<class 'numpy.int64'>\n",
      "20092013\n",
      "<class 'numpy.int64'>\n",
      "20102014\n",
      "<class 'numpy.int64'>\n",
      "20112015\n",
      "<class 'numpy.int64'>\n",
      "20122016\n",
      "<class 'numpy.int64'>\n",
      "20132017\n",
      "<class 'numpy.int64'>\n",
      "20142018\n",
      "<class 'numpy.int64'>\n"
     ]
    }
   ],
   "source": [
    "for item in years:\n",
    "    print(item['do_date'][0])\n",
    "    print(type(item['do_date'][0]))"
   ]
  },
  {
   "cell_type": "code",
   "execution_count": 59,
   "id": "1e72c8e7",
   "metadata": {},
   "outputs": [
    {
     "name": "stdout",
     "output_type": "stream",
     "text": [
      "20072011 geo_id\n",
      "99363\n",
      "<class 'numpy.int64'>\n",
      "20082012 geo_id\n",
      "91046\n",
      "<class 'numpy.int64'>\n",
      "20092013 geo_id\n",
      "91046\n",
      "<class 'numpy.int64'>\n",
      "20102014 geo_id\n",
      "20899\n",
      "<class 'numpy.int64'>\n",
      "20112015 geoid\n",
      "nan\n",
      "<class 'numpy.float64'>\n",
      "20112015 geo_id\n",
      "98304\n",
      "<class 'numpy.int64'>\n",
      "20122016 geo_id\n",
      "61112\n",
      "<class 'numpy.int64'>\n",
      "20132017 geo_id\n",
      "55111\n",
      "<class 'numpy.int64'>\n",
      "20142018 geo_id\n",
      "87537\n",
      "<class 'numpy.int64'>\n"
     ]
    }
   ],
   "source": [
    "for item in years:\n",
    "    if 'geoid' in item.columns:\n",
    "        print(item['do_date'][0], 'geoid')\n",
    "        print(item['geoid'][0])\n",
    "        print(type(item['geoid'][0]))\n",
    "    if 'geo_id' in item.columns:\n",
    "        print(item['do_date'][0], 'geo_id')\n",
    "        print(item['geo_id'][0])\n",
    "        print(type(item['geo_id'][0]))"
   ]
  },
  {
   "cell_type": "code",
   "execution_count": 30,
   "id": "f8f835c2",
   "metadata": {},
   "outputs": [
    {
     "name": "stdout",
     "output_type": "stream",
     "text": [
      "252\n",
      "252\n",
      "252\n",
      "252\n",
      "247\n",
      "252\n",
      "252\n",
      "240\n"
     ]
    }
   ],
   "source": [
    "for i in range(len(years)):\n",
    "    print(len(years[i].columns))"
   ]
  },
  {
   "cell_type": "code",
   "execution_count": 34,
   "id": "d8c82a80",
   "metadata": {},
   "outputs": [
    {
     "name": "stdout",
     "output_type": "stream",
     "text": [
      "male_60_61 2\n",
      "male_62_64 2\n",
      "white_including_hispanic 2\n",
      "black_including_hispanic 2\n",
      "amerindian_including_hispanic 2\n",
      "asian_including_hispanic 2\n",
      "commute_5_9_mins 2\n",
      "commute_35_39_mins 2\n",
      "commute_40_44_mins 2\n",
      "commute_60_89_mins 2\n",
      "commute_90_more_mins 2\n",
      "households_retirement_income 2\n",
      "pop_15_and_over 1\n",
      "pop_never_married 1\n",
      "pop_now_married 1\n",
      "pop_separated 1\n",
      "pop_widowed 1\n",
      "pop_divorced 1\n"
     ]
    }
   ],
   "source": [
    "for col in _2011.columns:\n",
    "    if col not in _2015.columns:\n",
    "        print(col, 1)\n",
    "    if col not in _2018.columns:\n",
    "        print(col, 2)"
   ]
  },
  {
   "cell_type": "code",
   "execution_count": 63,
   "id": "de91fa06",
   "metadata": {},
   "outputs": [],
   "source": [
    "merged = pd.concat(years, axis = 0)"
   ]
  },
  {
   "cell_type": "code",
   "execution_count": 65,
   "id": "53a158bd",
   "metadata": {},
   "outputs": [],
   "source": [
    "merged.drop(columns = 'geoid', axis = 1, inplace = True)"
   ]
  },
  {
   "cell_type": "code",
   "execution_count": 76,
   "id": "96e409b0",
   "metadata": {},
   "outputs": [],
   "source": [
    "merged = pd.concat([merged.loc[:,merged.columns[0]], merged.loc[:,merged.columns[-1]], merged.loc[:, merged.columns[1:-1]]], axis = 1)"
   ]
  },
  {
   "cell_type": "code",
   "execution_count": 78,
   "id": "6a2e5466",
   "metadata": {},
   "outputs": [],
   "source": [
    "merged = merged.sort_values(['geo_id', 'do_date'])"
   ]
  },
  {
   "cell_type": "code",
   "execution_count": 80,
   "id": "ed69aa5d",
   "metadata": {},
   "outputs": [],
   "source": [
    "merged.to_csv('acs_5yr_merged.csv', index = False)"
   ]
  }
 ],
 "metadata": {
  "kernelspec": {
   "display_name": "Python 3 (ipykernel)",
   "language": "python",
   "name": "python3"
  },
  "language_info": {
   "codemirror_mode": {
    "name": "ipython",
    "version": 3
   },
   "file_extension": ".py",
   "mimetype": "text/x-python",
   "name": "python",
   "nbconvert_exporter": "python",
   "pygments_lexer": "ipython3",
   "version": "3.8.11"
  }
 },
 "nbformat": 4,
 "nbformat_minor": 5
}
