{
 "cells": [
  {
   "cell_type": "code",
   "execution_count": 2,
   "id": "c5cf01fa-e050-4baf-9ab0-3135c2d8d353",
   "metadata": {},
   "outputs": [
    {
     "ename": "SyntaxError",
     "evalue": "invalid syntax (<ipython-input-2-159bc26ffbd7>, line 5)",
     "output_type": "error",
     "traceback": [
      "\u001b[0;36m  File \u001b[0;32m\"<ipython-input-2-159bc26ffbd7>\"\u001b[0;36m, line \u001b[0;32m5\u001b[0m\n\u001b[0;31m    import 'scikit-hts'\u001b[0m\n\u001b[0m           ^\u001b[0m\n\u001b[0;31mSyntaxError\u001b[0m\u001b[0;31m:\u001b[0m invalid syntax\n"
     ]
    }
   ],
   "source": [
    "import pandas as pd\n",
    "import numpy as np\n",
    "import plotly.express as px\n",
    "from datetime import datetime\n",
    "from hts import HTSRegressor\n",
    "import hts.functions\n",
    "from hts.hierarchy import HierarchyTree"
   ]
  },
  {
   "cell_type": "code",
   "execution_count": null,
   "id": "b7195454-8977-44c4-953f-b04685d40f78",
   "metadata": {},
   "outputs": [],
   "source": []
  }
 ],
 "metadata": {
  "kernelspec": {
   "display_name": "Python 3",
   "language": "python",
   "name": "python3"
  },
  "language_info": {
   "codemirror_mode": {
    "name": "ipython",
    "version": 3
   },
   "file_extension": ".py",
   "mimetype": "text/x-python",
   "name": "python",
   "nbconvert_exporter": "python",
   "pygments_lexer": "ipython3",
   "version": "3.8.8"
  }
 },
 "nbformat": 4,
 "nbformat_minor": 5
}
