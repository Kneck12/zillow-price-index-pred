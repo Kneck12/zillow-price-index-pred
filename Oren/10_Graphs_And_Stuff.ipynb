{
 "cells": [
  {
   "cell_type": "code",
   "execution_count": 1,
   "id": "70f48592-2e53-4fb3-9234-48c0ec35e532",
   "metadata": {},
   "outputs": [
    {
     "name": "stderr",
     "output_type": "stream",
     "text": [
      "/Users/backup/opt/anaconda3/lib/python3.8/site-packages/geopandas/_compat.py:106: UserWarning: The Shapely GEOS version (3.8.0-CAPI-1.13.1 ) is incompatible with the GEOS version PyGEOS was compiled with (3.9.1-CAPI-1.14.2). Conversions between both will be slow.\n",
      "  warnings.warn(\n"
     ]
    },
    {
     "data": {
      "text/html": [
       "        <script type=\"text/javascript\">\n",
       "        window.PlotlyConfig = {MathJaxConfig: 'local'};\n",
       "        if (window.MathJax) {MathJax.Hub.Config({SVG: {font: \"STIX-Web\"}});}\n",
       "        if (typeof require !== 'undefined') {\n",
       "        require.undef(\"plotly\");\n",
       "        requirejs.config({\n",
       "            paths: {\n",
       "                'plotly': ['https://cdn.plot.ly/plotly-latest.min']\n",
       "            }\n",
       "        });\n",
       "        require(['plotly'], function(Plotly) {\n",
       "            window._Plotly = Plotly;\n",
       "        });\n",
       "        }\n",
       "        </script>\n",
       "        "
      ]
     },
     "metadata": {},
     "output_type": "display_data"
    }
   ],
   "source": [
    "import pandas as pd\n",
    "import numpy as np\n",
    "import plotly.express as px\n",
    "from datetime import datetime\n",
    "import json\n",
    "import geopandas as gpd\n",
    "import folium\n",
    "import plotly.graph_objs as go\n",
    "from plotly.offline import download_plotlyjs, init_notebook_mode,  iplot\n",
    "init_notebook_mode(connected=True)\n",
    "from uszipcode import SearchEngine\n",
    "import plotly.graph_objects as go"
   ]
  },
  {
   "cell_type": "code",
   "execution_count": 2,
   "id": "8be641b7-6b36-465f-aedc-d6870798f38e",
   "metadata": {},
   "outputs": [],
   "source": [
    "resids_df=pd.read_csv('../../data/sarimax_resids_acs_bikeshare.csv', \n",
    "                      dtype={'Unnamed: 0': str}).rename(columns = {\"Unnamed: 0\":\"zip\"})"
   ]
  },
  {
   "cell_type": "code",
   "execution_count": 3,
   "id": "052adaeb-0baf-42a0-942e-18c475eb8a6c",
   "metadata": {},
   "outputs": [],
   "source": [
    "zipcodes = resids_df['zip'].unique()"
   ]
  },
  {
   "cell_type": "code",
   "execution_count": 4,
   "id": "5538e90f-a5ed-4209-95cd-a4700dfd4957",
   "metadata": {},
   "outputs": [],
   "source": [
    "zips_geo_df = pd.read_csv('../../data/georef-united-states-of-america-zc-point.csv',\n",
    "                          sep=';', dtype={'Zip Code': str})"
   ]
  },
  {
   "cell_type": "code",
   "execution_count": 5,
   "id": "1ee41358-ffae-4955-b7b6-62522015aea5",
   "metadata": {},
   "outputs": [],
   "source": [
    "zips_geo_df['Zip Code'] = zips_geo_df['Zip Code'].map(lambda x: '0' + x if len(x) < 5 else x)"
   ]
  },
  {
   "cell_type": "code",
   "execution_count": 6,
   "id": "2294b0ca-3e0b-4356-b4de-bc9722917c38",
   "metadata": {},
   "outputs": [
    {
     "data": {
      "text/plain": [
       "1301"
      ]
     },
     "execution_count": 6,
     "metadata": {},
     "output_type": "execute_result"
    }
   ],
   "source": [
    "zips_geo_df = zips_geo_df.loc[zips_geo_df['Zip Code'].isin(zipcodes)]\n",
    "zips_geo_df['Zip Code'].nunique()"
   ]
  },
  {
   "cell_type": "code",
   "execution_count": 10,
   "id": "11afafd0-5d4e-442c-adde-e63bf3708e18",
   "metadata": {},
   "outputs": [
    {
     "data": {
      "text/html": [
       "<div>\n",
       "<style scoped>\n",
       "    .dataframe tbody tr th:only-of-type {\n",
       "        vertical-align: middle;\n",
       "    }\n",
       "\n",
       "    .dataframe tbody tr th {\n",
       "        vertical-align: top;\n",
       "    }\n",
       "\n",
       "    .dataframe thead th {\n",
       "        text-align: right;\n",
       "    }\n",
       "</style>\n",
       "<table border=\"1\" class=\"dataframe\">\n",
       "  <thead>\n",
       "    <tr style=\"text-align: right;\">\n",
       "      <th></th>\n",
       "      <th>Zip Code</th>\n",
       "      <th>Official USPS city name</th>\n",
       "      <th>Official USPS State Code</th>\n",
       "      <th>Official State Name</th>\n",
       "      <th>ZCTA</th>\n",
       "      <th>ZCTA parent</th>\n",
       "      <th>Population</th>\n",
       "      <th>Density</th>\n",
       "      <th>Primary Official County Code</th>\n",
       "      <th>Primary Official County Name</th>\n",
       "      <th>County Weights</th>\n",
       "      <th>Official County Name</th>\n",
       "      <th>Official County Code</th>\n",
       "      <th>Imprecise</th>\n",
       "      <th>Military</th>\n",
       "      <th>Timezone</th>\n",
       "      <th>Geo Point</th>\n",
       "    </tr>\n",
       "  </thead>\n",
       "  <tbody>\n",
       "    <tr>\n",
       "      <th>15</th>\n",
       "      <td>32224</td>\n",
       "      <td>Jacksonville</td>\n",
       "      <td>FL</td>\n",
       "      <td>Florida</td>\n",
       "      <td>True</td>\n",
       "      <td>NaN</td>\n",
       "      <td>44058.0</td>\n",
       "      <td>803.8</td>\n",
       "      <td>12031</td>\n",
       "      <td>Duval</td>\n",
       "      <td>{\"12031\": \"99.89\", \"12109\": \"0.11\"}</td>\n",
       "      <td>Duval|St. Johns</td>\n",
       "      <td>12031|12109</td>\n",
       "      <td>False</td>\n",
       "      <td>False</td>\n",
       "      <td>America/New_York</td>\n",
       "      <td>30.27027,-81.46796</td>\n",
       "    </tr>\n",
       "    <tr>\n",
       "      <th>32</th>\n",
       "      <td>33634</td>\n",
       "      <td>Tampa</td>\n",
       "      <td>FL</td>\n",
       "      <td>Florida</td>\n",
       "      <td>True</td>\n",
       "      <td>NaN</td>\n",
       "      <td>22719.0</td>\n",
       "      <td>1069.3</td>\n",
       "      <td>12057</td>\n",
       "      <td>Hillsborough</td>\n",
       "      <td>{\"12057\": \"100\"}</td>\n",
       "      <td>Hillsborough</td>\n",
       "      <td>12057</td>\n",
       "      <td>False</td>\n",
       "      <td>False</td>\n",
       "      <td>America/New_York</td>\n",
       "      <td>28.00884,-82.54618</td>\n",
       "    </tr>\n",
       "    <tr>\n",
       "      <th>38</th>\n",
       "      <td>34698</td>\n",
       "      <td>Dunedin</td>\n",
       "      <td>FL</td>\n",
       "      <td>Florida</td>\n",
       "      <td>True</td>\n",
       "      <td>NaN</td>\n",
       "      <td>38720.0</td>\n",
       "      <td>1463.7</td>\n",
       "      <td>12103</td>\n",
       "      <td>Pinellas</td>\n",
       "      <td>{\"12103\": \"100\"}</td>\n",
       "      <td>Pinellas</td>\n",
       "      <td>12103</td>\n",
       "      <td>False</td>\n",
       "      <td>False</td>\n",
       "      <td>America/New_York</td>\n",
       "      <td>28.03399,-82.77961</td>\n",
       "    </tr>\n",
       "    <tr>\n",
       "      <th>136</th>\n",
       "      <td>43204</td>\n",
       "      <td>Columbus</td>\n",
       "      <td>OH</td>\n",
       "      <td>Ohio</td>\n",
       "      <td>True</td>\n",
       "      <td>NaN</td>\n",
       "      <td>42796.0</td>\n",
       "      <td>1837.5</td>\n",
       "      <td>39049</td>\n",
       "      <td>Franklin</td>\n",
       "      <td>{\"39049\": \"100\"}</td>\n",
       "      <td>Franklin</td>\n",
       "      <td>39049</td>\n",
       "      <td>False</td>\n",
       "      <td>False</td>\n",
       "      <td>America/New_York</td>\n",
       "      <td>39.96136,-83.0816</td>\n",
       "    </tr>\n",
       "    <tr>\n",
       "      <th>191</th>\n",
       "      <td>46203</td>\n",
       "      <td>Indianapolis</td>\n",
       "      <td>IN</td>\n",
       "      <td>Indiana</td>\n",
       "      <td>True</td>\n",
       "      <td>NaN</td>\n",
       "      <td>38581.0</td>\n",
       "      <td>1076.1</td>\n",
       "      <td>18097</td>\n",
       "      <td>Marion</td>\n",
       "      <td>{\"18097\": \"100\"}</td>\n",
       "      <td>Marion</td>\n",
       "      <td>18097</td>\n",
       "      <td>False</td>\n",
       "      <td>False</td>\n",
       "      <td>America/Indiana/Indianapolis</td>\n",
       "      <td>39.73761,-86.0969</td>\n",
       "    </tr>\n",
       "    <tr>\n",
       "      <th>...</th>\n",
       "      <td>...</td>\n",
       "      <td>...</td>\n",
       "      <td>...</td>\n",
       "      <td>...</td>\n",
       "      <td>...</td>\n",
       "      <td>...</td>\n",
       "      <td>...</td>\n",
       "      <td>...</td>\n",
       "      <td>...</td>\n",
       "      <td>...</td>\n",
       "      <td>...</td>\n",
       "      <td>...</td>\n",
       "      <td>...</td>\n",
       "      <td>...</td>\n",
       "      <td>...</td>\n",
       "      <td>...</td>\n",
       "      <td>...</td>\n",
       "    </tr>\n",
       "    <tr>\n",
       "      <th>33000</th>\n",
       "      <td>22204</td>\n",
       "      <td>Arlington</td>\n",
       "      <td>VA</td>\n",
       "      <td>Virginia</td>\n",
       "      <td>True</td>\n",
       "      <td>NaN</td>\n",
       "      <td>54617.0</td>\n",
       "      <td>5117.9</td>\n",
       "      <td>51013</td>\n",
       "      <td>Arlington</td>\n",
       "      <td>{\"51013\": \"100\"}</td>\n",
       "      <td>Arlington</td>\n",
       "      <td>51013</td>\n",
       "      <td>False</td>\n",
       "      <td>False</td>\n",
       "      <td>America/New_York</td>\n",
       "      <td>38.86083,-77.09894</td>\n",
       "    </tr>\n",
       "    <tr>\n",
       "      <th>33010</th>\n",
       "      <td>23602</td>\n",
       "      <td>Newport News</td>\n",
       "      <td>VA</td>\n",
       "      <td>Virginia</td>\n",
       "      <td>True</td>\n",
       "      <td>NaN</td>\n",
       "      <td>38821.0</td>\n",
       "      <td>1117.9</td>\n",
       "      <td>51700</td>\n",
       "      <td>Newport News</td>\n",
       "      <td>{\"51700\": \"99.76\", \"51199\": \"0.24\"}</td>\n",
       "      <td>Newport News|York</td>\n",
       "      <td>51700|51199</td>\n",
       "      <td>False</td>\n",
       "      <td>False</td>\n",
       "      <td>America/New_York</td>\n",
       "      <td>37.1148,-76.51582</td>\n",
       "    </tr>\n",
       "    <tr>\n",
       "      <th>33057</th>\n",
       "      <td>27705</td>\n",
       "      <td>Durham</td>\n",
       "      <td>NC</td>\n",
       "      <td>North Carolina</td>\n",
       "      <td>True</td>\n",
       "      <td>NaN</td>\n",
       "      <td>49508.0</td>\n",
       "      <td>436.5</td>\n",
       "      <td>37063</td>\n",
       "      <td>Durham</td>\n",
       "      <td>{\"37063\": \"90.43\", \"37135\": \"9.57\"}</td>\n",
       "      <td>Durham|Orange</td>\n",
       "      <td>37063|37135</td>\n",
       "      <td>False</td>\n",
       "      <td>False</td>\n",
       "      <td>America/New_York</td>\n",
       "      <td>36.02698,-78.98065</td>\n",
       "    </tr>\n",
       "    <tr>\n",
       "      <th>33098</th>\n",
       "      <td>30308</td>\n",
       "      <td>Atlanta</td>\n",
       "      <td>GA</td>\n",
       "      <td>Georgia</td>\n",
       "      <td>True</td>\n",
       "      <td>NaN</td>\n",
       "      <td>18839.0</td>\n",
       "      <td>4561.5</td>\n",
       "      <td>13121</td>\n",
       "      <td>Fulton</td>\n",
       "      <td>{\"13121\": \"100\"}</td>\n",
       "      <td>Fulton</td>\n",
       "      <td>13121</td>\n",
       "      <td>False</td>\n",
       "      <td>False</td>\n",
       "      <td>America/New_York</td>\n",
       "      <td>33.77121,-84.3781</td>\n",
       "    </tr>\n",
       "    <tr>\n",
       "      <th>33116</th>\n",
       "      <td>99508</td>\n",
       "      <td>Anchorage</td>\n",
       "      <td>AK</td>\n",
       "      <td>Alaska</td>\n",
       "      <td>True</td>\n",
       "      <td>NaN</td>\n",
       "      <td>36560.0</td>\n",
       "      <td>2033.6</td>\n",
       "      <td>2020</td>\n",
       "      <td>Anchorage</td>\n",
       "      <td>{\"02020\": \"100\"}</td>\n",
       "      <td>Anchorage</td>\n",
       "      <td>2020</td>\n",
       "      <td>False</td>\n",
       "      <td>False</td>\n",
       "      <td>America/Anchorage</td>\n",
       "      <td>61.2007,-149.81448</td>\n",
       "    </tr>\n",
       "  </tbody>\n",
       "</table>\n",
       "<p>1301 rows × 17 columns</p>\n",
       "</div>"
      ],
      "text/plain": [
       "      Zip Code Official USPS city name Official USPS State Code  \\\n",
       "15       32224            Jacksonville                       FL   \n",
       "32       33634                   Tampa                       FL   \n",
       "38       34698                 Dunedin                       FL   \n",
       "136      43204                Columbus                       OH   \n",
       "191      46203            Indianapolis                       IN   \n",
       "...        ...                     ...                      ...   \n",
       "33000    22204               Arlington                       VA   \n",
       "33010    23602            Newport News                       VA   \n",
       "33057    27705                  Durham                       NC   \n",
       "33098    30308                 Atlanta                       GA   \n",
       "33116    99508               Anchorage                       AK   \n",
       "\n",
       "      Official State Name  ZCTA  ZCTA parent  Population  Density  \\\n",
       "15                Florida  True          NaN     44058.0    803.8   \n",
       "32                Florida  True          NaN     22719.0   1069.3   \n",
       "38                Florida  True          NaN     38720.0   1463.7   \n",
       "136                  Ohio  True          NaN     42796.0   1837.5   \n",
       "191               Indiana  True          NaN     38581.0   1076.1   \n",
       "...                   ...   ...          ...         ...      ...   \n",
       "33000            Virginia  True          NaN     54617.0   5117.9   \n",
       "33010            Virginia  True          NaN     38821.0   1117.9   \n",
       "33057      North Carolina  True          NaN     49508.0    436.5   \n",
       "33098             Georgia  True          NaN     18839.0   4561.5   \n",
       "33116              Alaska  True          NaN     36560.0   2033.6   \n",
       "\n",
       "       Primary Official County Code Primary Official County Name  \\\n",
       "15                            12031                        Duval   \n",
       "32                            12057                 Hillsborough   \n",
       "38                            12103                     Pinellas   \n",
       "136                           39049                     Franklin   \n",
       "191                           18097                       Marion   \n",
       "...                             ...                          ...   \n",
       "33000                         51013                    Arlington   \n",
       "33010                         51700                 Newport News   \n",
       "33057                         37063                       Durham   \n",
       "33098                         13121                       Fulton   \n",
       "33116                          2020                    Anchorage   \n",
       "\n",
       "                            County Weights Official County Name  \\\n",
       "15     {\"12031\": \"99.89\", \"12109\": \"0.11\"}      Duval|St. Johns   \n",
       "32                        {\"12057\": \"100\"}         Hillsborough   \n",
       "38                        {\"12103\": \"100\"}             Pinellas   \n",
       "136                       {\"39049\": \"100\"}             Franklin   \n",
       "191                       {\"18097\": \"100\"}               Marion   \n",
       "...                                    ...                  ...   \n",
       "33000                     {\"51013\": \"100\"}            Arlington   \n",
       "33010  {\"51700\": \"99.76\", \"51199\": \"0.24\"}    Newport News|York   \n",
       "33057  {\"37063\": \"90.43\", \"37135\": \"9.57\"}        Durham|Orange   \n",
       "33098                     {\"13121\": \"100\"}               Fulton   \n",
       "33116                     {\"02020\": \"100\"}            Anchorage   \n",
       "\n",
       "      Official County Code  Imprecise  Military                      Timezone  \\\n",
       "15             12031|12109      False     False              America/New_York   \n",
       "32                   12057      False     False              America/New_York   \n",
       "38                   12103      False     False              America/New_York   \n",
       "136                  39049      False     False              America/New_York   \n",
       "191                  18097      False     False  America/Indiana/Indianapolis   \n",
       "...                    ...        ...       ...                           ...   \n",
       "33000                51013      False     False              America/New_York   \n",
       "33010          51700|51199      False     False              America/New_York   \n",
       "33057          37063|37135      False     False              America/New_York   \n",
       "33098                13121      False     False              America/New_York   \n",
       "33116                 2020      False     False             America/Anchorage   \n",
       "\n",
       "                Geo Point  \n",
       "15     30.27027,-81.46796  \n",
       "32     28.00884,-82.54618  \n",
       "38     28.03399,-82.77961  \n",
       "136     39.96136,-83.0816  \n",
       "191     39.73761,-86.0969  \n",
       "...                   ...  \n",
       "33000  38.86083,-77.09894  \n",
       "33010   37.1148,-76.51582  \n",
       "33057  36.02698,-78.98065  \n",
       "33098   33.77121,-84.3781  \n",
       "33116  61.2007,-149.81448  \n",
       "\n",
       "[1301 rows x 17 columns]"
      ]
     },
     "execution_count": 10,
     "metadata": {},
     "output_type": "execute_result"
    }
   ],
   "source": [
    "zips_geo_df"
   ]
  },
  {
   "cell_type": "code",
   "execution_count": 7,
   "id": "da29db36-af6d-40d4-a3ce-e9e55888047a",
   "metadata": {},
   "outputs": [],
   "source": [
    "XGB_resids_auto_only_df=pd.read_csv('../../data/residuals_XGB-zri_minmax.csv', \n",
    "                      dtype={'zip': str})"
   ]
  },
  {
   "cell_type": "code",
   "execution_count": 8,
   "id": "ed2311ac-2f5c-4a5d-8985-4e6d77914ed2",
   "metadata": {},
   "outputs": [],
   "source": [
    "XGB_resids_auto_only_df['zip'] = XGB_resids_auto_only_df['zip'].map(lambda x: '0' + x if len(x) < 5 else x)"
   ]
  },
  {
   "cell_type": "code",
   "execution_count": 9,
   "id": "ac604732-8af2-4a5e-a37e-260f6ae84434",
   "metadata": {},
   "outputs": [],
   "source": [
    "XGB_resids_auto_only_df['residual']=XGB_resids_auto_only_df['zri_predict']-XGB_resids_auto_only_df['zri_actual']\n",
    "XGB_resids_auto_only_df['residual_squared']=XGB_resids_auto_only_df['residual'].map(lambda x: x**2)\n",
    "rmse_table=XGB_resids_auto_only_df.groupby('zip')[['residual_squared']].agg(['sum','count'])\n",
    "rmse_table['residual_avgd']=rmse_table['residual_squared']['sum']/rmse_table['residual_squared']['count']\n",
    "rmse_table['residual_avgd']=rmse_table['residual_avgd'].apply(lambda x: x**0.5)\n",
    "rmse_XGB_resids_auto_only_df = rmse_table[['residual_avgd']].reset_index().rename(columns={'residual_avgd': \"RMSE\"})\n"
   ]
  },
  {
   "cell_type": "code",
   "execution_count": 21,
   "id": "468f2889-5d0b-40ad-8669-3d0bdc5c9909",
   "metadata": {},
   "outputs": [],
   "source": [
    "rmse_XGB_resids_auto_only_df.columns = ['zip', 'rmse']"
   ]
  },
  {
   "cell_type": "code",
   "execution_count": 22,
   "id": "cf59cb63-85fc-4ff1-96b0-aaf75c5a4e84",
   "metadata": {},
   "outputs": [],
   "source": [
    "zip_county_merged = rmse_XGB_resids_auto_only_df.merge(zips_geo_df,\n",
    "                                                       how= 'left', \n",
    "                                                       left_on= \"zip\", \n",
    "                                                       right_on = \"Zip Code\")"
   ]
  },
  {
   "cell_type": "code",
   "execution_count": 23,
   "id": "604c0c1b-b2ad-4ec1-8e57-45afc1f72d9c",
   "metadata": {},
   "outputs": [
    {
     "data": {
      "text/html": [
       "<div>\n",
       "<style scoped>\n",
       "    .dataframe tbody tr th:only-of-type {\n",
       "        vertical-align: middle;\n",
       "    }\n",
       "\n",
       "    .dataframe tbody tr th {\n",
       "        vertical-align: top;\n",
       "    }\n",
       "\n",
       "    .dataframe thead th {\n",
       "        text-align: right;\n",
       "    }\n",
       "</style>\n",
       "<table border=\"1\" class=\"dataframe\">\n",
       "  <thead>\n",
       "    <tr style=\"text-align: right;\">\n",
       "      <th></th>\n",
       "      <th>zip</th>\n",
       "      <th>rmse</th>\n",
       "      <th>Zip Code</th>\n",
       "      <th>Official USPS city name</th>\n",
       "      <th>Official USPS State Code</th>\n",
       "      <th>Official State Name</th>\n",
       "      <th>ZCTA</th>\n",
       "      <th>ZCTA parent</th>\n",
       "      <th>Population</th>\n",
       "      <th>Density</th>\n",
       "      <th>Primary Official County Code</th>\n",
       "      <th>Primary Official County Name</th>\n",
       "      <th>County Weights</th>\n",
       "      <th>Official County Name</th>\n",
       "      <th>Official County Code</th>\n",
       "      <th>Imprecise</th>\n",
       "      <th>Military</th>\n",
       "      <th>Timezone</th>\n",
       "      <th>Geo Point</th>\n",
       "    </tr>\n",
       "  </thead>\n",
       "  <tbody>\n",
       "    <tr>\n",
       "      <th>0</th>\n",
       "      <td>01013</td>\n",
       "      <td>24.671651</td>\n",
       "      <td>01013</td>\n",
       "      <td>Chicopee</td>\n",
       "      <td>MA</td>\n",
       "      <td>Massachusetts</td>\n",
       "      <td>True</td>\n",
       "      <td>NaN</td>\n",
       "      <td>22733.0</td>\n",
       "      <td>1558.3</td>\n",
       "      <td>25013</td>\n",
       "      <td>Hampden</td>\n",
       "      <td>{\"25013\": \"100\"}</td>\n",
       "      <td>Hampden</td>\n",
       "      <td>25013</td>\n",
       "      <td>False</td>\n",
       "      <td>False</td>\n",
       "      <td>America/New_York</td>\n",
       "      <td>42.1595,-72.60825</td>\n",
       "    </tr>\n",
       "    <tr>\n",
       "      <th>1</th>\n",
       "      <td>01020</td>\n",
       "      <td>41.318925</td>\n",
       "      <td>01020</td>\n",
       "      <td>Chicopee</td>\n",
       "      <td>MA</td>\n",
       "      <td>Massachusetts</td>\n",
       "      <td>True</td>\n",
       "      <td>NaN</td>\n",
       "      <td>30108.0</td>\n",
       "      <td>928.1</td>\n",
       "      <td>25013</td>\n",
       "      <td>Hampden</td>\n",
       "      <td>{\"25013\": \"100\"}</td>\n",
       "      <td>Hampden</td>\n",
       "      <td>25013</td>\n",
       "      <td>False</td>\n",
       "      <td>False</td>\n",
       "      <td>America/New_York</td>\n",
       "      <td>42.17637,-72.56538</td>\n",
       "    </tr>\n",
       "    <tr>\n",
       "      <th>2</th>\n",
       "      <td>01040</td>\n",
       "      <td>42.089509</td>\n",
       "      <td>01040</td>\n",
       "      <td>Holyoke</td>\n",
       "      <td>MA</td>\n",
       "      <td>Massachusetts</td>\n",
       "      <td>True</td>\n",
       "      <td>NaN</td>\n",
       "      <td>40241.0</td>\n",
       "      <td>734.1</td>\n",
       "      <td>25013</td>\n",
       "      <td>Hampden</td>\n",
       "      <td>{\"25013\": \"100\"}</td>\n",
       "      <td>Hampden</td>\n",
       "      <td>25013</td>\n",
       "      <td>False</td>\n",
       "      <td>False</td>\n",
       "      <td>America/New_York</td>\n",
       "      <td>42.21256,-72.64107</td>\n",
       "    </tr>\n",
       "    <tr>\n",
       "      <th>3</th>\n",
       "      <td>01085</td>\n",
       "      <td>10.602525</td>\n",
       "      <td>01085</td>\n",
       "      <td>Westfield</td>\n",
       "      <td>MA</td>\n",
       "      <td>Massachusetts</td>\n",
       "      <td>True</td>\n",
       "      <td>NaN</td>\n",
       "      <td>41780.0</td>\n",
       "      <td>270.2</td>\n",
       "      <td>25013</td>\n",
       "      <td>Hampden</td>\n",
       "      <td>{\"25013\": \"100\"}</td>\n",
       "      <td>Hampden</td>\n",
       "      <td>25013</td>\n",
       "      <td>False</td>\n",
       "      <td>False</td>\n",
       "      <td>America/New_York</td>\n",
       "      <td>42.15371,-72.76958</td>\n",
       "    </tr>\n",
       "    <tr>\n",
       "      <th>4</th>\n",
       "      <td>01104</td>\n",
       "      <td>30.604603</td>\n",
       "      <td>01104</td>\n",
       "      <td>Springfield</td>\n",
       "      <td>MA</td>\n",
       "      <td>Massachusetts</td>\n",
       "      <td>True</td>\n",
       "      <td>NaN</td>\n",
       "      <td>23740.0</td>\n",
       "      <td>1757.3</td>\n",
       "      <td>25013</td>\n",
       "      <td>Hampden</td>\n",
       "      <td>{\"25013\": \"100\"}</td>\n",
       "      <td>Hampden</td>\n",
       "      <td>25013</td>\n",
       "      <td>False</td>\n",
       "      <td>False</td>\n",
       "      <td>America/New_York</td>\n",
       "      <td>42.13404,-72.56679</td>\n",
       "    </tr>\n",
       "    <tr>\n",
       "      <th>...</th>\n",
       "      <td>...</td>\n",
       "      <td>...</td>\n",
       "      <td>...</td>\n",
       "      <td>...</td>\n",
       "      <td>...</td>\n",
       "      <td>...</td>\n",
       "      <td>...</td>\n",
       "      <td>...</td>\n",
       "      <td>...</td>\n",
       "      <td>...</td>\n",
       "      <td>...</td>\n",
       "      <td>...</td>\n",
       "      <td>...</td>\n",
       "      <td>...</td>\n",
       "      <td>...</td>\n",
       "      <td>...</td>\n",
       "      <td>...</td>\n",
       "      <td>...</td>\n",
       "      <td>...</td>\n",
       "    </tr>\n",
       "    <tr>\n",
       "      <th>1296</th>\n",
       "      <td>99207</td>\n",
       "      <td>100.555839</td>\n",
       "      <td>99207</td>\n",
       "      <td>Spokane</td>\n",
       "      <td>WA</td>\n",
       "      <td>Washington</td>\n",
       "      <td>True</td>\n",
       "      <td>NaN</td>\n",
       "      <td>30411.0</td>\n",
       "      <td>2155.6</td>\n",
       "      <td>53063</td>\n",
       "      <td>Spokane</td>\n",
       "      <td>{\"53063\": \"100\"}</td>\n",
       "      <td>Spokane</td>\n",
       "      <td>53063</td>\n",
       "      <td>False</td>\n",
       "      <td>False</td>\n",
       "      <td>America/Los_Angeles</td>\n",
       "      <td>47.68889,-117.38782</td>\n",
       "    </tr>\n",
       "    <tr>\n",
       "      <th>1297</th>\n",
       "      <td>99501</td>\n",
       "      <td>49.905342</td>\n",
       "      <td>99501</td>\n",
       "      <td>Anchorage</td>\n",
       "      <td>AK</td>\n",
       "      <td>Alaska</td>\n",
       "      <td>True</td>\n",
       "      <td>NaN</td>\n",
       "      <td>16679.0</td>\n",
       "      <td>927.8</td>\n",
       "      <td>2020</td>\n",
       "      <td>Anchorage</td>\n",
       "      <td>{\"02020\": \"100\"}</td>\n",
       "      <td>Anchorage</td>\n",
       "      <td>2020</td>\n",
       "      <td>False</td>\n",
       "      <td>False</td>\n",
       "      <td>America/Anchorage</td>\n",
       "      <td>61.22035,-149.85702</td>\n",
       "    </tr>\n",
       "    <tr>\n",
       "      <th>1298</th>\n",
       "      <td>99504</td>\n",
       "      <td>56.971770</td>\n",
       "      <td>99504</td>\n",
       "      <td>Anchorage</td>\n",
       "      <td>AK</td>\n",
       "      <td>Alaska</td>\n",
       "      <td>True</td>\n",
       "      <td>NaN</td>\n",
       "      <td>42341.0</td>\n",
       "      <td>2566.5</td>\n",
       "      <td>2020</td>\n",
       "      <td>Anchorage</td>\n",
       "      <td>{\"02020\": \"100\"}</td>\n",
       "      <td>Anchorage</td>\n",
       "      <td>2020</td>\n",
       "      <td>False</td>\n",
       "      <td>False</td>\n",
       "      <td>America/Anchorage</td>\n",
       "      <td>61.20399,-149.74703</td>\n",
       "    </tr>\n",
       "    <tr>\n",
       "      <th>1299</th>\n",
       "      <td>99508</td>\n",
       "      <td>38.350270</td>\n",
       "      <td>99508</td>\n",
       "      <td>Anchorage</td>\n",
       "      <td>AK</td>\n",
       "      <td>Alaska</td>\n",
       "      <td>True</td>\n",
       "      <td>NaN</td>\n",
       "      <td>36560.0</td>\n",
       "      <td>2033.6</td>\n",
       "      <td>2020</td>\n",
       "      <td>Anchorage</td>\n",
       "      <td>{\"02020\": \"100\"}</td>\n",
       "      <td>Anchorage</td>\n",
       "      <td>2020</td>\n",
       "      <td>False</td>\n",
       "      <td>False</td>\n",
       "      <td>America/Anchorage</td>\n",
       "      <td>61.2007,-149.81448</td>\n",
       "    </tr>\n",
       "    <tr>\n",
       "      <th>1300</th>\n",
       "      <td>99654</td>\n",
       "      <td>76.483898</td>\n",
       "      <td>99654</td>\n",
       "      <td>Wasilla</td>\n",
       "      <td>AK</td>\n",
       "      <td>Alaska</td>\n",
       "      <td>True</td>\n",
       "      <td>NaN</td>\n",
       "      <td>64062.0</td>\n",
       "      <td>49.7</td>\n",
       "      <td>2170</td>\n",
       "      <td>Matanuska-Susitna</td>\n",
       "      <td>{\"02170\": \"100\"}</td>\n",
       "      <td>Matanuska-Susitna</td>\n",
       "      <td>2170</td>\n",
       "      <td>False</td>\n",
       "      <td>False</td>\n",
       "      <td>America/Anchorage</td>\n",
       "      <td>61.45483,-149.90046</td>\n",
       "    </tr>\n",
       "  </tbody>\n",
       "</table>\n",
       "<p>1301 rows × 19 columns</p>\n",
       "</div>"
      ],
      "text/plain": [
       "        zip        rmse Zip Code Official USPS city name  \\\n",
       "0     01013   24.671651    01013                Chicopee   \n",
       "1     01020   41.318925    01020                Chicopee   \n",
       "2     01040   42.089509    01040                 Holyoke   \n",
       "3     01085   10.602525    01085               Westfield   \n",
       "4     01104   30.604603    01104             Springfield   \n",
       "...     ...         ...      ...                     ...   \n",
       "1296  99207  100.555839    99207                 Spokane   \n",
       "1297  99501   49.905342    99501               Anchorage   \n",
       "1298  99504   56.971770    99504               Anchorage   \n",
       "1299  99508   38.350270    99508               Anchorage   \n",
       "1300  99654   76.483898    99654                 Wasilla   \n",
       "\n",
       "     Official USPS State Code Official State Name  ZCTA  ZCTA parent  \\\n",
       "0                          MA       Massachusetts  True          NaN   \n",
       "1                          MA       Massachusetts  True          NaN   \n",
       "2                          MA       Massachusetts  True          NaN   \n",
       "3                          MA       Massachusetts  True          NaN   \n",
       "4                          MA       Massachusetts  True          NaN   \n",
       "...                       ...                 ...   ...          ...   \n",
       "1296                       WA          Washington  True          NaN   \n",
       "1297                       AK              Alaska  True          NaN   \n",
       "1298                       AK              Alaska  True          NaN   \n",
       "1299                       AK              Alaska  True          NaN   \n",
       "1300                       AK              Alaska  True          NaN   \n",
       "\n",
       "      Population  Density  Primary Official County Code  \\\n",
       "0        22733.0   1558.3                         25013   \n",
       "1        30108.0    928.1                         25013   \n",
       "2        40241.0    734.1                         25013   \n",
       "3        41780.0    270.2                         25013   \n",
       "4        23740.0   1757.3                         25013   \n",
       "...          ...      ...                           ...   \n",
       "1296     30411.0   2155.6                         53063   \n",
       "1297     16679.0    927.8                          2020   \n",
       "1298     42341.0   2566.5                          2020   \n",
       "1299     36560.0   2033.6                          2020   \n",
       "1300     64062.0     49.7                          2170   \n",
       "\n",
       "     Primary Official County Name    County Weights Official County Name  \\\n",
       "0                         Hampden  {\"25013\": \"100\"}              Hampden   \n",
       "1                         Hampden  {\"25013\": \"100\"}              Hampden   \n",
       "2                         Hampden  {\"25013\": \"100\"}              Hampden   \n",
       "3                         Hampden  {\"25013\": \"100\"}              Hampden   \n",
       "4                         Hampden  {\"25013\": \"100\"}              Hampden   \n",
       "...                           ...               ...                  ...   \n",
       "1296                      Spokane  {\"53063\": \"100\"}              Spokane   \n",
       "1297                    Anchorage  {\"02020\": \"100\"}            Anchorage   \n",
       "1298                    Anchorage  {\"02020\": \"100\"}            Anchorage   \n",
       "1299                    Anchorage  {\"02020\": \"100\"}            Anchorage   \n",
       "1300            Matanuska-Susitna  {\"02170\": \"100\"}    Matanuska-Susitna   \n",
       "\n",
       "     Official County Code  Imprecise  Military             Timezone  \\\n",
       "0                   25013      False     False     America/New_York   \n",
       "1                   25013      False     False     America/New_York   \n",
       "2                   25013      False     False     America/New_York   \n",
       "3                   25013      False     False     America/New_York   \n",
       "4                   25013      False     False     America/New_York   \n",
       "...                   ...        ...       ...                  ...   \n",
       "1296                53063      False     False  America/Los_Angeles   \n",
       "1297                 2020      False     False    America/Anchorage   \n",
       "1298                 2020      False     False    America/Anchorage   \n",
       "1299                 2020      False     False    America/Anchorage   \n",
       "1300                 2170      False     False    America/Anchorage   \n",
       "\n",
       "                Geo Point  \n",
       "0       42.1595,-72.60825  \n",
       "1      42.17637,-72.56538  \n",
       "2      42.21256,-72.64107  \n",
       "3      42.15371,-72.76958  \n",
       "4      42.13404,-72.56679  \n",
       "...                   ...  \n",
       "1296  47.68889,-117.38782  \n",
       "1297  61.22035,-149.85702  \n",
       "1298  61.20399,-149.74703  \n",
       "1299   61.2007,-149.81448  \n",
       "1300  61.45483,-149.90046  \n",
       "\n",
       "[1301 rows x 19 columns]"
      ]
     },
     "execution_count": 23,
     "metadata": {},
     "output_type": "execute_result"
    }
   ],
   "source": [
    "zip_county_merged"
   ]
  },
  {
   "cell_type": "code",
   "execution_count": 46,
   "id": "3f3841ed-14a7-4ba6-aff6-b2528db09ad7",
   "metadata": {},
   "outputs": [],
   "source": [
    "# \n",
    "\n",
    "bins = pd.IntervalIndex.from_tuples([(0, 500), (500, 1000), (1000, 100000)])\n",
    "zip_county_merged['buckets'] = pd.cut(zip_county_merged['Density'], bins=[0, 500, 1000, 1000000], labels=['Rural', 'Suburban', 'Urban'])"
   ]
  },
  {
   "cell_type": "code",
   "execution_count": 47,
   "id": "67329dbf-3882-4268-aee7-a74817d2f6a3",
   "metadata": {},
   "outputs": [
    {
     "data": {
      "text/html": [
       "<div>\n",
       "<style scoped>\n",
       "    .dataframe tbody tr th:only-of-type {\n",
       "        vertical-align: middle;\n",
       "    }\n",
       "\n",
       "    .dataframe tbody tr th {\n",
       "        vertical-align: top;\n",
       "    }\n",
       "\n",
       "    .dataframe thead th {\n",
       "        text-align: right;\n",
       "    }\n",
       "</style>\n",
       "<table border=\"1\" class=\"dataframe\">\n",
       "  <thead>\n",
       "    <tr style=\"text-align: right;\">\n",
       "      <th></th>\n",
       "      <th>zip</th>\n",
       "      <th>rmse</th>\n",
       "      <th>Zip Code</th>\n",
       "      <th>Official USPS city name</th>\n",
       "      <th>Official USPS State Code</th>\n",
       "      <th>Official State Name</th>\n",
       "      <th>ZCTA</th>\n",
       "      <th>ZCTA parent</th>\n",
       "      <th>Population</th>\n",
       "      <th>Density</th>\n",
       "      <th>Primary Official County Code</th>\n",
       "      <th>Primary Official County Name</th>\n",
       "      <th>County Weights</th>\n",
       "      <th>Official County Name</th>\n",
       "      <th>Official County Code</th>\n",
       "      <th>Imprecise</th>\n",
       "      <th>Military</th>\n",
       "      <th>Timezone</th>\n",
       "      <th>Geo Point</th>\n",
       "      <th>buckets</th>\n",
       "    </tr>\n",
       "  </thead>\n",
       "  <tbody>\n",
       "    <tr>\n",
       "      <th>0</th>\n",
       "      <td>01013</td>\n",
       "      <td>24.671651</td>\n",
       "      <td>01013</td>\n",
       "      <td>Chicopee</td>\n",
       "      <td>MA</td>\n",
       "      <td>Massachusetts</td>\n",
       "      <td>True</td>\n",
       "      <td>NaN</td>\n",
       "      <td>22733.0</td>\n",
       "      <td>1558.3</td>\n",
       "      <td>25013</td>\n",
       "      <td>Hampden</td>\n",
       "      <td>{\"25013\": \"100\"}</td>\n",
       "      <td>Hampden</td>\n",
       "      <td>25013</td>\n",
       "      <td>False</td>\n",
       "      <td>False</td>\n",
       "      <td>America/New_York</td>\n",
       "      <td>42.1595,-72.60825</td>\n",
       "      <td>Urban</td>\n",
       "    </tr>\n",
       "    <tr>\n",
       "      <th>1</th>\n",
       "      <td>01020</td>\n",
       "      <td>41.318925</td>\n",
       "      <td>01020</td>\n",
       "      <td>Chicopee</td>\n",
       "      <td>MA</td>\n",
       "      <td>Massachusetts</td>\n",
       "      <td>True</td>\n",
       "      <td>NaN</td>\n",
       "      <td>30108.0</td>\n",
       "      <td>928.1</td>\n",
       "      <td>25013</td>\n",
       "      <td>Hampden</td>\n",
       "      <td>{\"25013\": \"100\"}</td>\n",
       "      <td>Hampden</td>\n",
       "      <td>25013</td>\n",
       "      <td>False</td>\n",
       "      <td>False</td>\n",
       "      <td>America/New_York</td>\n",
       "      <td>42.17637,-72.56538</td>\n",
       "      <td>Suburban</td>\n",
       "    </tr>\n",
       "    <tr>\n",
       "      <th>2</th>\n",
       "      <td>01040</td>\n",
       "      <td>42.089509</td>\n",
       "      <td>01040</td>\n",
       "      <td>Holyoke</td>\n",
       "      <td>MA</td>\n",
       "      <td>Massachusetts</td>\n",
       "      <td>True</td>\n",
       "      <td>NaN</td>\n",
       "      <td>40241.0</td>\n",
       "      <td>734.1</td>\n",
       "      <td>25013</td>\n",
       "      <td>Hampden</td>\n",
       "      <td>{\"25013\": \"100\"}</td>\n",
       "      <td>Hampden</td>\n",
       "      <td>25013</td>\n",
       "      <td>False</td>\n",
       "      <td>False</td>\n",
       "      <td>America/New_York</td>\n",
       "      <td>42.21256,-72.64107</td>\n",
       "      <td>Suburban</td>\n",
       "    </tr>\n",
       "    <tr>\n",
       "      <th>3</th>\n",
       "      <td>01085</td>\n",
       "      <td>10.602525</td>\n",
       "      <td>01085</td>\n",
       "      <td>Westfield</td>\n",
       "      <td>MA</td>\n",
       "      <td>Massachusetts</td>\n",
       "      <td>True</td>\n",
       "      <td>NaN</td>\n",
       "      <td>41780.0</td>\n",
       "      <td>270.2</td>\n",
       "      <td>25013</td>\n",
       "      <td>Hampden</td>\n",
       "      <td>{\"25013\": \"100\"}</td>\n",
       "      <td>Hampden</td>\n",
       "      <td>25013</td>\n",
       "      <td>False</td>\n",
       "      <td>False</td>\n",
       "      <td>America/New_York</td>\n",
       "      <td>42.15371,-72.76958</td>\n",
       "      <td>Rural</td>\n",
       "    </tr>\n",
       "    <tr>\n",
       "      <th>4</th>\n",
       "      <td>01104</td>\n",
       "      <td>30.604603</td>\n",
       "      <td>01104</td>\n",
       "      <td>Springfield</td>\n",
       "      <td>MA</td>\n",
       "      <td>Massachusetts</td>\n",
       "      <td>True</td>\n",
       "      <td>NaN</td>\n",
       "      <td>23740.0</td>\n",
       "      <td>1757.3</td>\n",
       "      <td>25013</td>\n",
       "      <td>Hampden</td>\n",
       "      <td>{\"25013\": \"100\"}</td>\n",
       "      <td>Hampden</td>\n",
       "      <td>25013</td>\n",
       "      <td>False</td>\n",
       "      <td>False</td>\n",
       "      <td>America/New_York</td>\n",
       "      <td>42.13404,-72.56679</td>\n",
       "      <td>Urban</td>\n",
       "    </tr>\n",
       "    <tr>\n",
       "      <th>...</th>\n",
       "      <td>...</td>\n",
       "      <td>...</td>\n",
       "      <td>...</td>\n",
       "      <td>...</td>\n",
       "      <td>...</td>\n",
       "      <td>...</td>\n",
       "      <td>...</td>\n",
       "      <td>...</td>\n",
       "      <td>...</td>\n",
       "      <td>...</td>\n",
       "      <td>...</td>\n",
       "      <td>...</td>\n",
       "      <td>...</td>\n",
       "      <td>...</td>\n",
       "      <td>...</td>\n",
       "      <td>...</td>\n",
       "      <td>...</td>\n",
       "      <td>...</td>\n",
       "      <td>...</td>\n",
       "      <td>...</td>\n",
       "    </tr>\n",
       "    <tr>\n",
       "      <th>1296</th>\n",
       "      <td>99207</td>\n",
       "      <td>100.555839</td>\n",
       "      <td>99207</td>\n",
       "      <td>Spokane</td>\n",
       "      <td>WA</td>\n",
       "      <td>Washington</td>\n",
       "      <td>True</td>\n",
       "      <td>NaN</td>\n",
       "      <td>30411.0</td>\n",
       "      <td>2155.6</td>\n",
       "      <td>53063</td>\n",
       "      <td>Spokane</td>\n",
       "      <td>{\"53063\": \"100\"}</td>\n",
       "      <td>Spokane</td>\n",
       "      <td>53063</td>\n",
       "      <td>False</td>\n",
       "      <td>False</td>\n",
       "      <td>America/Los_Angeles</td>\n",
       "      <td>47.68889,-117.38782</td>\n",
       "      <td>Urban</td>\n",
       "    </tr>\n",
       "    <tr>\n",
       "      <th>1297</th>\n",
       "      <td>99501</td>\n",
       "      <td>49.905342</td>\n",
       "      <td>99501</td>\n",
       "      <td>Anchorage</td>\n",
       "      <td>AK</td>\n",
       "      <td>Alaska</td>\n",
       "      <td>True</td>\n",
       "      <td>NaN</td>\n",
       "      <td>16679.0</td>\n",
       "      <td>927.8</td>\n",
       "      <td>2020</td>\n",
       "      <td>Anchorage</td>\n",
       "      <td>{\"02020\": \"100\"}</td>\n",
       "      <td>Anchorage</td>\n",
       "      <td>2020</td>\n",
       "      <td>False</td>\n",
       "      <td>False</td>\n",
       "      <td>America/Anchorage</td>\n",
       "      <td>61.22035,-149.85702</td>\n",
       "      <td>Suburban</td>\n",
       "    </tr>\n",
       "    <tr>\n",
       "      <th>1298</th>\n",
       "      <td>99504</td>\n",
       "      <td>56.971770</td>\n",
       "      <td>99504</td>\n",
       "      <td>Anchorage</td>\n",
       "      <td>AK</td>\n",
       "      <td>Alaska</td>\n",
       "      <td>True</td>\n",
       "      <td>NaN</td>\n",
       "      <td>42341.0</td>\n",
       "      <td>2566.5</td>\n",
       "      <td>2020</td>\n",
       "      <td>Anchorage</td>\n",
       "      <td>{\"02020\": \"100\"}</td>\n",
       "      <td>Anchorage</td>\n",
       "      <td>2020</td>\n",
       "      <td>False</td>\n",
       "      <td>False</td>\n",
       "      <td>America/Anchorage</td>\n",
       "      <td>61.20399,-149.74703</td>\n",
       "      <td>Urban</td>\n",
       "    </tr>\n",
       "    <tr>\n",
       "      <th>1299</th>\n",
       "      <td>99508</td>\n",
       "      <td>38.350270</td>\n",
       "      <td>99508</td>\n",
       "      <td>Anchorage</td>\n",
       "      <td>AK</td>\n",
       "      <td>Alaska</td>\n",
       "      <td>True</td>\n",
       "      <td>NaN</td>\n",
       "      <td>36560.0</td>\n",
       "      <td>2033.6</td>\n",
       "      <td>2020</td>\n",
       "      <td>Anchorage</td>\n",
       "      <td>{\"02020\": \"100\"}</td>\n",
       "      <td>Anchorage</td>\n",
       "      <td>2020</td>\n",
       "      <td>False</td>\n",
       "      <td>False</td>\n",
       "      <td>America/Anchorage</td>\n",
       "      <td>61.2007,-149.81448</td>\n",
       "      <td>Urban</td>\n",
       "    </tr>\n",
       "    <tr>\n",
       "      <th>1300</th>\n",
       "      <td>99654</td>\n",
       "      <td>76.483898</td>\n",
       "      <td>99654</td>\n",
       "      <td>Wasilla</td>\n",
       "      <td>AK</td>\n",
       "      <td>Alaska</td>\n",
       "      <td>True</td>\n",
       "      <td>NaN</td>\n",
       "      <td>64062.0</td>\n",
       "      <td>49.7</td>\n",
       "      <td>2170</td>\n",
       "      <td>Matanuska-Susitna</td>\n",
       "      <td>{\"02170\": \"100\"}</td>\n",
       "      <td>Matanuska-Susitna</td>\n",
       "      <td>2170</td>\n",
       "      <td>False</td>\n",
       "      <td>False</td>\n",
       "      <td>America/Anchorage</td>\n",
       "      <td>61.45483,-149.90046</td>\n",
       "      <td>Rural</td>\n",
       "    </tr>\n",
       "  </tbody>\n",
       "</table>\n",
       "<p>1301 rows × 20 columns</p>\n",
       "</div>"
      ],
      "text/plain": [
       "        zip        rmse Zip Code Official USPS city name  \\\n",
       "0     01013   24.671651    01013                Chicopee   \n",
       "1     01020   41.318925    01020                Chicopee   \n",
       "2     01040   42.089509    01040                 Holyoke   \n",
       "3     01085   10.602525    01085               Westfield   \n",
       "4     01104   30.604603    01104             Springfield   \n",
       "...     ...         ...      ...                     ...   \n",
       "1296  99207  100.555839    99207                 Spokane   \n",
       "1297  99501   49.905342    99501               Anchorage   \n",
       "1298  99504   56.971770    99504               Anchorage   \n",
       "1299  99508   38.350270    99508               Anchorage   \n",
       "1300  99654   76.483898    99654                 Wasilla   \n",
       "\n",
       "     Official USPS State Code Official State Name  ZCTA  ZCTA parent  \\\n",
       "0                          MA       Massachusetts  True          NaN   \n",
       "1                          MA       Massachusetts  True          NaN   \n",
       "2                          MA       Massachusetts  True          NaN   \n",
       "3                          MA       Massachusetts  True          NaN   \n",
       "4                          MA       Massachusetts  True          NaN   \n",
       "...                       ...                 ...   ...          ...   \n",
       "1296                       WA          Washington  True          NaN   \n",
       "1297                       AK              Alaska  True          NaN   \n",
       "1298                       AK              Alaska  True          NaN   \n",
       "1299                       AK              Alaska  True          NaN   \n",
       "1300                       AK              Alaska  True          NaN   \n",
       "\n",
       "      Population  Density  Primary Official County Code  \\\n",
       "0        22733.0   1558.3                         25013   \n",
       "1        30108.0    928.1                         25013   \n",
       "2        40241.0    734.1                         25013   \n",
       "3        41780.0    270.2                         25013   \n",
       "4        23740.0   1757.3                         25013   \n",
       "...          ...      ...                           ...   \n",
       "1296     30411.0   2155.6                         53063   \n",
       "1297     16679.0    927.8                          2020   \n",
       "1298     42341.0   2566.5                          2020   \n",
       "1299     36560.0   2033.6                          2020   \n",
       "1300     64062.0     49.7                          2170   \n",
       "\n",
       "     Primary Official County Name    County Weights Official County Name  \\\n",
       "0                         Hampden  {\"25013\": \"100\"}              Hampden   \n",
       "1                         Hampden  {\"25013\": \"100\"}              Hampden   \n",
       "2                         Hampden  {\"25013\": \"100\"}              Hampden   \n",
       "3                         Hampden  {\"25013\": \"100\"}              Hampden   \n",
       "4                         Hampden  {\"25013\": \"100\"}              Hampden   \n",
       "...                           ...               ...                  ...   \n",
       "1296                      Spokane  {\"53063\": \"100\"}              Spokane   \n",
       "1297                    Anchorage  {\"02020\": \"100\"}            Anchorage   \n",
       "1298                    Anchorage  {\"02020\": \"100\"}            Anchorage   \n",
       "1299                    Anchorage  {\"02020\": \"100\"}            Anchorage   \n",
       "1300            Matanuska-Susitna  {\"02170\": \"100\"}    Matanuska-Susitna   \n",
       "\n",
       "     Official County Code  Imprecise  Military             Timezone  \\\n",
       "0                   25013      False     False     America/New_York   \n",
       "1                   25013      False     False     America/New_York   \n",
       "2                   25013      False     False     America/New_York   \n",
       "3                   25013      False     False     America/New_York   \n",
       "4                   25013      False     False     America/New_York   \n",
       "...                   ...        ...       ...                  ...   \n",
       "1296                53063      False     False  America/Los_Angeles   \n",
       "1297                 2020      False     False    America/Anchorage   \n",
       "1298                 2020      False     False    America/Anchorage   \n",
       "1299                 2020      False     False    America/Anchorage   \n",
       "1300                 2170      False     False    America/Anchorage   \n",
       "\n",
       "                Geo Point   buckets  \n",
       "0       42.1595,-72.60825     Urban  \n",
       "1      42.17637,-72.56538  Suburban  \n",
       "2      42.21256,-72.64107  Suburban  \n",
       "3      42.15371,-72.76958     Rural  \n",
       "4      42.13404,-72.56679     Urban  \n",
       "...                   ...       ...  \n",
       "1296  47.68889,-117.38782     Urban  \n",
       "1297  61.22035,-149.85702  Suburban  \n",
       "1298  61.20399,-149.74703     Urban  \n",
       "1299   61.2007,-149.81448     Urban  \n",
       "1300  61.45483,-149.90046     Rural  \n",
       "\n",
       "[1301 rows x 20 columns]"
      ]
     },
     "execution_count": 47,
     "metadata": {},
     "output_type": "execute_result"
    }
   ],
   "source": [
    "zip_county_merged"
   ]
  },
  {
   "cell_type": "code",
   "execution_count": 57,
   "id": "4de32130-6236-4461-a91f-ab836b78f91c",
   "metadata": {},
   "outputs": [],
   "source": [
    "zip_buckets = zip_county_merged.groupby('buckets').agg(mean = ('rmse', 'mean'))"
   ]
  },
  {
   "cell_type": "code",
   "execution_count": 58,
   "id": "b74666f3-5f28-42e4-896a-fa873f853f7a",
   "metadata": {},
   "outputs": [
    {
     "data": {
      "text/html": [
       "<div>\n",
       "<style scoped>\n",
       "    .dataframe tbody tr th:only-of-type {\n",
       "        vertical-align: middle;\n",
       "    }\n",
       "\n",
       "    .dataframe tbody tr th {\n",
       "        vertical-align: top;\n",
       "    }\n",
       "\n",
       "    .dataframe thead th {\n",
       "        text-align: right;\n",
       "    }\n",
       "</style>\n",
       "<table border=\"1\" class=\"dataframe\">\n",
       "  <thead>\n",
       "    <tr style=\"text-align: right;\">\n",
       "      <th></th>\n",
       "      <th>mean</th>\n",
       "    </tr>\n",
       "    <tr>\n",
       "      <th>buckets</th>\n",
       "      <th></th>\n",
       "    </tr>\n",
       "  </thead>\n",
       "  <tbody>\n",
       "    <tr>\n",
       "      <th>Rural</th>\n",
       "      <td>45.625982</td>\n",
       "    </tr>\n",
       "    <tr>\n",
       "      <th>Suburban</th>\n",
       "      <td>41.690857</td>\n",
       "    </tr>\n",
       "    <tr>\n",
       "      <th>Urban</th>\n",
       "      <td>56.376988</td>\n",
       "    </tr>\n",
       "  </tbody>\n",
       "</table>\n",
       "</div>"
      ],
      "text/plain": [
       "               mean\n",
       "buckets            \n",
       "Rural     45.625982\n",
       "Suburban  41.690857\n",
       "Urban     56.376988"
      ]
     },
     "execution_count": 58,
     "metadata": {},
     "output_type": "execute_result"
    }
   ],
   "source": [
    "zip_buckets"
   ]
  },
  {
   "cell_type": "code",
   "execution_count": 63,
   "id": "40fe68bc-3ae8-4020-87dc-d514a601e031",
   "metadata": {},
   "outputs": [
    {
     "data": {
      "application/vnd.plotly.v1+json": {
       "config": {
        "plotlyServerURL": "https://plot.ly"
       },
       "data": [
        {
         "alignmentgroup": "True",
         "hovertemplate": "buckets=%{x}<br>mean=%{y}<extra></extra>",
         "legendgroup": "",
         "marker": {
          "color": "#636efa"
         },
         "name": "",
         "offsetgroup": "",
         "orientation": "v",
         "showlegend": false,
         "textposition": "auto",
         "type": "bar",
         "x": [
          "Rural",
          "Suburban",
          "Urban"
         ],
         "xaxis": "x",
         "y": [
          45.62598210600084,
          41.69085719954566,
          56.376987571089124
         ],
         "yaxis": "y"
        }
       ],
       "layout": {
        "autosize": true,
        "barmode": "relative",
        "legend": {
         "tracegroupgap": 0
        },
        "margin": {
         "t": 60
        },
        "template": {
         "data": {
          "bar": [
           {
            "error_x": {
             "color": "#2a3f5f"
            },
            "error_y": {
             "color": "#2a3f5f"
            },
            "marker": {
             "line": {
              "color": "#E5ECF6",
              "width": 0.5
             }
            },
            "type": "bar"
           }
          ],
          "barpolar": [
           {
            "marker": {
             "line": {
              "color": "#E5ECF6",
              "width": 0.5
             }
            },
            "type": "barpolar"
           }
          ],
          "carpet": [
           {
            "aaxis": {
             "endlinecolor": "#2a3f5f",
             "gridcolor": "white",
             "linecolor": "white",
             "minorgridcolor": "white",
             "startlinecolor": "#2a3f5f"
            },
            "baxis": {
             "endlinecolor": "#2a3f5f",
             "gridcolor": "white",
             "linecolor": "white",
             "minorgridcolor": "white",
             "startlinecolor": "#2a3f5f"
            },
            "type": "carpet"
           }
          ],
          "choropleth": [
           {
            "colorbar": {
             "outlinewidth": 0,
             "ticks": ""
            },
            "type": "choropleth"
           }
          ],
          "contour": [
           {
            "colorbar": {
             "outlinewidth": 0,
             "ticks": ""
            },
            "colorscale": [
             [
              0,
              "#0d0887"
             ],
             [
              0.1111111111111111,
              "#46039f"
             ],
             [
              0.2222222222222222,
              "#7201a8"
             ],
             [
              0.3333333333333333,
              "#9c179e"
             ],
             [
              0.4444444444444444,
              "#bd3786"
             ],
             [
              0.5555555555555556,
              "#d8576b"
             ],
             [
              0.6666666666666666,
              "#ed7953"
             ],
             [
              0.7777777777777778,
              "#fb9f3a"
             ],
             [
              0.8888888888888888,
              "#fdca26"
             ],
             [
              1,
              "#f0f921"
             ]
            ],
            "type": "contour"
           }
          ],
          "contourcarpet": [
           {
            "colorbar": {
             "outlinewidth": 0,
             "ticks": ""
            },
            "type": "contourcarpet"
           }
          ],
          "heatmap": [
           {
            "colorbar": {
             "outlinewidth": 0,
             "ticks": ""
            },
            "colorscale": [
             [
              0,
              "#0d0887"
             ],
             [
              0.1111111111111111,
              "#46039f"
             ],
             [
              0.2222222222222222,
              "#7201a8"
             ],
             [
              0.3333333333333333,
              "#9c179e"
             ],
             [
              0.4444444444444444,
              "#bd3786"
             ],
             [
              0.5555555555555556,
              "#d8576b"
             ],
             [
              0.6666666666666666,
              "#ed7953"
             ],
             [
              0.7777777777777778,
              "#fb9f3a"
             ],
             [
              0.8888888888888888,
              "#fdca26"
             ],
             [
              1,
              "#f0f921"
             ]
            ],
            "type": "heatmap"
           }
          ],
          "heatmapgl": [
           {
            "colorbar": {
             "outlinewidth": 0,
             "ticks": ""
            },
            "colorscale": [
             [
              0,
              "#0d0887"
             ],
             [
              0.1111111111111111,
              "#46039f"
             ],
             [
              0.2222222222222222,
              "#7201a8"
             ],
             [
              0.3333333333333333,
              "#9c179e"
             ],
             [
              0.4444444444444444,
              "#bd3786"
             ],
             [
              0.5555555555555556,
              "#d8576b"
             ],
             [
              0.6666666666666666,
              "#ed7953"
             ],
             [
              0.7777777777777778,
              "#fb9f3a"
             ],
             [
              0.8888888888888888,
              "#fdca26"
             ],
             [
              1,
              "#f0f921"
             ]
            ],
            "type": "heatmapgl"
           }
          ],
          "histogram": [
           {
            "marker": {
             "colorbar": {
              "outlinewidth": 0,
              "ticks": ""
             }
            },
            "type": "histogram"
           }
          ],
          "histogram2d": [
           {
            "colorbar": {
             "outlinewidth": 0,
             "ticks": ""
            },
            "colorscale": [
             [
              0,
              "#0d0887"
             ],
             [
              0.1111111111111111,
              "#46039f"
             ],
             [
              0.2222222222222222,
              "#7201a8"
             ],
             [
              0.3333333333333333,
              "#9c179e"
             ],
             [
              0.4444444444444444,
              "#bd3786"
             ],
             [
              0.5555555555555556,
              "#d8576b"
             ],
             [
              0.6666666666666666,
              "#ed7953"
             ],
             [
              0.7777777777777778,
              "#fb9f3a"
             ],
             [
              0.8888888888888888,
              "#fdca26"
             ],
             [
              1,
              "#f0f921"
             ]
            ],
            "type": "histogram2d"
           }
          ],
          "histogram2dcontour": [
           {
            "colorbar": {
             "outlinewidth": 0,
             "ticks": ""
            },
            "colorscale": [
             [
              0,
              "#0d0887"
             ],
             [
              0.1111111111111111,
              "#46039f"
             ],
             [
              0.2222222222222222,
              "#7201a8"
             ],
             [
              0.3333333333333333,
              "#9c179e"
             ],
             [
              0.4444444444444444,
              "#bd3786"
             ],
             [
              0.5555555555555556,
              "#d8576b"
             ],
             [
              0.6666666666666666,
              "#ed7953"
             ],
             [
              0.7777777777777778,
              "#fb9f3a"
             ],
             [
              0.8888888888888888,
              "#fdca26"
             ],
             [
              1,
              "#f0f921"
             ]
            ],
            "type": "histogram2dcontour"
           }
          ],
          "mesh3d": [
           {
            "colorbar": {
             "outlinewidth": 0,
             "ticks": ""
            },
            "type": "mesh3d"
           }
          ],
          "parcoords": [
           {
            "line": {
             "colorbar": {
              "outlinewidth": 0,
              "ticks": ""
             }
            },
            "type": "parcoords"
           }
          ],
          "pie": [
           {
            "automargin": true,
            "type": "pie"
           }
          ],
          "scatter": [
           {
            "marker": {
             "colorbar": {
              "outlinewidth": 0,
              "ticks": ""
             }
            },
            "type": "scatter"
           }
          ],
          "scatter3d": [
           {
            "line": {
             "colorbar": {
              "outlinewidth": 0,
              "ticks": ""
             }
            },
            "marker": {
             "colorbar": {
              "outlinewidth": 0,
              "ticks": ""
             }
            },
            "type": "scatter3d"
           }
          ],
          "scattercarpet": [
           {
            "marker": {
             "colorbar": {
              "outlinewidth": 0,
              "ticks": ""
             }
            },
            "type": "scattercarpet"
           }
          ],
          "scattergeo": [
           {
            "marker": {
             "colorbar": {
              "outlinewidth": 0,
              "ticks": ""
             }
            },
            "type": "scattergeo"
           }
          ],
          "scattergl": [
           {
            "marker": {
             "colorbar": {
              "outlinewidth": 0,
              "ticks": ""
             }
            },
            "type": "scattergl"
           }
          ],
          "scattermapbox": [
           {
            "marker": {
             "colorbar": {
              "outlinewidth": 0,
              "ticks": ""
             }
            },
            "type": "scattermapbox"
           }
          ],
          "scatterpolar": [
           {
            "marker": {
             "colorbar": {
              "outlinewidth": 0,
              "ticks": ""
             }
            },
            "type": "scatterpolar"
           }
          ],
          "scatterpolargl": [
           {
            "marker": {
             "colorbar": {
              "outlinewidth": 0,
              "ticks": ""
             }
            },
            "type": "scatterpolargl"
           }
          ],
          "scatterternary": [
           {
            "marker": {
             "colorbar": {
              "outlinewidth": 0,
              "ticks": ""
             }
            },
            "type": "scatterternary"
           }
          ],
          "surface": [
           {
            "colorbar": {
             "outlinewidth": 0,
             "ticks": ""
            },
            "colorscale": [
             [
              0,
              "#0d0887"
             ],
             [
              0.1111111111111111,
              "#46039f"
             ],
             [
              0.2222222222222222,
              "#7201a8"
             ],
             [
              0.3333333333333333,
              "#9c179e"
             ],
             [
              0.4444444444444444,
              "#bd3786"
             ],
             [
              0.5555555555555556,
              "#d8576b"
             ],
             [
              0.6666666666666666,
              "#ed7953"
             ],
             [
              0.7777777777777778,
              "#fb9f3a"
             ],
             [
              0.8888888888888888,
              "#fdca26"
             ],
             [
              1,
              "#f0f921"
             ]
            ],
            "type": "surface"
           }
          ],
          "table": [
           {
            "cells": {
             "fill": {
              "color": "#EBF0F8"
             },
             "line": {
              "color": "white"
             }
            },
            "header": {
             "fill": {
              "color": "#C8D4E3"
             },
             "line": {
              "color": "white"
             }
            },
            "type": "table"
           }
          ]
         },
         "layout": {
          "annotationdefaults": {
           "arrowcolor": "#2a3f5f",
           "arrowhead": 0,
           "arrowwidth": 1
          },
          "autotypenumbers": "strict",
          "coloraxis": {
           "colorbar": {
            "outlinewidth": 0,
            "ticks": ""
           }
          },
          "colorscale": {
           "diverging": [
            [
             0,
             "#8e0152"
            ],
            [
             0.1,
             "#c51b7d"
            ],
            [
             0.2,
             "#de77ae"
            ],
            [
             0.3,
             "#f1b6da"
            ],
            [
             0.4,
             "#fde0ef"
            ],
            [
             0.5,
             "#f7f7f7"
            ],
            [
             0.6,
             "#e6f5d0"
            ],
            [
             0.7,
             "#b8e186"
            ],
            [
             0.8,
             "#7fbc41"
            ],
            [
             0.9,
             "#4d9221"
            ],
            [
             1,
             "#276419"
            ]
           ],
           "sequential": [
            [
             0,
             "#0d0887"
            ],
            [
             0.1111111111111111,
             "#46039f"
            ],
            [
             0.2222222222222222,
             "#7201a8"
            ],
            [
             0.3333333333333333,
             "#9c179e"
            ],
            [
             0.4444444444444444,
             "#bd3786"
            ],
            [
             0.5555555555555556,
             "#d8576b"
            ],
            [
             0.6666666666666666,
             "#ed7953"
            ],
            [
             0.7777777777777778,
             "#fb9f3a"
            ],
            [
             0.8888888888888888,
             "#fdca26"
            ],
            [
             1,
             "#f0f921"
            ]
           ],
           "sequentialminus": [
            [
             0,
             "#0d0887"
            ],
            [
             0.1111111111111111,
             "#46039f"
            ],
            [
             0.2222222222222222,
             "#7201a8"
            ],
            [
             0.3333333333333333,
             "#9c179e"
            ],
            [
             0.4444444444444444,
             "#bd3786"
            ],
            [
             0.5555555555555556,
             "#d8576b"
            ],
            [
             0.6666666666666666,
             "#ed7953"
            ],
            [
             0.7777777777777778,
             "#fb9f3a"
            ],
            [
             0.8888888888888888,
             "#fdca26"
            ],
            [
             1,
             "#f0f921"
            ]
           ]
          },
          "colorway": [
           "#636efa",
           "#EF553B",
           "#00cc96",
           "#ab63fa",
           "#FFA15A",
           "#19d3f3",
           "#FF6692",
           "#B6E880",
           "#FF97FF",
           "#FECB52"
          ],
          "font": {
           "color": "#2a3f5f"
          },
          "geo": {
           "bgcolor": "white",
           "lakecolor": "white",
           "landcolor": "#E5ECF6",
           "showlakes": true,
           "showland": true,
           "subunitcolor": "white"
          },
          "hoverlabel": {
           "align": "left"
          },
          "hovermode": "closest",
          "mapbox": {
           "style": "light"
          },
          "paper_bgcolor": "white",
          "plot_bgcolor": "#E5ECF6",
          "polar": {
           "angularaxis": {
            "gridcolor": "white",
            "linecolor": "white",
            "ticks": ""
           },
           "bgcolor": "#E5ECF6",
           "radialaxis": {
            "gridcolor": "white",
            "linecolor": "white",
            "ticks": ""
           }
          },
          "scene": {
           "xaxis": {
            "backgroundcolor": "#E5ECF6",
            "gridcolor": "white",
            "gridwidth": 2,
            "linecolor": "white",
            "showbackground": true,
            "ticks": "",
            "zerolinecolor": "white"
           },
           "yaxis": {
            "backgroundcolor": "#E5ECF6",
            "gridcolor": "white",
            "gridwidth": 2,
            "linecolor": "white",
            "showbackground": true,
            "ticks": "",
            "zerolinecolor": "white"
           },
           "zaxis": {
            "backgroundcolor": "#E5ECF6",
            "gridcolor": "white",
            "gridwidth": 2,
            "linecolor": "white",
            "showbackground": true,
            "ticks": "",
            "zerolinecolor": "white"
           }
          },
          "shapedefaults": {
           "line": {
            "color": "#2a3f5f"
           }
          },
          "ternary": {
           "aaxis": {
            "gridcolor": "white",
            "linecolor": "white",
            "ticks": ""
           },
           "baxis": {
            "gridcolor": "white",
            "linecolor": "white",
            "ticks": ""
           },
           "bgcolor": "#E5ECF6",
           "caxis": {
            "gridcolor": "white",
            "linecolor": "white",
            "ticks": ""
           }
          },
          "title": {
           "x": 0.05
          },
          "xaxis": {
           "automargin": true,
           "gridcolor": "white",
           "linecolor": "white",
           "ticks": "",
           "title": {
            "standoff": 15
           },
           "zerolinecolor": "white",
           "zerolinewidth": 2
          },
          "yaxis": {
           "automargin": true,
           "gridcolor": "white",
           "linecolor": "white",
           "ticks": "",
           "title": {
            "standoff": 15
           },
           "zerolinecolor": "white",
           "zerolinewidth": 2
          }
         }
        },
        "xaxis": {
         "anchor": "y",
         "autorange": true,
         "domain": [
          0,
          1
         ],
         "range": [
          -0.5,
          2.5
         ],
         "title": {
          "text": "buckets"
         },
         "type": "category"
        },
        "yaxis": {
         "anchor": "x",
         "autorange": true,
         "domain": [
          0,
          1
         ],
         "range": [
          0,
          59.34419744325171
         ],
         "title": {
          "text": "mean"
         },
         "type": "linear"
        }
       }
      },
      "image/png": "[encoded data removed]",
      "text/html": [
       "<div>                            <div id=\"5538493f-d47b-4102-8efa-e75af1da7e9e\" class=\"plotly-graph-div\" style=\"height:525px; width:100%;\"></div>            <script type=\"text/javascript\">                require([\"plotly\"], function(Plotly) {                    window.PLOTLYENV=window.PLOTLYENV || {};                                    if (document.getElementById(\"5538493f-d47b-4102-8efa-e75af1da7e9e\")) {                    Plotly.newPlot(                        \"5538493f-d47b-4102-8efa-e75af1da7e9e\",                        [{\"alignmentgroup\": \"True\", \"hovertemplate\": \"buckets=%{x}<br>mean=%{y}<extra></extra>\", \"legendgroup\": \"\", \"marker\": {\"color\": \"#636efa\"}, \"name\": \"\", \"offsetgroup\": \"\", \"orientation\": \"v\", \"showlegend\": false, \"textposition\": \"auto\", \"type\": \"bar\", \"x\": [\"Rural\", \"Suburban\", \"Urban\"], \"xaxis\": \"x\", \"y\": [45.62598210600084, 41.69085719954566, 56.376987571089124], \"yaxis\": \"y\"}],                        {\"barmode\": \"relative\", \"legend\": {\"tracegroupgap\": 0}, \"margin\": {\"t\": 60}, \"template\": {\"data\": {\"bar\": [{\"error_x\": {\"color\": \"#2a3f5f\"}, \"error_y\": {\"color\": \"#2a3f5f\"}, \"marker\": {\"line\": {\"color\": \"#E5ECF6\", \"width\": 0.5}}, \"type\": \"bar\"}], \"barpolar\": [{\"marker\": {\"line\": {\"color\": \"#E5ECF6\", \"width\": 0.5}}, \"type\": \"barpolar\"}], \"carpet\": [{\"aaxis\": {\"endlinecolor\": \"#2a3f5f\", \"gridcolor\": \"white\", \"linecolor\": \"white\", \"minorgridcolor\": \"white\", \"startlinecolor\": \"#2a3f5f\"}, \"baxis\": {\"endlinecolor\": \"#2a3f5f\", \"gridcolor\": \"white\", \"linecolor\": \"white\", \"minorgridcolor\": \"white\", \"startlinecolor\": \"#2a3f5f\"}, \"type\": \"carpet\"}], \"choropleth\": [{\"colorbar\": {\"outlinewidth\": 0, \"ticks\": \"\"}, \"type\": \"choropleth\"}], \"contour\": [{\"colorbar\": {\"outlinewidth\": 0, \"ticks\": \"\"}, \"colorscale\": [[0.0, \"#0d0887\"], [0.1111111111111111, \"#46039f\"], [0.2222222222222222, \"#7201a8\"], [0.3333333333333333, \"#9c179e\"], [0.4444444444444444, \"#bd3786\"], [0.5555555555555556, \"#d8576b\"], [0.6666666666666666, \"#ed7953\"], [0.7777777777777778, \"#fb9f3a\"], [0.8888888888888888, \"#fdca26\"], [1.0, \"#f0f921\"]], \"type\": \"contour\"}], \"contourcarpet\": [{\"colorbar\": {\"outlinewidth\": 0, \"ticks\": \"\"}, \"type\": \"contourcarpet\"}], \"heatmap\": [{\"colorbar\": {\"outlinewidth\": 0, \"ticks\": \"\"}, \"colorscale\": [[0.0, \"#0d0887\"], [0.1111111111111111, \"#46039f\"], [0.2222222222222222, \"#7201a8\"], [0.3333333333333333, \"#9c179e\"], [0.4444444444444444, \"#bd3786\"], [0.5555555555555556, \"#d8576b\"], [0.6666666666666666, \"#ed7953\"], [0.7777777777777778, \"#fb9f3a\"], [0.8888888888888888, \"#fdca26\"], [1.0, \"#f0f921\"]], \"type\": \"heatmap\"}], \"heatmapgl\": [{\"colorbar\": {\"outlinewidth\": 0, \"ticks\": \"\"}, \"colorscale\": [[0.0, \"#0d0887\"], [0.1111111111111111, \"#46039f\"], [0.2222222222222222, \"#7201a8\"], [0.3333333333333333, \"#9c179e\"], [0.4444444444444444, \"#bd3786\"], [0.5555555555555556, \"#d8576b\"], [0.6666666666666666, \"#ed7953\"], [0.7777777777777778, \"#fb9f3a\"], [0.8888888888888888, \"#fdca26\"], [1.0, \"#f0f921\"]], \"type\": \"heatmapgl\"}], \"histogram\": [{\"marker\": {\"colorbar\": {\"outlinewidth\": 0, \"ticks\": \"\"}}, \"type\": \"histogram\"}], \"histogram2d\": [{\"colorbar\": {\"outlinewidth\": 0, \"ticks\": \"\"}, \"colorscale\": [[0.0, \"#0d0887\"], [0.1111111111111111, \"#46039f\"], [0.2222222222222222, \"#7201a8\"], [0.3333333333333333, \"#9c179e\"], [0.4444444444444444, \"#bd3786\"], [0.5555555555555556, \"#d8576b\"], [0.6666666666666666, \"#ed7953\"], [0.7777777777777778, \"#fb9f3a\"], [0.8888888888888888, \"#fdca26\"], [1.0, \"#f0f921\"]], \"type\": \"histogram2d\"}], \"histogram2dcontour\": [{\"colorbar\": {\"outlinewidth\": 0, \"ticks\": \"\"}, \"colorscale\": [[0.0, \"#0d0887\"], [0.1111111111111111, \"#46039f\"], [0.2222222222222222, \"#7201a8\"], [0.3333333333333333, \"#9c179e\"], [0.4444444444444444, \"#bd3786\"], [0.5555555555555556, \"#d8576b\"], [0.6666666666666666, \"#ed7953\"], [0.7777777777777778, \"#fb9f3a\"], [0.8888888888888888, \"#fdca26\"], [1.0, \"#f0f921\"]], \"type\": \"histogram2dcontour\"}], \"mesh3d\": [{\"colorbar\": {\"outlinewidth\": 0, \"ticks\": \"\"}, \"type\": \"mesh3d\"}], \"parcoords\": [{\"line\": {\"colorbar\": {\"outlinewidth\": 0, \"ticks\": \"\"}}, \"type\": \"parcoords\"}], \"pie\": [{\"automargin\": true, \"type\": \"pie\"}], \"scatter\": [{\"marker\": {\"colorbar\": {\"outlinewidth\": 0, \"ticks\": \"\"}}, \"type\": \"scatter\"}], \"scatter3d\": [{\"line\": {\"colorbar\": {\"outlinewidth\": 0, \"ticks\": \"\"}}, \"marker\": {\"colorbar\": {\"outlinewidth\": 0, \"ticks\": \"\"}}, \"type\": \"scatter3d\"}], \"scattercarpet\": [{\"marker\": {\"colorbar\": {\"outlinewidth\": 0, \"ticks\": \"\"}}, \"type\": \"scattercarpet\"}], \"scattergeo\": [{\"marker\": {\"colorbar\": {\"outlinewidth\": 0, \"ticks\": \"\"}}, \"type\": \"scattergeo\"}], \"scattergl\": [{\"marker\": {\"colorbar\": {\"outlinewidth\": 0, \"ticks\": \"\"}}, \"type\": \"scattergl\"}], \"scattermapbox\": [{\"marker\": {\"colorbar\": {\"outlinewidth\": 0, \"ticks\": \"\"}}, \"type\": \"scattermapbox\"}], \"scatterpolar\": [{\"marker\": {\"colorbar\": {\"outlinewidth\": 0, \"ticks\": \"\"}}, \"type\": \"scatterpolar\"}], \"scatterpolargl\": [{\"marker\": {\"colorbar\": {\"outlinewidth\": 0, \"ticks\": \"\"}}, \"type\": \"scatterpolargl\"}], \"scatterternary\": [{\"marker\": {\"colorbar\": {\"outlinewidth\": 0, \"ticks\": \"\"}}, \"type\": \"scatterternary\"}], \"surface\": [{\"colorbar\": {\"outlinewidth\": 0, \"ticks\": \"\"}, \"colorscale\": [[0.0, \"#0d0887\"], [0.1111111111111111, \"#46039f\"], [0.2222222222222222, \"#7201a8\"], [0.3333333333333333, \"#9c179e\"], [0.4444444444444444, \"#bd3786\"], [0.5555555555555556, \"#d8576b\"], [0.6666666666666666, \"#ed7953\"], [0.7777777777777778, \"#fb9f3a\"], [0.8888888888888888, \"#fdca26\"], [1.0, \"#f0f921\"]], \"type\": \"surface\"}], \"table\": [{\"cells\": {\"fill\": {\"color\": \"#EBF0F8\"}, \"line\": {\"color\": \"white\"}}, \"header\": {\"fill\": {\"color\": \"#C8D4E3\"}, \"line\": {\"color\": \"white\"}}, \"type\": \"table\"}]}, \"layout\": {\"annotationdefaults\": {\"arrowcolor\": \"#2a3f5f\", \"arrowhead\": 0, \"arrowwidth\": 1}, \"autotypenumbers\": \"strict\", \"coloraxis\": {\"colorbar\": {\"outlinewidth\": 0, \"ticks\": \"\"}}, \"colorscale\": {\"diverging\": [[0, \"#8e0152\"], [0.1, \"#c51b7d\"], [0.2, \"#de77ae\"], [0.3, \"#f1b6da\"], [0.4, \"#fde0ef\"], [0.5, \"#f7f7f7\"], [0.6, \"#e6f5d0\"], [0.7, \"#b8e186\"], [0.8, \"#7fbc41\"], [0.9, \"#4d9221\"], [1, \"#276419\"]], \"sequential\": [[0.0, \"#0d0887\"], [0.1111111111111111, \"#46039f\"], [0.2222222222222222, \"#7201a8\"], [0.3333333333333333, \"#9c179e\"], [0.4444444444444444, \"#bd3786\"], [0.5555555555555556, \"#d8576b\"], [0.6666666666666666, \"#ed7953\"], [0.7777777777777778, \"#fb9f3a\"], [0.8888888888888888, \"#fdca26\"], [1.0, \"#f0f921\"]], \"sequentialminus\": [[0.0, \"#0d0887\"], [0.1111111111111111, \"#46039f\"], [0.2222222222222222, \"#7201a8\"], [0.3333333333333333, \"#9c179e\"], [0.4444444444444444, \"#bd3786\"], [0.5555555555555556, \"#d8576b\"], [0.6666666666666666, \"#ed7953\"], [0.7777777777777778, \"#fb9f3a\"], [0.8888888888888888, \"#fdca26\"], [1.0, \"#f0f921\"]]}, \"colorway\": [\"#636efa\", \"#EF553B\", \"#00cc96\", \"#ab63fa\", \"#FFA15A\", \"#19d3f3\", \"#FF6692\", \"#B6E880\", \"#FF97FF\", \"#FECB52\"], \"font\": {\"color\": \"#2a3f5f\"}, \"geo\": {\"bgcolor\": \"white\", \"lakecolor\": \"white\", \"landcolor\": \"#E5ECF6\", \"showlakes\": true, \"showland\": true, \"subunitcolor\": \"white\"}, \"hoverlabel\": {\"align\": \"left\"}, \"hovermode\": \"closest\", \"mapbox\": {\"style\": \"light\"}, \"paper_bgcolor\": \"white\", \"plot_bgcolor\": \"#E5ECF6\", \"polar\": {\"angularaxis\": {\"gridcolor\": \"white\", \"linecolor\": \"white\", \"ticks\": \"\"}, \"bgcolor\": \"#E5ECF6\", \"radialaxis\": {\"gridcolor\": \"white\", \"linecolor\": \"white\", \"ticks\": \"\"}}, \"scene\": {\"xaxis\": {\"backgroundcolor\": \"#E5ECF6\", \"gridcolor\": \"white\", \"gridwidth\": 2, \"linecolor\": \"white\", \"showbackground\": true, \"ticks\": \"\", \"zerolinecolor\": \"white\"}, \"yaxis\": {\"backgroundcolor\": \"#E5ECF6\", \"gridcolor\": \"white\", \"gridwidth\": 2, \"linecolor\": \"white\", \"showbackground\": true, \"ticks\": \"\", \"zerolinecolor\": \"white\"}, \"zaxis\": {\"backgroundcolor\": \"#E5ECF6\", \"gridcolor\": \"white\", \"gridwidth\": 2, \"linecolor\": \"white\", \"showbackground\": true, \"ticks\": \"\", \"zerolinecolor\": \"white\"}}, \"shapedefaults\": {\"line\": {\"color\": \"#2a3f5f\"}}, \"ternary\": {\"aaxis\": {\"gridcolor\": \"white\", \"linecolor\": \"white\", \"ticks\": \"\"}, \"baxis\": {\"gridcolor\": \"white\", \"linecolor\": \"white\", \"ticks\": \"\"}, \"bgcolor\": \"#E5ECF6\", \"caxis\": {\"gridcolor\": \"white\", \"linecolor\": \"white\", \"ticks\": \"\"}}, \"title\": {\"x\": 0.05}, \"xaxis\": {\"automargin\": true, \"gridcolor\": \"white\", \"linecolor\": \"white\", \"ticks\": \"\", \"title\": {\"standoff\": 15}, \"zerolinecolor\": \"white\", \"zerolinewidth\": 2}, \"yaxis\": {\"automargin\": true, \"gridcolor\": \"white\", \"linecolor\": \"white\", \"ticks\": \"\", \"title\": {\"standoff\": 15}, \"zerolinecolor\": \"white\", \"zerolinewidth\": 2}}}, \"xaxis\": {\"anchor\": \"y\", \"domain\": [0.0, 1.0], \"title\": {\"text\": \"buckets\"}}, \"yaxis\": {\"anchor\": \"x\", \"domain\": [0.0, 1.0], \"title\": {\"text\": \"mean\"}}},                        {\"responsive\": true}                    ).then(function(){\n",
       "                            \n",
       "var gd = document.getElementById('5538493f-d47b-4102-8efa-e75af1da7e9e');\n",
       "var x = new MutationObserver(function (mutations, observer) {{\n",
       "        var display = window.getComputedStyle(gd).display;\n",
       "        if (!display || display === 'none') {{\n",
       "            console.log([gd, 'removed!']);\n",
       "            Plotly.purge(gd);\n",
       "            observer.disconnect();\n",
       "        }}\n",
       "}});\n",
       "\n",
       "// Listen for the removal of the full notebook cells\n",
       "var notebookContainer = gd.closest('#notebook-container');\n",
       "if (notebookContainer) {{\n",
       "    x.observe(notebookContainer, {childList: true});\n",
       "}}\n",
       "\n",
       "// Listen for the clearing of the current output cell\n",
       "var outputEl = gd.closest('.output');\n",
       "if (outputEl) {{\n",
       "    x.observe(outputEl, {childList: true});\n",
       "}}\n",
       "\n",
       "                        })                };                });            </script>        </div>"
      ]
     },
     "metadata": {},
     "output_type": "display_data"
    }
   ],
   "source": [
    "import plotly.express as px\n",
    "fig = px.bar(zip_buckets, x=zip_buckets.index, y=\"mean\")\n",
    "fig.show()"
   ]
  },
  {
   "cell_type": "code",
   "execution_count": null,
   "id": "c37348f5-95e2-43f2-920f-20a52de5eeba",
   "metadata": {},
   "outputs": [],
   "source": []
  }
 ],
 "metadata": {
  "kernelspec": {
   "display_name": "Python 3",
   "language": "python",
   "name": "python3"
  },
  "language_info": {
   "codemirror_mode": {
    "name": "ipython",
    "version": 3
   },
   "file_extension": ".py",
   "mimetype": "text/x-python",
   "name": "python",
   "nbconvert_exporter": "python",
   "pygments_lexer": "ipython3",
   "version": "3.8.8"
  }
 },
 "nbformat": 4,
 "nbformat_minor": 5
}
