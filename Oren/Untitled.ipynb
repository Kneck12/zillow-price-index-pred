{
 "cells": [
  {
   "cell_type": "code",
   "execution_count": null,
   "id": "7dbd3df6-2056-459b-b18f-cec4120d3d36",
   "metadata": {},
   "outputs": [],
   "source": []
  },
  {
   "cell_type": "code",
   "execution_count": null,
   "id": "d5c326fd-3903-4480-b0b8-c308ad93ee9d",
   "metadata": {},
   "outputs": [],
   "source": [
    "# add 11 copies of every row\n",
    "df= df.loc[df.index.repeat(12)].reset_index(drop=True) \n",
    "\n",
    "# add month column filled with 0\n",
    "df['month'] = 0 \n",
    "\n",
    "# get num unique zip codes\n",
    "zips= df['zip'].unique() \n",
    "\n",
    "# get num unique years\n",
    "years = df['year'].unique() \n",
    "\n",
    "# fill in the month column\n",
    "months = [1, 2, 3, 4, 5, 6, 7, 8, 9, 10, 11, 12] * len(zips) * len(years) \n",
    "df['month'] = months\n",
    "\n",
    "# replace all elements in rows with month != 12 with nan, \n",
    "# you will have to adjust the columns that you want to avoid replacing with nan\n",
    "df.loc[df['month']!=12, df.columns[2:-1]] = np.nan \n",
    "for item in zips:\n",
    "    temp = df.loc[df['zip']==item,:]\n",
    "    for col in temp.columns[2:-1]:\n",
    "        temp[col] = temp[col].interpolate(method='linear')\n",
    "    df.loc[df['zip']==item,:] = temp "
   ]
  }
 ],
 "metadata": {
  "kernelspec": {
   "display_name": "Python 3",
   "language": "python",
   "name": "python3"
  },
  "language_info": {
   "codemirror_mode": {
    "name": "ipython",
    "version": 3
   },
   "file_extension": ".py",
   "mimetype": "text/x-python",
   "name": "python",
   "nbconvert_exporter": "python",
   "pygments_lexer": "ipython3",
   "version": "3.8.8"
  }
 },
 "nbformat": 4,
 "nbformat_minor": 5
}
