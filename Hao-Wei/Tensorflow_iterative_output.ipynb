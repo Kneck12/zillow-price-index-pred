{
 "cells": [
  {
   "cell_type": "code",
   "execution_count": 1,
   "id": "146bd178",
   "metadata": {
    "scrolled": false
   },
   "outputs": [
    {
     "name": "stdout",
     "output_type": "stream",
     "text": [
      "2.3.0\n"
     ]
    }
   ],
   "source": [
    "import tensorflow as tf;\n",
    "import numpy as np;\n",
    "import matplotlib.pyplot as plt;\n",
    "print(tf.__version__);\n",
    "import pandas as pd;\n",
    "\n",
    "from sklearn.metrics import mean_squared_error;"
   ]
  },
  {
   "cell_type": "code",
   "execution_count": null,
   "id": "6cef8c59",
   "metadata": {},
   "outputs": [],
   "source": [
    "from tensorflow.python.client import device_lib\n",
    "\n",
    "def get_available_gpus():\n",
    "    local_device_protos = device_lib.list_local_devices()\n",
    "    return [x.name for x in local_device_protos if x.device_type == 'GPU']"
   ]
  },
  {
   "cell_type": "code",
   "execution_count": null,
   "id": "66054720",
   "metadata": {},
   "outputs": [],
   "source": [
    "get_available_gpus()"
   ]
  },
  {
   "cell_type": "code",
   "execution_count": null,
   "id": "798d0302",
   "metadata": {},
   "outputs": [],
   "source": [
    "import warnings\n",
    "\n",
    "with warnings.catch_warnings():\n",
    "    warnings.simplefilter(\"ignore\")"
   ]
  },
  {
   "cell_type": "code",
   "execution_count": null,
   "id": "257e2651",
   "metadata": {},
   "outputs": [],
   "source": [
    "# tf.debugging.set_log_device_placement(True)"
   ]
  },
  {
   "cell_type": "code",
   "execution_count": 2,
   "id": "b3f3a3d7",
   "metadata": {},
   "outputs": [],
   "source": [
    "multi_data = pd.read_csv('../data/zri_multifamily_v2.csv');\n",
    "zip_ids = multi_data[\"zip\"].unique();"
   ]
  },
  {
   "cell_type": "code",
   "execution_count": null,
   "id": "91744cdc",
   "metadata": {},
   "outputs": [],
   "source": [
    "MONTHS = 72;\n",
    "SPLIT = 60; # 2014-2018: training, 2019: testing.\n",
    "BATCH_SIZE = 4;\n",
    "WINDOW_SIZE = 6;\n",
    "\n",
    "TEST_LENGTH = MONTHS - SPLIT;"
   ]
  },
  {
   "cell_type": "code",
   "execution_count": null,
   "id": "c1400ffc",
   "metadata": {},
   "outputs": [],
   "source": [
    "def windowed_dataset(series, window_size, batch_size, shuffle_buffer):\n",
    "    dataset = tf.data.Dataset.from_tensor_slices(series)\n",
    "    dataset = dataset.window(window_size + 1, shift=1, drop_remainder=True)\n",
    "    dataset = dataset.flat_map(lambda window: window.batch(window_size + 1))\n",
    "    dataset = dataset.shuffle(shuffle_buffer).map(lambda window: (window[:-1], window[-1]))\n",
    "    dataset = dataset.batch(batch_size).prefetch(1)\n",
    "    return dataset"
   ]
  },
  {
   "cell_type": "code",
   "execution_count": null,
   "id": "dd1f5cf9",
   "metadata": {},
   "outputs": [],
   "source": [
    "def NN_model(dataset):\n",
    "    tf.keras.backend.clear_session()\n",
    "    # dataset = windowed_dataset(x_train, window_size, batch_size, shuffle_buffer_size)\n",
    "\n",
    "    model = tf.keras.models.Sequential([\n",
    "        tf.keras.layers.Lambda(lambda x: tf.expand_dims(x, axis=-1),\n",
    "                          input_shape=[None]),\n",
    "    #   tf.keras.layers.Conv1D(filters=16, kernel_size=3,\n",
    "    #                       strides=1, padding=\"causal\",\n",
    "    #                       activation=\"relu\",\n",
    "    #                       input_shape=[None, 1]),\n",
    "        tf.keras.layers.Bidirectional(tf.keras.layers.LSTM(16, return_sequences=True)),\n",
    "        tf.keras.layers.Bidirectional(tf.keras.layers.LSTM(16, return_sequences=True)),\n",
    "        #  tf.keras.layers.SimpleRNN(16, return_sequences=True),\n",
    "        #  tf.keras.layers.SimpleRNN(16, return_sequences=True),\n",
    "    #   tf.keras.layers.Dense(16, activation=\"relu\"),\n",
    "    #   tf.keras.layers.Dense(16, activation=\"relu\"),\n",
    "        tf.keras.layers.Dense(1),\n",
    "        tf.keras.layers.Lambda(lambda x: x * 2.0)\n",
    "    ])\n",
    "\n",
    "    optimizer = tf.keras.optimizers.SGD(learning_rate=3e-4, momentum=0.9)\n",
    "    model.compile(loss=tf.keras.losses.Huber(),\n",
    "                  optimizer=\"adam\",\n",
    "                  metrics=[\"mae\", \"mse\"])\n",
    "    history = model.fit(dataset, epochs=500, verbose = 0);\n",
    "    return model;"
   ]
  },
  {
   "cell_type": "code",
   "execution_count": null,
   "id": "7dd0cf9f",
   "metadata": {},
   "outputs": [],
   "source": [
    "def NN_forecast(model, single_city_series):\n",
    "    forecast = []\n",
    "    results = []\n",
    "    for time in range(len(single_city_series) - WINDOW_SIZE):\n",
    "        forecast.append(model.predict(single_city_series[time:time + WINDOW_SIZE][np.newaxis]))\n",
    "\n",
    "    #print(forecast)\n",
    "\n",
    "    # forecast = forecast[SPLIT - WINDOW_SIZE:]\n",
    "    results = np.array(forecast)[:, 0, 0]\n",
    "    actual = single_city_series[WINDOW_SIZE:]\n",
    "    time_actual = range(WINDOW_SIZE, len(single_city_series));\n",
    "\n",
    "    pure_forecast = list(single_city_series[SPLIT - WINDOW_SIZE: SPLIT]);\n",
    "    for time in range(SPLIT, len(single_city_series)):\n",
    "        # print(model.predict(pure_forecast[-WINDOW_SIZE:][np.newaxis]))\n",
    "        pure_forecast.append(np.array(model.predict(np.array(pure_forecast[-WINDOW_SIZE:])[np.newaxis]))[0][0][0])\n",
    "    pure_forecast = np.array(pure_forecast[WINDOW_SIZE:]);\n",
    "\n",
    "    return results, actual, pure_forecast;"
   ]
  },
  {
   "cell_type": "code",
   "execution_count": null,
   "id": "d3680db5",
   "metadata": {},
   "outputs": [],
   "source": [
    "@tf.autograph.experimental.do_not_convert\n",
    "def NN_test(ZONE):\n",
    "    '''\n",
    "    Input: ZONE\n",
    "    Output: the RMSE of a NN model on the predicted train, partially predicted test, and complete predicted test.\n",
    "    '''\n",
    "    # Collection of data\n",
    "    single_city_data = multi_data[multi_data[\"zip\"] == ZONE];\n",
    "    single_city_series = np.array(single_city_data[\"zri\"]);\n",
    "    \n",
    "    # Standardization\n",
    "    single_city_series_mean = single_city_series.mean();\n",
    "    single_city_series_std = single_city_series.std();\n",
    "\n",
    "    single_city_series = (single_city_series - single_city_series_mean)/\\\n",
    "    single_city_series_std;\n",
    "    \n",
    "    # Train test split\n",
    "    single_city_train = single_city_series[:SPLIT];\n",
    "    single_city_test = single_city_series[SPLIT:];\n",
    "    \n",
    "    # Window the training set to make input of the NN\n",
    "    dataset = windowed_dataset(single_city_train, WINDOW_SIZE, BATCH_SIZE, 60);\n",
    "    model = NN_model(dataset);\n",
    "    \n",
    "    time_train = list(range(SPLIT));\n",
    "    time_test = list(range(SPLIT, len(single_city_series)));\n",
    "    \n",
    "    # Forecasting\n",
    "    results, actual, pure_forecast = NN_forecast(model, single_city_series);\n",
    "    \n",
    "    # Compute MSE\n",
    "    MSE_train = mean_squared_error(actual[:-TEST_LENGTH], results[:-TEST_LENGTH])**0.5 * single_city_series_std;\n",
    "    MSE_test = mean_squared_error(actual[-TEST_LENGTH:], results[-TEST_LENGTH:])**0.5 * single_city_series_std;\n",
    "    MSE_pure = mean_squared_error(actual[-TEST_LENGTH:], pure_forecast[-TEST_LENGTH:])**0.5 * single_city_series_std;\n",
    "\n",
    "    return MSE_train, MSE_test, MSE_pure, pure_forecast[-TEST_LENGTH:];"
   ]
  },
  {
   "cell_type": "code",
   "execution_count": null,
   "id": "d66a62f4",
   "metadata": {},
   "outputs": [],
   "source": [
    "# ZONE = 11050;\n",
    "# with tf.device('/GPU:1'):\n",
    "#     %time M_train, M_test, M_pure = NN_test(11050);"
   ]
  },
  {
   "cell_type": "code",
   "execution_count": null,
   "id": "b91013fe",
   "metadata": {},
   "outputs": [],
   "source": [
    "# import multiprocessing  \n",
    "# import random\n",
    "# from multiprocessing import Pool\n",
    "# from NN_predict_v1 import *;\n",
    "\n",
    "# score_dict = {\"zip\":[], \"RMSE_train\":[], \"RMSE_test\":[], \"RMSE_pure\":[], \"forecast\":[]};\n",
    "\n",
    "# if __name__ == '__main__':\n",
    "#     pool = Pool()\n",
    "#     #with tf.device('/cpu:0'):\n",
    "#     results = pool.map(NN_test, zip_ids[:3])\n",
    "#     # for value, factors in zip(to_factor, results):\n",
    "#     print(results)"
   ]
  },
  {
   "cell_type": "code",
   "execution_count": null,
   "id": "1d3c20b4",
   "metadata": {
    "scrolled": true
   },
   "outputs": [],
   "source": [
    "from NN_predict_v1 import *;\n",
    "\n",
    "score_dict = {\"zip\":[], \"RMSE_train\":[], \"RMSE_test\":[], \"RMSE_pure\":[], \"forecast\":[]};\n",
    "with tf.device('/cpu:0'):\n",
    "    for ZONE in zip_ids[:260]:\n",
    "        %time M_train, M_test, M_pure, forecast = NN_test(ZONE);\n",
    "        print(ZONE, M_train, M_test, M_pure, forecast);\n",
    "\n",
    "        score_dict[\"zip\"].append(ZONE);\n",
    "        score_dict[\"RMSE_train\"].append(M_train);\n",
    "        score_dict[\"RMSE_test\"].append(M_test);\n",
    "        score_dict[\"RMSE_pure\"].append(M_pure);\n",
    "        score_dict[\"forecast\"].append(forecast);\n",
    "    "
   ]
  },
  {
   "cell_type": "code",
   "execution_count": null,
   "id": "885031ec",
   "metadata": {},
   "outputs": [],
   "source": [
    "print(len(score_dict[\"RMSE_pure\"]), sum(score_dict[\"RMSE_pure\"])/len(score_dict[\"RMSE_pure\"]));"
   ]
  },
  {
   "cell_type": "code",
   "execution_count": null,
   "id": "8ffe9f12",
   "metadata": {},
   "outputs": [],
   "source": [
    "test = pd.DataFrame(score_dict)"
   ]
  },
  {
   "cell_type": "code",
   "execution_count": null,
   "id": "1b9b0317",
   "metadata": {},
   "outputs": [],
   "source": [
    "test.head(50)"
   ]
  },
  {
   "cell_type": "code",
   "execution_count": null,
   "id": "b67a4f88",
   "metadata": {},
   "outputs": [],
   "source": [
    "test.to_csv('NN_1.csv', index = False)"
   ]
  },
  {
   "cell_type": "markdown",
   "id": "f276920f",
   "metadata": {},
   "source": [
    "### The code which combines the output from threads, and some discussions\n"
   ]
  },
  {
   "cell_type": "code",
   "execution_count": null,
   "id": "f890bc0b",
   "metadata": {},
   "outputs": [],
   "source": [
    "NN_1_pd = pd.read_csv('./NN_1.csv', index_col = 0);\n",
    "\n",
    "for i in range(2,6):\n",
    "    temp = pd.read_csv('./NN_{}.csv'.format(i), index_col = 0);\n",
    "    NN_1_pd = pd.concat([NN_1_pd, temp], axis = 0);   \n",
    "#NN_1_pd.describe()"
   ]
  },
  {
   "cell_type": "code",
   "execution_count": null,
   "id": "c026d77e",
   "metadata": {},
   "outputs": [],
   "source": [
    "NN_1_pd.to_csv('NN_1_summary.csv')"
   ]
  },
  {
   "cell_type": "markdown",
   "id": "ee05bdb5",
   "metadata": {},
   "source": [
    "#### The average RMSE is around 67, somewhat worse than the baseline model. Now, let's take a look inside..."
   ]
  },
  {
   "cell_type": "code",
   "execution_count": null,
   "id": "7affe38b",
   "metadata": {},
   "outputs": [],
   "source": [
    "NN_1_pd.head()"
   ]
  },
  {
   "cell_type": "code",
   "execution_count": null,
   "id": "fbd5f237",
   "metadata": {},
   "outputs": [],
   "source": [
    "NN_1_pd = pd.read_csv('./NN_1_summary.csv', index_col = 0);\n",
    "NN_1_pd.describe()"
   ]
  },
  {
   "cell_type": "code",
   "execution_count": null,
   "id": "5e52d2c5",
   "metadata": {
    "scrolled": true
   },
   "outputs": [],
   "source": [
    "NN_1_pd.sort_values(\"RMSE_pure\", ascending = False)"
   ]
  },
  {
   "cell_type": "code",
   "execution_count": 3,
   "id": "732d2e36",
   "metadata": {},
   "outputs": [
    {
     "name": "stdout",
     "output_type": "stream",
     "text": [
      "Wall time: 1min 2s\n"
     ]
    },
    {
     "data": {
      "image/png": "[encoded data removed]",
      "text/plain": [
       "<Figure size 720x432 with 1 Axes>"
      ]
     },
     "metadata": {
      "needs_background": "light"
     },
     "output_type": "display_data"
    }
   ],
   "source": [
    "from NN_predict_v1 import *;\n",
    "\n",
    "ZONE = 95928;\n",
    "%time M_train, M_test, M_pure, forecast = NN_test(ZONE, plot=True);"
   ]
  },
  {
   "cell_type": "code",
   "execution_count": null,
   "id": "8e988cf9",
   "metadata": {},
   "outputs": [],
   "source": []
  }
 ],
 "metadata": {
  "kernelspec": {
   "display_name": "Python 3",
   "language": "python",
   "name": "python3"
  },
  "language_info": {
   "codemirror_mode": {
    "name": "ipython",
    "version": 3
   },
   "file_extension": ".py",
   "mimetype": "text/x-python",
   "name": "python",
   "nbconvert_exporter": "python",
   "pygments_lexer": "ipython3",
   "version": "3.8.8"
  }
 },
 "nbformat": 4,
 "nbformat_minor": 5
}
