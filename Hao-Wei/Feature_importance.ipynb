{
 "cells": [
  {
   "cell_type": "code",
   "execution_count": 39,
   "id": "312c7edd",
   "metadata": {},
   "outputs": [
    {
     "name": "stdout",
     "output_type": "stream",
     "text": [
      "2.6.0\n"
     ]
    }
   ],
   "source": [
    "import tensorflow as tf;\n",
    "import numpy as np;\n",
    "import matplotlib.pyplot as plt;\n",
    "print(tf.__version__);\n",
    "import pandas as pd;\n",
    "\n",
    "from sklearn.preprocessing import StandardScaler;\n",
    "from sklearn.preprocessing import MinMaxScaler;\n",
    "from sklearn.metrics import mean_squared_error;"
   ]
  },
  {
   "cell_type": "code",
   "execution_count": 33,
   "id": "2f1f1c37",
   "metadata": {},
   "outputs": [],
   "source": [
    "pd.set_option('display.max_columns', 300);\n",
    "pd.set_option('display.max_rows', 300);\n",
    "tf.keras.backend.set_floatx('float64');"
   ]
  },
  {
   "cell_type": "code",
   "execution_count": 36,
   "id": "66328c21",
   "metadata": {},
   "outputs": [],
   "source": [
    "a = np.array([[1,2,3],[4,5,6],[7,8,10]]);"
   ]
  },
  {
   "cell_type": "code",
   "execution_count": 44,
   "id": "5ed945ae",
   "metadata": {},
   "outputs": [],
   "source": [
    "sc = MinMaxScaler();\n",
    "b = sc.fit_transform(a)"
   ]
  },
  {
   "cell_type": "code",
   "execution_count": 57,
   "id": "8952180a",
   "metadata": {},
   "outputs": [
    {
     "name": "stdout",
     "output_type": "stream",
     "text": [
      "1.0 6.0\n"
     ]
    }
   ],
   "source": [
    "print(sc.data_min_[0], sc.data_range_[0])\n"
   ]
  },
  {
   "cell_type": "code",
   "execution_count": 26,
   "id": "3c90777c",
   "metadata": {},
   "outputs": [
    {
     "name": "stdout",
     "output_type": "stream",
     "text": [
      "[[1 2 6]\n",
      " [4 5 9]\n",
      " [7 8 3]]\n"
     ]
    }
   ],
   "source": [
    "a[:,2] = np.random.permutation(a[:,2])\n",
    "print(a)"
   ]
  },
  {
   "cell_type": "code",
   "execution_count": 30,
   "id": "89ac974c",
   "metadata": {},
   "outputs": [],
   "source": [
    "temp = pd.read_csv(\"../data/full_dataset_unscaled.csv\", index_col=0)"
   ]
  },
  {
   "cell_type": "code",
   "execution_count": 35,
   "id": "da3df76b",
   "metadata": {},
   "outputs": [
    {
     "data": {
      "text/plain": [
       "(78060, 97)"
      ]
     },
     "execution_count": 35,
     "metadata": {},
     "output_type": "execute_result"
    }
   ],
   "source": [
    "temp.shape"
   ]
  }
 ],
 "metadata": {
  "kernelspec": {
   "display_name": "Python 3 (ipykernel)",
   "language": "python",
   "name": "python3"
  },
  "language_info": {
   "codemirror_mode": {
    "name": "ipython",
    "version": 3
   },
   "file_extension": ".py",
   "mimetype": "text/x-python",
   "name": "python",
   "nbconvert_exporter": "python",
   "pygments_lexer": "ipython3",
   "version": "3.9.6"
  }
 },
 "nbformat": 4,
 "nbformat_minor": 5
}
