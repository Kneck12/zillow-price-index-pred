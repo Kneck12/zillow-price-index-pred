{
 "cells": [
  {
   "cell_type": "code",
   "execution_count": 3,
   "id": "918c296b",
   "metadata": {},
   "outputs": [
    {
     "name": "stderr",
     "output_type": "stream",
     "text": [
      "'jt' is not recognized as an internal or external command,\n",
      "operable program or batch file.\n"
     ]
    }
   ],
   "source": [
    "!jt -f droidmono"
   ]
  },
  {
   "cell_type": "code",
   "execution_count": null,
   "id": "489de596",
   "metadata": {},
   "outputs": [],
   "source": [
    "import pandas as pd;\n"
   ]
  }
 ],
 "metadata": {
  "kernelspec": {
   "display_name": "Python 3",
   "language": "python",
   "name": "python3"
  },
  "language_info": {
   "codemirror_mode": {
    "name": "ipython",
    "version": 3
   },
   "file_extension": ".py",
   "mimetype": "text/x-python",
   "name": "python",
   "nbconvert_exporter": "python",
   "pygments_lexer": "ipython3",
   "version": "3.8.8"
  }
 },
 "nbformat": 4,
 "nbformat_minor": 5
}
