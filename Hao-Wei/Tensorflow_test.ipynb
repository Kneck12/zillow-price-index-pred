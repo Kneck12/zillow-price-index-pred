{
 "cells": [
  {
   "cell_type": "code",
   "execution_count": 14,
   "id": "f4c10481",
   "metadata": {},
   "outputs": [
    {
     "name": "stdout",
     "output_type": "stream",
     "text": [
      "2.3.0\n"
     ]
    }
   ],
   "source": [
    "import tensorflow as tf\n",
    "import numpy as np\n",
    "import matplotlib.pyplot as plt\n",
    "print(tf.__version__)"
   ]
  },
  {
   "cell_type": "code",
   "execution_count": 4,
   "id": "ba7c530b",
   "metadata": {},
   "outputs": [],
   "source": [
    "import numpy as np;\n",
    "import pandas as pd;"
   ]
  },
  {
   "cell_type": "code",
   "execution_count": 5,
   "id": "eec6de84",
   "metadata": {},
   "outputs": [],
   "source": [
    "multi_data = pd.read_csv('../data/zri_multifamily_v2.csv', index_col = 0);"
   ]
  },
  {
   "cell_type": "code",
   "execution_count": 19,
   "id": "d23df172",
   "metadata": {},
   "outputs": [],
   "source": [
    "ZONE = 1013;\n",
    "SPLIT = 60; # 2014-2018: training, 2019: testing.\n",
    "BATCH_SIZE = 8;\n",
    "WINDOW_SIZE = 12;"
   ]
  },
  {
   "cell_type": "code",
   "execution_count": 11,
   "id": "247b5b72",
   "metadata": {},
   "outputs": [],
   "source": [
    "single_city_data = multi_data[multi_data.index == ZONE];"
   ]
  },
  {
   "cell_type": "code",
   "execution_count": 12,
   "id": "f07ef16e",
   "metadata": {},
   "outputs": [],
   "source": [
    "single_city_series = np.array(single_city_data[\"zri\"])"
   ]
  },
  {
   "cell_type": "code",
   "execution_count": 17,
   "id": "94321cd5",
   "metadata": {},
   "outputs": [],
   "source": [
    "single_city_train = single_city_series[:SPLIT];\n",
    "single_city_test = single_city_series[SPLIT:];"
   ]
  },
  {
   "cell_type": "code",
   "execution_count": 18,
   "id": "56ec275b",
   "metadata": {},
   "outputs": [],
   "source": [
    "def windowed_dataset(series, window_size, batch_size, shuffle_buffer):\n",
    "  dataset = tf.data.Dataset.from_tensor_slices(series)\n",
    "  dataset = dataset.window(window_size + 1, shift=1, drop_remainder=True)\n",
    "  dataset = dataset.flat_map(lambda window: window.batch(window_size + 1))\n",
    "  dataset = dataset.shuffle(shuffle_buffer).map(lambda window: (window[:-1], window[-1]))\n",
    "  dataset = dataset.batch(batch_size).prefetch(1)\n",
    "  return dataset"
   ]
  },
  {
   "cell_type": "code",
   "execution_count": 21,
   "id": "e4e44bcf",
   "metadata": {},
   "outputs": [
    {
     "name": "stdout",
     "output_type": "stream",
     "text": [
      "WARNING:tensorflow:AutoGraph could not transform <function windowed_dataset.<locals>.<lambda> at 0x00000207BC283280> and will run it as-is.\n",
      "Please report this to the TensorFlow team. When filing the bug, set the verbosity to 10 (on Linux, `export AUTOGRAPH_VERBOSITY=10`) and attach the full output.\n",
      "Cause: module 'gast' has no attribute 'Index'\n",
      "To silence this warning, decorate the function with @tf.autograph.experimental.do_not_convert\n",
      "WARNING: AutoGraph could not transform <function windowed_dataset.<locals>.<lambda> at 0x00000207BC283280> and will run it as-is.\n",
      "Please report this to the TensorFlow team. When filing the bug, set the verbosity to 10 (on Linux, `export AUTOGRAPH_VERBOSITY=10`) and attach the full output.\n",
      "Cause: module 'gast' has no attribute 'Index'\n",
      "To silence this warning, decorate the function with @tf.autograph.experimental.do_not_convert\n"
     ]
    }
   ],
   "source": [
    "temp = windowed_dataset(single_city_train, WINDOW_SIZE, BATCH_SIZE, 4)"
   ]
  },
  {
   "cell_type": "code",
   "execution_count": 22,
   "id": "6e856eba",
   "metadata": {},
   "outputs": [
    {
     "data": {
      "text/plain": [
       "<PrefetchDataset shapes: ((None, None), (None,)), types: (tf.float64, tf.float64)>"
      ]
     },
     "execution_count": 22,
     "metadata": {},
     "output_type": "execute_result"
    }
   ],
   "source": [
    "temp"
   ]
  }
 ],
 "metadata": {
  "kernelspec": {
   "display_name": "Python 3",
   "language": "python",
   "name": "python3"
  },
  "language_info": {
   "codemirror_mode": {
    "name": "ipython",
    "version": 3
   },
   "file_extension": ".py",
   "mimetype": "text/x-python",
   "name": "python",
   "nbconvert_exporter": "python",
   "pygments_lexer": "ipython3",
   "version": "3.8.8"
  }
 },
 "nbformat": 4,
 "nbformat_minor": 5
}
