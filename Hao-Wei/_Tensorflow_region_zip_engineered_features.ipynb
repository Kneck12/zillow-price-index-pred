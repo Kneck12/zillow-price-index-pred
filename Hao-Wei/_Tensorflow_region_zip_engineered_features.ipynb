{
 "cells": [
  {
   "cell_type": "markdown",
   "id": "85525141",
   "metadata": {
    "id": "85525141"
   },
   "source": [
    "### Goal: Try again on estimation on region\n",
    "Based on all the features we get this time."
   ]
  },
  {
   "cell_type": "code",
   "execution_count": 1,
   "id": "6348d282",
   "metadata": {
    "colab": {
     "base_uri": "https://localhost:8080/"
    },
    "executionInfo": {
     "elapsed": 3499,
     "status": "ok",
     "timestamp": 1632308565777,
     "user": {
      "displayName": "Hw Chu",
      "photoUrl": "https://lh3.googleusercontent.com/a/default-user=s64",
      "userId": "00746083124622974374"
     },
     "user_tz": 240
    },
    "id": "6348d282",
    "outputId": "d14f1595-b4ff-4b3b-8215-67c3650a6f83"
   },
   "outputs": [
    {
     "name": "stdout",
     "output_type": "stream",
     "text": [
      "2.6.0\n"
     ]
    }
   ],
   "source": [
    "import tensorflow as tf;\n",
    "import numpy as np;\n",
    "import matplotlib.pyplot as plt;\n",
    "print(tf.__version__);\n",
    "import pandas as pd;\n",
    "\n",
    "from sklearn.preprocessing import StandardScaler;\n",
    "from sklearn.preprocessing import MinMaxScaler;\n",
    "from sklearn.metrics import mean_squared_error;\n",
    "\n",
    "import datetime;"
   ]
  },
  {
   "cell_type": "code",
   "execution_count": 2,
   "id": "2132082d",
   "metadata": {
    "id": "2132082d"
   },
   "outputs": [],
   "source": [
    "pd.set_option('display.max_columns', 300);\n",
    "pd.set_option('display.max_rows', 300);\n",
    "tf.keras.backend.set_floatx('float64');"
   ]
  },
  {
   "cell_type": "code",
   "execution_count": 3,
   "id": "b69c2830",
   "metadata": {
    "colab": {
     "base_uri": "https://localhost:8080/"
    },
    "executionInfo": {
     "elapsed": 5,
     "status": "ok",
     "timestamp": 1632308566278,
     "user": {
      "displayName": "Hw Chu",
      "photoUrl": "https://lh3.googleusercontent.com/a/default-user=s64",
      "userId": "00746083124622974374"
     },
     "user_tz": 240
    },
    "id": "b69c2830",
    "outputId": "237f55ab-10f6-4a54-8cde-4d8a8f23534d"
   },
   "outputs": [
    {
     "data": {
      "text/plain": [
       "['/device:GPU:0']"
      ]
     },
     "execution_count": 3,
     "metadata": {},
     "output_type": "execute_result"
    }
   ],
   "source": [
    "from tensorflow.python.client import device_lib\n",
    "\n",
    "def get_available_gpus():\n",
    "    local_device_protos = device_lib.list_local_devices()\n",
    "    return [x.name for x in local_device_protos if x.device_type == 'GPU']\n",
    "\n",
    "get_available_gpus()"
   ]
  },
  {
   "cell_type": "code",
   "execution_count": 4,
   "id": "66d643a9",
   "metadata": {
    "id": "66d643a9"
   },
   "outputs": [],
   "source": [
    "MONTHS = 60;\n",
    "SPLIT = 48; # 2015-2018: training, 2019: testing.\n",
    "# BATCH_SIZE = 19; # used in NN_v1\n",
    "BATCH_SIZE = 24;\n",
    "WINDOW_SIZE = 3;\n",
    "\n",
    "TEST_LENGTH = MONTHS - SPLIT;"
   ]
  },
  {
   "cell_type": "markdown",
   "id": "9c29c1cf",
   "metadata": {
    "id": "9c29c1cf"
   },
   "source": [
    "### Data preparation"
   ]
  },
  {
   "cell_type": "code",
   "execution_count": 5,
   "id": "763b8aac",
   "metadata": {
    "colab": {
     "base_uri": "https://localhost:8080/",
     "height": 325
    },
    "executionInfo": {
     "elapsed": 25630,
     "status": "ok",
     "timestamp": 1632308592088,
     "user": {
      "displayName": "Hw Chu",
      "photoUrl": "https://lh3.googleusercontent.com/a/default-user=s64",
      "userId": "00746083124622974374"
     },
     "user_tz": 240
    },
    "id": "763b8aac",
    "outputId": "12b20483-360a-4e34-8a1b-273d1bdaf228",
    "scrolled": true
   },
   "outputs": [
    {
     "data": {
      "text/html": [
       "<div>\n",
       "<style scoped>\n",
       "    .dataframe tbody tr th:only-of-type {\n",
       "        vertical-align: middle;\n",
       "    }\n",
       "\n",
       "    .dataframe tbody tr th {\n",
       "        vertical-align: top;\n",
       "    }\n",
       "\n",
       "    .dataframe thead th {\n",
       "        text-align: right;\n",
       "    }\n",
       "</style>\n",
       "<table border=\"1\" class=\"dataframe\">\n",
       "  <thead>\n",
       "    <tr style=\"text-align: right;\">\n",
       "      <th></th>\n",
       "      <th>zri</th>\n",
       "      <th>total_pop</th>\n",
       "      <th>percent_rental_units_occupied</th>\n",
       "      <th>percent_highschool</th>\n",
       "      <th>percent_work_from_home</th>\n",
       "      <th>percent_buildings_50+_units</th>\n",
       "      <th>median_building_age</th>\n",
       "      <th>median_age</th>\n",
       "      <th>income_per_capita</th>\n",
       "      <th>percent_native_am</th>\n",
       "      <th>percent_buildings_10_19_units</th>\n",
       "      <th>poverty_rate</th>\n",
       "      <th>percent_white</th>\n",
       "      <th>percent_commute_public_transport</th>\n",
       "      <th>percent_associates</th>\n",
       "      <th>percent_units_owner_occupied</th>\n",
       "      <th>percent_workforce_unemployed</th>\n",
       "      <th>percent_buildings_20_49_units</th>\n",
       "      <th>bs_total_stations</th>\n",
       "      <th>trader joe's</th>\n",
       "      <th>flood</th>\n",
       "      <th>gun_searches</th>\n",
       "      <th>pronouns</th>\n",
       "      <th>twitter</th>\n",
       "      <th>lululemon</th>\n",
       "      <th>retirement</th>\n",
       "      <th>same sex marriage</th>\n",
       "      <th>hurricane</th>\n",
       "      <th>political correctness</th>\n",
       "      <th>job opportunities</th>\n",
       "      <th>unemployment</th>\n",
       "      <th>layoff</th>\n",
       "      <th>wildfire</th>\n",
       "      <th>hashtag</th>\n",
       "      <th>fake news</th>\n",
       "      <th>multifamily_for_rent_searches</th>\n",
       "      <th>thrift</th>\n",
       "      <th>make america great again</th>\n",
       "      <th>flight tickets</th>\n",
       "      <th>black lives matter</th>\n",
       "      <th>lgbt</th>\n",
       "      <th>whole foods</th>\n",
       "      <th>fire</th>\n",
       "      <th>apartment_for_rent_searches</th>\n",
       "      <th>places to go</th>\n",
       "      <th>starbucks</th>\n",
       "      <th>getaway</th>\n",
       "      <th>euthanasia</th>\n",
       "      <th>net_job_rate</th>\n",
       "      <th>startup_firms</th>\n",
       "      <th>state_local_perc</th>\n",
       "    </tr>\n",
       "    <tr>\n",
       "      <th>zip</th>\n",
       "      <th></th>\n",
       "      <th></th>\n",
       "      <th></th>\n",
       "      <th></th>\n",
       "      <th></th>\n",
       "      <th></th>\n",
       "      <th></th>\n",
       "      <th></th>\n",
       "      <th></th>\n",
       "      <th></th>\n",
       "      <th></th>\n",
       "      <th></th>\n",
       "      <th></th>\n",
       "      <th></th>\n",
       "      <th></th>\n",
       "      <th></th>\n",
       "      <th></th>\n",
       "      <th></th>\n",
       "      <th></th>\n",
       "      <th></th>\n",
       "      <th></th>\n",
       "      <th></th>\n",
       "      <th></th>\n",
       "      <th></th>\n",
       "      <th></th>\n",
       "      <th></th>\n",
       "      <th></th>\n",
       "      <th></th>\n",
       "      <th></th>\n",
       "      <th></th>\n",
       "      <th></th>\n",
       "      <th></th>\n",
       "      <th></th>\n",
       "      <th></th>\n",
       "      <th></th>\n",
       "      <th></th>\n",
       "      <th></th>\n",
       "      <th></th>\n",
       "      <th></th>\n",
       "      <th></th>\n",
       "      <th></th>\n",
       "      <th></th>\n",
       "      <th></th>\n",
       "      <th></th>\n",
       "      <th></th>\n",
       "      <th></th>\n",
       "      <th></th>\n",
       "      <th></th>\n",
       "      <th></th>\n",
       "      <th></th>\n",
       "      <th></th>\n",
       "    </tr>\n",
       "  </thead>\n",
       "  <tbody>\n",
       "    <tr>\n",
       "      <th>1013</th>\n",
       "      <td>946.0</td>\n",
       "      <td>21846.25</td>\n",
       "      <td>0.942265</td>\n",
       "      <td>0.383459</td>\n",
       "      <td>0.014618</td>\n",
       "      <td>0.049514</td>\n",
       "      <td>62.333333</td>\n",
       "      <td>36.508333</td>\n",
       "      <td>20935.75</td>\n",
       "      <td>0.000113</td>\n",
       "      <td>0.030202</td>\n",
       "      <td>0.199214</td>\n",
       "      <td>0.714892</td>\n",
       "      <td>0.022609</td>\n",
       "      <td>0.257328</td>\n",
       "      <td>0.423344</td>\n",
       "      <td>0.105077</td>\n",
       "      <td>0.036863</td>\n",
       "      <td>0.0</td>\n",
       "      <td>-0.662346</td>\n",
       "      <td>0.944722</td>\n",
       "      <td>-3.278835</td>\n",
       "      <td>-1.326593</td>\n",
       "      <td>1.004233</td>\n",
       "      <td>-0.212701</td>\n",
       "      <td>-1.425905</td>\n",
       "      <td>-0.588436</td>\n",
       "      <td>-0.285509</td>\n",
       "      <td>0.0</td>\n",
       "      <td>0.096863</td>\n",
       "      <td>3.466751</td>\n",
       "      <td>-0.823717</td>\n",
       "      <td>-0.443099</td>\n",
       "      <td>0.448996</td>\n",
       "      <td>-0.659443</td>\n",
       "      <td>-0.259098</td>\n",
       "      <td>-0.377642</td>\n",
       "      <td>-0.514772</td>\n",
       "      <td>-1.378408</td>\n",
       "      <td>-0.509999</td>\n",
       "      <td>-0.141562</td>\n",
       "      <td>0.291193</td>\n",
       "      <td>1.162014</td>\n",
       "      <td>-4.544528</td>\n",
       "      <td>-1.304734</td>\n",
       "      <td>-1.712329</td>\n",
       "      <td>-0.468627</td>\n",
       "      <td>-0.150792</td>\n",
       "      <td>1.993000</td>\n",
       "      <td>383.0</td>\n",
       "      <td>0.176793</td>\n",
       "    </tr>\n",
       "    <tr>\n",
       "      <th>1013</th>\n",
       "      <td>950.0</td>\n",
       "      <td>21870.50</td>\n",
       "      <td>0.942497</td>\n",
       "      <td>0.385186</td>\n",
       "      <td>0.014466</td>\n",
       "      <td>0.049557</td>\n",
       "      <td>62.666667</td>\n",
       "      <td>36.416667</td>\n",
       "      <td>20931.50</td>\n",
       "      <td>0.000226</td>\n",
       "      <td>0.030477</td>\n",
       "      <td>0.196885</td>\n",
       "      <td>0.715367</td>\n",
       "      <td>0.023198</td>\n",
       "      <td>0.255708</td>\n",
       "      <td>0.421607</td>\n",
       "      <td>0.105835</td>\n",
       "      <td>0.036368</td>\n",
       "      <td>0.0</td>\n",
       "      <td>0.435704</td>\n",
       "      <td>-1.199445</td>\n",
       "      <td>1.929184</td>\n",
       "      <td>-1.326593</td>\n",
       "      <td>1.303017</td>\n",
       "      <td>0.157345</td>\n",
       "      <td>-1.217118</td>\n",
       "      <td>-0.588436</td>\n",
       "      <td>-0.431227</td>\n",
       "      <td>0.0</td>\n",
       "      <td>1.061035</td>\n",
       "      <td>1.934232</td>\n",
       "      <td>-0.823717</td>\n",
       "      <td>-0.443099</td>\n",
       "      <td>0.448996</td>\n",
       "      <td>-0.659443</td>\n",
       "      <td>-0.765415</td>\n",
       "      <td>-0.826044</td>\n",
       "      <td>-0.514772</td>\n",
       "      <td>-0.847070</td>\n",
       "      <td>-0.509999</td>\n",
       "      <td>-1.071717</td>\n",
       "      <td>0.719432</td>\n",
       "      <td>0.225152</td>\n",
       "      <td>-0.351858</td>\n",
       "      <td>-0.015282</td>\n",
       "      <td>-1.241616</td>\n",
       "      <td>0.019798</td>\n",
       "      <td>-0.150792</td>\n",
       "      <td>1.750833</td>\n",
       "      <td>382.0</td>\n",
       "      <td>0.176313</td>\n",
       "    </tr>\n",
       "    <tr>\n",
       "      <th>1013</th>\n",
       "      <td>958.0</td>\n",
       "      <td>21894.75</td>\n",
       "      <td>0.942730</td>\n",
       "      <td>0.386912</td>\n",
       "      <td>0.014314</td>\n",
       "      <td>0.049601</td>\n",
       "      <td>63.000000</td>\n",
       "      <td>36.325000</td>\n",
       "      <td>20927.25</td>\n",
       "      <td>0.000339</td>\n",
       "      <td>0.030752</td>\n",
       "      <td>0.194555</td>\n",
       "      <td>0.715842</td>\n",
       "      <td>0.023787</td>\n",
       "      <td>0.254088</td>\n",
       "      <td>0.419870</td>\n",
       "      <td>0.106592</td>\n",
       "      <td>0.035873</td>\n",
       "      <td>0.0</td>\n",
       "      <td>-0.662346</td>\n",
       "      <td>-0.127361</td>\n",
       "      <td>0.951713</td>\n",
       "      <td>0.732224</td>\n",
       "      <td>1.751194</td>\n",
       "      <td>-0.952793</td>\n",
       "      <td>0.348785</td>\n",
       "      <td>-0.086484</td>\n",
       "      <td>-0.285509</td>\n",
       "      <td>0.0</td>\n",
       "      <td>-0.385223</td>\n",
       "      <td>0.991144</td>\n",
       "      <td>-0.823717</td>\n",
       "      <td>-0.443099</td>\n",
       "      <td>0.448996</td>\n",
       "      <td>0.570434</td>\n",
       "      <td>-0.336470</td>\n",
       "      <td>-0.527109</td>\n",
       "      <td>-0.514772</td>\n",
       "      <td>-0.847070</td>\n",
       "      <td>-0.509999</td>\n",
       "      <td>-1.536795</td>\n",
       "      <td>0.230016</td>\n",
       "      <td>1.295851</td>\n",
       "      <td>-2.620528</td>\n",
       "      <td>-1.304734</td>\n",
       "      <td>-1.268533</td>\n",
       "      <td>-0.794244</td>\n",
       "      <td>1.382217</td>\n",
       "      <td>1.508667</td>\n",
       "      <td>381.0</td>\n",
       "      <td>0.175832</td>\n",
       "    </tr>\n",
       "    <tr>\n",
       "      <th>1013</th>\n",
       "      <td>958.0</td>\n",
       "      <td>21919.00</td>\n",
       "      <td>0.942962</td>\n",
       "      <td>0.388639</td>\n",
       "      <td>0.014162</td>\n",
       "      <td>0.049644</td>\n",
       "      <td>63.333333</td>\n",
       "      <td>36.233333</td>\n",
       "      <td>20923.00</td>\n",
       "      <td>0.000452</td>\n",
       "      <td>0.031027</td>\n",
       "      <td>0.192226</td>\n",
       "      <td>0.716318</td>\n",
       "      <td>0.024375</td>\n",
       "      <td>0.252468</td>\n",
       "      <td>0.418133</td>\n",
       "      <td>0.107350</td>\n",
       "      <td>0.035378</td>\n",
       "      <td>0.0</td>\n",
       "      <td>1.533754</td>\n",
       "      <td>-0.127361</td>\n",
       "      <td>-0.167832</td>\n",
       "      <td>-1.326593</td>\n",
       "      <td>2.348763</td>\n",
       "      <td>-0.582747</td>\n",
       "      <td>-0.799544</td>\n",
       "      <td>-0.588436</td>\n",
       "      <td>-0.358368</td>\n",
       "      <td>0.0</td>\n",
       "      <td>-1.349394</td>\n",
       "      <td>1.462688</td>\n",
       "      <td>-0.823717</td>\n",
       "      <td>-0.443099</td>\n",
       "      <td>0.448996</td>\n",
       "      <td>-0.659443</td>\n",
       "      <td>-0.765415</td>\n",
       "      <td>-0.377642</td>\n",
       "      <td>-0.514772</td>\n",
       "      <td>-0.847070</td>\n",
       "      <td>-0.509999</td>\n",
       "      <td>-1.071717</td>\n",
       "      <td>1.086494</td>\n",
       "      <td>0.760502</td>\n",
       "      <td>-2.839611</td>\n",
       "      <td>-1.820515</td>\n",
       "      <td>-0.743268</td>\n",
       "      <td>-1.282668</td>\n",
       "      <td>-0.150792</td>\n",
       "      <td>1.266500</td>\n",
       "      <td>380.0</td>\n",
       "      <td>0.175352</td>\n",
       "    </tr>\n",
       "    <tr>\n",
       "      <th>1013</th>\n",
       "      <td>955.0</td>\n",
       "      <td>21943.25</td>\n",
       "      <td>0.943195</td>\n",
       "      <td>0.390365</td>\n",
       "      <td>0.014010</td>\n",
       "      <td>0.049687</td>\n",
       "      <td>63.666667</td>\n",
       "      <td>36.141667</td>\n",
       "      <td>20918.75</td>\n",
       "      <td>0.000565</td>\n",
       "      <td>0.031302</td>\n",
       "      <td>0.189897</td>\n",
       "      <td>0.716793</td>\n",
       "      <td>0.024964</td>\n",
       "      <td>0.250848</td>\n",
       "      <td>0.416396</td>\n",
       "      <td>0.108107</td>\n",
       "      <td>0.034883</td>\n",
       "      <td>0.0</td>\n",
       "      <td>-0.296329</td>\n",
       "      <td>0.944722</td>\n",
       "      <td>0.725700</td>\n",
       "      <td>-1.326593</td>\n",
       "      <td>1.153625</td>\n",
       "      <td>-0.336049</td>\n",
       "      <td>0.661965</td>\n",
       "      <td>-0.086484</td>\n",
       "      <td>-0.285509</td>\n",
       "      <td>0.0</td>\n",
       "      <td>0.578949</td>\n",
       "      <td>1.875289</td>\n",
       "      <td>-0.823717</td>\n",
       "      <td>3.266281</td>\n",
       "      <td>-1.393660</td>\n",
       "      <td>0.570434</td>\n",
       "      <td>-1.673442</td>\n",
       "      <td>-0.975511</td>\n",
       "      <td>-0.514772</td>\n",
       "      <td>-0.581401</td>\n",
       "      <td>-0.509999</td>\n",
       "      <td>0.788593</td>\n",
       "      <td>-0.198223</td>\n",
       "      <td>1.162014</td>\n",
       "      <td>-3.858335</td>\n",
       "      <td>0.500500</td>\n",
       "      <td>-0.248671</td>\n",
       "      <td>-1.119860</td>\n",
       "      <td>-1.172798</td>\n",
       "      <td>1.024333</td>\n",
       "      <td>379.0</td>\n",
       "      <td>0.174872</td>\n",
       "    </tr>\n",
       "  </tbody>\n",
       "</table>\n",
       "</div>"
      ],
      "text/plain": [
       "        zri  total_pop  percent_rental_units_occupied  percent_highschool  \\\n",
       "zip                                                                         \n",
       "1013  946.0   21846.25                       0.942265            0.383459   \n",
       "1013  950.0   21870.50                       0.942497            0.385186   \n",
       "1013  958.0   21894.75                       0.942730            0.386912   \n",
       "1013  958.0   21919.00                       0.942962            0.388639   \n",
       "1013  955.0   21943.25                       0.943195            0.390365   \n",
       "\n",
       "      percent_work_from_home  percent_buildings_50+_units  \\\n",
       "zip                                                         \n",
       "1013                0.014618                     0.049514   \n",
       "1013                0.014466                     0.049557   \n",
       "1013                0.014314                     0.049601   \n",
       "1013                0.014162                     0.049644   \n",
       "1013                0.014010                     0.049687   \n",
       "\n",
       "      median_building_age  median_age  income_per_capita  percent_native_am  \\\n",
       "zip                                                                           \n",
       "1013            62.333333   36.508333           20935.75           0.000113   \n",
       "1013            62.666667   36.416667           20931.50           0.000226   \n",
       "1013            63.000000   36.325000           20927.25           0.000339   \n",
       "1013            63.333333   36.233333           20923.00           0.000452   \n",
       "1013            63.666667   36.141667           20918.75           0.000565   \n",
       "\n",
       "      percent_buildings_10_19_units  poverty_rate  percent_white  \\\n",
       "zip                                                                \n",
       "1013                       0.030202      0.199214       0.714892   \n",
       "1013                       0.030477      0.196885       0.715367   \n",
       "1013                       0.030752      0.194555       0.715842   \n",
       "1013                       0.031027      0.192226       0.716318   \n",
       "1013                       0.031302      0.189897       0.716793   \n",
       "\n",
       "      percent_commute_public_transport  percent_associates  \\\n",
       "zip                                                          \n",
       "1013                          0.022609            0.257328   \n",
       "1013                          0.023198            0.255708   \n",
       "1013                          0.023787            0.254088   \n",
       "1013                          0.024375            0.252468   \n",
       "1013                          0.024964            0.250848   \n",
       "\n",
       "      percent_units_owner_occupied  percent_workforce_unemployed  \\\n",
       "zip                                                                \n",
       "1013                      0.423344                      0.105077   \n",
       "1013                      0.421607                      0.105835   \n",
       "1013                      0.419870                      0.106592   \n",
       "1013                      0.418133                      0.107350   \n",
       "1013                      0.416396                      0.108107   \n",
       "\n",
       "      percent_buildings_20_49_units  bs_total_stations  trader joe's  \\\n",
       "zip                                                                    \n",
       "1013                       0.036863                0.0     -0.662346   \n",
       "1013                       0.036368                0.0      0.435704   \n",
       "1013                       0.035873                0.0     -0.662346   \n",
       "1013                       0.035378                0.0      1.533754   \n",
       "1013                       0.034883                0.0     -0.296329   \n",
       "\n",
       "         flood  gun_searches  pronouns   twitter  lululemon  retirement  \\\n",
       "zip                                                                       \n",
       "1013  0.944722     -3.278835 -1.326593  1.004233  -0.212701   -1.425905   \n",
       "1013 -1.199445      1.929184 -1.326593  1.303017   0.157345   -1.217118   \n",
       "1013 -0.127361      0.951713  0.732224  1.751194  -0.952793    0.348785   \n",
       "1013 -0.127361     -0.167832 -1.326593  2.348763  -0.582747   -0.799544   \n",
       "1013  0.944722      0.725700 -1.326593  1.153625  -0.336049    0.661965   \n",
       "\n",
       "      same sex marriage  hurricane  political correctness  job opportunities  \\\n",
       "zip                                                                            \n",
       "1013          -0.588436  -0.285509                    0.0           0.096863   \n",
       "1013          -0.588436  -0.431227                    0.0           1.061035   \n",
       "1013          -0.086484  -0.285509                    0.0          -0.385223   \n",
       "1013          -0.588436  -0.358368                    0.0          -1.349394   \n",
       "1013          -0.086484  -0.285509                    0.0           0.578949   \n",
       "\n",
       "      unemployment    layoff  wildfire   hashtag  fake news  \\\n",
       "zip                                                           \n",
       "1013      3.466751 -0.823717 -0.443099  0.448996  -0.659443   \n",
       "1013      1.934232 -0.823717 -0.443099  0.448996  -0.659443   \n",
       "1013      0.991144 -0.823717 -0.443099  0.448996   0.570434   \n",
       "1013      1.462688 -0.823717 -0.443099  0.448996  -0.659443   \n",
       "1013      1.875289 -0.823717  3.266281 -1.393660   0.570434   \n",
       "\n",
       "      multifamily_for_rent_searches    thrift  make america great again  \\\n",
       "zip                                                                       \n",
       "1013                      -0.259098 -0.377642                 -0.514772   \n",
       "1013                      -0.765415 -0.826044                 -0.514772   \n",
       "1013                      -0.336470 -0.527109                 -0.514772   \n",
       "1013                      -0.765415 -0.377642                 -0.514772   \n",
       "1013                      -1.673442 -0.975511                 -0.514772   \n",
       "\n",
       "      flight tickets  black lives matter      lgbt  whole foods      fire  \\\n",
       "zip                                                                         \n",
       "1013       -1.378408           -0.509999 -0.141562     0.291193  1.162014   \n",
       "1013       -0.847070           -0.509999 -1.071717     0.719432  0.225152   \n",
       "1013       -0.847070           -0.509999 -1.536795     0.230016  1.295851   \n",
       "1013       -0.847070           -0.509999 -1.071717     1.086494  0.760502   \n",
       "1013       -0.581401           -0.509999  0.788593    -0.198223  1.162014   \n",
       "\n",
       "      apartment_for_rent_searches  places to go  starbucks   getaway  \\\n",
       "zip                                                                    \n",
       "1013                    -4.544528     -1.304734  -1.712329 -0.468627   \n",
       "1013                    -0.351858     -0.015282  -1.241616  0.019798   \n",
       "1013                    -2.620528     -1.304734  -1.268533 -0.794244   \n",
       "1013                    -2.839611     -1.820515  -0.743268 -1.282668   \n",
       "1013                    -3.858335      0.500500  -0.248671 -1.119860   \n",
       "\n",
       "      euthanasia  net_job_rate  startup_firms  state_local_perc  \n",
       "zip                                                              \n",
       "1013   -0.150792      1.993000          383.0          0.176793  \n",
       "1013   -0.150792      1.750833          382.0          0.176313  \n",
       "1013    1.382217      1.508667          381.0          0.175832  \n",
       "1013   -0.150792      1.266500          380.0          0.175352  \n",
       "1013   -1.172798      1.024333          379.0          0.174872  "
      ]
     },
     "execution_count": 5,
     "metadata": {},
     "output_type": "execute_result"
    }
   ],
   "source": [
    "multi_data = pd.read_csv('../data/full_dataset_engineered.csv', index_col=0);\n",
    "zip_ids = multi_data.index.unique();\n",
    "\n",
    "multi_data.drop([\"City\", \"State\", \"Metro\", \"CountyName\", \"year\", \"month\", \"year-month\"],\\\n",
    "                 axis = 1, inplace = True);\n",
    "\n",
    "multi_data.head()"
   ]
  },
  {
   "cell_type": "code",
   "execution_count": 6,
   "id": "2a9d05f0",
   "metadata": {
    "id": "2a9d05f0"
   },
   "outputs": [],
   "source": [
    "FEATURES = multi_data.shape[1] - 1;\n",
    "\n",
    "feature_name = list(multi_data.columns);"
   ]
  },
  {
   "cell_type": "code",
   "execution_count": 7,
   "id": "84fac97c",
   "metadata": {
    "colab": {
     "base_uri": "https://localhost:8080/"
    },
    "executionInfo": {
     "elapsed": 7,
     "status": "ok",
     "timestamp": 1632308592090,
     "user": {
      "displayName": "Hw Chu",
      "photoUrl": "https://lh3.googleusercontent.com/a/default-user=s64",
      "userId": "00746083124622974374"
     },
     "user_tz": 240
    },
    "id": "84fac97c",
    "outputId": "136ccdee-bb1e-479e-820a-9dcdd44787f8"
   },
   "outputs": [
    {
     "name": "stdout",
     "output_type": "stream",
     "text": [
      "1301\n"
     ]
    }
   ],
   "source": [
    "# In our first try, just look at the zip codes in NY. zip:10001-14905\n",
    "multi_zip = zip_ids;\n",
    "# list(multi_data[(multi_data.index >= 10001) & (multi_data.index <= 14905)].index.unique());\n",
    "print(len(multi_zip))"
   ]
  },
  {
   "cell_type": "markdown",
   "id": "554b815f",
   "metadata": {
    "id": "554b815f"
   },
   "source": [
    "### Utility functions"
   ]
  },
  {
   "cell_type": "code",
   "execution_count": 8,
   "id": "839569c0",
   "metadata": {
    "id": "839569c0"
   },
   "outputs": [],
   "source": [
    "@tf.autograph.experimental.do_not_convert\n",
    "def windowed_dataset(series, window_size, batch_size, shuffle_buffer):\n",
    "    dataset = tf.data.Dataset.from_tensor_slices(series); #(43,)\n",
    "    dataset = dataset.window(window_size + 1, shift=1, drop_remainder=True);\n",
    "    dataset = dataset.flat_map(lambda window: window.batch(window_size + 1)); #(13,43)\n",
    "    dataset = dataset.shuffle(shuffle_buffer)\\\n",
    "                     .map(lambda window: (window[:-1], window[-1][0]));\n",
    "    dataset = dataset.batch(batch_size);\n",
    "    return dataset;"
   ]
  },
  {
   "cell_type": "code",
   "execution_count": 9,
   "id": "9c5dcf3b",
   "metadata": {
    "id": "9c5dcf3b"
   },
   "outputs": [],
   "source": [
    "def plot_series(time, series, format=\"-\", start=0, end=None):\n",
    "    plt.plot(time[start:end], series[start:end], format)\n",
    "    plt.xlabel(\"Time Frame\")\n",
    "    plt.ylabel(\"ZRI\")\n",
    "    plt.grid(True)"
   ]
  },
  {
   "cell_type": "markdown",
   "id": "6ad66377",
   "metadata": {
    "id": "6ad66377"
   },
   "source": [
    "### Neural network center"
   ]
  },
  {
   "cell_type": "code",
   "execution_count": 10,
   "id": "d9eaf0e5",
   "metadata": {
    "id": "d9eaf0e5"
   },
   "outputs": [],
   "source": [
    "def NN_dataprep(multi):\n",
    "    cities_stats = {};\n",
    "    dataset = windowed_dataset(np.zeros((1, FEATURES+1)), WINDOW_SIZE, BATCH_SIZE, 60);\n",
    "    validset = windowed_dataset(np.zeros((1, FEATURES+1)), WINDOW_SIZE, BATCH_SIZE, 60);\n",
    "\n",
    "    #for zip_num in multi_data[\"zip\"].unique():\n",
    "    for zip_num in multi:\n",
    "        test = multi_data[multi_data.index == zip_num];\n",
    "        single_city_series = np.array(test);\n",
    "\n",
    "        scaler = MinMaxScaler();\n",
    "        \n",
    "        single_city_transformed = scaler.fit_transform(single_city_series)\n",
    "        \n",
    "        cities_stats[zip_num] = {\"min\": scaler.data_min_[0],\n",
    "                                 \"range\": scaler.data_range_[0]};\n",
    "\n",
    "        single_city_train = single_city_transformed[:SPLIT];\n",
    "        single_city_test = single_city_transformed[SPLIT-WINDOW_SIZE:];\n",
    "\n",
    "        cityset = windowed_dataset(single_city_train, WINDOW_SIZE, BATCH_SIZE, 60);\n",
    "        cityvalid = windowed_dataset(single_city_test, WINDOW_SIZE, BATCH_SIZE, 60);\n",
    "\n",
    "        dataset = dataset.concatenate(cityset);\n",
    "        validset = validset.concatenate(cityvalid);\n",
    "        \n",
    "    dataset = dataset.prefetch(1);\n",
    "    validset = validset.prefetch(1);\n",
    "        \n",
    "    return dataset, validset, cities_stats;"
   ]
  },
  {
   "cell_type": "code",
   "execution_count": 11,
   "id": "c679c1ee",
   "metadata": {
    "id": "c679c1ee"
   },
   "outputs": [],
   "source": [
    "def NN_model(dataset, termination=0, test=None):\n",
    "    tf.keras.backend.clear_session();\n",
    "    # dataset = windowed_dataset(x_train, window_size, batch_size, shuffle_buffer_size)\n",
    "\n",
    "    class myCallbacks(tf.keras.callbacks.Callback):\n",
    "        def on_epoch_end(self, epoch, logs={}):\n",
    "            mse = logs.get(\"mse\");\n",
    "            if(mse < termination):\n",
    "                print(\"\\nGot an mse at {:.4f} in epoch {} and stopped training\\n\".format(mse, epoch));\n",
    "                self.model.stop_training = True;\n",
    "            \n",
    "    callback = myCallbacks();\n",
    "    \n",
    "    model = tf.keras.models.Sequential([\n",
    "#         tf.keras.layers.Lambda(lambda x: tf.expand_dims(x, axis=-1),\n",
    "#                           input_shape=[None]),\n",
    "#       tf.keras.layers.Conv1D(filters=32, kernel_size=3,\n",
    "#                           strides=1, padding=\"causal\",\n",
    "#                           activation=\"relu\",\n",
    "#                           input_shape=[None, WINDOW_SIZE, FEATURES+1]),\n",
    "        tf.keras.layers.LSTM(32, return_sequences=False,\n",
    "                             input_shape = [WINDOW_SIZE, FEATURES+1]),\n",
    "        #tf.keras.layers.Bidirectional(tf.keras.layers.LSTM(16, return_sequences=True)),\n",
    "        # tf.keras.layers.SimpleRNN(8, return_sequences=True),\n",
    "        #  tf.keras.layers.SimpleRNN(16, return_sequences=True),\n",
    "        tf.keras.layers.Dense(16, activation=\"relu\"),\n",
    "        tf.keras.layers.Dropout(0.2),\n",
    "    #   tf.keras.layers.Dense(16, activation=\"relu\"),\n",
    "        tf.keras.layers.Dense(1)\n",
    "        # tf.keras.layers.Lambda(lambda x: x * 2.0)\n",
    "    ]);\n",
    "    \n",
    "    optimizer = tf.keras.optimizers.SGD(learning_rate=3e-4, momentum=0.9)\n",
    "    model.compile(loss=tf.keras.losses.Huber(),\n",
    "                  optimizer=\"adam\",\n",
    "                  metrics=[\"mae\", \"mse\"])\n",
    "\n",
    "    model.build((None,WINDOW_SIZE,FEATURES+1))\n",
    "    model.summary()\n",
    "\n",
    "    if not test: history = model.fit(dataset, epochs=20, callbacks = [callback], verbose = 1);\n",
    "    else: history = model.fit(dataset, epochs=20, validation_data=test,\\\n",
    "                              callbacks=[callback], verbose = 1);\n",
    "    return model;"
   ]
  },
  {
   "cell_type": "code",
   "execution_count": 12,
   "id": "017a84b3",
   "metadata": {
    "id": "017a84b3"
   },
   "outputs": [],
   "source": [
    "def NN_forecast(model, series_transformed):\n",
    "    forecast = []\n",
    "    results = []\n",
    "    for time in range(MONTHS - WINDOW_SIZE):\n",
    "        forecast.append(model.predict(series_transformed[np.newaxis, time:time + WINDOW_SIZE, :]))\n",
    "\n",
    "    results = [float(x[-1][0]) for x in forecast];\n",
    "    timeline = range(WINDOW_SIZE, MONTHS);\n",
    "    time_test = range(SPLIT, MONTHS);\n",
    "    actual = list(series_transformed[WINDOW_SIZE:, 0]);\n",
    "\n",
    "    forecast = series_transformed[SPLIT - WINDOW_SIZE:,:].copy();\n",
    "\n",
    "    for time in range(TEST_LENGTH): # Change temp[time + WINDOW_SIZE]\n",
    "        forecast[time + WINDOW_SIZE, 0] =\\\n",
    "        model.predict(forecast[np.newaxis, time:time + WINDOW_SIZE, :])[-1][0];\n",
    "\n",
    "    pure_forecast = forecast[WINDOW_SIZE:,0];\n",
    "    \n",
    "    print(len(results), len(actual), len(pure_forecast))\n",
    "    \n",
    "    return results, actual, pure_forecast;"
   ]
  },
  {
   "cell_type": "code",
   "execution_count": 13,
   "id": "0879d68c",
   "metadata": {
    "id": "0879d68c"
   },
   "outputs": [],
   "source": [
    "@tf.autograph.experimental.do_not_convert\n",
    "def NN_group_test(multi, termination=0, plot=False):\n",
    "    '''\n",
    "    Input: A list of zip codes\n",
    "    Output: the RMSE of a NN model on the predicted train, partially predicted test, and complete predicted test.\n",
    "    '''\n",
    "    # Collection of data\n",
    "    dataset_train, dataset_test, city_stats = NN_dataprep(multi);\n",
    "        \n",
    "#     for x, y in dataset_train:\n",
    "#         print(np.array(x).shape, np.array(y).shape);\n",
    "\n",
    "    model = NN_model(dataset_train, termination, dataset_test);\n",
    "    model.save('.//saved_models/NN_model_{0:%Y-%m-%d %H-%M-%S}.h5'.format(datetime.datetime.now()));\n",
    "    \n",
    "    score_dict = {\"zip\":[], \"RMSE_train\":[], \"RMSE_test\":[], \"RMSE_pure\":[], \"forecast\":[]};\n",
    "\n",
    "    time_train = list(range(SPLIT));\n",
    "    time_test = list(range(SPLIT, MONTHS));\n",
    "    time_actual = range(WINDOW_SIZE, MONTHS);\n",
    "    \n",
    "    for zip_num in multi:\n",
    "        scaler = MinMaxScaler();\n",
    "        series = np.array(multi_data[multi_data.index == zip_num]);\n",
    "        series_transformed = scaler.fit_transform(series);\n",
    "    \n",
    "        # Forecasting\n",
    "        results, actual, pure_forecast = NN_forecast(model, series_transformed);\n",
    "\n",
    "        # Compute MSE\n",
    "        M_train = mean_squared_error(actual[:-TEST_LENGTH], results[:-TEST_LENGTH])**0.5 * scaler.data_range_[0];\n",
    "        M_test = mean_squared_error(actual[-TEST_LENGTH:], results[-TEST_LENGTH:])**0.5 * scaler.data_range_[0];\n",
    "        M_pure = mean_squared_error(actual[-TEST_LENGTH:], pure_forecast[-TEST_LENGTH:])**0.5 * scaler.data_range_[0];\n",
    "    \n",
    "        if plot: # If the plot option is selected, plot the graph.\n",
    "            plt.figure(figsize=(10, 6))\n",
    "            plot_series(time_actual, np.array(actual)*scaler.data_range_[0]+scaler.data_min_[0]);\n",
    "            plot_series(time_actual, np.array(results)*scaler.data_range_[0]+scaler.data_min_[0]);\n",
    "            plot_series(time_test, np.array(pure_forecast)*scaler.data_range_[0]+scaler.data_min_[0]);\n",
    "            plt.show();\n",
    "\n",
    "        score_dict[\"zip\"].append(zip_num);\n",
    "        score_dict[\"RMSE_train\"].append(M_train);\n",
    "        score_dict[\"RMSE_test\"].append(M_test);\n",
    "        score_dict[\"RMSE_pure\"].append(M_pure);\n",
    "        score_dict[\"forecast\"].append(pure_forecast);\n",
    "        print(zip_num, M_train, M_test, M_pure)\n",
    "\n",
    "    return score_dict;"
   ]
  },
  {
   "cell_type": "markdown",
   "id": "fff307a8",
   "metadata": {
    "id": "fff307a8"
   },
   "source": [
    "### The script"
   ]
  },
  {
   "cell_type": "code",
   "execution_count": null,
   "id": "uxsf_0qB0HRB",
   "metadata": {
    "colab": {
     "base_uri": "https://localhost:8080/",
     "height": 1000,
     "output_embedded_package_id": "14X10mX8ceVe7PzfMzcSOeDbXDTML8KSU"
    },
    "executionInfo": {
     "elapsed": 11206771,
     "status": "ok",
     "timestamp": 1632328125769,
     "user": {
      "displayName": "Hw Chu",
      "photoUrl": "https://lh3.googleusercontent.com/a/default-user=s64",
      "userId": "00746083124622974374"
     },
     "user_tz": 240
    },
    "id": "uxsf_0qB0HRB",
    "outputId": "c9ecb291-fcfb-4dbd-b0c3-26cd232e6036"
   },
   "outputs": [
    {
     "name": "stdout",
     "output_type": "stream",
     "text": [
      "Model: \"sequential\"\n",
      "_________________________________________________________________\n",
      "Layer (type)                 Output Shape              Param #   \n",
      "=================================================================\n",
      "lstm (LSTM)                  (None, 32)                10752     \n",
      "_________________________________________________________________\n",
      "dense (Dense)                (None, 16)                528       \n",
      "_________________________________________________________________\n",
      "dropout (Dropout)            (None, 16)                0         \n",
      "_________________________________________________________________\n",
      "dense_1 (Dense)              (None, 1)                 17        \n",
      "=================================================================\n",
      "Total params: 11,297\n",
      "Trainable params: 11,297\n",
      "Non-trainable params: 0\n",
      "_________________________________________________________________\n"
     ]
    }
   ],
   "source": [
    "score_dict = NN_group_test(multi_zip, 0.004, True);"
   ]
  },
  {
   "cell_type": "code",
   "execution_count": null,
   "id": "io9wUbyX4ie9",
   "metadata": {
    "executionInfo": {
     "elapsed": 8,
     "status": "ok",
     "timestamp": 1632328125964,
     "user": {
      "displayName": "Hw Chu",
      "photoUrl": "https://lh3.googleusercontent.com/a/default-user=s64",
      "userId": "00746083124622974374"
     },
     "user_tz": 240
    },
    "id": "io9wUbyX4ie9"
   },
   "outputs": [],
   "source": [
    "score_dict;"
   ]
  },
  {
   "cell_type": "code",
   "execution_count": null,
   "id": "99d4f8af",
   "metadata": {
    "colab": {
     "base_uri": "https://localhost:8080/"
    },
    "executionInfo": {
     "elapsed": 8,
     "status": "ok",
     "timestamp": 1632328125965,
     "user": {
      "displayName": "Hw Chu",
      "photoUrl": "https://lh3.googleusercontent.com/a/default-user=s64",
      "userId": "00746083124622974374"
     },
     "user_tz": 240
    },
    "id": "99d4f8af",
    "outputId": "35e12c17-94ca-42f3-c8e2-ab76aa8abb2e"
   },
   "outputs": [],
   "source": [
    "print(sum(score_dict[\"RMSE_test\"])/len(score_dict[\"RMSE_test\"]), sum(score_dict[\"RMSE_pure\"])/len(score_dict[\"RMSE_pure\"]));"
   ]
  },
  {
   "cell_type": "code",
   "execution_count": null,
   "id": "4RN9dWGuMHx1",
   "metadata": {
    "executionInfo": {
     "elapsed": 4,
     "status": "ok",
     "timestamp": 1632328125965,
     "user": {
      "displayName": "Hw Chu",
      "photoUrl": "https://lh3.googleusercontent.com/a/default-user=s64",
      "userId": "00746083124622974374"
     },
     "user_tz": 240
    },
    "id": "4RN9dWGuMHx1"
   },
   "outputs": [],
   "source": [
    "temp = score_dict.copy();"
   ]
  },
  {
   "cell_type": "code",
   "execution_count": null,
   "id": "C7JuDUlnNltE",
   "metadata": {
    "executionInfo": {
     "elapsed": 3025,
     "status": "ok",
     "timestamp": 1632328128986,
     "user": {
      "displayName": "Hw Chu",
      "photoUrl": "https://lh3.googleusercontent.com/a/default-user=s64",
      "userId": "00746083124622974374"
     },
     "user_tz": 240
    },
    "id": "C7JuDUlnNltE"
   },
   "outputs": [],
   "source": [
    "from sklearn.metrics import r2_score;\n",
    "r2 = [];\n",
    "actual = [];\n",
    "predicted = [];\n",
    "for i in range(len(multi_zip)):\n",
    "    scaler = MinMaxScaler();\n",
    "    frame = np.array(multi_data[multi_data.index == multi_zip[i]][[\"zri\"]]);\n",
    "    frame = scaler.fit_transform(frame);\n",
    "\n",
    "    actual.extend(list(np.array(multi_data[multi_data.index == temp['zip'][i]][\"zri\"])[-TEST_LENGTH:]));\n",
    "    predicted.extend(list(temp['forecast'][i]*scaler.data_range_[0]+scaler.data_min_[0]));\n",
    "\n",
    "    # r2_zip = mean_squared_error(np.array(multi_data[multi_data.index == temp['zip'][i]][\"zri\"])[-TEST_LENGTH:], temp['forecast'][i]*scaler.data_range_[0]+scaler.data_min_[0]);\n",
    "    # print(r2_zip, np.array(multi_data[multi_data.index == temp['zip'][i]][\"zri\"])[-TEST_LENGTH:], temp['forecast'][i]*scaler.data_range_[0]+scaler.data_min_[0]);\n",
    "    # r2.append(r2_zip);"
   ]
  },
  {
   "cell_type": "code",
   "execution_count": null,
   "id": "U8IKYFckWdDR",
   "metadata": {
    "colab": {
     "base_uri": "https://localhost:8080/"
    },
    "executionInfo": {
     "elapsed": 5,
     "status": "ok",
     "timestamp": 1632328128991,
     "user": {
      "displayName": "Hw Chu",
      "photoUrl": "https://lh3.googleusercontent.com/a/default-user=s64",
      "userId": "00746083124622974374"
     },
     "user_tz": 240
    },
    "id": "U8IKYFckWdDR",
    "outputId": "a60b9b18-176b-488d-a9b7-99e00467a015"
   },
   "outputs": [],
   "source": [
    "r2_score(actual, predicted)"
   ]
  },
  {
   "cell_type": "code",
   "execution_count": null,
   "id": "364c431b",
   "metadata": {
    "executionInfo": {
     "elapsed": 470,
     "status": "ok",
     "timestamp": 1632328129458,
     "user": {
      "displayName": "Hw Chu",
      "photoUrl": "https://lh3.googleusercontent.com/a/default-user=s64",
      "userId": "00746083124622974374"
     },
     "user_tz": 240
    },
    "id": "364c431b"
   },
   "outputs": [],
   "source": [
    "test = pd.DataFrame(score_dict);\n",
    "test.to_csv('.//Results in CSV files/ZRI_and_engineered.csv', index = False);"
   ]
  }
 ],
 "metadata": {
  "colab": {
   "name": "_Tensorflow_region_zip_all_features.ipynb",
   "provenance": []
  },
  "kernelspec": {
   "display_name": "Python 3 (ipykernel)",
   "language": "python",
   "name": "python3"
  },
  "language_info": {
   "codemirror_mode": {
    "name": "ipython",
    "version": 3
   },
   "file_extension": ".py",
   "mimetype": "text/x-python",
   "name": "python",
   "nbconvert_exporter": "python",
   "pygments_lexer": "ipython3",
   "version": "3.9.6"
  }
 },
 "nbformat": 4,
 "nbformat_minor": 5
}
