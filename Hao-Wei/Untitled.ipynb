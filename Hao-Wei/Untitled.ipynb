{
 "cells": [
  {
   "cell_type": "markdown",
   "id": "776230e2",
   "metadata": {},
   "source": [
    "### Just recording a few things with worse statisitics\n",
    "76155: Missing all 7 in `owner_occupied_housing_units_lower_value_quartile`\n",
    "\n",
    "76155: Missing all 7 in `owner_occupied_housing_units_median_value`\n",
    "\n",
    "76155: Missing all 7 in `owner_occupied_housing_units_upper_value_quartile`"
   ]
  },
  {
   "cell_type": "code",
   "execution_count": null,
   "id": "c626d068",
   "metadata": {},
   "outputs": [],
   "source": []
  }
 ],
 "metadata": {
  "kernelspec": {
   "display_name": "Python 3",
   "language": "python",
   "name": "python3"
  },
  "language_info": {
   "codemirror_mode": {
    "name": "ipython",
    "version": 3
   },
   "file_extension": ".py",
   "mimetype": "text/x-python",
   "name": "python",
   "nbconvert_exporter": "python",
   "pygments_lexer": "ipython3",
   "version": "3.8.8"
  }
 },
 "nbformat": 4,
 "nbformat_minor": 5
}
