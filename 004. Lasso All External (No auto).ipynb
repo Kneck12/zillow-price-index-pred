{
 "cells": [
  {
   "cell_type": "markdown",
   "id": "829dac37",
   "metadata": {},
   "source": [
    "# Lasso - External features only"
   ]
  },
  {
   "cell_type": "code",
   "execution_count": 1,
   "id": "1e9b217d",
   "metadata": {},
   "outputs": [],
   "source": [
    "import pandas as pd\n",
    "import numpy as np\n",
    "from sklearn.preprocessing import StandardScaler\n",
    "from sklearn.model_selection import GridSearchCV\n",
    "from sklearn.model_selection import TimeSeriesSplit\n",
    "\n",
    "from sklearn.linear_model import Lasso\n",
    "from math import sqrt\n",
    "from sklearn.metrics import mean_squared_error\n",
    "from sklearn.metrics import r2_score"
   ]
  },
  {
   "cell_type": "code",
   "execution_count": 2,
   "id": "217c884d",
   "metadata": {},
   "outputs": [],
   "source": [
    "pd.set_option('display.max_rows', 500)\n",
    "pd.set_option('display.max_columns', 500)"
   ]
  },
  {
   "cell_type": "code",
   "execution_count": 3,
   "id": "d8b9aed2",
   "metadata": {},
   "outputs": [],
   "source": [
    "df_orig = pd.read_csv('../../../full_dataset_unscaled.csv')\n",
    "df_orig = df_orig.rename(columns={\"datetime\":\"year-month\"})\n",
    "df_orig['net_job_rate']=df_orig['job_creation_rate']-df_orig['job_destruction_rate']\n",
    "df_orig['apartment_for_rent_searches'] = df_orig[['apartment for rent','studio for rent','1 bedroom for rent','3 bedroom for rent']].sum(axis=1)\n",
    "df_orig['multifamily_for_rent_searches'] = df_orig[['townhomes for rent','townhouse for rent','house for rent','duplex apartments for rent','condos for rent']].sum(axis=1)\n",
    "df_orig['gun_searches'] = df_orig[['gun range', 'gun control', 'gun violence']].sum(axis=1)\n",
    "df_orig['zri'] = np.log(df_orig['zri'])"
   ]
  },
  {
   "cell_type": "code",
   "execution_count": 4,
   "id": "44fbf1c4",
   "metadata": {},
   "outputs": [],
   "source": [
    "gen_cols = ['zip',\n",
    " 'City',\n",
    " 'State',\n",
    " 'Metro',\n",
    " 'CountyName',\n",
    " 'zri',\n",
    " 'year',\n",
    " 'month',\n",
    " 'year-month']\n",
    "acs_cols = ['percent_white',\n",
    " 'percent_black',\n",
    " 'percent_asian',\n",
    " 'percent_hispanic',\n",
    " 'percent_native_am',\n",
    " 'percent_other_race',\n",
    " 'percent_0_17',\n",
    " 'percent_18_39',\n",
    " 'percent_40_64',\n",
    " 'percent_65+',\n",
    " 'percent_rental_units_vacant',\n",
    " 'percent_rental_units_occupied',\n",
    " 'percent_graduate_deg',\n",
    " 'percent_bachelors',\n",
    " 'percent_associates',\n",
    " 'percent_highschool',\n",
    " 'percent_less_highschool',\n",
    " 'percent_commute_public_transport',\n",
    " 'percent_commute_less_30',\n",
    " 'percent_buildings_less_10_units',\n",
    " 'percent_buildings_10_19_units',\n",
    " 'percent_buildings_20_49_units',\n",
    " 'percent_buildings_50+_units',\n",
    " 'percent_commute_30_to_59',\n",
    " 'percent_commute_60_to_89',\n",
    " 'percent_commute_90_more',\n",
    " 'percent_new_city',\n",
    " 'percent_new_unit',\n",
    " 'percent_units_owner_occupied',\n",
    " 'median_building_age',\n",
    " 'income_per_capita',\n",
    " 'poverty_rate',\n",
    " 'total_pop',\n",
    " 'percent_workforce_unemployed',\n",
    " 'percent_work_from_home',\n",
    " 'median_age',\n",
    " 'percent_female',\n",
    " 'gini_index',\n",
    " 'percent_not_us_citizen']\n",
    "acs_cols_remove=['percent_other_race','percent_40_64','percent_0_17','percent_18_39',\n",
    "       'percent_65+','percent_rental_units_vacant','percent_not_us_citizen','percent_less_highschool', 'percent_buildings_less_10_units',\n",
    " 'percent_commute_30_to_59',\n",
    " 'percent_commute_60_to_89',\n",
    " 'percent_commute_90_more', 'percent_commute_less_30','percent_graduate_deg',\n",
    "                'percent_female','gini_index','percent_hispanic','percent_black','percent_bachelors',\n",
    "                 'percent_asian','percent_new_city','percent_new_unit']\n",
    "acs_cols_keep=list(set(acs_cols) - set(acs_cols_remove))\n",
    "bikeshare_cols = ['bs_total_stations',\n",
    " 'bs_total_systems',\n",
    " 'has_bike_sharing']\n",
    "bikeshare_cols_remove=['has_bike_sharing','bs_total_systems']\n",
    "bikeshare_cols_keep=list(set(bikeshare_cols) - set(bikeshare_cols_remove))\n",
    "trends_cols = ['gun range',\n",
    " 'gun control',\n",
    " 'gun violence',\n",
    " 'job opportunities',\n",
    " 'unemployment',\n",
    " 'retirement',\n",
    " 'layoff',\n",
    " 'lgbt',\n",
    " 'same sex marriage',\n",
    " 'they',\n",
    " 'pronouns',\n",
    " 'black lives matter',\n",
    " 'political correctness',\n",
    " 'make america great again',\n",
    " 'euthanasia',\n",
    " 'getaway',\n",
    " 'places to go',\n",
    " 'flight tickets',\n",
    " 'twitter',\n",
    " 'hashtag',\n",
    " 'fake news',\n",
    " 'hurricane',\n",
    " 'wildfire',\n",
    " 'flood',\n",
    " 'fire',\n",
    " \"trader joe's\",\n",
    " 'whole foods',\n",
    " 'lululemon',\n",
    " 'thrift',\n",
    " 'condos for rent',\n",
    " 'duplex apartments for rent',\n",
    " 'townhomes for rent',\n",
    " 'townhouses for rent',\n",
    " 'home for rent',\n",
    " 'house for rent',\n",
    " 'townhome for rent',\n",
    " 'townhouse for rent',\n",
    " 'apartment for rent',\n",
    " 'studio for rent',\n",
    " '1 bedroom for rent',\n",
    " '3 bedroom for rent',\n",
    " 'starbucks',\n",
    "  'apartment_for_rent_searches',\n",
    "  'multifamily_for_rent_searches',\n",
    "  'gun_searches']\n",
    "trends_cols_remove=['they','apartment for rent','studio for rent','1 bedroom for rent',\n",
    "                    '3 bedroom for rent', 'townhome for rent','townhouse for rent','townhomes for rent',\n",
    "                    'townhouses for rent','house for rent','home for rent','duplex apartments for rent','condos for rent',\n",
    "                   'gun range', 'gun control', 'gun violence','homes for rent']\n",
    "trends_cols_keep=list(set(trends_cols) - set(trends_cols_remove))\n",
    "economic_cols = ['total_firms',\n",
    " 'job_creation_rate',\n",
    " 'job_destruction_rate',\n",
    " 'startup_firms','state_local_perc', 'net_job_rate']\n",
    "economic_cols_remove=['total_firms', 'job_creation_rate','job_destruction_rate',]\n",
    "economic_cols_keep=list(set(economic_cols) - set(economic_cols_remove))"
   ]
  },
  {
   "cell_type": "code",
   "execution_count": 5,
   "id": "8dfeffeb",
   "metadata": {},
   "outputs": [],
   "source": [
    "for zipcode in df_orig['zip'].unique():\n",
    "    globals()[f\"scaler_{zipcode}\"]=StandardScaler(copy=False)\n",
    "    df_filtered=df_orig[df_orig['zip']==zipcode]\n",
    "    df_filtered_train = df_filtered[df_filtered['year']<2019]\n",
    "    globals()[f\"scaler_{zipcode}\"].fit(df_filtered_train[['zri']])\n",
    "    df_orig.loc[df_orig['zip']==zipcode,'zri']=globals()[f\"scaler_{zipcode}\"].transform(df_filtered[['zri']])"
   ]
  },
  {
   "cell_type": "code",
   "execution_count": 6,
   "id": "d0fdfbe4",
   "metadata": {},
   "outputs": [],
   "source": [
    "df_orig = df_orig[gen_cols + acs_cols_keep + bikeshare_cols_keep + economic_cols_keep + trends_cols_keep]"
   ]
  },
  {
   "cell_type": "code",
   "execution_count": 7,
   "id": "f37e71bc",
   "metadata": {},
   "outputs": [],
   "source": [
    "scale_columns = ['percent_buildings_50+_units', 'percent_associates',\n",
    "       'percent_rental_units_occupied', 'percent_white', 'percent_highschool',\n",
    "       'percent_work_from_home', 'percent_buildings_20_49_units',\n",
    "       'median_building_age', 'median_age', 'percent_commute_public_transport',\n",
    "       'percent_buildings_10_19_units', 'income_per_capita',\n",
    "       'percent_native_am', 'percent_workforce_unemployed', 'poverty_rate',\n",
    "       'percent_units_owner_occupied', 'total_pop', 'bs_total_stations',\n",
    "       'startup_firms', 'state_local_perc', 'net_job_rate', 'gun_searches',\n",
    "       'wildfire', 'fire', 'lgbt', 'political correctness', 'lululemon',\n",
    "       'make america great again', 'same sex marriage', 'job opportunities',\n",
    "       'retirement', 'black lives matter', 'flight tickets', 'pronouns',\n",
    "       'trader joe\\'s', 'fake news', 'hurricane', 'flood', 'whole foods',\n",
    "       'twitter', 'thrift', 'hashtag', 'apartment_for_rent_searches', 'layoff',\n",
    "       'starbucks', 'getaway', 'places to go', 'unemployment', 'euthanasia',\n",
    "       'multifamily_for_rent_searches']"
   ]
  },
  {
   "cell_type": "code",
   "execution_count": 8,
   "id": "412b3c95",
   "metadata": {},
   "outputs": [],
   "source": [
    "for zipcode in df_orig['zip'].unique():\n",
    "    globals()[f\"scaler_features_{zipcode}\"]=StandardScaler(copy=False)\n",
    "    df_filtered=df_orig[df_orig['zip']==zipcode]\n",
    "    df_filtered_train = df_filtered[df_filtered['year']<2019]\n",
    "    globals()[f\"scaler_features_{zipcode}\"].fit(df_filtered_train[scale_columns])\n",
    "    df_orig.loc[df_orig['zip']==zipcode,scale_columns]=globals()[f\"scaler_features_{zipcode}\"].transform(df_filtered[scale_columns])"
   ]
  },
  {
   "cell_type": "code",
   "execution_count": 9,
   "id": "148c4fb4",
   "metadata": {},
   "outputs": [],
   "source": [
    "df_scaled_no_lags = df_orig.copy()"
   ]
  },
  {
   "cell_type": "code",
   "execution_count": 10,
   "id": "a37ad984",
   "metadata": {},
   "outputs": [],
   "source": [
    "df_all = df_scaled_no_lags "
   ]
  },
  {
   "cell_type": "code",
   "execution_count": 11,
   "id": "c4c4a994",
   "metadata": {},
   "outputs": [],
   "source": [
    "def laggenerator(i,colname,df):\n",
    "    timelist=list(df['year-month'].drop_duplicates().sort_values())[0:i]\n",
    "    df.loc[:,f'{colname}_lag{i}']=df.loc[:,f'{colname}'].shift(i)\n",
    "    df.loc[df['year-month'].isin(timelist),f'{colname}_lag{i}']=0\n",
    "    return df\n",
    "\n",
    "def laggenerator_diff(i,colname,df):\n",
    "    timelist=list(df['year-month'].drop_duplicates().sort_values())[0:i+1]\n",
    "    df.loc[:,f'{colname}_diff_lag{i}_lag{i+1}']=df.loc[:,f'{colname}'].shift(i)-df.loc[:,f'{colname}'].shift(i+1)\n",
    "    df.loc[df['year-month'].isin(timelist),f'{colname}_diff_lag{i}_lag{i+1}']=0\n",
    "    return df\n",
    "\n",
    "def laggenerator_diff12(i,colname,df):\n",
    "    timelist=list(df['year-month'].drop_duplicates().sort_values())[0:i+11]\n",
    "    df.loc[:,f'{colname}_diff_lag{i}_lag{i+11}']=df.loc[:,f'{colname}'].shift(i)-df.loc[:,f'{colname}'].shift(i+11)\n",
    "    df.loc[df['year-month'].isin(timelist),f'{colname}_diff_lag{i}_lag{i+11}']=0\n",
    "    return df\n",
    "\n",
    "#ZRI \n",
    "def lag_gen(df):\n",
    "    for i in range(1,12):\n",
    "        df=laggenerator(i, 'zri', df)\n",
    "    df=laggenerator_diff12(1, 'zri', df)\n",
    "    return df"
   ]
  },
  {
   "cell_type": "code",
   "execution_count": 13,
   "id": "7dc264e4",
   "metadata": {},
   "outputs": [],
   "source": [
    "#ZRI\n",
    "#df_zri_all = lag_gen(df_zri_all)\n",
    "\n",
    "#ACS\n",
    "for col in acs_cols_keep:\n",
    "    df_all = laggenerator_diff12(1,col,df_all)\n",
    "    df_all = laggenerator(1,col,df_all)\n",
    "    df_all = laggenerator(6,col,df_all)\n",
    "    df_all = laggenerator(12,col,df_all)\n",
    "    \n",
    "    \n",
    "#BIKESHARE AND ECONOMIC \n",
    "for col in bikeshare_cols_keep + economic_cols_keep:\n",
    "    df_all = laggenerator(1, col, df_all)\n",
    "    df_all = laggenerator_diff12(1, col, df_all)  \n",
    "    \n",
    "#TRENDS \n",
    "for col in trends_cols_keep:\n",
    "    for i in range(1,3):\n",
    "        df_all=laggenerator(i, col, df_all)\n",
    "    #df_all = laggenerator_diff12(1,col,df_all) "
   ]
  },
  {
   "cell_type": "code",
   "execution_count": 15,
   "id": "e77021fb",
   "metadata": {},
   "outputs": [],
   "source": [
    "df = df_all[df_all['year-month']>='2015-04-01']\n",
    "train = df[(df['year'] < 2019) & (df['year']>=2015)]\n",
    "test = df[df['year']==2019]\n",
    "\n",
    "train = train.sort_values(by='year-month',ascending=True)\n",
    "test = test.sort_values(by='year-month',ascending=True)\n",
    "\n",
    "save_train = train.copy()\n",
    "save_test = test.copy()\n",
    "\n",
    "train = train.drop(['zip','City','State','Metro','CountyName','year','month','year-month'],axis=1)\n",
    "train_y = train['zri']\n",
    "train_X = train.drop(['zri'],axis=1)\n",
    "\n",
    "test = test.drop(['zip','City','State','Metro','CountyName','year','month','year-month'],axis=1)\n",
    "test_y = test['zri']\n",
    "test_X = test.drop(['zri'],axis=1)"
   ]
  },
  {
   "cell_type": "code",
   "execution_count": 31,
   "id": "59451776",
   "metadata": {},
   "outputs": [],
   "source": [
    "#Lasso Grid Search\n",
    "fold=TimeSeriesSplit(n_splits=5)\n",
    "lasso = Lasso()\n",
    "grid = dict()\n",
    "grid['alpha'] = [0.001,0.01,0.05,0.1,0.5,1,10]\n",
    "lasso_grid = GridSearchCV(lasso, grid, cv=fold, n_jobs=-1).fit(train_X,train_y)\n",
    "lasso_best = lasso_grid.best_estimator_"
   ]
  },
  {
   "cell_type": "code",
   "execution_count": 32,
   "id": "87e3af10",
   "metadata": {},
   "outputs": [
    {
     "data": {
      "text/plain": [
       "Lasso(alpha=0.01)"
      ]
     },
     "execution_count": 32,
     "metadata": {},
     "output_type": "execute_result"
    }
   ],
   "source": [
    "lasso_best"
   ]
  },
  {
   "cell_type": "code",
   "execution_count": 33,
   "id": "d0e0b1dd",
   "metadata": {},
   "outputs": [
    {
     "data": {
      "text/plain": [
       "Lasso(alpha=0.01)"
      ]
     },
     "execution_count": 33,
     "metadata": {},
     "output_type": "execute_result"
    }
   ],
   "source": [
    "lasso_best.fit(train_X, train_y)"
   ]
  },
  {
   "cell_type": "code",
   "execution_count": 34,
   "id": "81c790ae",
   "metadata": {},
   "outputs": [
    {
     "data": {
      "text/plain": [
       "zip              0\n",
       "zri_test         0\n",
       "zri_predicted    0\n",
       "dtype: int64"
      ]
     },
     "execution_count": 34,
     "metadata": {},
     "output_type": "execute_result"
    }
   ],
   "source": [
    "scaled_predictions_y = pd.Series(lasso_best.predict(test_X))\n",
    "temp = pd.concat([save_test['zip'],test_y],axis=1)\n",
    "temp.reset_index(drop=True, inplace=True)\n",
    "scaled_predictions_y.reset_index(drop=True, inplace=True)\n",
    "rstable = pd.concat([temp,scaled_predictions_y],axis=1)\n",
    "rstable.columns = ['zip','zri_test','zri_predicted']\n",
    "\n",
    "\n",
    "\n",
    "for zipcode in rstable['zip'].unique():\n",
    "    rstable_filtered=rstable[rstable['zip']==zipcode]\n",
    "    rstable.loc[rstable['zip']==zipcode,'zri_test']=globals()[f\"scaler_{zipcode}\"].inverse_transform(rstable_filtered[['zri_test']])\n",
    "    rstable.loc[rstable['zip']==zipcode,'zri_predicted']=globals()[f\"scaler_{zipcode}\"].inverse_transform(rstable_filtered[['zri_predicted']])  \n",
    "rstable.loc[:,'zri_test'] = np.exp(rstable.loc[:,'zri_test']).astype('float128')\n",
    "rstable.loc[:,'zri_predicted'] = np.exp(rstable.loc[:,'zri_predicted'])\n",
    "rstable.isna().sum()"
   ]
  },
  {
   "cell_type": "code",
   "execution_count": 35,
   "id": "5ac57a3a",
   "metadata": {},
   "outputs": [
    {
     "data": {
      "text/plain": [
       "Series([], Name: zip, dtype: int64)"
      ]
     },
     "execution_count": 35,
     "metadata": {},
     "output_type": "execute_result"
    }
   ],
   "source": [
    " rstable.loc[rstable['zri_predicted'] > 1e4,'zip']"
   ]
  },
  {
   "cell_type": "code",
   "execution_count": 36,
   "id": "063e0e48",
   "metadata": {},
   "outputs": [],
   "source": [
    "# rstable.replace([np.inf, - np.inf], np.nan, inplace = True)\n",
    "# rstable = rstable.fillna(0)"
   ]
  },
  {
   "cell_type": "code",
   "execution_count": 37,
   "id": "5c9f1808",
   "metadata": {},
   "outputs": [
    {
     "name": "stdout",
     "output_type": "stream",
     "text": [
      "R2: 94.89666394064837\n",
      "RMSE: 150.29735379766055\n"
     ]
    }
   ],
   "source": [
    "#RESULTS \n",
    "r2 = r2_score(rstable['zri_test'],rstable['zri_predicted'])\n",
    "rmse = sqrt(mean_squared_error(rstable['zri_test'],rstable['zri_predicted']))\n",
    "print(f'R2: {r2*100}')\n",
    "print(f'RMSE: {rmse}')"
   ]
  },
  {
   "cell_type": "code",
   "execution_count": 38,
   "id": "11940c44",
   "metadata": {},
   "outputs": [],
   "source": [
    "importance = np.abs(lasso_best.coef_)\n",
    "coef = lasso_best.coef_\n",
    "feature_names = train_X.columns\n",
    "feature_importances= pd.DataFrame([feature_names,importance,coef]).T\n",
    "feature_importances.columns = ['feature_names','coef_abs','coef']\n",
    "\n",
    "feature_importances = feature_importances.sort_values(by='coef_abs',ascending=False)\n",
    "feature_importances['Parent_feature']=feature_importances['feature_names'].apply(lambda x: x[0:x.find('_lag')] if x.find('_lag')!=-1 else x)\n",
    "feature_importances['Parent_feature']=feature_importances['Parent_feature'].apply(lambda x: x[0:x.find('_diff')] if x.find('_diff')!=-1 else x)"
   ]
  },
  {
   "cell_type": "code",
   "execution_count": 39,
   "id": "e56bc764",
   "metadata": {},
   "outputs": [
    {
     "name": "stderr",
     "output_type": "stream",
     "text": [
      "<ipython-input-39-0836822478da>:2: SettingWithCopyWarning: \n",
      "A value is trying to be set on a copy of a slice from a DataFrame.\n",
      "Try using .loc[row_indexer,col_indexer] = value instead\n",
      "\n",
      "See the caveats in the documentation: https://pandas.pydata.org/pandas-docs/stable/user_guide/indexing.html#returning-a-view-versus-a-copy\n",
      "  feats_agg['coef_abs'] = feats_agg['coef_abs'].astype('float')\n"
     ]
    },
    {
     "data": {
      "text/html": [
       "<div>\n",
       "<style scoped>\n",
       "    .dataframe tbody tr th:only-of-type {\n",
       "        vertical-align: middle;\n",
       "    }\n",
       "\n",
       "    .dataframe tbody tr th {\n",
       "        vertical-align: top;\n",
       "    }\n",
       "\n",
       "    .dataframe thead th {\n",
       "        text-align: right;\n",
       "    }\n",
       "</style>\n",
       "<table border=\"1\" class=\"dataframe\">\n",
       "  <thead>\n",
       "    <tr style=\"text-align: right;\">\n",
       "      <th></th>\n",
       "      <th>coef_abs</th>\n",
       "    </tr>\n",
       "    <tr>\n",
       "      <th>Parent_feature</th>\n",
       "      <th></th>\n",
       "    </tr>\n",
       "  </thead>\n",
       "  <tbody>\n",
       "    <tr>\n",
       "      <th>unemployment</th>\n",
       "      <td>0.060719</td>\n",
       "    </tr>\n",
       "    <tr>\n",
       "      <th>twitter</th>\n",
       "      <td>0.051358</td>\n",
       "    </tr>\n",
       "    <tr>\n",
       "      <th>startup_firms</th>\n",
       "      <td>0.039399</td>\n",
       "    </tr>\n",
       "    <tr>\n",
       "      <th>state_local_perc</th>\n",
       "      <td>0.032659</td>\n",
       "    </tr>\n",
       "    <tr>\n",
       "      <th>hurricane</th>\n",
       "      <td>0.015672</td>\n",
       "    </tr>\n",
       "    <tr>\n",
       "      <th>multifamily_for_rent_searches</th>\n",
       "      <td>0.011844</td>\n",
       "    </tr>\n",
       "    <tr>\n",
       "      <th>net_job_rate</th>\n",
       "      <td>0.011610</td>\n",
       "    </tr>\n",
       "    <tr>\n",
       "      <th>fake news</th>\n",
       "      <td>0.011068</td>\n",
       "    </tr>\n",
       "    <tr>\n",
       "      <th>starbucks</th>\n",
       "      <td>0.010375</td>\n",
       "    </tr>\n",
       "    <tr>\n",
       "      <th>black lives matter</th>\n",
       "      <td>0.009178</td>\n",
       "    </tr>\n",
       "    <tr>\n",
       "      <th>percent_workforce_unemployed</th>\n",
       "      <td>0.007741</td>\n",
       "    </tr>\n",
       "    <tr>\n",
       "      <th>thrift</th>\n",
       "      <td>0.007592</td>\n",
       "    </tr>\n",
       "    <tr>\n",
       "      <th>bs_total_stations</th>\n",
       "      <td>0.006974</td>\n",
       "    </tr>\n",
       "    <tr>\n",
       "      <th>flood</th>\n",
       "      <td>0.006568</td>\n",
       "    </tr>\n",
       "    <tr>\n",
       "      <th>median_building_age</th>\n",
       "      <td>0.005871</td>\n",
       "    </tr>\n",
       "    <tr>\n",
       "      <th>poverty_rate</th>\n",
       "      <td>0.005763</td>\n",
       "    </tr>\n",
       "    <tr>\n",
       "      <th>places to go</th>\n",
       "      <td>0.005703</td>\n",
       "    </tr>\n",
       "    <tr>\n",
       "      <th>percent_white</th>\n",
       "      <td>0.005536</td>\n",
       "    </tr>\n",
       "    <tr>\n",
       "      <th>fire</th>\n",
       "      <td>0.004023</td>\n",
       "    </tr>\n",
       "    <tr>\n",
       "      <th>lgbt</th>\n",
       "      <td>0.003978</td>\n",
       "    </tr>\n",
       "    <tr>\n",
       "      <th>euthanasia</th>\n",
       "      <td>0.003248</td>\n",
       "    </tr>\n",
       "    <tr>\n",
       "      <th>income_per_capita</th>\n",
       "      <td>0.002945</td>\n",
       "    </tr>\n",
       "    <tr>\n",
       "      <th>percent_work_from_home</th>\n",
       "      <td>0.002776</td>\n",
       "    </tr>\n",
       "    <tr>\n",
       "      <th>apartment_for_rent_searches</th>\n",
       "      <td>0.002716</td>\n",
       "    </tr>\n",
       "    <tr>\n",
       "      <th>percent_rental_units_occupied</th>\n",
       "      <td>0.002481</td>\n",
       "    </tr>\n",
       "    <tr>\n",
       "      <th>retirement</th>\n",
       "      <td>0.001488</td>\n",
       "    </tr>\n",
       "    <tr>\n",
       "      <th>whole foods</th>\n",
       "      <td>0.001326</td>\n",
       "    </tr>\n",
       "    <tr>\n",
       "      <th>percent_units_owner_occupied</th>\n",
       "      <td>0.001266</td>\n",
       "    </tr>\n",
       "    <tr>\n",
       "      <th>total_pop</th>\n",
       "      <td>0.001031</td>\n",
       "    </tr>\n",
       "    <tr>\n",
       "      <th>same sex marriage</th>\n",
       "      <td>0.000892</td>\n",
       "    </tr>\n",
       "    <tr>\n",
       "      <th>percent_highschool</th>\n",
       "      <td>0.000647</td>\n",
       "    </tr>\n",
       "    <tr>\n",
       "      <th>political correctness</th>\n",
       "      <td>0.000000</td>\n",
       "    </tr>\n",
       "    <tr>\n",
       "      <th>pronouns</th>\n",
       "      <td>0.000000</td>\n",
       "    </tr>\n",
       "    <tr>\n",
       "      <th>trader joe's</th>\n",
       "      <td>0.000000</td>\n",
       "    </tr>\n",
       "    <tr>\n",
       "      <th>percent_buildings_50+_units</th>\n",
       "      <td>0.000000</td>\n",
       "    </tr>\n",
       "    <tr>\n",
       "      <th>percent_native_am</th>\n",
       "      <td>0.000000</td>\n",
       "    </tr>\n",
       "    <tr>\n",
       "      <th>percent_commute_public_transport</th>\n",
       "      <td>0.000000</td>\n",
       "    </tr>\n",
       "    <tr>\n",
       "      <th>percent_buildings_20_49_units</th>\n",
       "      <td>0.000000</td>\n",
       "    </tr>\n",
       "    <tr>\n",
       "      <th>percent_buildings_10_19_units</th>\n",
       "      <td>0.000000</td>\n",
       "    </tr>\n",
       "    <tr>\n",
       "      <th>percent_associates</th>\n",
       "      <td>0.000000</td>\n",
       "    </tr>\n",
       "    <tr>\n",
       "      <th>median_age</th>\n",
       "      <td>0.000000</td>\n",
       "    </tr>\n",
       "    <tr>\n",
       "      <th>make america great again</th>\n",
       "      <td>0.000000</td>\n",
       "    </tr>\n",
       "    <tr>\n",
       "      <th>lululemon</th>\n",
       "      <td>0.000000</td>\n",
       "    </tr>\n",
       "    <tr>\n",
       "      <th>layoff</th>\n",
       "      <td>0.000000</td>\n",
       "    </tr>\n",
       "    <tr>\n",
       "      <th>job opportunities</th>\n",
       "      <td>0.000000</td>\n",
       "    </tr>\n",
       "    <tr>\n",
       "      <th>hashtag</th>\n",
       "      <td>0.000000</td>\n",
       "    </tr>\n",
       "    <tr>\n",
       "      <th>gun_searches</th>\n",
       "      <td>0.000000</td>\n",
       "    </tr>\n",
       "    <tr>\n",
       "      <th>getaway</th>\n",
       "      <td>0.000000</td>\n",
       "    </tr>\n",
       "    <tr>\n",
       "      <th>flight tickets</th>\n",
       "      <td>0.000000</td>\n",
       "    </tr>\n",
       "    <tr>\n",
       "      <th>wildfire</th>\n",
       "      <td>0.000000</td>\n",
       "    </tr>\n",
       "  </tbody>\n",
       "</table>\n",
       "</div>"
      ],
      "text/plain": [
       "                                  coef_abs\n",
       "Parent_feature                            \n",
       "unemployment                      0.060719\n",
       "twitter                           0.051358\n",
       "startup_firms                     0.039399\n",
       "state_local_perc                  0.032659\n",
       "hurricane                         0.015672\n",
       "multifamily_for_rent_searches     0.011844\n",
       "net_job_rate                      0.011610\n",
       "fake news                         0.011068\n",
       "starbucks                         0.010375\n",
       "black lives matter                0.009178\n",
       "percent_workforce_unemployed      0.007741\n",
       "thrift                            0.007592\n",
       "bs_total_stations                 0.006974\n",
       "flood                             0.006568\n",
       "median_building_age               0.005871\n",
       "poverty_rate                      0.005763\n",
       "places to go                      0.005703\n",
       "percent_white                     0.005536\n",
       "fire                              0.004023\n",
       "lgbt                              0.003978\n",
       "euthanasia                        0.003248\n",
       "income_per_capita                 0.002945\n",
       "percent_work_from_home            0.002776\n",
       "apartment_for_rent_searches       0.002716\n",
       "percent_rental_units_occupied     0.002481\n",
       "retirement                        0.001488\n",
       "whole foods                       0.001326\n",
       "percent_units_owner_occupied      0.001266\n",
       "total_pop                         0.001031\n",
       "same sex marriage                 0.000892\n",
       "percent_highschool                0.000647\n",
       "political correctness             0.000000\n",
       "pronouns                          0.000000\n",
       "trader joe's                      0.000000\n",
       "percent_buildings_50+_units       0.000000\n",
       "percent_native_am                 0.000000\n",
       "percent_commute_public_transport  0.000000\n",
       "percent_buildings_20_49_units     0.000000\n",
       "percent_buildings_10_19_units     0.000000\n",
       "percent_associates                0.000000\n",
       "median_age                        0.000000\n",
       "make america great again          0.000000\n",
       "lululemon                         0.000000\n",
       "layoff                            0.000000\n",
       "job opportunities                 0.000000\n",
       "hashtag                           0.000000\n",
       "gun_searches                      0.000000\n",
       "getaway                           0.000000\n",
       "flight tickets                    0.000000\n",
       "wildfire                          0.000000"
      ]
     },
     "execution_count": 39,
     "metadata": {},
     "output_type": "execute_result"
    }
   ],
   "source": [
    "feats_agg = feature_importances[['coef_abs','Parent_feature']]\n",
    "feats_agg['coef_abs'] = feats_agg['coef_abs'].astype('float')\n",
    "feats_agg_abs = feats_agg.groupby('Parent_feature').agg('mean').sort_values('coef_abs',ascending=False)\n",
    "feats_agg_abs"
   ]
  },
  {
   "cell_type": "code",
   "execution_count": 48,
   "id": "32c26491",
   "metadata": {},
   "outputs": [
    {
     "name": "stderr",
     "output_type": "stream",
     "text": [
      "<ipython-input-48-4bc9ffa5b676>:2: SettingWithCopyWarning: \n",
      "A value is trying to be set on a copy of a slice from a DataFrame.\n",
      "Try using .loc[row_indexer,col_indexer] = value instead\n",
      "\n",
      "See the caveats in the documentation: https://pandas.pydata.org/pandas-docs/stable/user_guide/indexing.html#returning-a-view-versus-a-copy\n",
      "  feats_agg['coef'] = feats_agg['coef'].astype('float')\n"
     ]
    }
   ],
   "source": [
    "feats_agg = feature_importances[['coef','Parent_feature']]\n",
    "feats_agg['coef'] = feats_agg['coef'].astype('float')\n",
    "feats_agg_sign = feats_agg.groupby('Parent_feature').agg('mean').sort_values('coef',ascending=False)\n",
    "#feats_agg_sign"
   ]
  },
  {
   "cell_type": "code",
   "execution_count": 41,
   "id": "ade7e478",
   "metadata": {},
   "outputs": [],
   "source": [
    "title = 'FINAL_4_No_Auto_All'\n",
    "fi = title+'_FI'\n",
    "fi2 = title+'_FI_Agg_sign'\n",
    "# rstable.to_csv(f'../../../zillow_orientation/Residuals/{title}.csv')\n",
    "# feature_importances.to_csv(f'../../../zillow_orientation/Residuals/{fi}.csv')\n",
    "# feats_agg_abs.to_csv(f'../../../zillow_orientation/Residuals/{fi2}.csv')"
   ]
  },
  {
   "cell_type": "code",
   "execution_count": 42,
   "id": "2bb400b2",
   "metadata": {},
   "outputs": [
    {
     "data": {
      "text/plain": [
       "97.4910608864369"
      ]
     },
     "execution_count": 42,
     "metadata": {},
     "output_type": "execute_result"
    }
   ],
   "source": [
    "rstable['residual']=rstable['zri_predicted']-rstable['zri_test']\n",
    "rstable['residual_squared']=rstable['residual'].map(lambda x: x**2)\n",
    "rmse_table=rstable.groupby('zip')[['residual_squared']].agg(['sum','count'])\n",
    "rmse_table['residual_avgd']=rmse_table['residual_squared']['sum']/rmse_table['residual_squared']['count']\n",
    "rmse_table['residual_avgd']=rmse_table['residual_avgd'].apply(lambda x: x**0.5)\n",
    "rmse_table['residual_avgd'].mean()"
   ]
  },
  {
   "cell_type": "code",
   "execution_count": 43,
   "id": "3d34a129",
   "metadata": {},
   "outputs": [
    {
     "name": "stdout",
     "output_type": "stream",
     "text": [
      "R2: 94.89666394064837\n",
      "RMSE: 150.29735379766055\n"
     ]
    }
   ],
   "source": [
    " \n",
    "r2 = r2_score(rstable['zri_test'],rstable['zri_predicted'])\n",
    "rmse = sqrt(mean_squared_error(rstable['zri_test'],rstable['zri_predicted']))\n",
    "print(f'R2: {r2*100}')\n",
    "print(f'RMSE: {rmse}')"
   ]
  },
  {
   "cell_type": "code",
   "execution_count": 44,
   "id": "8df29486",
   "metadata": {},
   "outputs": [],
   "source": [
    "# rstable.to_csv(f'../../../zillow_orientation/Residuals/{title}_rstable.csv')\n",
    "# rmse_table.to_csv(f'../../../zillow_orientation/Residuals/{title}_rmse.csv')\n"
   ]
  }
 ],
 "metadata": {
  "kernelspec": {
   "display_name": "Python 3",
   "language": "python",
   "name": "python3"
  },
  "language_info": {
   "codemirror_mode": {
    "name": "ipython",
    "version": 3
   },
   "file_extension": ".py",
   "mimetype": "text/x-python",
   "name": "python",
   "nbconvert_exporter": "python",
   "pygments_lexer": "ipython3",
   "version": "3.8.8"
  }
 },
 "nbformat": 4,
 "nbformat_minor": 5
}
