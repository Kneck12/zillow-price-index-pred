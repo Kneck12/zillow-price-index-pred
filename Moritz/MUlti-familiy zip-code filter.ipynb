{
 "cells": [
  {
   "cell_type": "code",
   "execution_count": 183,
   "id": "0ae03ff9",
   "metadata": {},
   "outputs": [
    {
     "data": {
      "text/plain": [
       "0.30037614185921546"
      ]
     },
     "execution_count": 183,
     "metadata": {},
     "output_type": "execute_result"
    }
   ],
   "source": [
    "import pandas as pd\n",
    "import numpy as np\n",
    "\n",
    "from catboost import CatBoostRegressor\n",
    "from sklearn.preprocessing import OneHotEncoder, LabelEncoder\n",
    "\n",
    "from datetime import datetime\n",
    "\n",
    "pd.set_option('display.max_rows', 5000)\n",
    "\n",
    "zhi_df2=pd.read_csv('../data/Zip_Zri_MultiFamilyResidenceRental.csv')\n",
    "\n",
    "\n",
    "zri = pd.melt(zhi_df2, id_vars = zhi_df2.columns[0:6], value_vars = zhi_df2.columns[7:], var_name = 'year-month', value_name = 'ZRI').sort_values(['RegionName', 'year-month'])\n",
    "\n",
    "#zri=zri[zri['year-month']>'2014-02']\n",
    "\n",
    "zri=zri.fillna(0)\n",
    "zri['gapsize']=zri['ZRI'].rolling(6).sum()\n",
    "droplist=list(zri[(zri['gapsize']==0) & (zri['year-month']>'2014-06')]['RegionName'].drop_duplicates())\n",
    "zri[(zri['gapsize']==0)].shape[0]/zri.shape[0]\n",
    "len(droplist)/len(zri['RegionName'].drop_duplicates())\n"
   ]
  },
  {
   "cell_type": "code",
   "execution_count": 225,
   "id": "95874583",
   "metadata": {},
   "outputs": [
    {
     "name": "stderr",
     "output_type": "stream",
     "text": [
      "<ipython-input-225-ed144cebc724>:14: SettingWithCopyWarning: \n",
      "A value is trying to be set on a copy of a slice from a DataFrame.\n",
      "Try using .loc[row_indexer,col_indexer] = value instead\n",
      "\n",
      "See the caveats in the documentation: https://pandas.pydata.org/pandas-docs/stable/user_guide/indexing.html#returning-a-view-versus-a-copy\n",
      "  zri3['ZRI']=zri3['ZRI'].fillna(method='bfill')\n"
     ]
    }
   ],
   "source": [
    "zri2 = pd.melt(zhi_df2, id_vars = zhi_df2.columns[0:6], value_vars = zhi_df2.columns[7:], var_name = 'year-month', value_name = 'ZRI').sort_values(['RegionName', 'year-month'])\n",
    "\n",
    "zri2[(zri2['year-month']=='2019-12') & (zri2['ZRI'].isna())]=zri2[(zri2['year-month']=='2019-12') & (zri2['ZRI'].isna())].fillna(method='ffill')\n",
    "\n",
    "zri2=zri2.groupby('RegionName').apply(lambda group: group.interpolate())\n",
    "#zri2[zri2['ZRI'].isna()]\n",
    "\n",
    "#zri2['ZRI']=(zri2['ZRI']/zri2['ZRI'].shift(1))-1\n",
    "\n",
    "zri2=zri2[(zri2['year-month']>'2014-01') & (zri2['year-month']<'2020-01')]\n",
    "\n",
    "zri3=zri2[~(zri2['RegionName'].isin(droplist))]\n",
    "\n",
    "zri3['ZRI']=zri3['ZRI'].fillna(method='bfill')\n"
   ]
  },
  {
   "cell_type": "code",
   "execution_count": 227,
   "id": "6ea8d0e5",
   "metadata": {},
   "outputs": [
    {
     "data": {
      "text/plain": [
       "559"
      ]
     },
     "execution_count": 227,
     "metadata": {},
     "output_type": "execute_result"
    }
   ],
   "source": [
    "#zip codes to drop\n",
    "len(droplist)"
   ]
  },
  {
   "cell_type": "code",
   "execution_count": 228,
   "id": "58ae56da",
   "metadata": {},
   "outputs": [
    {
     "data": {
      "text/plain": [
       "1302"
      ]
     },
     "execution_count": 228,
     "metadata": {},
     "output_type": "execute_result"
    }
   ],
   "source": [
    "#remaining filterd ZRI data:\n",
    "len(zri3['RegionName'].drop_duplicates())"
   ]
  },
  {
   "cell_type": "code",
   "execution_count": 226,
   "id": "e33e1f47",
   "metadata": {},
   "outputs": [
    {
     "data": {
      "text/plain": [
       "RegionID       0\n",
       "RegionName     0\n",
       "City           0\n",
       "State          0\n",
       "Metro         70\n",
       "CountyName     0\n",
       "year-month     0\n",
       "ZRI            0\n",
       "dtype: int64"
      ]
     },
     "execution_count": 226,
     "metadata": {},
     "output_type": "execute_result"
    }
   ],
   "source": [
    "zri3.isna().sum()"
   ]
  },
  {
   "cell_type": "markdown",
   "id": "ade5e07f",
   "metadata": {},
   "source": [
    "## "
   ]
  },
  {
   "cell_type": "code",
   "execution_count": null,
   "id": "11c79d52",
   "metadata": {},
   "outputs": [],
   "source": []
  },
  {
   "cell_type": "code",
   "execution_count": null,
   "id": "7bf31e46",
   "metadata": {},
   "outputs": [],
   "source": []
  }
 ],
 "metadata": {
  "kernelspec": {
   "display_name": "Python 3",
   "language": "python",
   "name": "python3"
  },
  "language_info": {
   "codemirror_mode": {
    "name": "ipython",
    "version": 3
   },
   "file_extension": ".py",
   "mimetype": "text/x-python",
   "name": "python",
   "nbconvert_exporter": "python",
   "pygments_lexer": "ipython3",
   "version": "3.8.8"
  }
 },
 "nbformat": 4,
 "nbformat_minor": 5
}
