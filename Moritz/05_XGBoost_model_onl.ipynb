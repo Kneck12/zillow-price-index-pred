{
  "nbformat": 4,
  "nbformat_minor": 5,
  "metadata": {
    "colab": {
      "name": "Copy of 03_XGBoost_model.ipynb",
      "provenance": [],
      "collapsed_sections": []
    },
    "kernelspec": {
      "display_name": "Python 3",
      "language": "python",
      "name": "python3"
    },
    "language_info": {
      "codemirror_mode": {
        "name": "ipython",
        "version": 3
      },
      "file_extension": ".py",
      "mimetype": "text/x-python",
      "name": "python",
      "nbconvert_exporter": "python",
      "pygments_lexer": "ipython3",
      "version": "3.8.8"
    }
  },
  "cells": [
    {
      "cell_type": "code",
      "metadata": {
        "id": "1c02b888"
      },
      "source": [
        "import pandas as pd\n",
        "import numpy as np\n",
        "import plotly.express as px\n",
        "from sklearn.preprocessing import OneHotEncoder, LabelEncoder, StandardScaler, Normalizer, MinMaxScaler\n",
        "\n",
        "import sklearn\n",
        "\n",
        "from xgboost import XGBRegressor\n",
        "from statsmodels.stats.outliers_influence import variance_inflation_factor\n",
        "\n",
        "\n",
        "from sklearn.svm import SVR\n",
        "from sklearn.kernel_ridge import KernelRidge\n",
        "from sklearn.linear_model import LinearRegression, Lasso\n",
        "from sklearn.ensemble import BaggingRegressor, RandomForestRegressor\n",
        "\n",
        "from statsmodels.tsa.seasonal import seasonal_decompose\n",
        "import plotly.express as px\n",
        "\n",
        "from sklearn.model_selection import GridSearchCV, TimeSeriesSplit\n",
        "from sklearn.feature_selection import RFECV\n",
        "\n",
        "\n",
        "from datetime import datetime\n",
        "\n",
        "pd.set_option('display.max_rows', 5000)"
      ],
      "id": "1c02b888",
      "execution_count": 48,
      "outputs": []
    },
    {
      "cell_type": "markdown",
      "metadata": {
        "id": "3d777a7d"
      },
      "source": [
        "<H1>External feature integration"
      ],
      "id": "3d777a7d"
    },
    {
      "cell_type": "code",
      "metadata": {
        "id": "3d2a2bde"
      },
      "source": [
        "df=pd.read_csv('https://raw.githubusercontent.com/Kneck12/zillow-price-index-pred/main/data/zri_acs_bikeshare_merged.csv')"
      ],
      "id": "3d2a2bde",
      "execution_count": 2,
      "outputs": []
    },
    {
      "cell_type": "code",
      "metadata": {
        "id": "5ea35d24"
      },
      "source": [
        "df['year-month']=df['datetime'].apply(lambda x: x[0:7])"
      ],
      "id": "5ea35d24",
      "execution_count": 3,
      "outputs": []
    },
    {
      "cell_type": "code",
      "metadata": {
        "id": "VsdtMhVTpAPl"
      },
      "source": [
        "# df2=df.groupby(['State','zip']).agg('count')\n",
        "# df3=df2.groupby('State').agg('count').sort_values('zri')\n",
        "# droplist=list(df3[df3['City']<10].index)\n",
        "# df=df[~(df['State'].isin(droplist))]"
      ],
      "id": "VsdtMhVTpAPl",
      "execution_count": 4,
      "outputs": []
    },
    {
      "cell_type": "code",
      "metadata": {
        "id": "bdf36416"
      },
      "source": [
        "#df=df[df['State']=='CA']"
      ],
      "id": "bdf36416",
      "execution_count": 5,
      "outputs": []
    },
    {
      "cell_type": "markdown",
      "metadata": {
        "id": "2f1b6b68"
      },
      "source": [
        "<H1>Standardization"
      ],
      "id": "2f1b6b68"
    },
    {
      "cell_type": "code",
      "metadata": {
        "id": "d9b68b4d"
      },
      "source": [
        "#df=df.drop('zip', axis=1)\n",
        "\n",
        "for zipcode in df['zip'].unique():\n",
        "    globals()[f\"minmax_{zipcode}\"]=MinMaxScaler(copy=False)\n",
        "    df_filtered=df[df['zip']==zipcode]\n",
        "    df.loc[df['zip']==zipcode,'zri']=globals()[f\"minmax_{zipcode}\"].fit_transform(df_filtered[['zri']])"
      ],
      "id": "d9b68b4d",
      "execution_count": 6,
      "outputs": []
    },
    {
      "cell_type": "code",
      "metadata": {
        "id": "d59b2188"
      },
      "source": [
        "#columns to scale:\n",
        "scale_columns = ['percent_white',\n",
        " 'percent_black',\n",
        " 'percent_asian',\n",
        " 'percent_hispanic',\n",
        " 'percent_native_am',\n",
        " 'percent_other_race',\n",
        " 'percent_0_17',\n",
        " 'percent_18_39',\n",
        " 'percent_40_64',\n",
        " 'percent_65+',\n",
        " 'percent_rental_units_vacant',\n",
        " 'percent_rental_units_occupied',\n",
        " 'percent_graduate_deg',\n",
        " 'percent_bachelors',\n",
        " 'percent_associates',\n",
        " 'percent_highschool',\n",
        " 'percent_less_highschool',\n",
        " 'percent_commute_public_transport',\n",
        " 'percent_commute_less_30',\n",
        " 'percent_buildings_less_10_units',\n",
        " 'percent_buildings_10_19_units',\n",
        " 'percent_buildings_20_49_units',\n",
        " 'percent_buildings_50+_units',\n",
        " 'percent_commute_30_to_59',\n",
        " 'percent_commute_60_to_89',\n",
        " 'percent_commute_90_more',\n",
        " 'percent_new_city',\n",
        " 'percent_new_unit',\n",
        " 'percent_units_owner_occupied',\n",
        " 'median_building_age',\n",
        " 'income_per_capita',\n",
        " 'poverty_rate',\n",
        " 'total_pop',\n",
        " 'percent_workforce_unemployed',\n",
        " 'percent_work_from_home',\n",
        " 'median_age',\n",
        " 'percent_female',\n",
        " 'gini_index',\n",
        " 'percent_not_us_citizen',\n",
        " 'bs_total_stations',\n",
        " 'bs_total_systems',\n",
        " 'has_bike_sharing']\n",
        "\n",
        "for zipcode in df['zip'].unique():\n",
        "    globals()[f\"minmax_features_{zipcode}\"]=MinMaxScaler(copy=False)\n",
        "    df_filtered=df[df['zip']==zipcode]\n",
        "    df.loc[df['zip']==zipcode,scale_columns]=globals()[f\"minmax_features_{zipcode}\"].fit_transform(df_filtered[scale_columns])"
      ],
      "id": "d59b2188",
      "execution_count": 7,
      "outputs": []
    },
    {
      "cell_type": "markdown",
      "metadata": {
        "id": "cbfbd557"
      },
      "source": [
        "<H1>Lag development"
      ],
      "id": "cbfbd557"
    },
    {
      "cell_type": "code",
      "metadata": {
        "id": "vgeeqiFqVXi_"
      },
      "source": [
        "def vif_calc(df_VIF):\n",
        "    viflist=[variance_inflation_factor(df_VIF.values, i) for i in range(len(df_VIF.columns))]\n",
        "    list_of_tuples = list(zip(list(df_VIF.columns), viflist))\n",
        "    df=pd.DataFrame(list_of_tuples,columns=['Feature','VIF'])\n",
        "    df=df.sort_values('VIF',ascending=False)\n",
        "    return df"
      ],
      "id": "vgeeqiFqVXi_",
      "execution_count": 8,
      "outputs": []
    },
    {
      "cell_type": "code",
      "metadata": {
        "colab": {
          "base_uri": "https://localhost:8080/"
        },
        "id": "BNzzHICoVXB6",
        "outputId": "c2f57009-34f9-4989-9af2-865d103754dd"
      },
      "source": [
        "df2=df.drop(['percent_white', 'percent_black',\n",
        "       'percent_asian', 'percent_hispanic', 'percent_native_am',\n",
        "       'percent_other_race','percent_0_17', 'percent_18_39', 'percent_40_64',\n",
        "       'percent_65+','has_bike_sharing','percent_rental_units_occupied','percent_rental_units_vacant','bs_total_stations'],axis=1)\n",
        "\n",
        "df2=df2.drop(['zip','year','month','datetime','City','State','Metro','CountyName','year-month','zri'],axis=1)\n",
        "\n",
        "#vif_calc(df2)\n",
        "df2.columns"
      ],
      "id": "BNzzHICoVXB6",
      "execution_count": 9,
      "outputs": [
        {
          "output_type": "execute_result",
          "data": {
            "text/plain": [
              "Index(['percent_graduate_deg', 'percent_bachelors', 'percent_associates',\n",
              "       'percent_highschool', 'percent_less_highschool',\n",
              "       'percent_commute_public_transport', 'percent_commute_less_30',\n",
              "       'percent_buildings_less_10_units', 'percent_buildings_10_19_units',\n",
              "       'percent_buildings_20_49_units', 'percent_buildings_50+_units',\n",
              "       'percent_commute_30_to_59', 'percent_commute_60_to_89',\n",
              "       'percent_commute_90_more', 'percent_new_city', 'percent_new_unit',\n",
              "       'percent_units_owner_occupied', 'median_building_age',\n",
              "       'income_per_capita', 'poverty_rate', 'total_pop',\n",
              "       'percent_workforce_unemployed', 'percent_work_from_home', 'median_age',\n",
              "       'percent_female', 'gini_index', 'percent_not_us_citizen',\n",
              "       'bs_total_systems'],\n",
              "      dtype='object')"
            ]
          },
          "metadata": {},
          "execution_count": 9
        }
      ]
    },
    {
      "cell_type": "code",
      "metadata": {
        "id": "c4ec7b62"
      },
      "source": [
        "def laggenerator(i,colname,df):\n",
        "    timelist=list(df['year-month'].drop_duplicates().sort_values())[0:i]\n",
        "    \n",
        "    df.loc[:,f'{colname}_lag{i}']=df.loc[:,f'{colname}'].shift(i)\n",
        "    \n",
        "    df.loc[df['year-month'].isin(timelist),f'{colname}_lag{i}']=0\n",
        "    return df"
      ],
      "id": "c4ec7b62",
      "execution_count": 10,
      "outputs": []
    },
    {
      "cell_type": "code",
      "metadata": {
        "id": "6b190aa3"
      },
      "source": [
        "def laggenerator_diff(i,colname,df):\n",
        "    timelist=list(df['year-month'].drop_duplicates().sort_values())[0:i+1]\n",
        "    \n",
        "    df.loc[:,f'{colname}_diff_lag{i}_lag{i+1}']=df.loc[:,f'{colname}'].shift(i)-df.loc[:,f'{colname}'].shift(i+1)\n",
        "    \n",
        "    df.loc[df['year-month'].isin(timelist),f'{colname}_diff_lag{i}_lag{i+1}']=0\n",
        "    return df"
      ],
      "id": "6b190aa3",
      "execution_count": 11,
      "outputs": []
    },
    {
      "cell_type": "code",
      "metadata": {
        "id": "8a58f6e5"
      },
      "source": [
        "def laggenerator_diff6(i,colname,df):\n",
        "    timelist=list(df['year-month'].drop_duplicates().sort_values())[0:i+1]\n",
        "    \n",
        "    df.loc[:,f'{colname}_diff_lag{i}_lag{i+6}']=df.loc[:,f'{colname}'].shift(i)-df.loc[:,f'{colname}'].shift(i+6)\n",
        "    \n",
        "    df.loc[df['year-month'].isin(timelist),f'{colname}_diff_lag{i}_lag{i+6}']=0\n",
        "    return df"
      ],
      "id": "8a58f6e5",
      "execution_count": 12,
      "outputs": []
    },
    {
      "cell_type": "code",
      "metadata": {
        "id": "z2s2leAqXIm6"
      },
      "source": [
        "def laggenerator_diff12(i,colname,df):\n",
        "    timelist=list(df['year-month'].drop_duplicates().sort_values())[0:i+11]\n",
        "    \n",
        "    df.loc[:,f'{colname}_diff_lag{i}_lag{i+11}']=df.loc[:,f'{colname}'].shift(i)-df.loc[:,f'{colname}'].shift(i+11)\n",
        "    \n",
        "    df.loc[df['year-month'].isin(timelist),f'{colname}_diff_lag{i}_lag{i+11}']=0\n",
        "    return df"
      ],
      "id": "z2s2leAqXIm6",
      "execution_count": 13,
      "outputs": []
    },
    {
      "cell_type": "code",
      "metadata": {
        "id": "e923da82"
      },
      "source": [
        "def laggenerator_MA(i,colname,df):\n",
        "    timelist=list(df['year-month'].drop_duplicates().sort_values())[0:i+4]\n",
        "    \n",
        "    df.loc[:,f'{colname}_MA{i}']=df.loc[:,f'{colname}'].shift(i)-(df.loc[:,f'{colname}'].shift(i)+df.loc[:,f'{colname}'].shift(i+1)+df.loc[:,f'{colname}'].shift(i+2)+df.loc[:,f'{colname}'].shift(i+3)+df.loc[:,f'{colname}'].shift(i+4))/5\n",
        "    \n",
        "    df.loc[df['year-month'].isin(timelist),f'{colname}_MA{i}']=0\n",
        "    return df"
      ],
      "id": "e923da82",
      "execution_count": 14,
      "outputs": []
    },
    {
      "cell_type": "code",
      "metadata": {
        "id": "8fe8fcf9"
      },
      "source": [
        "def laggenerator_mean(i,colname,df):\n",
        "    timelist=list(df['year-month'].drop_duplicates().sort_values())[0:i-1]\n",
        "    df.loc[:,f'{colname}_mean{i}']=0\n",
        "    for x in range(1,i):\n",
        "        df.loc[:,f'{colname}_mean{i}']+=df.loc[:,f'{colname}'].shift(x)\n",
        "    df.loc[:,f'{colname}_mean{i}']=df.loc[:,f'{colname}_mean{i}']/i\n",
        "    \n",
        "    df.loc[df['year-month'].isin(timelist),f'{colname}_mean{i}']=0\n",
        "    return df"
      ],
      "id": "8fe8fcf9",
      "execution_count": 15,
      "outputs": []
    },
    {
      "cell_type": "code",
      "metadata": {
        "id": "17788020"
      },
      "source": [
        "def laggenerator_ewm(i,colname,df):\n",
        "    timelist=list(df['year-month'].drop_duplicates().sort_values())[0:i-1]\n",
        "    df.loc[:,f'{colname}_ewm{i}']=0\n",
        "    weightsum=0\n",
        "    for y in range(1,i):\n",
        "        weight=i-y\n",
        "        weightsum+=weight\n",
        "    for x in range(1,i):\n",
        "        weight=i-x\n",
        "        df.loc[:,f'{colname}_ewm{i}']+=df.loc[:,f'{colname}'].shift(x)*weight/weightsum\n",
        "    df.loc[:,f'{colname}_ewm{i}']=df.loc[:,f'{colname}_ewm{i}']\n",
        "    \n",
        "    df.loc[df['year-month'].isin(timelist),f'{colname}_ewm{i}']=0\n",
        "    return df"
      ],
      "id": "17788020",
      "execution_count": 16,
      "outputs": []
    },
    {
      "cell_type": "code",
      "metadata": {
        "id": "5b984e48"
      },
      "source": [
        "def laggenerator_min(i,colname,df):\n",
        "    timelist=list(df['year-month'].drop_duplicates().sort_values())[0:i-1]\n",
        "    df.loc[:,f'{colname}_min{i}']=999999\n",
        "    for x in range(1,i):\n",
        "        df.loc[:,f'{colname}_min{i}']=np.minimum(df.loc[:,f'{colname}'].shift(x),df.loc[:,f'{colname}_min{i}'])\n",
        "    \n",
        "    df.loc[df['year-month'].isin(timelist),f'{colname}_min{i}']=0\n",
        "    return df"
      ],
      "id": "5b984e48",
      "execution_count": 17,
      "outputs": []
    },
    {
      "cell_type": "code",
      "metadata": {
        "id": "0d9f626c"
      },
      "source": [
        "def laggenerator_max(i,colname,df):\n",
        "    timelist=list(df['year-month'].drop_duplicates().sort_values())[0:i-1]\n",
        "    df.loc[:,f'{colname}_max{i}']=0\n",
        "    for x in range(1,i):\n",
        "        df.loc[:,f'{colname}_max{i}']=np.maximum(df.loc[:,f'{colname}'].shift(x),df.loc[:,f'{colname}_max{i}'])\n",
        "    \n",
        "    df.loc[df['year-month'].isin(timelist),f'{colname}_max{i}']=0\n",
        "    return df"
      ],
      "id": "0d9f626c",
      "execution_count": 18,
      "outputs": []
    },
    {
      "cell_type": "code",
      "metadata": {
        "id": "e09d5902"
      },
      "source": [
        "def lag_generator_all(df, var):\n",
        "    for i in range(1,6):   #14\n",
        "        df=laggenerator(i, var,df)\n",
        "\n",
        "    df=laggenerator_diff12(1, var,df)\n",
        "    for i in range(1,12):  #11\n",
        "        df=laggenerator_diff(i, var,df)\n",
        "\n",
        "    # for i in range(1,2):\n",
        "    #     df=laggenerator_diff6(i, var,df)\n",
        "\n",
        "    #for i in range(1,11):\n",
        "     #   df=laggenerator_MA(i, var,df)\n",
        "\n",
        "#     for i in range(1,14):\n",
        "#         df=laggenerator_mean(i, 'ZRI_scaled',df)\n",
        "\n",
        "#     for i in range(1,2):\n",
        "#         df=laggenerator_ewm(i, var,df)\n",
        "\n",
        "#     for i in range(1,14):\n",
        "#         df=laggenerator_min(i, var,df)\n",
        "\n",
        "#     for i in range(1,14):\n",
        "#         df=laggenerator_max(i, var,df)\n",
        "    \n",
        "    return df\n",
        "\n",
        "def lag_generator_12M(df, var):\n",
        "    df=laggenerator(12, var,df)\n",
        "    return df\n",
        "\n",
        "def lag_generator_dff_12M(df, var):\n",
        "    df=laggenerator_diff12(1, var,df)\n",
        "    return df"
      ],
      "id": "e09d5902",
      "execution_count": 19,
      "outputs": []
    },
    {
      "cell_type": "code",
      "metadata": {
        "colab": {
          "base_uri": "https://localhost:8080/"
        },
        "id": "58fdb1a8",
        "outputId": "061ff01d-5d86-4791-a2ac-b7a3fcfecb49"
      },
      "source": [
        "df.columns[5:43]"
      ],
      "id": "58fdb1a8",
      "execution_count": 20,
      "outputs": [
        {
          "output_type": "execute_result",
          "data": {
            "text/plain": [
              "Index(['zri', 'year', 'month', 'datetime', 'percent_white', 'percent_black',\n",
              "       'percent_asian', 'percent_hispanic', 'percent_native_am',\n",
              "       'percent_other_race', 'percent_0_17', 'percent_18_39', 'percent_40_64',\n",
              "       'percent_65+', 'percent_rental_units_vacant',\n",
              "       'percent_rental_units_occupied', 'percent_graduate_deg',\n",
              "       'percent_bachelors', 'percent_associates', 'percent_highschool',\n",
              "       'percent_less_highschool', 'percent_commute_public_transport',\n",
              "       'percent_commute_less_30', 'percent_buildings_less_10_units',\n",
              "       'percent_buildings_10_19_units', 'percent_buildings_20_49_units',\n",
              "       'percent_buildings_50+_units', 'percent_commute_30_to_59',\n",
              "       'percent_commute_60_to_89', 'percent_commute_90_more',\n",
              "       'percent_new_city', 'percent_new_unit', 'percent_units_owner_occupied',\n",
              "       'median_building_age', 'income_per_capita', 'poverty_rate', 'total_pop',\n",
              "       'percent_workforce_unemployed'],\n",
              "      dtype='object')"
            ]
          },
          "metadata": {},
          "execution_count": 20
        }
      ]
    },
    {
      "cell_type": "code",
      "metadata": {
        "id": "a79c9917"
      },
      "source": [
        "# for var in df.columns[5:43]:\n",
        "#     df=lag_generator_all(df, var)\n",
        "\n",
        "df=lag_generator_all(df, 'zri')  \n",
        "\n",
        "\n",
        "# for feat in [  'bs_total_systems','median_building_age',\n",
        "#              'percent_graduate_deg',\n",
        "#        'percent_bachelors', 'percent_associates', 'percent_highschool',\n",
        "#        'percent_less_highschool', 'percent_commute_public_transport',\n",
        "#        'percent_commute_less_30', 'percent_commute_30_to_59',\n",
        "#        'percent_commute_60_to_89', 'percent_commute_90_more',\n",
        "#        'percent_new_city', 'percent_new_unit', 'percent_units_owner_occupied',\n",
        "#         'income_per_capita', 'poverty_rate', 'total_pop',\n",
        "#        'percent_workforce_unemployed', 'percent_work_from_home', 'median_age',\n",
        "#        'percent_female', 'gini_index', 'percent_not_us_citizen',   \n",
        "#        'percent_buildings_less_10_units','percent_buildings_10_19_units','percent_buildings_20_49_units','percent_buildings_50+_units'\n",
        "#        ]:\n",
        "#     df=lag_generator_12M(df,feat)\n",
        "#     df=lag_generator_dff_12M(df,feat)\n",
        "\n",
        "\n",
        "\n",
        "\n",
        "# df=df.drop(['percent_white', 'percent_black',\n",
        "#        'percent_asian', 'percent_hispanic', 'percent_native_am','bs_total_stations',\n",
        "#        'percent_other_race','percent_0_17', 'percent_18_39', 'percent_40_64',\n",
        "#        'percent_65+','has_bike_sharing','percent_rental_units_vacant',\n",
        "#        'percent_rental_units_occupied'],axis=1)\n",
        "\n",
        "\n",
        "df=df.drop(['percent_white', 'percent_black',\n",
        "       'percent_asian', 'percent_hispanic', 'percent_native_am',\n",
        "       'percent_other_race', 'percent_0_17', 'percent_18_39', 'percent_40_64',\n",
        "       'percent_65+', 'percent_rental_units_vacant',\n",
        "       'percent_rental_units_occupied', 'percent_graduate_deg',\n",
        "       'percent_bachelors', 'percent_associates', 'percent_highschool',\n",
        "       'percent_less_highschool', 'percent_commute_public_transport',\n",
        "       'percent_commute_less_30', 'percent_commute_30_to_59',\n",
        "        'median_building_age','bs_total_systems',\n",
        "       'percent_commute_60_to_89', 'percent_commute_90_more',\n",
        "       'percent_new_city', 'percent_new_unit', 'percent_units_owner_occupied',\n",
        "        'income_per_capita', 'poverty_rate', 'total_pop',\n",
        "       'percent_workforce_unemployed', 'percent_work_from_home', 'median_age',\n",
        "       'percent_female', 'gini_index', 'percent_not_us_citizen', 'bs_total_stations',  'has_bike_sharing',\n",
        "       'percent_buildings_less_10_units','percent_buildings_10_19_units','percent_buildings_20_49_units','percent_buildings_50+_units'],axis=1)"
      ],
      "id": "a79c9917",
      "execution_count": 21,
      "outputs": []
    },
    {
      "cell_type": "code",
      "metadata": {
        "id": "emZDTOc3TqLd"
      },
      "source": [
        ""
      ],
      "id": "emZDTOc3TqLd",
      "execution_count": 21,
      "outputs": []
    },
    {
      "cell_type": "code",
      "metadata": {
        "id": "hLCHUad7TtvD"
      },
      "source": [
        ""
      ],
      "id": "hLCHUad7TtvD",
      "execution_count": 21,
      "outputs": []
    },
    {
      "cell_type": "code",
      "metadata": {
        "colab": {
          "base_uri": "https://localhost:8080/"
        },
        "id": "e19d6563",
        "outputId": "f66c138a-5668-4019-d064-a36f06f2c5ed"
      },
      "source": [
        "df.columns"
      ],
      "id": "e19d6563",
      "execution_count": 22,
      "outputs": [
        {
          "output_type": "execute_result",
          "data": {
            "text/plain": [
              "Index(['zip', 'City', 'State', 'Metro', 'CountyName', 'zri', 'year', 'month',\n",
              "       'datetime', 'year-month', 'zri_lag1', 'zri_lag2', 'zri_lag3',\n",
              "       'zri_lag4', 'zri_lag5', 'zri_diff_lag1_lag12', 'zri_diff_lag1_lag2',\n",
              "       'zri_diff_lag2_lag3', 'zri_diff_lag3_lag4', 'zri_diff_lag4_lag5',\n",
              "       'zri_diff_lag5_lag6', 'zri_diff_lag6_lag7', 'zri_diff_lag7_lag8',\n",
              "       'zri_diff_lag8_lag9', 'zri_diff_lag9_lag10', 'zri_diff_lag10_lag11',\n",
              "       'zri_diff_lag11_lag12'],\n",
              "      dtype='object')"
            ]
          },
          "metadata": {},
          "execution_count": 22
        }
      ]
    },
    {
      "cell_type": "code",
      "metadata": {
        "id": "8d398b6b"
      },
      "source": [
        "train=df[(df['year-month']<='2018-12') & (df['year-month']>'2015-01')]\n",
        "\n",
        "train=train.drop('year-month',axis=1)\n",
        "\n",
        "Y_train=train['zri']\n",
        "X_train=train.drop('zri',axis=1)\n"
      ],
      "id": "8d398b6b",
      "execution_count": 23,
      "outputs": []
    },
    {
      "cell_type": "code",
      "metadata": {
        "id": "54140298"
      },
      "source": [
        "labelencoder = LabelEncoder()\n",
        "labelencoder2 = LabelEncoder()\n",
        "labelencoder3 = LabelEncoder()\n",
        "labelencoder4 = LabelEncoder()\n",
        "enc=OneHotEncoder()\n",
        "enc2=OneHotEncoder()\n",
        "\n",
        "# enc2_df = pd.DataFrame(enc2.fit_transform(X_train[['Metro']]).toarray())\n",
        "# X_train = X_train.join(enc2_df, rsuffix='1')\n",
        "# X_train=X_train.fillna(0)\n",
        "\n",
        "X_train=X_train.drop(['zip','year','month','datetime','City','State','Metro','CountyName'],axis=1)\n",
        "cols=X_train.columns\n",
        "\n",
        "#X_train = X_train.join(norm_df, rsuffix='1')\n",
        "#X_train=X_train.fillna(0)\n",
        "\n"
      ],
      "id": "54140298",
      "execution_count": 24,
      "outputs": []
    },
    {
      "cell_type": "code",
      "metadata": {
        "id": "2e3f08ea"
      },
      "source": [
        "# fold=TimeSeriesSplit(n_splits=5)\n",
        "\n",
        "# linmod = XGBRegressor(n_estimators=1000, objective ='reg:squarederror')\n",
        "# #linmod=RandomForestRegressor(n_estimators=500)\n",
        "\n",
        "\n",
        "# params=({\n",
        "#      'max_depth':[5], \n",
        "#         'eta':[0.03],\n",
        "#     'subsample':[0.9],\n",
        "#     'colsample_bytree':[0.8]\n",
        "#  })\n",
        "\n",
        "# grid=GridSearchCV(linmod, param_grid=params, cv=fold)\n",
        "# grid.fit(X_train, Y_train)\n",
        "\n",
        "# grid.best_params_"
      ],
      "id": "2e3f08ea",
      "execution_count": 25,
      "outputs": []
    },
    {
      "cell_type": "code",
      "metadata": {
        "id": "HRPYqagOgLuF"
      },
      "source": [
        "# fold=TimeSeriesSplit(n_splits=5)\n",
        "\n",
        "# kr_model=XGBRegressor(n_estimators=1000, objective ='reg:squarederror', max_depth=5, eta=0.03, subsample=0.9, colsample_bytree=0.8)\n",
        "\n",
        "# rfe_grid=RFECV(estimator=kr_model, cv=fold, min_features_to_select=1, scoring='r2')\n",
        "# rfe_grid.fit(X_train, Y_train)"
      ],
      "id": "HRPYqagOgLuF",
      "execution_count": 26,
      "outputs": []
    },
    {
      "cell_type": "code",
      "metadata": {
        "colab": {
          "base_uri": "https://localhost:8080/"
        },
        "id": "5b7de193",
        "outputId": "c8283b56-ce9d-4884-b992-969e8f37982e"
      },
      "source": [
        "#kr_model=KernelRidge(kernel='chi2',gamma=0.0001)   #gamma=0.00000001\n",
        "\n",
        "#{'degree': 3, 'gamma': 1.0000000230258512, 'kernel': 'linear'}\n",
        "#kr_model=KernelRidge(kernel='linear',gamma=1, degree=3)   #gamma=0.00000001\n",
        "\n",
        "#kr_model=KernelRidge(kernel='polynomial',gamma=1e-06,degree=3)\n",
        "\n",
        "#kr_model=SVR(kernel='poly',gamma=0.000001,degree=3)\n",
        "#kr_model=Lasso(alpha=100)   #alpha=10\n",
        "\n",
        "kr_model=XGBRegressor(n_estimators=1000, objective ='reg:squarederror', max_depth=5, eta=0.03, subsample=0.9, colsample_bytree=0.8)\n",
        "\n",
        "%time kr_model.fit(X_train, Y_train)"
      ],
      "id": "5b7de193",
      "execution_count": 27,
      "outputs": [
        {
          "output_type": "stream",
          "name": "stdout",
          "text": [
            "CPU times: user 1min 26s, sys: 154 ms, total: 1min 27s\n",
            "Wall time: 1min 26s\n"
          ]
        },
        {
          "output_type": "execute_result",
          "data": {
            "text/plain": [
              "XGBRegressor(base_score=0.5, booster='gbtree', colsample_bylevel=1,\n",
              "             colsample_bynode=1, colsample_bytree=0.8, eta=0.03, gamma=0,\n",
              "             importance_type='gain', learning_rate=0.1, max_delta_step=0,\n",
              "             max_depth=5, min_child_weight=1, missing=None, n_estimators=1000,\n",
              "             n_jobs=1, nthread=None, objective='reg:squarederror',\n",
              "             random_state=0, reg_alpha=0, reg_lambda=1, scale_pos_weight=1,\n",
              "             seed=None, silent=None, subsample=0.9, verbosity=1)"
            ]
          },
          "metadata": {},
          "execution_count": 27
        }
      ]
    },
    {
      "cell_type": "code",
      "metadata": {
        "id": "73ba7ed3"
      },
      "source": [
        "#RF: 2 features: 15 seconds"
      ],
      "id": "73ba7ed3",
      "execution_count": 28,
      "outputs": []
    },
    {
      "cell_type": "code",
      "metadata": {
        "colab": {
          "base_uri": "https://localhost:8080/"
        },
        "id": "13e6821c",
        "outputId": "7672d902-c797-4227-c48d-c342f76e6d18"
      },
      "source": [
        "kr_model.score(X_train, Y_train)"
      ],
      "id": "13e6821c",
      "execution_count": 29,
      "outputs": [
        {
          "output_type": "execute_result",
          "data": {
            "text/plain": [
              "0.9889135479277682"
            ]
          },
          "metadata": {},
          "execution_count": 29
        }
      ]
    },
    {
      "cell_type": "code",
      "metadata": {
        "colab": {
          "base_uri": "https://localhost:8080/",
          "height": 576
        },
        "id": "a284e0b8",
        "outputId": "e574cbc2-1199-490a-c67e-74d22d39af56"
      },
      "source": [
        "feature_importances=pd.DataFrame({'Feature':cols,'Importance':kr_model.feature_importances_}).sort_values('Importance', ascending=False)\n",
        "feature_importances"
      ],
      "id": "a284e0b8",
      "execution_count": 30,
      "outputs": [
        {
          "output_type": "execute_result",
          "data": {
            "text/html": [
              "<div>\n",
              "<style scoped>\n",
              "    .dataframe tbody tr th:only-of-type {\n",
              "        vertical-align: middle;\n",
              "    }\n",
              "\n",
              "    .dataframe tbody tr th {\n",
              "        vertical-align: top;\n",
              "    }\n",
              "\n",
              "    .dataframe thead th {\n",
              "        text-align: right;\n",
              "    }\n",
              "</style>\n",
              "<table border=\"1\" class=\"dataframe\">\n",
              "  <thead>\n",
              "    <tr style=\"text-align: right;\">\n",
              "      <th></th>\n",
              "      <th>Feature</th>\n",
              "      <th>Importance</th>\n",
              "    </tr>\n",
              "  </thead>\n",
              "  <tbody>\n",
              "    <tr>\n",
              "      <th>0</th>\n",
              "      <td>zri_lag1</td>\n",
              "      <td>0.417040</td>\n",
              "    </tr>\n",
              "    <tr>\n",
              "      <th>2</th>\n",
              "      <td>zri_lag3</td>\n",
              "      <td>0.274237</td>\n",
              "    </tr>\n",
              "    <tr>\n",
              "      <th>1</th>\n",
              "      <td>zri_lag2</td>\n",
              "      <td>0.250054</td>\n",
              "    </tr>\n",
              "    <tr>\n",
              "      <th>6</th>\n",
              "      <td>zri_diff_lag1_lag2</td>\n",
              "      <td>0.046650</td>\n",
              "    </tr>\n",
              "    <tr>\n",
              "      <th>7</th>\n",
              "      <td>zri_diff_lag2_lag3</td>\n",
              "      <td>0.001599</td>\n",
              "    </tr>\n",
              "    <tr>\n",
              "      <th>4</th>\n",
              "      <td>zri_lag5</td>\n",
              "      <td>0.001014</td>\n",
              "    </tr>\n",
              "    <tr>\n",
              "      <th>5</th>\n",
              "      <td>zri_diff_lag1_lag12</td>\n",
              "      <td>0.000987</td>\n",
              "    </tr>\n",
              "    <tr>\n",
              "      <th>3</th>\n",
              "      <td>zri_lag4</td>\n",
              "      <td>0.000964</td>\n",
              "    </tr>\n",
              "    <tr>\n",
              "      <th>11</th>\n",
              "      <td>zri_diff_lag6_lag7</td>\n",
              "      <td>0.000934</td>\n",
              "    </tr>\n",
              "    <tr>\n",
              "      <th>16</th>\n",
              "      <td>zri_diff_lag11_lag12</td>\n",
              "      <td>0.000902</td>\n",
              "    </tr>\n",
              "    <tr>\n",
              "      <th>10</th>\n",
              "      <td>zri_diff_lag5_lag6</td>\n",
              "      <td>0.000871</td>\n",
              "    </tr>\n",
              "    <tr>\n",
              "      <th>8</th>\n",
              "      <td>zri_diff_lag3_lag4</td>\n",
              "      <td>0.000827</td>\n",
              "    </tr>\n",
              "    <tr>\n",
              "      <th>14</th>\n",
              "      <td>zri_diff_lag9_lag10</td>\n",
              "      <td>0.000822</td>\n",
              "    </tr>\n",
              "    <tr>\n",
              "      <th>9</th>\n",
              "      <td>zri_diff_lag4_lag5</td>\n",
              "      <td>0.000808</td>\n",
              "    </tr>\n",
              "    <tr>\n",
              "      <th>15</th>\n",
              "      <td>zri_diff_lag10_lag11</td>\n",
              "      <td>0.000780</td>\n",
              "    </tr>\n",
              "    <tr>\n",
              "      <th>12</th>\n",
              "      <td>zri_diff_lag7_lag8</td>\n",
              "      <td>0.000758</td>\n",
              "    </tr>\n",
              "    <tr>\n",
              "      <th>13</th>\n",
              "      <td>zri_diff_lag8_lag9</td>\n",
              "      <td>0.000753</td>\n",
              "    </tr>\n",
              "  </tbody>\n",
              "</table>\n",
              "</div>"
            ],
            "text/plain": [
              "                 Feature  Importance\n",
              "0               zri_lag1    0.417040\n",
              "2               zri_lag3    0.274237\n",
              "1               zri_lag2    0.250054\n",
              "6     zri_diff_lag1_lag2    0.046650\n",
              "7     zri_diff_lag2_lag3    0.001599\n",
              "4               zri_lag5    0.001014\n",
              "5    zri_diff_lag1_lag12    0.000987\n",
              "3               zri_lag4    0.000964\n",
              "11    zri_diff_lag6_lag7    0.000934\n",
              "16  zri_diff_lag11_lag12    0.000902\n",
              "10    zri_diff_lag5_lag6    0.000871\n",
              "8     zri_diff_lag3_lag4    0.000827\n",
              "14   zri_diff_lag9_lag10    0.000822\n",
              "9     zri_diff_lag4_lag5    0.000808\n",
              "15  zri_diff_lag10_lag11    0.000780\n",
              "12    zri_diff_lag7_lag8    0.000758\n",
              "13    zri_diff_lag8_lag9    0.000753"
            ]
          },
          "metadata": {},
          "execution_count": 30
        }
      ]
    },
    {
      "cell_type": "code",
      "metadata": {
        "id": "d6ddbc09",
        "scrolled": true
      },
      "source": [
        "#pd.DataFrame({'Feature':X_train.columns,'Coefs':kr_model.coef_}).sort_values('Coefs')"
      ],
      "id": "d6ddbc09",
      "execution_count": 31,
      "outputs": []
    },
    {
      "cell_type": "code",
      "metadata": {
        "id": "7bfd8777"
      },
      "source": [
        "Y_test=df[(df['year-month']>'2018-12') & (df['year-month']<='2019-12')][['zri']]\n",
        "predictor_table=df.copy()\n",
        "X_test=predictor_table[predictor_table['year-month']>'2018-12']\n",
        "\n",
        "#loop through all month in 2019\n",
        "for month in list(X_test['year-month'].drop_duplicates()):\n",
        "    \n",
        "    #run prediction for one month\n",
        "    X_test=X_test[X_test['year-month']==month]\n",
        "    \n",
        "    # enc2_df2 = pd.DataFrame(enc2.transform(X_test[['Metro']]).toarray())\n",
        "    # X_test = X_test.join(enc2_df2, rsuffix='1')\n",
        "    # X_test=X_test.fillna(0)    \n",
        "    \n",
        "    X_test=X_test.drop(['zip','year','month','datetime','City','State','Metro','CountyName','year-month','zri'],axis=1)\n",
        "    #X_test = pd.DataFrame(normal.transform(X_test))\n",
        "    \n",
        "    val=kr_model.predict(X_test)\n",
        "\n",
        "    #write current month prediction into predictor_table\n",
        "\n",
        "    predictor_table.loc[predictor_table['year-month']==month,'zri']=val\n",
        "        \n",
        "    predictor_table=lag_generator_all(predictor_table, 'zri')\n",
        "#     for var in predictor_table.columns[5:43]:\n",
        "#         predictor_table=lag_generator_all(predictor_table, var)\n",
        "        \n",
        "    X_test=predictor_table[predictor_table['year-month']>'2018-12']\n",
        "\n"
      ],
      "id": "7bfd8777",
      "execution_count": 32,
      "outputs": []
    },
    {
      "cell_type": "code",
      "metadata": {
        "colab": {
          "base_uri": "https://localhost:8080/",
          "height": 711
        },
        "id": "149hE5frD0jd",
        "outputId": "9cb96217-af68-4da4-e11c-6e3094dcbf33"
      },
      "source": [
        "X_test"
      ],
      "id": "149hE5frD0jd",
      "execution_count": 33,
      "outputs": [
        {
          "output_type": "execute_result",
          "data": {
            "text/html": [
              "<div>\n",
              "<style scoped>\n",
              "    .dataframe tbody tr th:only-of-type {\n",
              "        vertical-align: middle;\n",
              "    }\n",
              "\n",
              "    .dataframe tbody tr th {\n",
              "        vertical-align: top;\n",
              "    }\n",
              "\n",
              "    .dataframe thead th {\n",
              "        text-align: right;\n",
              "    }\n",
              "</style>\n",
              "<table border=\"1\" class=\"dataframe\">\n",
              "  <thead>\n",
              "    <tr style=\"text-align: right;\">\n",
              "      <th></th>\n",
              "      <th>zip</th>\n",
              "      <th>City</th>\n",
              "      <th>State</th>\n",
              "      <th>Metro</th>\n",
              "      <th>CountyName</th>\n",
              "      <th>zri</th>\n",
              "      <th>year</th>\n",
              "      <th>month</th>\n",
              "      <th>datetime</th>\n",
              "      <th>year-month</th>\n",
              "      <th>zri_lag1</th>\n",
              "      <th>zri_lag2</th>\n",
              "      <th>zri_lag3</th>\n",
              "      <th>zri_lag4</th>\n",
              "      <th>zri_lag5</th>\n",
              "      <th>zri_diff_lag1_lag12</th>\n",
              "      <th>zri_diff_lag1_lag2</th>\n",
              "      <th>zri_diff_lag2_lag3</th>\n",
              "      <th>zri_diff_lag3_lag4</th>\n",
              "      <th>zri_diff_lag4_lag5</th>\n",
              "      <th>zri_diff_lag5_lag6</th>\n",
              "      <th>zri_diff_lag6_lag7</th>\n",
              "      <th>zri_diff_lag7_lag8</th>\n",
              "      <th>zri_diff_lag8_lag9</th>\n",
              "      <th>zri_diff_lag9_lag10</th>\n",
              "      <th>zri_diff_lag10_lag11</th>\n",
              "      <th>zri_diff_lag11_lag12</th>\n",
              "    </tr>\n",
              "  </thead>\n",
              "  <tbody>\n",
              "    <tr>\n",
              "      <th>60</th>\n",
              "      <td>1013</td>\n",
              "      <td>Chicopee</td>\n",
              "      <td>MA</td>\n",
              "      <td>Springfield</td>\n",
              "      <td>Hampden County</td>\n",
              "      <td>0.723925</td>\n",
              "      <td>2019</td>\n",
              "      <td>1</td>\n",
              "      <td>2019-01-01</td>\n",
              "      <td>2019-01</td>\n",
              "      <td>0.732794</td>\n",
              "      <td>0.757085</td>\n",
              "      <td>0.793522</td>\n",
              "      <td>0.850202</td>\n",
              "      <td>0.890688</td>\n",
              "      <td>-0.129555</td>\n",
              "      <td>-0.024291</td>\n",
              "      <td>-0.036437</td>\n",
              "      <td>-0.056680</td>\n",
              "      <td>-0.040486</td>\n",
              "      <td>-0.016194</td>\n",
              "      <td>-0.016194</td>\n",
              "      <td>0.020243</td>\n",
              "      <td>0.008097</td>\n",
              "      <td>0.012146</td>\n",
              "      <td>0.008097</td>\n",
              "      <td>0.012146</td>\n",
              "    </tr>\n",
              "    <tr>\n",
              "      <th>61</th>\n",
              "      <td>1013</td>\n",
              "      <td>Chicopee</td>\n",
              "      <td>MA</td>\n",
              "      <td>Springfield</td>\n",
              "      <td>Hampden County</td>\n",
              "      <td>0.728808</td>\n",
              "      <td>2019</td>\n",
              "      <td>2</td>\n",
              "      <td>2019-02-01</td>\n",
              "      <td>2019-02</td>\n",
              "      <td>0.723925</td>\n",
              "      <td>0.732794</td>\n",
              "      <td>0.757085</td>\n",
              "      <td>0.793522</td>\n",
              "      <td>0.850202</td>\n",
              "      <td>-0.150569</td>\n",
              "      <td>-0.008869</td>\n",
              "      <td>-0.024291</td>\n",
              "      <td>-0.036437</td>\n",
              "      <td>-0.056680</td>\n",
              "      <td>-0.040486</td>\n",
              "      <td>-0.016194</td>\n",
              "      <td>-0.016194</td>\n",
              "      <td>0.020243</td>\n",
              "      <td>0.008097</td>\n",
              "      <td>0.012146</td>\n",
              "      <td>0.008097</td>\n",
              "    </tr>\n",
              "    <tr>\n",
              "      <th>62</th>\n",
              "      <td>1013</td>\n",
              "      <td>Chicopee</td>\n",
              "      <td>MA</td>\n",
              "      <td>Springfield</td>\n",
              "      <td>Hampden County</td>\n",
              "      <td>0.730964</td>\n",
              "      <td>2019</td>\n",
              "      <td>3</td>\n",
              "      <td>2019-03-01</td>\n",
              "      <td>2019-03</td>\n",
              "      <td>0.728808</td>\n",
              "      <td>0.723925</td>\n",
              "      <td>0.732794</td>\n",
              "      <td>0.757085</td>\n",
              "      <td>0.793522</td>\n",
              "      <td>-0.153783</td>\n",
              "      <td>0.004883</td>\n",
              "      <td>-0.008869</td>\n",
              "      <td>-0.024291</td>\n",
              "      <td>-0.036437</td>\n",
              "      <td>-0.056680</td>\n",
              "      <td>-0.040486</td>\n",
              "      <td>-0.016194</td>\n",
              "      <td>-0.016194</td>\n",
              "      <td>0.020243</td>\n",
              "      <td>0.008097</td>\n",
              "      <td>0.012146</td>\n",
              "    </tr>\n",
              "    <tr>\n",
              "      <th>63</th>\n",
              "      <td>1013</td>\n",
              "      <td>Chicopee</td>\n",
              "      <td>MA</td>\n",
              "      <td>Springfield</td>\n",
              "      <td>Hampden County</td>\n",
              "      <td>0.731465</td>\n",
              "      <td>2019</td>\n",
              "      <td>4</td>\n",
              "      <td>2019-04-01</td>\n",
              "      <td>2019-04</td>\n",
              "      <td>0.730964</td>\n",
              "      <td>0.728808</td>\n",
              "      <td>0.723925</td>\n",
              "      <td>0.732794</td>\n",
              "      <td>0.757085</td>\n",
              "      <td>-0.163773</td>\n",
              "      <td>0.002156</td>\n",
              "      <td>0.004883</td>\n",
              "      <td>-0.008869</td>\n",
              "      <td>-0.024291</td>\n",
              "      <td>-0.036437</td>\n",
              "      <td>-0.056680</td>\n",
              "      <td>-0.040486</td>\n",
              "      <td>-0.016194</td>\n",
              "      <td>-0.016194</td>\n",
              "      <td>0.020243</td>\n",
              "      <td>0.008097</td>\n",
              "    </tr>\n",
              "    <tr>\n",
              "      <th>64</th>\n",
              "      <td>1013</td>\n",
              "      <td>Chicopee</td>\n",
              "      <td>MA</td>\n",
              "      <td>Springfield</td>\n",
              "      <td>Hampden County</td>\n",
              "      <td>0.729964</td>\n",
              "      <td>2019</td>\n",
              "      <td>5</td>\n",
              "      <td>2019-05-01</td>\n",
              "      <td>2019-05</td>\n",
              "      <td>0.731465</td>\n",
              "      <td>0.730964</td>\n",
              "      <td>0.728808</td>\n",
              "      <td>0.723925</td>\n",
              "      <td>0.732794</td>\n",
              "      <td>-0.171369</td>\n",
              "      <td>0.000501</td>\n",
              "      <td>0.002156</td>\n",
              "      <td>0.004883</td>\n",
              "      <td>-0.008869</td>\n",
              "      <td>-0.024291</td>\n",
              "      <td>-0.036437</td>\n",
              "      <td>-0.056680</td>\n",
              "      <td>-0.040486</td>\n",
              "      <td>-0.016194</td>\n",
              "      <td>-0.016194</td>\n",
              "      <td>0.020243</td>\n",
              "    </tr>\n",
              "    <tr>\n",
              "      <th>...</th>\n",
              "      <td>...</td>\n",
              "      <td>...</td>\n",
              "      <td>...</td>\n",
              "      <td>...</td>\n",
              "      <td>...</td>\n",
              "      <td>...</td>\n",
              "      <td>...</td>\n",
              "      <td>...</td>\n",
              "      <td>...</td>\n",
              "      <td>...</td>\n",
              "      <td>...</td>\n",
              "      <td>...</td>\n",
              "      <td>...</td>\n",
              "      <td>...</td>\n",
              "      <td>...</td>\n",
              "      <td>...</td>\n",
              "      <td>...</td>\n",
              "      <td>...</td>\n",
              "      <td>...</td>\n",
              "      <td>...</td>\n",
              "      <td>...</td>\n",
              "      <td>...</td>\n",
              "      <td>...</td>\n",
              "      <td>...</td>\n",
              "      <td>...</td>\n",
              "      <td>...</td>\n",
              "      <td>...</td>\n",
              "    </tr>\n",
              "    <tr>\n",
              "      <th>93379</th>\n",
              "      <td>99207</td>\n",
              "      <td>Spokane</td>\n",
              "      <td>WA</td>\n",
              "      <td>Spokane-Spokane Valley</td>\n",
              "      <td>Spokane County</td>\n",
              "      <td>0.772925</td>\n",
              "      <td>2019</td>\n",
              "      <td>8</td>\n",
              "      <td>2019-08-01</td>\n",
              "      <td>2019-08</td>\n",
              "      <td>0.770612</td>\n",
              "      <td>0.767563</td>\n",
              "      <td>0.766293</td>\n",
              "      <td>0.768857</td>\n",
              "      <td>0.786610</td>\n",
              "      <td>0.148990</td>\n",
              "      <td>0.003049</td>\n",
              "      <td>0.001270</td>\n",
              "      <td>-0.002564</td>\n",
              "      <td>-0.017753</td>\n",
              "      <td>-0.010581</td>\n",
              "      <td>0.009967</td>\n",
              "      <td>0.020640</td>\n",
              "      <td>0.044226</td>\n",
              "      <td>0.049140</td>\n",
              "      <td>0.036855</td>\n",
              "      <td>0.014742</td>\n",
              "    </tr>\n",
              "    <tr>\n",
              "      <th>93380</th>\n",
              "      <td>99207</td>\n",
              "      <td>Spokane</td>\n",
              "      <td>WA</td>\n",
              "      <td>Spokane-Spokane Valley</td>\n",
              "      <td>Spokane County</td>\n",
              "      <td>0.775015</td>\n",
              "      <td>2019</td>\n",
              "      <td>9</td>\n",
              "      <td>2019-09-01</td>\n",
              "      <td>2019-09</td>\n",
              "      <td>0.772925</td>\n",
              "      <td>0.770612</td>\n",
              "      <td>0.767563</td>\n",
              "      <td>0.766293</td>\n",
              "      <td>0.768857</td>\n",
              "      <td>0.136562</td>\n",
              "      <td>0.002314</td>\n",
              "      <td>0.003049</td>\n",
              "      <td>0.001270</td>\n",
              "      <td>-0.002564</td>\n",
              "      <td>-0.017753</td>\n",
              "      <td>-0.010581</td>\n",
              "      <td>0.009967</td>\n",
              "      <td>0.020640</td>\n",
              "      <td>0.044226</td>\n",
              "      <td>0.049140</td>\n",
              "      <td>0.036855</td>\n",
              "    </tr>\n",
              "    <tr>\n",
              "      <th>93381</th>\n",
              "      <td>99207</td>\n",
              "      <td>Spokane</td>\n",
              "      <td>WA</td>\n",
              "      <td>Spokane-Spokane Valley</td>\n",
              "      <td>Spokane County</td>\n",
              "      <td>0.785670</td>\n",
              "      <td>2019</td>\n",
              "      <td>10</td>\n",
              "      <td>2019-10-01</td>\n",
              "      <td>2019-10</td>\n",
              "      <td>0.775015</td>\n",
              "      <td>0.772925</td>\n",
              "      <td>0.770612</td>\n",
              "      <td>0.767563</td>\n",
              "      <td>0.766293</td>\n",
              "      <td>0.101797</td>\n",
              "      <td>0.002090</td>\n",
              "      <td>0.002314</td>\n",
              "      <td>0.003049</td>\n",
              "      <td>0.001270</td>\n",
              "      <td>-0.002564</td>\n",
              "      <td>-0.017753</td>\n",
              "      <td>-0.010581</td>\n",
              "      <td>0.009967</td>\n",
              "      <td>0.020640</td>\n",
              "      <td>0.044226</td>\n",
              "      <td>0.049140</td>\n",
              "    </tr>\n",
              "    <tr>\n",
              "      <th>93382</th>\n",
              "      <td>99207</td>\n",
              "      <td>Spokane</td>\n",
              "      <td>WA</td>\n",
              "      <td>Spokane-Spokane Valley</td>\n",
              "      <td>Spokane County</td>\n",
              "      <td>0.796334</td>\n",
              "      <td>2019</td>\n",
              "      <td>11</td>\n",
              "      <td>2019-11-01</td>\n",
              "      <td>2019-11</td>\n",
              "      <td>0.785670</td>\n",
              "      <td>0.775015</td>\n",
              "      <td>0.772925</td>\n",
              "      <td>0.770612</td>\n",
              "      <td>0.767563</td>\n",
              "      <td>0.063311</td>\n",
              "      <td>0.010655</td>\n",
              "      <td>0.002090</td>\n",
              "      <td>0.002314</td>\n",
              "      <td>0.003049</td>\n",
              "      <td>0.001270</td>\n",
              "      <td>-0.002564</td>\n",
              "      <td>-0.017753</td>\n",
              "      <td>-0.010581</td>\n",
              "      <td>0.009967</td>\n",
              "      <td>0.020640</td>\n",
              "      <td>0.044226</td>\n",
              "    </tr>\n",
              "    <tr>\n",
              "      <th>93383</th>\n",
              "      <td>99207</td>\n",
              "      <td>Spokane</td>\n",
              "      <td>WA</td>\n",
              "      <td>Spokane-Spokane Valley</td>\n",
              "      <td>Spokane County</td>\n",
              "      <td>0.805497</td>\n",
              "      <td>2019</td>\n",
              "      <td>12</td>\n",
              "      <td>2019-12-01</td>\n",
              "      <td>2019-12</td>\n",
              "      <td>0.796334</td>\n",
              "      <td>0.785670</td>\n",
              "      <td>0.775015</td>\n",
              "      <td>0.772925</td>\n",
              "      <td>0.770612</td>\n",
              "      <td>0.029750</td>\n",
              "      <td>0.010664</td>\n",
              "      <td>0.010655</td>\n",
              "      <td>0.002090</td>\n",
              "      <td>0.002314</td>\n",
              "      <td>0.003049</td>\n",
              "      <td>0.001270</td>\n",
              "      <td>-0.002564</td>\n",
              "      <td>-0.017753</td>\n",
              "      <td>-0.010581</td>\n",
              "      <td>0.009967</td>\n",
              "      <td>0.020640</td>\n",
              "    </tr>\n",
              "  </tbody>\n",
              "</table>\n",
              "<p>14556 rows × 27 columns</p>\n",
              "</div>"
            ],
            "text/plain": [
              "         zip      City  ... zri_diff_lag10_lag11 zri_diff_lag11_lag12\n",
              "60      1013  Chicopee  ...             0.008097             0.012146\n",
              "61      1013  Chicopee  ...             0.012146             0.008097\n",
              "62      1013  Chicopee  ...             0.008097             0.012146\n",
              "63      1013  Chicopee  ...             0.020243             0.008097\n",
              "64      1013  Chicopee  ...            -0.016194             0.020243\n",
              "...      ...       ...  ...                  ...                  ...\n",
              "93379  99207   Spokane  ...             0.036855             0.014742\n",
              "93380  99207   Spokane  ...             0.049140             0.036855\n",
              "93381  99207   Spokane  ...             0.044226             0.049140\n",
              "93382  99207   Spokane  ...             0.020640             0.044226\n",
              "93383  99207   Spokane  ...             0.009967             0.020640\n",
              "\n",
              "[14556 rows x 27 columns]"
            ]
          },
          "metadata": {},
          "execution_count": 33
        }
      ]
    },
    {
      "cell_type": "code",
      "metadata": {
        "id": "c3a197df"
      },
      "source": [
        "#Y_test['ZRI_Yest_scaled']=Y_test['ZRI_scaled']\n",
        "rstable=X_test[['zip','year','month','datetime','City','State','Metro','CountyName','year-month','zri']].merge(Y_test[['zri']], left_index=True, right_index=True)\n"
      ],
      "id": "c3a197df",
      "execution_count": 34,
      "outputs": []
    },
    {
      "cell_type": "code",
      "metadata": {
        "colab": {
          "base_uri": "https://localhost:8080/",
          "height": 419
        },
        "id": "cdc46281",
        "outputId": "84b584b4-b343-4257-b3b7-27c069ee1649"
      },
      "source": [
        "rstable"
      ],
      "id": "cdc46281",
      "execution_count": 35,
      "outputs": [
        {
          "output_type": "execute_result",
          "data": {
            "text/html": [
              "<div>\n",
              "<style scoped>\n",
              "    .dataframe tbody tr th:only-of-type {\n",
              "        vertical-align: middle;\n",
              "    }\n",
              "\n",
              "    .dataframe tbody tr th {\n",
              "        vertical-align: top;\n",
              "    }\n",
              "\n",
              "    .dataframe thead th {\n",
              "        text-align: right;\n",
              "    }\n",
              "</style>\n",
              "<table border=\"1\" class=\"dataframe\">\n",
              "  <thead>\n",
              "    <tr style=\"text-align: right;\">\n",
              "      <th></th>\n",
              "      <th>zip</th>\n",
              "      <th>year</th>\n",
              "      <th>month</th>\n",
              "      <th>datetime</th>\n",
              "      <th>City</th>\n",
              "      <th>State</th>\n",
              "      <th>Metro</th>\n",
              "      <th>CountyName</th>\n",
              "      <th>year-month</th>\n",
              "      <th>zri_x</th>\n",
              "      <th>zri_y</th>\n",
              "    </tr>\n",
              "  </thead>\n",
              "  <tbody>\n",
              "    <tr>\n",
              "      <th>60</th>\n",
              "      <td>1013</td>\n",
              "      <td>2019</td>\n",
              "      <td>1</td>\n",
              "      <td>2019-01-01</td>\n",
              "      <td>Chicopee</td>\n",
              "      <td>MA</td>\n",
              "      <td>Springfield</td>\n",
              "      <td>Hampden County</td>\n",
              "      <td>2019-01</td>\n",
              "      <td>0.723925</td>\n",
              "      <td>0.692308</td>\n",
              "    </tr>\n",
              "    <tr>\n",
              "      <th>61</th>\n",
              "      <td>1013</td>\n",
              "      <td>2019</td>\n",
              "      <td>2</td>\n",
              "      <td>2019-02-01</td>\n",
              "      <td>Chicopee</td>\n",
              "      <td>MA</td>\n",
              "      <td>Springfield</td>\n",
              "      <td>Hampden County</td>\n",
              "      <td>2019-02</td>\n",
              "      <td>0.728808</td>\n",
              "      <td>0.688259</td>\n",
              "    </tr>\n",
              "    <tr>\n",
              "      <th>62</th>\n",
              "      <td>1013</td>\n",
              "      <td>2019</td>\n",
              "      <td>3</td>\n",
              "      <td>2019-03-01</td>\n",
              "      <td>Chicopee</td>\n",
              "      <td>MA</td>\n",
              "      <td>Springfield</td>\n",
              "      <td>Hampden County</td>\n",
              "      <td>2019-03</td>\n",
              "      <td>0.730964</td>\n",
              "      <td>0.720648</td>\n",
              "    </tr>\n",
              "    <tr>\n",
              "      <th>63</th>\n",
              "      <td>1013</td>\n",
              "      <td>2019</td>\n",
              "      <td>4</td>\n",
              "      <td>2019-04-01</td>\n",
              "      <td>Chicopee</td>\n",
              "      <td>MA</td>\n",
              "      <td>Springfield</td>\n",
              "      <td>Hampden County</td>\n",
              "      <td>2019-04</td>\n",
              "      <td>0.731465</td>\n",
              "      <td>0.753036</td>\n",
              "    </tr>\n",
              "    <tr>\n",
              "      <th>64</th>\n",
              "      <td>1013</td>\n",
              "      <td>2019</td>\n",
              "      <td>5</td>\n",
              "      <td>2019-05-01</td>\n",
              "      <td>Chicopee</td>\n",
              "      <td>MA</td>\n",
              "      <td>Springfield</td>\n",
              "      <td>Hampden County</td>\n",
              "      <td>2019-05</td>\n",
              "      <td>0.729964</td>\n",
              "      <td>0.761134</td>\n",
              "    </tr>\n",
              "    <tr>\n",
              "      <th>...</th>\n",
              "      <td>...</td>\n",
              "      <td>...</td>\n",
              "      <td>...</td>\n",
              "      <td>...</td>\n",
              "      <td>...</td>\n",
              "      <td>...</td>\n",
              "      <td>...</td>\n",
              "      <td>...</td>\n",
              "      <td>...</td>\n",
              "      <td>...</td>\n",
              "      <td>...</td>\n",
              "    </tr>\n",
              "    <tr>\n",
              "      <th>93379</th>\n",
              "      <td>99207</td>\n",
              "      <td>2019</td>\n",
              "      <td>8</td>\n",
              "      <td>2019-08-01</td>\n",
              "      <td>Spokane</td>\n",
              "      <td>WA</td>\n",
              "      <td>Spokane-Spokane Valley</td>\n",
              "      <td>Spokane County</td>\n",
              "      <td>2019-08</td>\n",
              "      <td>0.772925</td>\n",
              "      <td>0.950860</td>\n",
              "    </tr>\n",
              "    <tr>\n",
              "      <th>93380</th>\n",
              "      <td>99207</td>\n",
              "      <td>2019</td>\n",
              "      <td>9</td>\n",
              "      <td>2019-09-01</td>\n",
              "      <td>Spokane</td>\n",
              "      <td>WA</td>\n",
              "      <td>Spokane-Spokane Valley</td>\n",
              "      <td>Spokane County</td>\n",
              "      <td>2019-09</td>\n",
              "      <td>0.775015</td>\n",
              "      <td>0.938575</td>\n",
              "    </tr>\n",
              "    <tr>\n",
              "      <th>93381</th>\n",
              "      <td>99207</td>\n",
              "      <td>2019</td>\n",
              "      <td>10</td>\n",
              "      <td>2019-10-01</td>\n",
              "      <td>Spokane</td>\n",
              "      <td>WA</td>\n",
              "      <td>Spokane-Spokane Valley</td>\n",
              "      <td>Spokane County</td>\n",
              "      <td>2019-10</td>\n",
              "      <td>0.785670</td>\n",
              "      <td>0.896806</td>\n",
              "    </tr>\n",
              "    <tr>\n",
              "      <th>93382</th>\n",
              "      <td>99207</td>\n",
              "      <td>2019</td>\n",
              "      <td>11</td>\n",
              "      <td>2019-11-01</td>\n",
              "      <td>Spokane</td>\n",
              "      <td>WA</td>\n",
              "      <td>Spokane-Spokane Valley</td>\n",
              "      <td>Spokane County</td>\n",
              "      <td>2019-11</td>\n",
              "      <td>0.796334</td>\n",
              "      <td>0.948403</td>\n",
              "    </tr>\n",
              "    <tr>\n",
              "      <th>93383</th>\n",
              "      <td>99207</td>\n",
              "      <td>2019</td>\n",
              "      <td>12</td>\n",
              "      <td>2019-12-01</td>\n",
              "      <td>Spokane</td>\n",
              "      <td>WA</td>\n",
              "      <td>Spokane-Spokane Valley</td>\n",
              "      <td>Spokane County</td>\n",
              "      <td>2019-12</td>\n",
              "      <td>0.805497</td>\n",
              "      <td>1.000000</td>\n",
              "    </tr>\n",
              "  </tbody>\n",
              "</table>\n",
              "<p>14556 rows × 11 columns</p>\n",
              "</div>"
            ],
            "text/plain": [
              "         zip  year  month  ... year-month     zri_x     zri_y\n",
              "60      1013  2019      1  ...    2019-01  0.723925  0.692308\n",
              "61      1013  2019      2  ...    2019-02  0.728808  0.688259\n",
              "62      1013  2019      3  ...    2019-03  0.730964  0.720648\n",
              "63      1013  2019      4  ...    2019-04  0.731465  0.753036\n",
              "64      1013  2019      5  ...    2019-05  0.729964  0.761134\n",
              "...      ...   ...    ...  ...        ...       ...       ...\n",
              "93379  99207  2019      8  ...    2019-08  0.772925  0.950860\n",
              "93380  99207  2019      9  ...    2019-09  0.775015  0.938575\n",
              "93381  99207  2019     10  ...    2019-10  0.785670  0.896806\n",
              "93382  99207  2019     11  ...    2019-11  0.796334  0.948403\n",
              "93383  99207  2019     12  ...    2019-12  0.805497  1.000000\n",
              "\n",
              "[14556 rows x 11 columns]"
            ]
          },
          "metadata": {},
          "execution_count": 35
        }
      ]
    },
    {
      "cell_type": "code",
      "metadata": {
        "id": "dec61ca1"
      },
      "source": [
        "for zipcode in rstable['zip'].unique():\n",
        "    rstable_filtered=rstable[rstable['zip']==zipcode]\n",
        "    rstable.loc[rstable['zip']==zipcode,'zri_x']=globals()[f\"minmax_{zipcode}\"].inverse_transform(rstable_filtered[['zri_x']])\n",
        "    rstable.loc[rstable['zip']==zipcode,'zri_y']=globals()[f\"minmax_{zipcode}\"].inverse_transform(rstable_filtered[['zri_y']])   \n",
        "    "
      ],
      "id": "dec61ca1",
      "execution_count": 36,
      "outputs": []
    },
    {
      "cell_type": "code",
      "metadata": {
        "colab": {
          "base_uri": "https://localhost:8080/"
        },
        "id": "cfd65de8",
        "outputId": "8d4c0c00-7267-440e-cafc-e7f1bb8d3812"
      },
      "source": [
        "#rstable=rstable[rstable['State']=='VA']\n",
        "RSME=(sum((rstable['zri_x']-rstable['zri_y'])**2)/len(rstable))**0.5\n",
        "RSME"
      ],
      "id": "cfd65de8",
      "execution_count": 37,
      "outputs": [
        {
          "output_type": "execute_result",
          "data": {
            "text/plain": [
              "49.38165444228701"
            ]
          },
          "metadata": {},
          "execution_count": 37
        }
      ]
    },
    {
      "cell_type": "code",
      "metadata": {
        "id": "18bce0ab"
      },
      "source": [
        "#48.4417412956101 (autoregressive XGBoost)\n",
        "#48.309152478932894 (autoregressive XGBoost with Metro encoding)\n",
        "#51.17872757378319 (with racial features)\n",
        "#52.1259987113339 (with bikeshare features)\n",
        "#51.598222768311516 (all features)\n",
        "#82.73230167286547 (non-auto, excl. race)\n",
        "#81.93278640776168(non-auto, excl. race & age buckets)\n",
        "#85.51475756187989 (every VIF below 8)"
      ],
      "id": "18bce0ab",
      "execution_count": 38,
      "outputs": []
    },
    {
      "cell_type": "code",
      "metadata": {
        "id": "51e992ef"
      },
      "source": [
        "rstable['residual']=rstable['zri_x']-rstable['zri_y']"
      ],
      "id": "51e992ef",
      "execution_count": 39,
      "outputs": []
    },
    {
      "cell_type": "code",
      "metadata": {
        "id": "e5c1e007"
      },
      "source": [
        "rstable['residual_squared']=rstable['residual'].map(lambda x: x**2)"
      ],
      "id": "e5c1e007",
      "execution_count": 40,
      "outputs": []
    },
    {
      "cell_type": "code",
      "metadata": {
        "id": "2502ce04"
      },
      "source": [
        "rstable2=rstable.groupby('State').agg('mean').sort_values('residual_squared')\n",
        "rstable2=rstable2.reset_index()"
      ],
      "id": "2502ce04",
      "execution_count": 41,
      "outputs": []
    },
    {
      "cell_type": "code",
      "metadata": {
        "colab": {
          "base_uri": "https://localhost:8080/",
          "height": 542
        },
        "id": "f47a5239",
        "outputId": "b92076c0-fc1e-4e39-9a9f-5f69d6dd40ba"
      },
      "source": [
        "fig = px.choropleth(rstable2,\n",
        "                    locations='State',\n",
        "                    color='residual_squared',\n",
        "                    color_continuous_scale='Viridis',\n",
        "                    hover_name='State',\n",
        "                    locationmode='USA-states',\n",
        "                    scope='usa')\n",
        "\n",
        "fig.show()"
      ],
      "id": "f47a5239",
      "execution_count": 42,
      "outputs": [
        {
          "output_type": "display_data",
          "data": {
            "text/html": [
              "<html>\n",
              "<head><meta charset=\"utf-8\" /></head>\n",
              "<body>\n",
              "    <div>\n",
              "            <script src=\"https://cdnjs.cloudflare.com/ajax/libs/mathjax/2.7.5/MathJax.js?config=TeX-AMS-MML_SVG\"></script><script type=\"text/javascript\">if (window.MathJax) {MathJax.Hub.Config({SVG: {font: \"STIX-Web\"}});}</script>\n",
              "                <script type=\"text/javascript\">window.PlotlyConfig = {MathJaxConfig: 'local'};</script>\n",
              "        <script src=\"https://cdn.plot.ly/plotly-latest.min.js\"></script>    \n",
              "            <div id=\"e1c8a4b4-4ca8-4f80-a452-bcd5012fbf38\" class=\"plotly-graph-div\" style=\"height:525px; width:100%;\"></div>\n",
              "            <script type=\"text/javascript\">\n",
              "                \n",
              "                    window.PLOTLYENV=window.PLOTLYENV || {};\n",
              "                    \n",
              "                if (document.getElementById(\"e1c8a4b4-4ca8-4f80-a452-bcd5012fbf38\")) {\n",
              "                    Plotly.newPlot(\n",
              "                        'e1c8a4b4-4ca8-4f80-a452-bcd5012fbf38',\n",
              "                        [{\"coloraxis\": \"coloraxis\", \"geo\": \"geo\", \"hoverlabel\": {\"namelength\": 0}, \"hovertemplate\": \"<b>%{hovertext}</b><br><br>State=%{location}<br>residual_squared=%{z}\", \"hovertext\": [\"CT\", \"NJ\", \"PA\", \"IL\", \"RI\", \"MN\", \"WI\", \"MO\", \"GA\", \"VA\", \"OH\", \"NC\", \"WA\", \"TX\", \"CO\", \"FL\", \"AZ\", \"OR\", \"NY\", \"DC\", \"MD\", \"MA\", \"CA\"], \"locationmode\": \"USA-states\", \"locations\": [\"CT\", \"NJ\", \"PA\", \"IL\", \"RI\", \"MN\", \"WI\", \"MO\", \"GA\", \"VA\", \"OH\", \"NC\", \"WA\", \"TX\", \"CO\", \"FL\", \"AZ\", \"OR\", \"NY\", \"DC\", \"MD\", \"MA\", \"CA\"], \"name\": \"\", \"type\": \"choropleth\", \"z\": [458.3494722164831, 747.6779583249651, 782.0935532397691, 830.095902110702, 933.8563841783011, 996.0057590371497, 1052.5429291451528, 1089.017444946032, 1096.3126589684962, 1132.5742121172555, 1241.9223746544853, 1268.0315712231272, 1315.814046751358, 1348.846575811134, 1425.518601553723, 1457.322308753905, 1602.5734112718142, 1646.0828225889145, 1850.9157468786211, 2733.651377340443, 4362.373753311178, 4433.7797797280855, 6154.605218573921]}],\n",
              "                        {\"coloraxis\": {\"colorbar\": {\"title\": {\"text\": \"residual_squared\"}}, \"colorscale\": [[0.0, \"#440154\"], [0.1111111111111111, \"#482878\"], [0.2222222222222222, \"#3e4989\"], [0.3333333333333333, \"#31688e\"], [0.4444444444444444, \"#26828e\"], [0.5555555555555556, \"#1f9e89\"], [0.6666666666666666, \"#35b779\"], [0.7777777777777778, \"#6ece58\"], [0.8888888888888888, \"#b5de2b\"], [1.0, \"#fde725\"]]}, \"geo\": {\"center\": {}, \"domain\": {\"x\": [0.0, 1.0], \"y\": [0.0, 1.0]}, \"scope\": \"usa\"}, \"legend\": {\"tracegroupgap\": 0}, \"margin\": {\"t\": 60}, \"template\": {\"data\": {\"bar\": [{\"error_x\": {\"color\": \"#2a3f5f\"}, \"error_y\": {\"color\": \"#2a3f5f\"}, \"marker\": {\"line\": {\"color\": \"#E5ECF6\", \"width\": 0.5}}, \"type\": \"bar\"}], \"barpolar\": [{\"marker\": {\"line\": {\"color\": \"#E5ECF6\", \"width\": 0.5}}, \"type\": \"barpolar\"}], \"carpet\": [{\"aaxis\": {\"endlinecolor\": \"#2a3f5f\", \"gridcolor\": \"white\", \"linecolor\": \"white\", \"minorgridcolor\": \"white\", \"startlinecolor\": \"#2a3f5f\"}, \"baxis\": {\"endlinecolor\": \"#2a3f5f\", \"gridcolor\": \"white\", \"linecolor\": \"white\", \"minorgridcolor\": \"white\", \"startlinecolor\": \"#2a3f5f\"}, \"type\": \"carpet\"}], \"choropleth\": [{\"colorbar\": {\"outlinewidth\": 0, \"ticks\": \"\"}, \"type\": \"choropleth\"}], \"contour\": [{\"colorbar\": {\"outlinewidth\": 0, \"ticks\": \"\"}, \"colorscale\": [[0.0, \"#0d0887\"], [0.1111111111111111, \"#46039f\"], [0.2222222222222222, \"#7201a8\"], [0.3333333333333333, \"#9c179e\"], [0.4444444444444444, \"#bd3786\"], [0.5555555555555556, \"#d8576b\"], [0.6666666666666666, \"#ed7953\"], [0.7777777777777778, \"#fb9f3a\"], [0.8888888888888888, \"#fdca26\"], [1.0, \"#f0f921\"]], \"type\": \"contour\"}], \"contourcarpet\": [{\"colorbar\": {\"outlinewidth\": 0, \"ticks\": \"\"}, \"type\": \"contourcarpet\"}], \"heatmap\": [{\"colorbar\": {\"outlinewidth\": 0, \"ticks\": \"\"}, \"colorscale\": [[0.0, \"#0d0887\"], [0.1111111111111111, \"#46039f\"], [0.2222222222222222, \"#7201a8\"], [0.3333333333333333, \"#9c179e\"], [0.4444444444444444, \"#bd3786\"], [0.5555555555555556, \"#d8576b\"], [0.6666666666666666, \"#ed7953\"], [0.7777777777777778, \"#fb9f3a\"], [0.8888888888888888, \"#fdca26\"], [1.0, \"#f0f921\"]], \"type\": \"heatmap\"}], \"heatmapgl\": [{\"colorbar\": {\"outlinewidth\": 0, \"ticks\": \"\"}, \"colorscale\": [[0.0, \"#0d0887\"], [0.1111111111111111, \"#46039f\"], [0.2222222222222222, \"#7201a8\"], [0.3333333333333333, \"#9c179e\"], [0.4444444444444444, \"#bd3786\"], [0.5555555555555556, \"#d8576b\"], [0.6666666666666666, \"#ed7953\"], [0.7777777777777778, \"#fb9f3a\"], [0.8888888888888888, \"#fdca26\"], [1.0, \"#f0f921\"]], \"type\": \"heatmapgl\"}], \"histogram\": [{\"marker\": {\"colorbar\": {\"outlinewidth\": 0, \"ticks\": \"\"}}, \"type\": \"histogram\"}], \"histogram2d\": [{\"colorbar\": {\"outlinewidth\": 0, \"ticks\": \"\"}, \"colorscale\": [[0.0, \"#0d0887\"], [0.1111111111111111, \"#46039f\"], [0.2222222222222222, \"#7201a8\"], [0.3333333333333333, \"#9c179e\"], [0.4444444444444444, \"#bd3786\"], [0.5555555555555556, \"#d8576b\"], [0.6666666666666666, \"#ed7953\"], [0.7777777777777778, \"#fb9f3a\"], [0.8888888888888888, \"#fdca26\"], [1.0, \"#f0f921\"]], \"type\": \"histogram2d\"}], \"histogram2dcontour\": [{\"colorbar\": {\"outlinewidth\": 0, \"ticks\": \"\"}, \"colorscale\": [[0.0, \"#0d0887\"], [0.1111111111111111, \"#46039f\"], [0.2222222222222222, \"#7201a8\"], [0.3333333333333333, \"#9c179e\"], [0.4444444444444444, \"#bd3786\"], [0.5555555555555556, \"#d8576b\"], [0.6666666666666666, \"#ed7953\"], [0.7777777777777778, \"#fb9f3a\"], [0.8888888888888888, \"#fdca26\"], [1.0, \"#f0f921\"]], \"type\": \"histogram2dcontour\"}], \"mesh3d\": [{\"colorbar\": {\"outlinewidth\": 0, \"ticks\": \"\"}, \"type\": \"mesh3d\"}], \"parcoords\": [{\"line\": {\"colorbar\": {\"outlinewidth\": 0, \"ticks\": \"\"}}, \"type\": \"parcoords\"}], \"pie\": [{\"automargin\": true, \"type\": \"pie\"}], \"scatter\": [{\"marker\": {\"colorbar\": {\"outlinewidth\": 0, \"ticks\": \"\"}}, \"type\": \"scatter\"}], \"scatter3d\": [{\"line\": {\"colorbar\": {\"outlinewidth\": 0, \"ticks\": \"\"}}, \"marker\": {\"colorbar\": {\"outlinewidth\": 0, \"ticks\": \"\"}}, \"type\": \"scatter3d\"}], \"scattercarpet\": [{\"marker\": {\"colorbar\": {\"outlinewidth\": 0, \"ticks\": \"\"}}, \"type\": \"scattercarpet\"}], \"scattergeo\": [{\"marker\": {\"colorbar\": {\"outlinewidth\": 0, \"ticks\": \"\"}}, \"type\": \"scattergeo\"}], \"scattergl\": [{\"marker\": {\"colorbar\": {\"outlinewidth\": 0, \"ticks\": \"\"}}, \"type\": \"scattergl\"}], \"scattermapbox\": [{\"marker\": {\"colorbar\": {\"outlinewidth\": 0, \"ticks\": \"\"}}, \"type\": \"scattermapbox\"}], \"scatterpolar\": [{\"marker\": {\"colorbar\": {\"outlinewidth\": 0, \"ticks\": \"\"}}, \"type\": \"scatterpolar\"}], \"scatterpolargl\": [{\"marker\": {\"colorbar\": {\"outlinewidth\": 0, \"ticks\": \"\"}}, \"type\": \"scatterpolargl\"}], \"scatterternary\": [{\"marker\": {\"colorbar\": {\"outlinewidth\": 0, \"ticks\": \"\"}}, \"type\": \"scatterternary\"}], \"surface\": [{\"colorbar\": {\"outlinewidth\": 0, \"ticks\": \"\"}, \"colorscale\": [[0.0, \"#0d0887\"], [0.1111111111111111, \"#46039f\"], [0.2222222222222222, \"#7201a8\"], [0.3333333333333333, \"#9c179e\"], [0.4444444444444444, \"#bd3786\"], [0.5555555555555556, \"#d8576b\"], [0.6666666666666666, \"#ed7953\"], [0.7777777777777778, \"#fb9f3a\"], [0.8888888888888888, \"#fdca26\"], [1.0, \"#f0f921\"]], \"type\": \"surface\"}], \"table\": [{\"cells\": {\"fill\": {\"color\": \"#EBF0F8\"}, \"line\": {\"color\": \"white\"}}, \"header\": {\"fill\": {\"color\": \"#C8D4E3\"}, \"line\": {\"color\": \"white\"}}, \"type\": \"table\"}]}, \"layout\": {\"annotationdefaults\": {\"arrowcolor\": \"#2a3f5f\", \"arrowhead\": 0, \"arrowwidth\": 1}, \"coloraxis\": {\"colorbar\": {\"outlinewidth\": 0, \"ticks\": \"\"}}, \"colorscale\": {\"diverging\": [[0, \"#8e0152\"], [0.1, \"#c51b7d\"], [0.2, \"#de77ae\"], [0.3, \"#f1b6da\"], [0.4, \"#fde0ef\"], [0.5, \"#f7f7f7\"], [0.6, \"#e6f5d0\"], [0.7, \"#b8e186\"], [0.8, \"#7fbc41\"], [0.9, \"#4d9221\"], [1, \"#276419\"]], \"sequential\": [[0.0, \"#0d0887\"], [0.1111111111111111, \"#46039f\"], [0.2222222222222222, \"#7201a8\"], [0.3333333333333333, \"#9c179e\"], [0.4444444444444444, \"#bd3786\"], [0.5555555555555556, \"#d8576b\"], [0.6666666666666666, \"#ed7953\"], [0.7777777777777778, \"#fb9f3a\"], [0.8888888888888888, \"#fdca26\"], [1.0, \"#f0f921\"]], \"sequentialminus\": [[0.0, \"#0d0887\"], [0.1111111111111111, \"#46039f\"], [0.2222222222222222, \"#7201a8\"], [0.3333333333333333, \"#9c179e\"], [0.4444444444444444, \"#bd3786\"], [0.5555555555555556, \"#d8576b\"], [0.6666666666666666, \"#ed7953\"], [0.7777777777777778, \"#fb9f3a\"], [0.8888888888888888, \"#fdca26\"], [1.0, \"#f0f921\"]]}, \"colorway\": [\"#636efa\", \"#EF553B\", \"#00cc96\", \"#ab63fa\", \"#FFA15A\", \"#19d3f3\", \"#FF6692\", \"#B6E880\", \"#FF97FF\", \"#FECB52\"], \"font\": {\"color\": \"#2a3f5f\"}, \"geo\": {\"bgcolor\": \"white\", \"lakecolor\": \"white\", \"landcolor\": \"#E5ECF6\", \"showlakes\": true, \"showland\": true, \"subunitcolor\": \"white\"}, \"hoverlabel\": {\"align\": \"left\"}, \"hovermode\": \"closest\", \"mapbox\": {\"style\": \"light\"}, \"paper_bgcolor\": \"white\", \"plot_bgcolor\": \"#E5ECF6\", \"polar\": {\"angularaxis\": {\"gridcolor\": \"white\", \"linecolor\": \"white\", \"ticks\": \"\"}, \"bgcolor\": \"#E5ECF6\", \"radialaxis\": {\"gridcolor\": \"white\", \"linecolor\": \"white\", \"ticks\": \"\"}}, \"scene\": {\"xaxis\": {\"backgroundcolor\": \"#E5ECF6\", \"gridcolor\": \"white\", \"gridwidth\": 2, \"linecolor\": \"white\", \"showbackground\": true, \"ticks\": \"\", \"zerolinecolor\": \"white\"}, \"yaxis\": {\"backgroundcolor\": \"#E5ECF6\", \"gridcolor\": \"white\", \"gridwidth\": 2, \"linecolor\": \"white\", \"showbackground\": true, \"ticks\": \"\", \"zerolinecolor\": \"white\"}, \"zaxis\": {\"backgroundcolor\": \"#E5ECF6\", \"gridcolor\": \"white\", \"gridwidth\": 2, \"linecolor\": \"white\", \"showbackground\": true, \"ticks\": \"\", \"zerolinecolor\": \"white\"}}, \"shapedefaults\": {\"line\": {\"color\": \"#2a3f5f\"}}, \"ternary\": {\"aaxis\": {\"gridcolor\": \"white\", \"linecolor\": \"white\", \"ticks\": \"\"}, \"baxis\": {\"gridcolor\": \"white\", \"linecolor\": \"white\", \"ticks\": \"\"}, \"bgcolor\": \"#E5ECF6\", \"caxis\": {\"gridcolor\": \"white\", \"linecolor\": \"white\", \"ticks\": \"\"}}, \"title\": {\"x\": 0.05}, \"xaxis\": {\"automargin\": true, \"gridcolor\": \"white\", \"linecolor\": \"white\", \"ticks\": \"\", \"title\": {\"standoff\": 15}, \"zerolinecolor\": \"white\", \"zerolinewidth\": 2}, \"yaxis\": {\"automargin\": true, \"gridcolor\": \"white\", \"linecolor\": \"white\", \"ticks\": \"\", \"title\": {\"standoff\": 15}, \"zerolinecolor\": \"white\", \"zerolinewidth\": 2}}}},\n",
              "                        {\"responsive\": true}\n",
              "                    ).then(function(){\n",
              "                            \n",
              "var gd = document.getElementById('e1c8a4b4-4ca8-4f80-a452-bcd5012fbf38');\n",
              "var x = new MutationObserver(function (mutations, observer) {{\n",
              "        var display = window.getComputedStyle(gd).display;\n",
              "        if (!display || display === 'none') {{\n",
              "            console.log([gd, 'removed!']);\n",
              "            Plotly.purge(gd);\n",
              "            observer.disconnect();\n",
              "        }}\n",
              "}});\n",
              "\n",
              "// Listen for the removal of the full notebook cells\n",
              "var notebookContainer = gd.closest('#notebook-container');\n",
              "if (notebookContainer) {{\n",
              "    x.observe(notebookContainer, {childList: true});\n",
              "}}\n",
              "\n",
              "// Listen for the clearing of the current output cell\n",
              "var outputEl = gd.closest('.output');\n",
              "if (outputEl) {{\n",
              "    x.observe(outputEl, {childList: true});\n",
              "}}\n",
              "\n",
              "                        })\n",
              "                };\n",
              "                \n",
              "            </script>\n",
              "        </div>\n",
              "</body>\n",
              "</html>"
            ]
          },
          "metadata": {}
        }
      ]
    },
    {
      "cell_type": "code",
      "metadata": {
        "colab": {
          "base_uri": "https://localhost:8080/"
        },
        "id": "f8513421",
        "outputId": "594070ee-9804-4f86-ada6-a76c207d74af"
      },
      "source": [
        "from google.colab import drive\n",
        "drive.mount('/content/gdrive', force_remount=True)\n",
        "\n",
        "filename='XGB_Auto_All'\n",
        "feature_importances.to_csv(f'/content/gdrive/MyDrive/zillow-price-index-pred/Moritz/models/features_{filename}.csv')\n",
        "rstable.to_csv(f'/content/gdrive/MyDrive/zillow-price-index-pred/Moritz/models/residuals_{filename}.csv')\n"
      ],
      "id": "f8513421",
      "execution_count": 65,
      "outputs": [
        {
          "output_type": "stream",
          "name": "stdout",
          "text": [
            "Mounted at /content/gdrive\n"
          ]
        }
      ]
    },
    {
      "cell_type": "code",
      "metadata": {
        "id": "03792a5e"
      },
      "source": [
        "#drive.flush_and_unmount()  "
      ],
      "id": "03792a5e",
      "execution_count": 51,
      "outputs": []
    },
    {
      "cell_type": "code",
      "metadata": {
        "id": "620f0a2e"
      },
      "source": [
        ""
      ],
      "id": "620f0a2e",
      "execution_count": 44,
      "outputs": []
    },
    {
      "cell_type": "code",
      "metadata": {
        "id": "0dd90e71"
      },
      "source": [
        ""
      ],
      "id": "0dd90e71",
      "execution_count": 44,
      "outputs": []
    },
    {
      "cell_type": "code",
      "metadata": {
        "id": "EL26DD2VWlXS"
      },
      "source": [
        ""
      ],
      "id": "EL26DD2VWlXS",
      "execution_count": 44,
      "outputs": []
    },
    {
      "cell_type": "code",
      "metadata": {
        "id": "796a00f6"
      },
      "source": [
        ""
      ],
      "id": "796a00f6",
      "execution_count": 44,
      "outputs": []
    },
    {
      "cell_type": "code",
      "metadata": {
        "id": "06f4493d"
      },
      "source": [
        ""
      ],
      "id": "06f4493d",
      "execution_count": 44,
      "outputs": []
    },
    {
      "cell_type": "code",
      "metadata": {
        "id": "a7238772"
      },
      "source": [
        ""
      ],
      "id": "a7238772",
      "execution_count": 44,
      "outputs": []
    },
    {
      "cell_type": "code",
      "metadata": {
        "id": "b0769bad"
      },
      "source": [
        ""
      ],
      "id": "b0769bad",
      "execution_count": 44,
      "outputs": []
    },
    {
      "cell_type": "code",
      "metadata": {
        "id": "8165bdb2"
      },
      "source": [
        ""
      ],
      "id": "8165bdb2",
      "execution_count": 44,
      "outputs": []
    },
    {
      "cell_type": "code",
      "metadata": {
        "id": "702cfdf1"
      },
      "source": [
        ""
      ],
      "id": "702cfdf1",
      "execution_count": 44,
      "outputs": []
    },
    {
      "cell_type": "code",
      "metadata": {
        "id": "9943e3c8"
      },
      "source": [
        ""
      ],
      "id": "9943e3c8",
      "execution_count": 44,
      "outputs": []
    },
    {
      "cell_type": "code",
      "metadata": {
        "id": "d313da76"
      },
      "source": [
        ""
      ],
      "id": "d313da76",
      "execution_count": 44,
      "outputs": []
    },
    {
      "cell_type": "code",
      "metadata": {
        "id": "82229ecd"
      },
      "source": [
        ""
      ],
      "id": "82229ecd",
      "execution_count": 44,
      "outputs": []
    },
    {
      "cell_type": "code",
      "metadata": {
        "id": "4116c7a0"
      },
      "source": [
        ""
      ],
      "id": "4116c7a0",
      "execution_count": 44,
      "outputs": []
    },
    {
      "cell_type": "code",
      "metadata": {
        "id": "d14367db"
      },
      "source": [
        ""
      ],
      "id": "d14367db",
      "execution_count": 44,
      "outputs": []
    },
    {
      "cell_type": "code",
      "metadata": {
        "id": "2aec7e56"
      },
      "source": [
        "zips=rstable['zip'].unique()[10:40]"
      ],
      "id": "2aec7e56",
      "execution_count": 45,
      "outputs": []
    },
    {
      "cell_type": "code",
      "metadata": {
        "colab": {
          "base_uri": "https://localhost:8080/",
          "height": 542
        },
        "id": "c01cf2f9",
        "outputId": "405e5984-e4f3-4d6a-8b44-05e11b5dce72"
      },
      "source": [
        "table=rstable[rstable['zip'].isin(zips)]\n",
        "px.line(y=table['zri_y'],x=table['year-month'], color=table['zip'])\n",
        "#fig.add_scatter(rstable[rstable['zip'].isin(zips)], y='zri_y',x='year-month', color='zip', mode='lines')\n"
      ],
      "id": "c01cf2f9",
      "execution_count": 46,
      "outputs": [
        {
          "output_type": "display_data",
          "data": {
            "text/html": [
              "<html>\n",
              "<head><meta charset=\"utf-8\" /></head>\n",
              "<body>\n",
              "    <div>\n",
              "            <script src=\"https://cdnjs.cloudflare.com/ajax/libs/mathjax/2.7.5/MathJax.js?config=TeX-AMS-MML_SVG\"></script><script type=\"text/javascript\">if (window.MathJax) {MathJax.Hub.Config({SVG: {font: \"STIX-Web\"}});}</script>\n",
              "                <script type=\"text/javascript\">window.PlotlyConfig = {MathJaxConfig: 'local'};</script>\n",
              "        <script src=\"https://cdn.plot.ly/plotly-latest.min.js\"></script>    \n",
              "            <div id=\"e2e4877d-016d-4cdd-8c7f-1c7af72fa530\" class=\"plotly-graph-div\" style=\"height:525px; width:100%;\"></div>\n",
              "            <script type=\"text/javascript\">\n",
              "                \n",
              "                    window.PLOTLYENV=window.PLOTLYENV || {};\n",
              "                    \n",
              "                if (document.getElementById(\"e2e4877d-016d-4cdd-8c7f-1c7af72fa530\")) {\n",
              "                    Plotly.newPlot(\n",
              "                        'e2e4877d-016d-4cdd-8c7f-1c7af72fa530',\n",
              "                        [{\"hoverlabel\": {\"namelength\": 0}, \"hovertemplate\": \"color=1545<br>x=%{x}<br>y=%{y}\", \"legendgroup\": \"color=1545\", \"line\": {\"color\": \"#636efa\", \"dash\": \"solid\"}, \"mode\": \"lines\", \"name\": \"color=1545\", \"showlegend\": true, \"type\": \"scatter\", \"x\": [\"2019-01\", \"2019-02\", \"2019-03\", \"2019-04\", \"2019-05\", \"2019-06\", \"2019-07\", \"2019-08\", \"2019-09\", \"2019-10\", \"2019-11\", \"2019-12\"], \"xaxis\": \"x\", \"y\": [1500.9999999999998, 1526.0, 1565.0, 1605.0000000000002, 1619.9999999999998, 1627.0, 1622.0, 1611.0, 1600.0000000000002, 1567.0, 1552.0, 1546.0], \"yaxis\": \"y\"}, {\"hoverlabel\": {\"namelength\": 0}, \"hovertemplate\": \"color=1550<br>x=%{x}<br>y=%{y}\", \"legendgroup\": \"color=1550\", \"line\": {\"color\": \"#EF553B\", \"dash\": \"solid\"}, \"mode\": \"lines\", \"name\": \"color=1550\", \"showlegend\": true, \"type\": \"scatter\", \"x\": [\"2019-01\", \"2019-02\", \"2019-03\", \"2019-04\", \"2019-05\", \"2019-06\", \"2019-07\", \"2019-08\", \"2019-09\", \"2019-10\", \"2019-11\", \"2019-12\"], \"xaxis\": \"x\", \"y\": [1233.0, 1246.0, 1252.0, 1243.0, 1230.0, 1219.0, 1216.0, 1220.0, 1227.0, 1233.0, 1239.0, 1262.0], \"yaxis\": \"y\"}, {\"hoverlabel\": {\"namelength\": 0}, \"hovertemplate\": \"color=1602<br>x=%{x}<br>y=%{y}\", \"legendgroup\": \"color=1602\", \"line\": {\"color\": \"#00cc96\", \"dash\": \"solid\"}, \"mode\": \"lines\", \"name\": \"color=1602\", \"showlegend\": true, \"type\": \"scatter\", \"x\": [\"2019-01\", \"2019-02\", \"2019-03\", \"2019-04\", \"2019-05\", \"2019-06\", \"2019-07\", \"2019-08\", \"2019-09\", \"2019-10\", \"2019-11\", \"2019-12\"], \"xaxis\": \"x\", \"y\": [1390.0, 1389.0, 1394.0, 1400.0, 1405.0, 1408.0, 1408.0, 1408.0, 1410.0, 1410.0, 1410.0, 1410.0], \"yaxis\": \"y\"}, {\"hoverlabel\": {\"namelength\": 0}, \"hovertemplate\": \"color=1603<br>x=%{x}<br>y=%{y}\", \"legendgroup\": \"color=1603\", \"line\": {\"color\": \"#ab63fa\", \"dash\": \"solid\"}, \"mode\": \"lines\", \"name\": \"color=1603\", \"showlegend\": true, \"type\": \"scatter\", \"x\": [\"2019-01\", \"2019-02\", \"2019-03\", \"2019-04\", \"2019-05\", \"2019-06\", \"2019-07\", \"2019-08\", \"2019-09\", \"2019-10\", \"2019-11\", \"2019-12\"], \"xaxis\": \"x\", \"y\": [1301.0, 1305.0, 1314.0, 1319.0, 1320.0, 1325.0, 1330.0, 1336.0, 1340.0, 1352.0, 1335.0, 1330.0], \"yaxis\": \"y\"}, {\"hoverlabel\": {\"namelength\": 0}, \"hovertemplate\": \"color=1604<br>x=%{x}<br>y=%{y}\", \"legendgroup\": \"color=1604\", \"line\": {\"color\": \"#FFA15A\", \"dash\": \"solid\"}, \"mode\": \"lines\", \"name\": \"color=1604\", \"showlegend\": true, \"type\": \"scatter\", \"x\": [\"2019-01\", \"2019-02\", \"2019-03\", \"2019-04\", \"2019-05\", \"2019-06\", \"2019-07\", \"2019-08\", \"2019-09\", \"2019-10\", \"2019-11\", \"2019-12\"], \"xaxis\": \"x\", \"y\": [1344.0, 1347.0, 1351.9999999999998, 1354.0, 1359.0, 1364.0, 1367.0, 1373.0, 1378.0, 1385.0, 1387.9999999999998, 1378.9999999999998], \"yaxis\": \"y\"}, {\"hoverlabel\": {\"namelength\": 0}, \"hovertemplate\": \"color=1605<br>x=%{x}<br>y=%{y}\", \"legendgroup\": \"color=1605\", \"line\": {\"color\": \"#19d3f3\", \"dash\": \"solid\"}, \"mode\": \"lines\", \"name\": \"color=1605\", \"showlegend\": true, \"type\": \"scatter\", \"x\": [\"2019-01\", \"2019-02\", \"2019-03\", \"2019-04\", \"2019-05\", \"2019-06\", \"2019-07\", \"2019-08\", \"2019-09\", \"2019-10\", \"2019-11\", \"2019-12\"], \"xaxis\": \"x\", \"y\": [1299.0, 1299.0, 1305.0, 1311.0, 1318.0, 1327.0, 1336.0, 1345.0000000000002, 1354.0, 1350.0, 1350.0, 1347.0], \"yaxis\": \"y\"}, {\"hoverlabel\": {\"namelength\": 0}, \"hovertemplate\": \"color=1610<br>x=%{x}<br>y=%{y}\", \"legendgroup\": \"color=1610\", \"line\": {\"color\": \"#FF6692\", \"dash\": \"solid\"}, \"mode\": \"lines\", \"name\": \"color=1610\", \"showlegend\": true, \"type\": \"scatter\", \"x\": [\"2019-01\", \"2019-02\", \"2019-03\", \"2019-04\", \"2019-05\", \"2019-06\", \"2019-07\", \"2019-08\", \"2019-09\", \"2019-10\", \"2019-11\", \"2019-12\"], \"xaxis\": \"x\", \"y\": [1320.0, 1318.0, 1318.0, 1320.0, 1326.0, 1335.0, 1344.0, 1348.0, 1351.0, 1333.0, 1342.0, 1342.0], \"yaxis\": \"y\"}, {\"hoverlabel\": {\"namelength\": 0}, \"hovertemplate\": \"color=1702<br>x=%{x}<br>y=%{y}\", \"legendgroup\": \"color=1702\", \"line\": {\"color\": \"#B6E880\", \"dash\": \"solid\"}, \"mode\": \"lines\", \"name\": \"color=1702\", \"showlegend\": true, \"type\": \"scatter\", \"x\": [\"2019-01\", \"2019-02\", \"2019-03\", \"2019-04\", \"2019-05\", \"2019-06\", \"2019-07\", \"2019-08\", \"2019-09\", \"2019-10\", \"2019-11\", \"2019-12\"], \"xaxis\": \"x\", \"y\": [2277.0, 2294.0, 2293.0, 2298.0, 2313.0, 2342.0, 2388.0, 2421.0, 2427.0, 2383.0, 2411.0, 2342.0], \"yaxis\": \"y\"}, {\"hoverlabel\": {\"namelength\": 0}, \"hovertemplate\": \"color=1752<br>x=%{x}<br>y=%{y}\", \"legendgroup\": \"color=1752\", \"line\": {\"color\": \"#FF97FF\", \"dash\": \"solid\"}, \"mode\": \"lines\", \"name\": \"color=1752\", \"showlegend\": true, \"type\": \"scatter\", \"x\": [\"2019-01\", \"2019-02\", \"2019-03\", \"2019-04\", \"2019-05\", \"2019-06\", \"2019-07\", \"2019-08\", \"2019-09\", \"2019-10\", \"2019-11\", \"2019-12\"], \"xaxis\": \"x\", \"y\": [2028.5, 1990.0, 2018.0, 2056.0, 2097.0, 2141.0, 2172.0, 2201.0, 2222.0, 2214.0, 2173.0, 2147.0], \"yaxis\": \"y\"}, {\"hoverlabel\": {\"namelength\": 0}, \"hovertemplate\": \"color=1757<br>x=%{x}<br>y=%{y}\", \"legendgroup\": \"color=1757\", \"line\": {\"color\": \"#FECB52\", \"dash\": \"solid\"}, \"mode\": \"lines\", \"name\": \"color=1757\", \"showlegend\": true, \"type\": \"scatter\", \"x\": [\"2019-01\", \"2019-02\", \"2019-03\", \"2019-04\", \"2019-05\", \"2019-06\", \"2019-07\", \"2019-08\", \"2019-09\", \"2019-10\", \"2019-11\", \"2019-12\"], \"xaxis\": \"x\", \"y\": [1442.0, 1453.0, 1483.0, 1506.0, 1519.0, 1527.0, 1525.0, 1525.0, 1517.0, 1481.0000000000002, 1445.0, 1478.0], \"yaxis\": \"y\"}, {\"hoverlabel\": {\"namelength\": 0}, \"hovertemplate\": \"color=1760<br>x=%{x}<br>y=%{y}\", \"legendgroup\": \"color=1760\", \"line\": {\"color\": \"#636efa\", \"dash\": \"solid\"}, \"mode\": \"lines\", \"name\": \"color=1760\", \"showlegend\": true, \"type\": \"scatter\", \"x\": [\"2019-01\", \"2019-02\", \"2019-03\", \"2019-04\", \"2019-05\", \"2019-06\", \"2019-07\", \"2019-08\", \"2019-09\", \"2019-10\", \"2019-11\", \"2019-12\"], \"xaxis\": \"x\", \"y\": [2255.0, 2215.0, 2237.0, 2269.0, 2312.0, 2362.0, 2413.0, 2456.0, 2490.0, 2441.0, 2499.0, 2415.5], \"yaxis\": \"y\"}, {\"hoverlabel\": {\"namelength\": 0}, \"hovertemplate\": \"color=1801<br>x=%{x}<br>y=%{y}\", \"legendgroup\": \"color=1801\", \"line\": {\"color\": \"#EF553B\", \"dash\": \"solid\"}, \"mode\": \"lines\", \"name\": \"color=1801\", \"showlegend\": true, \"type\": \"scatter\", \"x\": [\"2019-01\", \"2019-02\", \"2019-03\", \"2019-04\", \"2019-05\", \"2019-06\", \"2019-07\", \"2019-08\", \"2019-09\", \"2019-10\", \"2019-11\", \"2019-12\"], \"xaxis\": \"x\", \"y\": [2203.0, 2191.0, 2198.0, 2215.0, 2246.0, 2289.0, 2329.0, 2350.0, 2354.0, 2315.0, 2276.0, 2281.0], \"yaxis\": \"y\"}, {\"hoverlabel\": {\"namelength\": 0}, \"hovertemplate\": \"color=1830<br>x=%{x}<br>y=%{y}\", \"legendgroup\": \"color=1830\", \"line\": {\"color\": \"#00cc96\", \"dash\": \"solid\"}, \"mode\": \"lines\", \"name\": \"color=1830\", \"showlegend\": true, \"type\": \"scatter\", \"x\": [\"2019-01\", \"2019-02\", \"2019-03\", \"2019-04\", \"2019-05\", \"2019-06\", \"2019-07\", \"2019-08\", \"2019-09\", \"2019-10\", \"2019-11\", \"2019-12\"], \"xaxis\": \"x\", \"y\": [1626.0, 1625.0, 1622.0, 1619.0, 1623.0, 1625.0, 1627.0, 1638.0, 1647.0, 1650.0, 1649.0, 1650.0], \"yaxis\": \"y\"}, {\"hoverlabel\": {\"namelength\": 0}, \"hovertemplate\": \"color=1832<br>x=%{x}<br>y=%{y}\", \"legendgroup\": \"color=1832\", \"line\": {\"color\": \"#ab63fa\", \"dash\": \"solid\"}, \"mode\": \"lines\", \"name\": \"color=1832\", \"showlegend\": true, \"type\": \"scatter\", \"x\": [\"2019-01\", \"2019-02\", \"2019-03\", \"2019-04\", \"2019-05\", \"2019-06\", \"2019-07\", \"2019-08\", \"2019-09\", \"2019-10\", \"2019-11\", \"2019-12\"], \"xaxis\": \"x\", \"y\": [1587.0, 1589.0, 1584.0, 1581.0, 1588.0000000000002, 1590.0, 1593.0, 1605.0, 1617.0, 1615.0, 1613.0, 1616.0], \"yaxis\": \"y\"}, {\"hoverlabel\": {\"namelength\": 0}, \"hovertemplate\": \"color=1841<br>x=%{x}<br>y=%{y}\", \"legendgroup\": \"color=1841\", \"line\": {\"color\": \"#FFA15A\", \"dash\": \"solid\"}, \"mode\": \"lines\", \"name\": \"color=1841\", \"showlegend\": true, \"type\": \"scatter\", \"x\": [\"2019-01\", \"2019-02\", \"2019-03\", \"2019-04\", \"2019-05\", \"2019-06\", \"2019-07\", \"2019-08\", \"2019-09\", \"2019-10\", \"2019-11\", \"2019-12\"], \"xaxis\": \"x\", \"y\": [1592.0, 1609.0, 1614.0, 1612.0, 1612.0, 1621.0, 1635.0, 1649.9999999999998, 1657.0, 1639.0, 1683.0, 1672.0], \"yaxis\": \"y\"}, {\"hoverlabel\": {\"namelength\": 0}, \"hovertemplate\": \"color=1843<br>x=%{x}<br>y=%{y}\", \"legendgroup\": \"color=1843\", \"line\": {\"color\": \"#19d3f3\", \"dash\": \"solid\"}, \"mode\": \"lines\", \"name\": \"color=1843\", \"showlegend\": true, \"type\": \"scatter\", \"x\": [\"2019-01\", \"2019-02\", \"2019-03\", \"2019-04\", \"2019-05\", \"2019-06\", \"2019-07\", \"2019-08\", \"2019-09\", \"2019-10\", \"2019-11\", \"2019-12\"], \"xaxis\": \"x\", \"y\": [1671.9999999999998, 1674.0, 1675.0, 1678.0000000000002, 1687.0, 1704.9999999999998, 1713.0, 1709.0, 1693.9999999999998, 1657.0, 1703.0, 1749.0], \"yaxis\": \"y\"}, {\"hoverlabel\": {\"namelength\": 0}, \"hovertemplate\": \"color=1844<br>x=%{x}<br>y=%{y}\", \"legendgroup\": \"color=1844\", \"line\": {\"color\": \"#FF6692\", \"dash\": \"solid\"}, \"mode\": \"lines\", \"name\": \"color=1844\", \"showlegend\": true, \"type\": \"scatter\", \"x\": [\"2019-01\", \"2019-02\", \"2019-03\", \"2019-04\", \"2019-05\", \"2019-06\", \"2019-07\", \"2019-08\", \"2019-09\", \"2019-10\", \"2019-11\", \"2019-12\"], \"xaxis\": \"x\", \"y\": [1667.0, 1674.0000000000002, 1682.0000000000002, 1688.0000000000002, 1694.0000000000002, 1701.0, 1709.0, 1711.0, 1707.9999999999998, 1715.9999999999998, 1759.0, 1747.0], \"yaxis\": \"y\"}, {\"hoverlabel\": {\"namelength\": 0}, \"hovertemplate\": \"color=1845<br>x=%{x}<br>y=%{y}\", \"legendgroup\": \"color=1845\", \"line\": {\"color\": \"#B6E880\", \"dash\": \"solid\"}, \"mode\": \"lines\", \"name\": \"color=1845\", \"showlegend\": true, \"type\": \"scatter\", \"x\": [\"2019-01\", \"2019-02\", \"2019-03\", \"2019-04\", \"2019-05\", \"2019-06\", \"2019-07\", \"2019-08\", \"2019-09\", \"2019-10\", \"2019-11\", \"2019-12\"], \"xaxis\": \"x\", \"y\": [1794.0, 1788.0, 1794.0, 1808.0, 1823.0, 1832.9999999999998, 1838.0, 1846.0, 1856.0, 1873.0, 1896.0000000000002, 1900.0], \"yaxis\": \"y\"}, {\"hoverlabel\": {\"namelength\": 0}, \"hovertemplate\": \"color=1850<br>x=%{x}<br>y=%{y}\", \"legendgroup\": \"color=1850\", \"line\": {\"color\": \"#FF97FF\", \"dash\": \"solid\"}, \"mode\": \"lines\", \"name\": \"color=1850\", \"showlegend\": true, \"type\": \"scatter\", \"x\": [\"2019-01\", \"2019-02\", \"2019-03\", \"2019-04\", \"2019-05\", \"2019-06\", \"2019-07\", \"2019-08\", \"2019-09\", \"2019-10\", \"2019-11\", \"2019-12\"], \"xaxis\": \"x\", \"y\": [1965.0, 1963.0, 1984.0, 2025.0, 2070.0, 2101.0, 2124.0, 2143.0, 2133.0, 2070.5, 2008.0, 1972.0], \"yaxis\": \"y\"}, {\"hoverlabel\": {\"namelength\": 0}, \"hovertemplate\": \"color=1851<br>x=%{x}<br>y=%{y}\", \"legendgroup\": \"color=1851\", \"line\": {\"color\": \"#FECB52\", \"dash\": \"solid\"}, \"mode\": \"lines\", \"name\": \"color=1851\", \"showlegend\": true, \"type\": \"scatter\", \"x\": [\"2019-01\", \"2019-02\", \"2019-03\", \"2019-04\", \"2019-05\", \"2019-06\", \"2019-07\", \"2019-08\", \"2019-09\", \"2019-10\", \"2019-11\", \"2019-12\"], \"xaxis\": \"x\", \"y\": [1985.0000000000002, 1985.0000000000002, 1992.0, 2010.0000000000002, 2039.0, 2066.0, 2090.0, 2117.0, 2116.0, 2082.0, 2048.0, 2010.0000000000002], \"yaxis\": \"y\"}, {\"hoverlabel\": {\"namelength\": 0}, \"hovertemplate\": \"color=1852<br>x=%{x}<br>y=%{y}\", \"legendgroup\": \"color=1852\", \"line\": {\"color\": \"#636efa\", \"dash\": \"solid\"}, \"mode\": \"lines\", \"name\": \"color=1852\", \"showlegend\": true, \"type\": \"scatter\", \"x\": [\"2019-01\", \"2019-02\", \"2019-03\", \"2019-04\", \"2019-05\", \"2019-06\", \"2019-07\", \"2019-08\", \"2019-09\", \"2019-10\", \"2019-11\", \"2019-12\"], \"xaxis\": \"x\", \"y\": [1965.0, 1960.0, 1972.9999999999998, 1998.9999999999998, 2032.0, 2060.0, 2084.0, 2112.0, 2110.0, 2058.5, 2007.0000000000002, 1972.9999999999998], \"yaxis\": \"y\"}, {\"hoverlabel\": {\"namelength\": 0}, \"hovertemplate\": \"color=1854<br>x=%{x}<br>y=%{y}\", \"legendgroup\": \"color=1854\", \"line\": {\"color\": \"#EF553B\", \"dash\": \"solid\"}, \"mode\": \"lines\", \"name\": \"color=1854\", \"showlegend\": true, \"type\": \"scatter\", \"x\": [\"2019-01\", \"2019-02\", \"2019-03\", \"2019-04\", \"2019-05\", \"2019-06\", \"2019-07\", \"2019-08\", \"2019-09\", \"2019-10\", \"2019-11\", \"2019-12\"], \"xaxis\": \"x\", \"y\": [2012.0, 2026.0, 2052.0, 2093.0, 2133.0, 2165.0, 2184.0, 2202.0, 2191.0, 2143.0, 2095.0, 2067.5], \"yaxis\": \"y\"}, {\"hoverlabel\": {\"namelength\": 0}, \"hovertemplate\": \"color=1876<br>x=%{x}<br>y=%{y}\", \"legendgroup\": \"color=1876\", \"line\": {\"color\": \"#00cc96\", \"dash\": \"solid\"}, \"mode\": \"lines\", \"name\": \"color=1876\", \"showlegend\": true, \"type\": \"scatter\", \"x\": [\"2019-01\", \"2019-02\", \"2019-03\", \"2019-04\", \"2019-05\", \"2019-06\", \"2019-07\", \"2019-08\", \"2019-09\", \"2019-10\", \"2019-11\", \"2019-12\"], \"xaxis\": \"x\", \"y\": [2151.0, 2139.0, 2118.0, 2135.0, 2160.0, 2186.0, 2215.0, 2226.0, 2240.0000000000005, 2253.0, 2182.0, 2111.0], \"yaxis\": \"y\"}, {\"hoverlabel\": {\"namelength\": 0}, \"hovertemplate\": \"color=1880<br>x=%{x}<br>y=%{y}\", \"legendgroup\": \"color=1880\", \"line\": {\"color\": \"#ab63fa\", \"dash\": \"solid\"}, \"mode\": \"lines\", \"name\": \"color=1880\", \"showlegend\": true, \"type\": \"scatter\", \"x\": [\"2019-01\", \"2019-02\", \"2019-03\", \"2019-04\", \"2019-05\", \"2019-06\", \"2019-07\", \"2019-08\", \"2019-09\", \"2019-10\", \"2019-11\", \"2019-12\"], \"xaxis\": \"x\", \"y\": [2177.0, 2171.0000000000005, 2179.0, 2193.0, 2218.0, 2248.0, 2278.0, 2304.0, 2316.0, 2265.0, 2257.0, 2264.0], \"yaxis\": \"y\"}, {\"hoverlabel\": {\"namelength\": 0}, \"hovertemplate\": \"color=1902<br>x=%{x}<br>y=%{y}\", \"legendgroup\": \"color=1902\", \"line\": {\"color\": \"#FFA15A\", \"dash\": \"solid\"}, \"mode\": \"lines\", \"name\": \"color=1902\", \"showlegend\": true, \"type\": \"scatter\", \"x\": [\"2019-01\", \"2019-02\", \"2019-03\", \"2019-04\", \"2019-05\", \"2019-06\", \"2019-07\", \"2019-08\", \"2019-09\", \"2019-10\", \"2019-11\", \"2019-12\"], \"xaxis\": \"x\", \"y\": [1762.0000000000002, 1785.0, 1827.0000000000002, 1862.0, 1869.0, 1865.0, 1846.0, 1819.9999999999998, 1812.0000000000002, 1837.0, 1872.0, 1837.9999999999998], \"yaxis\": \"y\"}, {\"hoverlabel\": {\"namelength\": 0}, \"hovertemplate\": \"color=1905<br>x=%{x}<br>y=%{y}\", \"legendgroup\": \"color=1905\", \"line\": {\"color\": \"#19d3f3\", \"dash\": \"solid\"}, \"mode\": \"lines\", \"name\": \"color=1905\", \"showlegend\": true, \"type\": \"scatter\", \"x\": [\"2019-01\", \"2019-02\", \"2019-03\", \"2019-04\", \"2019-05\", \"2019-06\", \"2019-07\", \"2019-08\", \"2019-09\", \"2019-10\", \"2019-11\", \"2019-12\"], \"xaxis\": \"x\", \"y\": [1756.0, 1774.0, 1805.0, 1826.0, 1832.0, 1829.0, 1817.9999999999998, 1813.0000000000002, 1822.0, 1857.0, 1859.6666666666672, 1862.333333333333], \"yaxis\": \"y\"}, {\"hoverlabel\": {\"namelength\": 0}, \"hovertemplate\": \"color=1915<br>x=%{x}<br>y=%{y}\", \"legendgroup\": \"color=1915\", \"line\": {\"color\": \"#FF6692\", \"dash\": \"solid\"}, \"mode\": \"lines\", \"name\": \"color=1915\", \"showlegend\": true, \"type\": \"scatter\", \"x\": [\"2019-01\", \"2019-02\", \"2019-03\", \"2019-04\", \"2019-05\", \"2019-06\", \"2019-07\", \"2019-08\", \"2019-09\", \"2019-10\", \"2019-11\", \"2019-12\"], \"xaxis\": \"x\", \"y\": [1818.0, 1826.0, 1843.0, 1860.0, 1875.0000000000002, 1887.9999999999998, 1900.9999999999998, 1909.0, 1917.9999999999998, 1954.9999999999998, 2000.0, 1966.0000000000002], \"yaxis\": \"y\"}, {\"hoverlabel\": {\"namelength\": 0}, \"hovertemplate\": \"color=1930<br>x=%{x}<br>y=%{y}\", \"legendgroup\": \"color=1930\", \"line\": {\"color\": \"#B6E880\", \"dash\": \"solid\"}, \"mode\": \"lines\", \"name\": \"color=1930\", \"showlegend\": true, \"type\": \"scatter\", \"x\": [\"2019-01\", \"2019-02\", \"2019-03\", \"2019-04\", \"2019-05\", \"2019-06\", \"2019-07\", \"2019-08\", \"2019-09\", \"2019-10\", \"2019-11\", \"2019-12\"], \"xaxis\": \"x\", \"y\": [1767.0, 1756.0, 1752.0, 1746.0, 1736.0, 1723.0, 1720.0, 1725.0, 1736.0, 1780.0, 1804.5, 1829.0], \"yaxis\": \"y\"}, {\"hoverlabel\": {\"namelength\": 0}, \"hovertemplate\": \"color=1960<br>x=%{x}<br>y=%{y}\", \"legendgroup\": \"color=1960\", \"line\": {\"color\": \"#FF97FF\", \"dash\": \"solid\"}, \"mode\": \"lines\", \"name\": \"color=1960\", \"showlegend\": true, \"type\": \"scatter\", \"x\": [\"2019-01\", \"2019-02\", \"2019-03\", \"2019-04\", \"2019-05\", \"2019-06\", \"2019-07\", \"2019-08\", \"2019-09\", \"2019-10\", \"2019-11\", \"2019-12\"], \"xaxis\": \"x\", \"y\": [1794.0, 1802.0, 1820.0, 1835.9999999999998, 1840.0000000000002, 1836.9999999999998, 1842.0, 1852.0000000000002, 1869.0, 1897.0, 1945.9999999999998, 1890.4999999999998], \"yaxis\": \"y\"}, {\"hoverlabel\": {\"namelength\": 0}, \"hovertemplate\": \"color=1970<br>x=%{x}<br>y=%{y}\", \"legendgroup\": \"color=1970\", \"line\": {\"color\": \"#FECB52\", \"dash\": \"solid\"}, \"mode\": \"lines\", \"name\": \"color=1970\", \"showlegend\": true, \"type\": \"scatter\", \"x\": [\"2019-01\", \"2019-02\", \"2019-03\", \"2019-04\", \"2019-05\", \"2019-06\", \"2019-07\", \"2019-08\", \"2019-09\", \"2019-10\", \"2019-11\", \"2019-12\"], \"xaxis\": \"x\", \"y\": [1837.0, 1848.0, 1866.0000000000002, 1879.9999999999998, 1886.9999999999998, 1891.0, 1898.0, 1899.9999999999998, 1906.9999999999998, 1936.0, 1964.0, 1931.0], \"yaxis\": \"y\"}],\n",
              "                        {\"legend\": {\"tracegroupgap\": 0}, \"margin\": {\"t\": 60}, \"template\": {\"data\": {\"bar\": [{\"error_x\": {\"color\": \"#2a3f5f\"}, \"error_y\": {\"color\": \"#2a3f5f\"}, \"marker\": {\"line\": {\"color\": \"#E5ECF6\", \"width\": 0.5}}, \"type\": \"bar\"}], \"barpolar\": [{\"marker\": {\"line\": {\"color\": \"#E5ECF6\", \"width\": 0.5}}, \"type\": \"barpolar\"}], \"carpet\": [{\"aaxis\": {\"endlinecolor\": \"#2a3f5f\", \"gridcolor\": \"white\", \"linecolor\": \"white\", \"minorgridcolor\": \"white\", \"startlinecolor\": \"#2a3f5f\"}, \"baxis\": {\"endlinecolor\": \"#2a3f5f\", \"gridcolor\": \"white\", \"linecolor\": \"white\", \"minorgridcolor\": \"white\", \"startlinecolor\": \"#2a3f5f\"}, \"type\": \"carpet\"}], \"choropleth\": [{\"colorbar\": {\"outlinewidth\": 0, \"ticks\": \"\"}, \"type\": \"choropleth\"}], \"contour\": [{\"colorbar\": {\"outlinewidth\": 0, \"ticks\": \"\"}, \"colorscale\": [[0.0, \"#0d0887\"], [0.1111111111111111, \"#46039f\"], [0.2222222222222222, \"#7201a8\"], [0.3333333333333333, \"#9c179e\"], [0.4444444444444444, \"#bd3786\"], [0.5555555555555556, \"#d8576b\"], [0.6666666666666666, \"#ed7953\"], [0.7777777777777778, \"#fb9f3a\"], [0.8888888888888888, \"#fdca26\"], [1.0, \"#f0f921\"]], \"type\": \"contour\"}], \"contourcarpet\": [{\"colorbar\": {\"outlinewidth\": 0, \"ticks\": \"\"}, \"type\": \"contourcarpet\"}], \"heatmap\": [{\"colorbar\": {\"outlinewidth\": 0, \"ticks\": \"\"}, \"colorscale\": [[0.0, \"#0d0887\"], [0.1111111111111111, \"#46039f\"], [0.2222222222222222, \"#7201a8\"], [0.3333333333333333, \"#9c179e\"], [0.4444444444444444, \"#bd3786\"], [0.5555555555555556, \"#d8576b\"], [0.6666666666666666, \"#ed7953\"], [0.7777777777777778, \"#fb9f3a\"], [0.8888888888888888, \"#fdca26\"], [1.0, \"#f0f921\"]], \"type\": \"heatmap\"}], \"heatmapgl\": [{\"colorbar\": {\"outlinewidth\": 0, \"ticks\": \"\"}, \"colorscale\": [[0.0, \"#0d0887\"], [0.1111111111111111, \"#46039f\"], [0.2222222222222222, \"#7201a8\"], [0.3333333333333333, \"#9c179e\"], [0.4444444444444444, \"#bd3786\"], [0.5555555555555556, \"#d8576b\"], [0.6666666666666666, \"#ed7953\"], [0.7777777777777778, \"#fb9f3a\"], [0.8888888888888888, \"#fdca26\"], [1.0, \"#f0f921\"]], \"type\": \"heatmapgl\"}], \"histogram\": [{\"marker\": {\"colorbar\": {\"outlinewidth\": 0, \"ticks\": \"\"}}, \"type\": \"histogram\"}], \"histogram2d\": [{\"colorbar\": {\"outlinewidth\": 0, \"ticks\": \"\"}, \"colorscale\": [[0.0, \"#0d0887\"], [0.1111111111111111, \"#46039f\"], [0.2222222222222222, \"#7201a8\"], [0.3333333333333333, \"#9c179e\"], [0.4444444444444444, \"#bd3786\"], [0.5555555555555556, \"#d8576b\"], [0.6666666666666666, \"#ed7953\"], [0.7777777777777778, \"#fb9f3a\"], [0.8888888888888888, \"#fdca26\"], [1.0, \"#f0f921\"]], \"type\": \"histogram2d\"}], \"histogram2dcontour\": [{\"colorbar\": {\"outlinewidth\": 0, \"ticks\": \"\"}, \"colorscale\": [[0.0, \"#0d0887\"], [0.1111111111111111, \"#46039f\"], [0.2222222222222222, \"#7201a8\"], [0.3333333333333333, \"#9c179e\"], [0.4444444444444444, \"#bd3786\"], [0.5555555555555556, \"#d8576b\"], [0.6666666666666666, \"#ed7953\"], [0.7777777777777778, \"#fb9f3a\"], [0.8888888888888888, \"#fdca26\"], [1.0, \"#f0f921\"]], \"type\": \"histogram2dcontour\"}], \"mesh3d\": [{\"colorbar\": {\"outlinewidth\": 0, \"ticks\": \"\"}, \"type\": \"mesh3d\"}], \"parcoords\": [{\"line\": {\"colorbar\": {\"outlinewidth\": 0, \"ticks\": \"\"}}, \"type\": \"parcoords\"}], \"pie\": [{\"automargin\": true, \"type\": \"pie\"}], \"scatter\": [{\"marker\": {\"colorbar\": {\"outlinewidth\": 0, \"ticks\": \"\"}}, \"type\": \"scatter\"}], \"scatter3d\": [{\"line\": {\"colorbar\": {\"outlinewidth\": 0, \"ticks\": \"\"}}, \"marker\": {\"colorbar\": {\"outlinewidth\": 0, \"ticks\": \"\"}}, \"type\": \"scatter3d\"}], \"scattercarpet\": [{\"marker\": {\"colorbar\": {\"outlinewidth\": 0, \"ticks\": \"\"}}, \"type\": \"scattercarpet\"}], \"scattergeo\": [{\"marker\": {\"colorbar\": {\"outlinewidth\": 0, \"ticks\": \"\"}}, \"type\": \"scattergeo\"}], \"scattergl\": [{\"marker\": {\"colorbar\": {\"outlinewidth\": 0, \"ticks\": \"\"}}, \"type\": \"scattergl\"}], \"scattermapbox\": [{\"marker\": {\"colorbar\": {\"outlinewidth\": 0, \"ticks\": \"\"}}, \"type\": \"scattermapbox\"}], \"scatterpolar\": [{\"marker\": {\"colorbar\": {\"outlinewidth\": 0, \"ticks\": \"\"}}, \"type\": \"scatterpolar\"}], \"scatterpolargl\": [{\"marker\": {\"colorbar\": {\"outlinewidth\": 0, \"ticks\": \"\"}}, \"type\": \"scatterpolargl\"}], \"scatterternary\": [{\"marker\": {\"colorbar\": {\"outlinewidth\": 0, \"ticks\": \"\"}}, \"type\": \"scatterternary\"}], \"surface\": [{\"colorbar\": {\"outlinewidth\": 0, \"ticks\": \"\"}, \"colorscale\": [[0.0, \"#0d0887\"], [0.1111111111111111, \"#46039f\"], [0.2222222222222222, \"#7201a8\"], [0.3333333333333333, \"#9c179e\"], [0.4444444444444444, \"#bd3786\"], [0.5555555555555556, \"#d8576b\"], [0.6666666666666666, \"#ed7953\"], [0.7777777777777778, \"#fb9f3a\"], [0.8888888888888888, \"#fdca26\"], [1.0, \"#f0f921\"]], \"type\": \"surface\"}], \"table\": [{\"cells\": {\"fill\": {\"color\": \"#EBF0F8\"}, \"line\": {\"color\": \"white\"}}, \"header\": {\"fill\": {\"color\": \"#C8D4E3\"}, \"line\": {\"color\": \"white\"}}, \"type\": \"table\"}]}, \"layout\": {\"annotationdefaults\": {\"arrowcolor\": \"#2a3f5f\", \"arrowhead\": 0, \"arrowwidth\": 1}, \"coloraxis\": {\"colorbar\": {\"outlinewidth\": 0, \"ticks\": \"\"}}, \"colorscale\": {\"diverging\": [[0, \"#8e0152\"], [0.1, \"#c51b7d\"], [0.2, \"#de77ae\"], [0.3, \"#f1b6da\"], [0.4, \"#fde0ef\"], [0.5, \"#f7f7f7\"], [0.6, \"#e6f5d0\"], [0.7, \"#b8e186\"], [0.8, \"#7fbc41\"], [0.9, \"#4d9221\"], [1, \"#276419\"]], \"sequential\": [[0.0, \"#0d0887\"], [0.1111111111111111, \"#46039f\"], [0.2222222222222222, \"#7201a8\"], [0.3333333333333333, \"#9c179e\"], [0.4444444444444444, \"#bd3786\"], [0.5555555555555556, \"#d8576b\"], [0.6666666666666666, \"#ed7953\"], [0.7777777777777778, \"#fb9f3a\"], [0.8888888888888888, \"#fdca26\"], [1.0, \"#f0f921\"]], \"sequentialminus\": [[0.0, \"#0d0887\"], [0.1111111111111111, \"#46039f\"], [0.2222222222222222, \"#7201a8\"], [0.3333333333333333, \"#9c179e\"], [0.4444444444444444, \"#bd3786\"], [0.5555555555555556, \"#d8576b\"], [0.6666666666666666, \"#ed7953\"], [0.7777777777777778, \"#fb9f3a\"], [0.8888888888888888, \"#fdca26\"], [1.0, \"#f0f921\"]]}, \"colorway\": [\"#636efa\", \"#EF553B\", \"#00cc96\", \"#ab63fa\", \"#FFA15A\", \"#19d3f3\", \"#FF6692\", \"#B6E880\", \"#FF97FF\", \"#FECB52\"], \"font\": {\"color\": \"#2a3f5f\"}, \"geo\": {\"bgcolor\": \"white\", \"lakecolor\": \"white\", \"landcolor\": \"#E5ECF6\", \"showlakes\": true, \"showland\": true, \"subunitcolor\": \"white\"}, \"hoverlabel\": {\"align\": \"left\"}, \"hovermode\": \"closest\", \"mapbox\": {\"style\": \"light\"}, \"paper_bgcolor\": \"white\", \"plot_bgcolor\": \"#E5ECF6\", \"polar\": {\"angularaxis\": {\"gridcolor\": \"white\", \"linecolor\": \"white\", \"ticks\": \"\"}, \"bgcolor\": \"#E5ECF6\", \"radialaxis\": {\"gridcolor\": \"white\", \"linecolor\": \"white\", \"ticks\": \"\"}}, \"scene\": {\"xaxis\": {\"backgroundcolor\": \"#E5ECF6\", \"gridcolor\": \"white\", \"gridwidth\": 2, \"linecolor\": \"white\", \"showbackground\": true, \"ticks\": \"\", \"zerolinecolor\": \"white\"}, \"yaxis\": {\"backgroundcolor\": \"#E5ECF6\", \"gridcolor\": \"white\", \"gridwidth\": 2, \"linecolor\": \"white\", \"showbackground\": true, \"ticks\": \"\", \"zerolinecolor\": \"white\"}, \"zaxis\": {\"backgroundcolor\": \"#E5ECF6\", \"gridcolor\": \"white\", \"gridwidth\": 2, \"linecolor\": \"white\", \"showbackground\": true, \"ticks\": \"\", \"zerolinecolor\": \"white\"}}, \"shapedefaults\": {\"line\": {\"color\": \"#2a3f5f\"}}, \"ternary\": {\"aaxis\": {\"gridcolor\": \"white\", \"linecolor\": \"white\", \"ticks\": \"\"}, \"baxis\": {\"gridcolor\": \"white\", \"linecolor\": \"white\", \"ticks\": \"\"}, \"bgcolor\": \"#E5ECF6\", \"caxis\": {\"gridcolor\": \"white\", \"linecolor\": \"white\", \"ticks\": \"\"}}, \"title\": {\"x\": 0.05}, \"xaxis\": {\"automargin\": true, \"gridcolor\": \"white\", \"linecolor\": \"white\", \"ticks\": \"\", \"title\": {\"standoff\": 15}, \"zerolinecolor\": \"white\", \"zerolinewidth\": 2}, \"yaxis\": {\"automargin\": true, \"gridcolor\": \"white\", \"linecolor\": \"white\", \"ticks\": \"\", \"title\": {\"standoff\": 15}, \"zerolinecolor\": \"white\", \"zerolinewidth\": 2}}}, \"xaxis\": {\"anchor\": \"y\", \"domain\": [0.0, 1.0], \"title\": {\"text\": \"x\"}}, \"yaxis\": {\"anchor\": \"x\", \"domain\": [0.0, 1.0], \"title\": {\"text\": \"y\"}}},\n",
              "                        {\"responsive\": true}\n",
              "                    ).then(function(){\n",
              "                            \n",
              "var gd = document.getElementById('e2e4877d-016d-4cdd-8c7f-1c7af72fa530');\n",
              "var x = new MutationObserver(function (mutations, observer) {{\n",
              "        var display = window.getComputedStyle(gd).display;\n",
              "        if (!display || display === 'none') {{\n",
              "            console.log([gd, 'removed!']);\n",
              "            Plotly.purge(gd);\n",
              "            observer.disconnect();\n",
              "        }}\n",
              "}});\n",
              "\n",
              "// Listen for the removal of the full notebook cells\n",
              "var notebookContainer = gd.closest('#notebook-container');\n",
              "if (notebookContainer) {{\n",
              "    x.observe(notebookContainer, {childList: true});\n",
              "}}\n",
              "\n",
              "// Listen for the clearing of the current output cell\n",
              "var outputEl = gd.closest('.output');\n",
              "if (outputEl) {{\n",
              "    x.observe(outputEl, {childList: true});\n",
              "}}\n",
              "\n",
              "                        })\n",
              "                };\n",
              "                \n",
              "            </script>\n",
              "        </div>\n",
              "</body>\n",
              "</html>"
            ]
          },
          "metadata": {}
        }
      ]
    },
    {
      "cell_type": "code",
      "metadata": {
        "id": "2b939b4f"
      },
      "source": [
        ""
      ],
      "id": "2b939b4f",
      "execution_count": 46,
      "outputs": []
    },
    {
      "cell_type": "code",
      "metadata": {
        "id": "fb54728f"
      },
      "source": [
        ""
      ],
      "id": "fb54728f",
      "execution_count": 46,
      "outputs": []
    }
  ]
}