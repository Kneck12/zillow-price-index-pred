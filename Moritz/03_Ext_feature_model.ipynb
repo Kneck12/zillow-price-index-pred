{
 "cells": [
  {
   "cell_type": "code",
   "execution_count": 1,
   "id": "1c02b888",
   "metadata": {},
   "outputs": [],
   "source": [
    "import pandas as pd\n",
    "import numpy as np\n",
    "import plotly.express as px\n",
    "from catboost import CatBoostRegressor\n",
    "from sklearn.preprocessing import OneHotEncoder, LabelEncoder, StandardScaler, Normalizer, MinMaxScaler\n",
    "\n",
    "from sklearn.svm import SVR\n",
    "from sklearn.kernel_ridge import KernelRidge\n",
    "from sklearn.linear_model import LinearRegression, Lasso\n",
    "from sklearn.ensemble import BaggingRegressor, RandomForestRegressor\n",
    "\n",
    "from statsmodels.tsa.seasonal import seasonal_decompose\n",
    "import plotly.express as px\n",
    "\n",
    "from sklearn.model_selection import GridSearchCV, TimeSeriesSplit\n",
    "from sklearn.feature_selection import RFECV\n",
    "\n",
    "from datetime import datetime\n",
    "\n",
    "pd.set_option('display.max_rows', 5000)"
   ]
  },
  {
   "cell_type": "markdown",
   "id": "3d777a7d",
   "metadata": {},
   "source": [
    "<H1>External feature integration"
   ]
  },
  {
   "cell_type": "code",
   "execution_count": 2,
   "id": "3d2a2bde",
   "metadata": {},
   "outputs": [],
   "source": [
    "df=pd.read_csv('../data/zri_acs_bikeshare_merged.csv')"
   ]
  },
  {
   "cell_type": "code",
   "execution_count": 3,
   "id": "5ea35d24",
   "metadata": {},
   "outputs": [],
   "source": [
    "df['year-month']=df['datetime'].apply(lambda x: x[0:7])"
   ]
  },
  {
   "cell_type": "code",
   "execution_count": 4,
   "id": "e34e9201",
   "metadata": {},
   "outputs": [
    {
     "data": {
      "text/plain": [
       "Index(['zip', 'City', 'State', 'Metro', 'CountyName', 'zri', 'year', 'month',\n",
       "       'datetime', 'percent_white', 'percent_black', 'percent_asian',\n",
       "       'percent_hispanic', 'percent_native_am', 'percent_other_race',\n",
       "       'percent_0_17', 'percent_18_39', 'percent_40_64', 'percent_65+',\n",
       "       'percent_rental_units_vacant', 'percent_rental_units_occupied',\n",
       "       'percent_graduate_deg', 'percent_bachelors', 'percent_associates',\n",
       "       'percent_highschool', 'percent_less_highschool',\n",
       "       'percent_commute_public_transport', 'percent_commute_less_30',\n",
       "       'percent_buildings_less_10_units', 'percent_buildings_10_19_units',\n",
       "       'percent_buildings_20_49_units', 'percent_buildings_50+_units',\n",
       "       'percent_commute_30_to_59', 'percent_commute_60_to_89',\n",
       "       'percent_commute_90_more', 'percent_new_city', 'percent_new_unit',\n",
       "       'percent_units_owner_occupied', 'median_building_age',\n",
       "       'income_per_capita', 'poverty_rate', 'total_pop',\n",
       "       'percent_workforce_unemployed', 'percent_work_from_home', 'median_age',\n",
       "       'percent_female', 'gini_index', 'percent_not_us_citizen',\n",
       "       'bs_total_stations', 'bs_total_systems', 'has_bike_sharing',\n",
       "       'year-month'],\n",
       "      dtype='object')"
      ]
     },
     "execution_count": 4,
     "metadata": {},
     "output_type": "execute_result"
    }
   ],
   "source": [
    "df.columns"
   ]
  },
  {
   "cell_type": "code",
   "execution_count": null,
   "id": "bdf36416",
   "metadata": {},
   "outputs": [],
   "source": []
  },
  {
   "cell_type": "markdown",
   "id": "2f1b6b68",
   "metadata": {},
   "source": [
    "<H1>Standardization"
   ]
  },
  {
   "cell_type": "code",
   "execution_count": 5,
   "id": "28361475",
   "metadata": {},
   "outputs": [],
   "source": [
    "#df=df.drop('zip', axis=1)\n",
    "\n",
    "for zipcode in df['zip'].unique():\n",
    "    globals()[f\"minmax_{zipcode}\"]=MinMaxScaler(copy=False)\n",
    "    df_filtered=df[df['zip']==zipcode]\n",
    "    df.loc[df['zip']==zipcode,'zri']=globals()[f\"minmax_{zipcode}\"].fit_transform(df_filtered[['zri']])"
   ]
  },
  {
   "cell_type": "code",
   "execution_count": 6,
   "id": "0096f4ce",
   "metadata": {},
   "outputs": [],
   "source": [
    "# for colval in ['percent_white', 'percent_black', 'percent_asian',\n",
    "#        'percent_hispanic', 'percent_native_am', 'percent_other_race',\n",
    "#        'percent_0_17', 'percent_18_39', 'percent_40_64', 'percent_65+',\n",
    "#        'percent_rental_units_vacant', 'percent_rental_units_occupied',\n",
    "#        'percent_graduate_deg', 'percent_bachelors', 'percent_associates',\n",
    "#        'percent_highschool', 'percent_less_highschool',\n",
    "#        'percent_commute_public_transport', 'percent_commute_less_30',\n",
    "#        'percent_buildings_less_10_units', 'percent_buildings_10_19_units',\n",
    "#        'percent_buildings_20_49_units', 'percent_buildings_50+_units',\n",
    "#        'percent_commute_30_to_59', 'percent_commute_60_to_89',\n",
    "#        'percent_commute_90_more', 'percent_new_city', 'percent_new_unit',\n",
    "#        'percent_units_owner_occupied', 'median_building_age',\n",
    "#        'income_per_capita', 'poverty_rate', 'total_pop',\n",
    "#        'percent_workforce_unemployed', 'percent_work_from_home', 'median_age',\n",
    "#        'percent_female', 'gini_index', 'percent_not_us_citizen',\n",
    "#        'bs_total_stations', 'bs_total_systems', 'has_bike_sharing']:\n",
    "#     for zipcode in df['zip'].unique():\n",
    "#         globals()[f\"minmax_{zipcode}_{colval}\"]=MinMaxScaler(copy=False)\n",
    "#         df_filtered=df[df['zip']==zipcode]\n",
    "#         df.loc[df['zip']==zipcode,f'{colval}']=globals()[f\"minmax_{zipcode}_{colval}\"].fit_transform(df_filtered[[f'{colval}']])\n",
    "        \n",
    "        "
   ]
  },
  {
   "cell_type": "code",
   "execution_count": 7,
   "id": "d59b2188",
   "metadata": {},
   "outputs": [],
   "source": [
    "# zri3['mean']=zri3['RegionName'].apply(lambda x: std_dict[x][0])\n",
    "# zri3['std']=zri3['RegionName'].apply(lambda x: std_dict[x][1])\n",
    "\n",
    "#zri3['ZRI_scaled']=(zri3['ZRI']-zri3['mean'])/zri3['std']\n",
    "#zri3['ZRI_scaled']=zri3['zri']\n",
    "#zri3=zri3.drop(['zri'],axis=1)\n",
    "# zri3=zri3.drop(['mean','std'],axis=1)"
   ]
  },
  {
   "cell_type": "markdown",
   "id": "cbfbd557",
   "metadata": {},
   "source": [
    "<H1>Lag development"
   ]
  },
  {
   "cell_type": "code",
   "execution_count": 8,
   "id": "c4ec7b62",
   "metadata": {},
   "outputs": [],
   "source": [
    "def laggenerator(i,colname,df):\n",
    "    timelist=list(df['year-month'].drop_duplicates().sort_values())[0:i]\n",
    "    \n",
    "    df.loc[:,f'{colname}_lag{i}']=df.loc[:,f'{colname}'].shift(i)\n",
    "    \n",
    "    df.loc[df['year-month'].isin(timelist),f'{colname}_lag{i}']=0\n",
    "    return df"
   ]
  },
  {
   "cell_type": "code",
   "execution_count": 9,
   "id": "6b190aa3",
   "metadata": {},
   "outputs": [],
   "source": [
    "def laggenerator_diff(i,colname,df):\n",
    "    timelist=list(df['year-month'].drop_duplicates().sort_values())[0:i+1]\n",
    "    \n",
    "    df.loc[:,f'{colname}_diff_lag{i}_lag{i+1}']=df.loc[:,f'{colname}'].shift(i)-df.loc[:,f'{colname}'].shift(i+1)\n",
    "    \n",
    "    df.loc[df['year-month'].isin(timelist),f'{colname}_diff_lag{i}_lag{i+1}']=0\n",
    "    return df"
   ]
  },
  {
   "cell_type": "code",
   "execution_count": 10,
   "id": "8a58f6e5",
   "metadata": {},
   "outputs": [],
   "source": [
    "def laggenerator_diff6(i,colname,df):\n",
    "    timelist=list(df['year-month'].drop_duplicates().sort_values())[0:i+1]\n",
    "    \n",
    "    df.loc[:,f'{colname}_diff_lag{i}_lag{i+6}']=df.loc[:,f'{colname}'].shift(i)-df.loc[:,f'{colname}'].shift(i+6)\n",
    "    \n",
    "    df.loc[df['year-month'].isin(timelist),f'{colname}_diff_lag{i}_lag{i+6}']=0\n",
    "    return df"
   ]
  },
  {
   "cell_type": "code",
   "execution_count": 11,
   "id": "c9c1b214",
   "metadata": {},
   "outputs": [],
   "source": [
    "def laggenerator_diff12(i,colname,df):\n",
    "    timelist=list(df['year-month'].drop_duplicates().sort_values())[0:i+11]\n",
    "    \n",
    "    df.loc[:,f'{colname}_diff_lag{i}_lag{i+11}']=df.loc[:,f'{colname}'].shift(i)-df.loc[:,f'{colname}'].shift(i+11)\n",
    "    \n",
    "    df.loc[df['year-month'].isin(timelist),f'{colname}_diff_lag{i}_lag{i+11}']=0\n",
    "    return df"
   ]
  },
  {
   "cell_type": "code",
   "execution_count": 12,
   "id": "e923da82",
   "metadata": {},
   "outputs": [],
   "source": [
    "def laggenerator_MA(i,colname,df):\n",
    "    timelist=list(df['year-month'].drop_duplicates().sort_values())[0:i+4]\n",
    "    \n",
    "    df.loc[:,f'{colname}_MA{i}']=df.loc[:,f'{colname}'].shift(i)-(df.loc[:,f'{colname}'].shift(i)+df.loc[:,f'{colname}'].shift(i+1)+df.loc[:,f'{colname}'].shift(i+2)+df.loc[:,f'{colname}'].shift(i+3)+df.loc[:,f'{colname}'].shift(i+4))/5\n",
    "    \n",
    "    df.loc[df['year-month'].isin(timelist),f'{colname}_MA{i}']=0\n",
    "    return df"
   ]
  },
  {
   "cell_type": "code",
   "execution_count": 13,
   "id": "8fe8fcf9",
   "metadata": {},
   "outputs": [],
   "source": [
    "def laggenerator_mean(i,colname,df):\n",
    "    timelist=list(df['year-month'].drop_duplicates().sort_values())[0:i-1]\n",
    "    df.loc[:,f'{colname}_mean{i}']=0\n",
    "    for x in range(1,i):\n",
    "        df.loc[:,f'{colname}_mean{i}']+=df.loc[:,f'{colname}'].shift(x)\n",
    "    df.loc[:,f'{colname}_mean{i}']=df.loc[:,f'{colname}_mean{i}']/i\n",
    "    \n",
    "    df.loc[df['year-month'].isin(timelist),f'{colname}_mean{i}']=0\n",
    "    return df"
   ]
  },
  {
   "cell_type": "code",
   "execution_count": 14,
   "id": "17788020",
   "metadata": {},
   "outputs": [],
   "source": [
    "def laggenerator_ewm(i,colname,df):\n",
    "    timelist=list(df['year-month'].drop_duplicates().sort_values())[0:i-1]\n",
    "    df.loc[:,f'{colname}_ewm{i}']=0\n",
    "    weightsum=0\n",
    "    for y in range(1,i):\n",
    "        weight=i-y\n",
    "        weightsum+=weight\n",
    "    for x in range(1,i):\n",
    "        weight=i-x\n",
    "        df.loc[:,f'{colname}_ewm{i}']+=df.loc[:,f'{colname}'].shift(x)*weight/weightsum\n",
    "    df.loc[:,f'{colname}_ewm{i}']=df.loc[:,f'{colname}_ewm{i}']\n",
    "    \n",
    "    df.loc[df['year-month'].isin(timelist),f'{colname}_ewm{i}']=0\n",
    "    return df"
   ]
  },
  {
   "cell_type": "code",
   "execution_count": 15,
   "id": "5b984e48",
   "metadata": {},
   "outputs": [],
   "source": [
    "def laggenerator_min(i,colname,df):\n",
    "    timelist=list(df['year-month'].drop_duplicates().sort_values())[0:i-1]\n",
    "    df.loc[:,f'{colname}_min{i}']=999999\n",
    "    for x in range(1,i):\n",
    "        df.loc[:,f'{colname}_min{i}']=np.minimum(df.loc[:,f'{colname}'].shift(x),df.loc[:,f'{colname}_min{i}'])\n",
    "    \n",
    "    df.loc[df['year-month'].isin(timelist),f'{colname}_min{i}']=0\n",
    "    return df"
   ]
  },
  {
   "cell_type": "code",
   "execution_count": 16,
   "id": "0d9f626c",
   "metadata": {},
   "outputs": [],
   "source": [
    "def laggenerator_max(i,colname,df):\n",
    "    timelist=list(df['year-month'].drop_duplicates().sort_values())[0:i-1]\n",
    "    df.loc[:,f'{colname}_max{i}']=0\n",
    "    for x in range(1,i):\n",
    "        df.loc[:,f'{colname}_max{i}']=np.maximum(df.loc[:,f'{colname}'].shift(x),df.loc[:,f'{colname}_max{i}'])\n",
    "    \n",
    "    df.loc[df['year-month'].isin(timelist),f'{colname}_max{i}']=0\n",
    "    return df"
   ]
  },
  {
   "cell_type": "code",
   "execution_count": 17,
   "id": "e09d5902",
   "metadata": {},
   "outputs": [],
   "source": [
    "def lag_generator_all(df, var):\n",
    "    for i in range(1,6):   #14\n",
    "        df=laggenerator(i, var,df)\n",
    "\n",
    "    for i in range(1,6):  #11\n",
    "        df=laggenerator_diff(i, var,df)\n",
    "\n",
    "#     for i in range(1,6):\n",
    "#         df=laggenerator_diff6(i, var,df)\n",
    "\n",
    "    #for i in range(1,11):\n",
    "     #   df=laggenerator_MA(i, var,df)\n",
    "\n",
    "#     for i in range(1,14):\n",
    "#         df=laggenerator_mean(i, 'ZRI_scaled',df)\n",
    "\n",
    "#     for i in range(1,2):\n",
    "#         df=laggenerator_ewm(i, var,df)\n",
    "\n",
    "#     for i in range(1,14):\n",
    "#         df=laggenerator_min(i, var,df)\n",
    "\n",
    "#     for i in range(1,14):\n",
    "#         df=laggenerator_max(i, var,df)\n",
    "    \n",
    "    return df\n",
    "\n",
    "def lag_generator_12M(df, var):\n",
    "    df=laggenerator(12, var,df)\n",
    "    return df\n",
    "\n",
    "def lag_generator_dff_12M(df, var):\n",
    "    df=laggenerator_diff12(1, var,df)\n",
    "    return df\n"
   ]
  },
  {
   "cell_type": "code",
   "execution_count": 18,
   "id": "58fdb1a8",
   "metadata": {},
   "outputs": [
    {
     "data": {
      "text/plain": [
       "Index(['zri', 'year', 'month', 'datetime', 'percent_white', 'percent_black',\n",
       "       'percent_asian', 'percent_hispanic', 'percent_native_am',\n",
       "       'percent_other_race', 'percent_0_17', 'percent_18_39', 'percent_40_64',\n",
       "       'percent_65+', 'percent_rental_units_vacant',\n",
       "       'percent_rental_units_occupied', 'percent_graduate_deg',\n",
       "       'percent_bachelors', 'percent_associates', 'percent_highschool',\n",
       "       'percent_less_highschool', 'percent_commute_public_transport',\n",
       "       'percent_commute_less_30', 'percent_buildings_less_10_units',\n",
       "       'percent_buildings_10_19_units', 'percent_buildings_20_49_units',\n",
       "       'percent_buildings_50+_units', 'percent_commute_30_to_59',\n",
       "       'percent_commute_60_to_89', 'percent_commute_90_more',\n",
       "       'percent_new_city', 'percent_new_unit', 'percent_units_owner_occupied',\n",
       "       'median_building_age', 'income_per_capita', 'poverty_rate', 'total_pop',\n",
       "       'percent_workforce_unemployed'],\n",
       "      dtype='object')"
      ]
     },
     "execution_count": 18,
     "metadata": {},
     "output_type": "execute_result"
    }
   ],
   "source": [
    "df.columns[5:43]"
   ]
  },
  {
   "cell_type": "code",
   "execution_count": 19,
   "id": "a79c9917",
   "metadata": {},
   "outputs": [],
   "source": [
    "# for var in df.columns[5:43]:\n",
    "#     df=lag_generator_all(df, var)\n",
    "\n",
    "\n",
    "\n",
    "for feat in ['percent_white', 'percent_black',\n",
    "        'percent_asian', 'percent_hispanic', 'percent_native_am',\n",
    "        'percent_other_race', 'percent_0_17', 'percent_18_39', 'percent_40_64',\n",
    "       'percent_65+', 'percent_rental_units_vacant',\n",
    "       'percent_rental_units_occupied', 'percent_graduate_deg',\n",
    "       'percent_bachelors', 'percent_associates', 'percent_highschool',\n",
    "       'percent_less_highschool', 'percent_commute_public_transport',\n",
    "       'percent_commute_less_30', 'percent_commute_30_to_59',\n",
    "       'percent_commute_60_to_89', 'percent_commute_90_more',\n",
    "       'percent_new_city', 'percent_new_unit', 'percent_units_owner_occupied',\n",
    "       'median_building_age', 'income_per_capita', 'poverty_rate', 'total_pop',\n",
    "       'percent_workforce_unemployed', 'percent_work_from_home', 'median_age',\n",
    "       'percent_female', 'gini_index', 'percent_not_us_citizen',\n",
    "       'bs_total_stations', 'bs_total_systems', 'has_bike_sharing','percent_buildings_less_10_units','percent_buildings_10_19_units','percent_buildings_20_49_units','percent_buildings_50+_units']:\n",
    "    df=lag_generator_12M(df,feat)\n",
    "    df=lag_generator_dff_12M(df,feat)\n",
    "\n",
    "# df=df[['year-month','zip', 'City', 'State', 'Metro', 'CountyName', 'zri', 'year', 'month',\n",
    "#        'datetime',\n",
    "# 'percent_work_from_home','percent_white',\n",
    "# 'percent_white_lag12',\n",
    "# 'percent_native_am_lag12',\n",
    "# 'percent_graduate_deg_lag12',\n",
    "# 'percent_commute_60_to_89',\n",
    "# 'percent_commute_less_30_lag12',\n",
    "# 'percent_commute_less_30',\n",
    "# 'percent_commute_public_transport',\n",
    "# 'percent_commute_less_30_diff_lag1_lag12',\n",
    "# 'percent_bachelors',\n",
    "# 'percent_new_unit_lag12',\n",
    "# 'percent_workforce_unemployed_diff_lag1_lag12']]   \n",
    "    \n",
    "#df=lag_generator_all(df, 'zri')\n",
    "    \n",
    "# df=df.drop(['percent_white', 'percent_black',\n",
    "#         'percent_asian', 'percent_hispanic', 'percent_native_am',\n",
    "#         'percent_other_race', 'percent_0_17', 'percent_18_39', 'percent_40_64',\n",
    "#        'percent_65+', 'percent_rental_units_vacant',\n",
    "#        'percent_rental_units_occupied', 'percent_graduate_deg',\n",
    "#        'percent_bachelors', 'percent_associates', 'percent_highschool',\n",
    "#        'percent_less_highschool', 'percent_commute_public_transport',\n",
    "#        'percent_commute_less_30', 'percent_commute_30_to_59',\n",
    "#        'percent_commute_60_to_89', 'percent_commute_90_more',\n",
    "#        'percent_new_city', 'percent_new_unit', 'percent_units_owner_occupied',\n",
    "#        'median_building_age', 'income_per_capita', 'poverty_rate', 'total_pop',\n",
    "#        'percent_workforce_unemployed', 'percent_work_from_home', 'median_age',\n",
    "#        'percent_female', 'gini_index', 'percent_not_us_citizen',\n",
    "#        'bs_total_stations', 'bs_total_systems', 'has_bike_sharing','percent_buildings_less_10_units','percent_buildings_10_19_units','percent_buildings_20_49_units','percent_buildings_50+_units'],axis=1)"
   ]
  },
  {
   "cell_type": "code",
   "execution_count": 20,
   "id": "6a59753b",
   "metadata": {},
   "outputs": [],
   "source": [
    "col_to_keep=['zip', 'City', 'State', 'Metro', 'CountyName', 'zri', 'year', 'month',\n",
    "       'datetime','percent_white',\n",
    "'zri_diff_lag1_lag2',\n",
    "'zri_diff_lag3_lag4',\n",
    "'zri_diff_lag4_lag5',\n",
    "'percent_work_from_home',\n",
    "'zri_diff_lag5_lag6',\n",
    "'percent_white_lag12',\n",
    "'percent_native_am_lag12',\n",
    "'percent_graduate_deg_lag12',\n",
    "'percent_commute_60_to_89',\n",
    "'percent_commute_less_30_lag12',\n",
    "'percent_commute_less_30',\n",
    "'percent_commute_public_transport',\n",
    "'percent_commute_less_30_diff_lag1_lag12',\n",
    "'zri_lag1',\n",
    "'percent_bachelors',\n",
    "'percent_new_unit_lag12',\n",
    "'percent_workforce_unemployed_diff_lag1_lag12',]\n",
    "\n"
   ]
  },
  {
   "cell_type": "code",
   "execution_count": 21,
   "id": "e19d6563",
   "metadata": {},
   "outputs": [
    {
     "data": {
      "text/plain": [
       "(93672, 136)"
      ]
     },
     "execution_count": 21,
     "metadata": {},
     "output_type": "execute_result"
    }
   ],
   "source": [
    "df.shape"
   ]
  },
  {
   "cell_type": "code",
   "execution_count": 22,
   "id": "8d398b6b",
   "metadata": {},
   "outputs": [],
   "source": [
    "train=df[(df['year-month']<='2018-12') & (df['year-month']>'2015-01')]\n",
    "\n",
    "train=train.drop('year-month',axis=1)\n",
    "\n",
    "Y_train=train['zri']\n",
    "X_train=train.drop('zri',axis=1)\n"
   ]
  },
  {
   "cell_type": "code",
   "execution_count": 23,
   "id": "54140298",
   "metadata": {},
   "outputs": [],
   "source": [
    "labelencoder = LabelEncoder()\n",
    "labelencoder2 = LabelEncoder()\n",
    "labelencoder3 = LabelEncoder()\n",
    "labelencoder4 = LabelEncoder()\n",
    "enc=OneHotEncoder()\n",
    "enc2=OneHotEncoder()\n",
    "\n",
    "# enc2_df = pd.DataFrame(enc2.fit_transform(X_train[['zip']]).toarray())\n",
    "# X_train = X_train.join(enc2_df, rsuffix='1')\n",
    "# X_train=X_train.fillna(0)\n",
    "\n",
    "X_train=X_train.drop(['zip','year','month','datetime','City','State','Metro','CountyName'],axis=1)\n",
    "cols=X_train.columns\n",
    "\n",
    "#X_train = X_train.join(norm_df, rsuffix='1')\n",
    "#X_train=X_train.fillna(0)\n",
    "\n"
   ]
  },
  {
   "cell_type": "code",
   "execution_count": 24,
   "id": "2e3f08ea",
   "metadata": {},
   "outputs": [],
   "source": [
    "# fold=TimeSeriesSplit(n_splits=5)\n",
    "\n",
    "# linmod=RandomForestRegressor(n_estimators=500)\n",
    "\n",
    "# params=({\n",
    "#      'min_samples_split':[20,30,40], \n",
    "#         'max_features':[0.9],\n",
    "#     'min_samples_leaf':[15,20,30]\n",
    "#  })\n",
    "\n",
    "# grid=GridSearchCV(linmod, param_grid=params, cv=fold)\n",
    "# grid.fit(X_train, Y_train)\n",
    "\n",
    "# grid.best_params_"
   ]
  },
  {
   "cell_type": "code",
   "execution_count": 25,
   "id": "6716feca",
   "metadata": {},
   "outputs": [],
   "source": [
    "# fold=TimeSeriesSplit(n_splits=5)\n",
    "\n",
    "# linmod=Lasso(max_iter=1000)\n",
    "\n",
    "# params=({\n",
    "#      'alpha':np.linspace(0.00000000001,0.000001,20), \n",
    "#  })\n",
    "\n",
    "# grid=GridSearchCV(linmod, param_grid=params, cv=fold)\n",
    "# grid.fit(X_train, Y_train)\n",
    "\n",
    "# grid.best_params_"
   ]
  },
  {
   "cell_type": "code",
   "execution_count": 26,
   "id": "80b54c87",
   "metadata": {},
   "outputs": [],
   "source": [
    "# fold=TimeSeriesSplit(n_splits=5)\n",
    "\n",
    "# kr_model=Lasso(alpha=1e-06)\n",
    "\n",
    "# rfe_grid=RFECV(estimator=kr_model, cv=fold, min_features_to_select=1, scoring='r2')\n",
    "# rfe_grid.fit(X_train, Y_train)"
   ]
  },
  {
   "cell_type": "code",
   "execution_count": 27,
   "id": "e5017cc9",
   "metadata": {},
   "outputs": [],
   "source": [
    "# feature_ranking=pd.DataFrame({'Feature':cols,'Importance':rfe_grid.ranking_}).sort_values('Importance')\n",
    "# feature_ranking\n",
    "\n"
   ]
  },
  {
   "cell_type": "code",
   "execution_count": 28,
   "id": "5b7de193",
   "metadata": {},
   "outputs": [
    {
     "name": "stdout",
     "output_type": "stream",
     "text": [
      "CPU times: user 24.2 s, sys: 369 ms, total: 24.6 s\n",
      "Wall time: 3.45 s\n"
     ]
    },
    {
     "name": "stderr",
     "output_type": "stream",
     "text": [
      "/Users/moritz/opt/anaconda3/lib/python3.8/site-packages/sklearn/linear_model/_coordinate_descent.py:530: ConvergenceWarning: Objective did not converge. You might want to increase the number of iterations. Duality gap: 1317.1012895305944, tolerance: 0.34531026780681745\n",
      "  model = cd_fast.enet_coordinate_descent(\n"
     ]
    },
    {
     "data": {
      "text/plain": [
       "Lasso(alpha=1e-06)"
      ]
     },
     "execution_count": 28,
     "metadata": {},
     "output_type": "execute_result"
    }
   ],
   "source": [
    "#kr_model=KernelRidge(kernel='chi2',gamma=0.0001)   #gamma=0.00000001\n",
    "\n",
    "#{'degree': 3, 'gamma': 1.0000000230258512, 'kernel': 'linear'}\n",
    "#kr_model=KernelRidge(kernel='linear',gamma=1, degree=3)   #gamma=0.00000001\n",
    "\n",
    "#kr_model=KernelRidge(kernel='polynomial',gamma=1e-06,degree=3)\n",
    "\n",
    "#kr_model=SVR(kernel='poly',gamma=0.000001,degree=3)\n",
    "#kr_model=Lasso(alpha=100)   #alpha=10\n",
    "\n",
    "#kr_model=RandomForestRegressor(min_samples_split=15, max_features=0.9, n_estimators=500, min_samples_leaf=30)\n",
    "#8, 16\n",
    "\n",
    "kr_model=Lasso(alpha=1e-06)\n",
    "\n",
    "%time kr_model.fit(X_train, Y_train)"
   ]
  },
  {
   "cell_type": "code",
   "execution_count": 29,
   "id": "db9a5b64",
   "metadata": {},
   "outputs": [],
   "source": [
    "#RF: 2 features: 15 seconds"
   ]
  },
  {
   "cell_type": "code",
   "execution_count": 30,
   "id": "6c40566f",
   "metadata": {},
   "outputs": [
    {
     "data": {
      "text/plain": [
       "0.23862363875912462"
      ]
     },
     "execution_count": 30,
     "metadata": {},
     "output_type": "execute_result"
    }
   ],
   "source": [
    "kr_model.score(X_train, Y_train)"
   ]
  },
  {
   "cell_type": "code",
   "execution_count": 31,
   "id": "3a4db9a8",
   "metadata": {},
   "outputs": [
    {
     "data": {
      "text/html": [
       "<div>\n",
       "<style scoped>\n",
       "    .dataframe tbody tr th:only-of-type {\n",
       "        vertical-align: middle;\n",
       "    }\n",
       "\n",
       "    .dataframe tbody tr th {\n",
       "        vertical-align: top;\n",
       "    }\n",
       "\n",
       "    .dataframe thead th {\n",
       "        text-align: right;\n",
       "    }\n",
       "</style>\n",
       "<table border=\"1\" class=\"dataframe\">\n",
       "  <thead>\n",
       "    <tr style=\"text-align: right;\">\n",
       "      <th></th>\n",
       "      <th>Feature</th>\n",
       "      <th>Importance</th>\n",
       "    </tr>\n",
       "  </thead>\n",
       "  <tbody>\n",
       "    <tr>\n",
       "      <th>53</th>\n",
       "      <td>percent_other_race_diff_lag1_lag12</td>\n",
       "      <td>2.071819e+00</td>\n",
       "    </tr>\n",
       "    <tr>\n",
       "      <th>45</th>\n",
       "      <td>percent_black_diff_lag1_lag12</td>\n",
       "      <td>1.243580e+00</td>\n",
       "    </tr>\n",
       "    <tr>\n",
       "      <th>25</th>\n",
       "      <td>percent_commute_90_more</td>\n",
       "      <td>1.214872e+00</td>\n",
       "    </tr>\n",
       "    <tr>\n",
       "      <th>83</th>\n",
       "      <td>percent_commute_60_to_89_diff_lag1_lag12</td>\n",
       "      <td>1.155684e+00</td>\n",
       "    </tr>\n",
       "    <tr>\n",
       "      <th>89</th>\n",
       "      <td>percent_new_unit_diff_lag1_lag12</td>\n",
       "      <td>1.069379e+00</td>\n",
       "    </tr>\n",
       "    <tr>\n",
       "      <th>100</th>\n",
       "      <td>percent_workforce_unemployed_lag12</td>\n",
       "      <td>9.149661e-01</td>\n",
       "    </tr>\n",
       "    <tr>\n",
       "      <th>87</th>\n",
       "      <td>percent_new_city_diff_lag1_lag12</td>\n",
       "      <td>8.773566e-01</td>\n",
       "    </tr>\n",
       "    <tr>\n",
       "      <th>51</th>\n",
       "      <td>percent_native_am_diff_lag1_lag12</td>\n",
       "      <td>7.659121e-01</td>\n",
       "    </tr>\n",
       "    <tr>\n",
       "      <th>61</th>\n",
       "      <td>percent_65+_diff_lag1_lag12</td>\n",
       "      <td>7.483893e-01</td>\n",
       "    </tr>\n",
       "    <tr>\n",
       "      <th>24</th>\n",
       "      <td>percent_commute_60_to_89</td>\n",
       "      <td>6.081697e-01</td>\n",
       "    </tr>\n",
       "    <tr>\n",
       "      <th>78</th>\n",
       "      <td>percent_commute_less_30_lag12</td>\n",
       "      <td>5.704818e-01</td>\n",
       "    </tr>\n",
       "    <tr>\n",
       "      <th>85</th>\n",
       "      <td>percent_commute_90_more_diff_lag1_lag12</td>\n",
       "      <td>5.101533e-01</td>\n",
       "    </tr>\n",
       "    <tr>\n",
       "      <th>102</th>\n",
       "      <td>percent_work_from_home_lag12</td>\n",
       "      <td>4.633782e-01</td>\n",
       "    </tr>\n",
       "    <tr>\n",
       "      <th>47</th>\n",
       "      <td>percent_asian_diff_lag1_lag12</td>\n",
       "      <td>4.193732e-01</td>\n",
       "    </tr>\n",
       "    <tr>\n",
       "      <th>91</th>\n",
       "      <td>percent_units_owner_occupied_diff_lag1_lag12</td>\n",
       "      <td>3.748329e-01</td>\n",
       "    </tr>\n",
       "    <tr>\n",
       "      <th>121</th>\n",
       "      <td>percent_buildings_10_19_units_diff_lag1_lag12</td>\n",
       "      <td>3.668997e-01</td>\n",
       "    </tr>\n",
       "    <tr>\n",
       "      <th>13</th>\n",
       "      <td>percent_bachelors</td>\n",
       "      <td>3.630144e-01</td>\n",
       "    </tr>\n",
       "    <tr>\n",
       "      <th>2</th>\n",
       "      <td>percent_asian</td>\n",
       "      <td>3.434744e-01</td>\n",
       "    </tr>\n",
       "    <tr>\n",
       "      <th>111</th>\n",
       "      <td>percent_not_us_citizen_diff_lag1_lag12</td>\n",
       "      <td>3.246863e-01</td>\n",
       "    </tr>\n",
       "    <tr>\n",
       "      <th>80</th>\n",
       "      <td>percent_commute_30_to_59_lag12</td>\n",
       "      <td>3.171480e-01</td>\n",
       "    </tr>\n",
       "    <tr>\n",
       "      <th>62</th>\n",
       "      <td>percent_rental_units_vacant_lag12</td>\n",
       "      <td>3.075980e-01</td>\n",
       "    </tr>\n",
       "    <tr>\n",
       "      <th>96</th>\n",
       "      <td>poverty_rate_lag12</td>\n",
       "      <td>2.545941e-01</td>\n",
       "    </tr>\n",
       "    <tr>\n",
       "      <th>26</th>\n",
       "      <td>percent_new_city</td>\n",
       "      <td>2.507081e-01</td>\n",
       "    </tr>\n",
       "    <tr>\n",
       "      <th>88</th>\n",
       "      <td>percent_new_unit_lag12</td>\n",
       "      <td>2.450848e-01</td>\n",
       "    </tr>\n",
       "    <tr>\n",
       "      <th>82</th>\n",
       "      <td>percent_commute_60_to_89_lag12</td>\n",
       "      <td>2.145027e-01</td>\n",
       "    </tr>\n",
       "    <tr>\n",
       "      <th>36</th>\n",
       "      <td>percent_female</td>\n",
       "      <td>2.144476e-01</td>\n",
       "    </tr>\n",
       "    <tr>\n",
       "      <th>49</th>\n",
       "      <td>percent_hispanic_diff_lag1_lag12</td>\n",
       "      <td>2.095758e-01</td>\n",
       "    </tr>\n",
       "    <tr>\n",
       "      <th>103</th>\n",
       "      <td>percent_work_from_home_diff_lag1_lag12</td>\n",
       "      <td>1.753954e-01</td>\n",
       "    </tr>\n",
       "    <tr>\n",
       "      <th>23</th>\n",
       "      <td>percent_commute_30_to_59</td>\n",
       "      <td>1.642502e-01</td>\n",
       "    </tr>\n",
       "    <tr>\n",
       "      <th>107</th>\n",
       "      <td>percent_female_diff_lag1_lag12</td>\n",
       "      <td>1.278508e-01</td>\n",
       "    </tr>\n",
       "    <tr>\n",
       "      <th>9</th>\n",
       "      <td>percent_65+</td>\n",
       "      <td>1.256402e-01</td>\n",
       "    </tr>\n",
       "    <tr>\n",
       "      <th>19</th>\n",
       "      <td>percent_buildings_less_10_units</td>\n",
       "      <td>1.140057e-01</td>\n",
       "    </tr>\n",
       "    <tr>\n",
       "      <th>7</th>\n",
       "      <td>percent_18_39</td>\n",
       "      <td>1.052348e-01</td>\n",
       "    </tr>\n",
       "    <tr>\n",
       "      <th>18</th>\n",
       "      <td>percent_commute_less_30</td>\n",
       "      <td>1.032992e-01</td>\n",
       "    </tr>\n",
       "    <tr>\n",
       "      <th>31</th>\n",
       "      <td>poverty_rate</td>\n",
       "      <td>7.498746e-02</td>\n",
       "    </tr>\n",
       "    <tr>\n",
       "      <th>37</th>\n",
       "      <td>gini_index</td>\n",
       "      <td>6.832693e-02</td>\n",
       "    </tr>\n",
       "    <tr>\n",
       "      <th>70</th>\n",
       "      <td>percent_associates_lag12</td>\n",
       "      <td>5.196439e-02</td>\n",
       "    </tr>\n",
       "    <tr>\n",
       "      <th>117</th>\n",
       "      <td>has_bike_sharing_diff_lag1_lag12</td>\n",
       "      <td>4.856135e-02</td>\n",
       "    </tr>\n",
       "    <tr>\n",
       "      <th>114</th>\n",
       "      <td>bs_total_systems_lag12</td>\n",
       "      <td>4.753172e-02</td>\n",
       "    </tr>\n",
       "    <tr>\n",
       "      <th>56</th>\n",
       "      <td>percent_18_39_lag12</td>\n",
       "      <td>4.639906e-02</td>\n",
       "    </tr>\n",
       "    <tr>\n",
       "      <th>119</th>\n",
       "      <td>percent_buildings_less_10_units_diff_lag1_lag12</td>\n",
       "      <td>3.270121e-02</td>\n",
       "    </tr>\n",
       "    <tr>\n",
       "      <th>72</th>\n",
       "      <td>percent_highschool_lag12</td>\n",
       "      <td>2.268163e-02</td>\n",
       "    </tr>\n",
       "    <tr>\n",
       "      <th>38</th>\n",
       "      <td>percent_not_us_citizen</td>\n",
       "      <td>2.123489e-02</td>\n",
       "    </tr>\n",
       "    <tr>\n",
       "      <th>68</th>\n",
       "      <td>percent_bachelors_lag12</td>\n",
       "      <td>1.595246e-02</td>\n",
       "    </tr>\n",
       "    <tr>\n",
       "      <th>105</th>\n",
       "      <td>median_age_diff_lag1_lag12</td>\n",
       "      <td>1.062108e-02</td>\n",
       "    </tr>\n",
       "    <tr>\n",
       "      <th>104</th>\n",
       "      <td>median_age_lag12</td>\n",
       "      <td>9.979069e-03</td>\n",
       "    </tr>\n",
       "    <tr>\n",
       "      <th>22</th>\n",
       "      <td>percent_buildings_50+_units</td>\n",
       "      <td>7.481580e-03</td>\n",
       "    </tr>\n",
       "    <tr>\n",
       "      <th>112</th>\n",
       "      <td>bs_total_stations_lag12</td>\n",
       "      <td>2.345874e-03</td>\n",
       "    </tr>\n",
       "    <tr>\n",
       "      <th>122</th>\n",
       "      <td>percent_buildings_20_49_units_lag12</td>\n",
       "      <td>2.270563e-03</td>\n",
       "    </tr>\n",
       "    <tr>\n",
       "      <th>113</th>\n",
       "      <td>bs_total_stations_diff_lag1_lag12</td>\n",
       "      <td>1.224494e-03</td>\n",
       "    </tr>\n",
       "    <tr>\n",
       "      <th>109</th>\n",
       "      <td>gini_index_diff_lag1_lag12</td>\n",
       "      <td>1.152210e-03</td>\n",
       "    </tr>\n",
       "    <tr>\n",
       "      <th>92</th>\n",
       "      <td>median_building_age_lag12</td>\n",
       "      <td>8.984055e-04</td>\n",
       "    </tr>\n",
       "    <tr>\n",
       "      <th>44</th>\n",
       "      <td>percent_black_lag12</td>\n",
       "      <td>5.330084e-04</td>\n",
       "    </tr>\n",
       "    <tr>\n",
       "      <th>95</th>\n",
       "      <td>income_per_capita_diff_lag1_lag12</td>\n",
       "      <td>1.164832e-05</td>\n",
       "    </tr>\n",
       "    <tr>\n",
       "      <th>30</th>\n",
       "      <td>income_per_capita</td>\n",
       "      <td>1.798901e-06</td>\n",
       "    </tr>\n",
       "    <tr>\n",
       "      <th>99</th>\n",
       "      <td>total_pop_diff_lag1_lag12</td>\n",
       "      <td>1.389063e-06</td>\n",
       "    </tr>\n",
       "    <tr>\n",
       "      <th>32</th>\n",
       "      <td>total_pop</td>\n",
       "      <td>5.110264e-07</td>\n",
       "    </tr>\n",
       "    <tr>\n",
       "      <th>98</th>\n",
       "      <td>total_pop_lag12</td>\n",
       "      <td>1.464797e-07</td>\n",
       "    </tr>\n",
       "    <tr>\n",
       "      <th>11</th>\n",
       "      <td>percent_rental_units_occupied</td>\n",
       "      <td>1.098780e-13</td>\n",
       "    </tr>\n",
       "    <tr>\n",
       "      <th>110</th>\n",
       "      <td>percent_not_us_citizen_lag12</td>\n",
       "      <td>-0.000000e+00</td>\n",
       "    </tr>\n",
       "    <tr>\n",
       "      <th>4</th>\n",
       "      <td>percent_native_am</td>\n",
       "      <td>-0.000000e+00</td>\n",
       "    </tr>\n",
       "    <tr>\n",
       "      <th>5</th>\n",
       "      <td>percent_other_race</td>\n",
       "      <td>-0.000000e+00</td>\n",
       "    </tr>\n",
       "    <tr>\n",
       "      <th>84</th>\n",
       "      <td>percent_commute_90_more_lag12</td>\n",
       "      <td>-0.000000e+00</td>\n",
       "    </tr>\n",
       "    <tr>\n",
       "      <th>14</th>\n",
       "      <td>percent_associates</td>\n",
       "      <td>0.000000e+00</td>\n",
       "    </tr>\n",
       "    <tr>\n",
       "      <th>120</th>\n",
       "      <td>percent_buildings_10_19_units_lag12</td>\n",
       "      <td>-0.000000e+00</td>\n",
       "    </tr>\n",
       "    <tr>\n",
       "      <th>16</th>\n",
       "      <td>percent_less_highschool</td>\n",
       "      <td>0.000000e+00</td>\n",
       "    </tr>\n",
       "    <tr>\n",
       "      <th>73</th>\n",
       "      <td>percent_highschool_diff_lag1_lag12</td>\n",
       "      <td>0.000000e+00</td>\n",
       "    </tr>\n",
       "    <tr>\n",
       "      <th>17</th>\n",
       "      <td>percent_commute_public_transport</td>\n",
       "      <td>-0.000000e+00</td>\n",
       "    </tr>\n",
       "    <tr>\n",
       "      <th>21</th>\n",
       "      <td>percent_buildings_20_49_units</td>\n",
       "      <td>-0.000000e+00</td>\n",
       "    </tr>\n",
       "    <tr>\n",
       "      <th>58</th>\n",
       "      <td>percent_40_64_lag12</td>\n",
       "      <td>0.000000e+00</td>\n",
       "    </tr>\n",
       "    <tr>\n",
       "      <th>106</th>\n",
       "      <td>percent_female_lag12</td>\n",
       "      <td>-0.000000e+00</td>\n",
       "    </tr>\n",
       "    <tr>\n",
       "      <th>54</th>\n",
       "      <td>percent_0_17_lag12</td>\n",
       "      <td>-0.000000e+00</td>\n",
       "    </tr>\n",
       "    <tr>\n",
       "      <th>55</th>\n",
       "      <td>percent_0_17_diff_lag1_lag12</td>\n",
       "      <td>0.000000e+00</td>\n",
       "    </tr>\n",
       "    <tr>\n",
       "      <th>41</th>\n",
       "      <td>has_bike_sharing</td>\n",
       "      <td>0.000000e+00</td>\n",
       "    </tr>\n",
       "    <tr>\n",
       "      <th>108</th>\n",
       "      <td>gini_index_lag12</td>\n",
       "      <td>0.000000e+00</td>\n",
       "    </tr>\n",
       "    <tr>\n",
       "      <th>63</th>\n",
       "      <td>percent_rental_units_vacant_diff_lag1_lag12</td>\n",
       "      <td>-0.000000e+00</td>\n",
       "    </tr>\n",
       "    <tr>\n",
       "      <th>34</th>\n",
       "      <td>percent_work_from_home</td>\n",
       "      <td>0.000000e+00</td>\n",
       "    </tr>\n",
       "    <tr>\n",
       "      <th>65</th>\n",
       "      <td>percent_rental_units_occupied_diff_lag1_lag12</td>\n",
       "      <td>0.000000e+00</td>\n",
       "    </tr>\n",
       "    <tr>\n",
       "      <th>94</th>\n",
       "      <td>income_per_capita_lag12</td>\n",
       "      <td>-6.566241e-07</td>\n",
       "    </tr>\n",
       "    <tr>\n",
       "      <th>93</th>\n",
       "      <td>median_building_age_diff_lag1_lag12</td>\n",
       "      <td>-3.175056e-05</td>\n",
       "    </tr>\n",
       "    <tr>\n",
       "      <th>35</th>\n",
       "      <td>median_age</td>\n",
       "      <td>-2.900070e-04</td>\n",
       "    </tr>\n",
       "    <tr>\n",
       "      <th>29</th>\n",
       "      <td>median_building_age</td>\n",
       "      <td>-3.928657e-04</td>\n",
       "    </tr>\n",
       "    <tr>\n",
       "      <th>124</th>\n",
       "      <td>percent_buildings_50+_units_lag12</td>\n",
       "      <td>-2.303780e-03</td>\n",
       "    </tr>\n",
       "    <tr>\n",
       "      <th>39</th>\n",
       "      <td>bs_total_stations</td>\n",
       "      <td>-3.415616e-03</td>\n",
       "    </tr>\n",
       "    <tr>\n",
       "      <th>81</th>\n",
       "      <td>percent_commute_30_to_59_diff_lag1_lag12</td>\n",
       "      <td>-5.734294e-03</td>\n",
       "    </tr>\n",
       "    <tr>\n",
       "      <th>40</th>\n",
       "      <td>bs_total_systems</td>\n",
       "      <td>-1.101668e-02</td>\n",
       "    </tr>\n",
       "    <tr>\n",
       "      <th>6</th>\n",
       "      <td>percent_0_17</td>\n",
       "      <td>-1.155561e-02</td>\n",
       "    </tr>\n",
       "    <tr>\n",
       "      <th>3</th>\n",
       "      <td>percent_hispanic</td>\n",
       "      <td>-1.527337e-02</td>\n",
       "    </tr>\n",
       "    <tr>\n",
       "      <th>115</th>\n",
       "      <td>bs_total_systems_diff_lag1_lag12</td>\n",
       "      <td>-1.883014e-02</td>\n",
       "    </tr>\n",
       "    <tr>\n",
       "      <th>64</th>\n",
       "      <td>percent_rental_units_occupied_lag12</td>\n",
       "      <td>-2.479560e-02</td>\n",
       "    </tr>\n",
       "    <tr>\n",
       "      <th>116</th>\n",
       "      <td>has_bike_sharing_lag12</td>\n",
       "      <td>-3.223221e-02</td>\n",
       "    </tr>\n",
       "    <tr>\n",
       "      <th>125</th>\n",
       "      <td>percent_buildings_50+_units_diff_lag1_lag12</td>\n",
       "      <td>-3.353523e-02</td>\n",
       "    </tr>\n",
       "    <tr>\n",
       "      <th>118</th>\n",
       "      <td>percent_buildings_less_10_units_lag12</td>\n",
       "      <td>-3.387656e-02</td>\n",
       "    </tr>\n",
       "    <tr>\n",
       "      <th>57</th>\n",
       "      <td>percent_18_39_diff_lag1_lag12</td>\n",
       "      <td>-3.556095e-02</td>\n",
       "    </tr>\n",
       "    <tr>\n",
       "      <th>0</th>\n",
       "      <td>percent_white</td>\n",
       "      <td>-4.127905e-02</td>\n",
       "    </tr>\n",
       "    <tr>\n",
       "      <th>76</th>\n",
       "      <td>percent_commute_public_transport_lag12</td>\n",
       "      <td>-6.860523e-02</td>\n",
       "    </tr>\n",
       "    <tr>\n",
       "      <th>28</th>\n",
       "      <td>percent_units_owner_occupied</td>\n",
       "      <td>-7.526465e-02</td>\n",
       "    </tr>\n",
       "    <tr>\n",
       "      <th>74</th>\n",
       "      <td>percent_less_highschool_lag12</td>\n",
       "      <td>-9.074528e-02</td>\n",
       "    </tr>\n",
       "    <tr>\n",
       "      <th>90</th>\n",
       "      <td>percent_units_owner_occupied_lag12</td>\n",
       "      <td>-9.260712e-02</td>\n",
       "    </tr>\n",
       "    <tr>\n",
       "      <th>20</th>\n",
       "      <td>percent_buildings_10_19_units</td>\n",
       "      <td>-1.154014e-01</td>\n",
       "    </tr>\n",
       "    <tr>\n",
       "      <th>48</th>\n",
       "      <td>percent_hispanic_lag12</td>\n",
       "      <td>-1.357311e-01</td>\n",
       "    </tr>\n",
       "    <tr>\n",
       "      <th>43</th>\n",
       "      <td>percent_white_diff_lag1_lag12</td>\n",
       "      <td>-1.524726e-01</td>\n",
       "    </tr>\n",
       "    <tr>\n",
       "      <th>79</th>\n",
       "      <td>percent_commute_less_30_diff_lag1_lag12</td>\n",
       "      <td>-1.760697e-01</td>\n",
       "    </tr>\n",
       "    <tr>\n",
       "      <th>15</th>\n",
       "      <td>percent_highschool</td>\n",
       "      <td>-1.925053e-01</td>\n",
       "    </tr>\n",
       "    <tr>\n",
       "      <th>12</th>\n",
       "      <td>percent_graduate_deg</td>\n",
       "      <td>-1.964705e-01</td>\n",
       "    </tr>\n",
       "    <tr>\n",
       "      <th>1</th>\n",
       "      <td>percent_black</td>\n",
       "      <td>-2.240428e-01</td>\n",
       "    </tr>\n",
       "    <tr>\n",
       "      <th>42</th>\n",
       "      <td>percent_white_lag12</td>\n",
       "      <td>-2.512200e-01</td>\n",
       "    </tr>\n",
       "    <tr>\n",
       "      <th>8</th>\n",
       "      <td>percent_40_64</td>\n",
       "      <td>-2.564127e-01</td>\n",
       "    </tr>\n",
       "    <tr>\n",
       "      <th>77</th>\n",
       "      <td>percent_commute_public_transport_diff_lag1_lag12</td>\n",
       "      <td>-2.587676e-01</td>\n",
       "    </tr>\n",
       "    <tr>\n",
       "      <th>66</th>\n",
       "      <td>percent_graduate_deg_lag12</td>\n",
       "      <td>-2.777828e-01</td>\n",
       "    </tr>\n",
       "    <tr>\n",
       "      <th>60</th>\n",
       "      <td>percent_65+_lag12</td>\n",
       "      <td>-2.790005e-01</td>\n",
       "    </tr>\n",
       "    <tr>\n",
       "      <th>52</th>\n",
       "      <td>percent_other_race_lag12</td>\n",
       "      <td>-2.806341e-01</td>\n",
       "    </tr>\n",
       "    <tr>\n",
       "      <th>86</th>\n",
       "      <td>percent_new_city_lag12</td>\n",
       "      <td>-3.261785e-01</td>\n",
       "    </tr>\n",
       "    <tr>\n",
       "      <th>46</th>\n",
       "      <td>percent_asian_lag12</td>\n",
       "      <td>-3.822282e-01</td>\n",
       "    </tr>\n",
       "    <tr>\n",
       "      <th>123</th>\n",
       "      <td>percent_buildings_20_49_units_diff_lag1_lag12</td>\n",
       "      <td>-5.769886e-01</td>\n",
       "    </tr>\n",
       "    <tr>\n",
       "      <th>10</th>\n",
       "      <td>percent_rental_units_vacant</td>\n",
       "      <td>-6.383263e-01</td>\n",
       "    </tr>\n",
       "    <tr>\n",
       "      <th>75</th>\n",
       "      <td>percent_less_highschool_diff_lag1_lag12</td>\n",
       "      <td>-6.711293e-01</td>\n",
       "    </tr>\n",
       "    <tr>\n",
       "      <th>97</th>\n",
       "      <td>poverty_rate_diff_lag1_lag12</td>\n",
       "      <td>-9.617242e-01</td>\n",
       "    </tr>\n",
       "    <tr>\n",
       "      <th>27</th>\n",
       "      <td>percent_new_unit</td>\n",
       "      <td>-1.027381e+00</td>\n",
       "    </tr>\n",
       "    <tr>\n",
       "      <th>59</th>\n",
       "      <td>percent_40_64_diff_lag1_lag12</td>\n",
       "      <td>-1.103356e+00</td>\n",
       "    </tr>\n",
       "    <tr>\n",
       "      <th>33</th>\n",
       "      <td>percent_workforce_unemployed</td>\n",
       "      <td>-1.137492e+00</td>\n",
       "    </tr>\n",
       "    <tr>\n",
       "      <th>69</th>\n",
       "      <td>percent_bachelors_diff_lag1_lag12</td>\n",
       "      <td>-1.353760e+00</td>\n",
       "    </tr>\n",
       "    <tr>\n",
       "      <th>50</th>\n",
       "      <td>percent_native_am_lag12</td>\n",
       "      <td>-1.474543e+00</td>\n",
       "    </tr>\n",
       "    <tr>\n",
       "      <th>71</th>\n",
       "      <td>percent_associates_diff_lag1_lag12</td>\n",
       "      <td>-1.670509e+00</td>\n",
       "    </tr>\n",
       "    <tr>\n",
       "      <th>67</th>\n",
       "      <td>percent_graduate_deg_diff_lag1_lag12</td>\n",
       "      <td>-1.812162e+00</td>\n",
       "    </tr>\n",
       "    <tr>\n",
       "      <th>101</th>\n",
       "      <td>percent_workforce_unemployed_diff_lag1_lag12</td>\n",
       "      <td>-7.356811e+00</td>\n",
       "    </tr>\n",
       "  </tbody>\n",
       "</table>\n",
       "</div>"
      ],
      "text/plain": [
       "                                              Feature    Importance\n",
       "53                 percent_other_race_diff_lag1_lag12  2.071819e+00\n",
       "45                      percent_black_diff_lag1_lag12  1.243580e+00\n",
       "25                            percent_commute_90_more  1.214872e+00\n",
       "83           percent_commute_60_to_89_diff_lag1_lag12  1.155684e+00\n",
       "89                   percent_new_unit_diff_lag1_lag12  1.069379e+00\n",
       "100                percent_workforce_unemployed_lag12  9.149661e-01\n",
       "87                   percent_new_city_diff_lag1_lag12  8.773566e-01\n",
       "51                  percent_native_am_diff_lag1_lag12  7.659121e-01\n",
       "61                        percent_65+_diff_lag1_lag12  7.483893e-01\n",
       "24                           percent_commute_60_to_89  6.081697e-01\n",
       "78                      percent_commute_less_30_lag12  5.704818e-01\n",
       "85            percent_commute_90_more_diff_lag1_lag12  5.101533e-01\n",
       "102                      percent_work_from_home_lag12  4.633782e-01\n",
       "47                      percent_asian_diff_lag1_lag12  4.193732e-01\n",
       "91       percent_units_owner_occupied_diff_lag1_lag12  3.748329e-01\n",
       "121     percent_buildings_10_19_units_diff_lag1_lag12  3.668997e-01\n",
       "13                                  percent_bachelors  3.630144e-01\n",
       "2                                       percent_asian  3.434744e-01\n",
       "111            percent_not_us_citizen_diff_lag1_lag12  3.246863e-01\n",
       "80                     percent_commute_30_to_59_lag12  3.171480e-01\n",
       "62                  percent_rental_units_vacant_lag12  3.075980e-01\n",
       "96                                 poverty_rate_lag12  2.545941e-01\n",
       "26                                   percent_new_city  2.507081e-01\n",
       "88                             percent_new_unit_lag12  2.450848e-01\n",
       "82                     percent_commute_60_to_89_lag12  2.145027e-01\n",
       "36                                     percent_female  2.144476e-01\n",
       "49                   percent_hispanic_diff_lag1_lag12  2.095758e-01\n",
       "103            percent_work_from_home_diff_lag1_lag12  1.753954e-01\n",
       "23                           percent_commute_30_to_59  1.642502e-01\n",
       "107                    percent_female_diff_lag1_lag12  1.278508e-01\n",
       "9                                         percent_65+  1.256402e-01\n",
       "19                    percent_buildings_less_10_units  1.140057e-01\n",
       "7                                       percent_18_39  1.052348e-01\n",
       "18                            percent_commute_less_30  1.032992e-01\n",
       "31                                       poverty_rate  7.498746e-02\n",
       "37                                         gini_index  6.832693e-02\n",
       "70                           percent_associates_lag12  5.196439e-02\n",
       "117                  has_bike_sharing_diff_lag1_lag12  4.856135e-02\n",
       "114                            bs_total_systems_lag12  4.753172e-02\n",
       "56                                percent_18_39_lag12  4.639906e-02\n",
       "119   percent_buildings_less_10_units_diff_lag1_lag12  3.270121e-02\n",
       "72                           percent_highschool_lag12  2.268163e-02\n",
       "38                             percent_not_us_citizen  2.123489e-02\n",
       "68                            percent_bachelors_lag12  1.595246e-02\n",
       "105                        median_age_diff_lag1_lag12  1.062108e-02\n",
       "104                                  median_age_lag12  9.979069e-03\n",
       "22                        percent_buildings_50+_units  7.481580e-03\n",
       "112                           bs_total_stations_lag12  2.345874e-03\n",
       "122               percent_buildings_20_49_units_lag12  2.270563e-03\n",
       "113                 bs_total_stations_diff_lag1_lag12  1.224494e-03\n",
       "109                        gini_index_diff_lag1_lag12  1.152210e-03\n",
       "92                          median_building_age_lag12  8.984055e-04\n",
       "44                                percent_black_lag12  5.330084e-04\n",
       "95                  income_per_capita_diff_lag1_lag12  1.164832e-05\n",
       "30                                  income_per_capita  1.798901e-06\n",
       "99                          total_pop_diff_lag1_lag12  1.389063e-06\n",
       "32                                          total_pop  5.110264e-07\n",
       "98                                    total_pop_lag12  1.464797e-07\n",
       "11                      percent_rental_units_occupied  1.098780e-13\n",
       "110                      percent_not_us_citizen_lag12 -0.000000e+00\n",
       "4                                   percent_native_am -0.000000e+00\n",
       "5                                  percent_other_race -0.000000e+00\n",
       "84                      percent_commute_90_more_lag12 -0.000000e+00\n",
       "14                                 percent_associates  0.000000e+00\n",
       "120               percent_buildings_10_19_units_lag12 -0.000000e+00\n",
       "16                            percent_less_highschool  0.000000e+00\n",
       "73                 percent_highschool_diff_lag1_lag12  0.000000e+00\n",
       "17                   percent_commute_public_transport -0.000000e+00\n",
       "21                      percent_buildings_20_49_units -0.000000e+00\n",
       "58                                percent_40_64_lag12  0.000000e+00\n",
       "106                              percent_female_lag12 -0.000000e+00\n",
       "54                                 percent_0_17_lag12 -0.000000e+00\n",
       "55                       percent_0_17_diff_lag1_lag12  0.000000e+00\n",
       "41                                   has_bike_sharing  0.000000e+00\n",
       "108                                  gini_index_lag12  0.000000e+00\n",
       "63        percent_rental_units_vacant_diff_lag1_lag12 -0.000000e+00\n",
       "34                             percent_work_from_home  0.000000e+00\n",
       "65      percent_rental_units_occupied_diff_lag1_lag12  0.000000e+00\n",
       "94                            income_per_capita_lag12 -6.566241e-07\n",
       "93                median_building_age_diff_lag1_lag12 -3.175056e-05\n",
       "35                                         median_age -2.900070e-04\n",
       "29                                median_building_age -3.928657e-04\n",
       "124                 percent_buildings_50+_units_lag12 -2.303780e-03\n",
       "39                                  bs_total_stations -3.415616e-03\n",
       "81           percent_commute_30_to_59_diff_lag1_lag12 -5.734294e-03\n",
       "40                                   bs_total_systems -1.101668e-02\n",
       "6                                        percent_0_17 -1.155561e-02\n",
       "3                                    percent_hispanic -1.527337e-02\n",
       "115                  bs_total_systems_diff_lag1_lag12 -1.883014e-02\n",
       "64                percent_rental_units_occupied_lag12 -2.479560e-02\n",
       "116                            has_bike_sharing_lag12 -3.223221e-02\n",
       "125       percent_buildings_50+_units_diff_lag1_lag12 -3.353523e-02\n",
       "118             percent_buildings_less_10_units_lag12 -3.387656e-02\n",
       "57                      percent_18_39_diff_lag1_lag12 -3.556095e-02\n",
       "0                                       percent_white -4.127905e-02\n",
       "76             percent_commute_public_transport_lag12 -6.860523e-02\n",
       "28                       percent_units_owner_occupied -7.526465e-02\n",
       "74                      percent_less_highschool_lag12 -9.074528e-02\n",
       "90                 percent_units_owner_occupied_lag12 -9.260712e-02\n",
       "20                      percent_buildings_10_19_units -1.154014e-01\n",
       "48                             percent_hispanic_lag12 -1.357311e-01\n",
       "43                      percent_white_diff_lag1_lag12 -1.524726e-01\n",
       "79            percent_commute_less_30_diff_lag1_lag12 -1.760697e-01\n",
       "15                                 percent_highschool -1.925053e-01\n",
       "12                               percent_graduate_deg -1.964705e-01\n",
       "1                                       percent_black -2.240428e-01\n",
       "42                                percent_white_lag12 -2.512200e-01\n",
       "8                                       percent_40_64 -2.564127e-01\n",
       "77   percent_commute_public_transport_diff_lag1_lag12 -2.587676e-01\n",
       "66                         percent_graduate_deg_lag12 -2.777828e-01\n",
       "60                                  percent_65+_lag12 -2.790005e-01\n",
       "52                           percent_other_race_lag12 -2.806341e-01\n",
       "86                             percent_new_city_lag12 -3.261785e-01\n",
       "46                                percent_asian_lag12 -3.822282e-01\n",
       "123     percent_buildings_20_49_units_diff_lag1_lag12 -5.769886e-01\n",
       "10                        percent_rental_units_vacant -6.383263e-01\n",
       "75            percent_less_highschool_diff_lag1_lag12 -6.711293e-01\n",
       "97                       poverty_rate_diff_lag1_lag12 -9.617242e-01\n",
       "27                                   percent_new_unit -1.027381e+00\n",
       "59                      percent_40_64_diff_lag1_lag12 -1.103356e+00\n",
       "33                       percent_workforce_unemployed -1.137492e+00\n",
       "69                  percent_bachelors_diff_lag1_lag12 -1.353760e+00\n",
       "50                            percent_native_am_lag12 -1.474543e+00\n",
       "71                 percent_associates_diff_lag1_lag12 -1.670509e+00\n",
       "67               percent_graduate_deg_diff_lag1_lag12 -1.812162e+00\n",
       "101      percent_workforce_unemployed_diff_lag1_lag12 -7.356811e+00"
      ]
     },
     "execution_count": 31,
     "metadata": {},
     "output_type": "execute_result"
    }
   ],
   "source": [
    "feature_importances=pd.DataFrame({'Feature':cols,'Importance':kr_model.coef_}).sort_values('Importance', ascending=False)\n",
    "feature_importances"
   ]
  },
  {
   "cell_type": "code",
   "execution_count": 32,
   "id": "a284e0b8",
   "metadata": {},
   "outputs": [],
   "source": [
    "# feature_importances=pd.DataFrame({'Feature':cols,'Importance':kr_model.feature_importances_}).sort_values('Importance', ascending=False)\n",
    "# feature_importances"
   ]
  },
  {
   "cell_type": "code",
   "execution_count": 33,
   "id": "d6ddbc09",
   "metadata": {
    "scrolled": true
   },
   "outputs": [],
   "source": [
    "#pd.DataFrame({'Feature':X_train.columns,'Coefs':kr_model.coef_}).sort_values('Coefs')"
   ]
  },
  {
   "cell_type": "code",
   "execution_count": 34,
   "id": "7bfd8777",
   "metadata": {},
   "outputs": [],
   "source": [
    "Y_test=df[(df['year-month']>'2018-12') & (df['year-month']<='2019-12')][['zri']]\n",
    "predictor_table=df.copy()\n",
    "X_test=predictor_table[predictor_table['year-month']>'2018-12']\n",
    "\n",
    "#loop through all month in 2019\n",
    "for month in list(X_test['year-month'].drop_duplicates()):\n",
    "    \n",
    "    #run prediction for one month\n",
    "    X_test=X_test[X_test['year-month']==month]\n",
    "    \n",
    "#     enc2_df2 = pd.DataFrame(enc2.transform(X_test[['zip']]).toarray())\n",
    "#     X_test = X_test.join(enc2_df2, rsuffix='1')\n",
    "#     X_test=X_test.fillna(0)    \n",
    "    \n",
    "    X_test=X_test.drop(['zip','year','month','datetime','City','State','Metro','CountyName','year-month','zri'],axis=1)\n",
    "    #X_test = pd.DataFrame(normal.transform(X_test))\n",
    "   \n",
    "    val=kr_model.predict(X_test)\n",
    "\n",
    "    #write current month prediction into predictor_table\n",
    "\n",
    "    predictor_table.loc[predictor_table['year-month']==month,'zri']=val\n",
    "        \n",
    "    #predictor_table=lag_generator_all(predictor_table, 'zri')\n",
    "#     for var in predictor_table.columns[5:43]:\n",
    "#         predictor_table=lag_generator_all(predictor_table, var)\n",
    "        \n",
    "    X_test=predictor_table[predictor_table['year-month']>'2018-12']\n",
    "\n"
   ]
  },
  {
   "cell_type": "code",
   "execution_count": 35,
   "id": "c3a197df",
   "metadata": {},
   "outputs": [],
   "source": [
    "#Y_test['ZRI_Yest_scaled']=Y_test['ZRI_scaled']\n",
    "rstable=X_test[['zip','year','month','datetime','City','State','Metro','CountyName','year-month','zri']].merge(Y_test[['zri']], left_index=True, right_index=True)\n"
   ]
  },
  {
   "cell_type": "code",
   "execution_count": 36,
   "id": "e69898be",
   "metadata": {},
   "outputs": [
    {
     "data": {
      "text/html": [
       "<div>\n",
       "<style scoped>\n",
       "    .dataframe tbody tr th:only-of-type {\n",
       "        vertical-align: middle;\n",
       "    }\n",
       "\n",
       "    .dataframe tbody tr th {\n",
       "        vertical-align: top;\n",
       "    }\n",
       "\n",
       "    .dataframe thead th {\n",
       "        text-align: right;\n",
       "    }\n",
       "</style>\n",
       "<table border=\"1\" class=\"dataframe\">\n",
       "  <thead>\n",
       "    <tr style=\"text-align: right;\">\n",
       "      <th></th>\n",
       "      <th>zip</th>\n",
       "      <th>year</th>\n",
       "      <th>month</th>\n",
       "      <th>datetime</th>\n",
       "      <th>City</th>\n",
       "      <th>State</th>\n",
       "      <th>Metro</th>\n",
       "      <th>CountyName</th>\n",
       "      <th>year-month</th>\n",
       "      <th>zri_x</th>\n",
       "      <th>zri_y</th>\n",
       "    </tr>\n",
       "  </thead>\n",
       "  <tbody>\n",
       "    <tr>\n",
       "      <th>60</th>\n",
       "      <td>1013</td>\n",
       "      <td>2019</td>\n",
       "      <td>1</td>\n",
       "      <td>2019-01-01</td>\n",
       "      <td>Chicopee</td>\n",
       "      <td>MA</td>\n",
       "      <td>Springfield</td>\n",
       "      <td>Hampden County</td>\n",
       "      <td>2019-01</td>\n",
       "      <td>0.620039</td>\n",
       "      <td>0.692308</td>\n",
       "    </tr>\n",
       "    <tr>\n",
       "      <th>61</th>\n",
       "      <td>1013</td>\n",
       "      <td>2019</td>\n",
       "      <td>2</td>\n",
       "      <td>2019-02-01</td>\n",
       "      <td>Chicopee</td>\n",
       "      <td>MA</td>\n",
       "      <td>Springfield</td>\n",
       "      <td>Hampden County</td>\n",
       "      <td>2019-02</td>\n",
       "      <td>0.613276</td>\n",
       "      <td>0.688259</td>\n",
       "    </tr>\n",
       "    <tr>\n",
       "      <th>62</th>\n",
       "      <td>1013</td>\n",
       "      <td>2019</td>\n",
       "      <td>3</td>\n",
       "      <td>2019-03-01</td>\n",
       "      <td>Chicopee</td>\n",
       "      <td>MA</td>\n",
       "      <td>Springfield</td>\n",
       "      <td>Hampden County</td>\n",
       "      <td>2019-03</td>\n",
       "      <td>0.606513</td>\n",
       "      <td>0.720648</td>\n",
       "    </tr>\n",
       "    <tr>\n",
       "      <th>63</th>\n",
       "      <td>1013</td>\n",
       "      <td>2019</td>\n",
       "      <td>4</td>\n",
       "      <td>2019-04-01</td>\n",
       "      <td>Chicopee</td>\n",
       "      <td>MA</td>\n",
       "      <td>Springfield</td>\n",
       "      <td>Hampden County</td>\n",
       "      <td>2019-04</td>\n",
       "      <td>0.599749</td>\n",
       "      <td>0.753036</td>\n",
       "    </tr>\n",
       "    <tr>\n",
       "      <th>64</th>\n",
       "      <td>1013</td>\n",
       "      <td>2019</td>\n",
       "      <td>5</td>\n",
       "      <td>2019-05-01</td>\n",
       "      <td>Chicopee</td>\n",
       "      <td>MA</td>\n",
       "      <td>Springfield</td>\n",
       "      <td>Hampden County</td>\n",
       "      <td>2019-05</td>\n",
       "      <td>0.592986</td>\n",
       "      <td>0.761134</td>\n",
       "    </tr>\n",
       "    <tr>\n",
       "      <th>...</th>\n",
       "      <td>...</td>\n",
       "      <td>...</td>\n",
       "      <td>...</td>\n",
       "      <td>...</td>\n",
       "      <td>...</td>\n",
       "      <td>...</td>\n",
       "      <td>...</td>\n",
       "      <td>...</td>\n",
       "      <td>...</td>\n",
       "      <td>...</td>\n",
       "      <td>...</td>\n",
       "    </tr>\n",
       "    <tr>\n",
       "      <th>93667</th>\n",
       "      <td>99654</td>\n",
       "      <td>2019</td>\n",
       "      <td>8</td>\n",
       "      <td>2019-08-01</td>\n",
       "      <td>Wasilla</td>\n",
       "      <td>AK</td>\n",
       "      <td>Anchorage</td>\n",
       "      <td>Matanuska Susitna Borough</td>\n",
       "      <td>2019-08</td>\n",
       "      <td>0.440765</td>\n",
       "      <td>0.491713</td>\n",
       "    </tr>\n",
       "    <tr>\n",
       "      <th>93668</th>\n",
       "      <td>99654</td>\n",
       "      <td>2019</td>\n",
       "      <td>9</td>\n",
       "      <td>2019-09-01</td>\n",
       "      <td>Wasilla</td>\n",
       "      <td>AK</td>\n",
       "      <td>Anchorage</td>\n",
       "      <td>Matanuska Susitna Borough</td>\n",
       "      <td>2019-09</td>\n",
       "      <td>0.446373</td>\n",
       "      <td>0.458564</td>\n",
       "    </tr>\n",
       "    <tr>\n",
       "      <th>93669</th>\n",
       "      <td>99654</td>\n",
       "      <td>2019</td>\n",
       "      <td>10</td>\n",
       "      <td>2019-10-01</td>\n",
       "      <td>Wasilla</td>\n",
       "      <td>AK</td>\n",
       "      <td>Anchorage</td>\n",
       "      <td>Matanuska Susitna Borough</td>\n",
       "      <td>2019-10</td>\n",
       "      <td>0.451980</td>\n",
       "      <td>0.613260</td>\n",
       "    </tr>\n",
       "    <tr>\n",
       "      <th>93670</th>\n",
       "      <td>99654</td>\n",
       "      <td>2019</td>\n",
       "      <td>11</td>\n",
       "      <td>2019-11-01</td>\n",
       "      <td>Wasilla</td>\n",
       "      <td>AK</td>\n",
       "      <td>Anchorage</td>\n",
       "      <td>Matanuska Susitna Borough</td>\n",
       "      <td>2019-11</td>\n",
       "      <td>0.457587</td>\n",
       "      <td>0.406077</td>\n",
       "    </tr>\n",
       "    <tr>\n",
       "      <th>93671</th>\n",
       "      <td>99654</td>\n",
       "      <td>2019</td>\n",
       "      <td>12</td>\n",
       "      <td>2019-12-01</td>\n",
       "      <td>Wasilla</td>\n",
       "      <td>AK</td>\n",
       "      <td>Anchorage</td>\n",
       "      <td>Matanuska Susitna Borough</td>\n",
       "      <td>2019-12</td>\n",
       "      <td>0.463195</td>\n",
       "      <td>0.198895</td>\n",
       "    </tr>\n",
       "  </tbody>\n",
       "</table>\n",
       "<p>15612 rows × 11 columns</p>\n",
       "</div>"
      ],
      "text/plain": [
       "         zip  year  month    datetime      City State        Metro  \\\n",
       "60      1013  2019      1  2019-01-01  Chicopee    MA  Springfield   \n",
       "61      1013  2019      2  2019-02-01  Chicopee    MA  Springfield   \n",
       "62      1013  2019      3  2019-03-01  Chicopee    MA  Springfield   \n",
       "63      1013  2019      4  2019-04-01  Chicopee    MA  Springfield   \n",
       "64      1013  2019      5  2019-05-01  Chicopee    MA  Springfield   \n",
       "...      ...   ...    ...         ...       ...   ...          ...   \n",
       "93667  99654  2019      8  2019-08-01   Wasilla    AK    Anchorage   \n",
       "93668  99654  2019      9  2019-09-01   Wasilla    AK    Anchorage   \n",
       "93669  99654  2019     10  2019-10-01   Wasilla    AK    Anchorage   \n",
       "93670  99654  2019     11  2019-11-01   Wasilla    AK    Anchorage   \n",
       "93671  99654  2019     12  2019-12-01   Wasilla    AK    Anchorage   \n",
       "\n",
       "                      CountyName year-month     zri_x     zri_y  \n",
       "60                Hampden County    2019-01  0.620039  0.692308  \n",
       "61                Hampden County    2019-02  0.613276  0.688259  \n",
       "62                Hampden County    2019-03  0.606513  0.720648  \n",
       "63                Hampden County    2019-04  0.599749  0.753036  \n",
       "64                Hampden County    2019-05  0.592986  0.761134  \n",
       "...                          ...        ...       ...       ...  \n",
       "93667  Matanuska Susitna Borough    2019-08  0.440765  0.491713  \n",
       "93668  Matanuska Susitna Borough    2019-09  0.446373  0.458564  \n",
       "93669  Matanuska Susitna Borough    2019-10  0.451980  0.613260  \n",
       "93670  Matanuska Susitna Borough    2019-11  0.457587  0.406077  \n",
       "93671  Matanuska Susitna Borough    2019-12  0.463195  0.198895  \n",
       "\n",
       "[15612 rows x 11 columns]"
      ]
     },
     "execution_count": 36,
     "metadata": {},
     "output_type": "execute_result"
    }
   ],
   "source": [
    "rstable"
   ]
  },
  {
   "cell_type": "code",
   "execution_count": 37,
   "id": "a638fdae",
   "metadata": {},
   "outputs": [],
   "source": [
    "for zipcode in rstable['zip'].unique():\n",
    "    rstable_filtered=rstable[rstable['zip']==zipcode]\n",
    "    rstable.loc[rstable['zip']==zipcode,'zri_x']=globals()[f\"minmax_{zipcode}\"].inverse_transform(rstable_filtered[['zri_x']])\n",
    "    rstable.loc[rstable['zip']==zipcode,'zri_y']=globals()[f\"minmax_{zipcode}\"].inverse_transform(rstable_filtered[['zri_y']])   \n",
    "    "
   ]
  },
  {
   "cell_type": "code",
   "execution_count": 38,
   "id": "cfd65de8",
   "metadata": {},
   "outputs": [
    {
     "data": {
      "text/plain": [
       "96.31187923536882"
      ]
     },
     "execution_count": 38,
     "metadata": {},
     "output_type": "execute_result"
    }
   ],
   "source": [
    "RSME=(sum((rstable['zri_x']-rstable['zri_y'])**2)/len(rstable))**0.5\n",
    "RSME"
   ]
  },
  {
   "cell_type": "code",
   "execution_count": 39,
   "id": "18bce0ab",
   "metadata": {},
   "outputs": [],
   "source": [
    "#51.29194574107712 (max with autoregressive)(random forest)\n",
    "#51.532600992379024 (best with autoregressive, high leaf sizes)(random forest)\n",
    "#52.... (RF with race (WIP))\n",
    "#--------------------------------------\n",
    "#56.2454620290386 (autoregressive Lasso)\n",
    "#56.20530931549105 (race Lasso)\n",
    "#--------------------------------------\n",
    "#101.8813259385975 (Lasso, best, non-auto)\n",
    "#96.31187923536882 (Lasso, all, non-auto))\n"
   ]
  },
  {
   "cell_type": "code",
   "execution_count": 47,
   "id": "51e992ef",
   "metadata": {},
   "outputs": [],
   "source": [
    "rstable['residual']=rstable['zri_x']-rstable['zri_y']"
   ]
  },
  {
   "cell_type": "code",
   "execution_count": 48,
   "id": "e5c1e007",
   "metadata": {},
   "outputs": [],
   "source": [
    "rstable['residual_squared']=rstable['residual'].map(lambda x: x**2)"
   ]
  },
  {
   "cell_type": "code",
   "execution_count": 49,
   "id": "2502ce04",
   "metadata": {},
   "outputs": [],
   "source": [
    "rstable2=rstable.groupby('State').agg('mean').sort_values('residual_squared')\n",
    "rstable2=rstable2.reset_index()"
   ]
  },
  {
   "cell_type": "code",
   "execution_count": 50,
   "id": "224a296c",
   "metadata": {},
   "outputs": [
    {
     "data": {
      "text/html": [
       "<div>\n",
       "<style scoped>\n",
       "    .dataframe tbody tr th:only-of-type {\n",
       "        vertical-align: middle;\n",
       "    }\n",
       "\n",
       "    .dataframe tbody tr th {\n",
       "        vertical-align: top;\n",
       "    }\n",
       "\n",
       "    .dataframe thead th {\n",
       "        text-align: right;\n",
       "    }\n",
       "</style>\n",
       "<table border=\"1\" class=\"dataframe\">\n",
       "  <thead>\n",
       "    <tr style=\"text-align: right;\">\n",
       "      <th></th>\n",
       "      <th>zip</th>\n",
       "      <th>year</th>\n",
       "      <th>month</th>\n",
       "      <th>datetime</th>\n",
       "      <th>City</th>\n",
       "      <th>State</th>\n",
       "      <th>Metro</th>\n",
       "      <th>CountyName</th>\n",
       "      <th>year-month</th>\n",
       "      <th>zri_x</th>\n",
       "      <th>zri_y</th>\n",
       "      <th>residual</th>\n",
       "      <th>residual_squared</th>\n",
       "    </tr>\n",
       "  </thead>\n",
       "  <tbody>\n",
       "    <tr>\n",
       "      <th>60</th>\n",
       "      <td>1013</td>\n",
       "      <td>2019</td>\n",
       "      <td>1</td>\n",
       "      <td>2019-01-01</td>\n",
       "      <td>Chicopee</td>\n",
       "      <td>MA</td>\n",
       "      <td>Springfield</td>\n",
       "      <td>Hampden County</td>\n",
       "      <td>2019-01</td>\n",
       "      <td>1081.149740</td>\n",
       "      <td>1099.0</td>\n",
       "      <td>-17.850260</td>\n",
       "      <td>318.631765</td>\n",
       "    </tr>\n",
       "    <tr>\n",
       "      <th>61</th>\n",
       "      <td>1013</td>\n",
       "      <td>2019</td>\n",
       "      <td>2</td>\n",
       "      <td>2019-02-01</td>\n",
       "      <td>Chicopee</td>\n",
       "      <td>MA</td>\n",
       "      <td>Springfield</td>\n",
       "      <td>Hampden County</td>\n",
       "      <td>2019-02</td>\n",
       "      <td>1079.479178</td>\n",
       "      <td>1098.0</td>\n",
       "      <td>-18.520822</td>\n",
       "      <td>343.020854</td>\n",
       "    </tr>\n",
       "    <tr>\n",
       "      <th>62</th>\n",
       "      <td>1013</td>\n",
       "      <td>2019</td>\n",
       "      <td>3</td>\n",
       "      <td>2019-03-01</td>\n",
       "      <td>Chicopee</td>\n",
       "      <td>MA</td>\n",
       "      <td>Springfield</td>\n",
       "      <td>Hampden County</td>\n",
       "      <td>2019-03</td>\n",
       "      <td>1077.808615</td>\n",
       "      <td>1106.0</td>\n",
       "      <td>-28.191385</td>\n",
       "      <td>794.754178</td>\n",
       "    </tr>\n",
       "    <tr>\n",
       "      <th>63</th>\n",
       "      <td>1013</td>\n",
       "      <td>2019</td>\n",
       "      <td>4</td>\n",
       "      <td>2019-04-01</td>\n",
       "      <td>Chicopee</td>\n",
       "      <td>MA</td>\n",
       "      <td>Springfield</td>\n",
       "      <td>Hampden County</td>\n",
       "      <td>2019-04</td>\n",
       "      <td>1076.138053</td>\n",
       "      <td>1114.0</td>\n",
       "      <td>-37.861947</td>\n",
       "      <td>1433.527066</td>\n",
       "    </tr>\n",
       "    <tr>\n",
       "      <th>64</th>\n",
       "      <td>1013</td>\n",
       "      <td>2019</td>\n",
       "      <td>5</td>\n",
       "      <td>2019-05-01</td>\n",
       "      <td>Chicopee</td>\n",
       "      <td>MA</td>\n",
       "      <td>Springfield</td>\n",
       "      <td>Hampden County</td>\n",
       "      <td>2019-05</td>\n",
       "      <td>1074.467490</td>\n",
       "      <td>1116.0</td>\n",
       "      <td>-41.532510</td>\n",
       "      <td>1724.949396</td>\n",
       "    </tr>\n",
       "    <tr>\n",
       "      <th>...</th>\n",
       "      <td>...</td>\n",
       "      <td>...</td>\n",
       "      <td>...</td>\n",
       "      <td>...</td>\n",
       "      <td>...</td>\n",
       "      <td>...</td>\n",
       "      <td>...</td>\n",
       "      <td>...</td>\n",
       "      <td>...</td>\n",
       "      <td>...</td>\n",
       "      <td>...</td>\n",
       "      <td>...</td>\n",
       "      <td>...</td>\n",
       "    </tr>\n",
       "    <tr>\n",
       "      <th>93667</th>\n",
       "      <td>99654</td>\n",
       "      <td>2019</td>\n",
       "      <td>8</td>\n",
       "      <td>2019-08-01</td>\n",
       "      <td>Wasilla</td>\n",
       "      <td>AK</td>\n",
       "      <td>Anchorage</td>\n",
       "      <td>Matanuska Susitna Borough</td>\n",
       "      <td>2019-08</td>\n",
       "      <td>1267.778497</td>\n",
       "      <td>1277.0</td>\n",
       "      <td>-9.221503</td>\n",
       "      <td>85.036120</td>\n",
       "    </tr>\n",
       "    <tr>\n",
       "      <th>93668</th>\n",
       "      <td>99654</td>\n",
       "      <td>2019</td>\n",
       "      <td>9</td>\n",
       "      <td>2019-09-01</td>\n",
       "      <td>Wasilla</td>\n",
       "      <td>AK</td>\n",
       "      <td>Anchorage</td>\n",
       "      <td>Matanuska Susitna Borough</td>\n",
       "      <td>2019-09</td>\n",
       "      <td>1268.793440</td>\n",
       "      <td>1271.0</td>\n",
       "      <td>-2.206560</td>\n",
       "      <td>4.868908</td>\n",
       "    </tr>\n",
       "    <tr>\n",
       "      <th>93669</th>\n",
       "      <td>99654</td>\n",
       "      <td>2019</td>\n",
       "      <td>10</td>\n",
       "      <td>2019-10-01</td>\n",
       "      <td>Wasilla</td>\n",
       "      <td>AK</td>\n",
       "      <td>Anchorage</td>\n",
       "      <td>Matanuska Susitna Borough</td>\n",
       "      <td>2019-10</td>\n",
       "      <td>1269.808383</td>\n",
       "      <td>1299.0</td>\n",
       "      <td>-29.191617</td>\n",
       "      <td>852.150520</td>\n",
       "    </tr>\n",
       "    <tr>\n",
       "      <th>93670</th>\n",
       "      <td>99654</td>\n",
       "      <td>2019</td>\n",
       "      <td>11</td>\n",
       "      <td>2019-11-01</td>\n",
       "      <td>Wasilla</td>\n",
       "      <td>AK</td>\n",
       "      <td>Anchorage</td>\n",
       "      <td>Matanuska Susitna Borough</td>\n",
       "      <td>2019-11</td>\n",
       "      <td>1270.823326</td>\n",
       "      <td>1261.5</td>\n",
       "      <td>9.323326</td>\n",
       "      <td>86.924401</td>\n",
       "    </tr>\n",
       "    <tr>\n",
       "      <th>93671</th>\n",
       "      <td>99654</td>\n",
       "      <td>2019</td>\n",
       "      <td>12</td>\n",
       "      <td>2019-12-01</td>\n",
       "      <td>Wasilla</td>\n",
       "      <td>AK</td>\n",
       "      <td>Anchorage</td>\n",
       "      <td>Matanuska Susitna Borough</td>\n",
       "      <td>2019-12</td>\n",
       "      <td>1271.838269</td>\n",
       "      <td>1224.0</td>\n",
       "      <td>47.838269</td>\n",
       "      <td>2288.499937</td>\n",
       "    </tr>\n",
       "  </tbody>\n",
       "</table>\n",
       "<p>15612 rows × 13 columns</p>\n",
       "</div>"
      ],
      "text/plain": [
       "         zip  year  month    datetime      City State        Metro  \\\n",
       "60      1013  2019      1  2019-01-01  Chicopee    MA  Springfield   \n",
       "61      1013  2019      2  2019-02-01  Chicopee    MA  Springfield   \n",
       "62      1013  2019      3  2019-03-01  Chicopee    MA  Springfield   \n",
       "63      1013  2019      4  2019-04-01  Chicopee    MA  Springfield   \n",
       "64      1013  2019      5  2019-05-01  Chicopee    MA  Springfield   \n",
       "...      ...   ...    ...         ...       ...   ...          ...   \n",
       "93667  99654  2019      8  2019-08-01   Wasilla    AK    Anchorage   \n",
       "93668  99654  2019      9  2019-09-01   Wasilla    AK    Anchorage   \n",
       "93669  99654  2019     10  2019-10-01   Wasilla    AK    Anchorage   \n",
       "93670  99654  2019     11  2019-11-01   Wasilla    AK    Anchorage   \n",
       "93671  99654  2019     12  2019-12-01   Wasilla    AK    Anchorage   \n",
       "\n",
       "                      CountyName year-month        zri_x   zri_y   residual  \\\n",
       "60                Hampden County    2019-01  1081.149740  1099.0 -17.850260   \n",
       "61                Hampden County    2019-02  1079.479178  1098.0 -18.520822   \n",
       "62                Hampden County    2019-03  1077.808615  1106.0 -28.191385   \n",
       "63                Hampden County    2019-04  1076.138053  1114.0 -37.861947   \n",
       "64                Hampden County    2019-05  1074.467490  1116.0 -41.532510   \n",
       "...                          ...        ...          ...     ...        ...   \n",
       "93667  Matanuska Susitna Borough    2019-08  1267.778497  1277.0  -9.221503   \n",
       "93668  Matanuska Susitna Borough    2019-09  1268.793440  1271.0  -2.206560   \n",
       "93669  Matanuska Susitna Borough    2019-10  1269.808383  1299.0 -29.191617   \n",
       "93670  Matanuska Susitna Borough    2019-11  1270.823326  1261.5   9.323326   \n",
       "93671  Matanuska Susitna Borough    2019-12  1271.838269  1224.0  47.838269   \n",
       "\n",
       "       residual_squared  \n",
       "60           318.631765  \n",
       "61           343.020854  \n",
       "62           794.754178  \n",
       "63          1433.527066  \n",
       "64          1724.949396  \n",
       "...                 ...  \n",
       "93667         85.036120  \n",
       "93668          4.868908  \n",
       "93669        852.150520  \n",
       "93670         86.924401  \n",
       "93671       2288.499937  \n",
       "\n",
       "[15612 rows x 13 columns]"
      ]
     },
     "execution_count": 50,
     "metadata": {},
     "output_type": "execute_result"
    }
   ],
   "source": [
    "rstable"
   ]
  },
  {
   "cell_type": "code",
   "execution_count": 51,
   "id": "f47a5239",
   "metadata": {},
   "outputs": [
    {
     "data": {
      "application/vnd.plotly.v1+json": {
       "config": {
        "plotlyServerURL": "https://plot.ly"
       },
       "data": [
        {
         "coloraxis": "coloraxis",
         "geo": "geo",
         "hovertemplate": "<b>%{hovertext}</b><br><br>State=%{location}<br>residual_squared=%{z}<extra></extra>",
         "hovertext": [
          "AR",
          "IA",
          "WV",
          "AK",
          "CT",
          "MI",
          "IL",
          "KY",
          "NM",
          "MO",
          "ND",
          "IN",
          "WI",
          "PA",
          "OH",
          "HI",
          "OK",
          "TN",
          "VA",
          "RI",
          "SC",
          "KS",
          "FL",
          "TX",
          "NV",
          "NJ",
          "ME",
          "OR",
          "NY",
          "NC",
          "GA",
          "NH",
          "MA",
          "DC",
          "MT",
          "MN",
          "AZ",
          "WA",
          "CO",
          "MD",
          "CA",
          "UT"
         ],
         "locationmode": "USA-states",
         "locations": [
          "AR",
          "IA",
          "WV",
          "AK",
          "CT",
          "MI",
          "IL",
          "KY",
          "NM",
          "MO",
          "ND",
          "IN",
          "WI",
          "PA",
          "OH",
          "HI",
          "OK",
          "TN",
          "VA",
          "RI",
          "SC",
          "KS",
          "FL",
          "TX",
          "NV",
          "NJ",
          "ME",
          "OR",
          "NY",
          "NC",
          "GA",
          "NH",
          "MA",
          "DC",
          "MT",
          "MN",
          "AZ",
          "WA",
          "CO",
          "MD",
          "CA",
          "UT"
         ],
         "name": "",
         "type": "choropleth",
         "z": [
          928.2143461787504,
          1072.9728696251939,
          1085.1961441400692,
          1182.833669431913,
          1339.6373814297142,
          1384.626899851293,
          1697.9347226662724,
          1853.205345564482,
          2229.4032270578996,
          2267.872084463836,
          2430.7906452248603,
          3058.075985374383,
          3346.9397982275846,
          3374.150057387061,
          3710.8899065501064,
          4252.5189428880885,
          4269.443434426913,
          4557.230918381034,
          4782.232410698927,
          5311.720749302699,
          5676.942826261595,
          5852.693726350776,
          6124.528629484174,
          6301.43269804554,
          6499.059486372521,
          7146.215817530044,
          7511.633669594235,
          7832.9098277244275,
          8047.813339515337,
          8520.258552017694,
          9620.739168152888,
          10568.682513956033,
          10798.024021979536,
          10972.256231880543,
          11275.423973649735,
          11342.398991511458,
          12316.60973378697,
          12688.334093219166,
          13905.579010566538,
          14223.566759589987,
          21592.54079013373,
          23047.579136763223
         ]
        }
       ],
       "layout": {
        "coloraxis": {
         "colorbar": {
          "title": {
           "text": "residual_squared"
          }
         },
         "colorscale": [
          [
           0,
           "#440154"
          ],
          [
           0.1111111111111111,
           "#482878"
          ],
          [
           0.2222222222222222,
           "#3e4989"
          ],
          [
           0.3333333333333333,
           "#31688e"
          ],
          [
           0.4444444444444444,
           "#26828e"
          ],
          [
           0.5555555555555556,
           "#1f9e89"
          ],
          [
           0.6666666666666666,
           "#35b779"
          ],
          [
           0.7777777777777778,
           "#6ece58"
          ],
          [
           0.8888888888888888,
           "#b5de2b"
          ],
          [
           1,
           "#fde725"
          ]
         ]
        },
        "geo": {
         "center": {},
         "domain": {
          "x": [
           0,
           1
          ],
          "y": [
           0,
           1
          ]
         },
         "scope": "usa"
        },
        "legend": {
         "tracegroupgap": 0
        },
        "margin": {
         "t": 60
        },
        "template": {
         "data": {
          "bar": [
           {
            "error_x": {
             "color": "#2a3f5f"
            },
            "error_y": {
             "color": "#2a3f5f"
            },
            "marker": {
             "line": {
              "color": "#E5ECF6",
              "width": 0.5
             },
             "pattern": {
              "fillmode": "overlay",
              "size": 10,
              "solidity": 0.2
             }
            },
            "type": "bar"
           }
          ],
          "barpolar": [
           {
            "marker": {
             "line": {
              "color": "#E5ECF6",
              "width": 0.5
             },
             "pattern": {
              "fillmode": "overlay",
              "size": 10,
              "solidity": 0.2
             }
            },
            "type": "barpolar"
           }
          ],
          "carpet": [
           {
            "aaxis": {
             "endlinecolor": "#2a3f5f",
             "gridcolor": "white",
             "linecolor": "white",
             "minorgridcolor": "white",
             "startlinecolor": "#2a3f5f"
            },
            "baxis": {
             "endlinecolor": "#2a3f5f",
             "gridcolor": "white",
             "linecolor": "white",
             "minorgridcolor": "white",
             "startlinecolor": "#2a3f5f"
            },
            "type": "carpet"
           }
          ],
          "choropleth": [
           {
            "colorbar": {
             "outlinewidth": 0,
             "ticks": ""
            },
            "type": "choropleth"
           }
          ],
          "contour": [
           {
            "colorbar": {
             "outlinewidth": 0,
             "ticks": ""
            },
            "colorscale": [
             [
              0,
              "#0d0887"
             ],
             [
              0.1111111111111111,
              "#46039f"
             ],
             [
              0.2222222222222222,
              "#7201a8"
             ],
             [
              0.3333333333333333,
              "#9c179e"
             ],
             [
              0.4444444444444444,
              "#bd3786"
             ],
             [
              0.5555555555555556,
              "#d8576b"
             ],
             [
              0.6666666666666666,
              "#ed7953"
             ],
             [
              0.7777777777777778,
              "#fb9f3a"
             ],
             [
              0.8888888888888888,
              "#fdca26"
             ],
             [
              1,
              "#f0f921"
             ]
            ],
            "type": "contour"
           }
          ],
          "contourcarpet": [
           {
            "colorbar": {
             "outlinewidth": 0,
             "ticks": ""
            },
            "type": "contourcarpet"
           }
          ],
          "heatmap": [
           {
            "colorbar": {
             "outlinewidth": 0,
             "ticks": ""
            },
            "colorscale": [
             [
              0,
              "#0d0887"
             ],
             [
              0.1111111111111111,
              "#46039f"
             ],
             [
              0.2222222222222222,
              "#7201a8"
             ],
             [
              0.3333333333333333,
              "#9c179e"
             ],
             [
              0.4444444444444444,
              "#bd3786"
             ],
             [
              0.5555555555555556,
              "#d8576b"
             ],
             [
              0.6666666666666666,
              "#ed7953"
             ],
             [
              0.7777777777777778,
              "#fb9f3a"
             ],
             [
              0.8888888888888888,
              "#fdca26"
             ],
             [
              1,
              "#f0f921"
             ]
            ],
            "type": "heatmap"
           }
          ],
          "heatmapgl": [
           {
            "colorbar": {
             "outlinewidth": 0,
             "ticks": ""
            },
            "colorscale": [
             [
              0,
              "#0d0887"
             ],
             [
              0.1111111111111111,
              "#46039f"
             ],
             [
              0.2222222222222222,
              "#7201a8"
             ],
             [
              0.3333333333333333,
              "#9c179e"
             ],
             [
              0.4444444444444444,
              "#bd3786"
             ],
             [
              0.5555555555555556,
              "#d8576b"
             ],
             [
              0.6666666666666666,
              "#ed7953"
             ],
             [
              0.7777777777777778,
              "#fb9f3a"
             ],
             [
              0.8888888888888888,
              "#fdca26"
             ],
             [
              1,
              "#f0f921"
             ]
            ],
            "type": "heatmapgl"
           }
          ],
          "histogram": [
           {
            "marker": {
             "pattern": {
              "fillmode": "overlay",
              "size": 10,
              "solidity": 0.2
             }
            },
            "type": "histogram"
           }
          ],
          "histogram2d": [
           {
            "colorbar": {
             "outlinewidth": 0,
             "ticks": ""
            },
            "colorscale": [
             [
              0,
              "#0d0887"
             ],
             [
              0.1111111111111111,
              "#46039f"
             ],
             [
              0.2222222222222222,
              "#7201a8"
             ],
             [
              0.3333333333333333,
              "#9c179e"
             ],
             [
              0.4444444444444444,
              "#bd3786"
             ],
             [
              0.5555555555555556,
              "#d8576b"
             ],
             [
              0.6666666666666666,
              "#ed7953"
             ],
             [
              0.7777777777777778,
              "#fb9f3a"
             ],
             [
              0.8888888888888888,
              "#fdca26"
             ],
             [
              1,
              "#f0f921"
             ]
            ],
            "type": "histogram2d"
           }
          ],
          "histogram2dcontour": [
           {
            "colorbar": {
             "outlinewidth": 0,
             "ticks": ""
            },
            "colorscale": [
             [
              0,
              "#0d0887"
             ],
             [
              0.1111111111111111,
              "#46039f"
             ],
             [
              0.2222222222222222,
              "#7201a8"
             ],
             [
              0.3333333333333333,
              "#9c179e"
             ],
             [
              0.4444444444444444,
              "#bd3786"
             ],
             [
              0.5555555555555556,
              "#d8576b"
             ],
             [
              0.6666666666666666,
              "#ed7953"
             ],
             [
              0.7777777777777778,
              "#fb9f3a"
             ],
             [
              0.8888888888888888,
              "#fdca26"
             ],
             [
              1,
              "#f0f921"
             ]
            ],
            "type": "histogram2dcontour"
           }
          ],
          "mesh3d": [
           {
            "colorbar": {
             "outlinewidth": 0,
             "ticks": ""
            },
            "type": "mesh3d"
           }
          ],
          "parcoords": [
           {
            "line": {
             "colorbar": {
              "outlinewidth": 0,
              "ticks": ""
             }
            },
            "type": "parcoords"
           }
          ],
          "pie": [
           {
            "automargin": true,
            "type": "pie"
           }
          ],
          "scatter": [
           {
            "marker": {
             "colorbar": {
              "outlinewidth": 0,
              "ticks": ""
             }
            },
            "type": "scatter"
           }
          ],
          "scatter3d": [
           {
            "line": {
             "colorbar": {
              "outlinewidth": 0,
              "ticks": ""
             }
            },
            "marker": {
             "colorbar": {
              "outlinewidth": 0,
              "ticks": ""
             }
            },
            "type": "scatter3d"
           }
          ],
          "scattercarpet": [
           {
            "marker": {
             "colorbar": {
              "outlinewidth": 0,
              "ticks": ""
             }
            },
            "type": "scattercarpet"
           }
          ],
          "scattergeo": [
           {
            "marker": {
             "colorbar": {
              "outlinewidth": 0,
              "ticks": ""
             }
            },
            "type": "scattergeo"
           }
          ],
          "scattergl": [
           {
            "marker": {
             "colorbar": {
              "outlinewidth": 0,
              "ticks": ""
             }
            },
            "type": "scattergl"
           }
          ],
          "scattermapbox": [
           {
            "marker": {
             "colorbar": {
              "outlinewidth": 0,
              "ticks": ""
             }
            },
            "type": "scattermapbox"
           }
          ],
          "scatterpolar": [
           {
            "marker": {
             "colorbar": {
              "outlinewidth": 0,
              "ticks": ""
             }
            },
            "type": "scatterpolar"
           }
          ],
          "scatterpolargl": [
           {
            "marker": {
             "colorbar": {
              "outlinewidth": 0,
              "ticks": ""
             }
            },
            "type": "scatterpolargl"
           }
          ],
          "scatterternary": [
           {
            "marker": {
             "colorbar": {
              "outlinewidth": 0,
              "ticks": ""
             }
            },
            "type": "scatterternary"
           }
          ],
          "surface": [
           {
            "colorbar": {
             "outlinewidth": 0,
             "ticks": ""
            },
            "colorscale": [
             [
              0,
              "#0d0887"
             ],
             [
              0.1111111111111111,
              "#46039f"
             ],
             [
              0.2222222222222222,
              "#7201a8"
             ],
             [
              0.3333333333333333,
              "#9c179e"
             ],
             [
              0.4444444444444444,
              "#bd3786"
             ],
             [
              0.5555555555555556,
              "#d8576b"
             ],
             [
              0.6666666666666666,
              "#ed7953"
             ],
             [
              0.7777777777777778,
              "#fb9f3a"
             ],
             [
              0.8888888888888888,
              "#fdca26"
             ],
             [
              1,
              "#f0f921"
             ]
            ],
            "type": "surface"
           }
          ],
          "table": [
           {
            "cells": {
             "fill": {
              "color": "#EBF0F8"
             },
             "line": {
              "color": "white"
             }
            },
            "header": {
             "fill": {
              "color": "#C8D4E3"
             },
             "line": {
              "color": "white"
             }
            },
            "type": "table"
           }
          ]
         },
         "layout": {
          "annotationdefaults": {
           "arrowcolor": "#2a3f5f",
           "arrowhead": 0,
           "arrowwidth": 1
          },
          "autotypenumbers": "strict",
          "coloraxis": {
           "colorbar": {
            "outlinewidth": 0,
            "ticks": ""
           }
          },
          "colorscale": {
           "diverging": [
            [
             0,
             "#8e0152"
            ],
            [
             0.1,
             "#c51b7d"
            ],
            [
             0.2,
             "#de77ae"
            ],
            [
             0.3,
             "#f1b6da"
            ],
            [
             0.4,
             "#fde0ef"
            ],
            [
             0.5,
             "#f7f7f7"
            ],
            [
             0.6,
             "#e6f5d0"
            ],
            [
             0.7,
             "#b8e186"
            ],
            [
             0.8,
             "#7fbc41"
            ],
            [
             0.9,
             "#4d9221"
            ],
            [
             1,
             "#276419"
            ]
           ],
           "sequential": [
            [
             0,
             "#0d0887"
            ],
            [
             0.1111111111111111,
             "#46039f"
            ],
            [
             0.2222222222222222,
             "#7201a8"
            ],
            [
             0.3333333333333333,
             "#9c179e"
            ],
            [
             0.4444444444444444,
             "#bd3786"
            ],
            [
             0.5555555555555556,
             "#d8576b"
            ],
            [
             0.6666666666666666,
             "#ed7953"
            ],
            [
             0.7777777777777778,
             "#fb9f3a"
            ],
            [
             0.8888888888888888,
             "#fdca26"
            ],
            [
             1,
             "#f0f921"
            ]
           ],
           "sequentialminus": [
            [
             0,
             "#0d0887"
            ],
            [
             0.1111111111111111,
             "#46039f"
            ],
            [
             0.2222222222222222,
             "#7201a8"
            ],
            [
             0.3333333333333333,
             "#9c179e"
            ],
            [
             0.4444444444444444,
             "#bd3786"
            ],
            [
             0.5555555555555556,
             "#d8576b"
            ],
            [
             0.6666666666666666,
             "#ed7953"
            ],
            [
             0.7777777777777778,
             "#fb9f3a"
            ],
            [
             0.8888888888888888,
             "#fdca26"
            ],
            [
             1,
             "#f0f921"
            ]
           ]
          },
          "colorway": [
           "#636efa",
           "#EF553B",
           "#00cc96",
           "#ab63fa",
           "#FFA15A",
           "#19d3f3",
           "#FF6692",
           "#B6E880",
           "#FF97FF",
           "#FECB52"
          ],
          "font": {
           "color": "#2a3f5f"
          },
          "geo": {
           "bgcolor": "white",
           "lakecolor": "white",
           "landcolor": "#E5ECF6",
           "showlakes": true,
           "showland": true,
           "subunitcolor": "white"
          },
          "hoverlabel": {
           "align": "left"
          },
          "hovermode": "closest",
          "mapbox": {
           "style": "light"
          },
          "paper_bgcolor": "white",
          "plot_bgcolor": "#E5ECF6",
          "polar": {
           "angularaxis": {
            "gridcolor": "white",
            "linecolor": "white",
            "ticks": ""
           },
           "bgcolor": "#E5ECF6",
           "radialaxis": {
            "gridcolor": "white",
            "linecolor": "white",
            "ticks": ""
           }
          },
          "scene": {
           "xaxis": {
            "backgroundcolor": "#E5ECF6",
            "gridcolor": "white",
            "gridwidth": 2,
            "linecolor": "white",
            "showbackground": true,
            "ticks": "",
            "zerolinecolor": "white"
           },
           "yaxis": {
            "backgroundcolor": "#E5ECF6",
            "gridcolor": "white",
            "gridwidth": 2,
            "linecolor": "white",
            "showbackground": true,
            "ticks": "",
            "zerolinecolor": "white"
           },
           "zaxis": {
            "backgroundcolor": "#E5ECF6",
            "gridcolor": "white",
            "gridwidth": 2,
            "linecolor": "white",
            "showbackground": true,
            "ticks": "",
            "zerolinecolor": "white"
           }
          },
          "shapedefaults": {
           "line": {
            "color": "#2a3f5f"
           }
          },
          "ternary": {
           "aaxis": {
            "gridcolor": "white",
            "linecolor": "white",
            "ticks": ""
           },
           "baxis": {
            "gridcolor": "white",
            "linecolor": "white",
            "ticks": ""
           },
           "bgcolor": "#E5ECF6",
           "caxis": {
            "gridcolor": "white",
            "linecolor": "white",
            "ticks": ""
           }
          },
          "title": {
           "x": 0.05
          },
          "xaxis": {
           "automargin": true,
           "gridcolor": "white",
           "linecolor": "white",
           "ticks": "",
           "title": {
            "standoff": 15
           },
           "zerolinecolor": "white",
           "zerolinewidth": 2
          },
          "yaxis": {
           "automargin": true,
           "gridcolor": "white",
           "linecolor": "white",
           "ticks": "",
           "title": {
            "standoff": 15
           },
           "zerolinecolor": "white",
           "zerolinewidth": 2
          }
         }
        }
       }
      },
      "text/html": [
       "<div>                            <div id=\"e873eda0-ec81-4bb6-b067-21bfb5b1e48d\" class=\"plotly-graph-div\" style=\"height:525px; width:100%;\"></div>            <script type=\"text/javascript\">                require([\"plotly\"], function(Plotly) {                    window.PLOTLYENV=window.PLOTLYENV || {};                                    if (document.getElementById(\"e873eda0-ec81-4bb6-b067-21bfb5b1e48d\")) {                    Plotly.newPlot(                        \"e873eda0-ec81-4bb6-b067-21bfb5b1e48d\",                        [{\"coloraxis\":\"coloraxis\",\"geo\":\"geo\",\"hovertemplate\":\"<b>%{hovertext}</b><br><br>State=%{location}<br>residual_squared=%{z}<extra></extra>\",\"hovertext\":[\"AR\",\"IA\",\"WV\",\"AK\",\"CT\",\"MI\",\"IL\",\"KY\",\"NM\",\"MO\",\"ND\",\"IN\",\"WI\",\"PA\",\"OH\",\"HI\",\"OK\",\"TN\",\"VA\",\"RI\",\"SC\",\"KS\",\"FL\",\"TX\",\"NV\",\"NJ\",\"ME\",\"OR\",\"NY\",\"NC\",\"GA\",\"NH\",\"MA\",\"DC\",\"MT\",\"MN\",\"AZ\",\"WA\",\"CO\",\"MD\",\"CA\",\"UT\"],\"locationmode\":\"USA-states\",\"locations\":[\"AR\",\"IA\",\"WV\",\"AK\",\"CT\",\"MI\",\"IL\",\"KY\",\"NM\",\"MO\",\"ND\",\"IN\",\"WI\",\"PA\",\"OH\",\"HI\",\"OK\",\"TN\",\"VA\",\"RI\",\"SC\",\"KS\",\"FL\",\"TX\",\"NV\",\"NJ\",\"ME\",\"OR\",\"NY\",\"NC\",\"GA\",\"NH\",\"MA\",\"DC\",\"MT\",\"MN\",\"AZ\",\"WA\",\"CO\",\"MD\",\"CA\",\"UT\"],\"name\":\"\",\"type\":\"choropleth\",\"z\":[928.2143461787504,1072.9728696251939,1085.1961441400692,1182.833669431913,1339.6373814297142,1384.626899851293,1697.9347226662724,1853.205345564482,2229.4032270578996,2267.872084463836,2430.7906452248603,3058.075985374383,3346.9397982275846,3374.150057387061,3710.8899065501064,4252.5189428880885,4269.443434426913,4557.230918381034,4782.232410698927,5311.720749302699,5676.942826261595,5852.693726350776,6124.528629484174,6301.43269804554,6499.059486372521,7146.215817530044,7511.633669594235,7832.9098277244275,8047.813339515337,8520.258552017694,9620.739168152888,10568.682513956033,10798.024021979536,10972.256231880543,11275.423973649735,11342.398991511458,12316.60973378697,12688.334093219166,13905.579010566538,14223.566759589987,21592.54079013373,23047.579136763223]}],                        {\"coloraxis\":{\"colorbar\":{\"title\":{\"text\":\"residual_squared\"}},\"colorscale\":[[0.0,\"#440154\"],[0.1111111111111111,\"#482878\"],[0.2222222222222222,\"#3e4989\"],[0.3333333333333333,\"#31688e\"],[0.4444444444444444,\"#26828e\"],[0.5555555555555556,\"#1f9e89\"],[0.6666666666666666,\"#35b779\"],[0.7777777777777778,\"#6ece58\"],[0.8888888888888888,\"#b5de2b\"],[1.0,\"#fde725\"]]},\"geo\":{\"center\":{},\"domain\":{\"x\":[0.0,1.0],\"y\":[0.0,1.0]},\"scope\":\"usa\"},\"legend\":{\"tracegroupgap\":0},\"margin\":{\"t\":60},\"template\":{\"data\":{\"bar\":[{\"error_x\":{\"color\":\"#2a3f5f\"},\"error_y\":{\"color\":\"#2a3f5f\"},\"marker\":{\"line\":{\"color\":\"#E5ECF6\",\"width\":0.5},\"pattern\":{\"fillmode\":\"overlay\",\"size\":10,\"solidity\":0.2}},\"type\":\"bar\"}],\"barpolar\":[{\"marker\":{\"line\":{\"color\":\"#E5ECF6\",\"width\":0.5},\"pattern\":{\"fillmode\":\"overlay\",\"size\":10,\"solidity\":0.2}},\"type\":\"barpolar\"}],\"carpet\":[{\"aaxis\":{\"endlinecolor\":\"#2a3f5f\",\"gridcolor\":\"white\",\"linecolor\":\"white\",\"minorgridcolor\":\"white\",\"startlinecolor\":\"#2a3f5f\"},\"baxis\":{\"endlinecolor\":\"#2a3f5f\",\"gridcolor\":\"white\",\"linecolor\":\"white\",\"minorgridcolor\":\"white\",\"startlinecolor\":\"#2a3f5f\"},\"type\":\"carpet\"}],\"choropleth\":[{\"colorbar\":{\"outlinewidth\":0,\"ticks\":\"\"},\"type\":\"choropleth\"}],\"contour\":[{\"colorbar\":{\"outlinewidth\":0,\"ticks\":\"\"},\"colorscale\":[[0.0,\"#0d0887\"],[0.1111111111111111,\"#46039f\"],[0.2222222222222222,\"#7201a8\"],[0.3333333333333333,\"#9c179e\"],[0.4444444444444444,\"#bd3786\"],[0.5555555555555556,\"#d8576b\"],[0.6666666666666666,\"#ed7953\"],[0.7777777777777778,\"#fb9f3a\"],[0.8888888888888888,\"#fdca26\"],[1.0,\"#f0f921\"]],\"type\":\"contour\"}],\"contourcarpet\":[{\"colorbar\":{\"outlinewidth\":0,\"ticks\":\"\"},\"type\":\"contourcarpet\"}],\"heatmap\":[{\"colorbar\":{\"outlinewidth\":0,\"ticks\":\"\"},\"colorscale\":[[0.0,\"#0d0887\"],[0.1111111111111111,\"#46039f\"],[0.2222222222222222,\"#7201a8\"],[0.3333333333333333,\"#9c179e\"],[0.4444444444444444,\"#bd3786\"],[0.5555555555555556,\"#d8576b\"],[0.6666666666666666,\"#ed7953\"],[0.7777777777777778,\"#fb9f3a\"],[0.8888888888888888,\"#fdca26\"],[1.0,\"#f0f921\"]],\"type\":\"heatmap\"}],\"heatmapgl\":[{\"colorbar\":{\"outlinewidth\":0,\"ticks\":\"\"},\"colorscale\":[[0.0,\"#0d0887\"],[0.1111111111111111,\"#46039f\"],[0.2222222222222222,\"#7201a8\"],[0.3333333333333333,\"#9c179e\"],[0.4444444444444444,\"#bd3786\"],[0.5555555555555556,\"#d8576b\"],[0.6666666666666666,\"#ed7953\"],[0.7777777777777778,\"#fb9f3a\"],[0.8888888888888888,\"#fdca26\"],[1.0,\"#f0f921\"]],\"type\":\"heatmapgl\"}],\"histogram\":[{\"marker\":{\"pattern\":{\"fillmode\":\"overlay\",\"size\":10,\"solidity\":0.2}},\"type\":\"histogram\"}],\"histogram2d\":[{\"colorbar\":{\"outlinewidth\":0,\"ticks\":\"\"},\"colorscale\":[[0.0,\"#0d0887\"],[0.1111111111111111,\"#46039f\"],[0.2222222222222222,\"#7201a8\"],[0.3333333333333333,\"#9c179e\"],[0.4444444444444444,\"#bd3786\"],[0.5555555555555556,\"#d8576b\"],[0.6666666666666666,\"#ed7953\"],[0.7777777777777778,\"#fb9f3a\"],[0.8888888888888888,\"#fdca26\"],[1.0,\"#f0f921\"]],\"type\":\"histogram2d\"}],\"histogram2dcontour\":[{\"colorbar\":{\"outlinewidth\":0,\"ticks\":\"\"},\"colorscale\":[[0.0,\"#0d0887\"],[0.1111111111111111,\"#46039f\"],[0.2222222222222222,\"#7201a8\"],[0.3333333333333333,\"#9c179e\"],[0.4444444444444444,\"#bd3786\"],[0.5555555555555556,\"#d8576b\"],[0.6666666666666666,\"#ed7953\"],[0.7777777777777778,\"#fb9f3a\"],[0.8888888888888888,\"#fdca26\"],[1.0,\"#f0f921\"]],\"type\":\"histogram2dcontour\"}],\"mesh3d\":[{\"colorbar\":{\"outlinewidth\":0,\"ticks\":\"\"},\"type\":\"mesh3d\"}],\"parcoords\":[{\"line\":{\"colorbar\":{\"outlinewidth\":0,\"ticks\":\"\"}},\"type\":\"parcoords\"}],\"pie\":[{\"automargin\":true,\"type\":\"pie\"}],\"scatter\":[{\"marker\":{\"colorbar\":{\"outlinewidth\":0,\"ticks\":\"\"}},\"type\":\"scatter\"}],\"scatter3d\":[{\"line\":{\"colorbar\":{\"outlinewidth\":0,\"ticks\":\"\"}},\"marker\":{\"colorbar\":{\"outlinewidth\":0,\"ticks\":\"\"}},\"type\":\"scatter3d\"}],\"scattercarpet\":[{\"marker\":{\"colorbar\":{\"outlinewidth\":0,\"ticks\":\"\"}},\"type\":\"scattercarpet\"}],\"scattergeo\":[{\"marker\":{\"colorbar\":{\"outlinewidth\":0,\"ticks\":\"\"}},\"type\":\"scattergeo\"}],\"scattergl\":[{\"marker\":{\"colorbar\":{\"outlinewidth\":0,\"ticks\":\"\"}},\"type\":\"scattergl\"}],\"scattermapbox\":[{\"marker\":{\"colorbar\":{\"outlinewidth\":0,\"ticks\":\"\"}},\"type\":\"scattermapbox\"}],\"scatterpolar\":[{\"marker\":{\"colorbar\":{\"outlinewidth\":0,\"ticks\":\"\"}},\"type\":\"scatterpolar\"}],\"scatterpolargl\":[{\"marker\":{\"colorbar\":{\"outlinewidth\":0,\"ticks\":\"\"}},\"type\":\"scatterpolargl\"}],\"scatterternary\":[{\"marker\":{\"colorbar\":{\"outlinewidth\":0,\"ticks\":\"\"}},\"type\":\"scatterternary\"}],\"surface\":[{\"colorbar\":{\"outlinewidth\":0,\"ticks\":\"\"},\"colorscale\":[[0.0,\"#0d0887\"],[0.1111111111111111,\"#46039f\"],[0.2222222222222222,\"#7201a8\"],[0.3333333333333333,\"#9c179e\"],[0.4444444444444444,\"#bd3786\"],[0.5555555555555556,\"#d8576b\"],[0.6666666666666666,\"#ed7953\"],[0.7777777777777778,\"#fb9f3a\"],[0.8888888888888888,\"#fdca26\"],[1.0,\"#f0f921\"]],\"type\":\"surface\"}],\"table\":[{\"cells\":{\"fill\":{\"color\":\"#EBF0F8\"},\"line\":{\"color\":\"white\"}},\"header\":{\"fill\":{\"color\":\"#C8D4E3\"},\"line\":{\"color\":\"white\"}},\"type\":\"table\"}]},\"layout\":{\"annotationdefaults\":{\"arrowcolor\":\"#2a3f5f\",\"arrowhead\":0,\"arrowwidth\":1},\"autotypenumbers\":\"strict\",\"coloraxis\":{\"colorbar\":{\"outlinewidth\":0,\"ticks\":\"\"}},\"colorscale\":{\"diverging\":[[0,\"#8e0152\"],[0.1,\"#c51b7d\"],[0.2,\"#de77ae\"],[0.3,\"#f1b6da\"],[0.4,\"#fde0ef\"],[0.5,\"#f7f7f7\"],[0.6,\"#e6f5d0\"],[0.7,\"#b8e186\"],[0.8,\"#7fbc41\"],[0.9,\"#4d9221\"],[1,\"#276419\"]],\"sequential\":[[0.0,\"#0d0887\"],[0.1111111111111111,\"#46039f\"],[0.2222222222222222,\"#7201a8\"],[0.3333333333333333,\"#9c179e\"],[0.4444444444444444,\"#bd3786\"],[0.5555555555555556,\"#d8576b\"],[0.6666666666666666,\"#ed7953\"],[0.7777777777777778,\"#fb9f3a\"],[0.8888888888888888,\"#fdca26\"],[1.0,\"#f0f921\"]],\"sequentialminus\":[[0.0,\"#0d0887\"],[0.1111111111111111,\"#46039f\"],[0.2222222222222222,\"#7201a8\"],[0.3333333333333333,\"#9c179e\"],[0.4444444444444444,\"#bd3786\"],[0.5555555555555556,\"#d8576b\"],[0.6666666666666666,\"#ed7953\"],[0.7777777777777778,\"#fb9f3a\"],[0.8888888888888888,\"#fdca26\"],[1.0,\"#f0f921\"]]},\"colorway\":[\"#636efa\",\"#EF553B\",\"#00cc96\",\"#ab63fa\",\"#FFA15A\",\"#19d3f3\",\"#FF6692\",\"#B6E880\",\"#FF97FF\",\"#FECB52\"],\"font\":{\"color\":\"#2a3f5f\"},\"geo\":{\"bgcolor\":\"white\",\"lakecolor\":\"white\",\"landcolor\":\"#E5ECF6\",\"showlakes\":true,\"showland\":true,\"subunitcolor\":\"white\"},\"hoverlabel\":{\"align\":\"left\"},\"hovermode\":\"closest\",\"mapbox\":{\"style\":\"light\"},\"paper_bgcolor\":\"white\",\"plot_bgcolor\":\"#E5ECF6\",\"polar\":{\"angularaxis\":{\"gridcolor\":\"white\",\"linecolor\":\"white\",\"ticks\":\"\"},\"bgcolor\":\"#E5ECF6\",\"radialaxis\":{\"gridcolor\":\"white\",\"linecolor\":\"white\",\"ticks\":\"\"}},\"scene\":{\"xaxis\":{\"backgroundcolor\":\"#E5ECF6\",\"gridcolor\":\"white\",\"gridwidth\":2,\"linecolor\":\"white\",\"showbackground\":true,\"ticks\":\"\",\"zerolinecolor\":\"white\"},\"yaxis\":{\"backgroundcolor\":\"#E5ECF6\",\"gridcolor\":\"white\",\"gridwidth\":2,\"linecolor\":\"white\",\"showbackground\":true,\"ticks\":\"\",\"zerolinecolor\":\"white\"},\"zaxis\":{\"backgroundcolor\":\"#E5ECF6\",\"gridcolor\":\"white\",\"gridwidth\":2,\"linecolor\":\"white\",\"showbackground\":true,\"ticks\":\"\",\"zerolinecolor\":\"white\"}},\"shapedefaults\":{\"line\":{\"color\":\"#2a3f5f\"}},\"ternary\":{\"aaxis\":{\"gridcolor\":\"white\",\"linecolor\":\"white\",\"ticks\":\"\"},\"baxis\":{\"gridcolor\":\"white\",\"linecolor\":\"white\",\"ticks\":\"\"},\"bgcolor\":\"#E5ECF6\",\"caxis\":{\"gridcolor\":\"white\",\"linecolor\":\"white\",\"ticks\":\"\"}},\"title\":{\"x\":0.05},\"xaxis\":{\"automargin\":true,\"gridcolor\":\"white\",\"linecolor\":\"white\",\"ticks\":\"\",\"title\":{\"standoff\":15},\"zerolinecolor\":\"white\",\"zerolinewidth\":2},\"yaxis\":{\"automargin\":true,\"gridcolor\":\"white\",\"linecolor\":\"white\",\"ticks\":\"\",\"title\":{\"standoff\":15},\"zerolinecolor\":\"white\",\"zerolinewidth\":2}}}},                        {\"responsive\": true}                    ).then(function(){\n",
       "                            \n",
       "var gd = document.getElementById('e873eda0-ec81-4bb6-b067-21bfb5b1e48d');\n",
       "var x = new MutationObserver(function (mutations, observer) {{\n",
       "        var display = window.getComputedStyle(gd).display;\n",
       "        if (!display || display === 'none') {{\n",
       "            console.log([gd, 'removed!']);\n",
       "            Plotly.purge(gd);\n",
       "            observer.disconnect();\n",
       "        }}\n",
       "}});\n",
       "\n",
       "// Listen for the removal of the full notebook cells\n",
       "var notebookContainer = gd.closest('#notebook-container');\n",
       "if (notebookContainer) {{\n",
       "    x.observe(notebookContainer, {childList: true});\n",
       "}}\n",
       "\n",
       "// Listen for the clearing of the current output cell\n",
       "var outputEl = gd.closest('.output');\n",
       "if (outputEl) {{\n",
       "    x.observe(outputEl, {childList: true});\n",
       "}}\n",
       "\n",
       "                        })                };                });            </script>        </div>"
      ]
     },
     "metadata": {},
     "output_type": "display_data"
    }
   ],
   "source": [
    "fig = px.choropleth(rstable2,\n",
    "                    locations='State',\n",
    "                    color='residual_squared',\n",
    "                    color_continuous_scale='Viridis',\n",
    "                    hover_name='State',\n",
    "                    locationmode='USA-states',\n",
    "                    scope='usa')\n",
    "\n",
    "fig.show()"
   ]
  },
  {
   "cell_type": "code",
   "execution_count": null,
   "id": "f8513421",
   "metadata": {},
   "outputs": [],
   "source": []
  },
  {
   "cell_type": "code",
   "execution_count": 53,
   "id": "03792a5e",
   "metadata": {},
   "outputs": [],
   "source": [
    "# filename='Lasso-nonauto-allfeat'\n",
    "# feature_importances.to_csv(f'models/features_{filename}.csv')\n",
    "# rstable.to_csv(f'models/residuals_{filename}.csv')"
   ]
  },
  {
   "cell_type": "code",
   "execution_count": null,
   "id": "620f0a2e",
   "metadata": {},
   "outputs": [],
   "source": []
  },
  {
   "cell_type": "code",
   "execution_count": null,
   "id": "01f9e2c7",
   "metadata": {},
   "outputs": [],
   "source": []
  },
  {
   "cell_type": "code",
   "execution_count": null,
   "id": "7270180d",
   "metadata": {},
   "outputs": [],
   "source": []
  },
  {
   "cell_type": "code",
   "execution_count": null,
   "id": "e22c710b",
   "metadata": {},
   "outputs": [],
   "source": []
  },
  {
   "cell_type": "code",
   "execution_count": null,
   "id": "53c5ec87",
   "metadata": {},
   "outputs": [],
   "source": []
  },
  {
   "cell_type": "code",
   "execution_count": null,
   "id": "cd6a875c",
   "metadata": {},
   "outputs": [],
   "source": []
  },
  {
   "cell_type": "code",
   "execution_count": null,
   "id": "c070e559",
   "metadata": {},
   "outputs": [],
   "source": []
  },
  {
   "cell_type": "code",
   "execution_count": null,
   "id": "77c82064",
   "metadata": {},
   "outputs": [],
   "source": []
  },
  {
   "cell_type": "code",
   "execution_count": null,
   "id": "f240fd73",
   "metadata": {},
   "outputs": [],
   "source": []
  },
  {
   "cell_type": "code",
   "execution_count": null,
   "id": "34ec21a3",
   "metadata": {},
   "outputs": [],
   "source": []
  },
  {
   "cell_type": "code",
   "execution_count": null,
   "id": "80211ac5",
   "metadata": {},
   "outputs": [],
   "source": []
  },
  {
   "cell_type": "code",
   "execution_count": null,
   "id": "889425a9",
   "metadata": {},
   "outputs": [],
   "source": []
  },
  {
   "cell_type": "code",
   "execution_count": null,
   "id": "e530db86",
   "metadata": {},
   "outputs": [],
   "source": []
  },
  {
   "cell_type": "code",
   "execution_count": 46,
   "id": "f5548e56",
   "metadata": {},
   "outputs": [
    {
     "ename": "NameError",
     "evalue": "name 'zri3' is not defined",
     "output_type": "error",
     "traceback": [
      "\u001b[0;31m---------------------------------------------------------------------------\u001b[0m",
      "\u001b[0;31mNameError\u001b[0m                                 Traceback (most recent call last)",
      "\u001b[0;32m<ipython-input-46-bd8c979d5936>\u001b[0m in \u001b[0;36m<module>\u001b[0;34m\u001b[0m\n\u001b[0;32m----> 1\u001b[0;31m \u001b[0mtestmonths\u001b[0m\u001b[0;34m=\u001b[0m\u001b[0mlist\u001b[0m\u001b[0;34m(\u001b[0m\u001b[0mzri3\u001b[0m\u001b[0;34m[\u001b[0m\u001b[0;34m(\u001b[0m\u001b[0mzri3\u001b[0m\u001b[0;34m[\u001b[0m\u001b[0;34m'year-month'\u001b[0m\u001b[0;34m]\u001b[0m\u001b[0;34m>\u001b[0m\u001b[0;34m'2018-12'\u001b[0m\u001b[0;34m)\u001b[0m \u001b[0;34m&\u001b[0m \u001b[0;34m(\u001b[0m\u001b[0mzri3\u001b[0m\u001b[0;34m[\u001b[0m\u001b[0;34m'year-month'\u001b[0m\u001b[0;34m]\u001b[0m\u001b[0;34m<=\u001b[0m\u001b[0;34m'2019-12'\u001b[0m\u001b[0;34m)\u001b[0m\u001b[0;34m]\u001b[0m\u001b[0;34m[\u001b[0m\u001b[0;34m'year-month'\u001b[0m\u001b[0;34m]\u001b[0m\u001b[0;34m.\u001b[0m\u001b[0mdrop_duplicates\u001b[0m\u001b[0;34m(\u001b[0m\u001b[0;34m)\u001b[0m\u001b[0;34m)\u001b[0m\u001b[0;34m\u001b[0m\u001b[0;34m\u001b[0m\u001b[0m\n\u001b[0m\u001b[1;32m      2\u001b[0m \u001b[0;34m\u001b[0m\u001b[0m\n\u001b[1;32m      3\u001b[0m \u001b[0mR2_test\u001b[0m\u001b[0;34m=\u001b[0m\u001b[0mzri3\u001b[0m\u001b[0;34m[\u001b[0m\u001b[0;34m(\u001b[0m\u001b[0mzri3\u001b[0m\u001b[0;34m[\u001b[0m\u001b[0;34m'year-month'\u001b[0m\u001b[0;34m]\u001b[0m\u001b[0;34m>\u001b[0m\u001b[0;34m'2018-12'\u001b[0m\u001b[0;34m)\u001b[0m \u001b[0;34m&\u001b[0m \u001b[0;34m(\u001b[0m\u001b[0mzri3\u001b[0m\u001b[0;34m[\u001b[0m\u001b[0;34m'year-month'\u001b[0m\u001b[0;34m]\u001b[0m\u001b[0;34m<=\u001b[0m\u001b[0;34m'2019-12'\u001b[0m\u001b[0;34m)\u001b[0m\u001b[0;34m]\u001b[0m\u001b[0;34m[\u001b[0m\u001b[0;34m[\u001b[0m\u001b[0;34m'ZRI_scaled'\u001b[0m\u001b[0;34m,\u001b[0m\u001b[0;34m'year-month'\u001b[0m\u001b[0;34m]\u001b[0m\u001b[0;34m]\u001b[0m\u001b[0;34m\u001b[0m\u001b[0;34m\u001b[0m\u001b[0m\n\u001b[1;32m      4\u001b[0m \u001b[0mR2_test\u001b[0m\u001b[0;34m[\u001b[0m\u001b[0;34m'ZRI_result'\u001b[0m\u001b[0;34m]\u001b[0m\u001b[0;34m=\u001b[0m\u001b[0;36m0\u001b[0m\u001b[0;34m\u001b[0m\u001b[0;34m\u001b[0m\u001b[0m\n\u001b[1;32m      5\u001b[0m \u001b[0;34m\u001b[0m\u001b[0m\n",
      "\u001b[0;31mNameError\u001b[0m: name 'zri3' is not defined"
     ]
    }
   ],
   "source": [
    "testmonths=list(zri3[(zri3['year-month']>'2018-12') & (zri3['year-month']<='2019-12')]['year-month'].drop_duplicates())\n",
    "\n",
    "R2_test=zri3[(zri3['year-month']>'2018-12') & (zri3['year-month']<='2019-12')][['ZRI_scaled','year-month']]\n",
    "R2_test['ZRI_result']=0\n",
    "\n",
    "for i,month in enumerate(testmonths):\n",
    "    R2_test.loc[R2_test['year-month']==month,'ZRI_result']=list(zri3.loc[zri3['year-month']=='2018-12','ZRI_scaled'].apply(lambda x: x*(1+i*0.002)))\n",
    "\n",
    "RSME_null=(sum((R2_test['ZRI_scaled']-R2_test['ZRI_result'])**2)/len(R2_test))**0.5\n",
    "RSME_null\n"
   ]
  },
  {
   "cell_type": "code",
   "execution_count": null,
   "id": "2aec7e56",
   "metadata": {},
   "outputs": [],
   "source": [
    "zips=rstable['RegionName'].unique()[0:10]"
   ]
  },
  {
   "cell_type": "code",
   "execution_count": null,
   "id": "c01cf2f9",
   "metadata": {},
   "outputs": [],
   "source": [
    "px.line(rstable[rstable['RegionName'].isin(zips)], y=['ZRI_scaled_x','ZRI_scaled_y'],x='year-month', color='RegionName')"
   ]
  },
  {
   "cell_type": "code",
   "execution_count": null,
   "id": "2b939b4f",
   "metadata": {},
   "outputs": [],
   "source": [
    "zips=zri3['RegionName'].unique()[0:5]\n",
    "px.line(zri3[zri3['RegionName'].isin(zips)], y=['ZRI_scaled'],x='year-month', color='RegionName')"
   ]
  },
  {
   "cell_type": "code",
   "execution_count": null,
   "id": "fb54728f",
   "metadata": {},
   "outputs": [],
   "source": []
  }
 ],
 "metadata": {
  "kernelspec": {
   "display_name": "Python 3",
   "language": "python",
   "name": "python3"
  },
  "language_info": {
   "codemirror_mode": {
    "name": "ipython",
    "version": 3
   },
   "file_extension": ".py",
   "mimetype": "text/x-python",
   "name": "python",
   "nbconvert_exporter": "python",
   "pygments_lexer": "ipython3",
   "version": "3.8.8"
  }
 },
 "nbformat": 4,
 "nbformat_minor": 5
}
